{
 "cells": [
  {
   "cell_type": "code",
   "execution_count": 1,
   "id": "daf855a7",
   "metadata": {},
   "outputs": [],
   "source": [
    "using Gmsh: gmsh\n",
    "using Gridap\n",
    "using Gridap.Fields\n",
    "using Gridap.CellData\n",
    "using Gridap.TensorValues\n",
    "using Gridap.ReferenceFEs\n",
    "using Gridap.Geometry\n",
    "using GridapGmsh\n",
    "using SparseArrays\n",
    "using MinFEM\n",
    "using WriteVTK"
   ]
  },
  {
   "cell_type": "code",
   "execution_count": 2,
   "id": "b3d126d1",
   "metadata": {},
   "outputs": [
    {
     "data": {
      "text/plain": [
       "0.0001"
      ]
     },
     "execution_count": 2,
     "metadata": {},
     "output_type": "execute_result"
    }
   ],
   "source": [
    "σ₀ = 10e3\n",
    "h = 3e-2\n",
    "hf = h/200\n",
    "hfc = h/200\n",
    "Lₚ = 1.0\n",
    "Hₚ = 1.0\n",
    "cw = 0.125\n",
    "ch = 1e-4"
   ]
  },
  {
   "cell_type": "code",
   "execution_count": 3,
   "id": "809257da",
   "metadata": {},
   "outputs": [
    {
     "name": "stdout",
     "output_type": "stream",
     "text": [
      "Info    : Meshing 1D...\n",
      "Info    : [  0%] Meshing curve 1 (Line)\n",
      "Info    : [ 20%] Meshing curve 2 (Line)\n",
      "Info    : [ 30%] Meshing curve 3 (Line)\n",
      "Info    : [ 40%] Meshing curve 4 (Line)\n",
      "Info    : [ 50%] Meshing curve 5 (Line)\n",
      "Info    : [ 70%] Meshing curve 6 (Line)\n",
      "Info    : [ 80%] Meshing curve 7 (Line)\n",
      "Info    : [ 90%] Meshing curve 8 (Line)\n",
      "Info    : Done meshing 1D (Wall 0.00127749s, CPU 0.001159s)\n",
      "Info    : Meshing 2D...\n",
      "Info    : Meshing surface 1 (Plane, Frontal-Delaunay)\n",
      "Info    : Done meshing 2D (Wall 1.81391s, CPU 1.79815s)\n",
      "Info    : 59613 nodes 119234 elements\n",
      "Info    : Writing 'PlateWithCrack.msh'...\n",
      "Info    : Done writing 'PlateWithCrack.msh'\n"
     ]
    },
    {
     "name": "stderr",
     "output_type": "stream",
     "text": [
      "Warning : Unknown entity of dimension 2 and tag 1 in physical group 1\n",
      "Warning : Unknown entity of dimension 1 and tag 1 in physical group 1\n",
      "Warning : Unknown entity of dimension 1 and tag 3 in physical group 2\n",
      "Warning : Unknown entity of dimension 1 and tag 1 in physical group 3\n",
      "Warning : Unknown entity of dimension 1 and tag 3 in physical group 4\n"
     ]
    }
   ],
   "source": [
    "gmsh.initialize()\n",
    "gmsh.option.setNumber(\"General.Terminal\", 1)\n",
    "gmsh.model.geo.addPoint(0.0, 0.0, 0.0, h, 1)\n",
    "gmsh.model.geo.addPoint(Lₚ, 0.0, 0.0, h, 2)\n",
    "gmsh.model.geo.addPoint(Lₚ, Hₚ, 0.0, h, 3)\n",
    "gmsh.model.geo.addPoint(0, Hₚ, 0.0, h, 4)\n",
    "gmsh.model.geo.addLine(1, 2, 1)\n",
    "gmsh.model.geo.addLine(2, 3, 2)\n",
    "gmsh.model.geo.addLine(3, 4, 3)\n",
    "gmsh.model.geo.addLine(4, 1, 4)\n",
    "gmsh.model.geo.addCurveLoop([3,4,1,2],1)\n",
    "gmsh.model.addPhysicalGroup(2, [1],1)\n",
    "\n",
    "gmsh.model.geo.addPoint(Lₚ/2-cw, Hₚ/2-ch, 0, hfc, 5)\n",
    "gmsh.model.geo.addPoint(Lₚ/2+cw, Hₚ/2-ch, 0, hfc, 6)\n",
    "gmsh.model.geo.addPoint(Lₚ/2+cw, Hₚ/2+ch, 0, hfc, 7)\n",
    "gmsh.model.geo.addPoint(Lₚ/2-cw, Hₚ/2+ch, 0, hfc, 8)\n",
    "gmsh.model.geo.addLine(5, 6, 5)\n",
    "gmsh.model.geo.addLine(6, 7, 6)\n",
    "gmsh.model.geo.addLine(7, 8, 7)\n",
    "gmsh.model.geo.addLine(8, 5, 8)\n",
    "gmsh.model.geo.addCurveLoop([5,6,7,8],2)\n",
    "\n",
    "gmsh.model.geo.addPlaneSurface([2,-1], 1)\n",
    "\n",
    "gmsh.model.addPhysicalGroup(1, [1],1)\n",
    "gmsh.model.addPhysicalGroup(1, [3],2)\n",
    "gmsh.model.addPhysicalGroup(1, [1],3)\n",
    "gmsh.model.addPhysicalGroup(1, [3],4)\n",
    "gmsh.model.setPhysicalName(2, 1, \"PlateDomain\")\n",
    "\n",
    "gmsh.model.setPhysicalName(1, 1, \"DirichletBot\")\n",
    "gmsh.model.setPhysicalName(1, 2, \"NeumannTop\")\n",
    "gmsh.model.setPhysicalName(1, 3, \"ElectricPotentialBot\"),\n",
    "gmsh.model.setPhysicalName(1, 4, \"ElectricPotentialTop\")\n",
    "\n",
    "\n",
    "gmsh.model.mesh.field.add(\"Box\", 11)\n",
    "gmsh.model.mesh.field.setNumber(11, \"VIn\", hf)\n",
    "gmsh.model.mesh.field.setNumber(11, \"VOut\", h)\n",
    "gmsh.model.mesh.field.setNumber(11, \"XMin\", 0.35*Lₚ)\n",
    "gmsh.model.mesh.field.setNumber(11, \"XMax\", 0.45*Lₚ)\n",
    "gmsh.model.mesh.field.setNumber(11, \"YMin\", Hₚ/2-10*ch)\n",
    "gmsh.model.mesh.field.setNumber(11, \"YMax\", Hₚ/2+10*ch)\n",
    "\n",
    "gmsh.model.mesh.field.add(\"Box\", 12)\n",
    "gmsh.model.mesh.field.setNumber(12, \"VIn\", hf)\n",
    "gmsh.model.mesh.field.setNumber(12, \"VOut\", h)\n",
    "gmsh.model.mesh.field.setNumber(12, \"XMin\", 0.55*Lₚ)\n",
    "gmsh.model.mesh.field.setNumber(12, \"XMax\", 0.65*Lₚ)\n",
    "gmsh.model.mesh.field.setNumber(12, \"YMin\",Hₚ/2-10*ch)\n",
    "gmsh.model.mesh.field.setNumber(12, \"YMax\",Hₚ/2+10*ch)\n",
    "\n",
    "\n",
    "gmsh.model.mesh.field.add(\"Min\",13)\n",
    "gmsh.model.mesh.field.setNumbers(13, \"FieldsList\",[11,12])\n",
    "gmsh.model.mesh.field.setAsBackgroundMesh(13)\n",
    "\n",
    "gmsh.model.geo.synchronize()\n",
    "gmsh.model.mesh.generate(2)\n",
    "gmsh.write(\"PlateWithCrack.msh\")\n",
    "gmsh.finalize()"
   ]
  },
  {
   "cell_type": "code",
   "execution_count": 4,
   "id": "150ad60c",
   "metadata": {},
   "outputs": [
    {
     "name": "stdout",
     "output_type": "stream",
     "text": [
      "Info    : Reading 'PlateWithCrack.msh'...\n",
      "Info    : 17 entities\n",
      "Info    : 59613 nodes\n",
      "Info    : 115820 elements\n",
      "Info    : [ 10%] Reading elements                                          \r",
      "Info    : [ 10%] Reading elements                                          \r",
      "Info    : [ 20%] Reading elements                                          \r",
      "Info    : [ 20%] Reading elements                                          \r",
      "Info    : [ 30%] Reading elements                                          \r",
      "Info    : [ 30%] Reading elements                                          \r",
      "Info    : [ 40%] Reading elements                                          \r",
      "Info    : [ 40%] Reading elements                                          \r",
      "Info    : [ 50%] Reading elements                                          \r",
      "Info    : [ 50%] Reading elements                                          \r",
      "Info    : [ 60%] Reading elements                                          \r",
      "Info    : [ 60%] Reading elements                                          \r",
      "Info    : [ 70%] Reading elements                                          \r",
      "Info    : [ 70%] Reading elements                                          \r",
      "Info    : [ 80%] Reading elements                                          \r",
      "Info    : [ 80%] Reading elements                                          \r",
      "Info    : [ 90%] Reading elements                                          \r",
      "Info    : [ 90%] Reading elements                                          \r",
      "Info    : [100%] Reading elements                                          \r",
      "                                          \r",
      "Info    : Done reading 'PlateWithCrack.msh'\n"
     ]
    },
    {
     "data": {
      "text/plain": [
       "3-element Vector{Vector{String}}:\n",
       " [\"PlateWithCrack_0.vtu\"]\n",
       " [\"PlateWithCrack_1.vtu\"]\n",
       " [\"PlateWithCrack_2.vtu\"]"
      ]
     },
     "execution_count": 4,
     "metadata": {},
     "output_type": "execute_result"
    }
   ],
   "source": [
    "model = GmshDiscreteModel(\"PlateWithCrack.msh\")\n",
    "writevtk(model,\"PlateWithCrack\")"
   ]
  },
  {
   "cell_type": "markdown",
   "id": "e777fd9c",
   "metadata": {},
   "source": [
    "### Extracting Cell Points"
   ]
  },
  {
   "cell_type": "code",
   "execution_count": 5,
   "id": "b8952ba7",
   "metadata": {},
   "outputs": [
    {
     "data": {
      "text/plain": [
       "Measure()"
      ]
     },
     "execution_count": 5,
     "metadata": {},
     "output_type": "execute_result"
    }
   ],
   "source": [
    "order = 1\n",
    "degree = 2*order\n",
    "Ω = Triangulation(model)\n",
    "dΩ = Measure(Ω,degree)"
   ]
  },
  {
   "cell_type": "markdown",
   "id": "2e32b37c",
   "metadata": {},
   "source": [
    "## Input paramters for Piezo-Electric Material Properties"
   ]
  },
  {
   "cell_type": "markdown",
   "id": "78e769ed",
   "metadata": {},
   "source": [
    "#### Input elasticity parameters"
   ]
  },
  {
   "cell_type": "code",
   "execution_count": 6,
   "id": "4ed65b7a",
   "metadata": {},
   "outputs": [
    {
     "data": {
      "text/plain": [
       "4706.268061776081"
      ]
     },
     "execution_count": 6,
     "metadata": {},
     "output_type": "execute_result"
    }
   ],
   "source": [
    "const C₁₁_mat = 6169.748542074788    \n",
    "const C₁₂_mat = 2187.5197773010586\n",
    "const C₃₃_mat = 4706.268061776081"
   ]
  },
  {
   "cell_type": "markdown",
   "id": "2cf17d2b",
   "metadata": {},
   "source": [
    "#### Input piezo-electric parameters"
   ]
  },
  {
   "cell_type": "code",
   "execution_count": 7,
   "id": "7ca60ccf",
   "metadata": {},
   "outputs": [
    {
     "data": {
      "text/plain": [
       "-26.05513083777709"
      ]
     },
     "execution_count": 7,
     "metadata": {},
     "output_type": "execute_result"
    }
   ],
   "source": [
    "const d₁₁_mat = 0.3786790184902753\n",
    "const d₂₁_mat = 16.22380033695789\n",
    "const d₂₂_mat = 1.3583605887764245\n",
    "const d₂₃_mat = -26.05513083777709"
   ]
  },
  {
   "cell_type": "markdown",
   "id": "f563b497",
   "metadata": {},
   "source": [
    "#### Input permitivity parameters"
   ]
  },
  {
   "cell_type": "code",
   "execution_count": 8,
   "id": "98e05e8d",
   "metadata": {},
   "outputs": [
    {
     "data": {
      "text/plain": [
       "102.03528320699911"
      ]
     },
     "execution_count": 8,
     "metadata": {},
     "output_type": "execute_result"
    }
   ],
   "source": [
    "const a₁₁_mat = 108.57870447032307\n",
    "const a₂₂_mat = 102.03528320699911"
   ]
  },
  {
   "cell_type": "markdown",
   "id": "72532139",
   "metadata": {},
   "source": [
    "## Constitutive Matrices"
   ]
  },
  {
   "cell_type": "markdown",
   "id": "9be0755d",
   "metadata": {},
   "source": [
    "### Elastic stiffness tensor"
   ]
  },
  {
   "cell_type": "code",
   "execution_count": 9,
   "id": "5a4110bf",
   "metadata": {},
   "outputs": [
    {
     "data": {
      "text/plain": [
       "SymFourthOrderTensorValue{2, Float64, 9}(6169.748542074788, 0.0, 2187.5197773010586, 0.0, 4706.268061776081, 0.0, 2187.5197773010586, 0.0, 6169.748542074788)"
      ]
     },
     "execution_count": 9,
     "metadata": {},
     "output_type": "execute_result"
    }
   ],
   "source": [
    "function ElasFourthOrderConstTensor(C₁₁,C₁₂,C₃₃)\n",
    "      C1111 = C₁₁\n",
    "      C1122 = C₁₂\n",
    "      C1112 = 0.0\n",
    "      C2222 = C₁₁\n",
    "      C2212 = 0.0\n",
    "      C1212 = C₃₃    \n",
    "      C_ten = SymFourthOrderTensorValue(C1111,C1112,C1122,C1112,C1212,C2212,C1122,C2212,C2222)\n",
    "    return  C_ten\n",
    "end\n",
    "const C_mat = ElasFourthOrderConstTensor(C₁₁_mat,C₁₂_mat,C₃₃_mat)"
   ]
  },
  {
   "cell_type": "markdown",
   "id": "1aa4e388",
   "metadata": {},
   "source": [
    "### Third order piezoelectric tensor"
   ]
  },
  {
   "cell_type": "code",
   "execution_count": 10,
   "id": "56f54ef9",
   "metadata": {},
   "outputs": [
    {
     "data": {
      "text/plain": [
       "ThirdOrderTensorValue{2, 2, 2, Float64, 8}(0.3786790184902753, 16.22380033695789, 0.0, -26.05513083777709, 0.0, -26.05513083777709, 0.0, 1.3583605887764245)"
      ]
     },
     "execution_count": 10,
     "metadata": {},
     "output_type": "execute_result"
    }
   ],
   "source": [
    "function PiezoThirdOrderConstTensor(d₁₁,d₂₁,d₂₂,d₂₃)\n",
    "    # 1 for Plane Stress and 2 Plane Strain Condition \n",
    "      e111 = d₁₁\n",
    "      e112 = 0.0\n",
    "      e121 = 0.0\n",
    "      e122 = 0.0\n",
    "      e211 = d₂₁\n",
    "      e212 = d₂₃\n",
    "      e221 = d₂₃\n",
    "      e222 = d₂₂   \n",
    "    vals = zeros(2,2,2);\n",
    "    vals[1,:,:] .= [e111 e112\n",
    "                    e121 e122]\n",
    "    vals[2,:,:] .= [e211 e212\n",
    "                    e221 e222]\n",
    "    e_ten = ThirdOrderTensorValue(vals ...)\n",
    "    return  e_ten\n",
    "end\n",
    "const d_mat = PiezoThirdOrderConstTensor(d₁₁_mat,d₂₁_mat,d₂₂_mat,d₂₃_mat)"
   ]
  },
  {
   "cell_type": "code",
   "execution_count": 11,
   "id": "cebf7584",
   "metadata": {},
   "outputs": [
    {
     "data": {
      "text/plain": [
       "TensorValue{2, 2, Float64, 4}(108.57870447032307, 0.0, 0.0, 102.03528320699911)"
      ]
     },
     "execution_count": 11,
     "metadata": {},
     "output_type": "execute_result"
    }
   ],
   "source": [
    "const a_mat = TensorValue(a₁₁_mat,0.0,0.0, a₂₂_mat)"
   ]
  },
  {
   "cell_type": "markdown",
   "id": "dce4033b",
   "metadata": {},
   "source": [
    "## Stress\n",
    "$\\sigma_{elas}(\\epsilon(\\boldsymbol{u})) =  \\mathbb{C}\\,\\boldsymbol{\\epsilon}$\n",
    "\n",
    "$\\sigma_{piezo}(\\nabla\\phi) =  \\boldsymbol{d}^T\\,\\boldsymbol{\\nabla}\\phi$"
   ]
  },
  {
   "cell_type": "code",
   "execution_count": 12,
   "id": "8ba844f7",
   "metadata": {},
   "outputs": [
    {
     "data": {
      "text/plain": [
       "σ_piezo (generic function with 1 method)"
      ]
     },
     "execution_count": 12,
     "metadata": {},
     "output_type": "execute_result"
    }
   ],
   "source": [
    "σ_elas(ε) = C_mat ⊙ ε\n",
    "\n",
    "σ_piezo(∇) = ∇ ⋅ d_mat"
   ]
  },
  {
   "cell_type": "markdown",
   "id": "31d62092",
   "metadata": {},
   "source": [
    "## Electric Displacement\n",
    "$\\boldsymbol{D}_{elas}(\\epsilon(\\boldsymbol{u})) =  \\boldsymbol{d}\\boldsymbol{\\epsilon}$\n",
    "\n",
    "$\\boldsymbol{D}_{piezo}(\\nabla\\phi)  = \\boldsymbol{K}\\boldsymbol{\\nabla} \\phi$"
   ]
  },
  {
   "cell_type": "code",
   "execution_count": 13,
   "id": "af37c5c3",
   "metadata": {},
   "outputs": [
    {
     "data": {
      "text/plain": [
       "D_piezo (generic function with 1 method)"
      ]
     },
     "execution_count": 13,
     "metadata": {},
     "output_type": "execute_result"
    }
   ],
   "source": [
    "D_elas(ε) = d_mat ⋅² ε\n",
    "\n",
    "D_piezo(∇) = ∇ ⋅ a_mat "
   ]
  },
  {
   "cell_type": "markdown",
   "id": "38b27313",
   "metadata": {},
   "source": [
    "## FE formulation"
   ]
  },
  {
   "cell_type": "code",
   "execution_count": 14,
   "id": "6b8d8a46",
   "metadata": {},
   "outputs": [
    {
     "data": {
      "text/plain": [
       "project (generic function with 1 method)"
      ]
     },
     "execution_count": 14,
     "metadata": {},
     "output_type": "execute_result"
    }
   ],
   "source": [
    "function project(q,model,dΩ,order)\n",
    "  reffe = ReferenceFE(lagrangian,Float64,order)\n",
    "  V = FESpace(model,reffe,conformity=:L2)\n",
    "  a(u,v) = ∫( u*v )*dΩ\n",
    "  l(v) = ∫( v*q )*dΩ #+ ∫( v*h )*dΓ\n",
    "  op = AffineFEOperator(a,l,V,V)\n",
    "  qh = Gridap.solve(op)\n",
    "  qh\n",
    "end"
   ]
  },
  {
   "cell_type": "code",
   "execution_count": 15,
   "id": "4c670e42",
   "metadata": {},
   "outputs": [
    {
     "data": {
      "text/plain": [
       "VectorValue{2, Float64}(0.0, 10000.0)"
      ]
     },
     "execution_count": 15,
     "metadata": {},
     "output_type": "execute_result"
    }
   ],
   "source": [
    "Γ = BoundaryTriangulation(model,tags=[\"NeumannTop\"])\n",
    "dΓ = Measure(Γ,degree)\n",
    "σApp = VectorValue{2,Float64}(0,σ₀)"
   ]
  },
  {
   "cell_type": "code",
   "execution_count": 16,
   "id": "0bbaa570",
   "metadata": {
    "scrolled": true
   },
   "outputs": [],
   "source": [
    "labels = get_face_labeling(model)\n",
    "dimension = 2\n",
    "mat_tags = get_face_tag(labels,dimension);"
   ]
  },
  {
   "cell_type": "code",
   "execution_count": 17,
   "id": "7b232c12",
   "metadata": {},
   "outputs": [
    {
     "data": {
      "text/plain": [
       "SingleFieldFEFunction():\n",
       " num_cells: 115752\n",
       " DomainStyle: ReferenceDomain()\n",
       " Triangulation: BodyFittedTriangulation()\n",
       " Triangulation id: 2887847690310603155"
      ]
     },
     "execution_count": 17,
     "metadata": {},
     "output_type": "execute_result"
    }
   ],
   "source": [
    "reffe_Disp = ReferenceFE(lagrangian,VectorValue{2,Float64},order)\n",
    "        V0_Disp = TestFESpace(model,reffe_Disp;\n",
    "          conformity=:H1,\n",
    "          dirichlet_tags=[\"DirichletBot\"],\n",
    "          dirichlet_masks=[(false,true)])\n",
    "\n",
    "uh = zero(V0_Disp)"
   ]
  },
  {
   "cell_type": "code",
   "execution_count": 18,
   "id": "c3aac14e",
   "metadata": {},
   "outputs": [
    {
     "data": {
      "text/plain": [
       "UnconstrainedFESpace()"
      ]
     },
     "execution_count": 18,
     "metadata": {},
     "output_type": "execute_result"
    }
   ],
   "source": [
    "reffe_ElecPot = ReferenceFE(lagrangian,Float64,order)\n",
    "V0_ElecPot  = TestFESpace(model,reffe_ElecPot;\n",
    "  conformity=:H1,\n",
    "  dirichlet_tags=[\"ElectricPotentialBot\",\"ElectricPotentialTop\"],\n",
    "  dirichlet_masks=[true,true])"
   ]
  },
  {
   "cell_type": "code",
   "execution_count": 19,
   "id": "d39b1380",
   "metadata": {},
   "outputs": [
    {
     "data": {
      "text/plain": [
       "MultiFieldFESpace()"
      ]
     },
     "execution_count": 19,
     "metadata": {},
     "output_type": "execute_result"
    }
   ],
   "source": [
    "V0 = MultiFieldFESpace([V0_Disp,V0_ElecPot])"
   ]
  },
  {
   "cell_type": "code",
   "execution_count": 20,
   "id": "6fe23f95",
   "metadata": {},
   "outputs": [
    {
     "data": {
      "text/plain": [
       "stepDispElecPot (generic function with 1 method)"
      ]
     },
     "execution_count": 20,
     "metadata": {},
     "output_type": "execute_result"
    }
   ],
   "source": [
    " function   stepDispElecPot(uh_in,phih_in,vApp,phiApp)\n",
    "    \n",
    "        uApp1(x) = VectorValue(vApp,0.0)\n",
    "        U_Disp = TrialFESpace(V0_Disp,[uApp1])\n",
    "    \n",
    "        phiApp1(x) = phiApp\n",
    "        phiApp2(x) = 0\n",
    "        U_ElecPot = TrialFESpace(V0_ElecPot,[phiApp1,phiApp2])\n",
    "    \n",
    "        U = MultiFieldFESpace([U_Disp,U_ElecPot])\n",
    "    \n",
    "        a((u,ϕ),(v,ψ)) = ∫( (ε(v) ⊙ (σ_elas∘(ε(u)))) + (∇(v) ⊙ (σ_piezo∘(∇(ϕ)))) - (∇(ψ)⋅(D_piezo∘(∇(ϕ)))) + (∇(ψ)⋅(D_elas∘(ε(u)))) )*dΩ\n",
    "        b((v,ψ)) = ∫( v⋅σApp )*dΓ\n",
    "    \n",
    "        op = AffineFEOperator(a,b,U,V0)\n",
    "        uhPhi = Gridap.solve(op)\n",
    "        uh_out,phih_out = uhPhi\n",
    "    \n",
    "    return uh_out,phih_out\n",
    "end"
   ]
  },
  {
   "cell_type": "code",
   "execution_count": 21,
   "id": "d88cf90f",
   "metadata": {},
   "outputs": [
    {
     "data": {
      "text/plain": [
       "(SingleFieldFEFunction(), SingleFieldFEFunction())"
      ]
     },
     "execution_count": 21,
     "metadata": {},
     "output_type": "execute_result"
    }
   ],
   "source": [
    "vApp = 0.0\n",
    "phiApp = 0.0\n",
    "ϕPrev = CellState(0.0,dΩ)\n",
    "ϕh = project(ϕPrev,model,dΩ,order)\n",
    " \n",
    "uh,ϕh = stepDispElecPot(uh,ϕh,vApp,phiApp)"
   ]
  },
  {
   "cell_type": "code",
   "execution_count": 22,
   "id": "e23bb8aa",
   "metadata": {},
   "outputs": [
    {
     "data": {
      "text/plain": [
       "([\"results_PlateWithHoleA3.vtu\"],)"
      ]
     },
     "execution_count": 22,
     "metadata": {},
     "output_type": "execute_result"
    }
   ],
   "source": [
    " writevtk(Ω,\"results_PlateWithHoleA3\",cellfields=\n",
    "        [\"uh\"=>uh,\"phi\"=>ϕh, \"epsi\"=>ε(uh), \"ElecF\"=>-∇(ϕh), \"SigmaE\"=>(σ_elas∘(ε(uh)))])"
   ]
  },
  {
   "cell_type": "code",
   "execution_count": 23,
   "id": "98fc5dd8",
   "metadata": {},
   "outputs": [],
   "source": [
    "using Gridap.CellData\n",
    "using Gridap.Fields\n",
    "using Gridap.Arrays\n",
    "using Gridap.Geometry\n",
    "using Gridap.FESpaces\n",
    "using Gridap.ReferenceFEs\n",
    "using Gridap.MultiField\n",
    "using Gridap.Polynomials\n",
    "using Gridap.Algebra\n",
    "using Gridap.TensorValues\n",
    "using Gridap.Helpers\n",
    "using WriteVTK\n",
    "using PyPlot"
   ]
  },
  {
   "cell_type": "markdown",
   "id": "a746bcac",
   "metadata": {},
   "source": [
    "### Extract values of Displacement , Strain and Stress components"
   ]
  },
  {
   "cell_type": "code",
   "execution_count": 24,
   "id": "25997750",
   "metadata": {},
   "outputs": [],
   "source": [
    "Gr = get_grid(model)\n",
    "GrTop = get_grid_topology(model)\n",
    "PolyType = get_polytopes(model);"
   ]
  },
  {
   "cell_type": "code",
   "execution_count": 25,
   "id": "256c5dec",
   "metadata": {},
   "outputs": [],
   "source": [
    "FeSp = get_fe_space(uh)\n",
    "get_cell_dof_ids(FeSp);"
   ]
  },
  {
   "cell_type": "code",
   "execution_count": 26,
   "id": "8c8f1a95",
   "metadata": {},
   "outputs": [],
   "source": [
    "Nₑ = num_cells(model)\n",
    "elem = get_cell_node_ids(Gr);"
   ]
  },
  {
   "cell_type": "code",
   "execution_count": 27,
   "id": "2d7c44d6",
   "metadata": {},
   "outputs": [],
   "source": [
    "uv = get_cell_dof_values(uh)\n",
    "uv[1];"
   ]
  },
  {
   "cell_type": "code",
   "execution_count": 28,
   "id": "8248f407",
   "metadata": {},
   "outputs": [],
   "source": [
    "u1El = [uv[i][1:3] for i in 1:Nₑ]\n",
    "u2El = [uv[i][4:6] for i in 1:Nₑ];"
   ]
  },
  {
   "cell_type": "code",
   "execution_count": 29,
   "id": "27c23c92",
   "metadata": {},
   "outputs": [],
   "source": [
    "nodes = get_node_coordinates(Gr)\n",
    "Nₙ = num_nodes(model)\n",
    "nodeCoordX = [nodes[i][1] for i in 1:Nₙ]\n",
    "nodeCoordY = [nodes[i][2] for i in 1:Nₙ];"
   ]
  },
  {
   "cell_type": "code",
   "execution_count": 30,
   "id": "b9385e30",
   "metadata": {},
   "outputs": [],
   "source": [
    "u1 = zeros(Nₙ,1)\n",
    "u2 = zeros(Nₙ,1)\n",
    "for iel in 1:Nₑ\n",
    "    ElNodeIndx = elem[iel]\n",
    "    u1[ElNodeIndx,1] = u1El[iel]\n",
    "    u2[ElNodeIndx,1] = u2El[iel]\n",
    "end"
   ]
  },
  {
   "cell_type": "code",
   "execution_count": 31,
   "id": "95131957",
   "metadata": {},
   "outputs": [],
   "source": [
    "dataStrain = get_array(ε(uh))\n",
    "ϵVec = return_value(dataStrain,Point(nodeCoordX[1],nodeCoordY[1]))\n",
    "ϵ11El = [ϵVec[i][1,1] for i in 1:Nₑ] \n",
    "ϵ12El = [ϵVec[i][1,2] for i in 1:Nₑ] \n",
    "ϵ22El = [ϵVec[i][1,3] for i in 1:Nₑ];"
   ]
  },
  {
   "cell_type": "code",
   "execution_count": 32,
   "id": "b6587a14",
   "metadata": {},
   "outputs": [],
   "source": [
    "dataStress = get_data(σ_elas∘(ε(uh)))\n",
    "σVec = return_value(dataStress,Point(nodeCoordX[1],nodeCoordY[1]))\n",
    "σ11E = [σVec[i][1,1] for i in 1:Nₑ] \n",
    "σ12E = [σVec[i][1,2] for i in 1:Nₑ] \n",
    "σ22E = [σVec[i][1,3] for i in 1:Nₑ];"
   ]
  },
  {
   "cell_type": "code",
   "execution_count": 33,
   "id": "bb6dac8a",
   "metadata": {},
   "outputs": [],
   "source": [
    "dataStressp = get_data(σ_piezo∘(-∇(ϕh)))\n",
    "PVec = return_value(dataStressp,Point(nodeCoordX[1],nodeCoordY[1]))\n",
    "P11El = [PVec[i][1] for i in 1:Nₑ] \n",
    "P12El = [PVec[i][2] for i in 1:Nₑ] \n",
    "P21El = [PVec[i][3] for i in 1:Nₑ]\n",
    "P22El = [PVec[i][4] for i in 1:Nₑ];"
   ]
  },
  {
   "cell_type": "code",
   "execution_count": 34,
   "id": "98ecb5e5",
   "metadata": {},
   "outputs": [],
   "source": [
    "σ11El = σ11E + P11El\n",
    "σ12El = σ12E + P12El\n",
    "σ22El = σ22E + P22El;"
   ]
  },
  {
   "cell_type": "code",
   "execution_count": 35,
   "id": "78543cf5",
   "metadata": {},
   "outputs": [],
   "source": [
    "dataDisp = get_data(D_elas∘(ε(uh)))\n",
    "DVec = return_value(dataDisp,Point(nodeCoordX[1],nodeCoordY[1]))\n",
    "D11E = [DVec[i][1] for i in 1:Nₑ] \n",
    "D22E = [DVec[i][2] for i in 1:Nₑ];"
   ]
  },
  {
   "cell_type": "code",
   "execution_count": 36,
   "id": "5d39c025",
   "metadata": {},
   "outputs": [],
   "source": [
    "dataDisp1 = get_data(D_piezo∘(∇(-ϕh)))\n",
    "AVec = return_value(dataDisp1,Point(nodeCoordX[1],nodeCoordY[1]))\n",
    "a11El = [AVec[i][1] for i in 1:Nₑ] \n",
    "a22El = [AVec[i][2] for i in 1:Nₑ];"
   ]
  },
  {
   "cell_type": "code",
   "execution_count": 37,
   "id": "b44752b0",
   "metadata": {},
   "outputs": [],
   "source": [
    "D11El = D11E + a11El\n",
    "D22El = D22E + a22El;"
   ]
  },
  {
   "cell_type": "code",
   "execution_count": 38,
   "id": "9dbe2ea8",
   "metadata": {},
   "outputs": [],
   "source": [
    "ϵ11 = zeros(Nₙ,1)\n",
    "ϵ22 = zeros(Nₙ,1)\n",
    "ϵ12 = zeros(Nₙ,1)\n",
    "σ11 = zeros(Nₙ,1)\n",
    "σ22 = zeros(Nₙ,1)\n",
    "σ12 = zeros(Nₙ,1)\n",
    "D11 = zeros(Nₙ,1)\n",
    "D22 = zeros(Nₙ,1)\n",
    "for iel in 1:Nₑ\n",
    "    ElNodeIndx = elem[iel]\n",
    "    ϵ11[ElNodeIndx,1] = ϵ11El[iel]*ones(3,1)\n",
    "    ϵ12[ElNodeIndx,1] = ϵ12El[iel]*ones(3,1)\n",
    "    ϵ22[ElNodeIndx,1] = ϵ22El[iel]*ones(3,1)\n",
    "    σ11[ElNodeIndx,1] = σ11El[iel]*ones(3,1)\n",
    "    σ12[ElNodeIndx,1] = σ12El[iel]*ones(3,1)\n",
    "    σ22[ElNodeIndx,1] = σ22El[iel]*ones(3,1)\n",
    "    D11[ElNodeIndx,1] = D11El[iel]*ones(3,1)\n",
    "    D22[ElNodeIndx,1] = D22El[iel]*ones(3,1)\n",
    "end"
   ]
  },
  {
   "cell_type": "code",
   "execution_count": 39,
   "id": "ccffcbb4",
   "metadata": {},
   "outputs": [
    {
     "data": {
      "text/plain": [
       "1-element Vector{String}:\n",
       " \"./ResultsPlateWithHoleCompA3.vtu\""
      ]
     },
     "execution_count": 39,
     "metadata": {},
     "output_type": "execute_result"
    }
   ],
   "source": [
    "cell = MeshCell(VTKCellTypes.VTK_TRIANGLE, elem[1])\n",
    "for iel in 2:Nₑ\n",
    "c = MeshCell(VTKCellTypes.VTK_TRIANGLE, elem[iel])\n",
    "cell = [cell; c]\n",
    "end\n",
    "vtk_grid(\"./ResultsPlateWithHoleCompA3\",nodeCoordX,nodeCoordY,cell) do vtk \n",
    "vtk[\"u\", VTKPointData()] = u1\n",
    "vtk[\"v\", VTKPointData()] = u2  \n",
    "vtk[\"eps11\", VTKPointData()] = ϵ11\n",
    "vtk[\"eps22\", VTKPointData()] = ϵ22\n",
    "vtk[\"eps12\", VTKPointData()] = ϵ12\n",
    "vtk[\"NormStr11\", VTKPointData()] = σ11/σ₀\n",
    "vtk[\"NormStr22\", VTKPointData()] = σ22/σ₀\n",
    "vtk[\"NormStr12\", VTKPointData()] = σ12/σ₀\n",
    "vtk[\"NormPot11\", VTKPointData()] = D11\n",
    "vtk[\"NormPot22\", VTKPointData()] = D22\n",
    "end"
   ]
  },
  {
   "cell_type": "code",
   "execution_count": 40,
   "id": "931a252f",
   "metadata": {},
   "outputs": [
    {
     "data": {
      "text/plain": [
       "52.86623777978461"
      ]
     },
     "execution_count": 40,
     "metadata": {},
     "output_type": "execute_result"
    }
   ],
   "source": [
    "maximum(σ22)/σ₀"
   ]
  }
 ],
 "metadata": {
  "kernelspec": {
   "display_name": "Julia 1.8.1",
   "language": "julia",
   "name": "julia-1.8"
  },
  "language_info": {
   "file_extension": ".jl",
   "mimetype": "application/julia",
   "name": "julia",
   "version": "1.8.1"
  }
 },
 "nbformat": 4,
 "nbformat_minor": 5
}
