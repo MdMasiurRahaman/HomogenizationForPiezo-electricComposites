{
 "cells": [
  {
   "cell_type": "code",
   "execution_count": 1,
   "id": "efe3a9c3",
   "metadata": {},
   "outputs": [],
   "source": [
    "using SymPy\n",
    "using Plots"
   ]
  },
  {
   "cell_type": "code",
   "execution_count": 2,
   "id": "4545c86e",
   "metadata": {},
   "outputs": [
    {
     "data": {
      "text/plain": [
       "(C₁₁ᵢ, C₁₂ᵢ, C₂₂ᵢ, d₁₁ᵢ, d₁₂ᵢ, d₁₃ᵢ, d₂₁ᵢ, d₂₂ᵢ, d₂₃ᵢ, a₁₁ᵢ, a₂₂ᵢ)"
      ]
     },
     "execution_count": 2,
     "metadata": {},
     "output_type": "execute_result"
    }
   ],
   "source": [
    "x,x₁,y,y₁,r,r₁ = symbols(\"x,x₁,y,y₁,r,r₁\", real = true)\n",
    "E,v= symbols(\"E,v\", real = true)\n",
    "C₁₁ₘ,C₁₂ₘ,C₂₂ₘ,d₁₁ₘ,d₁₂ₘ,d₁₃ₘ,d₂₁ₘ,d₂₂ₘ,d₂₃ₘ,a₁₁ₘ,a₂₂ₘ = symbols(\"C₁₁ₘ,C₁₂ₘ,C₂₂ₘ,d₁₁ₘ,d₁₂ₘ,d₁₃ₘ,d₂₁ₘ,d₂₂ₘ,d₂₃ₘ,a₁₁ₘ,a₂₂ₘ\", real = true)\n",
    "C₁₁ᵢ,C₁₂ᵢ,C₂₂ᵢ,d₁₁ᵢ,d₁₂ᵢ,d₁₃ᵢ,d₂₁ᵢ,d₂₂ᵢ,d₂₃ᵢ,a₁₁ᵢ,a₂₂ᵢ = symbols(\"C₁₁ᵢ,C₁₂ᵢ,C₂₂ᵢ,d₁₁ᵢ,d₁₂ᵢ,d₁₃ᵢ,d₂₁ᵢ,d₂₂ᵢ,d₂₃ᵢ,a₁₁ᵢ,a₂₂ᵢ\", real = true)"
   ]
  },
  {
   "cell_type": "code",
   "execution_count": 3,
   "id": "54b83480",
   "metadata": {},
   "outputs": [
    {
     "data": {
      "text/latex": [
       "$0.516397779494322$"
      ],
      "text/plain": [
       "0.516397779494322"
      ]
     },
     "execution_count": 3,
     "metadata": {},
     "output_type": "execute_result"
    }
   ],
   "source": [
    "A = 0.2\n",
    "Eq = (3*(x^2))/4 - A\n",
    "p = abs(solve(Eq,x)[1])"
   ]
  },
  {
   "cell_type": "code",
   "execution_count": 4,
   "id": "935c58ae",
   "metadata": {},
   "outputs": [
    {
     "data": {
      "text/plain": [
       "0.01"
      ]
     },
     "execution_count": 4,
     "metadata": {},
     "output_type": "execute_result"
    }
   ],
   "source": [
    "Eₘ = 2450\n",
    "vₘ = 0.34\n",
    "Eᵢ = 170000\n",
    "vᵢ = 0.25\n",
    "hₛ = 0.01"
   ]
  },
  {
   "cell_type": "code",
   "execution_count": 5,
   "id": "1bad7bce",
   "metadata": {},
   "outputs": [
    {
     "data": {
      "text/latex": [
       "$68000.0$"
      ],
      "text/plain": [
       "68000.0000000000"
      ]
     },
     "execution_count": 5,
     "metadata": {},
     "output_type": "execute_result"
    }
   ],
   "source": [
    "λ = (E*v)/((1 + v) * (1 - 2*v))\n",
    "λₘ = simplify(λ(E=>Eₘ,v=>vₘ))\n",
    "λᵢ = simplify(λ(E=>Eᵢ,v=>vᵢ))"
   ]
  },
  {
   "cell_type": "code",
   "execution_count": 6,
   "id": "de9ec9d8",
   "metadata": {},
   "outputs": [
    {
     "data": {
      "text/latex": [
       "$136000.0$"
      ],
      "text/plain": [
       "136000.000000000"
      ]
     },
     "execution_count": 6,
     "metadata": {},
     "output_type": "execute_result"
    }
   ],
   "source": [
    "G = E/((1 + v))\n",
    "Gₘ = simplify(G(E=>Eₘ,v=>vₘ))\n",
    "Gᵢ = simplify(G(E=>Eᵢ,v=>vᵢ))"
   ]
  },
  {
   "cell_type": "code",
   "execution_count": 7,
   "id": "9fd2ae84",
   "metadata": {},
   "outputs": [
    {
     "data": {
      "text/latex": [
       "$3770.98880597015$"
      ],
      "text/plain": [
       "3770.98880597015"
      ]
     },
     "execution_count": 7,
     "metadata": {},
     "output_type": "execute_result"
    }
   ],
   "source": [
    "C₁₁ₘ = λₘ + Gₘ"
   ]
  },
  {
   "cell_type": "code",
   "execution_count": 8,
   "id": "4df6e0ee",
   "metadata": {},
   "outputs": [
    {
     "data": {
      "text/latex": [
       "$204000.0$"
      ],
      "text/plain": [
       "204000.000000000"
      ]
     },
     "execution_count": 8,
     "metadata": {},
     "output_type": "execute_result"
    }
   ],
   "source": [
    "C₁₁ᵢ = λᵢ + Gᵢ"
   ]
  },
  {
   "cell_type": "code",
   "execution_count": 9,
   "id": "421f3375",
   "metadata": {},
   "outputs": [
    {
     "data": {
      "text/latex": [
       "$0.258198889747161$"
      ],
      "text/plain": [
       "0.258198889747161"
      ]
     },
     "execution_count": 9,
     "metadata": {},
     "output_type": "execute_result"
    }
   ],
   "source": [
    "lₘₓ = 1\n",
    "lₐ₁ₙ = p\n",
    "lₙₓ = p/2"
   ]
  },
  {
   "cell_type": "code",
   "execution_count": 10,
   "id": "0cea7096",
   "metadata": {},
   "outputs": [
    {
     "data": {
      "text/plain": [
       "interval (generic function with 1 method)"
      ]
     },
     "execution_count": 10,
     "metadata": {},
     "output_type": "execute_result"
    }
   ],
   "source": [
    "heaviside(x) = 0.5 * (sign(x) + 1)\n",
    "\n",
    "interval(x, a, b) = heaviside(x-a) - heaviside(x-b)"
   ]
  },
  {
   "cell_type": "code",
   "execution_count": 11,
   "id": "1bae0201",
   "metadata": {},
   "outputs": [
    {
     "data": {
      "text/plain": [
       "E1y (generic function with 1 method)"
      ]
     },
     "execution_count": 11,
     "metadata": {},
     "output_type": "execute_result"
    }
   ],
   "source": [
    "E1x(x,ax,bx) = sqrt(C₁₁ᵢ - C₁₁ₘ) * interval(x,ax,bx) \n",
    "E1y(y,ay,by) = sqrt(C₁₁ᵢ - C₁₁ₘ) * interval(y,ay,by) "
   ]
  },
  {
   "cell_type": "code",
   "execution_count": 12,
   "id": "7335c287",
   "metadata": {},
   "outputs": [
    {
     "data": {
      "text/plain": [
       "wₕ (generic function with 1 method)"
      ]
     },
     "execution_count": 12,
     "metadata": {},
     "output_type": "execute_result"
    }
   ],
   "source": [
    "wₕ(x,x₁) = (1/(sqrt(2*pi)*hₛ))*exp(-(x-x₁)^2/(2*hₛ^2))"
   ]
  },
  {
   "cell_type": "code",
   "execution_count": 13,
   "id": "1c7800fa",
   "metadata": {},
   "outputs": [
    {
     "data": {
      "text/latex": [
       "$39.8942280401433 \\left(- 223.734782272465 \\operatorname{sign}{\\left(x₁ - 0.516397779494322 \\right)} + 223.734782272465 \\operatorname{sign}{\\left(x₁ + 0.516397779494322 \\right)}\\right) e^{- 5000.0 \\left(x - x₁\\right)^{2}}$"
      ],
      "text/plain": [
       "                                                                              \n",
       "                                                                              \n",
       "39.8942280401433⋅(-223.734782272465⋅sign(x₁ - 0.516397779494322) + 223.7347822\n",
       "\n",
       "                                                     2\n",
       "                                     -5000.0⋅(x - x₁) \n",
       "72465⋅sign(x₁ + 0.516397779494322))⋅ℯ                 "
      ]
     },
     "execution_count": 13,
     "metadata": {},
     "output_type": "execute_result"
    }
   ],
   "source": [
    "IFx1 = E1x(x₁,-lₙₓ,lₙₓ)*wₕ(x,x₁)\n",
    "IFx2 = E1x(x₁,-lₐ₁ₙ,lₐ₁ₙ)*wₕ(x,x₁)"
   ]
  },
  {
   "cell_type": "code",
   "execution_count": 14,
   "id": "d01bde6e",
   "metadata": {},
   "outputs": [
    {
     "data": {
      "text/latex": [
       "$39.8942280401433 \\left(- 223.734782272465 \\operatorname{sign}{\\left(y₁ - 0.516397779494322 \\right)} + 223.734782272465 \\operatorname{sign}{\\left(y₁ - 0.258198889747161 \\right)}\\right) e^{- 5000.0 \\left(y - y₁\\right)^{2}}$"
      ],
      "text/plain": [
       "                                                                              \n",
       "                                                                              \n",
       "39.8942280401433⋅(-223.734782272465⋅sign(y₁ - 0.516397779494322) + 223.7347822\n",
       "\n",
       "                                                     2\n",
       "                                     -5000.0⋅(y - y₁) \n",
       "72465⋅sign(y₁ - 0.258198889747161))⋅ℯ                 "
      ]
     },
     "execution_count": 14,
     "metadata": {},
     "output_type": "execute_result"
    }
   ],
   "source": [
    "IFy1 = E1y(y₁,-lₙₓ,lₙₓ)*wₕ(y,y₁)\n",
    "IFy2 = E1y(y₁,-lₐ₁ₙ,-lₙₓ)*wₕ(y,y₁)\n",
    "IFy3 = E1y(y₁,lₙₓ,lₐ₁ₙ)*wₕ(y,y₁)"
   ]
  },
  {
   "cell_type": "code",
   "execution_count": 15,
   "id": "3d970a0b",
   "metadata": {
    "scrolled": true
   },
   "outputs": [
    {
     "data": {
      "text/latex": [
       "$\\left(- 126.22883363545 \\sqrt{\\pi} \\operatorname{erf}{\\left(70.7106781186548 x - 18.2574185835055 \\right)} + 126.22883363545 \\sqrt{\\pi} \\operatorname{erf}{\\left(70.7106781186548 x + 18.2574185835055 \\right)}\\right) \\left(- 126.22883363545 \\sqrt{\\pi} \\operatorname{erf}{\\left(70.7106781186548 y - 36.5148371670111 \\right)} + 126.22883363545 \\sqrt{\\pi} \\operatorname{erf}{\\left(70.7106781186548 y - 18.2574185835055 \\right)}\\right)$"
      ],
      "text/plain": [
       "(-126.22883363545⋅√π⋅erf(70.7106781186548⋅x - 18.2574185835055) + 126.22883363\n",
       "545⋅√π⋅erf(70.7106781186548⋅x + 18.2574185835055))⋅(-126.22883363545⋅√π⋅erf(70\n",
       ".7106781186548⋅y - 36.5148371670111) + 126.22883363545⋅√π⋅erf(70.7106781186548\n",
       "⋅y - 18.2574185835055))"
      ]
     },
     "execution_count": 15,
     "metadata": {},
     "output_type": "execute_result"
    }
   ],
   "source": [
    "smoothE1 = integrate(IFx2,(x₁,-lₘₓ,lₘₓ))*integrate(IFy1,(y₁,-lₘₓ,lₘₓ))\n",
    "smoothE2 = integrate(IFx1,(x₁,-lₘₓ,lₘₓ))*integrate(IFy2,(y₁,-lₘₓ,lₘₓ))\n",
    "smoothE3 = integrate(IFx1,(x₁,-lₘₓ,lₘₓ))*integrate(IFy3,(y₁,-lₘₓ,lₘₓ))"
   ]
  },
  {
   "cell_type": "code",
   "execution_count": 16,
   "id": "d45e100e",
   "metadata": {
    "scrolled": true
   },
   "outputs": [
    {
     "data": {
      "text/latex": [
       "$\\left(- 126.22883363545 \\sqrt{\\pi} \\operatorname{erf}{\\left(70.7106781186548 x - 36.5148371670111 \\right)} + 126.22883363545 \\sqrt{\\pi} \\operatorname{erf}{\\left(70.7106781186548 x + 36.5148371670111 \\right)}\\right) \\left(- 126.22883363545 \\sqrt{\\pi} \\operatorname{erf}{\\left(70.7106781186548 y - 18.2574185835055 \\right)} + 126.22883363545 \\sqrt{\\pi} \\operatorname{erf}{\\left(70.7106781186548 y + 18.2574185835055 \\right)}\\right) + \\left(- 126.22883363545 \\sqrt{\\pi} \\operatorname{erf}{\\left(70.7106781186548 x - 18.2574185835055 \\right)} + 126.22883363545 \\sqrt{\\pi} \\operatorname{erf}{\\left(70.7106781186548 x + 18.2574185835055 \\right)}\\right) \\left(- 126.22883363545 \\sqrt{\\pi} \\operatorname{erf}{\\left(70.7106781186548 y - 36.5148371670111 \\right)} + 126.22883363545 \\sqrt{\\pi} \\operatorname{erf}{\\left(70.7106781186548 y - 18.2574185835055 \\right)}\\right) + \\left(- 126.22883363545 \\sqrt{\\pi} \\operatorname{erf}{\\left(70.7106781186548 x - 18.2574185835055 \\right)} + 126.22883363545 \\sqrt{\\pi} \\operatorname{erf}{\\left(70.7106781186548 x + 18.2574185835055 \\right)}\\right) \\left(- 126.22883363545 \\sqrt{\\pi} \\operatorname{erf}{\\left(70.7106781186548 y + 18.2574185835055 \\right)} + 126.22883363545 \\sqrt{\\pi} \\operatorname{erf}{\\left(70.7106781186548 y + 36.5148371670111 \\right)}\\right) + 3770.98880597015$"
      ],
      "text/plain": [
       "(-126.22883363545⋅√π⋅erf(70.7106781186548⋅x - 36.5148371670111) + 126.22883363\n",
       "545⋅√π⋅erf(70.7106781186548⋅x + 36.5148371670111))⋅(-126.22883363545⋅√π⋅erf(70\n",
       ".7106781186548⋅y - 18.2574185835055) + 126.22883363545⋅√π⋅erf(70.7106781186548\n",
       "⋅y + 18.2574185835055)) + (-126.22883363545⋅√π⋅erf(70.7106781186548⋅x - 18.257\n",
       "4185835055) + 126.22883363545⋅√π⋅erf(70.7106781186548⋅x + 18.2574185835055))⋅(\n",
       "-126.22883363545⋅√π⋅erf(70.7106781186548⋅y - 36.5148371670111) + 126.228833635\n",
       "45⋅√π⋅erf(70.7106781186548⋅y - 18.2574185835055)) + (-126.22883363545⋅√π⋅erf(7\n",
       "0.7106781186548⋅x - 18.2574185835055) + 126.22883363545⋅√π⋅erf(70.710678118654\n",
       "8⋅x + 18.2574185835055))⋅(-126.22883363545⋅√π⋅erf(70.7106781186548⋅y + 18.2574\n",
       "185835055) + 126.22883363545⋅√π⋅erf(70.7106781186548⋅y + 36.5148371670111)) + \n",
       "3770.98880597015"
      ]
     },
     "execution_count": 16,
     "metadata": {},
     "output_type": "execute_result"
    }
   ],
   "source": [
    "C₁₁₁₁ = smoothE1 + smoothE2 + smoothE3 + C₁₁ₘ"
   ]
  },
  {
   "cell_type": "code",
   "execution_count": 17,
   "id": "8dc06d93",
   "metadata": {},
   "outputs": [
    {
     "data": {
      "text/latex": [
       "$\\left(- 223.734782272465 \\operatorname{sign}{\\left(x₁ - 0.516397779494322 \\right)} + 223.734782272465 \\operatorname{sign}{\\left(x₁ + 0.516397779494322 \\right)}\\right) \\left(- 223.734782272465 \\operatorname{sign}{\\left(y₁ - 0.258198889747161 \\right)} + 223.734782272465 \\operatorname{sign}{\\left(y₁ + 0.258198889747161 \\right)}\\right) + \\left(- 223.734782272465 \\operatorname{sign}{\\left(x₁ - 0.258198889747161 \\right)} + 223.734782272465 \\operatorname{sign}{\\left(x₁ + 0.258198889747161 \\right)}\\right) \\left(- 223.734782272465 \\operatorname{sign}{\\left(y₁ - 0.516397779494322 \\right)} + 223.734782272465 \\operatorname{sign}{\\left(y₁ - 0.258198889747161 \\right)}\\right) + \\left(- 223.734782272465 \\operatorname{sign}{\\left(x₁ - 0.258198889747161 \\right)} + 223.734782272465 \\operatorname{sign}{\\left(x₁ + 0.258198889747161 \\right)}\\right) \\left(- 223.734782272465 \\operatorname{sign}{\\left(y₁ + 0.258198889747161 \\right)} + 223.734782272465 \\operatorname{sign}{\\left(y₁ + 0.516397779494322 \\right)}\\right) + 3770.98880597015$"
      ],
      "text/plain": [
       "(-223.734782272465⋅sign(x₁ - 0.516397779494322) + 223.734782272465⋅sign(x₁ + 0\n",
       ".516397779494322))⋅(-223.734782272465⋅sign(y₁ - 0.258198889747161) + 223.73478\n",
       "2272465⋅sign(y₁ + 0.258198889747161)) + (-223.734782272465⋅sign(x₁ - 0.2581988\n",
       "89747161) + 223.734782272465⋅sign(x₁ + 0.258198889747161))⋅(-223.734782272465⋅\n",
       "sign(y₁ - 0.516397779494322) + 223.734782272465⋅sign(y₁ - 0.258198889747161)) \n",
       "+ (-223.734782272465⋅sign(x₁ - 0.258198889747161) + 223.734782272465⋅sign(x₁ +\n",
       " 0.258198889747161))⋅(-223.734782272465⋅sign(y₁ + 0.258198889747161) + 223.734\n",
       "782272465⋅sign(y₁ + 0.516397779494322)) + 3770.98880597015"
      ]
     },
     "execution_count": 17,
     "metadata": {},
     "output_type": "execute_result"
    }
   ],
   "source": [
    "Ediscont1 = E1x(x₁,-lₐ₁ₙ,lₐ₁ₙ)*E1y(y₁,-lₙₓ,lₙₓ)\n",
    "Ediscont2 = E1x(x₁,-lₙₓ,lₙₓ)*E1y(y₁,-lₐ₁ₙ,-lₙₓ)\n",
    "Ediscont3 = E1x(x₁,-lₙₓ,lₙₓ)*E1y(y₁,lₙₓ,lₐ₁ₙ)\n",
    "Ediscont = Ediscont1 + Ediscont2 + Ediscont3 + C₁₁ₘ"
   ]
  },
  {
   "cell_type": "code",
   "execution_count": 18,
   "id": "f53cd767",
   "metadata": {},
   "outputs": [
    {
     "data": {
      "image/svg+xml": [
       "<?xml version=\"1.0\" encoding=\"utf-8\"?>\n",
       "<svg xmlns=\"http://www.w3.org/2000/svg\" xmlns:xlink=\"http://www.w3.org/1999/xlink\" width=\"600\" height=\"400\" viewBox=\"0 0 2400 1600\">\n",
       "<defs>\n",
       "  <clipPath id=\"clip670\">\n",
       "    <rect x=\"0\" y=\"0\" width=\"2400\" height=\"1600\"/>\n",
       "  </clipPath>\n",
       "</defs>\n",
       "<path clip-path=\"url(#clip670)\" d=\"\n",
       "M0 1600 L2400 1600 L2400 0 L0 0  Z\n",
       "  \" fill=\"#ffffff\" fill-rule=\"evenodd\" fill-opacity=\"1\"/>\n",
       "<defs>\n",
       "  <clipPath id=\"clip671\">\n",
       "    <rect x=\"480\" y=\"0\" width=\"1681\" height=\"1600\"/>\n",
       "  </clipPath>\n",
       "</defs>\n",
       "<defs>\n",
       "  <clipPath id=\"clip672\">\n",
       "    <rect x=\"47\" y=\"292\" width=\"747\" height=\"1016\"/>\n",
       "  </clipPath>\n",
       "</defs>\n",
       "<path clip-path=\"url(#clip672)\" d=\"\n",
       "M204.789 958.031 L204.789 958.031 L204.789 641.969 L635.211 641.969 L635.211 641.969 L635.211 958.031 L204.789 958.031  Z\n",
       "  \" fill=\"#ffffff\" fill-rule=\"evenodd\" fill-opacity=\"1\"/>\n",
       "<g clip-path=\"url(#clip672)\">\n",
       "<image width=\"746\" height=\"1015\" xlink:href=\"data:image/png;base64,\n",
       "iVBORw0KGgoAAAANSUhEUgAAAuoAAAP3CAYAAAB6WGtXAAAgAElEQVR4nO3d2XIcW5ag5+UAAXAm\n",
       "z8mTWepBbd1WF10yky6lR9JD6ZF0IbO+kKlkGtq6s2VlXVUnkzMxhusCBAGQGGLwYa3t31cnmYdZ\n",
       "QMR290DEHxs73Lu+7wMAAMhlb+4BAAAAPxPqAACQkFAHAICEhDoAACQk1AEAICGhDgAACQl1AABI\n",
       "SKgDAEBCQh0AABIS6gAAkJBQBwCAhIQ6AAAkJNQBACAhoQ4AAAkJdQAASEioAwBAQkIdAAASEuoA\n",
       "AJCQUAcAgISEOgAAJCTUAQAgIaEOAAAJCXUAAEhIqAMAQEJCHQAAEhLqAACQkFAHAICEhDoAACQk\n",
       "1AEAICGhDgAACQl1AABISKgDAEBCQh0AABIS6gAAkJBQBwCAhIQ6AAAkJNQBACAhoQ4AAAkJdQAA\n",
       "SEioAwBAQkIdAAASEuoAAJCQUAcAgISEOgAAJCTUAQAgIaEOAAAJCXUAAEhIqAMAQEJCHQAAEhLq\n",
       "AACQkFAHAICEhDoAACQk1AEAICGhDgAACQl1AABISKgDAEBCQh0AABIS6gAAkJBQBwCAhIQ6AAAk\n",
       "JNQBACAhoQ4AAAkJdQAASEioAwBAQkIdAAASEuoAAJCQUAcAgISEOgAAJCTUAQAgIaEOAAAJCXUA\n",
       "AEhIqAMAQEJCHQAAEhLqAACQkFAHAICEhDoAACQk1AEAICGhDgAACQl1AABISKgDAEBCQh0AABIS\n",
       "6gAAkJBQBwCAhIQ6AAAkJNQBACAhoQ4AAAkJdQAASEioAwBAQkIdAAASEuoAAJCQUAcAgISEOgAA\n",
       "JCTUAQAgIaEOAAAJCXUAAEhIqAMAQEJCHQAAEhLqAACQkFAHAICEhDoAACQk1AEAICGhDgAACQl1\n",
       "AABISKgDAEBCQh0AABIS6gAAkJBQBwCAhIQ6AAAkJNQBACAhoQ4AAAkJdQAASEioAwBAQkIdAAAS\n",
       "EuoAAJCQUAcAgISEOgAAJCTUAQAgIaEOAAAJCXUAAEhIqAMAQEJCHQAAEhLqAACQkFAHAICEhDoA\n",
       "ACQk1AEAICGhDgAACQl1AABISKgDAEBCQh0AABIS6gAAkJBQBwCAhIQ6AAAkJNQBACAhoQ4AAAkJ\n",
       "dQAASEioAwBAQkIdAAASEuoAAJCQUAcAgISEOgAAJCTUAQAgIaEOAAAJCXUAAEhIqAMAQEJCHQAA\n",
       "EhLqAACQkFAHAICEhDoAACQk1AEAICGhDgAACQl1AABISKgDAEBCQh0AABIS6gAAkJBQBwCAhIQ6\n",
       "AAAkJNQBACAhoQ4AAAkJdQAASEioAwBAQkIdAAASEuoAAJCQUAcAgISEOgAAJCTUAQAgIaEOAAAJ\n",
       "CXUAAEhIqAMAQEJCHQAAEhLqAACQkFAHAICEhDoAACQk1AEAICGhDgAACQl1AABISKgDAEBCQh0A\n",
       "ABIS6gAAkJBQBwCAhIQ6AAAkJNQBACAhoQ4AAAkJdQAASEioAwBAQkIdAAASEuoAAJCQUAcAgISE\n",
       "OgAAJCTUAQAgIaEOAAAJCXUAAEhIqAMAQEJCHQAAEhLqAACQkFAHAICEhDoAACQk1AEAICGhDgAA\n",
       "CQl1AABISKgDAEBCQh0AABIS6gAAkJBQBwCAhIQ6AAAkJNQBACAhoQ4AAAkJdQAASEioAwBAQkId\n",
       "AAASEuoAAJCQUAcAgISEOgAAJCTUAQAgIaEOAAAJCXUAAEhIqAMAQEJCHQAAEhLqAACQkFAHAICE\n",
       "hDoAACQk1AEAICGhDgAACQl1AABISKgDAEBCQh0AABIS6gAAkJBQBwCAhIQ6AAAkJNQBACAhoQ4A\n",
       "AAkJdQAASEioAwBAQkIdAAASEuoAAJCQUAcAgISEOgAAJCTUAQAgIaEOAAAJCXUAAEhIqAMAQEJC\n",
       "HQAAEhLqAACQkFAHAICEhDoAACQk1AEAICGhDgAACQl1AABISKgDAEBCQh0AABIS6gAAkJBQBwCA\n",
       "hIQ6AAAkJNQBACAhoQ4AAAkJdQAASEioAwBAQkIdAAASEuoAAJCQUAcAgISEOgAAJCTUAQAgIaEO\n",
       "AAAJCXUAAEhIqAMAQEJCHQAAEhLqAACQkFAHAICEhDoAACQk1AEAICGhDgAACQl1AABISKgDAEBC\n",
       "Qh0AABIS6gAAkJBQBwCAhIQ6AAAkJNQBACAhoQ4AAAkJdQAASEioAwBAQkIdAAASEuoAAJCQUAcA\n",
       "gISEOgAAJCTUAQAgIaEOAAAJCXUAAEhIqAMAQEJCHQAAEhLqAACQkFAHAICEhDoAACQk1AEAICGh\n",
       "DgAACQl1AABISKgDAEBCQh0AABIS6gAAkJBQBwCAhIQ6AAAkJNQBACAhoQ4AAAkJdQAASEioAwBA\n",
       "QkIdAAASEuoAAJCQUAcAgISEOgAAJCTUAQAgIaEOAAAJCXUAAEhIqAMAQEJCHQAAEhLqAACQkFAH\n",
       "AICEhDoAACQk1AEAICGhDgAACQl1AABISKgDAEBCQh0AABIS6gAAkJBQBwCAhIQ6AAAkJNQBACAh\n",
       "oQ4AAAkJdQAASEioAwBAQkIdAAASEuoAAJCQUAcAgISEOgAAJCTUAQAgIaEOAAAJCXUAAEhIqAMA\n",
       "QEJCHQAAEhLqAACQkFAHAICEhDoAACQk1AEAICGhDgAACQl1AABISKgDAEBCQh0AABIS6gAAkJBQ\n",
       "BwCAhIQ6AAAkJNQBACChJ3MPgGX6n/7nd/06X9d1ERHduIMZULXxrqvV7YJ59dGv9UxYTbXtWn+8\n",
       "/+v/8tYTIZMyow4DaTFmu67N7YIcuhs/Yy3pGtwmmIdQJ61KgVhprOu63qa2tgtyufwZay9sK21T\n",
       "pbGyNEKdlCqFb6WxrsUsOszgWyw29WNXKYArjZUlEeqkUykSK411HV0X0ZlFh5l0l//X1I9fpe2p\n",
       "NFaWQqjDllqM9Ja2B+pqLRhb2x6YjrO+kEqVWKwyznVcv4C2sT2tmSJwap2hYym66LrLA9PG8bnc\n",
       "nvzbUmWcLIVQJ40q8VtlnOtoaVsqejzCpzk2l+N4uEyEyxwuj3874VglgquMkyUQ6uRQJBhbCtuW\n",
       "tiW7u4M8275/eDz3xbyYmUJL4VhlW7qIrn/s/SuMTqiTQrZkuV+dkT5EpI/n5yhvaT//vC13BXz+\n",
       "CKuoSuCuo4sKBVxjlLROqDO7KtHYwoehrEcfVttRvonb2y3ex9LOuvWuq7ANLb05oiqhzqxqRXr+\n",
       "cT6khW3I4Hac25/3+zHer2tH+OyilXXrVSK4yjhplVCHR7QQuC1sw1yE+VCu992PM+4iaBstBGQL\n",
       "2wDjch51ZlMhHiuM8TEtbMPUuu76P1eXeLcPh3a9X2/vb9bXwvnJK2xDhTHSKjPqzKJCPFYY42Na\n",
       "2IapmDmf083ZdjPtm2lhVrrCNnS3HpswFaEOdygfuN33lawzDyQ3cZ6RaN/ct9CNKHyakgqxDtMT\n",
       "6sxEFI3FmV0eZx9V8XO0C7n7dNFFH1HibCpVeb5gekIdflB5Nr3y2Mcmzqu7OttJxNW0sSD9UfUz\n",
       "wphVhx/5MCncUDl0K499TD9/KJT6bn8IlR9V/vBj5bHD8IQ6fFM5dCuPfRR3nrWF9vwQ7A7zDZWD\n",
       "t/LYYViWvkDEtxf4mq8MIv2a5S1LdeOj09ay31B5KUl3eSxLjh2GY0Ydom7WifRLZs+5ZlnMbXVn\n",
       "p4sOGwYl1Fm8qrFbddxDEujcT7BfqxrrVccNwxHqLFrV2K067qEIdNYn2C9Vjd6q44ZhCHWWq2js\n",
       "LjnSBTrbE+x1o7fz485iCXUWq+Lz/tIjXaCzu+tgX6aa215wyDAIoc4iVQzeimMewu1ZdBjKkmfX\n",
       "K8Z6xTHD7oQ6i1Mx+iqOeVeWuTC+JS+HqRi+FccMuxHqLFCtZ/rFRbpAZ3I3lsMs6iFXMXzLDRh2\n",
       "ItRZlGovSkuL9O77Z8aWs81k0l0m+6IefvVivdp4YRdCncWoFr3VxrsLy1zIY4nLYarFerXxwvaE\n",
       "OgtS6Jm90FB3JdDJaYFnhym1raUGC1sT6ixCtRfbJSz/cDYXaljK7HpX7iex/WMCQp0FqBaD1ca7\n",
       "DbPo1LKU2fVq21htvLA5oc4C1Hkmbz3SzaJT2xJm16vFb6nBwsaEOk2r9ILTesBeH4t2t5El+LYw\n",
       "remHca1YrzRW2JRQp1mVwrfSWLdhqQttWcJSmErbV2mssBmhTsNqPHO3HOmWutC21pfCVArgMgOF\n",
       "jQh1mlTnxaVdlrqwDEtYClODY0CLhDrNqTSDW2msm7DUhWVpeSlMpe2qNFZYj1CHmbQf6bA0rYZi\n",
       "q9sF+Ql1mlIlEquMcxPWo0NEu+vWq8R6lXHCeoQ6jcn/DN1izFqPDje1um69SgSXGCSsRajTjBov\n",
       "IO2xHh3u0vK69fzsd1oh1GlClVnqKuNcV2vbA8NrLdarbE+VccLDhDpMpLWobW17YDytRWNr2wN5\n",
       "CXXKqxCMFca4ida2B8bXWtxW2J4KY4SHCXUa4Jl4SiIdtiUcp2eHU5tQp7QKL3othW1L2wLzaCnW\n",
       "a2xLhTHCfYQ6xeV+Bm4pbFvaFphXjcBdT4VtST9AuJdQp6z8Lw7tEOkwtAqB2w77mqqEOiVVCMcK\n",
       "Y1xHK9sB+bQS6xW2o8IY4WdCHUbQSty2sh2QVysB2cp2QC5P5h4AbEo8TsN+Tqzb7sj03/8gly66\n",
       "ro/esRmZ/Uw9Qh0G1kLgtrANVW03K/nQN/W3v2qN2xcyc2ghIlvYBshFqFNK9oDMPr51tLANVdwf\n",
       "5UPu/01vq79zXOJrCi2EbvZtyD4+uE2oA9+J9PFME+VDuGs84n06QhK4JtQpI3tEZh/fY6qPP6Of\n",
       "47bq/n083oXlkKrHevbxZx8fXBPqMITikSvSh9FOmK/j9rZ13e3qEUG7qh6TXUTX+/Ay7MjpGSkh\n",
       "e0jmHdnjsu/b9LrLfXgd6d2N/yzJ7e3+vk+WthsGVfuUh7mHXnvfshxm1GFHlUPXC9X2bu87O/K2\n",
       "7sa/9d//Wnd2eF5dV3XfVf+tAMxPqJNe5RCuwb5dlzjfxo1ov7E8RrytqwvrR8bijQT5WfoCO6j8\n",
       "JqLy2Kd299IWNnfH0hjWUHmZRuWxw/yEOqnlj8nMY7tf/v2ag0Afi2DfXOXgzTzwyvuVJRDqsKWq\n",
       "T+4i/XECfSqCfTN1o7LquGFuQp3kcj67V41dL5YPu47FpZ65ZS7X+1uwP67m/sn8JiPtwECok1fe\n",
       "J/Xq7Ngf/TyDznzMsD/MThmDxxpZCXUSy/nMWXs2vd64x2SJS1aWxDws8+z0QzKPO+3AWDihTkp5\n",
       "n8xrEuk/E+gV3A52bsocvTXZn2Qk1GEDFYPXi89tP69DJz/r1+9Tb394gwGbcMEj0qkYw/nZn1eu\n",
       "L27iKifVdN3lxX+67tvRW/whdDGkYbkAEvkIdVhTxTcQFcc8lo8f38fJ8ZcR78F+/tmwxfPkyWG8\n",
       "eftr7O3tRRd9ROcKpzXjsuKYYR5CnYQEzxBE+qXuRsydnXyJi7OP8w6IrXV7B3F2ehJvf/0tDg+P\n",
       "4vvs+uKDT/gOx28pyEWok0rWtYuit57bHxa98cLbX8Tq7GNEv5phVOyk24+T1Wn88/lJvH77x3j5\n",
       "8tXl/9xdHl+hWkneNxfe/JGJUCcZMTyEpb+xWK1W8fHDu+9/3+8v4m9//9/i4uM/xunZpzg7/xJ9\n",
       "CPVqjvefx5/f/F1E38eHdxFnpyfx5u0vsbe3H2bX84ZvPWbVyUOok4bZ9GFUG++guustv7i4iOPP\n",
       "v0ffX8R+fx6fPv0e/+7d/x6vP/+XOF6dxsoLcTnH+y/ixdmH+M9v/i6+rk7i8/nnOD39Gm9/+VMc\n",
       "HR1FxOXs+nI/aFot1vOOd9lv+shEqANNuO/Koquzj9Gff4mTk3fx5fxz/Hb8X+Pffvi/hHpBx09e\n",
       "xIuz9/H87EP8+fW/j396+W+jvziN389P49Wb3+Lly9fRdZ0PmgLNEOokkm8WuNrsdLXxDuW+SP+u\n",
       "P49VfxGrfhUXfR+xOo9fL77cegLUdPmcRsTZjb/vrS7i+dnHeHH2IZ6ffYy91Wn0q9PoL07j9OQk\n",
       "Vs9Xsb+/H1dLF5Y5K5p3lvpuWcdr+Qs5CHVSyLrspZSF7sNHI/2+74uI5xHx9Nv3bfuSvNDdvpFt\n",
       "9+15RHyMPj5vdRtLjvXQmQNY7GOHVIQ63KPa7HR348+l2OUYXb3+HnRdvHz27NvFdB65v63uaQ0/\n",
       "3fCcx7F/8K8j3cudzs7O4uD0NPajj+1OqvntpyLljO2YLpf/1NnkrLPqMD+hzuyqBXFGS9yHu2zz\n",
       "1Xf1EdF3Eft7e3F4eLjh/c+1v7tbH5rdRH/7j8n1G5bYXtfF1/OzOFz1cRgRX7e+5yWG4BK3eWj2\n",
       "IfMT6nCXBYZvGd2wvz3Y9FamCfRulOVg3e0/ftKPHPFX+26TYB9uN3QLPyNMdl1E1zs28AOhTgL5\n",
       "gjjfiO63pNn0bdejD3Pf493nfLPzt931WNp0Fny9+9k82Ae654WdEabWjHDOZfU5R8VyCHVmlaRP\n",
       "7pB2YIs1XqQ/vI5knIgeZ8Z8DDe3f+gZ90eDfZQ3oQv/kGlqOaPYY4U57c09AMimSkBFLGc2ffyZ\n",
       "9Ltutxs40i9v7/I/A97shLouvm/DoItS7r29cY931eOwmVqPt0pjhSmYUWdmnpW3JdLHvM+h7qtW\n",
       "JG3i5uNviJn2q9ubbjnMkmbWay2BySfnTD/LYEad2WQMmKXEbxmTR/ows+jVZ843dXumfdfbGna2\n",
       "/pF7u/VfZJDz5ybjmFgGM+pQ0FLeUEx5bvjhInPZhvig6LSP72rnHN+WWXWoyIw6M8oYNRnHtEyV\n",
       "3owMNZvcklr7JOcs7nJlPBgZx8QSmFFnFhlfFDOO6S6VAnZbVbZxuhAdJyTHPm96xJynYtzUEmac\n",
       "62xjxs8OVHmNoC1CHUilQqSPG+jTze7efd70iDHivUaw1wlZYBmEOjPJFWIV4jCizji3NdeM1fp3\n",
       "O0ZE51p28eNjbIxzp697m3PtloyzucOp8mYk4zgT/aCyGEIdSGHOq46uY/hzqg94cyMa+jSMN28z\n",
       "5+z6kk7bCGQn1KGIpmfTU0f6cFFd58OVd7sd7UME+/qz69P6dt7sZk+fnXG2GriLUGfxmg7gIqY8\n",
       "DeMmBgnrrku4Zbv7vuY8Yqep57yz60s5bWNm3lCA0zNCAS2/mci5bbufWvD7RY8GGlFWXQxzKsZp\n",
       "L3S0rjpLlDbX8rZBO8yoQ7o4WI6MoTBMcC7Trmd2yTq7br36nJpdfwRrMaPOoi24qRLJcxB2iez5\n",
       "L/DT3fGfmUay477I9WYn01iWKdXDASZmRh2Sy7k0ZHfZtmv7OJxiCcG29/HwN439Qc5dPiyaLdbb\n",
       "XCvd6nZBO4Q6C5cpBpYjVYPtYJyYbOuCR1mXs2zDEpi5WP7Ccgl1FqtCLGabdR5ExlMxbjqUwT8k\n",
       "mueDfWOcN/3ydrvNzxCTZJ9cavWUjTVm1b1JYqmEOjCpnKdi3ODapIMVdZ44v8/Q0d59u9H1Z9ez\n",
       "7SCnbASmJdQhtWyhspvsYfqwYcI619rr9Q15saO8FzpaT3uzu839mgCa4awvLFKFJSVFe24N9Tbs\n",
       "8iwmQ9xGvW2/yzDnTa/6pqXimB+X/1Dk/w0UjEGoA5Oo8OboLkNd+KhFw13oqBrRCExDqENCVaP2\n",
       "PlWjpvZ51afT1nnT11d02Pfw5gMyEuoslFek6dXa51vH44IC/Ufd5XqW7b+3lGrjbYF9zvL4MCmL\n",
       "U64Hiqu3v7efWRw/Nrurf7bW3/5jcJuf2eXG9xb8kGl7HyzNzf5maYQ6JNPaspdLVbZnu0gfLdAH\n",
       "P1/7VUh//yMiYvPzm69zP912Z4i5DLEqZyGpMs511TinOiyJUAdGU2U2/erc7vNH+jzrhK9mwa8M\n",
       "fqGjLWO9yMPHLC8wGqHOorQ5W51djf29eSAPF9XZ1mcPec70y9vbfElLsl3ygNZm1bMz68+y+DAp\n",
       "JNLSG4mWtuUnA5xX/TI48n/w9HqMu583vVB9b6ilM6a0tC1Qnxl1IC4uLuL05HjYG73zxX66Auj2\n",
       "uohub/A43D2sa4bQ1RuvXZbF7PJB0/vutT//HKu9J3FyfBSfPx/GkycHW932IKMZYJb32fMXu98I\n",
       "0AyhDkRExJcvn+Lk6/u5hzGsfjXozS3z4j63XQf79lW6zbr1h6xO30e/OosP51+i25sq1Mfx9evb\n",
       "ePvLH2Jvb3/uoQAJCHUWI/tSjBTj6y/i4vTd4IHbgiVe0Och257V5eb37xbr/Y0/I/rzL9FfnNQP\n",
       "9YuvcXZ6HG9//VMcHT2daRTZ14FnHx8MR6jDAh0fH996S/Dr8X+NZ5/+Ib5+eRfnZx/i4uLrbGMb\n",
       "Rxf7+4fxpDuIw24/jjYM5+1Du+Yyl03scu7zx2L96OgoXp6fx/mXL3EefVxcfIk/fvkv8fXgZXx9\n",
       "8jK+HryMVdfWzPM/v/g30fer+Ovvfbx684d4/vxFk2/0gPUIdVigfrWKd+/+KfrV+eXfT/4p/vYv\n",
       "/yHefvpPcXxxHGer05lHOLyj/aN4evAi3uwfxi+xF8/W/O3FtpG0pLjaZTnMY7H+8sWLODw4iCcf\n",
       "P8bRahVHx/8Yz88+xIvT9/H87ENzof4PJ7/Hf3797+N8dRbvL47jy+fX8faX3+LgoPZvCoDtCHVI\n",
       "Y/qwW51/jtX5lzg9+T2+nn2IP339h/jb9/9HHDe29KWLiGfdfrzcexKvj57FH1++jKcnFz9d+Oen\n",
       "70sd6etfpXTsq5F+H9FOVyS9//sODw/jT7/8Eh8/fYqjk5M4uDiOp3/9D02G+puTf47np+/jz2/+\n",
       "Lt49/9exOv8av5+fxKs3v8WLFy8nHInTTkIGQp0FyTvDOefka786i9X55zg7P47T1Wmcrs7jX3/6\n",
       "f396cqj+kv00Il5HF28OD+Ptq1ex9/Lh6Nkutsda6rLb7d51NdKIYS9s9P2+tlwK81is7+3txZvX\n",
       "r+Pg69foPn+Orl/F/qf/WPpx2UfExQ//216/iotuP1bdk1h1+/EhIi66vfj4vou9bi+ePX8+2fhy\n",
       "X8jJGwmWQaizCAtahTCILiKexWXcLvLlcIsHzPCz6OOvb799YaOI4a5Genm7G8+ur1GGz589i4OD\n",
       "gzj4+CEOzi+iL/zoXEXEp4gY+MSoi5H7jQQMQ6gD9zqMLp7v78f+3t6jy0RuGrwv17zvYe5380vX\n",
       "Dxnpc61tH/pqpJe3uVmsX74pfPyt4cGTJ/HHt7/E0adP997+evfaD/4udP2b62O16uPZ+Xm8jz4+\n",
       "3vhe8wrAFaEOM0txWsY79HG1rLmP50+fxv7+42uB14nMdUN06tu6/tq1v3Tj237gVlL91uf61IsR\n",
       "u5bsxrG+5ixp13Xx5tWrtW97na+b+rYuLi6i//w5VqtV9NHH57XufUpOgwhz25t7AEAb8s4qbxLp\n",
       "U5228fZtZIr0m7puuG0c7+tzPu6WdNYfYDxCnYXwopnD9CG0bi9NHemXgV7jcTnEWMfav2Md30du\n",
       "bcDbYnuOA+0T6jSvSAstwjrHosKs5m63WyfQf3Q57nxXaJ36MVP08DXJsaB1Qh1mV/+VZurwHPr+\n",
       "JltqkXiZy7ouW323Nyrr39ecx7ne/Y2jhW2AuoQ6zKiJ1/E1rRctM8ymb7wkY4vBxLflI9t9azqX\n",
       "rb7txaDG+Yapl7a0EeHrWdCmQjpCHUhj6qUxEZu9Nch9pdLpTbE/Bj87vaUtQCFCHXjcA+GSMULH\n",
       "OW2jSL/LJLE+y6z6MB4cU77hAskIdRbAq+Hchlv2MtexFOkP2X47Mx9Py19qcAxomwse0bT8r6Pp\n",
       "BziZ9Za9DHRDMe5FkDa9/S1u/eqftfW3/xh+RBte2Ojye9a/BPzat7/Gja5zvy5Pf1MXYz1uhuBY\n",
       "0TKhDjPJ/ybi2v0fg8y3EXOsaR7ie9a41Z0eM93tPwa56uhP97FVrG/+PQ/eXmRMyrtHVenjxWIY\n",
       "5mHpC7C19cIx37KXMWe7xzil4BhXL7266milUyBOf9GioZbIrHEzAHcQ6sCohlrSMssZYTa9vYEv\n",
       "vDPVGujB72viq7xuc3tTPi4BtiXUgUVZPwo3PuH3QHP+8125dNcrj36/nRt/bvpdj36VMgYWRKgD\n",
       "W5oymKY/I8wck+ljLHHZfAzDxPCMv4y4usWBvmYo3mAAmxPqNC7zi2PmsT1uqDOwTLlMYf19Pv3S\n",
       "jWwzxfNs03DHZ9LlVIu4iFLmDcg8NtiNUIcZ1H/RXk+2zVx3v097fOZb6vKYoZbCrH9/w37dVJIN\n",
       "ZzTZ9jssgVCnWV5UlmS+g71bZM+/1OUx3Y1TOm73/XNuYPKdy2Cy/xzBtoQ6kNpQS2PG+bDibnVQ\n",
       "JS52H+cmF5eaevlLkYMALJJQB7YwUNxMGElj3NVOFyAqFoi7jDfbvp/vzmodc2B+Qh3Y3FAfJN19\n",
       "JAOb7rzlFU037lz7Z71f2Kwzfb/rSIClEerAxnKd+G640WzSodtHa/Va2278m+yv9b80zyMxz0iA\n",
       "lgh1ILEpT904jUxj2Uam8U9/2k6AaQl1IK1MUXjb+LPKmbX224RGDgvQIKEOs1AG6fbBKEszuGmz\n",
       "E+pk28nZxjMH+wCmJtRhYun6YybZ9sPYw2llNv3K2NuTbW81dvi2Zj/AtIQ6MIJMZwcZeixKZTdz\n",
       "HI9Mj0eA9Ql1GuZFcxx59uscHyTd7vby7LNhbb5dcxyPXLPAqQbTEPuVNgl1YDPlwmgdIy/jKLc/\n",
       "1jP+dtXacWvtj1qbBMxMqAMbyXV+9Hp3xQYmPS55zrcOcEWoAzk10+mtp9l429dgpwNsRKgDKeXs\n",
       "pi1GlXNDhtPImv18IwIQ6rTKqy5j0Ok/aaTTaYHHFQ0S6jTJ8zVj8Lgahv3IGDyuaJFQBwCAhIQ6\n",
       "0DBzbMvgOANtEuoAAJCQUAcAgISEOgAAJCTUgYb1cw+ASTjOQJuEOgAAJCTUaZL5NcbgcTUM+5Ex\n",
       "eFzRIqFOmzxjM4YtHletPxS32r7Wdwrz8LiiQUIdSCnna65S/0kjpZ5vRABCHchqwnIa965aT8Dx\n",
       "tm/SPdf6YQJKEurARqbrmWZKnW01WOoeah60V5kAAB58SURBVMAmhDqwmTVKoy9XIyPPqZfbH+sZ\n",
       "f7tq7bi19ketTQJmJtRpmFfEceTZr+uE0dAxud3t5dlnw9p8u+Y4HrneKKUaTEPsV9ok1IERTPWi\n",
       "OccUpiDYzRzHI9PjEWB9Qh0mlmt2bz7Z9sPYw+mzbfCOxt6ebHurscO3NfsBpiXUYRZe7dLtgw0K\n",
       "RKxsZ6P9lm4nZxvPHOwDmJpQB9JK12rfbTewVmbVt9+OnNvfyGEBGiTUgcQeL6hqHybMNJZtZBr/\n",
       "cMc+0UYB3CDUgY1l+vjekKPZJEJbm1Ve3/i/TVj/S/M8EvOMBGiJUAc2t1aVrDEbvvtIBjZR1GWa\n",
       "lt7AdOPOtX/Wm5RfZ3p/15EASyPUgS0MVBwTBusYd7XLbVaL9V3Gm23fz3dntY45MD+hDqS2TiAO\n",
       "uQ55syDdLbyqtPru49xk2cu6XzvU5xeKHARgkYQ6zfL6uyTzHezdQq9P/zi9HN8us+lzbmDynctg\n",
       "sv8cwbaEOsxgKS8q2TZz3f0+7fHp087qXo4r3/KkbLsr2XBGk22/wxIIdRqX+ZUl89get9aL9lrL\n",
       "VqY8BeNwyypu3/fuxzJbrM+zTVMve1nna4a5oWSHdwuZNyDz2GA3Qh3Y0qSf5hvoaza4xw1vbogQ\n",
       "6/v5l8L0/VCRPu7Xr3GLA33NUMQksDmhDizKkB9W/PHrh0mx+ZbCDLXUpb/x56bf9ehXzf1OBmBC\n",
       "Qh0Y1XBLENb5mqFn1eebFr6cXZ/uvO6D3teGtzXHcZvycQmwLaEObG24deHTLlMYM4DHiM4xlsRc\n",
       "LXGZ/c3NbLc93eNSzAPbejL3AGCp+j6i6+YexXruX9TRR0SujRh6RH3fR7fhgdrme9a41RvB1139\n",
       "s8F33/pjFNuE9OBvFAa9taHcPaqhFktNwZsNmIdQp2n5Yzhf6M5lnWO11vFc86BvEtPbPI7GifXv\n",
       "t371TxrbRfoItz/pWYSWIvfOcKxomaUvLIBn8bmtF1nZztKx+/0u5YOP229n5uM5zKlFGZtjQNuE\n",
       "OvC4B14LM8bKumPaZOzbbmfG/TOkKfbLGMdzKg+OKd9wgWSEOpDGLGd22eRrxfotk0T6Vvew2303\n",
       "eriAgoQ6zGhJQTDc8pch7y+2OJXgFoOJb2dY2e5b0+ljl0gf5xumPiNMq2++7rKgTYV0hDrMrv6r\n",
       "4NTRMu8pBXe47wRXHt3V5TWRdtmI8ZcbTXV72e5vHC1sA9Ql1GleE6+VjZh6actYobTb7c535dFd\n",
       "7Xrl0pzHY/PbKnr4muRY0DqhzkJ4Ns9h+ghffwXMpktgdtuWKa88uqshxjrW/h3r+D5yawPeFttz\n",
       "HGifUAcGkXcmfLylFkOMc4yrjg7l6uqlu9/OmPs15+OuypswIDcXPIKZXV5MJ9eFj1YR8Skiuuhj\n",
       "b7WK7uvX2NvrYt0xDr4l3Xq3et9XdF0Xr1++XOsCRJte3GiYCxtdx/p4F0la35zB+tCXr1ar+PDp\n",
       "03q3s+5XDdzTG53Ppo+Irov1f7KmlvdNJCyFUAe+63/49w8RcRp9vDw/K/3rty66ODk/i19evY6D\n",
       "J4897fXRR7dROA15FdLrsO0mvaru5d3O++HN/saf91n1fbw/PY3zRpY9dGEBB3A/oc4ibHMJeC4d\n",
       "R8RZZJ3xW08XfZydn8fZu3fxy4sX8fzZs4e/YYsHzGWUDhnXN2czx4n2MeJ8p9vdIOy/xOVjs7If\n",
       "D6lg34zZfpZAqLMguZaX3DT1G4lnz5/Hqv9DfHzfR9+v4kNE/H/9Rez157HfX8Sqqzx//rO9/iL+\n",
       "1af/GH2/iv7Tpzg7O4tXL1/G3t7927ndLHn/7VgOfTDvWoLQXf2zxnff+mNUQ14E6eTkJE7Pz+Nq\n",
       "mcjx0Zv48y//Q3w4+RqfVufxtb9oLm6fdntxuHcYB0+ext6TF9HtHcw2ltwhnHpwMBihDmlM+0bi\n",
       "xYuXcXh4FO/+ehRnJ8/iw/5R/P3B6/hy+CbeH/022TimsNdfxJeD1/Hffvg/4+ziOE5OTuLr2Vn8\n",
       "+upVHB4e3vt92y5pGXIpzAP3MsYS652McaXSz8fH8XW1ioiIr2f78Q+HR/F//83/GMcXx3FycbLV\n",
       "/WV2sHcYT/efxrOD13H49A/x5OiPM40k0yMLlkuow4IdHBzEb3/8b+LLl1fx8f3TON87iP/nyfN4\n",
       "f/SHuYc2qKtQ/3z4Jv7N+7+PPx7/Y5ysLuL8/ft4+/x5vHzx4t7v3SXWp15nPpddltCsE/dn0cfH\n",
       "iDiOVby/OI0vZ5/jP7397+LD/rOt7zer/f1n8eTgdTx7/jb+8PZfRPf0b77//9raUmAdQh0Wruu6\n",
       "ePHiZTx58iTe/aWL824vft+7f5a5gn51Fn1/8f3v+/1FPDv7FM/OP8Wzs0/x9OxT7F98iSfRx5Pj\n",
       "4zh48iSOjo7uv72tZ8jHWgqTxy5niNn0e0/6Pk77izjvz+Li4jT+8vLfRf/k/jdZJXV7sX/4No6e\n",
       "/xpvX/0WR/v7c48ImJFQZzEyngbxprnHd3T0NP74N/8q3v31aRx/eTfLGIbSr85idfYh+vMvN/7X\n",
       "3fbrLstZroK0pWCf+gJI99p7EvsHbyIa+1zFvLKfljH7+GA4Qh34bm9vP379w5/i67MBZinvbNJp\n",
       "QvX8/Cw+ffhLXJz8HqvT94Pd7q5rz1tYDjPEmWIGvxhQtxfPXv4aT58+H/Z2H3THNohHYGBCHfjJ\n",
       "s+e7h3q35kWKxnBxcRFnp6dxfHES/eo84uzD7bHtcNv9t1P07JDr32K3VrAPEujXNzScvo/oV9Gv\n",
       "+jg6ehr7sy0VMcsLDM/vCiGRsc5rPYeWtuUn/RBR1kff9+kvNX89xl1n0WP4SE+jpUhvaVugPqHO\n",
       "ojQdj2nV2N+bx8lwkX0Vw1kCqe9j0DcR24R+ln3xuDIDbUSenxOYgqUvwGiqXBH26tL1fb/5cpRh\n",
       "z5n+Q4TstMRmk3uN0cp4m9i/ekNdpceEIzAWoQ7JzH32l3FU2Z7tYz1ihLO69D/G6vpXI733Jm//\n",
       "MZrtL34UUWeWuso412W2GrIR6ixOlVneVtTb39uf+3z3D5o+eg/prkb6o11m57Ov179LwSGXZn+z\n",
       "NNaos1Ce7adXa59vHY0FPiA6lv5ycfv231tKtfG2wD5neYQ6JFTr1/+PK9dg3+x61c168bmdXbe1\n",
       "6n4qOux7WPYCGQl1YBJV33wMcQXOqiH6mCG2rea+EbXANIQ6i1QhGtsNgXobNsSpE1sK9mECvW6k\n",
       "tyj/ofDmiGXyYVJIrcrZUtZT74OlN23/IdNbt/K9NpZ3ZdLr26pdXMWHf4fmNgiaIdSBSV2+9cj2\n",
       "BmT9UBnuzC43ZwhzRvvQv3na/Iww2QKyzrndgTYIdRarwuxuk+dU/745ibZr0/r6dn7zcS50NG+0\n",
       "j7UsbKtZ9FRV3N/6r3bUWFJSYYwwBqHOwiWKxQWp8CZpHZfxOXRY3xVO48T7FJ/VqPB5kHWJxbnY\n",
       "8SyXUIfkmpxVj3zb1ff9ljPkw6xdX+c+HnbX/c8bOO2csrHGrPPmWt0uaIdQZ9FamdmtrYVYvw7L\n",
       "cYP9wRHMdL8/a+uUjZnGskypHg4wMaEOiUJxaTK+Udp1Ocv8wT6fIU7ZmDGMheKc7HyWzXnUoYCs\n",
       "ATOEnNs2zIV8+r79s4T0MeSFj7LtrZaXhrS8bdAOM+osXra10kuU85SNA31Y9EastzTLPtTylJxv\n",
       "1CKcijEDbyZAqEMRTb+hyHjKxu+G+7Bo1YsdXRn8vOppK6zVUzFeEcBQhVAHUrher54x1oc+FWOe\n",
       "86Y/ZowZ77yz6BFX4xKyQAZCnZnkirEqs9VVxrmtuT5cusF1SUc4FeOPs5ttXvDo+vY32dvzaDvS\n",
       "q8ymZxxnugGxAEIdSKXCm5Fxz+zS1gWPru+rQuRkjENgyYQ6s8h5Wr58Y7pLhZDdVZVtnO5UjHUD\n",
       "skagR1Tex+urs40Zx5lxTLTP6RmZUcZnvYxjWqbc65hvG+L0hK2ptU/qBOwyZDwYGcfEEgh1KKhS\n",
       "xO6iv/Hn6PfV7x5rteJ0HMOcU33KmfilnIbRmxGoSKgzm4wvGksJ4DL6n/5l9DscIhC/X+xoIQ+l\n",
       "q7Aeat9Nebxv/hcZ5Py5yTgmlsEadWaWfx1yVlXWce9qjtM2DncqxjqnYdzU8OdUH/b21rjHG/fb\n",
       "upzxW4edx3zMqMMPKr2gLeU3AP3oM+t33e7Qy1j68jPtt2fOh77w0d3HYBwiPatKY4UpmFFnVnnP\n",
       "tNL+THU1482s9w/24DhndrkdT+OfNWZ7Y64Vf/S2R3kjuqRIrybnQfFYYU5CnQTyRXG+Ed1vKUtg\n",
       "Ir69YHYR3QxHaMxTMf4crPMsk5nqNzTzfeC2H6f90yo2mz73AO6Uc1Qsh1CHu/QRsZD4LefbBPhQ\n",
       "b042fRme5tzpDwVWd/XPFrcaI81Sr3n/W1TjgAtsSkXr8jz8my1YKqHO7JY0IzyWJe7DXba5j4jT\n",
       "b/85X/VxcnoaqzUqbrS9+9MNz3kc+wf/OtK93P01fR9df703th/KEiN9ids8NPuQ+Ql1uEe1+L0c\n",
       "aZ3xDuH6GEVsut2riPgQERfRx9npaTw5Pd1qDMvZ29vbtnW6e/5903teXmxVOze8IIb7CHVSyPuh\n",
       "0kKW1ejf7fIh0z4iPkXESfRxOPzQ2NHNo7ntopnFBuBSt3tAi33skIpQJ5F8pVluVr3YeIfyY6zv\n",
       "7e3F4dFRnBwfRrd3GKu9w/hy8Co+H7yOLwev4svh61id7888aja1F13sd13sdXux1+1HdPe9hC05\n",
       "0qvNTmcdb8pBsUBCHWjCzTPCdF0Xr169icPDp/Hur4dxdnwY/7x/FJ8P38SXg9fx+eBNPL34PPeQ\n",
       "2dBedPF07zCeP3kRR0dv48nTP8TFT7G+tDO7AC0T6qSRdflLtVnqauMd1K0zwkQcHR3FH//0L+P9\n",
       "u2fx9cuLON47ir8/eB2fD17H04sv846VjXWxFwdPnsfhwct4+fIP8fLNv4yL7vZvRnLOzk4l6+z0\n",
       "ffKON+u4WB6hTjILDcyBLTrW4/ZSmL29/fjl19/i4PAoPryLiK6LP7/97yP6i5lHyca6vdg7eBX7\n",
       "h2/j5Zvf4tWrN99Ok7nkpS5X8kZvPXYkeQh1UjGrzlCuouVqdv3ly1dxeHgY7/5yFKd7h9GvzmYc\n",
       "HcMRqDXlPW5Zx8UyCXUSEsRD8Obi0s3Z9cPDo/jtT/8i3r87ivPz7U7HeL9l7+e7TXGV09HvooC8\n",
       "0VuPHUkuQh3WVDF8K455DDc/aLq318Uvv/4242XsYUgVI73imGEeQp10xOUY7M/rD5pe/qXLuMaK\n",
       "R1iLfpsdMSxvIMhnb+4BQCV9wfO+eeG5re9vHkc7p4bLY3V97LhSb3+IYdiEUCclT+TDqvgGY2zX\n",
       "jzHBntf1sfGc8CPBOzT7k4yEOonlfNasGr1Vxz2m2zO0gj2P24EuoH5UNdIzjzvtwFg4oU5aeZ/Q\n",
       "q7Njf/RzsDMfgf4wO2UMHmtkJdRJLuezZ9XZaS9GD/t5/bodNo3r/S3QH1dz/5hNh20IddhS3hed\n",
       "h1V9kzElS2KmYonLZjLH7sOqjhvmJtRJLX9UZh7b/fLv1xwE+1gE+ubqRnrun5vK+5UlEOqwg8rB\n",
       "W3nsUxPsQxHo26kck5XHDvNzwSPScwGksdm367oZHJePye9/m3wsdVzvJ8G2DTttPN5EkJ9Qhx1V\n",
       "fiNxOfa5R1HT9xf4LqIL0X5bf/vfxNBO6sakEIZdWfpCCdmXaeQd2eOy79v0+vuWxixtn97e7u/7\n",
       "ZGm7YVC1Qzf30GvvW5bDjDoMoY+IorPqEbV/K5DJjy/8t5fHRLS1f29vm+gZWvWQ7LOXOpQg1Ckj\n",
       "e0xmH99jqo8/o9tr2iPuLpcK+/vu4qodkpnVj/Tc488+Prgm1IHvxPp47gqDnPEuyuclIoFrQp1S\n",
       "sodk9vGto4VtqGKzeH/IQ8dq8+oTinNpIdKzb0P28cFtQh0G1kLotrANVa0VEd2PR2a98vC54cxa\n",
       "CMgWtgFyEeqUIyKnYT8n5nN6jRG407CfqcfpGWEErZzysJXtgLxaicdWtgNyEeqUVCEgK4xxHa1s\n",
       "B+TTStxW2I4KY4SfCXXK8qQ7HbEOQxOOU7KvqUqoU1zuZ9+WArelbYF5tRTpFbYl/QDhXkKd0vK/\n",
       "QLQVuC1tC8yjQtiuq8a2VBgj3Eeo0wDPwlMS67CtGmHbFjuc2oQ65VUIxwpj3ERr2wPjay3SK2xP\n",
       "hTHCw4Q6TKS1uG1te2A8rQVja9sDeQl1mlAlGquMc12tbQ8Mr7WorbI9VcYJDxPqNMOT8jyuY90B\n",
       "gGuXPxOel+Zhv9MKoU5j8j87tzgLff2i2NZ2wXYufw7ai8UqbzxKDBLWItRpSpUIrjLOTfR9m9sF\n",
       "m+lv/Cy0pE6k1xgnrEeow0xajdpWtwse12oktrpdkJ9QpzmVQrHSWDdh3TrL0vJ69ErbVWmssB6h\n",
       "TpM8Wc/PunWWodX16PU4BrRIqNOwGs/arc6qR1i3TutaXY9+pdIMdZmBwkaEOs2qFIiVxroNS2Fo\n",
       "S8tLXa5U2r5KY4XNCHWaVunJexmxHtHyNrIES1jqUit8K40VNiXUWYA6z+JLiPXWt5GWtb7UJaJa\n",
       "pHsuoXVCneZVC8Nq492GpTDUsoSlLhH1trHaeGFzQp1FqPZk3t/4s1Vm16lhCbPoERF9uZ/E9o8J\n",
       "CHUWpdCzeqGh7srsOjktZRb9hlLbWmqwsDWhzmJUm72tNt5d3J5dX8Y2k9V1oC8n0qu9Iak2Xtie\n",
       "UGdRqj25LynWI74F++W/zTwSluly+Ue154nd1IveauOFXQh1FqjWs/zSYj3MrjO5G8tcFvWQqxfp\n",
       "CztAINRZnorhW3HMu7IchvEtcZnLlZqRXm/MsBuhziJVDN+KYx6Cs8MwjqUGekTN4K04ZtidUGex\n",
       "Kj7nLzlYza4zjAWezeWWmttecMgwCKHOchWN3qXHumBnO0te5nKlZqRffnBl7jHAPIQ6i1Y1equO\n",
       "eyiCnfUJ9Et1I73muGEYQp3Fqxq9Vcc9JMHO/QT6taqxW3XcMByhDlE38cT6JcHONYF+W93YLTps\n",
       "GNSTuQcAKfQR0fUR0c09ko31fURXdOxD+x4kXX9jb9gv7btxmSx1d0PdSLcuHS6ZUYdvKs9OVx77\n",
       "KHqz7Mvww+y5w3xD7UivO3YYllCHGyoHb+Wxj0mwt8jylodVDt3KY4fhWfoCP6i8lOR67BEVxz+m\n",
       "6xf/Prrvu8Y+quPb8hYR94Dq+0ikw4+EOjOpGcIV9N92bWcf3+sqBq7f1ETYVxldHx8B95jeGv3R\n",
       "2blMT6jDHSrPqkfE989hld6GCdyMP9GehTjfXAsz0S1sAwzPGnVmUWE9dYUxPqaFbZjK1Xrn2+vZ\n",
       "7btpXO/v28eBx7UQuBW2ocIYaZFQZzYVIrLCGB/TwjZMTbRPQZzvroV4rLANFcZIqyx9gUeUXwYT\n",
       "bWzDXG6/QN/8IGqE/bkJS1qG1UI8trANMC6hzqyqBGSVcT7EGWGGcf+69gj79abb+0aQDaX6mV2u\n",
       "VIn0KuOkVUKd2VWJ4Mtxzj2K3dw+20nxjUng5xfwH2fcI5axn0X5NNqJxhrb0c7+pi6hTgp1srHO\n",
       "SB9S5c1RRevFe0TNff9ztQiZqbQUjTU2pMYoaZ1QJ4c+IgqEY0uB29K2ZHd3YN0X8DdNeWwezpJ2\n",
       "IrGitiK9xrb0Sp0UhDppVAnHKuNch3Xr83o8WNaJ+SnGwTxaWY9+pU6k1xgnSyDUSaVKBFcZ5zqs\n",
       "W89NMCxVa7FYZXuqjJOlcB512FJr5ydvbXugrtZisbXtgekIddKpFIyVxrqOvo/oXdwHZtJf/l9T\n",
       "P36VtqfSWFkKoU5KlQK40ljX0je4TZDet0hs6seuUvhWGitLItRJq1IsVhrruq63qa3tglwuf8ba\n",
       "i8RK21RprCyNUIeBtBrrLW4X5NDf+BlrifCFoXS9nyYAAEjHjDoAACQk1AEAICGhDgAACQl1AABI\n",
       "SKgDAEBCQh0AABIS6gAAkJBQBwCAhIQ6AAAkJNQBACAhoQ4AAAkJdQAASEioAwBAQkIdAAASEuoA\n",
       "AJCQUAcAgISEOgAAJCTUAQAgIaEOAAAJCXUAAEhIqAMAQEJCHQAAEhLqAACQkFAHAICEhDoAACQk\n",
       "1AEAICGhDgAACQl1AABISKgDAEBCQh0AABIS6gAAkJBQBwCAhIQ6AAAkJNQBACAhoQ4AAAkJdQAA\n",
       "SEioAwBAQkIdAAASEuoAAJCQUAcAgISEOgAAJCTUAQAgIaEOAAAJCXUAAEhIqAMAQEJCHQAAEhLq\n",
       "AACQkFAHAICEhDoAACQk1AEAICGhDgAACQl1AABISKgDAEBCQh0AABIS6gAAkJBQBwCAhIQ6AAAk\n",
       "JNQBACAhoQ4AAAkJdQAASEioAwBAQkIdAAASEuoAAJCQUAcAgISEOgAAJCTUAQAgIaEOAAAJCXUA\n",
       "AEhIqAMAQEJCHQAAEhLqAACQkFAHAICEhDoAACQk1AEAICGhDgAACQl1AABISKgDAEBCQh0AABIS\n",
       "6gAAkJBQBwCAhIQ6AAAkJNQBACAhoQ4AAAkJdQAASEioAwBAQkIdAAASEuoAAJCQUAcAgISEOgAA\n",
       "JCTUAQAgIaEOAAAJCXUAAEhIqAMAQEJCHQAAEhLqAACQkFAHAICEhDoAACQk1AEAICGhDgAACQl1\n",
       "AABISKgDAEBCQh0AABIS6gAAkJBQBwCAhIQ6AAAkJNQBACAhoQ4AAAkJdQAASEioAwBAQkIdAAAS\n",
       "EuoAAJCQUAcAgISEOgAAJCTUAQAgIaEOAAAJCXUAAEhIqAMAQEJCHQAAEhLqAACQkFAHAICEhDoA\n",
       "ACQk1AEAICGhDgAACQl1AABISKgDAEBCQh0AABIS6gAAkJBQBwCAhIQ6AAAkJNQBACAhoQ4AAAkJ\n",
       "dQAASEioAwBAQkIdAAASEuoAAJCQUAcAgISEOgAAJCTUAQAgIaEOAAAJCXUAAEhIqAMAQEJCHQAA\n",
       "EhLqAACQkFAHAICEhDoAACQk1AEAICGhDgAACQl1AABISKgDAEBCQh0AABIS6gAAkJBQBwCAhIQ6\n",
       "AAAkJNQBACAhoQ4AAAkJdQAASEioAwBAQkIdAAASEuoAAJCQUAcAgISEOgAAJCTUAQAgIaEOAAAJ\n",
       "CXUAAEhIqAMAQEJCHQAAEhLqAACQkFAHAICEhDoAACQk1AEAICGhDgAACQl1AABISKgDAEBCQh0A\n",
       "ABIS6gAAkJBQBwCAhIQ6AAAkJNQBACAhoQ4AAAkJdQAASEioAwBAQkIdAAASEuoAAJCQUAcAgISE\n",
       "OgAAJCTUAQAgIaEOAAAJCXUAAEhIqAMAQEJCHQAAEhLqAACQkFAHAICEhDoAACQk1AEAICGhDgAA\n",
       "CQl1AABISKgDAEBCQh0AABIS6gAAkJBQBwCAhIQ6AAAkJNQBACAhoQ4AAAkJdQAASEioAwBAQkId\n",
       "AAASEuoAAJCQUAcAgISEOgAAJCTUAQAgIaEOAAAJCXUAAEhIqAMAQEJCHQAAEhLqAACQkFAHAICE\n",
       "hDoAACQk1AEAICGhDgAACQl1AABISKgDAEBCQh0AABIS6gAAkJBQBwCAhIQ6AAAkJNQBACAhoQ4A\n",
       "AAkJdQAASEioAwBAQkIdAAASEuoAAJCQUAcAgISEOgAAJCTUAQAgIaEOAAAJCXUAAEhIqAMAQEJC\n",
       "HQAAEhLqAACQkFAHAICEhDoAACQk1AEAICGhDgAACQl1AABISKgDAEBCQh0AABIS6gAAkJBQBwCA\n",
       "hIQ6AAAkJNQBACAhoQ4AAAkJdQAASEioAwBAQkIdAAASEuoAAJCQUAcAgISEOgAAJCTUAQAgIaEO\n",
       "AAAJCXUAAEhIqAMAQEJCHQAAEhLqAACQkFAHAICEhDoAACQk1AEAICGhDgAACQl1AABISKgDAEBC\n",
       "Qh0AABIS6gAAkJBQBwCAhIQ6AAAkJNQBACAhoQ4AAAkJdQAASEioAwBAQkIdAAASEuoAAJCQUAcA\n",
       "gISEOgAAJCTUAQAgIaEOAAAJCXUAAEhIqAMAQEJCHQAAEhLqAACQkFAHAICEhDoAACQk1AEAICGh\n",
       "DgAACQl1AABISKgDAEBCQh0AABIS6gAAkJBQBwCAhIQ6AAAkJNQBACAhoQ4AAAkJdQAASEioAwBA\n",
       "QkIdAAASEuoAAJCQUAcAgISEOgAAJCTUAQAgIaEOAAAJCXUAAEhIqAMAQEJCHQAAEhLqAACQkFAH\n",
       "AICEhDoAACQk1AEAICGhDgAACQl1AABISKgDAEBCQh0AABIS6gAAkJBQBwCAhIQ6AAAkJNQBACAh\n",
       "oQ4AAAkJdQAASEioAwBAQkIdAAASEuoAAJCQUAcAgISEOgAAJCTUAQAgIaEOAAAJCXUAAEhIqAMA\n",
       "QEJCHQAAEhLqAACQkFAHAICEhDoAACQk1AEAICGhDgAACQl1AABISKgDAEBCQh0AABIS6gAAkJBQ\n",
       "BwCAhIQ6AAAkJNQBACAhoQ4AAAkJdQAASOj/B6RPS13vS9HPAAAAAElFTkSuQmCC\n",
       "\" transform=\"translate(47, 292)\"/>\n",
       "</g>\n",
       "<defs>\n",
       "  <clipPath id=\"clip673\">\n",
       "    <rect x=\"960\" y=\"292\" width=\"73\" height=\"1016\"/>\n",
       "  </clipPath>\n",
       "</defs>\n",
       "<g clip-path=\"url(#clip673)\">\n",
       "<image width=\"72\" height=\"1015\" xlink:href=\"data:image/png;base64,\n",
       "iVBORw0KGgoAAAANSUhEUgAAAEgAAAP3CAYAAACPmQh6AAAI/ElEQVR4nO3dwXHbQBBFQSw5svOP\n",
       "yIFZIhyB5x3JQ3cEqle/4MWSls6fx9d98V+Pd/8An06gIFCY81ujjTpBoCBQmPNLo406QaAgUJjz\n",
       "9Xz3z/DRLCgIFAQKc0ajjTpBoCBQmMszaKVOECgIFOY8NdqoEwQKAgXPoKBOECgIFOY8z7t/ho9m\n",
       "QUGgIFCYyzlopU4QKAgUvIsFdYJAQaAw56HRRp0gUBAoOAcFdYJAQaAw18Od9MaCgkBBoOBdLKgT\n",
       "BAoCBe9iQZ0gUBAozOUctFInCBQECnPcB60sKAgUBArug4I6QaAgUPAMCuoEgYJAwWfzwYKCQEGg\n",
       "4BwU1AkCBYGCZ1BQJwgUBAo+mw/qBIGCQMFn88GCgkBBoOBdLKgTBAoCBe9iQZ0gUBAozDnexTYW\n",
       "FAQKAgXvYkGdIFDwqhHUCQIFgYKPfYIFBYGCQME5KKgTBAoChTlHo406QaAgUPAuFiwoCBQECt7F\n",
       "gjpBoCBQ8NFzUCcIFAQK7oOCOkGgIFDwK7qCBQWBgkDBu1hQJwgUBApzeRdbqRMECgIFn80HCwoC\n",
       "BYGCz+aDOkGgIFDwuVhQJwgUBArupIM6QaAgUPDZfLCgIFAQKHgXC+oEgYJAwZ10UCcIFAQKPpsP\n",
       "FhQECgIF31EM6gSBgkDB52JBnSBQECg4BwV1gkBBoOA+KFhQECgIFHwuFtQJAgWBgu8HBXWCQEGg\n",
       "4BwU1AkCBYGCP6ceLCgIFAQKzkFBnSBQ8PWXoE4QKAgUfP0lqBMECgIFX38JFhQECgIF56CgThAo\n",
       "CBRcuQZ1gkBBoOBOOqgTBAoCBe9iQZ0gUBAouJMOFhQECgIF56CgThAoCBTcBwV1gkBBoOAcFNQJ\n",
       "AgWBgj+fFSwoCBQECt7FgjpBoCBQ8C4W1AkCBYGC70kHdYJAQaDgV5UGdYJAQaDgHBTUCQIFgcJc\n",
       "flXpyoKCQEGg4HOxoE4QKAgUvIsFdYJAQaDgs/mgThAoCBS8iwV1gkBBoOBOOlhQECgIFNwHBXWC\n",
       "QEGg4DuKQZ0gUBAoOAcFdYJAQaDgc7GgThAoCBScg4I6QaAgUPDZfFAnCBR89BwsKAgUBApeNYI6\n",
       "QaAgUHDlGtQJAgWBguuOoE4QKAgUnIOCOkGgIFBwHxTUCQIFgYJzUFAnCBQECs5BQZ0gUBAozPFn\n",
       "RFcWFAQKAgXvYkGdIFAQKHgXC+oEgYJAwTkoqBMECgIF56CgThAoCBScg4I6QaAgUPB/NYI6QaAg\n",
       "UHAOCuoEgYJAwX1QUCcIFAQKnkFBnSBQECj4PYrBgoJAQaDgHBTUCQIFgYI76aBOECgIFJyDgjpB\n",
       "oCBQcA4K6gSBgkDBOSioEwQKAgXnoKBOECgIFJyDgjpBoCBQcA4K6gSBgkDBOSioEwQK/pkP6gSB\n",
       "gkDBP/NBnSBQECj471DBgoJAQaDgHBTUCQIFgYL7oKBOECgIFDyDgjpBoCBQmNu72EqdIFAQKLiT\n",
       "DhYUBAoCBe9iQZ0gUBAozO0ZtFInCBQECnNd3sU2FhQECgKFud0HrSwoCBQECqPRTp0gUBAoOAcF\n",
       "CwoCBYHC3O6DVhYUBAoCBXfSwYKCQEGg4BwULCgIFAQKc9/v/hE+mwUFgYJAwTkoWFAQKAgUnIOC\n",
       "BQWBgkBh7ts5aGNBQaAgUHAOChYUBAoCBc+gYEFBoCBQ8AwKFhQECgIFz6BgQUGgIFCYl2fQyoKC\n",
       "QEGg4BwULCgIFAQKnkHBgoJAQaAw9+vdP8Jns6AgUPDPfLCgIFAQKLhyDRYUBAoCBa8awYKCQEGg\n",
       "4F0sWFAQKAgUPIOCBQWBgkDBu1iwoCBQECjMy0FoZUFBoCBQ8C4WLCgIFAQK3sWCBQWBgkDBOShY\n",
       "UBAoCBQ8g4IFBYGCQGFe3sVWFhQECgIF56BgQUGgIFCY20NoZUFBoCBQcA4KFhQECgIF90HBgoJA\n",
       "QaDgHBQsKAgUBAqeQcGCgkBBoOB70sGCgkBBoOD3KAYLCgIFgYJ3sWBBQaAgUJjbQWhlQUGgIFBw\n",
       "DgoWFAQKAgX3QcGCgkBBoOBzsWBBQaAgUPAuFiwoCBQECp5BwYKCQEGg4HfaBwsKAgXXHcGCgkBB\n",
       "oOBVI1hQECgIFDyDggUFgYJAwa/HCRYUBAoCBeegYEFBoCBQ8AwKFhQECgIFHz0HCwoCBYGCz+aD\n",
       "BQWBgkDBu1iwoCBQECh4BgULCgIFgYLP5oMFBYGCQME5KFhQECgIFPwp42BBQaAgUPBrAoMFBYGC\n",
       "QMFn88GCgkBBoOA+KFhQECgIFLyLBQsKAgWBgnNQsKAgUBAo+BN+wYKCQEGg4F0sWFAQKAgUvIsF\n",
       "CwoCBYGCc1CwoCBQECj4flCwoCBQECh4FwsWFAQKAgW/RzFYUBAoCBScg4IFBYGCQMF9ULCgIFAQ\n",
       "KPhcLFhQECgIFLyLBQsKAgVXrsGCgkBBoOC6I1hQECgIFFx3BAsKAgWBguuOYEFBoCBQ8AwKFhQE\n",
       "CgIFfz4rWFAQKAgU/OmaYEFBoCBQcCcdLCgIFAQK7oOCBQWBgkDBOShYUBAoCBR8RzFYUBAoCBT8\n",
       "X41gQUGgIFBwHxQsKAgUBArug4IFBYGCQMF3FIMFBYGCQMG7WLCgIFAQKLiTDhYUBAoCBeegYEFB\n",
       "oCBQcCcdLCgIFAQK7qSDBQWBgkDBu1iwoCBQECh4FwsWFAQKAgWfiwULCgIFgYJ3sWBBQaAgUPAu\n",
       "FiwoCBQECj4XCxYUBAoCBe9iwYKCQEGg4E46WFAQKLjuCBYUBAoCBc+gYEFBoCBQcOUaLCgIFAQK\n",
       "zkHBgoJAQaDgz4gGCwoCBYGCc1CwoCBQECh4BgULCgIFgYJnULCgIFAQKMzLQ2hlQUGgIFBwDgoW\n",
       "FAQKAoX58QxaWVAQKAgUnIOCBQWBgkDBMyhYUBAoCBT8t/BgQUGgIFBwHxQsKAgUBAr+z2qwoCBQ\n",
       "ECg4BwULCgIFgYI76WBBQaAgUJgfd9IrCwoCBYGCd7FgQUGgIFDwLhYsKAgUBArOQcGCgkBBoDDf\n",
       "7oNWFhQECgIF56BgQUGgIFCYb99RXFlQECgIFObbOWhlQUGgIFDwDAoWFAQKAoX56056ZUFBoPAP\n",
       "38EfROHdM9kAAAAASUVORK5CYII=\n",
       "\" transform=\"translate(961, 292)\"/>\n",
       "</g>\n",
       "<g clip-path=\"url(#clip670)\">\n",
       "<text style=\"fill:#000000; fill-opacity:1; font-family:Arial,Helvetica Neue,Helvetica,sans-serif; font-size:89px; text-anchor:start;\" transform=\"rotate(0, 1068.76, 1225.58)\" x=\"1068.76\" y=\"1225.58\">25000</text>\n",
       "</g>\n",
       "<g clip-path=\"url(#clip670)\">\n",
       "<text style=\"fill:#000000; fill-opacity:1; font-family:Arial,Helvetica Neue,Helvetica,sans-serif; font-size:89px; text-anchor:start;\" transform=\"rotate(0, 1068.76, 1098.82)\" x=\"1068.76\" y=\"1098.82\">50000</text>\n",
       "</g>\n",
       "<g clip-path=\"url(#clip670)\">\n",
       "<text style=\"fill:#000000; fill-opacity:1; font-family:Arial,Helvetica Neue,Helvetica,sans-serif; font-size:89px; text-anchor:start;\" transform=\"rotate(0, 1068.76, 972.059)\" x=\"1068.76\" y=\"972.059\">75000</text>\n",
       "</g>\n",
       "<g clip-path=\"url(#clip670)\">\n",
       "<text style=\"fill:#000000; fill-opacity:1; font-family:Arial,Helvetica Neue,Helvetica,sans-serif; font-size:89px; text-anchor:start;\" transform=\"rotate(0, 1068.76, 845.297)\" x=\"1068.76\" y=\"845.297\">100000</text>\n",
       "</g>\n",
       "<g clip-path=\"url(#clip670)\">\n",
       "<text style=\"fill:#000000; fill-opacity:1; font-family:Arial,Helvetica Neue,Helvetica,sans-serif; font-size:89px; text-anchor:start;\" transform=\"rotate(0, 1068.76, 718.536)\" x=\"1068.76\" y=\"718.536\">125000</text>\n",
       "</g>\n",
       "<g clip-path=\"url(#clip670)\">\n",
       "<text style=\"fill:#000000; fill-opacity:1; font-family:Arial,Helvetica Neue,Helvetica,sans-serif; font-size:89px; text-anchor:start;\" transform=\"rotate(0, 1068.76, 591.774)\" x=\"1068.76\" y=\"591.774\">150000</text>\n",
       "</g>\n",
       "<g clip-path=\"url(#clip670)\">\n",
       "<text style=\"fill:#000000; fill-opacity:1; font-family:Arial,Helvetica Neue,Helvetica,sans-serif; font-size:89px; text-anchor:start;\" transform=\"rotate(0, 1068.76, 465.012)\" x=\"1068.76\" y=\"465.012\">175000</text>\n",
       "</g>\n",
       "<g clip-path=\"url(#clip670)\">\n",
       "<text style=\"fill:#000000; fill-opacity:1; font-family:Arial,Helvetica Neue,Helvetica,sans-serif; font-size:89px; text-anchor:start;\" transform=\"rotate(0, 1068.76, 338.25)\" x=\"1068.76\" y=\"338.25\">200000</text>\n",
       "</g>\n",
       "<polyline clip-path=\"url(#clip670)\" style=\"stroke:#000000; stroke-linecap:round; stroke-linejoin:round; stroke-width:4; stroke-opacity:1; fill:none\" points=\"\n",
       "  1032.76,1307.63 1032.76,1199.99 1056.76,1199.99 1032.76,1199.99 1032.76,1073.22 1056.76,1073.22 1032.76,1073.22 1032.76,946.463 1056.76,946.463 1032.76,946.463 \n",
       "  1032.76,819.701 1056.76,819.701 1032.76,819.701 1032.76,692.94 1056.76,692.94 1032.76,692.94 1032.76,566.178 1056.76,566.178 1032.76,566.178 1032.76,439.416 \n",
       "  1056.76,439.416 1032.76,439.416 1032.76,312.654 1056.76,312.654 1032.76,312.654 1032.76,292.372 \n",
       "  \"/>\n",
       "<defs>\n",
       "  <clipPath id=\"clip674\">\n",
       "    <rect x=\"1247\" y=\"292\" width=\"747\" height=\"1016\"/>\n",
       "  </clipPath>\n",
       "</defs>\n",
       "<path clip-path=\"url(#clip674)\" d=\"\n",
       "M1404.79 958.031 L1404.79 958.031 L1404.79 641.969 L1835.21 641.969 L1835.21 641.969 L1835.21 958.031 L1404.79 958.031  Z\n",
       "  \" fill=\"#ffffff\" fill-rule=\"evenodd\" fill-opacity=\"1\"/>\n",
       "<g clip-path=\"url(#clip674)\">\n",
       "<image width=\"746\" height=\"1015\" xlink:href=\"data:image/png;base64,\n",
       "iVBORw0KGgoAAAANSUhEUgAAAuoAAAP3CAYAAAB6WGtXAAAgAElEQVR4nOzd63bjypWu6S8C4EFS\n",
       "HlYtl8vuqu7RPUbdQ19SX9S+pH0VvWvvUV22yy5n5pJEEkDM/gHwpFPyAJIzgPexqcyVIsEIABI+\n",
       "BCcCwcwEAAAAwJd46wYAAAAAeI2gDgAAADhEUAcAAAAcIqgDAAAADhHUAQAAAIcI6gAAAIBDBHUA\n",
       "AADAIYI6AAAA4BBBHQAAAHCIoA4AAAA4RFAHAAAAHCKoAwAAAA4R1AEAAACHCOoAAACAQwR1AAAA\n",
       "wCGCOgAAAOAQQR0AAABwiKAOAAAAOERQBwAAABwiqAMAAAAOEdQBAAAAhwjqAAAAgEMEdQAAAMAh\n",
       "gjoAAADgEEEdAAAAcIigDgAAADhEUAcAAAAcIqgDAAAADhHUAQAAAIcI6gAAAIBDBHUAAADAIYI6\n",
       "AAAA4BBBHQAAAHCIoA4AAAA4RFAHAAAAHCKoAwAAAA4R1AEAAACHCOoAAACAQwR1AAAAwCGCOgAA\n",
       "AOAQQR0AAABwiKAOAAAAOERQBwAAABwiqAMAAAAOEdQBAAAAhwjqAAAAgEMEdQAAAMAhgjoAAADg\n",
       "EEEdAAAAcIigDgAAADhEUAcAAAAcIqgDAAAADhHUAQAAAIcI6gAAAIBDBHUAAADAIYI6AAAA4BBB\n",
       "HQAAAHCIoA4AAAA4RFAHAAAAHCKoAwAAAA4R1AEAAACHCOoAAACAQwR1AAAAwCGCOgAAAOAQQR0A\n",
       "AABwiKAOAAAAOERQBwAAABwiqAMAAAAOEdQBAAAAhwjqAAAAgEMEdQAAAMAhgjoAAADgEEEdAAAA\n",
       "cIigDgAAADhEUAcAAAAcIqgDAAAADhHUAQAAAIcI6gAAAIBDBHUAAADAIYI6AAAA4BBBHQAAAHCI\n",
       "oA4AAAA4RFAHAAAAHCKoAwAAAA4R1AEAAACHCOoAAACAQwR1AAAAwCGCOgAAAOAQQR0AAABwiKAO\n",
       "AAAAOERQBwAAABwiqAMAAAAOEdQBAAAAhwjqAAAAgEMEdQAAAMAhgjoAAADgEEEdAAAAcIigDgAA\n",
       "ADhEUAcAAAAcIqgDAAAADhHUAQAAAIcI6gAAAIBDBHUAAADAIYI6AAAA4BBBHQAAAHCIoA4AAAA4\n",
       "RFAHAAAAHCKoAwAAAA4R1AEAAACHCOoAAACAQwR1AAAAwCGCOgAAAOAQQR0AAABwiKAOAAAAOERQ\n",
       "BwAAABwiqAMAAAAOEdQBAAAAhwjqAAAAgEMEdQAAAMAhgjoAAADgEEEdAAAAcIigDgAAADhEUAcA\n",
       "AAAcIqgDAAAADhHUAQAAAIcI6gAAAIBDBHUAAADAIYI6AAAA4BBBHQAAAHCIoA4AAAA4RFAHAAAA\n",
       "HCKoAwAAAA4R1AEAAACHCOoAAACAQwR1AAAAwCGCOgAAAOAQQR0AAABwiKAOAAAAOERQBwAAABwi\n",
       "qAMAAAAOEdQBAAAAhwjqAAAAgEMEdQAAAMAhgjoAAADgEEEdAAAAcIigDgAAADhEUAcAAAAcIqgD\n",
       "AAAADhHUAQAAAIcI6gAAAIBDBHUAAADAIYI6AAAA4BBBHQAAAHCIoA4AAAA4RFAHAAAAHCKoAwAA\n",
       "AA4R1AEAAACHCOoAAACAQwR1AAAAwCGCOgAAAOAQQR0AAABwiKAOAAAAOERQBwAAABwiqAMAAAAO\n",
       "EdQBAAAAhwjqAAAAgEMEdQAAAMAhgjoAAADgEEEdAAAAcIigDgAAADhEUAcAAAAcIqgDAAAADhHU\n",
       "AQAAAIcI6gAAAIBDBHUAAADAIYI6AAAA4BBBHQAAAHCIoA4AAAA4RFAHAAAAHCKoAwAAAA4R1AEA\n",
       "AACHCOoAAACAQwR1AAAAwCGCOgAAAOAQQR0AAABwiKAOAAAAOERQBwAAABwiqAMAAAAOEdQBAAAA\n",
       "hwjqAAAAgEMEdQAAAMAhgjoAAADgEEEdAAAAcIigDgAAADhEUAcAAAAcIqgDAAAADhHUAQAAAIcI\n",
       "6gAAAIBDBHUAAADAIYI6AAAA4BBBHQAAAHCIoA4AAAA4RFAHAAAAHCKoAwAAAA4R1AEAAACHCOoA\n",
       "AACAQwR1AAAAwCGCOgAAAOAQQR0AAABwiKAOAAAAOERQBwAAABwiqAMAAAAOEdQBAAAAhwjqAAAA\n",
       "gEMEdQAAAMAhgjoAAADgEEEdAAAAcIigDgAAADhEUAcAAAAcIqgDAAAADhHUAQAAAIcI6gAAAIBD\n",
       "BHUAAADAIYI6AAAA4BBBHQAAAHCIoA4AAAA4RFAHAAAAHCKoAwAAAA4R1AEAAACHCOoAAACAQwR1\n",
       "AAAAwCGCOgAAAOAQQR0AAABwiKAOAAAAOERQBwAAABwiqAMAAAAOEdQBAAAAhwjqAAAAgEMEdQAA\n",
       "AMAhgjoAAADgEEEdAAAAcIigDgAAADhEUAcAAAAcIqgDAAAADhHUAQAAAIcI6gAAAIBDBHUAAADA\n",
       "IYI6AAAA4BBBHQAAAHCIoA4AAAA4RFAHAAAAHCKoAwAAAA4R1AEAAACHCOoAAACAQwR1AAAAwCGC\n",
       "OgAAAOAQQR0AAABwiKAOAAAAOERQBwAAABwiqAMAAAAOEdQBAAAAhwjqAAAAgEMEdQAAAMAhgjoA\n",
       "AADgEEEdAAAAcIigDgAAADhEUAcAAAAcIqgDAAAADhHUAQAAAIcI6gAAAIBDBHUAAADAIYI6AAAA\n",
       "4BBBHQAAAHCIoA4AAAA4RFAHAAAAHCKoAwAAAA4R1AEAAACHCOoAAACAQwR1AAAAwCGCOgAAAOAQ\n",
       "QR0AAABwiKAOAAAAOERQBwAAABwiqAMAAAAOEdQBAAAAhwjqAAAAgEMEdQAAAMAhgjoAAADgEEEd\n",
       "AAAAcIigDgAAADhEUAcAAAAcIqgDAAAADhHUAQAAAIcI6gAAAIBDBHUAAADAIYI6AAAA4BBBHQAA\n",
       "AHCIoA4AAAA4RFAHAAAAHCKoAwAAAA4R1AEAAACHCOoAAACAQwR1AAAAwCGCOgAAAOAQQR0AAABw\n",
       "iKAOAAAAOERQBwAAABwiqAMAAAAOEdQBAAAAhwjqAAAAgEMEdQAAAMAhgjoAAADgEEEdAAAAcIig\n",
       "DgAAADhEUAcAAAAcIqgDAAAADhHUAQAAAIcI6gAAAIBDBHUAAADAIYI6AAAA4BBBHQAAAHCIoA4A\n",
       "AAA4RFAHAAAAHCKoAwAAAA4R1AEAAACHCOoAAACAQwR1AAAAwCGCOgAAAOAQQR0AAABwiKAOAAAA\n",
       "OERQBwAAABwiqAMAAAAOEdQBAAAAhwjqAAAAgEMEdQAAAMAhgjoAAADgEEEdAAAAcIigDgAAADhE\n",
       "UAcAAAAcIqgDAAAADhHUAQAAAIcI6gAAAIBDBHUAAADAIYI6AAAA4BBBHQAAAHCIoA4AAAA4RFAH\n",
       "AAAAHCKoAwAAAA4R1AEAAACHyls3AOP0f/8/f7dDnheCJIXLNqZHubX3UEPtF3BbJjvoN2FucuvX\n",
       "4e397//tF34R4qoYUQd6MsQwG8Iw+wX4EHZ+xoYkDLBPwG0Q1OFWTgExp7YeatunYfUL8KX9GRte\n",
       "sM2pTzm1FWNDUIdLOQXfnNp6EEbRgRvowuKgfuxyCsA5tRVjQlCHOzmFxJzaeogQpMAoOnAjof3f\n",
       "oH78cupPTm3FWBDUgRMNMaQPqT9AvoYWGIfWH+B6mPUFruQSFnNp5yG2B9Bh9GdorhFw8pqhYyyC\n",
       "Qmg3zDC2T9sf/33JpZ0YC4I63Mgl/ObSzkMMqS85+nkIv862advxcTIhuNxCu/2HExxzCcG5tBNj\n",
       "QFCHD5kExiEF2yH1xbu3A7m3df9xe94L84SZaxhScMylL0EK9rPzV+DiCOpwwVtkeV8+Lf0IIf1y\n",
       "XofyIa3n1315K8D7D2E5yiXgHiIohwScRysxdAR13FwuoXEIF0NRj96vYYfyY+z3m/B+KcOpWw8h\n",
       "hz4M6eQIuSKo46byCun+2/mRIfTBg/1wzvp838vwvk07BJ9zDKVuPZcQnEs7MVQEdeAnhhBwh9CH\n",
       "WyGY92W77l6OuBOCTjGEADmEPgCXxTzquJkcwmMObfyZIfTh2kLYPta3eGcd9m27XvfXNw43hPnJ\n",
       "c+hDDm3EUDGijpvIITzm0MafGUIfroWR81vaHW1npP04QxiVzqEPYW/fBK6FoA68IfuAGzaVrDdu\n",
       "iG+Ec48I7cfrgq6U8TQlOYR14PoI6rgRQtGlMLPLz7GOcvE6tBPk3hMUZFIWs6nkit8XuD6COvBC\n",
       "zqPpObf90gjnuVvPdiKth40JpC/lPiMMo+rAS1xMCuzIOejm3PZLen1RKPK3fxEqXsr54sec2w70\n",
       "j6AOdHIOujm3/SLenLUFw/MisLOZd+QceHNuO9AvSl8AqTvA53lkIKRvUd4yVjuXTlPLviPnUpLQ\n",
       "bsss2w70hxF1QPnGOkJ6i9FzbFEWsy/f0elMmw30iqCO0cs17Oba7j4R0PE+AvtWrmE913YD/SGo\n",
       "Y9RyDbu5trsvBHQcjsDeyjX05tpuoB8EdYxXpmF3zCGdgI7TEdjzDb2BH3eMFkEdo5Xj7/2xh3QC\n",
       "Os63DezjlGffM2wy0AuCOkYpx8CbY5v7sD+KDvRlzKPrOYb1HNsMnI+gjtHJMfTl2OZzUeaCyxtz\n",
       "OUyOwTfHNgPnIahjhPL6TT+6kE5Ax9XtlMOMapfLMfhm12DgLAR1jEpuB6WxhfSwuWZsPH2GJ6GN\n",
       "7KPa/fIL67m1FzgHQR2jkVvoza2956DMBX6MsRwmt7CeW3uB0xHUMSIZ/WbPqKnnIqDDpxHODpNV\n",
       "X7NqLHAygjpGIbeD7RjKP5jNBXkYy+h6yO4ncfjbBCCoYwRyC4O5tfcUjKIjL2MZXc+tj7m1Fzge\n",
       "QR0jkM9v8qGHdEbRkbcxjK7nFn6zaixwNII6Bi2nA87QA+x2Wwy3jxiDrjBt0LtxXmE9p7YCxyKo\n",
       "Y7ByCr45tfUUlLpgWMZQCpNT/3JqK3AcgjoGLI/f3EMO6ZS6YNiGXgqTUwDOpqHAUQjqGKR8Di7D\n",
       "RakLxmEMpTB5YBtgiAjqGJycRnBzausxKHXBuAy5FCanfuXUVuAwBHXgRoYf0oGxGWpQHGq/AP8I\n",
       "6hiUXEJiLu08BvXogDTcuvVcwnou7QQOQ1DHwPj/DT3EMEs9OrBrqHXruYTgLBoJHISgjsHI4wAy\n",
       "PNSjA28Zct26f6x3DAVBHYOQyyh1Lu081ND6A/RvaGE9l/7k0k7gYwR14EqGFmqH1h/gcoYWGofW\n",
       "H8Avgjqyl0NgzKGNxxhaf4DLG1q4zaE/ObQR+BhBHQPAb+JrIqQDpyI4Xh8rHHkjqCNrORz0hhRs\n",
       "h9QX4DaGFNbz6EsObQTeQ1BH5nz/Bh5SsB1SX4DbyiPgHiaHvrhvIPAugjqy5f/gMByEdKBvOQTc\n",
       "4WBdI1cEdWQph+CYQxsPMZR+AP4MJazn0I8c2gi8RlAHLmAo4XYo/QD8GkqAHEo/AF/KWzcAOBbh\n",
       "8TpYz46F07aMbb7Al6AQTMa2uTDWM/JDUAd6NoSAO4Q+5Oq0UcmPXmT7zzpg+QSZWxhCiBxCHwBf\n",
       "COrIivcA6b19hxhCH3Lxfijvc/0fuyx7s12Er2sYQtD13gfv7QP2EdQBbBDSL+c6obwPb7WH8H49\n",
       "BEkAWwR1ZMN7iPTevp/Jvf0evQ63ua7fn4d3gmWfcg/r3tvvvX3AFkEd6EPmIZeQ3o/hBPND7Pct\n",
       "hP3UQwg6V+5hMkjBuHgZOBPTMyIL3oOk35b9nPd1615o1+E2pIedx5js93uzTsa2GnqV95SHvpue\n",
       "97rFeDCiDpwp56DLgep0++uOFbkv7PzNNv+Z7+jwbYWQ67rL/VMB4PYI6nAv5yCcB9btoQjnp9gJ\n",
       "7TvlMYS3QwVRP3IpnEjAP0pfgDPkfBKRc9uv7e3SFhzvjdIYHCDnMo2c2w7cHkEdrvkPk57b9j7/\n",
       "69UHAvqlENiPl3Pg9dzwnNcrxoCgDpwo11/uhPTDUOZyDbtlMTdsRjbyDZW5thu4NYI6nPP52z3X\n",
       "sMvBEshfnj/Hnk8y3DYMIKjDL7+/1HPHij0EF5hdF+v7UPz8XgLHG3jFrC9wzOdvzrxH0/Nrd19S\n",
       "SrduAs4UI2NLrVxnK/HcbmbXgU8EdbjE6Ea/xhjSbS8NmJaLhZbL573vmxHeXQtBMWzDeSwK3d8/\n",
       "qCjKnaeMa7/e8hx685TvfPUYMoI6cIQcA+9oc4zWYbw98japUV1XqlbP2oycWdoJ9Byh/QkKIW52\n",
       "4hCiqtVKd/cPms3mkqQYQxfWx7mj5xcuOcEAjkFQhzs5hmH/xrU+1wF9PWqekik1tSw1bThPK8ka\n",
       "yUwmkxhZd8tCkBQVQlBSlKVaTb1SNb/X3d2DVJabKR7HN7pOuUa/OImAPwR14EA5nkDk2OY+pNTo\n",
       "x/dvappGZklmSaUlFc1KwVYyW0qWujWT2rBO4HHJkqQQJQWZopq6VpUqNc1Kq+VCD5+/aj6ft983\n",
       "G2VYzy9c5thm4DYI6nBobAfayxhjSF+XsaxH01fL32RNJclkSirUqLRaKS0VZN1td7qQTmpwp90y\n",
       "od001gb1EKLqplJqVqqapX6kWk39VQ+fPm/KQAjrOB2fUsAXgjpc8Xp8HWPozZWZKaVtbbqllaxZ\n",
       "qFFSUKOgRoWaTVCP8rvfQUqmzecdpqBghaRCjSo1aSWzRr911x98+vxVRVFIGmNYz43fk4v86v4x\n",
       "ZAR1OMPBtQ9jO7GoqkrL5bMsmZIlRUuahUYxmlJhUkj6l99HzQqpkBRNmsZaZUxtbfOtO4A3NSmq\n",
       "SoWsC+uLSvr3v9QqJTVBaiSt0lKpDlo8S2ZJ9w+fNxeajovf4JsfRtXhB0EdbngdAMst9ObW3n6Y\n",
       "VstlW+pipkKmaWg0DbXUPeah0D//LuqXh1LBgqYxaFrUmha1tnOGcHC+ve2ZU51My1paNWUb1FfS\n",
       "57ugf/9L0uPS1KhQoaCVLVVXSYtUq64rPXz6qvv7hxGOqucW1v22l1F1eEFQBzAYZqZUP0tWK4VG\n",
       "KdSaqFYZak1lmqnQL/dRf/y11CQGzQppWkqzolYMu3XqRma/hdCNZHYnm3UyLRvTqjYtm1LPy6DP\n",
       "d0Gf75L+/S+N/vqtbj8hkbSypFXdqLZGv6VaTVPr06cv3CQJQNYI6nDE3+hXbqPTubW3L5ubF3WP\n",
       "oFpFSCqUVISkaUiaL/5Ls0Wh2XOhu1Wh+NvfFapnxbJWKGoVsenCOSH9Zta7bjcSPvvyRQ/zT1qG\n",
       "QiuV+hFn+nH3oC93Qb/dBf32mFTXjYK15UxRQclqpdSorio1Ta0Yp7frz034HaV+m9f2Uv4CHwjq\n",
       "cGF0n1BfwsjXoaXUTcXYSEoKSpoU0kTSJEhllKaLv2r+2Gh2Vyg+/l3L//izHr//XVVZqwxNtyDx\n",
       "mfetrE80u325/PpFsz/8QbNff1WoS1XVTLPnryrDLyqjVMagSZTqpj1RMzXdyRrbj5x5Pspf4AFB\n",
       "HXhHbqPTYefreLU3LzI1m1H2IprKKE26x7T6TfPHZ4Xf/i49/knLv/xZj3/6k8rYdNMAiqPzrXQ/\n",
       "c+sbjZZfvqj+4x80+8M/afbHP2iW7jR7fNb86VnT9IsmcdoGdZMqMym1J2pmjVJqRrwZg0J3d4A8\n",
       "eB1VB26PoI6byy0QezT6dfjyAG+2fcgUgxRlipJiMMVmqbj8TcXOo/n2XbFblhnlL7dQB20+XgtB\n",
       "ssWzYlS7/aJUfP29ymqiontElYqhaL8fujnx12dbm+0/VoTf87EOcXsEdeAtYw++Q2UmSzshrjGp\n",
       "TlKVpDqplFRsJ+3GldVBWgVTkmRB7bZJti1nSUeGb36EMxKkwAky8BJBHQ74O5r6a9H7xjSavr6W\n",
       "4awRLtsGP0upfdTtQ9YG9ZKwcBNlaOe5X4Y2tFudZFVqT6i6kG5dicupetmHspHXiLDPsnqfrcJ4\n",
       "ENRxU34vInXbsNHa7itvHDiP3Vy7dejd30NjCtYGxdKkmNbfxGW8vtNU3dWmJ0kpaBPQLe2Mpm+2\n",
       "26nbpt1/uFDQI5+hmH0Ft0RQB17we/Lw2lhG0/dD+uUOnEWQJiZNFRSjpBQUzPRWqERPwm40M1WX\n",
       "fKsXJ3vjCGCZjaqPYpsAhyOo48ZIP6caa0i/+PtJKmPUJEZFBQULav93XBPGNwvP8bOMmCQLJpMp\n",
       "mcmaWrVMq0s07xXCOg7lc6Qf40BQx814HLkeS/jNxrsh/cIHziBNJxMVISoqKoagqOPucDm+29d3\n",
       "s+UcISkpmSkpqbGkypKK1Ki42AcY7+xH5DBHfJ5UjOOEDh5xb2UgQ2M5ofhoVPpqOfiodR0UQhhl\n",
       "SJe00/fD19e1duP3N0kYwU+StJmfHkBWGFHHDXk8anhs0zjldDIy1mD+nt1td+wo+234HMUdL48f\n",
       "cXhsE8aAoI6b8JhrPLbpLTkF2FMd1sfLHTgPHg++4rD+Jd6qDaaXDR/rdXRIYL/s2vz5/jT8sJ5P\n",
       "Hz2WmuRyjMCwENQBuHLMicitDuaXDejXK1F4a11fKrwfE9j7f++Dn5lNkAUwDgR13IivoYlcRqlz\n",
       "aeepPI1YvVMZf4E2+qodfrmP9R3cQwhvLtPRKnA5mtufXE5GPLbT016KsSCoA3DhtGkYr1M3us6u\n",
       "/R2mfYXzj+zXm0t9rO/QzZ0erhbCjt+nhh3WAeSCoA5kYtCj6WfMlX65wLsz50xP75H7Rae9XyQa\n",
       "dsP6hSZkPGmxQ5+20eNoNYC3ENQxeoMOwJlweXOgvvaLMMzp/zY151IPQ8/hmsPrBwoKJ9zECX3i\n",
       "hAJgHnUgA0M+mTi/b5deL+HFnwe+qptTfJhbbStod/70Y1+5++elnLdvZf4hyAeG3DdgOAjqwOCj\n",
       "lF85BYVjpmzMvcTlVMf0Pac1NNLN6QQrH+NG6QtGjQOwB8PYCLcP52+9/21qBm45FWP/Bluong0u\n",
       "7MWYEdQB54Za9pJFvw5q3jVKCE59j49fdOkbHr03FePrJ160GT0Yaq30UPsFDAdBHSPnPCgO1M0H\n",
       "nw8U3vjb3vcv0pFh3fBo/R5vj653UyH29m6Xxcjurbg/kwMuhhp1jFYOYTGLUedjnTEV40282cy+\n",
       "69DD9uLTG6+WEHZrzXucOf695WWyG2wamk17D3X7fe4QObQRuARG1AFclcupGI/QX0D3H5D6vtnR\n",
       "x6PrOWDKRgDXRVAHXHOe5I7kPZh+KLQx7ezFZLoS+rzZUQhd3M008Q6vBIbSEsArSl8wSjmUlGSa\n",
       "5w4w2I59aEjTNg6pL8cbZr/9b07/n0ABl0BQB3AVOZwcveesW+YMONSe27d81wqhEcB1ENQBh3IO\n",
       "tYN0wqYYckB/6eS+jmP1ZIKTD8AjatQxUhyRrm33YsRtIMhpOxzY1tBHJXue2tpzHVjAnVtddNvW\n",
       "YdWm5ya3fQY4H0Edo8Oo0e1tw04fwf2yB+7w4s8Pn3vxnSus/38y2//Su/bDoJ/P7LKOXJf/cTz1\n",
       "XQjmHg3vQl7gYwR1wJkxlr28DO7SIeHdzx0VLxbQLzA6H/a/SNIRo+BHvE/oZ4aYc60/yfn454pQ\n",
       "3uJOpYA3BHVgpHYDVEqNFs/P2+/J2u/vHbDfO3p7OKlYt+36ben/xkc9Lu7gd9XeR0193p00HDC6\n",
       "fh7rZjZvR84tVUr1k1Yh6sf3qOl0fsH3PtRu/8POvwWFGPa+d3d3rxi3l4+N5ToHAG8jqGNUxjha\n",
       "/ZF1gEpN0mq11OL5u7SZ39pklm7ZvKOZNZKStAlufXhvf+kvVHsLY33Omd4uL3wQ/nvou5m0s69a\n",
       "s1STKi2apZbP0/OXf0Htto+b1bB8ftDD56+aTmcvnoMWo/4YF4I64MgtTiTMTE1KSqmRzJTqJ5nV\n",
       "XfBpA1AW92LcC4JJsj5b/WKb9FKSkscsG9sSFumck58QJNPLAuP+Lg5sm5e65QfJktLquxSLXpZ/\n",
       "GaG9iVaIai8+CFo2K9X1Unf3X3T/8FkxtP+uq80iRBAGPCGoAyPwclR0uVyoaRqZmSwlRZkmaqTQ\n",
       "KIUks5WKqDakh/3RSrc2GcYUgzQppWkhTQppUrTBzVIX4NcnIR8uLuitk6bzw1IeAf2l9UnkOYH9\n",
       "/QtN3w6hZialJKUks6Qg07QM3TaVpmVQMsmKdZuCatuWwbT87rsmKZkki20Qt6hV3cgs6TEl1XWl\n",
       "h4cvmkwnm1XO6DowLgR1YCT2a9KTnh5/qKmXMpPKYJqGRnexUYq1ktUqo1SEoKD0RrDyPdwWozQt\n",
       "gqalNC/ax6zs+pKaNvilpPeHDcN6gHP/X88MSUMIWdvAfs7o+s7r17PYvLM4W5dgbcJ60mwSNJ8E\n",
       "zet2fRbRuv1Vqt+4MNmntu11MtWW1J6sRBVmWqVnpSppkepNWJ/f3bcvM7vi6DqAWyOoYzS816df\n",
       "p33WlfO2oSc1laxZqAmmJjQqQqOpKinUKkJQGaQySsF96NnXBnVpWrajrvMiaDaR5pOgIrafIrQj\n",
       "tc0bnxa8TOdv//Mxhhiqzp7VJUjh1Uvf+ASjfZNumzWbPyeFNJu0z4ixndWlkO0Ede/a0qwmtScX\n",
       "TUpKSipkipJWZqrqWrXV+tHUqqpKD58+K8a43SUvtl95L3/x3j6gPwR1YODMTHVdt2UulpSSSalR\n",
       "tKRCSUmNPs9rPUxNUzWaqNHEksrmSWWQiiiVIbMbjZipLLaj6pMohcWT1DwpNE+y5lHBrH2k9iFp\n",
       "U+wSgtra4M7pcSjPMpdjfHyh6Aev64bSo4JMQXFdbGTb7dA8P6t+fFTx9KDm6VHTT3f6Wky0Kkot\n",
       "00SrSalmUmhVm1a1VDWmxm+ly+tpMUOhurxrw3oKasz052+1ZFIIJpmpbkyNpMVz+/N7//BJk8lk\n",
       "E1KHeBIIYIugDoxAXddaPD92Yd2kZqUiVYqqlaxSaY3+8Euh330uNZFUJtN0UWuy/C8VQSpjF9Rf\n",
       "TdnoVRtq4rqmOZqq5Xet/vObVpO/ajn5m2z1JFW1okmxK8OPXRlGEaNiLDbB8ZSkPqYAdXI5TAiK\n",
       "IUrWRvMYgkK3PWJ33Wnz44dWk6BQBilKd18r/R/3S83CSvOwlIVCuouqmjasJ+9BPWyvfbBYqJr/\n",
       "qmr2i+pkaky6v0v6X3+pZZUpmSkoqEkrpRVz3E4AACAASURBVDpquQgyme7uHjSbeZh2EsClEdQB\n",
       "Ny4b7EymavXcBthUS7ZSTEuVqlQqqTDT53mh//0fSxXJNF0UmiyiJou/qbRaway7ELPPqQ8vxNTN\n",
       "AJJkyTQpTPX0m6rZN1XfvmuV/iZbPUuPS9nTsg3qZooWFEMb1IsitiObpi5IHu5as3McepfSS9+N\n",
       "dNOik+ZMDwpRKhTbEyRJ0aw7eWo/9bDnhVZ//YsUTVatVH5Z6Z+/rjSPXVAP7cwpydpRab+62vLu\n",
       "YaFQdddoNW9UzX9VHUrd3yXNZkH/88+N/vYjdds4KlmlpglaLbrStZQ0v7u/aPmL+59zYAQI6hgR\n",
       "vyOcl891tpkePaVKwWpZWkmpVrBG01BrotQ+QtQf/iEp/H2pqZaaaKnJ4m8Kqe5G1HcDu2Pd3Npm\n",
       "SVqZkp5U2XfV+qbqx9+lVSU9raTflorPC6XUlhtsyi82UzB2Xw/q7qVKXc5bbtj/stHnjY0273VE\n",
       "Kcw6Cq5ng5lPp1rWtSZ1o4lMadUorhpp0kiLSqs//0XN80KTp4Wa54W+fllIMbZhNcZumkO/2psb\n",
       "bR9xOld6iKrmUat5VHX3q6TYXmDamOom6dtTLVmhEArJopoUVVdBixgVYqH5fH6xsB5ezqbpCicS\n",
       "GAeCOkZhRFUIb7LNPOntTCfBkmKQYjBFa8PprKx1Vza6mxS6Kxstvv1NT//+PzRZ/E3Txd+kum6v\n",
       "fMshpK+tp/fr+mhVrfTtWen7s8qm0UMRFYqgFEI7aN5OvqFgQSFJ2ovqH+s/LF2+vn3/xkZSf3cj\n",
       "bZf70/2k+8TCQntx4HQy1a9fSk1++01FVWlqpqcfC6W6kdWNNJ+o+bFQ9dfvmnz9rurLd23mtI9x\n",
       "M1LtVQhBKrq7kYagOJtr/q9T3X3+rGJSqSwrTYtiU68fg3X7VXvCaUr53NfgCnyfSAD9IKgDI7G+\n",
       "mHQzyqy0vXBS1s6lXiTdlUl3k0ZhUum5ftTz//g31c9/U6grWZOkxmTJ8jpCWmpHybtH+vGs1DRK\n",
       "IeghRpWTiaxZX8zYhXS7TUi/VW1733cjbZd5WClMsO3NkGII+vLpk8rFQk/Lpcom6fG50rJO0rKW\n",
       "BcnCs6q/ftPk69f9YJ7DiHp3cqiiDeqpmGpeTHX3r59VTirdTZLmZVARu7DePVL7edimnMtSRj9/\n",
       "AE5GUAdu7NrTRrajcW1oN0vtzCdh+4F8EZNmZSXrHiprLf78J9nTs6wxqUntn5kFhTakt7XPwdrB\n",
       "8ySpiYUe7u40/fRJ7f0hQxvWD+xeP8Ha1+wwfd2NdL2sQ8O61m8Xgu5nc02KQuH5WaobqWq0rBop\n",
       "qAvrQcsfz2e17dosdiPqXViP93fS/EGa30vze83/9V7zcqp5GTQvg8oY1vcu7ebGaX9+g9pPyCw1\n",
       "F24x0yACt0ZQB7Bvfa3oeoaXrtSllDSRupRke9Po5aA9GdkJPd3NSdf/Hk/oSR8h3fPsMH3c3Khd\n",
       "zoFhfb0NusL1STnRr18mmj4+qlittDDb7pbyX6H88v63tUnLzc9Wt052fs5+3invPQbQN4I6RsJv\n",
       "GLq+D9KA7USgl+GhmzZvKttMoVdo96JLv9pwHhRjO293MElxPWd3UNGNoh+1zBHdpfTsmxvpuLAe\n",
       "tMmyMklfHj5pMlnqcbFQ6k4cX4Zgj0ymZNJ63LsxaWLSs0lpL5jvfpzw+q8vl4o1LijF8BHUMXgZ\n",
       "5SEfXoaHlzO9JKk0U9EF9SIElTGqKIp+3r+n4L+eSWT99xi76f+K2N7d0bpIuJ6CUYe/73kh21eZ\n",
       "yzFOvbnR/usPe+1m26gN7PezuebTqVJK7V08uz83rJ9LLK1bVh+aplHdtbOR1JhtTgiX1v736xH1\n",
       "7k/3p78+cEEpho6gDtxcJgdk22/puvSlHVmPKsNOUP/p/N4/6XOvrw+bmQmDoqJFRdsW7YTd5xzk\n",
       "nHkS/X/68DMhbC/8PHEJOjToh67sZv2KqPYkK4akFJKKkHaaYduvJ5aPbF774UY64PWbDpiSklII\n",
       "7X0Idr/10Vu4wqg1cEsEdeCGch1ZXWuDelARuqD+Tn9e//PHSTy8/K+Dn/v281+eYMhOD8ynbrOc\n",
       "Sl1+Zv1pxSmlMEePgK6vidi5IKJQVAzttJrdwPvO86WXVwL/PLdvn/FhBdQbZwGvlh2230hKXSlP\n",
       "3kGXUWvgdgjqAI72MssEtbd/f3dkOrx89gELPWdZP3te2v3+5UtehhTSd512J9IjS2DWIXH36etr\n",
       "C0Jx0JziO2PtevnX3etXX8Xul4sOP1nW7j8F214PsZ6ff/8tAeCnCOoAevFh3LUDwuohz/nZ+6yf\n",
       "c0gwPvD9jlpmj6/LxXXC+nqGlDe+92J/eCu47xY5Hfycd9q2+7xDnrMZhWdEGsAJfN8dAujFsINS\n",
       "Dg4Lq3095xII6R85vZ+et2dPJ4S4MLYBho0RdQya/+Oo+wZezSHb6rC8f9g6PW40/eCnnrT8E5Z+\n",
       "wAW3+2z/S/8tOmFk/Zja54OXf8BCD3lf6rJ3+b6glG2FISOoAzfi/yQiT32v1lMC92VC+nnTOob9\n",
       "L73cdfTVe5wU1s+/odLe8uQ5UuaLMAzcBqUvAC7MX9nLJUe7+152CKF79LrY9o6s3bL7XW4u69bf\n",
       "fgkALxHUAVxUXyUthz3nxqGzx/e/RIi+2nsduaxbbLdr7pcAcCqCOoBROTwUHpvA+rqZ0fUC+qt3\n",
       "3p2s/Jzl7Hw99lU/fRbJGMCIENQBZOD6JQi3GEy/RInL8W3oJwzf8MOI9RJ7eg4A3A5BHQPn+UDs\n",
       "uW09OagE4XplCoev8+uXbngbKb5Nn/rbPlctp3K27S7Dcx89tw04D0EduIFRHNfl7/B56Hq/7va5\n",
       "XanLz/RVCnP4+/X7vGtx1pyL8bbegTEgqGOwOKiMye029nkh+/alLj8TdqZ0PO31t+yg85WL3nj/\n",
       "OQJORVAH4FpfpTGXuVjxvHSQS7g4v53H3Fzq2uUvmWwEAKNEUAdwO1cMSZd4q7NuQJRZQDynvd7W\n",
       "ve83A4AtgjqAyzhkJPwKzTjO9eYtz9H12u1r/Rz2gY2vNgMYBoI6gIu44lh5T885LmudHlpzD3Sn\n",
       "tf+Y9XX4U/1MwZj7VgXgE0EdgGPXnLrxOjy15RSe2n/9aTsB4LoI6gDOdqmY4ykU7rv8qLJnQ/s0\n",
       "4VKbxWdvAeSEoA7cxIAO4Sd3xdk6uEhpBnYdN6GOt5V8Ynu8deMsg+oMkAWCOnBl7vLHjXhbD5du\n",
       "zlBG09cu3R9va2tgm+9krAfgugjqADJ2i4sJSSrnucX2YJsByBNBHQPGwfl2rjXNYT/P6fs933hV\n",
       "v41w4/h+3WJ7XG8UeKjbOQesewwTQR0ALnyQH2q5wOX7NdAVBwAHIqgD6F0/Ae6KIY086NNVt8v5\n",
       "bzbUEzIAt0NQB+DTYHL60NPb5fqXWU4HgN4R1AG45DM3ndAqnx3pz0Bq9v21CAAI6hgqjrq4BHL6\n",
       "KwPJ6RgC9isMEEEdg8Tva1wC+1U/WI+4BPYrDBFBHQAAAHCIoA5gwBhjGwe2M4BhIqgDAAAADhHU\n",
       "AQAAAIcI6gAAAIBDBHUAA2a3bgCugu0MYJgI6gAAAIBDBHUMEuNruAT2q36wHnEJ7FcYIoI6honf\n",
       "2LiEE/aroe+KJ/Vv6CsFt8F+hQEiqANwyecxl6T+ykCSur8WAQBBHYBXV0xOl32roUfAy/Xvqmtu\n",
       "6JsJQJYI6gB6Z72EnsEkdZwqs6Tez34PAFsEdQC49Jj6QAPc5fs10BUHAAciqGPAOMjfznXW/SFB\n",
       "se8wedryhrovHt+vW2yP650oDXU754B1j2EiqAPI2CEH574P4ASC89xie7DNAOSJoA5c2VDLII7l\n",
       "bT1cujnmrcNnunR/vK2tgW2+k7EegOsiqAM3MaCj3cldcbYOjkgghJXTHLXe3K3kE9vjrRtnGVRn\n",
       "gCwQ1AGc7VKHb3dZbeO0hg1lVP30fvjs/6U2i8/eAsgJQR2AYz+POr4uJvw5T205haf297ftHXUK\n",
       "AHYQ1AFcxPWiT38XEx4TQoc2qny4y3+acPhT/VxImvtWBeATQR3AZRyQtvyFm2tNK+mv54e4Xrt9\n",
       "rZ/DBuV9tRnAMBDUAdzOFcPNJd7qnGXmFtbPaa+3de/7zQBgi6AOwLVDAmKfdcjHBdLzAlwu+e/8\n",
       "dh5T9nLoc/u6fiGTjQBglAjqGCyOv2Nyu419XtAz9/tp275zRtNv2UHnKxe98f5zBJyKoA7cwFgO\n",
       "Kt66eeh6v+72Mbejum27/JUneVtdzppzMd7WOzAGBHUMnOcji+e29eSgspVrTsHYX1nF/nufvy29\n",
       "hfXb9OnaZS+HPCez+T8vxnMfPbcNOA9BHUAGrj8N37HZq4+sZnb7UhizvkL6ZZ9/wBJ7eg4A3A5B\n",
       "HcCo9Hmx4svn9xP7blcK01epi+18PfZVP33Wrc9kAOCKCOoALqq/EoRDntP3qPrthoXb0fXrzeve\n",
       "63sduaxbbLdr7pcAcCqCOoAL66sEod8QfCmXCJ2XKIlZl7jc/OTmZsv2t18CwEvlrRsAjJWZFMKt\n",
       "WzE8JqnP1WpmCkduqFNec8BSd8J6WP//iFfvfbmIU4J07ycKvS4Na3xyANwGQR2D5j8M9x0r83XI\n",
       "tjpoex640Y8J06fsR5cJ65ulr//vxmkh/QLLv+osQmPhe2WwrTBklL5gBPgtfmuHhSzPZQanve9Y\n",
       "Lnw8vZ+et2c/U4vi0tgGGDZG1AGcJkiybf2FdZ8OvDmGHHbnRDnkOe8/7/jnvHhW2DzpyFH100bI\n",
       "LzuyfnunhtVDX7eZQSboVSZ7NbvMO4s8ZBaaV8954/1ePe+Q5wDAGQjqAA5mL/5UbLN6kimZSeHt\n",
       "cPL6n98osH6Rkd597otlvY7Ar17dNjXG14HZjitrIazvu0pI39l5LEiW0t7rXy3pjTr8D9/txfOP\n",
       "ee6Hz7fXJ4xEdwDHIqgDN+S/hv5j7azbpqSk2pptEvnphY7h49Ty8vVvBf2PXmv7zwtBimaKISqG\n",
       "uP88O+46gVO3mXUvzHhzb7R59dSQfsJrNivNZEFqzGSWdur0d77+dPnvP6Hv1zeWlMLtb2J1rtzb\n",
       "D+SMoA7cXB4XlL48VrcZ15RCUGNJsub9Jx8jhPcG5o9bTLestcKiokUVMSrGNrCv17yZvVeQ84Yz\n",
       "tpeZTCHvk7OzZ445ruRl+ymOyYIphSRTakNwStulWT83nDrnJOSlRkkpdJ8EvHyPbPYBUjpwSwR1\n",
       "DF7uo9ZXFbqh7LD79yCFoDpISe33LAQVXZouLCmmpJCa95frQLD26vkQgmIIepjPdTedbcvs7d3q\n",
       "+VfOK2Wxbp/Mb6c89+LJn73eXhSLVNVKP56fu5Cubt9bl1q1y/MeI01tmxtJKQQpdtt+9yFp8zFS\n",
       "frvFTTHaj6EjqGMk8hi1vo531kN46z/2g3sTTL8FaRak8sX1mdF5ZAqSgplCav++fHzU56rSp4eH\n",
       "7fmIrbvb7/SO771eyiOw9zG7ycHLCNvw3chUW9Jj07Qj07E9SbQ3Rqk9W7e1LeHZ/ZmS9k6K1//w\n",
       "7j5Bkt+Xyx4AnI6gDozSxzXeL0fUQxeOFIIsmBYfZQmn1t2KagP5ykzNcqVV0+jL3Z0m5WRvFo9r\n",
       "hPX1MuS0HOb8Mpf1co5dhilJ25H0KD1Lqmx9TYRkCju165kIUgjb2ZG2I+va/zQLADoEdeDG2jKI\n",
       "y474h1goxkJSVFDoLgLd/lmnqEUdtahNi9pUKWr+L/8sLZ66x6PSciE1JmtMapIsOR/NsrTzd1P1\n",
       "7ZtC6qZ5MWm5qKSqkepG9vSk+9lM9/N5G5jWYf2ALvYzo8v2gkMPI+x9zg/+4bK6rq6f8fj4pCo1\n",
       "sm5UPcxLFV/vFFNSNFMoCk0+f9mOqAdJIaPbgYSgEINUBIUiysqJFnUp1ROF7tGkuCkBMms/QQgh\n",
       "KoSoNuBfc//I/0JYIHcEdWAkQmxDgqUoWZQpKEnd6KTUpKBFXeq5Mj1XUXU10fSf/qDYrBSbVRvU\n",
       "zdqA3pjvm71YF8jXFxuaafL9m6pv32TLpYKZNCtVPS71/blS3TRaPT+rrmt9/vRJRQzbCz+vFta3\n",
       "y2pdd5S9r9Hz/WX+fHl7M7pE6Wm50sraCwpCYYrzueLDvWKTFItCxZcHlV+/KkzK7qLMIMWYzUc8\n",
       "m1H0IkplqdX8V1Xlg56riaya6LkuVDVNW4ev0IV1SSEqKLZ/hjemGgUwSAR1jAIXlLaCwvZAry6w\n",
       "m5SsHV1PklZNqee6DepNNdHk0y+6+7/+z01QXz+yGFFfz7mdkqrvXzT59kXV929qfvyQZhNZWcjK\n",
       "pX78tmxLYVaVqu/f9fX+XtPpVMFMZl1Y/0l3+y9h2R3NvExov0Q4P2a52+5ZN0LeBvTapCdrp9QM\n",
       "jbWfhDzMFKcTxa93il/uNPn6RfHuXortiLOC/7D+8iJSK0qV819VzX/V6u5XPddTPVdRz3WhZd3I\n",
       "1CgpKFloL55dn5CEqBgLhZjRpwkX4HmsAOgLQR0j4veC0kueSIQQNJvNZKnZ3CymnU4xyUIjhUbf\n",
       "nyr9f39NKougMrZFwaX9oskiabpImlRJITTSZuZ0kwq/R8kiBMVgbVg3U7BGv97PVd3NVXR/rv7y\n",
       "n7JVLZsWsmmhalmrkqlqGi1WK00mE61riQ/fcy41o8tbJQhhc13iz1+99+WiDr+ZkW0C/WYKxm5G\n",
       "ofbCS1O6u1fx5UG6n0kPM6Xpnf5Tv2oSvmiiryqnX1U1XTnJJqxfqGO9CZvAbhZUL0pVmqnSTCuL\n",
       "auJElZIqRa0sykKUYqkQpwphohjL7XWnF+6s7yDsunFAbwjqgBuXO5EIIWh+d68Qo55j1GrR3jQm\n",
       "WdNemhekvz82Wv2vWsul6ek5qghSGX+nybLQZFHsTL+4rfP2KkZpWkqTIkgpKVijxWSmf/pl2o6U\n",
       "T6ZSClpWf1bzvJJ1ZUHJ2k8VmpTUpKRCsTuBOm67XOdOpLb+vxsnXTSa0mZWlCa1846n0H7KE4I0\n",
       "uX/Q5Pf/oHA/VZjeK1W/6n8uf6dy9VWT5RdVKWhVt2Ui6zpu99YXjyqoTu2JczVrtJrXqmNQpVJN\n",
       "CKoVVKtQjDPFYi4VUxXFVCFco1bd054FjBdBHRiR2WymGNsLSpcLU1OnLqybYgh6roP+3/+o9fSc\n",
       "VISgMkpF/KSyLhR2b2jkLSG+UMQ2pE9LaVoGFWq0sJmWNtXv5zPdTyZSkqw2WWVaPS0VuoDYlgKZ\n",
       "UtN08zVGRR0fAD3P5tK3k0tout2ovXGRqemuKViH9fU20aTU9Hf/qDC717T6VdPqd/pL9auq5T+o\n",
       "StKqllaNqW7kvvxlX1Btpia15T51UasKQZWklQrVoVQVSkWVKuJEd3efFCczxRioUwdGgqAOjMD6\n",
       "gG4mleVEnz5/VQhRi+f2gtKqWUgWZN2MJ3/61igqqYhBZZCKOM9hnHKjDOpCujQtgmYT0zTWmsWq\n",
       "/XNaqbh/VnH/qPLhQfXdo2z1Q+tSdFMb1oNMaT0/TjhsysZ9+d7c6FDnXFS8+8pktvmgZnNJQAyy\n",
       "GLq504PC3YOsuJeKe1lxr/+qPum5iVrVtgnrKb35Vm61sy61Qb1JJsVCK5VaWaGVFe0FpepmfYlF\n",
       "+4lQ9ylP6KZOBTBcBHWMxjWmQTzHpdu3PqAHSaEo9PnLV00mEz0+lqpXpepmoWRLJUkTBZklKZnK\n",
       "oK5uXXI9jL6jDNJ9F5JTd9FrVUqadRfgrS/E6+qhX7NX/3XOpsnp5kaHOnvWH3vx56tvdLqAqhgV\n",
       "YmxnJ6pMy0paVKbnxvTUhC6oK4Ogvr8PhNAG8cZMtUlRU8XyXoUmKqxoL2YOakfQ47VG0b1Py+i9\n",
       "fUB/COrAiGxmneiOcnf39yrLiR4fJ1ouSqU66rl5VmPtWHL7vKSY1vHCe9Bs+1UGqTGpTtJdasdn\n",
       "F6VpWZlssh6dXM9+836fdmZK7P67j7uR5l0O08dMMS9Dvm2G0N9ZbgjdCVZUiIVMUcvatKikRSMt\n",
       "G+mpkRZ1e52B//10x3ofDIUak0IqFVOhyexe99P7tva+C+jxakEdgBcEdWCENgd7kyaTib58/VVP\n",
       "5UTPT1FNFbVquqkYu5lTbJukfNq90FWmcjP8be0027Wpatr7G61qk02DYhfW1YWfl72zdf/f/Pdz\n",
       "LuVbjwbmFdh7CejbBb36jv102etpGLvQHqKqpt2uq0aqamnZBNWbw9qBU+LcWLBuxpruz2BR0QpJ\n",
       "habTueaTyabEhZAOjA9BHXDkmuU5u6Pr0UyfPn/VdDbX449vWq0euwZJUjq/zOHCLK2U6qd2OkaZ\n",
       "FFJ3O6fe3kF722R9M6SzNpOvu5G+p69t/3bQ72fZ7Yh0+wihVCgfFELRy7KvZTNjTVd/HmOh4iYj\n",
       "6JSVAJ4Q1DEq3uvUb2E3CMxmc00mUz0/P2g3RFlaj6i/Vat++3W5Wi20XHxXqn6TNav2H4OksL7v\n",
       "6jne21/6u1D0VncjfU/fN0L6OOz39T6he0SFUGg6+6zZ/E4e9s/3+xj2/vpy2sVYUOryGicSGBeC\n",
       "OoC9MFAUhT59+nzD1rS2TXovqGwP2KvVXJaSVpaUzCRbqh1nDR+8vh/9zpn+IoScVWJzzLvqYne3\n",
       "uc2nMe17zuZ3mk5nktb70/v7kuT9Bj8AxoigDjgzxlH/n4fyN1/Vve726epis7rYy8rtw+9G+u4i\n",
       "979cjJdyqcNuWBV2nrs2xvDOaDXgDUEdo9NdC4gbOi2Yv7u0Hpbxvt1ZBH/2TudfaHpAa8zDqcn7\n",
       "Dh2df3d2xt6dujVehvcxBnd/WP8YG4I6RmpcI9YeHDay6dmB+0w3Cj7G2uLjRtFzS1yvgzuh8dpY\n",
       "4RifeOsGAHit74v5cKYTNoWZuSn/uLST+zqO1ZMJTjwAjwjqAK4i55OPc1o95MB+bt/yXSuEWgDX\n",
       "QVDHKOUQGocbBAbbsQ8NKbAPqS/HG2a//W9OTo4wTtSoA64Nq5Y+6wt5rb1/5rm1597mTD9Unye3\n",
       "uYf8zJv/hsF1CBgMgjqAq2pPPfI9AWlDZh8he3eE0Gdo7//GR/0u7/peTpcJAJdF6QtGK4dRsfyD\n",
       "zRvs1V98e7OZfZd+2Kac5Nb7pdluaUvfdyd9Y3mZ7AabhmbT3kPdfp87RA5tBC6BEXWMXL4juznL\n",
       "pQTG9v72usH9ja7vv+vrUHKZEfdrnAh+/B6mj77rDWHxVljxGC+COuDcUO9UmkW/DmqedX25ZD8O\n",
       "GfV86/1vG3AO/tTBfQ7LY9T5eEPtFzAcBHWMWi4ju8PmPKwfaB1Kb3ejIz+JK/eLRfcNqS95GtTu\n",
       "BByJGnWAA/HN5HQAPrSpY5668Ji+57SGRro5nWDlY9wI6kAGBnlRaef8vl16vdiLPw981fri0P4b\n",
       "5Irp1JOT09br8c7bt4Yb0ofcN2A4COoYvSGH4Fy4vKSwr/3CbJCj7Js+9dIvc7f5mYrRA04mAII6\n",
       "kIlBn1CcMWXj5Q7kO6cPPb2HlykYT7U/dWMfC3w5s07/TmvqUKdiXMt3HwTGhotJAbiwvbD3mItL\n",
       "r5M2TFLoQmU/14r6v9nR2iVOEO3qOfj4fYogC8ADgjpuxNdMH1lMFah82nkqT7PwvJ3TLjEV48vR\n",
       "zdsG90t/cvPeaLynXDzskJ7LaLrHdrprEEaAoA7AlWNORm51IL/sVIzDuuHR9r1uF3IOPwH0GA4B\n",
       "jBlBHTfhaeR0zWOb3jL0UXXp0D5ecNT30Oddbe70fAPkMQH9sl38+f6U6zo+XD599NhOj23C8BHU\n",
       "cUMew6bHNo1TTick2zDqu978WvK78DmfADsOHjeGxzZhDJj1BchQfkHoNB9N23i1YHXUuh7mVIyH\n",
       "2vb98PV1rd34/U0ylmkYORkBcsSIOm7GY6lJTqO4o7DZFC+3Sf+JwyQ1JjWSmpS0qirFEBQUFCwc\n",
       "vUeEna/jcGTg7TK6yWTBlK4S2t/Zjwiwjvg8ofDYJowDQR03Rig+1VhOKk6btvHE95JUSSrNFOpa\n",
       "0s55Agfq/nWfVlgIUpSSJLva7jymaRh9ht98sPJwOwR14AWPI/3vGWtYv3ToqNdv+roll33jsdns\n",
       "tialoBTbE6XmQrv0/n5ESPcop7YC10BQx035DcXDD7+5eRmyjrbe0UJoHzEoxPZPFUGpCKpMit3i\n",
       "05tvwz5xaU1oR9UtdLPprFf57t8P9eY2HFNIz43PjcK+glsiqMMBf6HYX4veN5ZRdamHA2aMXfjb\n",
       "BvQwiQpllMqo2tryi8akkoPz9YXtI0gKZVSI7aMN6vHsM/txha7MRtNv3YA3+WwVxoOgDrzF1N4z\n",
       "fgThdxCOOZauQ/o6+MUglW1Yty6oL8wI6rfwchR90p5AqQibT0LCetthYK43AxCQE4I6bm5MI8KX\n",
       "Mvp1uB4lb5OezIKSmZK1JSxJUc3kQc2kUj2p1Ewqzf4pKqXu+0kK87s2K6ynYyQ03EYX1Isg1alQ\n",
       "M/u0eVgxU7KgJCkpdOVJ2xD/KsCP9Mehlddouk+sQ9weQR14R27ht7vMUrm0t08hSDEWCqF9KEQ1\n",
       "ZqqSVAapStIqzrV4+N+0vL/T8uFOk8lS81//oPKPf1P5xz+p/va9XRhB/bZ2RtRrK7SqSy0ffpE+\n",
       "/ZPSwy9aPTeqUrtN6yQ1FrrtHhRCVHt7kPH9DOzLbW54AjHwHoI6XPB7UWlGxpnR93XlLCEUCjIl\n",
       "pS7Qmeok1Ra1vPtHLbqgbmWt2Zffq/zjv6j+vg7qzK19U6H70o2oT5pSy7rUcnKn9OkXLZ4brZ4b\n",
       "1T+6wG7twxTbba9CIXR17WPG/ns2Th7gAUEdjvhLmtmNqmfW3r4URalyMlG1KmShVFKtFKydPUTS\n",
       "sjZ9fzZ96h7fHz6r0ifNrNZUtWYPX1R+/qP2RtI5Sl9f2HzZljA1pawutWpKVanQ8i5pOU9azBut\n",
       "fmvUWFSjqMYKmYrugtPYhvVRnv3nNjrttb0uG4URIqgDyF6MUZ8/f1VRlHr87ZvqVaFVs1Cyqp3F\n",
       "RdJ//L3Rj+daP56jfjyb5lMpKGhadan8kAAAER5JREFUBM3KoDJ2Ne7r0peRnez4E7r7TNVaNWof\n",
       "yWSh0FKFVgpaWpDiXLGYK1qpwgpJYaQBHcAQEdThhtfyl9xGqXNrb19CCLq/f1BRFHp6nGi5KFXX\n",
       "T2qSqZGpUFD13OjHv9VtUJ90UwAGaRKDiri7vsa17jwzSWaN6mRaJVMKpkaFllZoYUGyUlEzTeYP\n",
       "KuJEKUTFENvZYUa3Hb2OTr/Hb3u9tgvjQ1CHM+MLmJcw1rAuSdPpTEVRKoSoxbOUatOiTiokFWp/\n",
       "6f3bnxsF2Wba7jajj7ym2an1lJnt6HqjRu0nJLWkRlGhCIoxKFmhT/efVZZld2Hp2PZ9v6E3P6xI\n",
       "+EFQhyuMquMc63BWloW+/vKrynKip8dCTSiUmpWsi3dmSaGLf21YN7asR92Ui7YpgwmKcSYLpQoV\n",
       "7QWk3ZYLoQ3s4wvoufJ7YuG1XRgngjocIhD3YawnFyGEzQnfw6dPKspSjz9K1fVCqVmqTpUsNG1Q\n",
       "N5MsuTw5hLStN4/tGGeISnGmWMw0KabdBaPbC0fHOZIueQ69+WFFwheCOnCgHINvjm3uQxvW237P\n",
       "ZnOVRann50ctF09q6oXqZqWg1M42HRJDaK5Fhc1NjQqFMFVZzDSb3+vh7qEbRY+E9Kzk2GbgNgjq\n",
       "cGes4fKyxrc+2+DWZfCy1KfPXzWZzvT89Khq9dSVv0gyk9m6Chq+bMtaFOLm30IsFItSRVFsvj/O\n",
       "oM4+2y9OIOAPQR04Qo4nEV7r/q8jdLXL7dH37u5e0+lUT09TpabZPCsZo+revZwXvYiF4ihndtmX\n",
       "325LGAaOQVCHS+MOl/3L8QSjT7sBrywn+vLlF6WUbtgi9CGEMc/UQ+DtG+sTHhHU4ZjPYJlr6M21\n",
       "3ZcSD7jF/Dbfs84up01HhKRj5BrSPbfbbcMwcmMejoBzfn+h544Vewg+0bku1veh+Pm9BI438Iqg\n",
       "Dud8/va0zW3m88LBCMhfnj/HjKYDpyCoAyfye9D5WK4nGde2v31ZX5exXa+5/jxdl+ew+7Fc2w3c\n",
       "GkEdrvkPlZ7b9j7/69UHs92AYWKd9WW7LvfXMd6Xb0j3/XOT83rFGBDUgTPkHHhzbvu1Edj7QkA/\n",
       "Tc5hMue2A7fHrC9wj9lKLo11e6jdwNHuk5v/unpb8kF5y3lYaZfDSQT8I6gDZ8r5RIL56k+3OcAH\n",
       "KYjQvs/2/0YYOku+YZIgDJyL0hdkwXuZht+W/Zz3deuevVcaM7Z1ut/vzToZ22roVd5B13fT8163\n",
       "GA9G1IE+mKRMR9WlvD8V8OTlgX+/PEYa1vrd7xuhp2+5B0nzntSBLBDUkQ3vYdJ7+34m9/Z7tF/T\n",
       "Lr2dXHJY328nrryDpGf5h3Tf7ffePmCLoA5gg7B+OW8FA5/hnVB+W4RIAFsEdWTFe5D03r5DDKEP\n",
       "uTguvP//7d3RbhrZEkDRY+n+/y9zHxwHnExssDHsOr1WpGgeq5qhvd06kI989FrdXn1C8Vl2iPT6\n",
       "DvX54D2hDne2Q+jusMNUV0XEy5+vzHXl4XPDZTsE5A47QItQZxwR+Riuc5jP6W1G4D6G68w8vp4R\n",
       "fsAuX3m4yx7QtUs87rIHtAh1RpoQkBNmvMYue0DPLnE7YY8JM8LfhDpjuek+jliHexOOj+RaM5VQ\n",
       "Z7j23XenwN1pF3iunSJ9wi75AeGfhDqj9X9A7BW4O+0CzzEhbK81Y5cJM8K/CHU24C78SGIdvmpG\n",
       "2O7FBWc2oc54E8Jxwoy32G0f+Hm7RfqEfSbMCB8T6vAgu8XtbvvAz9ktGHfbB7qEOluYEo1T5rzW\n",
       "bvvA/e0WtVP2mTInfEyosw035ec4x7oXAM5e3xPuS8/hurMLoc5m+nfnHZ9Cn38o7rUXfM3r+2C/\n",
       "WJzyi8eIIeEqQp2tTIngKXPe4nTacy+4zenivbCTOZE+Y064jlCHJ9k1anfdCz63ayTuuhf0CXW2\n",
       "MykUJ816C+fWOZadz6NP2mvSrHAdoc6W3Kyfz7l1jmHX8+jzeA3YkVBnYzPu2rs+VV/LuXV2t+t5\n",
       "9DeTnlCPGRRuItTZ1qRAnDTrVzgKw152PuryZtJ+k2aF2wh1tjbp5n2MWF9r5x05giMcdZkVvpNm\n",
       "hVsJdQ5gzl38CLG++47sbPejLmtNi3T3EnYn1NnetDCcNu9XOArDLEc46rLWvB2nzQu3E+ocwrSb\n",
       "+eni7115us4MR3iKvtZap3HvxP1fExDqHMqgu/qgUb/L03WajvIU/cKoXUcNC18m1DmMaU9vp837\n",
       "He+frh9jZ6rOgX6cSJ/2C8m0eeHrhDqHMu3mfqRYX+tXsL/+15Mn4Zhej39Mu098z7zonTYvfIdQ\n",
       "54Bm3eWPFuvL03Ue7uKYy6H+l5sX6Qd7gUCoczwTw3fizN/lOAw/74jHXN7MjPR5M8P3CHUOaWL4\n",
       "Tpz5Hnw7DD/jqIG+1szgnTgzfJ9Q57Am3vOPHKyernMfB/w2l3dm7j5wZLgLoc5xDY3eo8e6YOdr\n",
       "jnzM5c3MSH/94MqzZ4DnEOoc2tTonTr3vQh2rifQX82N9Jlzw30IdQ5vavROnfueBDv/JtDPpsbu\n",
       "1LnhfoQ6rLmJJ9ZfCXbOBPp7c2N36NhwV/979gCQcFprvZzWWi/PnuRmp9NaL0Nnv7ffQfJyurga\n",
       "rsv+Lv6ZLHV3YW6kO5cOrzxRh18mP52ePPuPOHnKfgx/PD33Ml+YHelzZ4f7EupwYXLwTp79Jwn2\n",
       "HTne8rHJoTt5drg/R1/gD5OPkpxnX2vi/D/p/MP/tF5+XxrXaI5fx1tE3AemXyORDn8S6jzJzBCe\n",
       "4PTr0r64xv/0FgPnX2rWcq2Kzq+PgPvMyRn9H+fi8nhCHf7D5Kfqa63fn8MavcMDXMafaK8Q57fb\n",
       "4Un0DjvA/TmjzlNMOE89YcbP7LDDo7ydd35/nt21e4zz9X7/OvC5HQJ3wg4TZmRHQp2nmRCRE2b8\n",
       "zA47PJpofwRx/n07xOOEHSbMyK4cfYFPjD8Gs/bY4Vne/4C+/CDqWq7nLRxpua8d4nGHHeBnCXWe\n",
       "akpATpnzI74R5j7+fa59Ldf10vtrI8juZfo3u7yZEulT5mRXQp2nmxLBr3M+e4rvef9tJ8OXCfj7\n",
       "B/ifT9zXOsZ1FuWPsU80zthjn+vNXEKdhDnZOGfSj0z55Wii6+J9rZnX/u9qETKPslM0zlhkxpTs\n",
       "TqjTcFprDQjHnQJ3p13q/juw/hXwlx752nycJftE4kR7RfqMXU5KnQShTsaUcJwy5zWcW3+uz4Pl\n",
       "mph/xBw8xy7n0d/MifQZc3IEQp2UKRE8Zc5rOLfeJhiOardYnLLPlDk5Ct+jDl+02/eT77YPzLVb\n",
       "LO62DzyOUCdnUjBOmvUap9NaJ/+4DzzJ6fXPVm+/SftMmpWjEOokTQrgSbNe5bThTpD3KxK3ettN\n",
       "Ct9Js3IkQp2sSbE4adZrnXfaay9oeX2P7ReJk3aaNCtHI9ThTnaN9R33gobTxXtsJ8IX7uXl5N0E\n",
       "AAA5nqgDAECQUAcAgCChDgAAQUIdAACChDoAAAQJdQAACBLqAAAQJNQBACBIqAMAQJBQBwCAIKEO\n",
       "AABBQh0AAIKEOgAABAl1AAAIEuoAABAk1AEAIEioAwBAkFAHAIAgoQ4AAEFCHQAAgoQ6AAAECXUA\n",
       "AAgS6gAAECTUAQAgSKgDAECQUAcAgCChDgAAQUIdAACChDoAAAQJdQAACBLqAAAQJNQBACBIqAMA\n",
       "QJBQBwCAIKEOAABBQh0AAIKEOgAABAl1AAAIEuoAABAk1AEAIEioAwBAkFAHAIAgoQ4AAEFCHQAA\n",
       "goQ6AAAECXUAAAgS6gAAECTUAQAgSKgDAECQUAcAgCChDgAAQUIdAACChDoAAAQJdQAACBLqAAAQ\n",
       "JNQBACBIqAMAQJBQBwCAIKEOAABBQh0AAIKEOgAABAl1AAAIEuoAABAk1AEAIEioAwBAkFAHAIAg\n",
       "oQ4AAEFCHQAAgoQ6AAAECXUAAAgS6gAAECTUAQAgSKgDAECQUAcAgCChDgAAQUIdAACChDoAAAQJ\n",
       "dQAACBLqAAAQJNQBACBIqAMAQJBQBwCAIKEOAABBQh0AAIKEOgAABAl1AAAIEuoAABAk1AEAIEio\n",
       "AwBAkFAHAIAgoQ4AAEFCHQAAgoQ6AAAECXUAAAgS6gAAECTUAQAgSKgDAECQUAcAgCChDgAAQUId\n",
       "AACChDoAAAQJdQAACBLqAAAQJNQBACBIqAMAQJBQBwCAIKEOAABBQh0AAIKEOgAABAl1AAAIEuoA\n",
       "ABAk1AEAIEioAwBAkFAHAIAgoQ4AAEFCHQAAgoQ6AAAECXUAAAgS6gAAECTUAQAgSKgDAECQUAcA\n",
       "gCChDgAAQUIdAACChDoAAAQJdQAACBLqAAAQJNQBACBIqAMAQJBQBwCAIKEOAABBQh0AAIKEOgAA\n",
       "BAl1AAAIEuoAABAk1AEAIEioAwBAkFAHAIAgoQ4AAEFCHQAAgoQ6AAAECXUAAAgS6gAAECTUAQAg\n",
       "SKgDAECQUAcAgCChDgAAQUIdAACChDoAAAQJdQAACBLqAAAQJNQBACBIqAMAQJBQBwCAIKEOAABB\n",
       "Qh0AAIKEOgAABAl1AAAIEuoAABAk1AEAIEioAwBAkFAHAIAgoQ4AAEFCHQAAgoQ6AAAECXUAAAgS\n",
       "6gAAECTUAQAgSKgDAECQUAcAgCChDgAAQUIdAACChDoAAAQJdQAACBLqAAAQJNQBACBIqAMAQJBQ\n",
       "BwCAIKEOAABBQh0AAIKEOgAABAl1AAAIEuoAABAk1AEAIEioAwBAkFAHAIAgoQ4AAEFCHQAAgoQ6\n",
       "AAAECXUAAAgS6gAAECTUAQAgSKgDAECQUAcAgCChDgAAQUIdAACChDoAAAQJdQAACBLqAAAQJNQB\n",
       "ACBIqAMAQJBQBwCAIKEOAABBQh0AAIKEOgAABAl1AAAIEuoAABAk1AEAIEioAwBAkFAHAIAgoQ4A\n",
       "AEFCHQAAgoQ6AAAECXUAAAgS6gAAECTUAQAgSKgDAECQUAcAgCChDgAAQUIdAACChDoAAAQJdQAA\n",
       "CBLqAAAQJNQBACBIqAMAQJBQBwCAIKEOAABBQh0AAIKEOgAABAl1AAAIEuoAABAk1AEAIEioAwBA\n",
       "kFAHAIAgoQ4AAEFCHQAAgoQ6AAAECXUAAAgS6gAAECTUAQAgSKgDAECQUAcAgCChDgAAQUIdAACC\n",
       "hDoAAAQJdQAACBLqAAAQJNQBACBIqAMAQJBQBwCAIKEOAABBQh0AAIKEOgAABAl1AAAIEuoAABAk\n",
       "1AEAIEioAwBAkFAHAIAgoQ4AAEFCHQAAgoQ6AAAECXUAAAgS6gAAECTUAQAgSKgDAECQUAcAgCCh\n",
       "DgAAQUIdAACChDoAAAQJdQAACBLqAAAQJNQBACBIqAMAQJBQBwCAIKEOAABBQh0AAIKEOgAABAl1\n",
       "AAAIEuoAABAk1AEAIEioAwBAkFAHAIAgoQ4AAEFCHQAAgoQ6AAAECXUAAAgS6gAAECTUAQAgSKgD\n",
       "AECQUAcAgCChDgAAQUIdAACChDoAAAQJdQAACBLqAAAQJNQBACBIqAMAQJBQBwCAIKEOAABBQh0A\n",
       "AIKEOgAABAl1AAAIEuoAABAk1AEAIEioAwBAkFAHAIAgoQ4AAEFCHQAAgoQ6AAAECXUAAAgS6gAA\n",
       "ECTUAQAgSKgDAECQUAcAgCChDgAAQUIdAACChDoAAAQJdQAACBLqAAAQJNQBACBIqAMAQJBQBwCA\n",
       "IKEOAABBQh0AAIKEOgAABAl1AAAIEuoAABAk1AEAIEioAwBAkFAHAIAgoQ4AAEFCHQAAgoQ6AAAE\n",
       "CXUAAAgS6gAAECTUAQAgSKgDAECQUAcAgCChDgAAQUIdAACChDoAAAQJdQAACBLqAAAQJNQBACBI\n",
       "qAMAQJBQBwCAIKEOAABBQh0AAIL+DwBVigxqpATaAAAAAElFTkSuQmCC\n",
       "\" transform=\"translate(1247, 292)\"/>\n",
       "</g>\n",
       "<defs>\n",
       "  <clipPath id=\"clip675\">\n",
       "    <rect x=\"2160\" y=\"292\" width=\"73\" height=\"1016\"/>\n",
       "  </clipPath>\n",
       "</defs>\n",
       "<g clip-path=\"url(#clip675)\">\n",
       "<image width=\"72\" height=\"1015\" xlink:href=\"data:image/png;base64,\n",
       "iVBORw0KGgoAAAANSUhEUgAAAEgAAAP3CAYAAACPmQh6AAAI/ElEQVR4nO3dwXHbQBBFQSw5svOP\n",
       "yIFZIhyB5x3JQ3cEqle/4MWSls6fx9d98V+Pd/8An06gIFCY81ujjTpBoCBQmPNLo406QaAgUJjz\n",
       "9Xz3z/DRLCgIFAQKc0ajjTpBoCBQmMszaKVOECgIFOY8NdqoEwQKAgXPoKBOECgIFOY8z7t/ho9m\n",
       "QUGgIFCYyzlopU4QKAgUvIsFdYJAQaAw56HRRp0gUBAoOAcFdYJAQaAw18Od9MaCgkBBoOBdLKgT\n",
       "BAoCBe9iQZ0gUBAozOUctFInCBQECnPcB60sKAgUBArug4I6QaAgUPAMCuoEgYJAwWfzwYKCQEGg\n",
       "4BwU1AkCBYGCZ1BQJwgUBAo+mw/qBIGCQMFn88GCgkBBoOBdLKgTBAoCBe9iQZ0gUBAozDnexTYW\n",
       "FAQKAgXvYkGdIFDwqhHUCQIFgYKPfYIFBYGCQME5KKgTBAoChTlHo406QaAgUPAuFiwoCBQECt7F\n",
       "gjpBoCBQ8NFzUCcIFAQK7oOCOkGgIFDwK7qCBQWBgkDBu1hQJwgUBApzeRdbqRMECgIFn80HCwoC\n",
       "BYGCz+aDOkGgIFDwuVhQJwgUBArupIM6QaAgUPDZfLCgIFAQKHgXC+oEgYJAwZ10UCcIFAQKPpsP\n",
       "FhQECgIF31EM6gSBgkDB52JBnSBQECg4BwV1gkBBoOA+KFhQECgIFHwuFtQJAgWBgu8HBXWCQEGg\n",
       "4BwU1AkCBYGCP6ceLCgIFAQKzkFBnSBQ8PWXoE4QKAgUfP0lqBMECgIFX38JFhQECgIF56CgThAo\n",
       "CBRcuQZ1gkBBoOBOOqgTBAoCBe9iQZ0gUBAouJMOFhQECgIF56CgThAoCBTcBwV1gkBBoOAcFNQJ\n",
       "AgWBgj+fFSwoCBQECt7FgjpBoCBQ8C4W1AkCBYGC70kHdYJAQaDgV5UGdYJAQaDgHBTUCQIFgcJc\n",
       "flXpyoKCQEGg4HOxoE4QKAgUvIsFdYJAQaDgs/mgThAoCBS8iwV1gkBBoOBOOlhQECgIFNwHBXWC\n",
       "QEGg4DuKQZ0gUBAoOAcFdYJAQaDgc7GgThAoCBScg4I6QaAgUPDZfFAnCBR89BwsKAgUBApeNYI6\n",
       "QaAgUHDlGtQJAgWBguuOoE4QKAgUnIOCOkGgIFBwHxTUCQIFgYJzUFAnCBQECs5BQZ0gUBAozPFn\n",
       "RFcWFAQKAgXvYkGdIFAQKHgXC+oEgYJAwTkoqBMECgIF56CgThAoCBScg4I6QaAgUPB/NYI6QaAg\n",
       "UHAOCuoEgYJAwX1QUCcIFAQKnkFBnSBQECj4PYrBgoJAQaDgHBTUCQIFgYI76aBOECgIFJyDgjpB\n",
       "oCBQcA4K6gSBgkDBOSioEwQKAgXnoKBOECgIFJyDgjpBoCBQcA4K6gSBgkDBOSioEwQK/pkP6gSB\n",
       "gkDBP/NBnSBQECj471DBgoJAQaDgHBTUCQIFgYL7oKBOECgIFDyDgjpBoCBQmNu72EqdIFAQKLiT\n",
       "DhYUBAoCBe9iQZ0gUBAozO0ZtFInCBQECnNd3sU2FhQECgKFud0HrSwoCBQECqPRTp0gUBAoOAcF\n",
       "CwoCBYHC3O6DVhYUBAoCBXfSwYKCQEGg4BwULCgIFAQKc9/v/hE+mwUFgYJAwTkoWFAQKAgUnIOC\n",
       "BQWBgkBh7ts5aGNBQaAgUHAOChYUBAoCBc+gYEFBoCBQ8AwKFhQECgIFz6BgQUGgIFCYl2fQyoKC\n",
       "QEGg4BwULCgIFAQKnkHBgoJAQaAw9+vdP8Jns6AgUPDPfLCgIFAQKLhyDRYUBAoCBa8awYKCQEGg\n",
       "4F0sWFAQKAgUPIOCBQWBgkDBu1iwoCBQECjMy0FoZUFBoCBQ8C4WLCgIFAQK3sWCBQWBgkDBOShY\n",
       "UBAoCBQ8g4IFBYGCQGFe3sVWFhQECgIF56BgQUGgIFCY20NoZUFBoCBQcA4KFhQECgIF90HBgoJA\n",
       "QaDgHBQsKAgUBAqeQcGCgkBBoOB70sGCgkBBoOD3KAYLCgIFgYJ3sWBBQaAgUJjbQWhlQUGgIFBw\n",
       "DgoWFAQKAgX3QcGCgkBBoOBzsWBBQaAgUPAuFiwoCBQECp5BwYKCQEGg4HfaBwsKAgXXHcGCgkBB\n",
       "oOBVI1hQECgIFDyDggUFgYJAwa/HCRYUBAoCBeegYEFBoCBQ8AwKFhQECgIFHz0HCwoCBYGCz+aD\n",
       "BQWBgkDBu1iwoCBQECh4BgULCgIFgYLP5oMFBYGCQME5KFhQECgIFPwp42BBQaAgUPBrAoMFBYGC\n",
       "QMFn88GCgkBBoOA+KFhQECgIFLyLBQsKAgWBgnNQsKAgUBAo+BN+wYKCQEGg4F0sWFAQKAgUvIsF\n",
       "CwoCBYGCc1CwoCBQECj4flCwoCBQECh4FwsWFAQKAgW/RzFYUBAoCBScg4IFBYGCQMF9ULCgIFAQ\n",
       "KPhcLFhQECgIFLyLBQsKAgVXrsGCgkBBoOC6I1hQECgIFFx3BAsKAgWBguuOYEFBoCBQ8AwKFhQE\n",
       "CgIFfz4rWFAQKAgU/OmaYEFBoCBQcCcdLCgIFAQK7oOCBQWBgkDBOShYUBAoCBR8RzFYUBAoCBT8\n",
       "X41gQUGgIFBwHxQsKAgUBArug4IFBYGCQMF3FIMFBYGCQMG7WLCgIFAQKLiTDhYUBAoCBeegYEFB\n",
       "oCBQcCcdLCgIFAQK7qSDBQWBgkDBu1iwoCBQECh4FwsWFAQKAgWfiwULCgIFgYJ3sWBBQaAgUPAu\n",
       "FiwoCBQECj4XCxYUBAoCBe9iwYKCQEGg4E46WFAQKLjuCBYUBAoCBc+gYEFBoCBQcOUaLCgIFAQK\n",
       "zkHBgoJAQaDgz4gGCwoCBYGCc1CwoCBQECh4BgULCgIFgYJnULCgIFAQKMzLQ2hlQUGgIFBwDgoW\n",
       "FAQKAoX58QxaWVAQKAgUnIOCBQWBgkDBMyhYUBAoCBT8t/BgQUGgIFBwHxQsKAgUBAr+z2qwoCBQ\n",
       "ECg4BwULCgIFgYI76WBBQaAgUJgfd9IrCwoCBYGCd7FgQUGgIFDwLhYsKAgUBArOQcGCgkBBoDDf\n",
       "7oNWFhQECgIF56BgQUGgIFCYb99RXFlQECgIFObbOWhlQUGgIFDwDAoWFAQKAoX56056ZUFBoPAP\n",
       "38EfROHdM9kAAAAASUVORK5CYII=\n",
       "\" transform=\"translate(2161, 292)\"/>\n",
       "</g>\n",
       "<g clip-path=\"url(#clip670)\">\n",
       "<text style=\"fill:#000000; fill-opacity:1; font-family:Arial,Helvetica Neue,Helvetica,sans-serif; font-size:89px; text-anchor:start;\" transform=\"rotate(0, 2268.76, 1225.58)\" x=\"2268.76\" y=\"1225.58\">25000</text>\n",
       "</g>\n",
       "<g clip-path=\"url(#clip670)\">\n",
       "<text style=\"fill:#000000; fill-opacity:1; font-family:Arial,Helvetica Neue,Helvetica,sans-serif; font-size:89px; text-anchor:start;\" transform=\"rotate(0, 2268.76, 1098.82)\" x=\"2268.76\" y=\"1098.82\">50000</text>\n",
       "</g>\n",
       "<g clip-path=\"url(#clip670)\">\n",
       "<text style=\"fill:#000000; fill-opacity:1; font-family:Arial,Helvetica Neue,Helvetica,sans-serif; font-size:89px; text-anchor:start;\" transform=\"rotate(0, 2268.76, 972.059)\" x=\"2268.76\" y=\"972.059\">75000</text>\n",
       "</g>\n",
       "<g clip-path=\"url(#clip670)\">\n",
       "<text style=\"fill:#000000; fill-opacity:1; font-family:Arial,Helvetica Neue,Helvetica,sans-serif; font-size:89px; text-anchor:start;\" transform=\"rotate(0, 2268.76, 845.297)\" x=\"2268.76\" y=\"845.297\">100000</text>\n",
       "</g>\n",
       "<g clip-path=\"url(#clip670)\">\n",
       "<text style=\"fill:#000000; fill-opacity:1; font-family:Arial,Helvetica Neue,Helvetica,sans-serif; font-size:89px; text-anchor:start;\" transform=\"rotate(0, 2268.76, 718.536)\" x=\"2268.76\" y=\"718.536\">125000</text>\n",
       "</g>\n",
       "<g clip-path=\"url(#clip670)\">\n",
       "<text style=\"fill:#000000; fill-opacity:1; font-family:Arial,Helvetica Neue,Helvetica,sans-serif; font-size:89px; text-anchor:start;\" transform=\"rotate(0, 2268.76, 591.774)\" x=\"2268.76\" y=\"591.774\">150000</text>\n",
       "</g>\n",
       "<g clip-path=\"url(#clip670)\">\n",
       "<text style=\"fill:#000000; fill-opacity:1; font-family:Arial,Helvetica Neue,Helvetica,sans-serif; font-size:89px; text-anchor:start;\" transform=\"rotate(0, 2268.76, 465.012)\" x=\"2268.76\" y=\"465.012\">175000</text>\n",
       "</g>\n",
       "<g clip-path=\"url(#clip670)\">\n",
       "<text style=\"fill:#000000; fill-opacity:1; font-family:Arial,Helvetica Neue,Helvetica,sans-serif; font-size:89px; text-anchor:start;\" transform=\"rotate(0, 2268.76, 338.25)\" x=\"2268.76\" y=\"338.25\">200000</text>\n",
       "</g>\n",
       "<polyline clip-path=\"url(#clip670)\" style=\"stroke:#000000; stroke-linecap:round; stroke-linejoin:round; stroke-width:4; stroke-opacity:1; fill:none\" points=\"\n",
       "  2232.76,1307.63 2232.76,1199.99 2256.76,1199.99 2232.76,1199.99 2232.76,1073.22 2256.76,1073.22 2232.76,1073.22 2232.76,946.463 2256.76,946.463 2232.76,946.463 \n",
       "  2232.76,819.701 2256.76,819.701 2232.76,819.701 2232.76,692.94 2256.76,692.94 2232.76,692.94 2232.76,566.178 2256.76,566.178 2232.76,566.178 2232.76,439.416 \n",
       "  2256.76,439.416 2232.76,439.416 2232.76,312.654 2256.76,312.654 2232.76,312.654 2232.76,292.372 \n",
       "  \"/>\n",
       "</svg>\n"
      ]
     },
     "execution_count": 18,
     "metadata": {},
     "output_type": "execute_result"
    }
   ],
   "source": [
    "xs = ys = range(-lₘₓ,lₘₓ, length=100)\n",
    "plot1 = surface(xs, ys, Ediscont, c=:diverging_bwr_40_95_c42_n256, axis = nothing, showaxis =false,aspect_ratio=:equal, camera=(0,90))\n",
    "plot2 = surface(xs, ys, C₁₁₁₁, c=:diverging_bwr_40_95_c42_n256, axis = nothing, showaxis =false,aspect_ratio=:equal,camera=(0,90))\n",
    "plot(plot1,plot2)"
   ]
  },
  {
   "cell_type": "code",
   "execution_count": 19,
   "id": "5732cbdb",
   "metadata": {},
   "outputs": [
    {
     "data": {
      "text/latex": [
       "$68000.0$"
      ],
      "text/plain": [
       "68000.0000000000"
      ]
     },
     "execution_count": 19,
     "metadata": {},
     "output_type": "execute_result"
    }
   ],
   "source": [
    "C₁₂ₘ = λₘ\n",
    "C₁₂ᵢ = λᵢ"
   ]
  },
  {
   "cell_type": "code",
   "execution_count": 20,
   "id": "5ba3f214",
   "metadata": {},
   "outputs": [
    {
     "data": {
      "text/plain": [
       "E2y (generic function with 1 method)"
      ]
     },
     "execution_count": 20,
     "metadata": {},
     "output_type": "execute_result"
    }
   ],
   "source": [
    "E2x(x,ax,bx) = sqrt(C₁₂ᵢ - C₁₂ₘ) * interval(x,ax,bx) \n",
    "E2y(y,ay,by) = sqrt(C₁₂ᵢ - C₁₂ₘ) * interval(y,ay,by) "
   ]
  },
  {
   "cell_type": "code",
   "execution_count": 21,
   "id": "5b817645",
   "metadata": {},
   "outputs": [
    {
     "data": {
      "text/latex": [
       "$39.8942280401433 \\left(- 128.508141184698 \\operatorname{sign}{\\left(x₁ - 0.516397779494322 \\right)} + 128.508141184698 \\operatorname{sign}{\\left(x₁ + 0.516397779494322 \\right)}\\right) e^{- 5000.0 \\left(x - x₁\\right)^{2}}$"
      ],
      "text/plain": [
       "                                                                              \n",
       "                                                                              \n",
       "39.8942280401433⋅(-128.508141184698⋅sign(x₁ - 0.516397779494322) + 128.5081411\n",
       "\n",
       "                                                     2\n",
       "                                     -5000.0⋅(x - x₁) \n",
       "84698⋅sign(x₁ + 0.516397779494322))⋅ℯ                 "
      ]
     },
     "execution_count": 21,
     "metadata": {},
     "output_type": "execute_result"
    }
   ],
   "source": [
    "IF2x1 = E2x(x₁,-lₙₓ,lₙₓ)*wₕ(x,x₁)\n",
    "IF2x2 = E2x(x₁,-lₐ₁ₙ,lₐ₁ₙ)*wₕ(x,x₁)"
   ]
  },
  {
   "cell_type": "code",
   "execution_count": 22,
   "id": "2f830ac8",
   "metadata": {},
   "outputs": [
    {
     "data": {
      "text/latex": [
       "$39.8942280401433 \\left(- 128.508141184698 \\operatorname{sign}{\\left(y₁ - 0.516397779494322 \\right)} + 128.508141184698 \\operatorname{sign}{\\left(y₁ - 0.258198889747161 \\right)}\\right) e^{- 5000.0 \\left(y - y₁\\right)^{2}}$"
      ],
      "text/plain": [
       "                                                                              \n",
       "                                                                              \n",
       "39.8942280401433⋅(-128.508141184698⋅sign(y₁ - 0.516397779494322) + 128.5081411\n",
       "\n",
       "                                                     2\n",
       "                                     -5000.0⋅(y - y₁) \n",
       "84698⋅sign(y₁ - 0.258198889747161))⋅ℯ                 "
      ]
     },
     "execution_count": 22,
     "metadata": {},
     "output_type": "execute_result"
    }
   ],
   "source": [
    "IF2y1 = E2y(y₁,-lₙₓ,lₙₓ)*wₕ(y,y₁)\n",
    "IF2y2 = E2y(y₁,-lₐ₁ₙ,-lₙₓ)*wₕ(y,y₁)\n",
    "IF2y3 = E2y(y₁,lₙₓ,lₐ₁ₙ)*wₕ(y,y₁)"
   ]
  },
  {
   "cell_type": "code",
   "execution_count": 23,
   "id": "f3342268",
   "metadata": {},
   "outputs": [
    {
     "data": {
      "text/latex": [
       "$\\left(- 72.502954657491 \\sqrt{\\pi} \\operatorname{erf}{\\left(70.7106781186548 x - 18.2574185835055 \\right)} + 72.502954657491 \\sqrt{\\pi} \\operatorname{erf}{\\left(70.7106781186548 x + 18.2574185835055 \\right)}\\right) \\left(- 72.502954657491 \\sqrt{\\pi} \\operatorname{erf}{\\left(70.7106781186548 y - 36.5148371670111 \\right)} + 72.502954657491 \\sqrt{\\pi} \\operatorname{erf}{\\left(70.7106781186548 y - 18.2574185835055 \\right)}\\right)$"
      ],
      "text/plain": [
       "(-72.502954657491⋅√π⋅erf(70.7106781186548⋅x - 18.2574185835055) + 72.502954657\n",
       "491⋅√π⋅erf(70.7106781186548⋅x + 18.2574185835055))⋅(-72.502954657491⋅√π⋅erf(70\n",
       ".7106781186548⋅y - 36.5148371670111) + 72.502954657491⋅√π⋅erf(70.7106781186548\n",
       "⋅y - 18.2574185835055))"
      ]
     },
     "execution_count": 23,
     "metadata": {},
     "output_type": "execute_result"
    }
   ],
   "source": [
    "smooth2E1 = integrate(IF2x2,(x₁,-lₘₓ,lₘₓ))*integrate(IF2y1,(y₁,-lₘₓ,lₘₓ))\n",
    "smooth2E2 = integrate(IF2x1,(x₁,-lₘₓ,lₘₓ))*integrate(IF2y2,(y₁,-lₘₓ,lₘₓ))\n",
    "smooth2E3 = integrate(IF2x1,(x₁,-lₘₓ,lₘₓ))*integrate(IF2y3,(y₁,-lₘₓ,lₘₓ))"
   ]
  },
  {
   "cell_type": "code",
   "execution_count": 24,
   "id": "6d010612",
   "metadata": {
    "scrolled": true
   },
   "outputs": [
    {
     "data": {
      "text/latex": [
       "$\\left(- 72.502954657491 \\sqrt{\\pi} \\operatorname{erf}{\\left(70.7106781186548 x - 36.5148371670111 \\right)} + 72.502954657491 \\sqrt{\\pi} \\operatorname{erf}{\\left(70.7106781186548 x + 36.5148371670111 \\right)}\\right) \\left(- 72.502954657491 \\sqrt{\\pi} \\operatorname{erf}{\\left(70.7106781186548 y - 18.2574185835055 \\right)} + 72.502954657491 \\sqrt{\\pi} \\operatorname{erf}{\\left(70.7106781186548 y + 18.2574185835055 \\right)}\\right) + \\left(- 72.502954657491 \\sqrt{\\pi} \\operatorname{erf}{\\left(70.7106781186548 x - 18.2574185835055 \\right)} + 72.502954657491 \\sqrt{\\pi} \\operatorname{erf}{\\left(70.7106781186548 x + 18.2574185835055 \\right)}\\right) \\left(- 72.502954657491 \\sqrt{\\pi} \\operatorname{erf}{\\left(70.7106781186548 y - 36.5148371670111 \\right)} + 72.502954657491 \\sqrt{\\pi} \\operatorname{erf}{\\left(70.7106781186548 y - 18.2574185835055 \\right)}\\right) + \\left(- 72.502954657491 \\sqrt{\\pi} \\operatorname{erf}{\\left(70.7106781186548 x - 18.2574185835055 \\right)} + 72.502954657491 \\sqrt{\\pi} \\operatorname{erf}{\\left(70.7106781186548 x + 18.2574185835055 \\right)}\\right) \\left(- 72.502954657491 \\sqrt{\\pi} \\operatorname{erf}{\\left(70.7106781186548 y + 18.2574185835055 \\right)} + 72.502954657491 \\sqrt{\\pi} \\operatorname{erf}{\\left(70.7106781186548 y + 36.5148371670111 \\right)}\\right) + 1942.63059701493$"
      ],
      "text/plain": [
       "(-72.502954657491⋅√π⋅erf(70.7106781186548⋅x - 36.5148371670111) + 72.502954657\n",
       "491⋅√π⋅erf(70.7106781186548⋅x + 36.5148371670111))⋅(-72.502954657491⋅√π⋅erf(70\n",
       ".7106781186548⋅y - 18.2574185835055) + 72.502954657491⋅√π⋅erf(70.7106781186548\n",
       "⋅y + 18.2574185835055)) + (-72.502954657491⋅√π⋅erf(70.7106781186548⋅x - 18.257\n",
       "4185835055) + 72.502954657491⋅√π⋅erf(70.7106781186548⋅x + 18.2574185835055))⋅(\n",
       "-72.502954657491⋅√π⋅erf(70.7106781186548⋅y - 36.5148371670111) + 72.5029546574\n",
       "91⋅√π⋅erf(70.7106781186548⋅y - 18.2574185835055)) + (-72.502954657491⋅√π⋅erf(7\n",
       "0.7106781186548⋅x - 18.2574185835055) + 72.502954657491⋅√π⋅erf(70.710678118654\n",
       "8⋅x + 18.2574185835055))⋅(-72.502954657491⋅√π⋅erf(70.7106781186548⋅y + 18.2574\n",
       "185835055) + 72.502954657491⋅√π⋅erf(70.7106781186548⋅y + 36.5148371670111)) + \n",
       "1942.63059701493"
      ]
     },
     "execution_count": 24,
     "metadata": {},
     "output_type": "execute_result"
    }
   ],
   "source": [
    "C₁₁₂₂ = smooth2E1 + smooth2E2 + smooth2E3 + C₁₂ₘ"
   ]
  },
  {
   "cell_type": "markdown",
   "id": "6440f8fd",
   "metadata": {},
   "source": [
    "E2discont1 = -E2x(x₁,-7.5,7.5)*E2y(y₁,-5,5)\n",
    "E2discont2 = -E2x(x₁,-5,5)*E2y(y₁,-7.5,-5)\n",
    "E2discont3 = -E2x(x₁,-5,5)*E2y(y₁,5,7.5)\n",
    "E2discont = E2discont1 + E2discont2 + E2discont3 + C₁₂ₘ"
   ]
  },
  {
   "cell_type": "markdown",
   "id": "56620146",
   "metadata": {},
   "source": [
    "xs = ys = range(-10,10, length=100)\n",
    "plot1 = surface(xs, ys, E2discont, c=:diverging_bwr_40_95_c42_n256, axis = nothing, showaxis =false,aspect_ratio=:equal, camera=(0,90))\n",
    "plot2 = surface(xs, ys, C₁₁₂₂, c=:diverging_bwr_40_95_c42_n256, axis = nothing, showaxis =false,aspect_ratio=:equal,camera=(0,90))\n",
    "plot(plot1,plot2)"
   ]
  },
  {
   "cell_type": "code",
   "execution_count": 25,
   "id": "8adcea3e",
   "metadata": {},
   "outputs": [
    {
     "data": {
      "text/latex": [
       "$136000.0$"
      ],
      "text/plain": [
       "136000.000000000"
      ]
     },
     "execution_count": 25,
     "metadata": {},
     "output_type": "execute_result"
    }
   ],
   "source": [
    "C₃₃ₘ = Gₘ\n",
    "C₃₃ᵢ = Gᵢ"
   ]
  },
  {
   "cell_type": "code",
   "execution_count": 26,
   "id": "d2b60b92",
   "metadata": {},
   "outputs": [
    {
     "data": {
      "text/plain": [
       "E3y (generic function with 1 method)"
      ]
     },
     "execution_count": 26,
     "metadata": {},
     "output_type": "execute_result"
    }
   ],
   "source": [
    "E3x(x,ax,bx) = sqrt(C₃₃ᵢ - C₃₃ₘ) * interval(x,ax,bx) \n",
    "E3y(y,ay,by) = sqrt(C₃₃ᵢ - C₃₃ₘ) * interval(y,ay,by) "
   ]
  },
  {
   "cell_type": "code",
   "execution_count": 27,
   "id": "4a7532e9",
   "metadata": {},
   "outputs": [
    {
     "data": {
      "text/latex": [
       "$39.8942280401433 \\left(- 183.147237073785 \\operatorname{sign}{\\left(x₁ - 0.516397779494322 \\right)} + 183.147237073785 \\operatorname{sign}{\\left(x₁ + 0.516397779494322 \\right)}\\right) e^{- 5000.0 \\left(x - x₁\\right)^{2}}$"
      ],
      "text/plain": [
       "                                                                              \n",
       "                                                                              \n",
       "39.8942280401433⋅(-183.147237073785⋅sign(x₁ - 0.516397779494322) + 183.1472370\n",
       "\n",
       "                                                     2\n",
       "                                     -5000.0⋅(x - x₁) \n",
       "73785⋅sign(x₁ + 0.516397779494322))⋅ℯ                 "
      ]
     },
     "execution_count": 27,
     "metadata": {},
     "output_type": "execute_result"
    }
   ],
   "source": [
    "IF3x1 = E3x(x₁,-lₙₓ,lₙₓ)*wₕ(x,x₁)\n",
    "IF3x2 = E3x(x₁,-lₐ₁ₙ,lₐ₁ₙ)*wₕ(x,x₁)"
   ]
  },
  {
   "cell_type": "code",
   "execution_count": 28,
   "id": "b13a46e5",
   "metadata": {},
   "outputs": [
    {
     "data": {
      "text/latex": [
       "$39.8942280401433 \\left(- 183.147237073785 \\operatorname{sign}{\\left(y₁ - 0.516397779494322 \\right)} + 183.147237073785 \\operatorname{sign}{\\left(y₁ - 0.258198889747161 \\right)}\\right) e^{- 5000.0 \\left(y - y₁\\right)^{2}}$"
      ],
      "text/plain": [
       "                                                                              \n",
       "                                                                              \n",
       "39.8942280401433⋅(-183.147237073785⋅sign(y₁ - 0.516397779494322) + 183.1472370\n",
       "\n",
       "                                                     2\n",
       "                                     -5000.0⋅(y - y₁) \n",
       "73785⋅sign(y₁ - 0.258198889747161))⋅ℯ                 "
      ]
     },
     "execution_count": 28,
     "metadata": {},
     "output_type": "execute_result"
    }
   ],
   "source": [
    "IF3y1 = E3y(y₁,-lₙₓ,lₙₓ)*wₕ(y,y₁)\n",
    "IF3y2 = E3y(y₁,-lₐ₁ₙ,-lₙₓ)*wₕ(y,y₁)\n",
    "IF3y3 = E3y(y₁,lₙₓ,lₐ₁ₙ)*wₕ(y,y₁)"
   ]
  },
  {
   "cell_type": "code",
   "execution_count": 29,
   "id": "22933cfa",
   "metadata": {},
   "outputs": [
    {
     "data": {
      "text/latex": [
       "$\\left(- 103.329763412581 \\sqrt{\\pi} \\operatorname{erf}{\\left(70.7106781186548 x - 18.2574185835055 \\right)} + 103.329763412581 \\sqrt{\\pi} \\operatorname{erf}{\\left(70.7106781186548 x + 18.2574185835055 \\right)}\\right) \\left(- 103.329763412581 \\sqrt{\\pi} \\operatorname{erf}{\\left(70.7106781186548 y - 36.5148371670111 \\right)} + 103.329763412581 \\sqrt{\\pi} \\operatorname{erf}{\\left(70.7106781186548 y - 18.2574185835055 \\right)}\\right)$"
      ],
      "text/plain": [
       "(-103.329763412581⋅√π⋅erf(70.7106781186548⋅x - 18.2574185835055) + 103.3297634\n",
       "12581⋅√π⋅erf(70.7106781186548⋅x + 18.2574185835055))⋅(-103.329763412581⋅√π⋅erf\n",
       "(70.7106781186548⋅y - 36.5148371670111) + 103.329763412581⋅√π⋅erf(70.710678118\n",
       "6548⋅y - 18.2574185835055))"
      ]
     },
     "execution_count": 29,
     "metadata": {},
     "output_type": "execute_result"
    }
   ],
   "source": [
    "smooth3E1 = integrate(IF3x2,(x₁,-lₘₓ,lₘₓ))*integrate(IF3y1,(y₁,-lₘₓ,lₘₓ))\n",
    "smooth3E2 = integrate(IF3x1,(x₁,-lₘₓ,lₘₓ))*integrate(IF3y2,(y₁,-lₘₓ,lₘₓ))\n",
    "smooth3E3 = integrate(IF3x1,(x₁,-lₘₓ,lₘₓ))*integrate(IF3y3,(y₁,-lₘₓ,lₘₓ))"
   ]
  },
  {
   "cell_type": "code",
   "execution_count": 30,
   "id": "ca04e4ba",
   "metadata": {
    "scrolled": true
   },
   "outputs": [
    {
     "data": {
      "text/latex": [
       "$\\left(- 103.329763412581 \\sqrt{\\pi} \\operatorname{erf}{\\left(70.7106781186548 x - 36.5148371670111 \\right)} + 103.329763412581 \\sqrt{\\pi} \\operatorname{erf}{\\left(70.7106781186548 x + 36.5148371670111 \\right)}\\right) \\left(- 103.329763412581 \\sqrt{\\pi} \\operatorname{erf}{\\left(70.7106781186548 y - 18.2574185835055 \\right)} + 103.329763412581 \\sqrt{\\pi} \\operatorname{erf}{\\left(70.7106781186548 y + 18.2574185835055 \\right)}\\right) + \\left(- 103.329763412581 \\sqrt{\\pi} \\operatorname{erf}{\\left(70.7106781186548 x - 18.2574185835055 \\right)} + 103.329763412581 \\sqrt{\\pi} \\operatorname{erf}{\\left(70.7106781186548 x + 18.2574185835055 \\right)}\\right) \\left(- 103.329763412581 \\sqrt{\\pi} \\operatorname{erf}{\\left(70.7106781186548 y - 36.5148371670111 \\right)} + 103.329763412581 \\sqrt{\\pi} \\operatorname{erf}{\\left(70.7106781186548 y - 18.2574185835055 \\right)}\\right) + \\left(- 103.329763412581 \\sqrt{\\pi} \\operatorname{erf}{\\left(70.7106781186548 x - 18.2574185835055 \\right)} + 103.329763412581 \\sqrt{\\pi} \\operatorname{erf}{\\left(70.7106781186548 x + 18.2574185835055 \\right)}\\right) \\left(- 103.329763412581 \\sqrt{\\pi} \\operatorname{erf}{\\left(70.7106781186548 y + 18.2574185835055 \\right)} + 103.329763412581 \\sqrt{\\pi} \\operatorname{erf}{\\left(70.7106781186548 y + 36.5148371670111 \\right)}\\right) + 1828.35820895522$"
      ],
      "text/plain": [
       "(-103.329763412581⋅√π⋅erf(70.7106781186548⋅x - 36.5148371670111) + 103.3297634\n",
       "12581⋅√π⋅erf(70.7106781186548⋅x + 36.5148371670111))⋅(-103.329763412581⋅√π⋅erf\n",
       "(70.7106781186548⋅y - 18.2574185835055) + 103.329763412581⋅√π⋅erf(70.710678118\n",
       "6548⋅y + 18.2574185835055)) + (-103.329763412581⋅√π⋅erf(70.7106781186548⋅x - 1\n",
       "8.2574185835055) + 103.329763412581⋅√π⋅erf(70.7106781186548⋅x + 18.25741858350\n",
       "55))⋅(-103.329763412581⋅√π⋅erf(70.7106781186548⋅y - 36.5148371670111) + 103.32\n",
       "9763412581⋅√π⋅erf(70.7106781186548⋅y - 18.2574185835055)) + (-103.329763412581\n",
       "⋅√π⋅erf(70.7106781186548⋅x - 18.2574185835055) + 103.329763412581⋅√π⋅erf(70.71\n",
       "06781186548⋅x + 18.2574185835055))⋅(-103.329763412581⋅√π⋅erf(70.7106781186548⋅\n",
       "y + 18.2574185835055) + 103.329763412581⋅√π⋅erf(70.7106781186548⋅y + 36.514837\n",
       "1670111)) + 1828.35820895522"
      ]
     },
     "execution_count": 30,
     "metadata": {},
     "output_type": "execute_result"
    }
   ],
   "source": [
    "C₃₃₃₃ = smooth3E1 + smooth3E2 + smooth3E3 + C₃₃ₘ"
   ]
  },
  {
   "cell_type": "markdown",
   "id": "6e6d53df",
   "metadata": {},
   "source": [
    "xs = ys = range(-10,10, length=100)\n",
    "plot1 = surface(xs, ys, Ediscont3, c=:diverging_bwr_40_95_c42_n256, axis = nothing, showaxis =false,aspect_ratio=:equal, camera=(0,90))\n",
    "plot2 = surface(xs, ys, smooth3E, c=:diverging_bwr_40_95_c42_n256, axis = nothing, showaxis =false,aspect_ratio=:equal,camera=(0,90))\n",
    "plot(plot1,plot2)"
   ]
  },
  {
   "cell_type": "code",
   "execution_count": 31,
   "id": "37ea79b0",
   "metadata": {},
   "outputs": [
    {
     "data": {
      "text/plain": [
       "20"
      ]
     },
     "execution_count": 31,
     "metadata": {},
     "output_type": "execute_result"
    }
   ],
   "source": [
    "d₁₁ₘ = 0\n",
    "d₁₁ᵢ = 20"
   ]
  },
  {
   "cell_type": "code",
   "execution_count": 32,
   "id": "faad1842",
   "metadata": {},
   "outputs": [
    {
     "data": {
      "text/plain": [
       "D1y (generic function with 1 method)"
      ]
     },
     "execution_count": 32,
     "metadata": {},
     "output_type": "execute_result"
    }
   ],
   "source": [
    "D1x(x,ax,bx) = sqrt(d₁₁ᵢ - d₁₁ₘ) * interval(x,ax,bx) \n",
    "D1y(y,ay,by) = sqrt(d₁₁ᵢ - d₁₁ₘ) * interval(y,ay,by) "
   ]
  },
  {
   "cell_type": "code",
   "execution_count": 33,
   "id": "d9ab5879",
   "metadata": {},
   "outputs": [
    {
     "data": {
      "text/latex": [
       "$39.8942280401433 \\left(- 2.23606797749979 \\operatorname{sign}{\\left(x₁ - 0.516397779494322 \\right)} + 2.23606797749979 \\operatorname{sign}{\\left(x₁ + 0.516397779494322 \\right)}\\right) e^{- 5000.0 \\left(x - x₁\\right)^{2}}$"
      ],
      "text/plain": [
       "                                                                              \n",
       "                                                                              \n",
       "39.8942280401433⋅(-2.23606797749979⋅sign(x₁ - 0.516397779494322) + 2.236067977\n",
       "\n",
       "                                                     2\n",
       "                                     -5000.0⋅(x - x₁) \n",
       "49979⋅sign(x₁ + 0.516397779494322))⋅ℯ                 "
      ]
     },
     "execution_count": 33,
     "metadata": {},
     "output_type": "execute_result"
    }
   ],
   "source": [
    "ID1x1 = D1x(x₁,-lₙₓ,lₙₓ)*wₕ(x,x₁)\n",
    "ID1x2 = D1x(x₁,-lₐ₁ₙ,lₐ₁ₙ)*wₕ(x,x₁)"
   ]
  },
  {
   "cell_type": "code",
   "execution_count": 34,
   "id": "c354d307",
   "metadata": {},
   "outputs": [
    {
     "data": {
      "text/latex": [
       "$39.8942280401433 \\left(- 2.23606797749979 \\operatorname{sign}{\\left(y₁ - 0.516397779494322 \\right)} + 2.23606797749979 \\operatorname{sign}{\\left(y₁ - 0.258198889747161 \\right)}\\right) e^{- 5000.0 \\left(y - y₁\\right)^{2}}$"
      ],
      "text/plain": [
       "                                                                              \n",
       "                                                                              \n",
       "39.8942280401433⋅(-2.23606797749979⋅sign(y₁ - 0.516397779494322) + 2.236067977\n",
       "\n",
       "                                                     2\n",
       "                                     -5000.0⋅(y - y₁) \n",
       "49979⋅sign(y₁ - 0.258198889747161))⋅ℯ                 "
      ]
     },
     "execution_count": 34,
     "metadata": {},
     "output_type": "execute_result"
    }
   ],
   "source": [
    "ID1y1 = D1y(y₁,-lₙₓ,lₙₓ)*wₕ(y,y₁)\n",
    "ID1y2 = D1y(y₁,-lₐ₁ₙ,-lₙₓ)*wₕ(y,y₁)\n",
    "ID1y3 = D1y(y₁,lₙₓ,lₐ₁ₙ)*wₕ(y,y₁)"
   ]
  },
  {
   "cell_type": "code",
   "execution_count": 35,
   "id": "e684c43c",
   "metadata": {},
   "outputs": [
    {
     "data": {
      "text/latex": [
       "$\\left(- 1.26156626101008 \\sqrt{\\pi} \\operatorname{erf}{\\left(70.7106781186548 x - 18.2574185835055 \\right)} + 1.26156626101008 \\sqrt{\\pi} \\operatorname{erf}{\\left(70.7106781186548 x + 18.2574185835055 \\right)}\\right) \\left(- 1.26156626101008 \\sqrt{\\pi} \\operatorname{erf}{\\left(70.7106781186548 y - 36.5148371670111 \\right)} + 1.26156626101008 \\sqrt{\\pi} \\operatorname{erf}{\\left(70.7106781186548 y - 18.2574185835055 \\right)}\\right)$"
      ],
      "text/plain": [
       "(-1.26156626101008⋅√π⋅erf(70.7106781186548⋅x - 18.2574185835055) + 1.261566261\n",
       "01008⋅√π⋅erf(70.7106781186548⋅x + 18.2574185835055))⋅(-1.26156626101008⋅√π⋅erf\n",
       "(70.7106781186548⋅y - 36.5148371670111) + 1.26156626101008⋅√π⋅erf(70.710678118\n",
       "6548⋅y - 18.2574185835055))"
      ]
     },
     "execution_count": 35,
     "metadata": {},
     "output_type": "execute_result"
    }
   ],
   "source": [
    "smooth1D1 = integrate(ID1x2,(x₁,-lₘₓ,lₘₓ))*integrate(ID1y1,(y₁,-lₘₓ,lₘₓ))\n",
    "smooth1D2 = integrate(ID1x1,(x₁,-lₘₓ,lₘₓ))*integrate(ID1y2,(y₁,-lₘₓ,lₘₓ))\n",
    "smooth1D3 = integrate(ID1x1,(x₁,-lₘₓ,lₘₓ))*integrate(ID1y3,(y₁,-lₘₓ,lₘₓ))"
   ]
  },
  {
   "cell_type": "code",
   "execution_count": 36,
   "id": "768f6c08",
   "metadata": {
    "scrolled": true
   },
   "outputs": [
    {
     "data": {
      "text/latex": [
       "$\\left(- 1.26156626101008 \\sqrt{\\pi} \\operatorname{erf}{\\left(70.7106781186548 x - 36.5148371670111 \\right)} + 1.26156626101008 \\sqrt{\\pi} \\operatorname{erf}{\\left(70.7106781186548 x + 36.5148371670111 \\right)}\\right) \\left(- 1.26156626101008 \\sqrt{\\pi} \\operatorname{erf}{\\left(70.7106781186548 y - 18.2574185835055 \\right)} + 1.26156626101008 \\sqrt{\\pi} \\operatorname{erf}{\\left(70.7106781186548 y + 18.2574185835055 \\right)}\\right) + \\left(- 1.26156626101008 \\sqrt{\\pi} \\operatorname{erf}{\\left(70.7106781186548 x - 18.2574185835055 \\right)} + 1.26156626101008 \\sqrt{\\pi} \\operatorname{erf}{\\left(70.7106781186548 x + 18.2574185835055 \\right)}\\right) \\left(- 1.26156626101008 \\sqrt{\\pi} \\operatorname{erf}{\\left(70.7106781186548 y - 36.5148371670111 \\right)} + 1.26156626101008 \\sqrt{\\pi} \\operatorname{erf}{\\left(70.7106781186548 y - 18.2574185835055 \\right)}\\right) + \\left(- 1.26156626101008 \\sqrt{\\pi} \\operatorname{erf}{\\left(70.7106781186548 x - 18.2574185835055 \\right)} + 1.26156626101008 \\sqrt{\\pi} \\operatorname{erf}{\\left(70.7106781186548 x + 18.2574185835055 \\right)}\\right) \\left(- 1.26156626101008 \\sqrt{\\pi} \\operatorname{erf}{\\left(70.7106781186548 y + 18.2574185835055 \\right)} + 1.26156626101008 \\sqrt{\\pi} \\operatorname{erf}{\\left(70.7106781186548 y + 36.5148371670111 \\right)}\\right)$"
      ],
      "text/plain": [
       "(-1.26156626101008⋅√π⋅erf(70.7106781186548⋅x - 36.5148371670111) + 1.261566261\n",
       "01008⋅√π⋅erf(70.7106781186548⋅x + 36.5148371670111))⋅(-1.26156626101008⋅√π⋅erf\n",
       "(70.7106781186548⋅y - 18.2574185835055) + 1.26156626101008⋅√π⋅erf(70.710678118\n",
       "6548⋅y + 18.2574185835055)) + (-1.26156626101008⋅√π⋅erf(70.7106781186548⋅x - 1\n",
       "8.2574185835055) + 1.26156626101008⋅√π⋅erf(70.7106781186548⋅x + 18.25741858350\n",
       "55))⋅(-1.26156626101008⋅√π⋅erf(70.7106781186548⋅y - 36.5148371670111) + 1.2615\n",
       "6626101008⋅√π⋅erf(70.7106781186548⋅y - 18.2574185835055)) + (-1.26156626101008\n",
       "⋅√π⋅erf(70.7106781186548⋅x - 18.2574185835055) + 1.26156626101008⋅√π⋅erf(70.71\n",
       "06781186548⋅x + 18.2574185835055))⋅(-1.26156626101008⋅√π⋅erf(70.7106781186548⋅\n",
       "y + 18.2574185835055) + 1.26156626101008⋅√π⋅erf(70.7106781186548⋅y + 36.514837\n",
       "1670111))"
      ]
     },
     "execution_count": 36,
     "metadata": {},
     "output_type": "execute_result"
    }
   ],
   "source": [
    "D₁₁ = smooth1D1 + smooth1D2 + smooth1D3 + d₁₁ₘ"
   ]
  },
  {
   "cell_type": "code",
   "execution_count": 37,
   "id": "3ca271e6",
   "metadata": {},
   "outputs": [
    {
     "data": {
      "text/plain": [
       "-0.9"
      ]
     },
     "execution_count": 37,
     "metadata": {},
     "output_type": "execute_result"
    }
   ],
   "source": [
    "d₁₂ₘ = 20\n",
    "d₁₂ᵢ = -0.9"
   ]
  },
  {
   "cell_type": "code",
   "execution_count": 38,
   "id": "a867c2a7",
   "metadata": {},
   "outputs": [
    {
     "data": {
      "text/plain": [
       "D22y (generic function with 1 method)"
      ]
     },
     "execution_count": 38,
     "metadata": {},
     "output_type": "execute_result"
    }
   ],
   "source": [
    "D22x(x,ax,bx) = sqrt(d₁₂ₘ - d₁₂ᵢ) * interval(x,ax,bx) \n",
    "D22y(y,ay,by) = sqrt(d₁₂ₘ - d₁₂ᵢ) * interval(y,ay,by) "
   ]
  },
  {
   "cell_type": "code",
   "execution_count": 39,
   "id": "3283d68c",
   "metadata": {},
   "outputs": [
    {
     "data": {
      "text/latex": [
       "$39.8942280401433 \\left(- 2.28582589013249 \\operatorname{sign}{\\left(x₁ - 0.516397779494322 \\right)} + 2.28582589013249 \\operatorname{sign}{\\left(x₁ + 0.516397779494322 \\right)}\\right) e^{- 5000.0 \\left(x - x₁\\right)^{2}}$"
      ],
      "text/plain": [
       "                                                                              \n",
       "                                                                              \n",
       "39.8942280401433⋅(-2.28582589013249⋅sign(x₁ - 0.516397779494322) + 2.285825890\n",
       "\n",
       "                                                     2\n",
       "                                     -5000.0⋅(x - x₁) \n",
       "13249⋅sign(x₁ + 0.516397779494322))⋅ℯ                 "
      ]
     },
     "execution_count": 39,
     "metadata": {},
     "output_type": "execute_result"
    }
   ],
   "source": [
    "ID22x1 = D22x(x₁,-lₙₓ,lₙₓ)*wₕ(x,x₁)\n",
    "ID22x2 = D22x(x₁,-lₐ₁ₙ,lₐ₁ₙ)*wₕ(x,x₁)"
   ]
  },
  {
   "cell_type": "code",
   "execution_count": 40,
   "id": "431a91b8",
   "metadata": {},
   "outputs": [
    {
     "data": {
      "text/latex": [
       "$39.8942280401433 \\left(- 2.28582589013249 \\operatorname{sign}{\\left(y₁ - 0.516397779494322 \\right)} + 2.28582589013249 \\operatorname{sign}{\\left(y₁ - 0.258198889747161 \\right)}\\right) e^{- 5000.0 \\left(y - y₁\\right)^{2}}$"
      ],
      "text/plain": [
       "                                                                              \n",
       "                                                                              \n",
       "39.8942280401433⋅(-2.28582589013249⋅sign(y₁ - 0.516397779494322) + 2.285825890\n",
       "\n",
       "                                                     2\n",
       "                                     -5000.0⋅(y - y₁) \n",
       "13249⋅sign(y₁ - 0.258198889747161))⋅ℯ                 "
      ]
     },
     "execution_count": 40,
     "metadata": {},
     "output_type": "execute_result"
    }
   ],
   "source": [
    "ID22y1 = D22y(y₁,-lₙₓ,lₙₓ)*wₕ(y,y₁)\n",
    "ID22y2 = D22y(y₁,-lₐ₁ₙ,-lₙₓ)*wₕ(y,y₁)\n",
    "ID22y3 = D22y(y₁,lₙₓ,lₐ₁ₙ)*wₕ(y,y₁)"
   ]
  },
  {
   "cell_type": "code",
   "execution_count": 41,
   "id": "7e14ab5d",
   "metadata": {},
   "outputs": [
    {
     "data": {
      "text/latex": [
       "$\\left(1.28963915701653 \\sqrt{\\pi} \\operatorname{erf}{\\left(70.7106781186548 x - 18.2574185835055 \\right)} - 1.28963915701653 \\sqrt{\\pi} \\operatorname{erf}{\\left(70.7106781186548 x + 18.2574185835055 \\right)}\\right) \\left(- 1.28963915701653 \\sqrt{\\pi} \\operatorname{erf}{\\left(70.7106781186548 y - 36.5148371670111 \\right)} + 1.28963915701653 \\sqrt{\\pi} \\operatorname{erf}{\\left(70.7106781186548 y - 18.2574185835055 \\right)}\\right)$"
      ],
      "text/plain": [
       "(1.28963915701653⋅√π⋅erf(70.7106781186548⋅x - 18.2574185835055) - 1.2896391570\n",
       "1653⋅√π⋅erf(70.7106781186548⋅x + 18.2574185835055))⋅(-1.28963915701653⋅√π⋅erf(\n",
       "70.7106781186548⋅y - 36.5148371670111) + 1.28963915701653⋅√π⋅erf(70.7106781186\n",
       "548⋅y - 18.2574185835055))"
      ]
     },
     "execution_count": 41,
     "metadata": {},
     "output_type": "execute_result"
    }
   ],
   "source": [
    "smooth22D1 = -integrate(ID22x2,(x₁,-lₘₓ,lₘₓ))*integrate(ID22y1,(y₁,-lₘₓ,lₘₓ))\n",
    "smooth22D2 = -integrate(ID22x1,(x₁,-lₘₓ,lₘₓ))*integrate(ID22y2,(y₁,-lₘₓ,lₘₓ))\n",
    "smooth22D3 = -integrate(ID22x1,(x₁,-lₘₓ,lₘₓ))*integrate(ID22y3,(y₁,-lₘₓ,lₘₓ))"
   ]
  },
  {
   "cell_type": "code",
   "execution_count": 42,
   "id": "1d56fbce",
   "metadata": {
    "scrolled": true
   },
   "outputs": [
    {
     "data": {
      "text/latex": [
       "$\\left(1.28963915701653 \\sqrt{\\pi} \\operatorname{erf}{\\left(70.7106781186548 x - 36.5148371670111 \\right)} - 1.28963915701653 \\sqrt{\\pi} \\operatorname{erf}{\\left(70.7106781186548 x + 36.5148371670111 \\right)}\\right) \\left(- 1.28963915701653 \\sqrt{\\pi} \\operatorname{erf}{\\left(70.7106781186548 y - 18.2574185835055 \\right)} + 1.28963915701653 \\sqrt{\\pi} \\operatorname{erf}{\\left(70.7106781186548 y + 18.2574185835055 \\right)}\\right) + \\left(1.28963915701653 \\sqrt{\\pi} \\operatorname{erf}{\\left(70.7106781186548 x - 18.2574185835055 \\right)} - 1.28963915701653 \\sqrt{\\pi} \\operatorname{erf}{\\left(70.7106781186548 x + 18.2574185835055 \\right)}\\right) \\left(- 1.28963915701653 \\sqrt{\\pi} \\operatorname{erf}{\\left(70.7106781186548 y - 36.5148371670111 \\right)} + 1.28963915701653 \\sqrt{\\pi} \\operatorname{erf}{\\left(70.7106781186548 y - 18.2574185835055 \\right)}\\right) + \\left(1.28963915701653 \\sqrt{\\pi} \\operatorname{erf}{\\left(70.7106781186548 x - 18.2574185835055 \\right)} - 1.28963915701653 \\sqrt{\\pi} \\operatorname{erf}{\\left(70.7106781186548 x + 18.2574185835055 \\right)}\\right) \\left(- 1.28963915701653 \\sqrt{\\pi} \\operatorname{erf}{\\left(70.7106781186548 y + 18.2574185835055 \\right)} + 1.28963915701653 \\sqrt{\\pi} \\operatorname{erf}{\\left(70.7106781186548 y + 36.5148371670111 \\right)}\\right) + 20$"
      ],
      "text/plain": [
       "(1.28963915701653⋅√π⋅erf(70.7106781186548⋅x - 36.5148371670111) - 1.2896391570\n",
       "1653⋅√π⋅erf(70.7106781186548⋅x + 36.5148371670111))⋅(-1.28963915701653⋅√π⋅erf(\n",
       "70.7106781186548⋅y - 18.2574185835055) + 1.28963915701653⋅√π⋅erf(70.7106781186\n",
       "548⋅y + 18.2574185835055)) + (1.28963915701653⋅√π⋅erf(70.7106781186548⋅x - 18.\n",
       "2574185835055) - 1.28963915701653⋅√π⋅erf(70.7106781186548⋅x + 18.2574185835055\n",
       "))⋅(-1.28963915701653⋅√π⋅erf(70.7106781186548⋅y - 36.5148371670111) + 1.289639\n",
       "15701653⋅√π⋅erf(70.7106781186548⋅y - 18.2574185835055)) + (1.28963915701653⋅√π\n",
       "⋅erf(70.7106781186548⋅x - 18.2574185835055) - 1.28963915701653⋅√π⋅erf(70.71067\n",
       "81186548⋅x + 18.2574185835055))⋅(-1.28963915701653⋅√π⋅erf(70.7106781186548⋅y +\n",
       " 18.2574185835055) + 1.28963915701653⋅√π⋅erf(70.7106781186548⋅y + 36.514837167\n",
       "0111)) + 20"
      ]
     },
     "execution_count": 42,
     "metadata": {},
     "output_type": "execute_result"
    }
   ],
   "source": [
    "D₂₁ = smooth22D1 + smooth22D2 + smooth22D3 + d₁₂ₘ"
   ]
  },
  {
   "cell_type": "code",
   "execution_count": 43,
   "id": "56f25fe1",
   "metadata": {},
   "outputs": [
    {
     "data": {
      "text/plain": [
       "-0.9"
      ]
     },
     "execution_count": 43,
     "metadata": {},
     "output_type": "execute_result"
    }
   ],
   "source": [
    "d₂₂ₘ = 3\n",
    "d₂₂ᵢ = -0.9"
   ]
  },
  {
   "cell_type": "code",
   "execution_count": 44,
   "id": "d4d3ea09",
   "metadata": {},
   "outputs": [
    {
     "data": {
      "text/plain": [
       "D2y (generic function with 1 method)"
      ]
     },
     "execution_count": 44,
     "metadata": {},
     "output_type": "execute_result"
    }
   ],
   "source": [
    "D2x(x,ax,bx) = sqrt(d₂₂ₘ - d₂₂ᵢ) * interval(x,ax,bx) \n",
    "D2y(y,ay,by) = sqrt(d₂₂ₘ - d₂₂ᵢ) * interval(y,ay,by) "
   ]
  },
  {
   "cell_type": "code",
   "execution_count": 45,
   "id": "0b31a78d",
   "metadata": {},
   "outputs": [
    {
     "data": {
      "text/latex": [
       "$39.8942280401433 \\left(- 0.987420882906575 \\operatorname{sign}{\\left(x₁ - 0.516397779494322 \\right)} + 0.987420882906575 \\operatorname{sign}{\\left(x₁ + 0.516397779494322 \\right)}\\right) e^{- 5000.0 \\left(x - x₁\\right)^{2}}$"
      ],
      "text/plain": [
       "                                                                              \n",
       "                                                                              \n",
       "39.8942280401433⋅(-0.987420882906575⋅sign(x₁ - 0.516397779494322) + 0.98742088\n",
       "\n",
       "                                                       2\n",
       "                                       -5000.0⋅(x - x₁) \n",
       "2906575⋅sign(x₁ + 0.516397779494322))⋅ℯ                 "
      ]
     },
     "execution_count": 45,
     "metadata": {},
     "output_type": "execute_result"
    }
   ],
   "source": [
    "ID2x1 = D2x(x₁,-lₙₓ,lₙₓ)*wₕ(x,x₁)\n",
    "ID2x2 = D2x(x₁,-lₐ₁ₙ,lₐ₁ₙ)*wₕ(x,x₁)"
   ]
  },
  {
   "cell_type": "code",
   "execution_count": 46,
   "id": "a35cd986",
   "metadata": {},
   "outputs": [
    {
     "data": {
      "text/latex": [
       "$39.8942280401433 \\left(- 0.987420882906575 \\operatorname{sign}{\\left(y₁ - 0.516397779494322 \\right)} + 0.987420882906575 \\operatorname{sign}{\\left(y₁ - 0.258198889747161 \\right)}\\right) e^{- 5000.0 \\left(y - y₁\\right)^{2}}$"
      ],
      "text/plain": [
       "                                                                              \n",
       "                                                                              \n",
       "39.8942280401433⋅(-0.987420882906575⋅sign(y₁ - 0.516397779494322) + 0.98742088\n",
       "\n",
       "                                                       2\n",
       "                                       -5000.0⋅(y - y₁) \n",
       "2906575⋅sign(y₁ - 0.258198889747161))⋅ℯ                 "
      ]
     },
     "execution_count": 46,
     "metadata": {},
     "output_type": "execute_result"
    }
   ],
   "source": [
    "ID2y1 = D2y(y₁,-lₙₓ,lₙₓ)*wₕ(y,y₁)\n",
    "ID2y2 = D2y(y₁,-lₐ₁ₙ,-lₙₓ)*wₕ(y,y₁)\n",
    "ID2y3 = D2y(y₁,lₙₓ,lₐ₁ₙ)*wₕ(y,y₁)"
   ]
  },
  {
   "cell_type": "code",
   "execution_count": 47,
   "id": "55880fae",
   "metadata": {},
   "outputs": [
    {
     "data": {
      "text/latex": [
       "$\\left(0.557092576713418 \\sqrt{\\pi} \\operatorname{erf}{\\left(70.7106781186548 x - 18.2574185835055 \\right)} - 0.557092576713418 \\sqrt{\\pi} \\operatorname{erf}{\\left(70.7106781186548 x + 18.2574185835055 \\right)}\\right) \\left(- 0.557092576713418 \\sqrt{\\pi} \\operatorname{erf}{\\left(70.7106781186548 y - 36.5148371670111 \\right)} + 0.557092576713418 \\sqrt{\\pi} \\operatorname{erf}{\\left(70.7106781186548 y - 18.2574185835055 \\right)}\\right)$"
      ],
      "text/plain": [
       "(0.557092576713418⋅√π⋅erf(70.7106781186548⋅x - 18.2574185835055) - 0.557092576\n",
       "713418⋅√π⋅erf(70.7106781186548⋅x + 18.2574185835055))⋅(-0.557092576713418⋅√π⋅e\n",
       "rf(70.7106781186548⋅y - 36.5148371670111) + 0.557092576713418⋅√π⋅erf(70.710678\n",
       "1186548⋅y - 18.2574185835055))"
      ]
     },
     "execution_count": 47,
     "metadata": {},
     "output_type": "execute_result"
    }
   ],
   "source": [
    "smooth2D1 = -integrate(ID2x2,(x₁,-lₘₓ,lₘₓ))*integrate(ID2y1,(y₁,-lₘₓ,lₘₓ))\n",
    "smooth2D2 = -integrate(ID2x1,(x₁,-lₘₓ,lₘₓ))*integrate(ID2y2,(y₁,-lₘₓ,lₘₓ))\n",
    "smooth2D3 = -integrate(ID2x1,(x₁,-lₘₓ,lₘₓ))*integrate(ID2y3,(y₁,-lₘₓ,lₘₓ))"
   ]
  },
  {
   "cell_type": "code",
   "execution_count": 48,
   "id": "60e6ce7f",
   "metadata": {
    "scrolled": true
   },
   "outputs": [
    {
     "data": {
      "text/latex": [
       "$\\left(0.557092576713418 \\sqrt{\\pi} \\operatorname{erf}{\\left(70.7106781186548 x - 36.5148371670111 \\right)} - 0.557092576713418 \\sqrt{\\pi} \\operatorname{erf}{\\left(70.7106781186548 x + 36.5148371670111 \\right)}\\right) \\left(- 0.557092576713418 \\sqrt{\\pi} \\operatorname{erf}{\\left(70.7106781186548 y - 18.2574185835055 \\right)} + 0.557092576713418 \\sqrt{\\pi} \\operatorname{erf}{\\left(70.7106781186548 y + 18.2574185835055 \\right)}\\right) + \\left(0.557092576713418 \\sqrt{\\pi} \\operatorname{erf}{\\left(70.7106781186548 x - 18.2574185835055 \\right)} - 0.557092576713418 \\sqrt{\\pi} \\operatorname{erf}{\\left(70.7106781186548 x + 18.2574185835055 \\right)}\\right) \\left(- 0.557092576713418 \\sqrt{\\pi} \\operatorname{erf}{\\left(70.7106781186548 y - 36.5148371670111 \\right)} + 0.557092576713418 \\sqrt{\\pi} \\operatorname{erf}{\\left(70.7106781186548 y - 18.2574185835055 \\right)}\\right) + \\left(0.557092576713418 \\sqrt{\\pi} \\operatorname{erf}{\\left(70.7106781186548 x - 18.2574185835055 \\right)} - 0.557092576713418 \\sqrt{\\pi} \\operatorname{erf}{\\left(70.7106781186548 x + 18.2574185835055 \\right)}\\right) \\left(- 0.557092576713418 \\sqrt{\\pi} \\operatorname{erf}{\\left(70.7106781186548 y + 18.2574185835055 \\right)} + 0.557092576713418 \\sqrt{\\pi} \\operatorname{erf}{\\left(70.7106781186548 y + 36.5148371670111 \\right)}\\right) + 3$"
      ],
      "text/plain": [
       "(0.557092576713418⋅√π⋅erf(70.7106781186548⋅x - 36.5148371670111) - 0.557092576\n",
       "713418⋅√π⋅erf(70.7106781186548⋅x + 36.5148371670111))⋅(-0.557092576713418⋅√π⋅e\n",
       "rf(70.7106781186548⋅y - 18.2574185835055) + 0.557092576713418⋅√π⋅erf(70.710678\n",
       "1186548⋅y + 18.2574185835055)) + (0.557092576713418⋅√π⋅erf(70.7106781186548⋅x \n",
       "- 18.2574185835055) - 0.557092576713418⋅√π⋅erf(70.7106781186548⋅x + 18.2574185\n",
       "835055))⋅(-0.557092576713418⋅√π⋅erf(70.7106781186548⋅y - 36.5148371670111) + 0\n",
       ".557092576713418⋅√π⋅erf(70.7106781186548⋅y - 18.2574185835055)) + (0.557092576\n",
       "713418⋅√π⋅erf(70.7106781186548⋅x - 18.2574185835055) - 0.557092576713418⋅√π⋅er\n",
       "f(70.7106781186548⋅x + 18.2574185835055))⋅(-0.557092576713418⋅√π⋅erf(70.710678\n",
       "1186548⋅y + 18.2574185835055) + 0.557092576713418⋅√π⋅erf(70.7106781186548⋅y + \n",
       "36.5148371670111)) + 3"
      ]
     },
     "execution_count": 48,
     "metadata": {},
     "output_type": "execute_result"
    }
   ],
   "source": [
    "D₂₂ = smooth2D1 + smooth2D2 + smooth2D3 + d₂₂ₘ"
   ]
  },
  {
   "cell_type": "code",
   "execution_count": 49,
   "id": "4aacff27",
   "metadata": {},
   "outputs": [
    {
     "data": {
      "text/plain": [
       "6"
      ]
     },
     "execution_count": 49,
     "metadata": {},
     "output_type": "execute_result"
    }
   ],
   "source": [
    "d₂₃ₘ = -46\n",
    "d₂₃ᵢ = 6"
   ]
  },
  {
   "cell_type": "code",
   "execution_count": 50,
   "id": "4f3c6153",
   "metadata": {},
   "outputs": [
    {
     "data": {
      "text/plain": [
       "D3y (generic function with 1 method)"
      ]
     },
     "execution_count": 50,
     "metadata": {},
     "output_type": "execute_result"
    }
   ],
   "source": [
    "D3x(x,ax,bx) = sqrt(d₂₃ᵢ - d₂₃ₘ) * interval(x,ax,bx) \n",
    "D3y(y,ay,by) = sqrt(d₂₃ᵢ - d₂₃ₘ) * interval(y,ay,by) "
   ]
  },
  {
   "cell_type": "code",
   "execution_count": 51,
   "id": "0a498bb5",
   "metadata": {},
   "outputs": [
    {
     "data": {
      "text/latex": [
       "$39.8942280401433 \\left(- 3.60555127546399 \\operatorname{sign}{\\left(x₁ - 0.516397779494322 \\right)} + 3.60555127546399 \\operatorname{sign}{\\left(x₁ + 0.516397779494322 \\right)}\\right) e^{- 5000.0 \\left(x - x₁\\right)^{2}}$"
      ],
      "text/plain": [
       "                                                                              \n",
       "                                                                              \n",
       "39.8942280401433⋅(-3.60555127546399⋅sign(x₁ - 0.516397779494322) + 3.605551275\n",
       "\n",
       "                                                     2\n",
       "                                     -5000.0⋅(x - x₁) \n",
       "46399⋅sign(x₁ + 0.516397779494322))⋅ℯ                 "
      ]
     },
     "execution_count": 51,
     "metadata": {},
     "output_type": "execute_result"
    }
   ],
   "source": [
    "ID3x1 = D3x(x₁,-lₙₓ,lₙₓ)*wₕ(x,x₁)\n",
    "ID3x2 = D3x(x₁,-lₐ₁ₙ,lₐ₁ₙ)*wₕ(x,x₁)"
   ]
  },
  {
   "cell_type": "code",
   "execution_count": 52,
   "id": "78087a6a",
   "metadata": {},
   "outputs": [
    {
     "data": {
      "text/latex": [
       "$39.8942280401433 \\left(- 3.60555127546399 \\operatorname{sign}{\\left(y₁ - 0.516397779494322 \\right)} + 3.60555127546399 \\operatorname{sign}{\\left(y₁ - 0.258198889747161 \\right)}\\right) e^{- 5000.0 \\left(y - y₁\\right)^{2}}$"
      ],
      "text/plain": [
       "                                                                              \n",
       "                                                                              \n",
       "39.8942280401433⋅(-3.60555127546399⋅sign(y₁ - 0.516397779494322) + 3.605551275\n",
       "\n",
       "                                                     2\n",
       "                                     -5000.0⋅(y - y₁) \n",
       "46399⋅sign(y₁ - 0.258198889747161))⋅ℯ                 "
      ]
     },
     "execution_count": 52,
     "metadata": {},
     "output_type": "execute_result"
    }
   ],
   "source": [
    "ID3y1 = D3y(y₁,-lₙₓ,lₙₓ)*wₕ(y,y₁)\n",
    "ID3y2 = D3y(y₁,-lₐ₁ₙ,-lₙₓ)*wₕ(y,y₁)\n",
    "ID3y3 = D3y(y₁,lₙₓ,lₐ₁ₙ)*wₕ(y,y₁)"
   ]
  },
  {
   "cell_type": "code",
   "execution_count": 53,
   "id": "d2c07d1f",
   "metadata": {},
   "outputs": [
    {
     "data": {
      "text/latex": [
       "$\\left(- 2.03421447256411 \\sqrt{\\pi} \\operatorname{erf}{\\left(70.7106781186548 x - 18.2574185835055 \\right)} + 2.03421447256411 \\sqrt{\\pi} \\operatorname{erf}{\\left(70.7106781186548 x + 18.2574185835055 \\right)}\\right) \\left(- 2.03421447256411 \\sqrt{\\pi} \\operatorname{erf}{\\left(70.7106781186548 y - 36.5148371670111 \\right)} + 2.03421447256411 \\sqrt{\\pi} \\operatorname{erf}{\\left(70.7106781186548 y - 18.2574185835055 \\right)}\\right)$"
      ],
      "text/plain": [
       "(-2.03421447256411⋅√π⋅erf(70.7106781186548⋅x - 18.2574185835055) + 2.034214472\n",
       "56411⋅√π⋅erf(70.7106781186548⋅x + 18.2574185835055))⋅(-2.03421447256411⋅√π⋅erf\n",
       "(70.7106781186548⋅y - 36.5148371670111) + 2.03421447256411⋅√π⋅erf(70.710678118\n",
       "6548⋅y - 18.2574185835055))"
      ]
     },
     "execution_count": 53,
     "metadata": {},
     "output_type": "execute_result"
    }
   ],
   "source": [
    "smooth3D1 = integrate(ID3x2,(x₁,-lₘₓ,lₘₓ))*integrate(ID3y1,(y₁,-lₘₓ,lₘₓ))\n",
    "smooth3D2 = integrate(ID3x1,(x₁,-lₘₓ,lₘₓ))*integrate(ID3y2,(y₁,-lₘₓ,lₘₓ))\n",
    "smooth3D3 = integrate(ID3x1,(x₁,-lₘₓ,lₘₓ))*integrate(ID3y3,(y₁,-lₘₓ,lₘₓ))"
   ]
  },
  {
   "cell_type": "code",
   "execution_count": 54,
   "id": "ec70b721",
   "metadata": {
    "scrolled": true
   },
   "outputs": [
    {
     "data": {
      "text/latex": [
       "$\\left(- 2.03421447256411 \\sqrt{\\pi} \\operatorname{erf}{\\left(70.7106781186548 x - 36.5148371670111 \\right)} + 2.03421447256411 \\sqrt{\\pi} \\operatorname{erf}{\\left(70.7106781186548 x + 36.5148371670111 \\right)}\\right) \\left(- 2.03421447256411 \\sqrt{\\pi} \\operatorname{erf}{\\left(70.7106781186548 y - 18.2574185835055 \\right)} + 2.03421447256411 \\sqrt{\\pi} \\operatorname{erf}{\\left(70.7106781186548 y + 18.2574185835055 \\right)}\\right) + \\left(- 2.03421447256411 \\sqrt{\\pi} \\operatorname{erf}{\\left(70.7106781186548 x - 18.2574185835055 \\right)} + 2.03421447256411 \\sqrt{\\pi} \\operatorname{erf}{\\left(70.7106781186548 x + 18.2574185835055 \\right)}\\right) \\left(- 2.03421447256411 \\sqrt{\\pi} \\operatorname{erf}{\\left(70.7106781186548 y - 36.5148371670111 \\right)} + 2.03421447256411 \\sqrt{\\pi} \\operatorname{erf}{\\left(70.7106781186548 y - 18.2574185835055 \\right)}\\right) + \\left(- 2.03421447256411 \\sqrt{\\pi} \\operatorname{erf}{\\left(70.7106781186548 x - 18.2574185835055 \\right)} + 2.03421447256411 \\sqrt{\\pi} \\operatorname{erf}{\\left(70.7106781186548 x + 18.2574185835055 \\right)}\\right) \\left(- 2.03421447256411 \\sqrt{\\pi} \\operatorname{erf}{\\left(70.7106781186548 y + 18.2574185835055 \\right)} + 2.03421447256411 \\sqrt{\\pi} \\operatorname{erf}{\\left(70.7106781186548 y + 36.5148371670111 \\right)}\\right) - 46$"
      ],
      "text/plain": [
       "(-2.03421447256411⋅√π⋅erf(70.7106781186548⋅x - 36.5148371670111) + 2.034214472\n",
       "56411⋅√π⋅erf(70.7106781186548⋅x + 36.5148371670111))⋅(-2.03421447256411⋅√π⋅erf\n",
       "(70.7106781186548⋅y - 18.2574185835055) + 2.03421447256411⋅√π⋅erf(70.710678118\n",
       "6548⋅y + 18.2574185835055)) + (-2.03421447256411⋅√π⋅erf(70.7106781186548⋅x - 1\n",
       "8.2574185835055) + 2.03421447256411⋅√π⋅erf(70.7106781186548⋅x + 18.25741858350\n",
       "55))⋅(-2.03421447256411⋅√π⋅erf(70.7106781186548⋅y - 36.5148371670111) + 2.0342\n",
       "1447256411⋅√π⋅erf(70.7106781186548⋅y - 18.2574185835055)) + (-2.03421447256411\n",
       "⋅√π⋅erf(70.7106781186548⋅x - 18.2574185835055) + 2.03421447256411⋅√π⋅erf(70.71\n",
       "06781186548⋅x + 18.2574185835055))⋅(-2.03421447256411⋅√π⋅erf(70.7106781186548⋅\n",
       "y + 18.2574185835055) + 2.03421447256411⋅√π⋅erf(70.7106781186548⋅y + 36.514837\n",
       "1670111)) - 46"
      ]
     },
     "execution_count": 54,
     "metadata": {},
     "output_type": "execute_result"
    }
   ],
   "source": [
    "D₂₃ = smooth3D1 + smooth3D2 + smooth3D3 + d₂₃ₘ"
   ]
  },
  {
   "cell_type": "code",
   "execution_count": 55,
   "id": "52db8130",
   "metadata": {},
   "outputs": [
    {
     "data": {
      "text/plain": [
       "384.975"
      ]
     },
     "execution_count": 55,
     "metadata": {},
     "output_type": "execute_result"
    }
   ],
   "source": [
    "a₁₁ₘ = 79.65\n",
    "a₁₁ᵢ = 384.975"
   ]
  },
  {
   "cell_type": "code",
   "execution_count": 56,
   "id": "a4c1a580",
   "metadata": {},
   "outputs": [
    {
     "data": {
      "text/plain": [
       "A1y (generic function with 1 method)"
      ]
     },
     "execution_count": 56,
     "metadata": {},
     "output_type": "execute_result"
    }
   ],
   "source": [
    "A1x(x,ax,bx) = sqrt(a₁₁ᵢ - a₁₁ₘ) * interval(x,ax,bx) \n",
    "A1y(y,ay,by) = sqrt(a₁₁ᵢ - a₁₁ₘ) * interval(y,ay,by) "
   ]
  },
  {
   "cell_type": "code",
   "execution_count": 57,
   "id": "ab0e0a52",
   "metadata": {},
   "outputs": [
    {
     "data": {
      "text/latex": [
       "$39.8942280401433 \\left(- 8.73677572105408 \\operatorname{sign}{\\left(x₁ - 0.516397779494322 \\right)} + 8.73677572105408 \\operatorname{sign}{\\left(x₁ + 0.516397779494322 \\right)}\\right) e^{- 5000.0 \\left(x - x₁\\right)^{2}}$"
      ],
      "text/plain": [
       "                                                                              \n",
       "                                                                              \n",
       "39.8942280401433⋅(-8.73677572105408⋅sign(x₁ - 0.516397779494322) + 8.736775721\n",
       "\n",
       "                                                     2\n",
       "                                     -5000.0⋅(x - x₁) \n",
       "05408⋅sign(x₁ + 0.516397779494322))⋅ℯ                 "
      ]
     },
     "execution_count": 57,
     "metadata": {},
     "output_type": "execute_result"
    }
   ],
   "source": [
    "IA1x1 = A1x(x₁,-lₙₓ,lₙₓ)*wₕ(x,x₁)\n",
    "IA1x2 = A1x(x₁,-lₐ₁ₙ,lₐ₁ₙ)*wₕ(x,x₁)"
   ]
  },
  {
   "cell_type": "code",
   "execution_count": 58,
   "id": "f5e9bc23",
   "metadata": {},
   "outputs": [
    {
     "data": {
      "text/latex": [
       "$39.8942280401433 \\left(- 8.73677572105408 \\operatorname{sign}{\\left(y₁ - 0.516397779494322 \\right)} + 8.73677572105408 \\operatorname{sign}{\\left(y₁ - 0.258198889747161 \\right)}\\right) e^{- 5000.0 \\left(y - y₁\\right)^{2}}$"
      ],
      "text/plain": [
       "                                                                              \n",
       "                                                                              \n",
       "39.8942280401433⋅(-8.73677572105408⋅sign(y₁ - 0.516397779494322) + 8.736775721\n",
       "\n",
       "                                                     2\n",
       "                                     -5000.0⋅(y - y₁) \n",
       "05408⋅sign(y₁ - 0.258198889747161))⋅ℯ                 "
      ]
     },
     "execution_count": 58,
     "metadata": {},
     "output_type": "execute_result"
    }
   ],
   "source": [
    "IA1y1 = A1y(y₁,-lₙₓ,lₙₓ)*wₕ(y,y₁)\n",
    "IA1y2 = A1y(y₁,-lₐ₁ₙ,-lₙₓ)*wₕ(y,y₁)\n",
    "IA1y3 = A1y(y₁,lₙₓ,lₐ₁ₙ)*wₕ(y,y₁)"
   ]
  },
  {
   "cell_type": "code",
   "execution_count": 59,
   "id": "0e7bc14f",
   "metadata": {},
   "outputs": [
    {
     "data": {
      "text/latex": [
       "$\\left(- 4.92919785561165 \\sqrt{\\pi} \\operatorname{erf}{\\left(70.7106781186548 x - 18.2574185835055 \\right)} + 4.92919785561165 \\sqrt{\\pi} \\operatorname{erf}{\\left(70.7106781186548 x + 18.2574185835055 \\right)}\\right) \\left(- 4.92919785561165 \\sqrt{\\pi} \\operatorname{erf}{\\left(70.7106781186548 y - 36.5148371670111 \\right)} + 4.92919785561165 \\sqrt{\\pi} \\operatorname{erf}{\\left(70.7106781186548 y - 18.2574185835055 \\right)}\\right)$"
      ],
      "text/plain": [
       "(-4.92919785561165⋅√π⋅erf(70.7106781186548⋅x - 18.2574185835055) + 4.929197855\n",
       "61165⋅√π⋅erf(70.7106781186548⋅x + 18.2574185835055))⋅(-4.92919785561165⋅√π⋅erf\n",
       "(70.7106781186548⋅y - 36.5148371670111) + 4.92919785561165⋅√π⋅erf(70.710678118\n",
       "6548⋅y - 18.2574185835055))"
      ]
     },
     "execution_count": 59,
     "metadata": {},
     "output_type": "execute_result"
    }
   ],
   "source": [
    "smooth1A1 = integrate(IA1x2,(x₁,-lₘₓ,lₘₓ))*integrate(IA1y1,(y₁,-lₘₓ,lₘₓ))\n",
    "smooth1A2 = integrate(IA1x1,(x₁,-lₘₓ,lₘₓ))*integrate(IA1y2,(y₁,-lₘₓ,lₘₓ))\n",
    "smooth1A3 = integrate(IA1x1,(x₁,-lₘₓ,lₘₓ))*integrate(IA1y3,(y₁,-lₘₓ,lₘₓ))"
   ]
  },
  {
   "cell_type": "code",
   "execution_count": 60,
   "id": "06e14162",
   "metadata": {
    "scrolled": true
   },
   "outputs": [
    {
     "data": {
      "text/latex": [
       "$\\left(- 4.92919785561165 \\sqrt{\\pi} \\operatorname{erf}{\\left(70.7106781186548 x - 36.5148371670111 \\right)} + 4.92919785561165 \\sqrt{\\pi} \\operatorname{erf}{\\left(70.7106781186548 x + 36.5148371670111 \\right)}\\right) \\left(- 4.92919785561165 \\sqrt{\\pi} \\operatorname{erf}{\\left(70.7106781186548 y - 18.2574185835055 \\right)} + 4.92919785561165 \\sqrt{\\pi} \\operatorname{erf}{\\left(70.7106781186548 y + 18.2574185835055 \\right)}\\right) + \\left(- 4.92919785561165 \\sqrt{\\pi} \\operatorname{erf}{\\left(70.7106781186548 x - 18.2574185835055 \\right)} + 4.92919785561165 \\sqrt{\\pi} \\operatorname{erf}{\\left(70.7106781186548 x + 18.2574185835055 \\right)}\\right) \\left(- 4.92919785561165 \\sqrt{\\pi} \\operatorname{erf}{\\left(70.7106781186548 y - 36.5148371670111 \\right)} + 4.92919785561165 \\sqrt{\\pi} \\operatorname{erf}{\\left(70.7106781186548 y - 18.2574185835055 \\right)}\\right) + \\left(- 4.92919785561165 \\sqrt{\\pi} \\operatorname{erf}{\\left(70.7106781186548 x - 18.2574185835055 \\right)} + 4.92919785561165 \\sqrt{\\pi} \\operatorname{erf}{\\left(70.7106781186548 x + 18.2574185835055 \\right)}\\right) \\left(- 4.92919785561165 \\sqrt{\\pi} \\operatorname{erf}{\\left(70.7106781186548 y + 18.2574185835055 \\right)} + 4.92919785561165 \\sqrt{\\pi} \\operatorname{erf}{\\left(70.7106781186548 y + 36.5148371670111 \\right)}\\right) + 79.65$"
      ],
      "text/plain": [
       "(-4.92919785561165⋅√π⋅erf(70.7106781186548⋅x - 36.5148371670111) + 4.929197855\n",
       "61165⋅√π⋅erf(70.7106781186548⋅x + 36.5148371670111))⋅(-4.92919785561165⋅√π⋅erf\n",
       "(70.7106781186548⋅y - 18.2574185835055) + 4.92919785561165⋅√π⋅erf(70.710678118\n",
       "6548⋅y + 18.2574185835055)) + (-4.92919785561165⋅√π⋅erf(70.7106781186548⋅x - 1\n",
       "8.2574185835055) + 4.92919785561165⋅√π⋅erf(70.7106781186548⋅x + 18.25741858350\n",
       "55))⋅(-4.92919785561165⋅√π⋅erf(70.7106781186548⋅y - 36.5148371670111) + 4.9291\n",
       "9785561165⋅√π⋅erf(70.7106781186548⋅y - 18.2574185835055)) + (-4.92919785561165\n",
       "⋅√π⋅erf(70.7106781186548⋅x - 18.2574185835055) + 4.92919785561165⋅√π⋅erf(70.71\n",
       "06781186548⋅x + 18.2574185835055))⋅(-4.92919785561165⋅√π⋅erf(70.7106781186548⋅\n",
       "y + 18.2574185835055) + 4.92919785561165⋅√π⋅erf(70.7106781186548⋅y + 36.514837\n",
       "1670111)) + 79.65"
      ]
     },
     "execution_count": 60,
     "metadata": {},
     "output_type": "execute_result"
    }
   ],
   "source": [
    "A₁₁ = smooth1A1 + smooth1A2 + smooth1A3 + a₁₁ₘ"
   ]
  },
  {
   "cell_type": "code",
   "execution_count": 61,
   "id": "60d56f3a",
   "metadata": {},
   "outputs": [
    {
     "data": {
      "text/plain": [
       "265.5"
      ]
     },
     "execution_count": 61,
     "metadata": {},
     "output_type": "execute_result"
    }
   ],
   "source": [
    "a₂₂ₘ = 79.65\n",
    "a₂₂ᵢ = 265.5"
   ]
  },
  {
   "cell_type": "code",
   "execution_count": 62,
   "id": "856e1386",
   "metadata": {},
   "outputs": [
    {
     "data": {
      "text/plain": [
       "A2y (generic function with 1 method)"
      ]
     },
     "execution_count": 62,
     "metadata": {},
     "output_type": "execute_result"
    }
   ],
   "source": [
    "A2x(x,ax,bx) = sqrt(a₂₂ᵢ - a₂₂ₘ)  * interval(x,ax,bx) \n",
    "A2y(y,ay,by) = sqrt(a₂₂ᵢ - a₂₂ₘ)  * interval(y,ay,by) "
   ]
  },
  {
   "cell_type": "code",
   "execution_count": 63,
   "id": "1da7704e",
   "metadata": {},
   "outputs": [
    {
     "data": {
      "text/latex": [
       "$39.8942280401433 \\left(- 6.81634066050106 \\operatorname{sign}{\\left(x₁ - 0.516397779494322 \\right)} + 6.81634066050106 \\operatorname{sign}{\\left(x₁ + 0.516397779494322 \\right)}\\right) e^{- 5000.0 \\left(x - x₁\\right)^{2}}$"
      ],
      "text/plain": [
       "                                                                              \n",
       "                                                                              \n",
       "39.8942280401433⋅(-6.81634066050106⋅sign(x₁ - 0.516397779494322) + 6.816340660\n",
       "\n",
       "                                                     2\n",
       "                                     -5000.0⋅(x - x₁) \n",
       "50106⋅sign(x₁ + 0.516397779494322))⋅ℯ                 "
      ]
     },
     "execution_count": 63,
     "metadata": {},
     "output_type": "execute_result"
    }
   ],
   "source": [
    "IA2x1 = A2x(x₁,-lₙₓ,lₙₓ)*wₕ(x,x₁)\n",
    "IA2x2 = A2x(x₁,-lₐ₁ₙ,lₐ₁ₙ)*wₕ(x,x₁)"
   ]
  },
  {
   "cell_type": "code",
   "execution_count": 64,
   "id": "c8810808",
   "metadata": {},
   "outputs": [
    {
     "data": {
      "text/latex": [
       "$39.8942280401433 \\left(- 6.81634066050106 \\operatorname{sign}{\\left(y₁ - 0.516397779494322 \\right)} + 6.81634066050106 \\operatorname{sign}{\\left(y₁ - 0.258198889747161 \\right)}\\right) e^{- 5000.0 \\left(y - y₁\\right)^{2}}$"
      ],
      "text/plain": [
       "                                                                              \n",
       "                                                                              \n",
       "39.8942280401433⋅(-6.81634066050106⋅sign(y₁ - 0.516397779494322) + 6.816340660\n",
       "\n",
       "                                                     2\n",
       "                                     -5000.0⋅(y - y₁) \n",
       "50106⋅sign(y₁ - 0.258198889747161))⋅ℯ                 "
      ]
     },
     "execution_count": 64,
     "metadata": {},
     "output_type": "execute_result"
    }
   ],
   "source": [
    "IA2y1 = A2y(y₁,-lₙₓ,lₙₓ)*wₕ(y,y₁)\n",
    "IA2y2 = A2y(y₁,-lₐ₁ₙ,-lₙₓ)*wₕ(y,y₁)\n",
    "IA2y3 = A2y(y₁,lₙₓ,lₐ₁ₙ)*wₕ(y,y₁)"
   ]
  },
  {
   "cell_type": "code",
   "execution_count": 65,
   "id": "8578adff",
   "metadata": {},
   "outputs": [
    {
     "data": {
      "text/latex": [
       "$\\left(- 3.84570839856773 \\sqrt{\\pi} \\operatorname{erf}{\\left(70.7106781186548 x - 18.2574185835055 \\right)} + 3.84570839856773 \\sqrt{\\pi} \\operatorname{erf}{\\left(70.7106781186548 x + 18.2574185835055 \\right)}\\right) \\left(- 3.84570839856773 \\sqrt{\\pi} \\operatorname{erf}{\\left(70.7106781186548 y - 36.5148371670111 \\right)} + 3.84570839856773 \\sqrt{\\pi} \\operatorname{erf}{\\left(70.7106781186548 y - 18.2574185835055 \\right)}\\right)$"
      ],
      "text/plain": [
       "(-3.84570839856773⋅√π⋅erf(70.7106781186548⋅x - 18.2574185835055) + 3.845708398\n",
       "56773⋅√π⋅erf(70.7106781186548⋅x + 18.2574185835055))⋅(-3.84570839856773⋅√π⋅erf\n",
       "(70.7106781186548⋅y - 36.5148371670111) + 3.84570839856773⋅√π⋅erf(70.710678118\n",
       "6548⋅y - 18.2574185835055))"
      ]
     },
     "execution_count": 65,
     "metadata": {},
     "output_type": "execute_result"
    }
   ],
   "source": [
    "smooth2A1 = integrate(IA2x2,(x₁,-lₘₓ,lₘₓ))*integrate(IA2y1,(y₁,-lₘₓ,lₘₓ))\n",
    "smooth2A2 = integrate(IA2x1,(x₁,-lₘₓ,lₘₓ))*integrate(IA2y2,(y₁,-lₘₓ,lₘₓ))\n",
    "smooth2A3 = integrate(IA2x1,(x₁,-lₘₓ,lₘₓ))*integrate(IA2y3,(y₁,-lₘₓ,lₘₓ))"
   ]
  },
  {
   "cell_type": "code",
   "execution_count": 66,
   "id": "c3aea22b",
   "metadata": {
    "scrolled": true
   },
   "outputs": [
    {
     "data": {
      "text/latex": [
       "$\\left(- 3.84570839856773 \\sqrt{\\pi} \\operatorname{erf}{\\left(70.7106781186548 x - 36.5148371670111 \\right)} + 3.84570839856773 \\sqrt{\\pi} \\operatorname{erf}{\\left(70.7106781186548 x + 36.5148371670111 \\right)}\\right) \\left(- 3.84570839856773 \\sqrt{\\pi} \\operatorname{erf}{\\left(70.7106781186548 y - 18.2574185835055 \\right)} + 3.84570839856773 \\sqrt{\\pi} \\operatorname{erf}{\\left(70.7106781186548 y + 18.2574185835055 \\right)}\\right) + \\left(- 3.84570839856773 \\sqrt{\\pi} \\operatorname{erf}{\\left(70.7106781186548 x - 18.2574185835055 \\right)} + 3.84570839856773 \\sqrt{\\pi} \\operatorname{erf}{\\left(70.7106781186548 x + 18.2574185835055 \\right)}\\right) \\left(- 3.84570839856773 \\sqrt{\\pi} \\operatorname{erf}{\\left(70.7106781186548 y - 36.5148371670111 \\right)} + 3.84570839856773 \\sqrt{\\pi} \\operatorname{erf}{\\left(70.7106781186548 y - 18.2574185835055 \\right)}\\right) + \\left(- 3.84570839856773 \\sqrt{\\pi} \\operatorname{erf}{\\left(70.7106781186548 x - 18.2574185835055 \\right)} + 3.84570839856773 \\sqrt{\\pi} \\operatorname{erf}{\\left(70.7106781186548 x + 18.2574185835055 \\right)}\\right) \\left(- 3.84570839856773 \\sqrt{\\pi} \\operatorname{erf}{\\left(70.7106781186548 y + 18.2574185835055 \\right)} + 3.84570839856773 \\sqrt{\\pi} \\operatorname{erf}{\\left(70.7106781186548 y + 36.5148371670111 \\right)}\\right) + 79.65$"
      ],
      "text/plain": [
       "(-3.84570839856773⋅√π⋅erf(70.7106781186548⋅x - 36.5148371670111) + 3.845708398\n",
       "56773⋅√π⋅erf(70.7106781186548⋅x + 36.5148371670111))⋅(-3.84570839856773⋅√π⋅erf\n",
       "(70.7106781186548⋅y - 18.2574185835055) + 3.84570839856773⋅√π⋅erf(70.710678118\n",
       "6548⋅y + 18.2574185835055)) + (-3.84570839856773⋅√π⋅erf(70.7106781186548⋅x - 1\n",
       "8.2574185835055) + 3.84570839856773⋅√π⋅erf(70.7106781186548⋅x + 18.25741858350\n",
       "55))⋅(-3.84570839856773⋅√π⋅erf(70.7106781186548⋅y - 36.5148371670111) + 3.8457\n",
       "0839856773⋅√π⋅erf(70.7106781186548⋅y - 18.2574185835055)) + (-3.84570839856773\n",
       "⋅√π⋅erf(70.7106781186548⋅x - 18.2574185835055) + 3.84570839856773⋅√π⋅erf(70.71\n",
       "06781186548⋅x + 18.2574185835055))⋅(-3.84570839856773⋅√π⋅erf(70.7106781186548⋅\n",
       "y + 18.2574185835055) + 3.84570839856773⋅√π⋅erf(70.7106781186548⋅y + 36.514837\n",
       "1670111)) + 79.65"
      ]
     },
     "execution_count": 66,
     "metadata": {},
     "output_type": "execute_result"
    }
   ],
   "source": [
    "A₂₂ = smooth2A1 + smooth2A2 + smooth2A3 + a₂₂ₘ"
   ]
  },
  {
   "cell_type": "code",
   "execution_count": 67,
   "id": "d092bad5",
   "metadata": {},
   "outputs": [
    {
     "name": "stderr",
     "output_type": "stream",
     "text": [
      "WARNING: using Fields.integrate in module Main conflicts with an existing identifier.\n"
     ]
    }
   ],
   "source": [
    "using Gmsh: gmsh\n",
    "using Gridap\n",
    "using GridapGmsh\n",
    "using SparseArrays\n",
    "using WriteVTK\n",
    "using Gridap.Fields\n",
    "using Gridap.CellData\n",
    "using Gridap.TensorValues\n",
    "using Gridap.ReferenceFEs\n",
    "using Gridap.Geometry"
   ]
  },
  {
   "cell_type": "code",
   "execution_count": 68,
   "id": "da22ff29",
   "metadata": {
    "scrolled": true
   },
   "outputs": [
    {
     "name": "stdout",
     "output_type": "stream",
     "text": [
      "Info    : Meshing 1D...\n",
      "Info    : [  0%] Meshing curve 1 (Line)\n",
      "Info    : [ 10%] Meshing curve 2 (Line)\n",
      "Info    : [ 20%] Meshing curve 3 (Line)\n",
      "Info    : [ 20%] Meshing curve 4 (Line)\n",
      "Info    : [ 30%] Meshing curve 5 (Line)\n",
      "Info    : [ 40%] Meshing curve 6 (Line)\n",
      "Info    : [ 40%] Meshing curve 7 (Line)\n",
      "Info    : [ 50%] Meshing curve 8 (Line)\n",
      "Info    : [ 50%] Meshing curve 9 (Line)\n",
      "Info    : [ 60%] Meshing curve 10 (Line)\n",
      "Info    : [ 70%] Meshing curve 11 (Line)\n",
      "Info    : [ 70%] Meshing curve 12 (Line)\n",
      "Info    : [ 80%] Meshing curve 13 (Line)\n",
      "Info    : [ 90%] Meshing curve 14 (Line)\n",
      "Info    : [ 90%] Meshing curve 15 (Line)\n",
      "Info    : [100%] Meshing curve 16 (Line)\n",
      "Info    : Done meshing 1D (Wall 0.0009384s, CPU 0.000935s)\n",
      "Info    : Meshing 2D...\n",
      "Info    : [  0%] Meshing surface 1 (Plane, Frontal-Delaunay)\n",
      "Info    : [ 50%] Meshing surface 2 (Plane, Frontal-Delaunay)\n",
      "Info    : Done meshing 2D (Wall 0.983292s, CPU 0.979236s)\n",
      "Info    : 34738 nodes 70046 elements\n",
      "Info    : Writing '+Shape.msh'...\n",
      "Info    : Done writing '+Shape.msh'\n"
     ]
    },
    {
     "name": "stderr",
     "output_type": "stream",
     "text": [
      "Warning : Unknown entity of dimension 2 and tag 1 in physical group 1\n",
      "Warning : Unknown entity of dimension 2 and tag 2 in physical group 2\n",
      "Warning : Unknown entity of dimension 1 and tag 4 in physical group 3\n",
      "Warning : Unknown entity of dimension 1 and tag 2 in physical group 4\n",
      "Warning : Unknown entity of dimension 1 and tag 4 in physical group 5\n",
      "Warning : Unknown entity of dimension 1 and tag 2 in physical group 6\n",
      "Warning : Unknown entity of dimension 1 and tag 1 in physical group 7\n",
      "Warning : Unknown entity of dimension 1 and tag 3 in physical group 8\n",
      "Warning : Unknown entity of dimension 1 and tag 1 in physical group 9\n",
      "Warning : Unknown entity of dimension 1 and tag 3 in physical group 10\n"
     ]
    }
   ],
   "source": [
    "gmsh.initialize()\n",
    "gmsh.option.setNumber(\"General.Terminal\", 1)\n",
    "\n",
    "hᵢ = 0.01\n",
    "h = 2.5e-2\n",
    "hf = 0.75e-2\n",
    "Lₚ = 1.0\n",
    "Hₚ = 1.0\n",
    "\n",
    "p1 = gmsh.model.geo.addPoint(-Lₚ, -Hₚ, 0.0, h)\n",
    "p2 = gmsh.model.geo.addPoint(Lₚ, -Hₚ, 0.0, h)\n",
    "p3 = gmsh.model.geo.addPoint(Lₚ, Hₚ, 0.0, h)\n",
    "p4 = gmsh.model.geo.addPoint(-Lₚ, Hₚ, 0.0, h)\n",
    "\n",
    "l1 = gmsh.model.geo.addLine(p1, p2)\n",
    "l2 = gmsh.model.geo.addLine(p2, p3)\n",
    "l3 = gmsh.model.geo.addLine(p3, p4)\n",
    "l4 = gmsh.model.geo.addLine(p4, p1)\n",
    "\n",
    "c1 = gmsh.model.geo.addCurveLoop([l3,l4,l1,l2])\n",
    "\n",
    "p5 = gmsh.model.geo.addPoint(-p/2, -p/2, 0.0, hf)\n",
    "p6 = gmsh.model.geo.addPoint(-p/2, -p, 0.0, hf)\n",
    "p7 = gmsh.model.geo.addPoint(p/2, -p, 0.0, hf)\n",
    "p8 = gmsh.model.geo.addPoint(p/2, -p/2, 0.0, hf)\n",
    "p9 = gmsh.model.geo.addPoint(p, -p/2, 0.0, hf)\n",
    "p10 = gmsh.model.geo.addPoint(p, p/2, 0.0, hf)\n",
    "p11 = gmsh.model.geo.addPoint(p/2, p/2, 0.0, hf)\n",
    "p12 = gmsh.model.geo.addPoint(p/2, p, 0.0, hf)\n",
    "p13 = gmsh.model.geo.addPoint(-p/2, p, 0.0, hf)\n",
    "p14 = gmsh.model.geo.addPoint(-p/2, p/2, 0.0, hf)\n",
    "p15 = gmsh.model.geo.addPoint(-p, p/2, 0.0, hf)\n",
    "p16 = gmsh.model.geo.addPoint(-p, -p/2, 0.0, hf)\n",
    "\n",
    "l5 = gmsh.model.geo.addLine(p5, p6)\n",
    "l6 = gmsh.model.geo.addLine(p6, p7)\n",
    "l7 = gmsh.model.geo.addLine(p7, p8)\n",
    "l8 = gmsh.model.geo.addLine(p8, p9)\n",
    "l9 = gmsh.model.geo.addLine(p9, p10)\n",
    "l10 = gmsh.model.geo.addLine(p10, p11)\n",
    "l11 = gmsh.model.geo.addLine(p11, p12)\n",
    "l12 = gmsh.model.geo.addLine(p12, p13)\n",
    "l13 = gmsh.model.geo.addLine(p13, p14)\n",
    "l14 = gmsh.model.geo.addLine(p14, p15)\n",
    "l15 = gmsh.model.geo.addLine(p15, p16)\n",
    "l16 = gmsh.model.geo.addLine(p16, p5)\n",
    "\n",
    "c2 = gmsh.model.geo.addCurveLoop([l5,l6,l7,l8,l9,l10,l11,l12,l13,l14,l15,l16])\n",
    "\n",
    "#=\n",
    "p17 = gmsh.model.geo.addPoint(-(p/2 + hᵢ), -(p/2 + hᵢ), 0.0, hf)\n",
    "p18 = gmsh.model.geo.addPoint(-(p/2 + hᵢ), -(p + hᵢ), 0.0, hf)\n",
    "p19 = gmsh.model.geo.addPoint((p/2 + hᵢ), -(p + hᵢ), 0.0, hf)\n",
    "p20 = gmsh.model.geo.addPoint((p/2 + hᵢ), -(p/2 + hᵢ), 0.0, hf)\n",
    "p21 = gmsh.model.geo.addPoint((p + hᵢ), -(p/2 + hᵢ), 0.0, hf)\n",
    "p22 = gmsh.model.geo.addPoint((p + hᵢ), (p/2 + hᵢ), 0.0, hf)\n",
    "p23 = gmsh.model.geo.addPoint((p/2 + hᵢ), (p/2 + hᵢ), 0.0, hf)\n",
    "p24 = gmsh.model.geo.addPoint((p/2 + hᵢ), (p + hᵢ), 0.0, hf)\n",
    "p25 = gmsh.model.geo.addPoint(-(p/2 + hᵢ), (p + hᵢ), 0.0, hf)\n",
    "p26 = gmsh.model.geo.addPoint(-(p/2 + hᵢ), (p/2 + hᵢ), 0.0, hf)\n",
    "p27 = gmsh.model.geo.addPoint(-(p + hᵢ), (p/2 + hᵢ), 0.0, hf)\n",
    "p28 = gmsh.model.geo.addPoint(-(p + hᵢ), -(p/2 + hᵢ), 0.0, hf)\n",
    "\n",
    "\n",
    "l17 = gmsh.model.geo.addLine(p17, p18)\n",
    "l18 = gmsh.model.geo.addLine(p18, p19)\n",
    "l19 = gmsh.model.geo.addLine(p19, p20)\n",
    "l20 = gmsh.model.geo.addLine(p20, p21)\n",
    "l21 = gmsh.model.geo.addLine(p21, p22)\n",
    "l22 = gmsh.model.geo.addLine(p22, p23)\n",
    "l23 = gmsh.model.geo.addLine(p23, p24)\n",
    "l24 = gmsh.model.geo.addLine(p24, p25)\n",
    "l25 = gmsh.model.geo.addLine(p25, p26)\n",
    "l26 = gmsh.model.geo.addLine(p26, p27)\n",
    "l27 = gmsh.model.geo.addLine(p27, p28)\n",
    "l28 = gmsh.model.geo.addLine(p28, p17)\n",
    "\n",
    "\n",
    "c3 = gmsh.model.geo.addCurveLoop([l17,l18,l19,l20,l21,l22,l23,l24,l25,l26,l27,l28])\n",
    "\n",
    "p29 = gmsh.model.geo.addPoint(-(p/2 - hᵢ), -(p/2 - hᵢ), 0.0, hf)\n",
    "p30 = gmsh.model.geo.addPoint(-(p/2 - hᵢ), -(p - hᵢ), 0.0, hf)\n",
    "p31 = gmsh.model.geo.addPoint((p/2 - hᵢ), -(p - hᵢ), 0.0, hf)\n",
    "p32 = gmsh.model.geo.addPoint((p/2 - hᵢ), -(p/2 - hᵢ), 0.0, hf)\n",
    "p33 = gmsh.model.geo.addPoint((p - hᵢ), -(p/2 - hᵢ), 0.0, hf)\n",
    "p34 = gmsh.model.geo.addPoint((p - hᵢ), (p/2 - hᵢ), 0.0, hf)\n",
    "p35 = gmsh.model.geo.addPoint((p/2 - hᵢ), (p/2 - hᵢ), 0.0, hf)\n",
    "p36 = gmsh.model.geo.addPoint((p/2 - hᵢ), (p - hᵢ), 0.0, hf)\n",
    "p37 = gmsh.model.geo.addPoint(-(p/2 - hᵢ), (p - hᵢ), 0.0, hf)\n",
    "p38 = gmsh.model.geo.addPoint(-(p/2 - hᵢ), (p/2 - hᵢ), 0.0, hf)\n",
    "p39 = gmsh.model.geo.addPoint(-(p - hᵢ), (p/2 - hᵢ), 0.0, hf)\n",
    "p40 = gmsh.model.geo.addPoint(-(p - hᵢ), -(p/2 - hᵢ), 0.0, hf)\n",
    "\n",
    "\n",
    "l29 = gmsh.model.geo.addLine(p29, p30)\n",
    "l30 = gmsh.model.geo.addLine(p30, p31)\n",
    "l31 = gmsh.model.geo.addLine(p31, p32)\n",
    "l32 = gmsh.model.geo.addLine(p32, p33)\n",
    "l33 = gmsh.model.geo.addLine(p33, p34)\n",
    "l34 = gmsh.model.geo.addLine(p34, p35)\n",
    "l35 = gmsh.model.geo.addLine(p35, p36)\n",
    "l36 = gmsh.model.geo.addLine(p36, p37)\n",
    "l37 = gmsh.model.geo.addLine(p37, p38)\n",
    "l38 = gmsh.model.geo.addLine(p38, p39)\n",
    "l39 = gmsh.model.geo.addLine(p39, p40)\n",
    "l40 = gmsh.model.geo.addLine(p40, p29)\n",
    "\n",
    "c4 = gmsh.model.geo.addCurveLoop([l29,l30,l31,l32,l33,l34,l35,l36,l37,l38,l39,l40])\n",
    "=#\n",
    "\n",
    "s1 = gmsh.model.geo.addPlaneSurface([c2])\n",
    "#s2 = gmsh.model.geo.addPlaneSurface([c3,-c4])\n",
    "s3 = gmsh.model.geo.addPlaneSurface([c1,-c2])\n",
    "\n",
    "g1 = gmsh.model.addPhysicalGroup(2, [s1])\n",
    "#g2 = gmsh.model.addPhysicalGroup(2, [s2])\n",
    "g3 = gmsh.model.addPhysicalGroup(2, [s3])\n",
    "\n",
    "g4 = gmsh.model.addPhysicalGroup(1, [l4])\n",
    "g5 = gmsh.model.addPhysicalGroup(1, [l2])\n",
    "g6 = gmsh.model.addPhysicalGroup(1, [l4])\n",
    "g7 = gmsh.model.addPhysicalGroup(1, [l2])\n",
    "\n",
    "g8 = gmsh.model.addPhysicalGroup(1, [l1])\n",
    "g9 = gmsh.model.addPhysicalGroup(1, [l3])\n",
    "g10 = gmsh.model.addPhysicalGroup(1, [l1])\n",
    "g11 = gmsh.model.addPhysicalGroup(1, [l3])\n",
    "\n",
    "gmsh.model.setPhysicalName(1, g4, \"DirichletLeft\")\n",
    "gmsh.model.setPhysicalName(1, g5, \"DirichletRight\")\n",
    "gmsh.model.setPhysicalName(1, g6, \"ElectricPotentialleft\")\n",
    "gmsh.model.setPhysicalName(1, g7, \"ElectricPotentialright\")\n",
    "\n",
    "gmsh.model.setPhysicalName(1, g8, \"DirichletBot\")\n",
    "gmsh.model.setPhysicalName(1, g9, \"DirichletTop\")\n",
    "gmsh.model.setPhysicalName(1, g10, \"ElectricPotentialBot\")\n",
    "gmsh.model.setPhysicalName(1, g11, \"ElectricPotentialTop\")\n",
    "\n",
    "gmsh.model.setPhysicalName(2, g1, \"PiezoMat2\")\n",
    "#gmsh.model.setPhysicalName(2, g2, \"Diffused Layer\")\n",
    "gmsh.model.setPhysicalName(2, g3, \"PiezoMat1\")\n",
    "\n",
    "\n",
    "gmsh.model.geo.synchronize()\n",
    "gmsh.model.mesh.generate(2)\n",
    "gmsh.write(\"+Shape.msh\")\n",
    "gmsh.finalize()"
   ]
  },
  {
   "cell_type": "code",
   "execution_count": 69,
   "id": "1a24bda6",
   "metadata": {
    "scrolled": true
   },
   "outputs": [
    {
     "name": "stdout",
     "output_type": "stream",
     "text": [
      "Info    : Reading '+Shape.msh'...\n",
      "Info    : 34 entities\n",
      "Info    : 34738 nodes\n",
      "Info    : 69474 elements\n",
      "Info    : Done reading '+Shape.msh'\n"
     ]
    },
    {
     "data": {
      "text/plain": [
       "3-element Vector{Vector{String}}:\n",
       " [\"+Shape_0.vtu\"]\n",
       " [\"+Shape_1.vtu\"]\n",
       " [\"+Shape_2.vtu\"]"
      ]
     },
     "execution_count": 69,
     "metadata": {},
     "output_type": "execute_result"
    }
   ],
   "source": [
    "model = GmshDiscreteModel(\"+Shape.msh\")\n",
    "writevtk(model,\"+Shape\")"
   ]
  },
  {
   "cell_type": "markdown",
   "id": "bfeb313f",
   "metadata": {},
   "source": [
    "## Extracting Cell Points"
   ]
  },
  {
   "cell_type": "code",
   "execution_count": 70,
   "id": "3f015568",
   "metadata": {},
   "outputs": [
    {
     "data": {
      "text/plain": [
       "Measure()"
      ]
     },
     "execution_count": 70,
     "metadata": {},
     "output_type": "execute_result"
    }
   ],
   "source": [
    "order = 1\n",
    "degree = 2*order\n",
    "Ω = Triangulation(model)\n",
    "dΩ = Measure(Ω,degree)"
   ]
  },
  {
   "cell_type": "markdown",
   "id": "459257bc",
   "metadata": {},
   "source": [
    "## Constitutive Matrices"
   ]
  },
  {
   "cell_type": "markdown",
   "id": "6d935446",
   "metadata": {},
   "source": [
    "### Elastic stiffness Tensor"
   ]
  },
  {
   "cell_type": "code",
   "execution_count": 71,
   "id": "81f4c2d2",
   "metadata": {},
   "outputs": [
    {
     "data": {
      "text/plain": [
       "CellPoint()"
      ]
     },
     "execution_count": 71,
     "metadata": {},
     "output_type": "execute_result"
    }
   ],
   "source": [
    "p = get_cell_points(Ω)"
   ]
  },
  {
   "cell_type": "code",
   "execution_count": 72,
   "id": "ef8b0d9a",
   "metadata": {},
   "outputs": [
    {
     "data": {
      "text/plain": [
       "UnconstrainedFESpace()"
      ]
     },
     "execution_count": 72,
     "metadata": {},
     "output_type": "execute_result"
    }
   ],
   "source": [
    "reffe = ReferenceFE(lagrangian,Float64,order)\n",
    "V₁ = FESpace(model, reffe, conformity=:H1)"
   ]
  },
  {
   "cell_type": "code",
   "execution_count": 73,
   "id": "90a7999c",
   "metadata": {},
   "outputs": [
    {
     "ename": "LoadError",
     "evalue": "ArgumentError: Package SpecialFunctions not found in current path.\n- Run `import Pkg; Pkg.add(\"SpecialFunctions\")` to install the SpecialFunctions package.",
     "output_type": "error",
     "traceback": [
      "ArgumentError: Package SpecialFunctions not found in current path.\n- Run `import Pkg; Pkg.add(\"SpecialFunctions\")` to install the SpecialFunctions package.",
      "",
      "Stacktrace:",
      " [1] macro expansion",
      "   @ ./loading.jl:1163 [inlined]",
      " [2] macro expansion",
      "   @ ./lock.jl:223 [inlined]",
      " [3] require(into::Module, mod::Symbol)",
      "   @ Base ./loading.jl:1144",
      " [4] eval",
      "   @ ./boot.jl:368 [inlined]",
      " [5] include_string(mapexpr::typeof(REPL.softscope), mod::Module, code::String, filename::String)",
      "   @ Base ./loading.jl:1428"
     ]
    }
   ],
   "source": [
    "using SpecialFunctions"
   ]
  },
  {
   "cell_type": "code",
   "execution_count": 74,
   "id": "9680b463",
   "metadata": {},
   "outputs": [
    {
     "data": {
      "text/plain": [
       "SingleFieldFEFunction():\n",
       " num_cells: 69154\n",
       " DomainStyle: ReferenceDomain()\n",
       " Triangulation: BodyFittedTriangulation()\n",
       " Triangulation id: 16958816575587227324"
      ]
     },
     "execution_count": 74,
     "metadata": {},
     "output_type": "execute_result"
    }
   ],
   "source": [
    "C₁₁₁ = lambdify(C₁₁₁₁)\n",
    "C₁₁₁₁l(p) = C₁₁₁.(p[1],p[2])\n",
    "C₁₁₁₁t = interpolate_everywhere(C₁₁₁₁l, V₁)"
   ]
  },
  {
   "cell_type": "code",
   "execution_count": 75,
   "id": "b51d0fcb",
   "metadata": {},
   "outputs": [
    {
     "data": {
      "text/plain": [
       "SingleFieldFEFunction():\n",
       " num_cells: 69154\n",
       " DomainStyle: ReferenceDomain()\n",
       " Triangulation: BodyFittedTriangulation()\n",
       " Triangulation id: 16958816575587227324"
      ]
     },
     "execution_count": 75,
     "metadata": {},
     "output_type": "execute_result"
    }
   ],
   "source": [
    "C₁₁₂ = lambdify(C₁₁₂₂)\n",
    "C₁₂l(p) = C₁₁₂.(p[1],p[2])\n",
    "C₁₁₂₂t = interpolate_everywhere(C₁₂l, V₁)"
   ]
  },
  {
   "cell_type": "code",
   "execution_count": 76,
   "id": "b2126689",
   "metadata": {},
   "outputs": [
    {
     "data": {
      "text/plain": [
       "SingleFieldFEFunction():\n",
       " num_cells: 69154\n",
       " DomainStyle: ReferenceDomain()\n",
       " Triangulation: BodyFittedTriangulation()\n",
       " Triangulation id: 16958816575587227324"
      ]
     },
     "execution_count": 76,
     "metadata": {},
     "output_type": "execute_result"
    }
   ],
   "source": [
    "C₃₃₃ = lambdify(C₃₃₃₃)\n",
    "C₃₃l(p) = C₃₃₃.(p[1],p[2])\n",
    "C₃₃₃₃t = interpolate_everywhere(C₃₃l, V₁)"
   ]
  },
  {
   "cell_type": "code",
   "execution_count": 77,
   "id": "94707f24",
   "metadata": {},
   "outputs": [
    {
     "data": {
      "text/plain": [
       "SingleFieldFEFunction():\n",
       " num_cells: 69154\n",
       " DomainStyle: ReferenceDomain()\n",
       " Triangulation: BodyFittedTriangulation()\n",
       " Triangulation id: 16958816575587227324"
      ]
     },
     "execution_count": 77,
     "metadata": {},
     "output_type": "execute_result"
    }
   ],
   "source": [
    "d₁₁ = lambdify(D₁₁)\n",
    "d₁₁l(p) = d₁₁.(p[1],p[2])\n",
    "d₁₁t = interpolate_everywhere(d₁₁l, V₁)"
   ]
  },
  {
   "cell_type": "code",
   "execution_count": 78,
   "id": "0b5b28e9",
   "metadata": {},
   "outputs": [
    {
     "data": {
      "text/plain": [
       "SingleFieldFEFunction():\n",
       " num_cells: 69154\n",
       " DomainStyle: ReferenceDomain()\n",
       " Triangulation: BodyFittedTriangulation()\n",
       " Triangulation id: 16958816575587227324"
      ]
     },
     "execution_count": 78,
     "metadata": {},
     "output_type": "execute_result"
    }
   ],
   "source": [
    "d₂₁ = lambdify(D₂₁)\n",
    "d₂₁l(p) = d₂₁.(p[1],p[2])\n",
    "d₂₁t = interpolate_everywhere(d₂₁l, V₁)"
   ]
  },
  {
   "cell_type": "code",
   "execution_count": 79,
   "id": "1930b9e6",
   "metadata": {},
   "outputs": [
    {
     "data": {
      "text/plain": [
       "SingleFieldFEFunction():\n",
       " num_cells: 69154\n",
       " DomainStyle: ReferenceDomain()\n",
       " Triangulation: BodyFittedTriangulation()\n",
       " Triangulation id: 16958816575587227324"
      ]
     },
     "execution_count": 79,
     "metadata": {},
     "output_type": "execute_result"
    }
   ],
   "source": [
    "d₂₂ = lambdify(D₂₂)\n",
    "d₂₂l(p) = d₂₂.(p[1],p[2])\n",
    "d₂₂t = interpolate_everywhere(d₂₂l, V₁)"
   ]
  },
  {
   "cell_type": "code",
   "execution_count": 80,
   "id": "fc6366df",
   "metadata": {},
   "outputs": [
    {
     "data": {
      "text/plain": [
       "SingleFieldFEFunction():\n",
       " num_cells: 69154\n",
       " DomainStyle: ReferenceDomain()\n",
       " Triangulation: BodyFittedTriangulation()\n",
       " Triangulation id: 16958816575587227324"
      ]
     },
     "execution_count": 80,
     "metadata": {},
     "output_type": "execute_result"
    }
   ],
   "source": [
    "d₂₃ = lambdify(D₂₃)\n",
    "d₂₃l(p) = d₂₃.(p[1],p[2])\n",
    "d₂₃t = interpolate_everywhere(d₂₃l, V₁)"
   ]
  },
  {
   "cell_type": "code",
   "execution_count": 81,
   "id": "86f4ba30",
   "metadata": {},
   "outputs": [
    {
     "data": {
      "text/plain": [
       "SingleFieldFEFunction():\n",
       " num_cells: 69154\n",
       " DomainStyle: ReferenceDomain()\n",
       " Triangulation: BodyFittedTriangulation()\n",
       " Triangulation id: 16958816575587227324"
      ]
     },
     "execution_count": 81,
     "metadata": {},
     "output_type": "execute_result"
    }
   ],
   "source": [
    "a₁ = lambdify(A₁₁)\n",
    "a₁₁l(p) = a₁.(p[1],p[2])\n",
    "a₁₁t = interpolate_everywhere(a₁₁l, V₁)"
   ]
  },
  {
   "cell_type": "code",
   "execution_count": 82,
   "id": "ef26feb2",
   "metadata": {},
   "outputs": [
    {
     "data": {
      "text/plain": [
       "SingleFieldFEFunction():\n",
       " num_cells: 69154\n",
       " DomainStyle: ReferenceDomain()\n",
       " Triangulation: BodyFittedTriangulation()\n",
       " Triangulation id: 16958816575587227324"
      ]
     },
     "execution_count": 82,
     "metadata": {},
     "output_type": "execute_result"
    }
   ],
   "source": [
    "a₂ = lambdify(A₂₂)\n",
    "a₂₂l(p) = a₂.(p[1],p[2])\n",
    "a₂₂t = interpolate_everywhere(a₂₂l, V₁)"
   ]
  },
  {
   "cell_type": "code",
   "execution_count": 83,
   "id": "ce5b7b6b",
   "metadata": {},
   "outputs": [
    {
     "data": {
      "text/plain": [
       "([\"Material_Properties.vtu\"],)"
      ]
     },
     "execution_count": 83,
     "metadata": {},
     "output_type": "execute_result"
    }
   ],
   "source": [
    " writevtk(Ω,\"Material_Properties\",cellfields=\n",
    "        [\"C₁₁₁₁\"=>C₁₁₁₁t,\"C₁₁₂₂\"=>C₁₁₂₂t, \"C₃₃₃₃\"=>C₃₃₃₃t, \"d₁₁\"=>d₁₁t,\"d₂₁\"=>d₂₁t, \"d₂₂\"=>d₂₂t, \n",
    "        \"d₂₃\"=>d₂₃t, \"a₁₁\"=>a₁₁t,\n",
    "        \"a₂₂\"=>a₂₂t])"
   ]
  },
  {
   "cell_type": "code",
   "execution_count": 84,
   "id": "1211ef01",
   "metadata": {},
   "outputs": [
    {
     "data": {
      "text/plain": [
       "ElasFourthOrderConstTensor (generic function with 1 method)"
      ]
     },
     "execution_count": 84,
     "metadata": {},
     "output_type": "execute_result"
    }
   ],
   "source": [
    "function ElasFourthOrderConstTensor(C₁₁,C₁₂,C₃₃)\n",
    "      C1111 = C₁₁\n",
    "      C1122 = C₁₂\n",
    "      C1112 = 0.0\n",
    "      C2222 = C₁₁\n",
    "      C2212 = 0.0\n",
    "      C1212 = C₃₃    \n",
    "      C_ten = SymFourthOrderTensorValue(C1111,C1112,C1122,C1112,C1212,C2212,C1122,C2212,C2222)\n",
    "    return  C_ten\n",
    "end"
   ]
  },
  {
   "cell_type": "markdown",
   "id": "3933100e",
   "metadata": {},
   "source": [
    "### Third order piezoelectric tensor"
   ]
  },
  {
   "cell_type": "code",
   "execution_count": 85,
   "id": "9b9993c0",
   "metadata": {},
   "outputs": [
    {
     "data": {
      "text/plain": [
       "PiezoThirdOrderConstTensor (generic function with 1 method)"
      ]
     },
     "execution_count": 85,
     "metadata": {},
     "output_type": "execute_result"
    }
   ],
   "source": [
    "function PiezoThirdOrderConstTensor(d₁₁,d₂₁,d₂₂,d₂₃)\n",
    "    # 1 for Plane Stress and 2 Plane Strain Condition \n",
    "      e111 = d₁₁\n",
    "      e112 = 0.0\n",
    "      e121 = 0.0\n",
    "      e122 = 0.0\n",
    "      e211 = d₂₁\n",
    "      e212 = d₂₃\n",
    "      e221 = d₂₃\n",
    "      e222 = d₂₂   \n",
    "    vals = zeros(2,2,2);\n",
    "    vals[1,:,:] .= [e111 e112\n",
    "                    e121 e122]\n",
    "    vals[2,:,:] .= [e211 e212\n",
    "                    e221 e222]\n",
    "    e_ten = ThirdOrderTensorValue(vals ...)\n",
    "    return  e_ten\n",
    "end"
   ]
  },
  {
   "cell_type": "markdown",
   "id": "48ac6a51",
   "metadata": {},
   "source": [
    "## Stress\n",
    "$\\sigma_{elas}(\\epsilon(\\boldsymbol{u})) =  \\mathbb{C}\\,\\boldsymbol{\\epsilon}$\n",
    "\n",
    "$\\sigma_{piezo}(\\nabla\\phi) =  \\mathbb{e}^T\\,\\boldsymbol{\\nabla}\\phi$"
   ]
  },
  {
   "cell_type": "code",
   "execution_count": 86,
   "id": "e4c6d03d",
   "metadata": {},
   "outputs": [
    {
     "data": {
      "text/plain": [
       "σ_piezo (generic function with 1 method)"
      ]
     },
     "execution_count": 86,
     "metadata": {},
     "output_type": "execute_result"
    }
   ],
   "source": [
    "σ_elas(ε,C₁₁₁₁t,C₁₁₂₂t,C₃₃₃₃t) = ElasFourthOrderConstTensor(C₁₁₁₁t,C₁₁₂₂t,C₃₃₃₃t) ⊙ ε\n",
    "\n",
    "σ_piezo(∇,d₁₁t,d₂₁t,d₂₂t,d₂₃t) = ∇ ⋅ PiezoThirdOrderConstTensor(d₁₁t,d₂₁t,d₂₂t,d₂₃t)"
   ]
  },
  {
   "cell_type": "markdown",
   "id": "82d06f36",
   "metadata": {},
   "source": [
    "## Electric Displacement\n",
    "$\\boldsymbol{D}_{elas}(\\epsilon(\\boldsymbol{u})) =  \\boldsymbol{d}\\boldsymbol{\\epsilon}$\n",
    "\n",
    "$\\boldsymbol{D}_{piezo}(\\nabla\\phi)  = \\boldsymbol{K}\\boldsymbol{\\nabla} \\phi$"
   ]
  },
  {
   "cell_type": "code",
   "execution_count": 87,
   "id": "893b1b70",
   "metadata": {},
   "outputs": [
    {
     "data": {
      "text/plain": [
       "D_piezo (generic function with 1 method)"
      ]
     },
     "execution_count": 87,
     "metadata": {},
     "output_type": "execute_result"
    }
   ],
   "source": [
    "D_elas(ε,d₁₁t,d₂₁t,d₂₂t,d₂₃t) = PiezoThirdOrderConstTensor(d₁₁t,d₂₁t,d₂₂t,d₂₃t) ⋅² ε\n",
    "\n",
    "D_piezo(∇,a₁₁t,a₂₂t) = TensorValue(a₁₁t,0.0,0.0, a₂₂t) ⋅ ∇"
   ]
  },
  {
   "cell_type": "markdown",
   "id": "b246d785",
   "metadata": {},
   "source": [
    "## FE formulation"
   ]
  },
  {
   "cell_type": "code",
   "execution_count": 88,
   "id": "a017e259",
   "metadata": {},
   "outputs": [
    {
     "data": {
      "text/plain": [
       "project (generic function with 1 method)"
      ]
     },
     "execution_count": 88,
     "metadata": {},
     "output_type": "execute_result"
    }
   ],
   "source": [
    "function project(q,model,dΩ,order)\n",
    "  reffe = ReferenceFE(lagrangian,Float64,order)\n",
    "  V = FESpace(model,reffe,conformity=:L2)\n",
    "  a(u,v) = ∫( u*v )*dΩ\n",
    "  l(v) = ∫( v*q )*dΩ\n",
    "  op = AffineFEOperator(a,l,V,V)\n",
    "  qh = Gridap.solve(op)\n",
    "  qh\n",
    "end"
   ]
  },
  {
   "cell_type": "code",
   "execution_count": 89,
   "id": "347d7ef5",
   "metadata": {},
   "outputs": [
    {
     "data": {
      "text/plain": [
       "SingleFieldFEFunction():\n",
       " num_cells: 69154\n",
       " DomainStyle: ReferenceDomain()\n",
       " Triangulation: BodyFittedTriangulation()\n",
       " Triangulation id: 16958816575587227324"
      ]
     },
     "execution_count": 89,
     "metadata": {},
     "output_type": "execute_result"
    }
   ],
   "source": [
    "reffe_Disp = ReferenceFE(lagrangian,VectorValue{2,Float64},order)\n",
    "        V0_Disp = TestFESpace(model,reffe_Disp;\n",
    "          conformity=:H1,\n",
    "          dirichlet_tags=[\"DirichletBot\",\"DirichletRight\",\"DirichletTop\",\"DirichletLeft\"],\n",
    "          dirichlet_masks=[(true,true), (true,true),(true,true), (true,true)])\n",
    "\n",
    "uh = zero(V0_Disp)"
   ]
  },
  {
   "cell_type": "code",
   "execution_count": 90,
   "id": "f78eb2e8",
   "metadata": {},
   "outputs": [
    {
     "data": {
      "text/plain": [
       "UnconstrainedFESpace()"
      ]
     },
     "execution_count": 90,
     "metadata": {},
     "output_type": "execute_result"
    }
   ],
   "source": [
    "reffe_ElecPot = ReferenceFE(lagrangian,Float64,order)\n",
    "V0_ElecPot  = TestFESpace(model,reffe_ElecPot;\n",
    "  conformity=:H1,\n",
    "  dirichlet_tags=[\"ElectricPotentialBot\",\"ElectricPotentialright\",\"ElectricPotentialTop\",\"ElectricPotentialleft\"],\n",
    "  dirichlet_masks=[true,true,true,true])"
   ]
  },
  {
   "cell_type": "code",
   "execution_count": 91,
   "id": "7fd0dd34",
   "metadata": {},
   "outputs": [
    {
     "data": {
      "text/plain": [
       "MultiFieldFESpace()"
      ]
     },
     "execution_count": 91,
     "metadata": {},
     "output_type": "execute_result"
    }
   ],
   "source": [
    "V0 = MultiFieldFESpace([V0_Disp,V0_ElecPot])"
   ]
  },
  {
   "cell_type": "code",
   "execution_count": 92,
   "id": "0fc50e28",
   "metadata": {},
   "outputs": [
    {
     "data": {
      "text/plain": [
       "stepDispElecPot (generic function with 1 method)"
      ]
     },
     "execution_count": 92,
     "metadata": {},
     "output_type": "execute_result"
    }
   ],
   "source": [
    " function   stepDispElecPot(uh_in,phih_in,vApp,phiApp)\n",
    "    \n",
    "        uApp1(x) = VectorValue(vApp,0.0)\n",
    "        uApp2(x) = VectorValue(0.0,-vApp)\n",
    "        uApp3(x) = VectorValue(-vApp,0.0)\n",
    "        uApp4(x) = VectorValue(0.0,vApp)\n",
    "        U_Disp = TrialFESpace(V0_Disp,[uApp1,uApp2,uApp3,uApp4])\n",
    "    \n",
    "        phiApp1(x) = 0.0\n",
    "        phiApp2(x) = phiApp\n",
    "        phiApp3(x) = 0.0\n",
    "        phiApp4(x) = 0.0\n",
    "        U_ElecPot = TrialFESpace(V0_ElecPot,[phiApp1,phiApp2,phiApp3,phiApp4])\n",
    "    \n",
    "        U = MultiFieldFESpace([U_Disp,U_ElecPot])\n",
    "    \n",
    "        a((u,ϕ),(v,ψ)) = ∫( (ε(v) ⊙ (σ_elas∘(ε(u),C₁₁₁₁t,C₁₁₂₂t,C₃₃₃₃t))) + (∇(v) ⊙ (σ_piezo∘(∇(ϕ),d₁₁t,d₂₁t,d₂₂t,d₂₃t))) - (∇(ψ)⋅(D_piezo∘(∇(ϕ),a₁₁t,a₂₂t))) + (∇(ψ)⋅(D_elas∘(ε(u),d₁₁t,d₂₁t,d₂₂t,d₂₃t))) )*dΩ\n",
    "        b((v,ψ)) = 0.0\n",
    "    \n",
    "        op = AffineFEOperator(a,b,U,V0)\n",
    "        uhPhi = Gridap.solve(op)\n",
    "        uh_out,phih_out = uhPhi\n",
    "    \n",
    "    return uh_out,phih_out\n",
    "end"
   ]
  },
  {
   "cell_type": "code",
   "execution_count": 93,
   "id": "5e38a9b0",
   "metadata": {},
   "outputs": [
    {
     "data": {
      "text/plain": [
       "(SingleFieldFEFunction(), SingleFieldFEFunction())"
      ]
     },
     "execution_count": 93,
     "metadata": {},
     "output_type": "execute_result"
    }
   ],
   "source": [
    "vApp = 1.0\n",
    "phiApp = 0.0\n",
    "ϕPrev = CellState(0.0,dΩ)\n",
    "ϕh = project(ϕPrev,model,dΩ,order)\n",
    " \n",
    "uh,ϕh = stepDispElecPot(uh,ϕh,vApp,phiApp)"
   ]
  },
  {
   "cell_type": "code",
   "execution_count": 94,
   "id": "f3474be1",
   "metadata": {},
   "outputs": [
    {
     "data": {
      "text/plain": [
       "([\"results_PlateWith+Shapec11.vtu\"],)"
      ]
     },
     "execution_count": 94,
     "metadata": {},
     "output_type": "execute_result"
    }
   ],
   "source": [
    " writevtk(Ω,\"results_PlateWith+Shapec11\",cellfields=\n",
    "        [\"uh\"=>uh,\"phi\"=>ϕh, \"epsi\"=>ε(uh), \"ElecF\"=>-∇(ϕh), \"SigmaE\"=>(σ_elas∘(ε(uh),C₁₁₁₁t,C₁₁₂₂t,C₃₃₃₃t)), \n",
    "        \"SigmaD\"=>(σ_piezo∘(∇(ϕh),d₁₁t,d₂₁t,d₂₂t,d₂₃t)), \"Elec\"=>(D_elas∘(ε(uh),d₁₁t,d₂₁t,d₂₂t,d₂₃t)),\n",
    "        \"ElecD\"=>(D_piezo∘(∇(ϕh),a₁₁t,a₂₂t))])"
   ]
  },
  {
   "cell_type": "code",
   "execution_count": 95,
   "id": "384b2e40",
   "metadata": {},
   "outputs": [
    {
     "name": "stderr",
     "output_type": "stream",
     "text": [
      "WARNING: using Algebra.solve in module Main conflicts with an existing identifier.\n"
     ]
    }
   ],
   "source": [
    "using Gridap.Helpers\n",
    "using Gridap.MultiField\n",
    "using Gridap.Polynomials\n",
    "using Gridap.Arrays\n",
    "using Gridap.FESpaces\n",
    "using Gridap.Algebra"
   ]
  },
  {
   "cell_type": "code",
   "execution_count": 96,
   "id": "b66d9e2c",
   "metadata": {},
   "outputs": [
    {
     "data": {
      "text/plain": [
       "UnstructuredGrid()"
      ]
     },
     "execution_count": 96,
     "metadata": {},
     "output_type": "execute_result"
    }
   ],
   "source": [
    "Gr = get_grid(model)"
   ]
  },
  {
   "cell_type": "code",
   "execution_count": 97,
   "id": "dc026537",
   "metadata": {},
   "outputs": [],
   "source": [
    "Nₑ = num_cells(model)\n",
    "elem = get_cell_node_ids(Gr);"
   ]
  },
  {
   "cell_type": "code",
   "execution_count": 98,
   "id": "9fc7152a",
   "metadata": {},
   "outputs": [],
   "source": [
    "nodes = get_node_coordinates(Gr)\n",
    "Nₙ = num_nodes(model)\n",
    "nodeCoordX = [nodes[i][1] for i in 1:Nₙ]\n",
    "nodeCoordY = [nodes[i][2] for i in 1:Nₙ];"
   ]
  },
  {
   "cell_type": "code",
   "execution_count": 99,
   "id": "1ed0d74d",
   "metadata": {},
   "outputs": [],
   "source": [
    "dataStrain = get_array(ε(uh))\n",
    "ϵVec = return_value(dataStrain,Point(nodeCoordX[1],nodeCoordY[1]));"
   ]
  },
  {
   "cell_type": "code",
   "execution_count": 100,
   "id": "9c47ab80",
   "metadata": {},
   "outputs": [],
   "source": [
    "ϵ11El = [ϵVec[i][1,1] for i in 1:Nₑ] \n",
    "ϵ12El = [ϵVec[i][1,2] for i in 1:Nₑ] \n",
    "ϵ22El = [ϵVec[i][1,3] for i in 1:Nₑ];"
   ]
  },
  {
   "cell_type": "code",
   "execution_count": 101,
   "id": "8fba4084",
   "metadata": {},
   "outputs": [],
   "source": [
    "dataStress = get_data(σ_elas∘(ε(uh),C₁₁₁₁t,C₁₁₂₂t,C₃₃₃₃t))\n",
    "σVec = return_value(dataStress,Point(nodeCoordX[1],nodeCoordY[1]));"
   ]
  },
  {
   "cell_type": "code",
   "execution_count": 102,
   "id": "2a685a98",
   "metadata": {},
   "outputs": [],
   "source": [
    "σ11E = [σVec[i][1,1] for i in 1:Nₑ] \n",
    "σ12E = [σVec[i][1,2] for i in 1:Nₑ] \n",
    "σ22E = [σVec[i][1,3] for i in 1:Nₑ];"
   ]
  },
  {
   "cell_type": "code",
   "execution_count": 103,
   "id": "b1b8b8e0",
   "metadata": {},
   "outputs": [],
   "source": [
    "dataStress1 = get_data(σ_piezo∘(-∇(ϕh),d₁₁t,d₂₁t,d₂₂t,d₂₃t))\n",
    "PVec = return_value(dataStress1,Point(nodeCoordX[1],nodeCoordY[1]));"
   ]
  },
  {
   "cell_type": "code",
   "execution_count": 104,
   "id": "7cbc24aa",
   "metadata": {},
   "outputs": [],
   "source": [
    "P11El = [PVec[i][1] for i in 1:Nₑ] \n",
    "P12El = [PVec[i][2] for i in 1:Nₑ] \n",
    "P21El = [PVec[i][3] for i in 1:Nₑ]\n",
    "P22El = [PVec[i][4] for i in 1:Nₑ];"
   ]
  },
  {
   "cell_type": "code",
   "execution_count": 105,
   "id": "53d938f6",
   "metadata": {},
   "outputs": [],
   "source": [
    "σ11El = σ11E + P11El\n",
    "σ12El = σ12E + P12El\n",
    "σ22El = σ22E + P22El;"
   ]
  },
  {
   "cell_type": "code",
   "execution_count": 106,
   "id": "041c8bf4",
   "metadata": {},
   "outputs": [
    {
     "data": {
      "text/plain": [
       "4394.907633994244"
      ]
     },
     "execution_count": 106,
     "metadata": {},
     "output_type": "execute_result"
    }
   ],
   "source": [
    "AreaEl = get_cell_measure(Ω)\n",
    "σ12Avg = sum([σ12El[i]*AreaEl[i] for i in 1:Nₑ])/sum(AreaEl)\n",
    "ϵ12Avg = sum([ϵ12El[i]*AreaEl[i] for i in 1:Nₑ])/sum(AreaEl)\n",
    "C₃₃₃₃eff = σ12Avg/ϵ12Avg"
   ]
  }
 ],
 "metadata": {
  "kernelspec": {
   "display_name": "Julia 1.8.1",
   "language": "julia",
   "name": "julia-1.8"
  },
  "language_info": {
   "file_extension": ".jl",
   "mimetype": "application/julia",
   "name": "julia",
   "version": "1.8.1"
  }
 },
 "nbformat": 4,
 "nbformat_minor": 5
}
