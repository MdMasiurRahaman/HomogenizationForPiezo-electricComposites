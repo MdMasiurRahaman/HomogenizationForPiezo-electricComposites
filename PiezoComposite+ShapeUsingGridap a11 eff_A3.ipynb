{
 "cells": [
  {
   "cell_type": "code",
   "execution_count": 1,
   "id": "efe3a9c3",
   "metadata": {},
   "outputs": [],
   "source": [
    "using SymPy\n",
    "using Plots"
   ]
  },
  {
   "cell_type": "code",
   "execution_count": 2,
   "id": "4545c86e",
   "metadata": {},
   "outputs": [
    {
     "data": {
      "text/plain": [
       "(C₁₁ᵢ, C₁₂ᵢ, C₂₂ᵢ, d₁₁ᵢ, d₁₂ᵢ, d₁₃ᵢ, d₂₁ᵢ, d₂₂ᵢ, d₂₃ᵢ, a₁₁ᵢ, a₂₂ᵢ)"
      ]
     },
     "execution_count": 2,
     "metadata": {},
     "output_type": "execute_result"
    }
   ],
   "source": [
    "x,x₁,y,y₁,r,r₁ = symbols(\"x,x₁,y,y₁,r,r₁\", real = true)\n",
    "E,v= symbols(\"E,v\", real = true)\n",
    "C₁₁ₘ,C₁₂ₘ,C₂₂ₘ,d₁₁ₘ,d₁₂ₘ,d₁₃ₘ,d₂₁ₘ,d₂₂ₘ,d₂₃ₘ,a₁₁ₘ,a₂₂ₘ = symbols(\"C₁₁ₘ,C₁₂ₘ,C₂₂ₘ,d₁₁ₘ,d₁₂ₘ,d₁₃ₘ,d₂₁ₘ,d₂₂ₘ,d₂₃ₘ,a₁₁ₘ,a₂₂ₘ\", real = true)\n",
    "C₁₁ᵢ,C₁₂ᵢ,C₂₂ᵢ,d₁₁ᵢ,d₁₂ᵢ,d₁₃ᵢ,d₂₁ᵢ,d₂₂ᵢ,d₂₃ᵢ,a₁₁ᵢ,a₂₂ᵢ = symbols(\"C₁₁ᵢ,C₁₂ᵢ,C₂₂ᵢ,d₁₁ᵢ,d₁₂ᵢ,d₁₃ᵢ,d₂₁ᵢ,d₂₂ᵢ,d₂₃ᵢ,a₁₁ᵢ,a₂₂ᵢ\", real = true)"
   ]
  },
  {
   "cell_type": "code",
   "execution_count": 3,
   "id": "fe1692da",
   "metadata": {},
   "outputs": [
    {
     "data": {
      "text/latex": [
       "$0.577350269189626$"
      ],
      "text/plain": [
       "0.577350269189626"
      ]
     },
     "execution_count": 3,
     "metadata": {},
     "output_type": "execute_result"
    }
   ],
   "source": [
    "A = 0.25\n",
    "Eq = (3*(x^2))/4 - A\n",
    "p = abs(solve(Eq,x)[1])"
   ]
  },
  {
   "cell_type": "code",
   "execution_count": 4,
   "id": "935c58ae",
   "metadata": {},
   "outputs": [
    {
     "data": {
      "text/plain": [
       "0.01"
      ]
     },
     "execution_count": 4,
     "metadata": {},
     "output_type": "execute_result"
    }
   ],
   "source": [
    "Eₘ = 2450\n",
    "vₘ = 0.34\n",
    "Eᵢ = 170000\n",
    "vᵢ = 0.25\n",
    "hₛ = 0.01"
   ]
  },
  {
   "cell_type": "code",
   "execution_count": 5,
   "id": "1bad7bce",
   "metadata": {},
   "outputs": [
    {
     "data": {
      "text/latex": [
       "$68000.0$"
      ],
      "text/plain": [
       "68000.0000000000"
      ]
     },
     "execution_count": 5,
     "metadata": {},
     "output_type": "execute_result"
    }
   ],
   "source": [
    "λ = (E*v)/((1 + v) * (1 - 2*v))\n",
    "λₘ = simplify(λ(E=>Eₘ,v=>vₘ))\n",
    "λᵢ = simplify(λ(E=>Eᵢ,v=>vᵢ))"
   ]
  },
  {
   "cell_type": "code",
   "execution_count": 6,
   "id": "de9ec9d8",
   "metadata": {},
   "outputs": [
    {
     "data": {
      "text/latex": [
       "$136000.0$"
      ],
      "text/plain": [
       "136000.000000000"
      ]
     },
     "execution_count": 6,
     "metadata": {},
     "output_type": "execute_result"
    }
   ],
   "source": [
    "G = E/((1 + v))\n",
    "Gₘ = simplify(G(E=>Eₘ,v=>vₘ))\n",
    "Gᵢ = simplify(G(E=>Eᵢ,v=>vᵢ))"
   ]
  },
  {
   "cell_type": "code",
   "execution_count": 7,
   "id": "9fd2ae84",
   "metadata": {},
   "outputs": [
    {
     "data": {
      "text/latex": [
       "$3770.98880597015$"
      ],
      "text/plain": [
       "3770.98880597015"
      ]
     },
     "execution_count": 7,
     "metadata": {},
     "output_type": "execute_result"
    }
   ],
   "source": [
    "C₁₁ₘ = λₘ + Gₘ"
   ]
  },
  {
   "cell_type": "code",
   "execution_count": 8,
   "id": "4df6e0ee",
   "metadata": {},
   "outputs": [
    {
     "data": {
      "text/latex": [
       "$204000.0$"
      ],
      "text/plain": [
       "204000.000000000"
      ]
     },
     "execution_count": 8,
     "metadata": {},
     "output_type": "execute_result"
    }
   ],
   "source": [
    "C₁₁ᵢ = λᵢ + Gᵢ"
   ]
  },
  {
   "cell_type": "code",
   "execution_count": 9,
   "id": "421f3375",
   "metadata": {},
   "outputs": [
    {
     "data": {
      "text/latex": [
       "$0.288675134594813$"
      ],
      "text/plain": [
       "0.288675134594813"
      ]
     },
     "execution_count": 9,
     "metadata": {},
     "output_type": "execute_result"
    }
   ],
   "source": [
    "lₘₓ = 1\n",
    "lₐ₁ₙ = p\n",
    "lₙₓ = p/2"
   ]
  },
  {
   "cell_type": "code",
   "execution_count": 10,
   "id": "0cea7096",
   "metadata": {},
   "outputs": [
    {
     "data": {
      "text/plain": [
       "interval (generic function with 1 method)"
      ]
     },
     "execution_count": 10,
     "metadata": {},
     "output_type": "execute_result"
    }
   ],
   "source": [
    "heaviside(x) = 0.5 * (sign(x) + 1)\n",
    "\n",
    "interval(x, a, b) = heaviside(x-a) - heaviside(x-b)"
   ]
  },
  {
   "cell_type": "code",
   "execution_count": 11,
   "id": "1bae0201",
   "metadata": {},
   "outputs": [
    {
     "data": {
      "text/plain": [
       "E1y (generic function with 1 method)"
      ]
     },
     "execution_count": 11,
     "metadata": {},
     "output_type": "execute_result"
    }
   ],
   "source": [
    "E1x(x,ax,bx) = sqrt(C₁₁ᵢ - C₁₁ₘ) * interval(x,ax,bx) \n",
    "E1y(y,ay,by) = sqrt(C₁₁ᵢ - C₁₁ₘ) * interval(y,ay,by) "
   ]
  },
  {
   "cell_type": "code",
   "execution_count": 12,
   "id": "7335c287",
   "metadata": {},
   "outputs": [
    {
     "data": {
      "text/plain": [
       "wₕ (generic function with 1 method)"
      ]
     },
     "execution_count": 12,
     "metadata": {},
     "output_type": "execute_result"
    }
   ],
   "source": [
    "wₕ(x,x₁) = (1/(sqrt(2*pi)*hₛ))*exp(-(x-x₁)^2/(2*hₛ^2))"
   ]
  },
  {
   "cell_type": "code",
   "execution_count": 13,
   "id": "1c7800fa",
   "metadata": {},
   "outputs": [
    {
     "data": {
      "text/latex": [
       "$39.8942280401433 \\left(- 223.734782272465 \\operatorname{sign}{\\left(x₁ - 0.577350269189626 \\right)} + 223.734782272465 \\operatorname{sign}{\\left(x₁ + 0.577350269189626 \\right)}\\right) e^{- 5000.0 \\left(x - x₁\\right)^{2}}$"
      ],
      "text/plain": [
       "                                                                              \n",
       "                                                                              \n",
       "39.8942280401433⋅(-223.734782272465⋅sign(x₁ - 0.577350269189626) + 223.7347822\n",
       "\n",
       "                                                     2\n",
       "                                     -5000.0⋅(x - x₁) \n",
       "72465⋅sign(x₁ + 0.577350269189626))⋅ℯ                 "
      ]
     },
     "execution_count": 13,
     "metadata": {},
     "output_type": "execute_result"
    }
   ],
   "source": [
    "IFx1 = E1x(x₁,-lₙₓ,lₙₓ)*wₕ(x,x₁)\n",
    "IFx2 = E1x(x₁,-lₐ₁ₙ,lₐ₁ₙ)*wₕ(x,x₁)"
   ]
  },
  {
   "cell_type": "code",
   "execution_count": 14,
   "id": "d01bde6e",
   "metadata": {},
   "outputs": [
    {
     "data": {
      "text/latex": [
       "$39.8942280401433 \\left(- 223.734782272465 \\operatorname{sign}{\\left(y₁ - 0.577350269189626 \\right)} + 223.734782272465 \\operatorname{sign}{\\left(y₁ - 0.288675134594813 \\right)}\\right) e^{- 5000.0 \\left(y - y₁\\right)^{2}}$"
      ],
      "text/plain": [
       "                                                                              \n",
       "                                                                              \n",
       "39.8942280401433⋅(-223.734782272465⋅sign(y₁ - 0.577350269189626) + 223.7347822\n",
       "\n",
       "                                                     2\n",
       "                                     -5000.0⋅(y - y₁) \n",
       "72465⋅sign(y₁ - 0.288675134594813))⋅ℯ                 "
      ]
     },
     "execution_count": 14,
     "metadata": {},
     "output_type": "execute_result"
    }
   ],
   "source": [
    "IFy1 = E1y(y₁,-lₙₓ,lₙₓ)*wₕ(y,y₁)\n",
    "IFy2 = E1y(y₁,-lₐ₁ₙ,-lₙₓ)*wₕ(y,y₁)\n",
    "IFy3 = E1y(y₁,lₙₓ,lₐ₁ₙ)*wₕ(y,y₁)"
   ]
  },
  {
   "cell_type": "code",
   "execution_count": 15,
   "id": "3d970a0b",
   "metadata": {
    "scrolled": true
   },
   "outputs": [
    {
     "data": {
      "text/latex": [
       "$\\left(- 126.22883363545 \\sqrt{\\pi} \\operatorname{erf}{\\left(70.7106781186548 x - 20.4124145231931 \\right)} + 126.22883363545 \\sqrt{\\pi} \\operatorname{erf}{\\left(70.7106781186548 x + 20.4124145231931 \\right)}\\right) \\left(- 126.22883363545 \\sqrt{\\pi} \\operatorname{erf}{\\left(70.7106781186548 y - 40.8248290463863 \\right)} + 126.22883363545 \\sqrt{\\pi} \\operatorname{erf}{\\left(70.7106781186548 y - 20.4124145231931 \\right)}\\right)$"
      ],
      "text/plain": [
       "(-126.22883363545⋅√π⋅erf(70.7106781186548⋅x - 20.4124145231931) + 126.22883363\n",
       "545⋅√π⋅erf(70.7106781186548⋅x + 20.4124145231931))⋅(-126.22883363545⋅√π⋅erf(70\n",
       ".7106781186548⋅y - 40.8248290463863) + 126.22883363545⋅√π⋅erf(70.7106781186548\n",
       "⋅y - 20.4124145231931))"
      ]
     },
     "execution_count": 15,
     "metadata": {},
     "output_type": "execute_result"
    }
   ],
   "source": [
    "smoothE1 = integrate(IFx2,(x₁,-lₘₓ,lₘₓ))*integrate(IFy1,(y₁,-lₘₓ,lₘₓ))\n",
    "smoothE2 = integrate(IFx1,(x₁,-lₘₓ,lₘₓ))*integrate(IFy2,(y₁,-lₘₓ,lₘₓ))\n",
    "smoothE3 = integrate(IFx1,(x₁,-lₘₓ,lₘₓ))*integrate(IFy3,(y₁,-lₘₓ,lₘₓ))"
   ]
  },
  {
   "cell_type": "code",
   "execution_count": 16,
   "id": "d45e100e",
   "metadata": {
    "scrolled": true
   },
   "outputs": [
    {
     "data": {
      "text/latex": [
       "$\\left(- 126.22883363545 \\sqrt{\\pi} \\operatorname{erf}{\\left(70.7106781186548 x - 40.8248290463863 \\right)} + 126.22883363545 \\sqrt{\\pi} \\operatorname{erf}{\\left(70.7106781186548 x + 40.8248290463863 \\right)}\\right) \\left(- 126.22883363545 \\sqrt{\\pi} \\operatorname{erf}{\\left(70.7106781186548 y - 20.4124145231931 \\right)} + 126.22883363545 \\sqrt{\\pi} \\operatorname{erf}{\\left(70.7106781186548 y + 20.4124145231931 \\right)}\\right) + \\left(- 126.22883363545 \\sqrt{\\pi} \\operatorname{erf}{\\left(70.7106781186548 x - 20.4124145231931 \\right)} + 126.22883363545 \\sqrt{\\pi} \\operatorname{erf}{\\left(70.7106781186548 x + 20.4124145231931 \\right)}\\right) \\left(- 126.22883363545 \\sqrt{\\pi} \\operatorname{erf}{\\left(70.7106781186548 y - 40.8248290463863 \\right)} + 126.22883363545 \\sqrt{\\pi} \\operatorname{erf}{\\left(70.7106781186548 y - 20.4124145231931 \\right)}\\right) + \\left(- 126.22883363545 \\sqrt{\\pi} \\operatorname{erf}{\\left(70.7106781186548 x - 20.4124145231931 \\right)} + 126.22883363545 \\sqrt{\\pi} \\operatorname{erf}{\\left(70.7106781186548 x + 20.4124145231931 \\right)}\\right) \\left(- 126.22883363545 \\sqrt{\\pi} \\operatorname{erf}{\\left(70.7106781186548 y + 20.4124145231931 \\right)} + 126.22883363545 \\sqrt{\\pi} \\operatorname{erf}{\\left(70.7106781186548 y + 40.8248290463863 \\right)}\\right) + 3770.98880597015$"
      ],
      "text/plain": [
       "(-126.22883363545⋅√π⋅erf(70.7106781186548⋅x - 40.8248290463863) + 126.22883363\n",
       "545⋅√π⋅erf(70.7106781186548⋅x + 40.8248290463863))⋅(-126.22883363545⋅√π⋅erf(70\n",
       ".7106781186548⋅y - 20.4124145231931) + 126.22883363545⋅√π⋅erf(70.7106781186548\n",
       "⋅y + 20.4124145231931)) + (-126.22883363545⋅√π⋅erf(70.7106781186548⋅x - 20.412\n",
       "4145231931) + 126.22883363545⋅√π⋅erf(70.7106781186548⋅x + 20.4124145231931))⋅(\n",
       "-126.22883363545⋅√π⋅erf(70.7106781186548⋅y - 40.8248290463863) + 126.228833635\n",
       "45⋅√π⋅erf(70.7106781186548⋅y - 20.4124145231931)) + (-126.22883363545⋅√π⋅erf(7\n",
       "0.7106781186548⋅x - 20.4124145231931) + 126.22883363545⋅√π⋅erf(70.710678118654\n",
       "8⋅x + 20.4124145231931))⋅(-126.22883363545⋅√π⋅erf(70.7106781186548⋅y + 20.4124\n",
       "145231931) + 126.22883363545⋅√π⋅erf(70.7106781186548⋅y + 40.8248290463863)) + \n",
       "3770.98880597015"
      ]
     },
     "execution_count": 16,
     "metadata": {},
     "output_type": "execute_result"
    }
   ],
   "source": [
    "C₁₁₁₁ = smoothE1 + smoothE2 + smoothE3 + C₁₁ₘ"
   ]
  },
  {
   "cell_type": "code",
   "execution_count": 17,
   "id": "8dc06d93",
   "metadata": {},
   "outputs": [
    {
     "data": {
      "text/latex": [
       "$\\left(- 223.734782272465 \\operatorname{sign}{\\left(x₁ - 0.577350269189626 \\right)} + 223.734782272465 \\operatorname{sign}{\\left(x₁ + 0.577350269189626 \\right)}\\right) \\left(- 223.734782272465 \\operatorname{sign}{\\left(y₁ - 0.288675134594813 \\right)} + 223.734782272465 \\operatorname{sign}{\\left(y₁ + 0.288675134594813 \\right)}\\right) + \\left(- 223.734782272465 \\operatorname{sign}{\\left(x₁ - 0.288675134594813 \\right)} + 223.734782272465 \\operatorname{sign}{\\left(x₁ + 0.288675134594813 \\right)}\\right) \\left(- 223.734782272465 \\operatorname{sign}{\\left(y₁ - 0.577350269189626 \\right)} + 223.734782272465 \\operatorname{sign}{\\left(y₁ - 0.288675134594813 \\right)}\\right) + \\left(- 223.734782272465 \\operatorname{sign}{\\left(x₁ - 0.288675134594813 \\right)} + 223.734782272465 \\operatorname{sign}{\\left(x₁ + 0.288675134594813 \\right)}\\right) \\left(- 223.734782272465 \\operatorname{sign}{\\left(y₁ + 0.288675134594813 \\right)} + 223.734782272465 \\operatorname{sign}{\\left(y₁ + 0.577350269189626 \\right)}\\right) + 3770.98880597015$"
      ],
      "text/plain": [
       "(-223.734782272465⋅sign(x₁ - 0.577350269189626) + 223.734782272465⋅sign(x₁ + 0\n",
       ".577350269189626))⋅(-223.734782272465⋅sign(y₁ - 0.288675134594813) + 223.73478\n",
       "2272465⋅sign(y₁ + 0.288675134594813)) + (-223.734782272465⋅sign(x₁ - 0.2886751\n",
       "34594813) + 223.734782272465⋅sign(x₁ + 0.288675134594813))⋅(-223.734782272465⋅\n",
       "sign(y₁ - 0.577350269189626) + 223.734782272465⋅sign(y₁ - 0.288675134594813)) \n",
       "+ (-223.734782272465⋅sign(x₁ - 0.288675134594813) + 223.734782272465⋅sign(x₁ +\n",
       " 0.288675134594813))⋅(-223.734782272465⋅sign(y₁ + 0.288675134594813) + 223.734\n",
       "782272465⋅sign(y₁ + 0.577350269189626)) + 3770.98880597015"
      ]
     },
     "execution_count": 17,
     "metadata": {},
     "output_type": "execute_result"
    }
   ],
   "source": [
    "Ediscont1 = E1x(x₁,-lₐ₁ₙ,lₐ₁ₙ)*E1y(y₁,-lₙₓ,lₙₓ)\n",
    "Ediscont2 = E1x(x₁,-lₙₓ,lₙₓ)*E1y(y₁,-lₐ₁ₙ,-lₙₓ)\n",
    "Ediscont3 = E1x(x₁,-lₙₓ,lₙₓ)*E1y(y₁,lₙₓ,lₐ₁ₙ)\n",
    "Ediscont = Ediscont1 + Ediscont2 + Ediscont3 + C₁₁ₘ"
   ]
  },
  {
   "cell_type": "code",
   "execution_count": 18,
   "id": "f53cd767",
   "metadata": {},
   "outputs": [
    {
     "data": {
      "image/svg+xml": [
       "<?xml version=\"1.0\" encoding=\"utf-8\"?>\n",
       "<svg xmlns=\"http://www.w3.org/2000/svg\" xmlns:xlink=\"http://www.w3.org/1999/xlink\" width=\"600\" height=\"400\" viewBox=\"0 0 2400 1600\">\n",
       "<defs>\n",
       "  <clipPath id=\"clip320\">\n",
       "    <rect x=\"0\" y=\"0\" width=\"2400\" height=\"1600\"/>\n",
       "  </clipPath>\n",
       "</defs>\n",
       "<path clip-path=\"url(#clip320)\" d=\"\n",
       "M0 1600 L2400 1600 L2400 0 L0 0  Z\n",
       "  \" fill=\"#ffffff\" fill-rule=\"evenodd\" fill-opacity=\"1\"/>\n",
       "<defs>\n",
       "  <clipPath id=\"clip321\">\n",
       "    <rect x=\"480\" y=\"0\" width=\"1681\" height=\"1600\"/>\n",
       "  </clipPath>\n",
       "</defs>\n",
       "<defs>\n",
       "  <clipPath id=\"clip322\">\n",
       "    <rect x=\"47\" y=\"292\" width=\"747\" height=\"1016\"/>\n",
       "  </clipPath>\n",
       "</defs>\n",
       "<path clip-path=\"url(#clip322)\" d=\"\n",
       "M204.789 958.031 L204.789 958.031 L204.789 641.969 L635.211 641.969 L635.211 641.969 L635.211 958.031 L204.789 958.031  Z\n",
       "  \" fill=\"#ffffff\" fill-rule=\"evenodd\" fill-opacity=\"1\"/>\n",
       "<g clip-path=\"url(#clip322)\">\n",
       "<image width=\"746\" height=\"1015\" xlink:href=\"data:image/png;base64,\n",
       "iVBORw0KGgoAAAANSUhEUgAAAuoAAAP3CAYAAAB6WGtXAAAgAElEQVR4nO3d63IcSZqg5y8AAuCZ\n",
       "rKquWlvNjsm0Y2sa3YB+6IJ0Ubok/ZWZNFprs13b0az17M50sXgCiVPoBwgCIAEiMsIj4nOP55lq\n",
       "Th+ASI/IJPJNh6dn1/d9AAAAueytPQAAAOB7Qh0AABIS6gAAkJBQBwCAhIQ6AAAkJNQBACAhoQ4A\n",
       "AAkJdQAASEioAwBAQkIdAAASEuoAAJCQUAcAgISEOgAAJCTUAQAgIaEOAAAJCXUAAEhIqAMAQEJC\n",
       "HQAAEhLqAACQkFAHAICEhDoAACQk1AEAICGhDgAACQl1AABISKgDAEBCQh0AABIS6gAAkJBQBwCA\n",
       "hIQ6AAAkJNQBACAhoQ4AAAkJdQAASEioAwBAQkIdAAASEuoAAJCQUAcAgISEOgAAJCTUAQAgIaEO\n",
       "AAAJCXUAAEhIqAMAQEJCHQAAEhLqAACQkFAHAICEhDoAACQk1AEAICGhDgAACQl1AABISKgDAEBC\n",
       "Qh0AABIS6gAAkJBQBwCAhIQ6AAAkJNQBACAhoQ4AAAkJdQAASEioAwBAQkIdAAASEuoAAJCQUAcA\n",
       "gISEOgAAJCTUAQAgIaEOAAAJCXUAAEhIqAMAQEJCHQAAEhLqAACQkFAHAICEhDoAACQk1AEAICGh\n",
       "DgAACQl1AABISKgDAEBCQh0AABIS6gAAkJBQBwCAhIQ6AAAkJNQBACAhoQ4AAAkJdQAASEioAwBA\n",
       "QkIdAAASEuoAAJCQUAcAgISEOgAAJCTUAQAgIaEOAAAJCXUAAEhIqAMAQEJCHQAAEhLqAACQkFAH\n",
       "AICEhDoAACQk1AEAICGhDgAACQl1AABISKgDAEBCQh0AABIS6gAAkJBQBwCAhIQ6AAAkJNQBACAh\n",
       "oQ4AAAkJdQAASEioAwBAQkIdAAASEuoAAJCQUAcAgISEOgAAJCTUAQAgIaEOAAAJCXUAAEhIqAMA\n",
       "QEJCHQAAEhLqAACQkFAHAICEhDoAACQk1AEAICGhDgAACQl1AABISKgDAEBCQh0AABIS6gAAkJBQ\n",
       "BwCAhIQ6AAAkJNQBACAhoQ4AAAkJdQAASEioAwBAQkIdAAASEuoAAJCQUAcAgISEOgAAJCTUAQAg\n",
       "IaEOAAAJCXUAAEhIqAMAQEJCHQAAEhLqAACQkFAHAICEhDoAACQk1AEAICGhDgAACQl1AABISKgD\n",
       "AEBCQh0AABIS6gAAkJBQBwCAhIQ6AAAkJNQBACAhoQ4AAAkJdQAASEioAwBAQkIdAAASEuoAAJCQ\n",
       "UAcAgISEOgAAJCTUAQAgIaEOAAAJCXUAAEhIqAMAQEJCHQAAEhLqAACQkFAHAICEhDoAACQk1AEA\n",
       "ICGhDgAACQl1AABISKgDAEBCQh0AABIS6gAAkJBQBwCAhIQ6AAAkJNQBACAhoQ4AAAkJdQAASEio\n",
       "AwBAQkIdAAASEuoAAJCQUAcAgISEOgAAJCTUAQAgIaEOAAAJCXUAAEhIqAMAQEJCHQAAEhLqAACQ\n",
       "kFAHAICEhDoAACQk1AEAICGhDgAACQl1AABISKgDAEBCQh0AABIS6gAAkJBQBwCAhIQ6AAAkJNQB\n",
       "ACAhoQ4AAAkJdQAASEioAwBAQkIdAAASEuoAAJCQUAcAgISEOgAAJCTUAQAgIaEOAAAJCXUAAEhI\n",
       "qAMAQEJCHQAAEhLqAACQkFAHAICEhDoAACQk1AEAICGhDgAACQl1AABISKgDAEBCQh0AABIS6gAA\n",
       "kJBQBwCAhIQ6AAAkJNQBACAhoQ4AAAkJdQAASEioAwBAQkIdAAASEuoAAJCQUAcAgISEOgAAJCTU\n",
       "AQAgIaEOAAAJCXUAAEhIqAMAQEJCHQAAEhLqAACQkFAHAICEhDoAACQk1AEAICGhDgAACQl1AABI\n",
       "SKgDAEBCQh0AABIS6gAAkJBQBwCAhIQ6AAAkJNQBACAhoQ4AAAkJdQAASEioAwBAQkIdAAASEuoA\n",
       "AJCQUAcAgISEOgAAJCTUAQAgIaEOAAAJCXUAAEhIqAMAQEJCHQAAEhLqAACQkFAHAICEhDoAACQk\n",
       "1AEAICGhDgAACQl1AABISKgDAEBCQh0AABIS6gAAkJBQBwCAhIQ6AAAkJNQBACAhoQ4AAAkJdQAA\n",
       "SEioAwBAQkIdAAASEuoAAJCQUAcAgISEOgAAJCTUAQAgIaEOAAAJCXUAAEhIqAMAQEJCHQAAEhLq\n",
       "AACQkFAHAICEhDoAACQk1AEAICGhDgAACQl1AABISKgDAEBCQh0AABIS6gAAkJBQBwCAhIQ6AAAk\n",
       "JNQBACAhoQ4AAAkJdQAASEioAwBAQkIdAAASEuoAAJCQUAcAgISEOgAAJCTUAQAgIaEOAAAJCXUA\n",
       "AEhIqAMAQEJCHQAAEhLqAACQkFAHAICEhDoAACQk1AEAICGhDgAACQl1AABISKgDAEBCQh0AABIS\n",
       "6gAAkJBQBwCAhIQ6AAAkJNQBACAhoQ4AAAkJdQAASEioAwBAQkIdAAASEuoAAJCQUAcAgISEOgAA\n",
       "JCTUAQAgIaEOAAAJCXUAAEhIqAMAQEJCHQAAEhLqAACQkFAHAICEhDoAACQk1AEAICGhDgAACQl1\n",
       "AABISKgDAEBCQh0AABIS6gAAkJBQBwCAhIQ6AAAkJNQBACAhoQ4AAAkJdQAASEioAwBAQkIdAAAS\n",
       "EuoAAJCQUAcAgISEOgAAJPRo7QGwTf/r//6mH/J1XRcR0c07mIJqG+9QrZ4XrKuPftBPwtrUdl7D\n",
       "x/t//h+v/SBkUWbUoZAWY7br2jwvyKG78XesJV2D5wTrEOqkVVMg1jTWoa7Pqa3zglwu/461F7Y1\n",
       "nVNNY2VrhDop1RS+NY11ELPosIIvsdjUX7uaArimsbIlQp10aorEmsY6RNdFdGbRYSXd5f819dev\n",
       "pvOpaaxshVCHkVqM9JbOB+rVWjC2dj6wHLu+kEotsVjLOIe4fgJt43xas0Tg1LVDx1Z00XWXd0wb\n",
       "98/l+eQ/l1rGyVYIddKoJX5rGecQLZ1LjR6O8GXum8tx/LhMhMsaLu//dsKxlgiuZZxsgVAnh0qC\n",
       "saWwbelcsrs7yLNd+x+P576YFzNLaCkcazmXLqLrH3r9CrMT6qSQLVnuV89If0Skz+f7KG/pOn9/\n",
       "LncFfP4Iq1EtgTtEFzUUcB2jpHVCndXVEo0tvBnKevSy2o7yXdw+b/E+l3bWrXddDefQ0osjaiXU\n",
       "WVVdkZ5/nD/SwjlkcDvOXc/7fRvv17UjfKZoZd16LRFcyzhplVCHB7QQuC2cw1qEeSnX1+7bGXcR\n",
       "NEYLAdnCOcC87KPOamqIxxrG+JAWzmFpXXf9r6uPeHcNS7u+rrevN8O1sD95DedQwxhplRl1VlFD\n",
       "PNYwxoe0cA5LMXO+ppuz7Wbad9PCrHQN59DdemzCUoQ63KH6wO2+rmRdeSC5ifOMRPvuvoRuRMXb\n",
       "lNQQ67A8oc5KRNFc7OzyMNeoFt9Hu5C7Txdd9BFV7KZSKz8vWJ5Qh2/UPJte89jnJs5rd7XbScTV\n",
       "tLEg/VbtO8KYVYdveTMp3FBz6NY89jl9/6ZQ6nf7Tah8q+Y3P9Y8dihPqMMXNYduzWOfxZ27ttCe\n",
       "b4Ld3XxDzcFb89ihLEtfIOLLE3ydzwwi/ZrlLVt1463T1rLfUPNSku7yvqxy7FCOGXWIerNOpF8y\n",
       "e841y2Juq3d2utJhQ1FCnc2rNXZrHXdJAp37CfZrtcZ6reOGcoQ6m1Zr7NY67lIEOsMJ9ku1Rm+t\n",
       "44YyhDrbVWnsbjnSBTrjCfZ6o7fz153NEupsVo0/97ce6QKd6a6DfZvqPPcKhwxFCHU2qcbgrXHM\n",
       "JdyeRYdStjy7XmOs1zhmmE6oszk1Rl+NY57KMhfmt+XlMDWGb41jhmmEOhtU10/6zUW6QGdxN5bD\n",
       "bOohV2P4VjdgmESosym1PSltLdK7r+8Z2845k0l3meybevjVF+u1jRemEOpsRm3RW9t4p7DMhTy2\n",
       "uBymtlivbbwwnlBnQyr6yV7RUKcS6OS0wd1hqjrXqgYLowl1NqG2J9stLP+wmwt12Mrselfd38T2\n",
       "7xMQ6mxAbTFY23jHMItOXbYyu17bOdY2XtidUGcD6vlJ3nqkm0WnbluYXa8tfqsaLOxMqNO0mp5w\n",
       "Wg/Y6/ui3XNkC74sTGv6YVxXrNc0VtiVUKdZNYVvTWMdw1IX2rKFpTA1nV9NY4XdCHUaVsdP7pYj\n",
       "3VIX2tb6UpiaAriagcJOhDpNqufJpV2WurANW1gKUwf3AS0S6jSnphncmsa6C0td2JaWl8LUdF41\n",
       "jRWGEeqwkvYjHbam1VBs9bwgP6FOU2qJxFrGuQvr0SGi3XXrtcR6LeOEYYQ6jcn/E7rFmLUeHW5q\n",
       "dd16LRFcxSBhEKFOM+p4AmmP9ehwl5bXrefnutMKoU4TapmlrmWcQ7V2PlBea7Fey/nUMk74MaEO\n",
       "C2ktals7H5hPa9HY2vlAXkKd6tUQjDWMcRetnQ/Mr7W4reF8ahgj/JhQpwF+Ei9JpMNYwnF5Ljh1\n",
       "E+pUrYYnvZbCtqVzgXW0FOt1nEsNY4T7CHUql/sncEth29K5wLrqCNxhajiX9AOEewl1qpX/yaEd\n",
       "Ih1KqyFw2+FaUyuhTpVqCMcaxjhEK+cB+bQS6zWcRw1jhO8JdZhBK3HbynlAXq0EZCvnAbk8WnsA\n",
       "sCvxuAzXObFu3D3Tf/2DXLrouj56983MXGfqI9ShsBYCt4VzqNW4WckffVN/+6sGHF/IrKGFiGzh\n",
       "HCAXoU5Vsgdk9vEN0cI51OL+KC95/Xc9Vn/nuMTXEloI3eznkH18cJtQB74S6fNZJspLuGs84n05\n",
       "QhK4JtSpRvaIzD6+h9Q+/oy+j9tar+/D8S4sS6o91rOPP/v44JpQhxIqj1yRXkY7YT7E7XPrutvV\n",
       "I4Kmqj0mu4iu9+ZlmMj2jFQhe0jmHdnDsl/b9LrLa3gd6d2Nf23J7fP+ek22dhmKqnvLw9xDr/va\n",
       "sh1m1GGimkPXE9V4t6+dC3lbd+Pf9V//Y72zw+vqulqvXe2/FYD1CXXSqzmE69DetT0/P4/Pn47X\n",
       "HgYLePrs+dpDmFkX1o/MxQsJ8hPqMEHNLyJqHvsQx8cf4/Pxm7WHwcw+ffopXv/0S+zttbySs+ag\n",
       "rHnssD6hTmr5YzLz2O6X/7oW0l/E+cmbiP587ZEwk+Pzz3F6+ile//RrHB09Xns4M6o5eDP/VqDm\n",
       "68oWCHUYqdb13S1G+unJyfV/6CJeHv/3ePz+n+L4+E2cnb6L87OP6w2OWf3rs7+Nvj+PN30fL1//\n",
       "KZ48ebr2kGZUb1TWu84e1iXUSS5nUNYau7W+uHjIRd/Hm9//W1ycn0ZExOnnv8bf/f5/xc/v/lN8\n",
       "Oj+Ok/OTB45Arf7p5K/xj6/+Pk77s/j97FMcP30dr17/Evv7+2sPbTZ1Rm/mFxmZZ/zZOqFOWq1G\n",
       "5fravbAXpx/i4uxjnJz8Hscnf8TB8V/i37/5v+OTpS/NenHyezw7fRv/5eXfx/un/zaOzz/F6cmn\n",
       "ePXTb/H4cYtLYUTlHOp88cMWCHUSyxmUdc+m1zfunfWncXH2IU7PjuPzxUl87s/ib9/9OdqdX92O\n",
       "iy//uqmLPvpuLy5iL/6x24sPEXEWXfzxpovup9/i6OhohZHOLfPs9I9kHrcXQOQk1EnJbHpZm4n0\n",
       "H3jy5V/U6zwi3kfE57UHkkLm6K2TWXUyEuqwgxqD14ueawfRxdO9vdjruh/Onblk6/nR/dL3fTy5\n",
       "uIg/oo93i40ot/ri0gsM2IVQJ50aYzg/17P/8q+9vb14+exZkX23O6+CBusLlNnFxUXsffgQF2dn\n",
       "0UcfHwqMq26Wa5TlRQT5tPwJEVBUjS8gahxzfl10XSfSd3R9zVy3sroKf2tW45hhHWbUSchP8BJE\n",
       "emlrxMUyt3k5g7jMNOLV43LJ22yfmeBy/JaCXIQ6qWSdZRG9W7ZQoHfdao+wux7flx09X7AI9q3L\n",
       "++KivnX/tEyok4wYLsELixLmDfTsS2cuH0LfxPsM9SLYS8kbvvUxq04eQp00snZLbdFb23gzmiei\n",
       "61+Xe/O6lA7r62AXSOPVFut5x2tWnSyEOsAX5QO9/ji/z80XhCWj/eo+EOwAQp1U8hVNbbPTtY03\n",
       "j5JB3W6c32eOaO86y2HGyTtLfbes47X8hRyEOilsLWxmsdFrOPWxU2oWPfua86XcjvZpoVNiOcxm\n",
       "lzDozMk2+9ghFfuowz1qm53ubvy5FdPuozJ7odtT/X6lrs20/de39xuOiPV2EBpni/cRDGNGndXV\n",
       "FsQZbfEaTj3nLDPxI2756p+d9bf/WEyJdefTLnfW5RVz2uI5l+Yasj6hDnfZYPhWoyvw24MJ1bdM\n",
       "oM8zw9jd/uM7c68Jnxzsky7Kl+iKsCQkpS6i69038A2hTgL5gjjfiO63pdn0606bdr5jvnvOQM+y\n",
       "dObODz6aZe/0ccFeYBFNdNFHbGbtcV0zwjmX1eccFdsh1FlVkj65Q9qBbVapSN/9dre9p/q8e6ev\n",
       "sRXjZXh5o2BGOaPYY4U1eTMpfKOWgIrYzmz6OpFe+k2i3dc3V9b0GLup626+QbTcSZQ+3oBb/HK7\n",
       "C97kaup6vNU0VliCGXVW5qfyWCJ9ztssdVt1RdIuSu+dvvwnk25pZr2uJTD55JzpZxvMqLOajAGz\n",
       "lfitxuKRXnbLxoyP8TncnmmfeqwlZ9e7W/+PDHL+vck4JrZBqEOFtvKCYsm94UuEtT3Vy1yDq/Bf\n",
       "Rm17jo+VM4CBHxPqrCjjs0bGMW3Tki9GpoelQP9WmWBf8jcpC90UA2S8MzKOiS2wRp1VZHxSzDim\n",
       "u2xhNn3Xcxx9Nbpps6m1h+Tc+6ZHTN/Zpeu6L3uf7/79u12yLazjruccM753oJbnCNoi1IFUlnoh\n",
       "MiWy5w305WZ37943PWKOeJ8S7JfDXOqDpuoIWWAbhDoryTU1UcssdS3jHCv/jNUcEZ1r2cW3j7E5\n",
       "9k5fYiZ/ioyzueXU8mIk4zgT/UVlM4Q6kMLUbRjnfgotv6d6wcPNqPQ2jDePOedWjBN+XxLb2bYR\n",
       "yE6oQyWank1f6VNHhykX1bW/4fR2tJcI9qyz61/2zW52++yMs9XAXYQ6m9d0AFdiyW0YL29q2G0V\n",
       "CeuJb1jN6uua84hJU887za4v+kKniy76Nju9Gl5QgO0ZoQItv5hY49wevrUyWwt2jUb6TV2U3Irx\n",
       "x8dY/lrWs0Rpdy2fG7TDjDo0n1J5ZQyFevb+zmf6VowRc69dH8N69TU1u/4IBjGjzqZtuKkSyXMn\n",
       "TN2ycd1I7+7410ojmXgtcr3YyTSWbUr1cICFmVGH5Fpd9pLtvMbH4RJLCMbexo+/ae43ck55s+jl\n",
       "92aZSW11rXSr5wXtEOpsXJ5Q3JI1Z8juuumxkT7PzG9bH3g0ZTnLXbG+6u8sLIFZieUvbJdQZ7Nq\n",
       "+HVqtlnnIlJtxTgyiou/STTPG/vm2Df98rjdqB1i8mzh2OqWjXXMqnuRxFYJdWBRi2/FeK9xcVxu\n",
       "Fj1PnN+ndLR3Xw666+z6ZaRluFi2bASWJdQhtQxxUk6mMN19LGXCOtcbJYcr+WFHY2bJM1229mZ3\n",
       "m/s1ATTDri9sUg1LSjKFSVn1ndjlLiYljlHfud+lzL7ptb5oqXHMD8t/V+T/DRTMQagDi6jhxdFd\n",
       "Sn3wUYvKfdBRbUQjsAyhDgnVGrX3qTVq6t5XfTlt7Zs+XKXDvocXH5CRUGejPCMtr65rPjoeNxTo\n",
       "3+ou17OM/96q1DbeFrjmbI83k7I51fVA5eq73uNnFuePze7qn9H6238UN3Znl8tvy7IV43DtvbE0\n",
       "N9ebrRHqkExry14uJTufe4N67S0bvztw8SvX3f4jImLU/uYP3k43boeY660Y7/i+dK/6WtstpY49\n",
       "1WFLhDo05vz8LD68f/fAV80QPGs3VLc3OOTu/qoMkb7OOuGrWfArxT/oqFCsD7k0/fnnOO/fRHR7\n",
       "8ccf+3H0+elOt13ULMH7/UGfv3gVe3tWskKLhDqb0uZs9fdOT0/i08e/RvQXaw9lIV/u0yFBeOfd\n",
       "PyaQy0V1tvXZJfdMvzzeuH3T75xZH3KpLk7i/Pgv8fn8OE6On+ww0jp9Ov4Qr3/+NQ4Pj9YeygLM\n",
       "+rMtQh0SKfNC4vr7L07fRn9xMvF4tbgZdbvP4O76DdPTuo5dNq6XsERMmSLuuog+dltgvPt65Nuf\n",
       "Gnp+8kd0ex92OUCV+vNP8a/nn+PFq1/j+fOXE48mhCEToQ6V+/jhQ1xcnH/9z798+uf46ff/FJ8+\n",
       "vY3T0/dxdn684ujWsdc9ioP9x3G0dxhPuv340eKHXWezp89+1xHo37p6ETkl2Me80fTm0pm9vb14\n",
       "9fxF9O/eRX92FhF9/Lt3f46+24uL2Iu+24t3h69Hja1mf3nx7+O8v4h3fcTZ6Vk8f/EiHj06WHtY\n",
       "QAFCHRrw/t3vcXH+OSIi9j/9t/i7N3+O//DHP8Sn889xenG68uiWt9ftxeP9o3j26Em83j+Mn2/N\n",
       "f1//+6UjPdsSlzGug33K7Pr4WN/f349fXr+Ow/fv4+DTp3gcfRy8/Y/x9PRtPDv9I94f/jR6XLV6\n",
       "/flf4r+8/Pt4f3ESH84/xafjd/Hy9Z/i6dNnaw8NmEiosxnZ16dPHV9/fhwXp+/j9PO/xvHJ2zg/\n",
       "eRN/98f/E3G2vRn1/a6LZ91evOgexetnz+LX58+/2+lkyUhvIdC/NXZXl5vfPzbWIyJePH8ehwcH\n",
       "8f74OA7OzuLR8V/i2cnbeL/BGfVXn/97PD15G//46n+Ov7z4u+jPj+PNX0/j5PPP8er1TyMef9mX\n",
       "v2QfH5Qj1KEhfX8RF+ef4vziJE778zjpL+Jvjv9rHMR1om7lue1pRLyILn66eBqPn95e/LJcpNe5\n",
       "zGUXU/Y+nxrrR0dHcXBwEHvv30d3chL75x/j5fHHncdRkz4ivn3Xycn+UXw8eBnHBy/i48GLeNs9\n",
       "im7vID4dH8Th4VE8fWZmHWol1GEDjiLieeLfJixrmUhvcRb9PlOWw+y+fePtnWD29vbip5cv4+j4\n",
       "OA4+fozTxqdZLyLiQ/TxPrbzohu2TKhDGvOG3V5EPN3bi8ODb95kdk9QThpN4mPu0s+5I334p5TO\n",
       "/WmkX0c06RNJh33ffTvBPH3yJA4ePYqT0+/fk3HvkSdE/VrHvOj7eHxyEgfRxx8RcX7f90zW2oc5\n",
       "QZ2EOhuSd4Zz7q7r4/op9/Dg4OuHo3Q7fB790Pgc9nXDloSUvc3dAnpcbM+11GXace/6NNKIsh9s\n",
       "9PW2Ri6F2S3W7/7ag4ODOPjmhejQYw75uqHnVfI248tNXm08eXFxEWdnZ/Hk4iJOo485N5/cfXvM\n",
       "JXkhwTb4KDM2YUOrEHYz+LoM/cKhwTz0docca/ArjV0OOmocZR9n3ZdjzrfOvevi622UfCF7ddxR\n",
       "31j4a0v+dmP4ocr+fUk8x7AqP9fZAqEOG7XLc9wcLfzwsco+C+8wlz5iOU3JGJw3zu+/3ZvRXuqY\n",
       "O74f4Mafw762nDWCfqfXJeOGAlROqMPKsm8bWdoaIbjbkpd5xvDAUYpH8hQlZ9l332Gn/LHXfPFR\n",
       "t/Z3LYLshDps1eBn4NpjaL516SXGucbs+VCjl7B8d5w5r2vOx93wY63w6yqgGkKdjfAkd9Mcy17K\n",
       "3/IDRxo8m1r2eGO//q7vr2V2tsRY57q+c92/Dxyt3JEsf5nAFaF9Qp3mVdJCm1Byp5dhtzfPnT/t\n",
       "uPUE+remLofJeX/sfqxK774muS9onVCH1a3xTFP4jZoLP1sWf6PpUkstEi9zGeqy1ae9UBl+Wx6n\n",
       "3xyx8PGy3iZwRajDilaLthWWCwzdX33Z24ud74Sxl6Trdt9NJqvLVh93Njt/2wpvGB3yOFzlNz8r\n",
       "PYBqf3EJNRPqQBpLL42J2HW9/tg4bbN0lrgea2zD2OjdBVRIqAOTZIzQPJ9UmvP6lLRIrK8yq15G\n",
       "xjEB9RDqbIAnynEyLntJvlbo2+/aSKSNP8/M9+eyy1/8nBrLdaNtj9YeAMwpfycVGOBM57jGJ2OW\n",
       "+Jo51jSPuRbzRnp39c9g/e0/yo+o66Lvdzt210UM/ZbBxx9w0CG3u8vYSpjt9oo8DLuY63FTwtL3\n",
       "FSxJqMNKsr+RdIWDFbHGmuYS3zPgqJMeM93tP76ETdm6GRfru3/PD48XGZOy4KhWfEOpGIblWfoC\n",
       "jDYsHPMte5lztnuOLQXn+PTSq08drWkLxOWXmpRaIjPgMAB3EOrAHUpG8ZJfs3J0Ft6yb6k17sVv\n",
       "a+FPeR1zvCUfl8MpeuA2oQ4bM2Q375ZnAIdH4c4bfhfKrPU+uXTqJ49+Pc6NP3f9rge/quEH56AX\n",
       "BmIeNkWoAyMtGQzL7wizxmT6HEtcdh9DmRhe8ZcRV0cs9DWlCGxgd0KdxmV+csw8toeV2oFlyWUK\n",
       "w6/58ks3ss0Ur3NO5e6fRZdTbeJDlDKfQOaxwTRCHVZQ/5P2MNlOc/AntS868PWWujyk1FKY4bdX\n",
       "9uuWkmw4s8l23WELhDrN8qQyVo0Xbr0xT4vs9Ze6PKS7saXjuO9f8wSTX9w71Tjm9WX/ewRjCXXg\n",
       "lmxPeKWWxszzZsVpFyvbtb7P9HEOP0DJN/uusVPQVMmGA6xMqAMjFKqJBatkjpua9AFElRXZlPFm\n",
       "u/br3Vhd9zmwPqEO7K7UG0mnj6Sw5fYtr9Fy4851fYb9wmbQ3ooAOxHqwM5ybXxXbjS7dOj4aK29\n",
       "1saNf5frNfxL8zwS84wEaIlQBxJbcuvGZWQayxiZxr/8tp0AyxLqQFqZovC2+WeVM2vttwmN3C1A\n",
       "g4Q6rCJrGWz4kxpnWZrBTbttqJPtIm/478ZXWccF7RLqsLB0/XHTgmPLdh3mHk4rs+lX5j6fbFdr\n",
       "2V1mFrytHTX2MIb0hDrwVbnn4Ey7g5Qei1KZZo37I9PjcamjAC0Q6jTM09088lzXNd5IOu54ea5Z\n",
       "Wbuf1xr3R65Z4FSDaYjrSpuEOrCb6sJoiJmXcVR3PYaZ/7zqunCDrkddpwSsTKgDO8m1P3p9N8UO\n",
       "Fr1f8uy3DnBFqAM5NdPprafZfOfXYKcD7Obw6u8AAB+hSURBVESoAynl7KYRo8p5IuU0smY/34gA\n",
       "hDqt8qzLHHT6dxrpdFrgcUWDhDpN8vOaOXhcleE6MgePK1ok1AEAICGhDjTMHNs2uJ+BNgl1AABI\n",
       "SKgDAEBCQh0AABIS6kDD+rUHwCLcz0CbhDoAACQk1GmS+TXm4HFVhuvIHDyuaJFQp01+YjOHEY+r\n",
       "1h+Ko86v9YvCOjyuaJBQB1LK+Zyr1L/TSKnnGxGAUAeyWrCc5r2p1hNwvvNb9Mq1fjcBVRLqwE6W\n",
       "65lmSp2xGix1DzVgF0Id2M2A0uirq5GZ59Srux7DzH9edV24QdejrlMCVibUaZhnxHnkua5Dwqh0\n",
       "TI47Xp5rVtbu57XG/ZHrhVKqwTTEdaVNQh34qtxT3VJPmmtMYQqCada4PzI9Hpc6CtACoQ4LyzW7\n",
       "940ll4Unuw5zD6fPdsITzX0+2a7WondftpO/obGHMaQn1GEVWZ/tNlwjOxSIWBlnp+uW7iJv+O/G\n",
       "V1nHBe0S6kBa6Vrtq3EDa2VWffx55Dz/Ru4WoEFCHUjs4YKq7c2EmcYyRqbxl7vvE50UwA1CHdhZ\n",
       "prfvlRzNLhHa2qzycPP/NmH4l+Z5JOYZCdASoQ7sblCVDJgNnz6SwhaKukzT0jtYbty5rs+wSfkh\n",
       "0/tTRwJsjVAHRihUHAsG6xw3NeWYtcX6lPFmu/br3Vhd9zmwPqEO3JKtH4cEYsl1yLsF6bSLle1a\n",
       "32f6OHdZ9jL0a0u9fyHXnZBsOMDKhDrN8oQ3Vo0Xbr0xTwu9Pv3j9HJ8U2bT1zzB5Bf3TjWOeX3Z\n",
       "/x7BWEIdVrCVJ5Vspzn0ui97//TpZnWvXI4r3/KkbJcr2XBmk+26wxYIdRqX+Zkl89geNuhJe9Cy\n",
       "lSW3YCy3rOL2bU+/L7PF+jrntPSylyFfU+ZAye7eETKfQOaxwTRCHRgp2yc1lh3PrmFVIsT6fv2l\n",
       "MH1fKtLn/foBRyz0NaWISWB3Qh02pi80G1mrkm9W/Pbry1y29ZbClFrq0t/4c9fvevCrGn5wDtvh\n",
       "sd3zB74n1IE7lIuBcksQhnxN6Vn19aaFL2fXl9vXveht7XisNe63JR+Xw4lw4DahDoxWbl34sssU\n",
       "5gzgOaJzjiUxV0tcVn9xs9qxl3tcNvxLAGBmj9YeAGxV30d03Ro3XPpga5zE/UqPqO/76Ha8o8Z8\n",
       "z4Cj3gi+7uqfHb771h+zGBPSxV8oFD1aKSV/W1HuUDvdbM4LC80T6jRttRgerEBWzvQEuvS1G3J7\n",
       "g8Y0cOC7xPSYazFPrH89+tU/aYyL9BmOv+guQuXMdntFjpvpkfY9LyJomaUvbICf4uMsvdQk2y4d\n",
       "02+35Tc+3jT+PDPfn2W2Fh1uG4+V8lw32ibUgUkyxujQMe0y9rHnmfH6lLTEdZnj/lxKxjEB9RDq\n",
       "QBqr7Oyyy9eK9VsWifRRtzDtthu9u4AKCXVY0WpBMHi5b8blLyVvL0ZsJThiMPFlh5Vx35pOH1Mi\n",
       "fZ5vWHoZyvJ/N8IbSWGDhDqsbo1nwXq25Fvi9nY73oTbTvDJo1NdfibSlJOYf7nRUsdb/vbq/1kB\n",
       "7Eao07zaw6glSy9tmSvMph13vU8enWrqJ5fmvD92P1ald1+T3Be0TqizEX6a37Tbuuy1bvmBIw1e\n",
       "ElH2eGO//q7vryXYS4x1rus71/37wNHKHWmXLSqL3WorXBHaJ9RhqwYXwvJrhNeKqqVj/eoYWXv9\n",
       "6tNLpx9nzuua83E3/FjzvJcCaINQh5VdPv9u50l4jRjabSvAecbwwFFSzbBfj2WNSC9/7LwvIrPL\n",
       "+yIStkKow0bNsfyl5JP6etsw7r47S+kQXGOW/Wr2fM2o7W/8Oexryyl73mW/LmJLL+WBm4Q6m2BW\n",
       "6B6Dr0vpZTJDb3fIseaoot0HWD6u+9mj/Xaclw3VUeE7w320RoCX/vui0u/m5zpb8GjtAcBy+ojo\n",
       "1h7Enfo+optpaBcR8TEiDqKPg4uL+HRyEns3b+yeG540nJWPeXhwEAcHB9/9933fRzfwQu/ytTe+\n",
       "68t9WfrOvCvWu6t/Bnz3rT9mtfQnlX74+PHhr7//QINvM9sxu5j/p1nuEE49OChGqEMa872QOI+I\n",
       "3yPiNPrLUJ/lVvI46Lr46enTePrkyXf/2y4visbF+vjv2/FWrv5JY5lI//6/+/3jxzgbdcvcL9Mj\n",
       "C7ZLqMNG9BHxLiI+R5/09wrlHPZ9nH74EK9OT+PV8+ext3fzpcluL4imxHpEN9tvSjKZ8obo3eP+\n",
       "7q8/jj4enltvw9VDSkpD+4Q6VO7J06dxcvIiPl6cxt7Fabx9/Fv8y+m7eHL6Lp6evo3D889rD3Fx\n",
       "z0/exPn5x+hPTuLi7dt4/uRJHB0dff3fd43v8TPkcy2FyWPKGvBdv/f8/DxOTk+vvjuij/jnF/9T\n",
       "vNn7EO/6s/jQX8R57vUaszjs9uKg24/9vcPY238cXdf678xgO4Q6m3EZTNnXqe8+vq7r4vVPP8fh\n",
       "0VG8fXMQ5/tP4p/3DuPDwav4ePgy/jj6dZ4BJ/b85Pf427f/b5wd/yVOz07j+N1ZvDo9jRfPn3/9\n",
       "muVi/TpIWwr2tT4A6eOnT/Hha6xH/NeDLv782/8WH/qL+HT+OS76i0njqtHB3kE83j+KJ4cv4+Do\n",
       "l9h/PPXvfPZtGbOPD8oR6tCIp0+fxeHhYbx/9y6OPzyOD3uH8Q+HL+PN0Z/WHtriXpy8uXyh8vYf\n",
       "4m/f/sf4FH2cfvoUJ2dn8frFi9jf34+IZWP96vtrXw5TYt//aR+A1Md5RLz9so3mm/OT+HB2HP/5\n",
       "1f8Svx+8jIt+e6vVH+0/iYOD5/H48ct4/frfxPnjf7P2kIBChDo05NGjg3j908/x6OBRvPsj4rzb\n",
       "i3/af7z2sGbXX9yOsxcnv0fXX8ReXETXX8S/e/fniOijOzuL7v27eP3i5dd162NiPbpuwu9lrmYD\n",
       "6wr2IoF+faAdbvf+r/8YEcf9eXy+OInT80/x+/P/Md5/nU3uYup4a9HtHcbe4et4/PTneP3Tn+L5\n",
       "lxeiQP2EOiRSannO8+cv4/DwKN789ShOP28g1M+P4+Lkjxv/zW7Xb+ftMfs++smhff3r+8xLYkrt\n",
       "Qz4m9He/6S66bj/2Dl5FdFexuo1Yvzb1fC0rgUyEOpuSfZ16SYeHR/Gn3/6HeP/u2R3/6wznv+Il\n",
       "/fzpY5wcP4nzz3+NuDj58RffGSF99P2u4V3ujaLXMZxjlr3E7Pnt4435AKl7xjDkUF0XB49fxeMn\n",
       "dz32FzRL8G69or2QYFuEOjRsb28vXr76adUxXIbnvPX5+ehJvLk4j+gv4uL0jwe//u7n+TGxXnrP\n",
       "9G8iZNISm11uNWb7dJuSkT78g0H7iP4iHh89iaPHc/9GSTgC8xHqkEybs/7Jzufeshof6xEzLGHp\n",
       "+2/idPinkd57yNt/zGb8hx9F3Du2dEWcbTxTedEB2Qh1Nmfn9chMUt/1Hr+kZfobTR+8hXSfRvqt\n",
       "KbPzpdbDL6nCIVfN9WZrfCoCG+Wn/fLquuajo7HvqwzOEvq+31Ck1zbeFrjmbI9Qh4RKv5lvbdU1\n",
       "2BdTP3WzvvgcZ+q51nqdKh32PSx7gYyEOrCIWl98lPgEzlpD9CElzq3OayNqgWUIdTaphmhsNwTq\n",
       "O7HLIC1xjPrO/S5lAr3eSG9R/rvCiyO2yZtJIbVku6VMlOmNpbuPpcy+6dn2TB+q5Ivb8Vs25pBp\n",
       "LGU0d0LQDKEOLOrypUeGFyATtmIssrPLzRnCnNFe/IOPrg+66jjG+3a7TIB5CXU2K9Ps7n2a3FP9\n",
       "6+lkOK+Rs+Rf9jef54OO1o32uaJ4/L7qWdK4v/X/2lHHkpIaxghzEOpsXIZY3J41XyTd9Xw/9tNF\n",
       "LyOydFjfFU7zxPsSM9VTbuOuSF+z18TiWlx4tkuoQ3JNzqpHvvMaG+ul1q4PuY0fu+v21w2cdrZs\n",
       "rGPWeXetnhe0Q6izaTUsf2lfC7F+HZbzBvsPR7DS7X6vrS0bM41lm1I9HGBhQh0SheLWZHyhNHU5\n",
       "y/rBvp4SWzZmDGOhuCYXn22zjzpUIGvAlLDGuT18a2U+yKfv298lpI+SH3z042Msfy1bXhrS8rlB\n",
       "O8yos3nZ1kpv0eJbNg4slCJvFr0R6y3NspdanrLTC7VFy7L9F1n5eTEBQh0q0fQLilRbNn6r3JtF\n",
       "a/2woyvF91VPW2GtbsV4RQBDLYQ6kML1evVxsT53d5TdijHPvukPmWNp0iLbQk78TiELZCDUWUmu\n",
       "mdNaZqtrGedYGd9cetscWzF+O7vZ5gceXR8/fwFXMMQJaplNzzjOdANiA4Q6kMpSL0b6L68KRu2c\n",
       "PuvOLm194NH1bU2c416k2jLGIbBlQp1VZJw5zTimu7Q+qx6x+zmObqsvb/TMv3d6vQG55p7qu31n\n",
       "vdd4uHrOMeM4M46J9tmekRVl/KmXcUzbVMts79X317CkY0nltmxcQj0Buw0Z74yMY2ILhDpUqOV9\n",
       "1W/qb/w5+23102NNsJcK9IUjfaFbWpcXI1Ajoc5qMj5pbCWAq9F/929mv8ESgfj1w4428lC6CutS\n",
       "127J+/vm/yODnH9vMo6JbbBGnZW1vdZ6TltYqx4xfdvGcbdZaivGerZh3FX5PdXLHm/ALd643dbl\n",
       "jN96uHisx4w6fKOmJ7St/AagX3xm/fK2yi6/6Kufab89c176g49E+jzqerzVNFZYghl1VpV3p5X2\n",
       "Z6prs8bM+uXtzrGzy+14mn/XmPHmXCu+znr+LUV6bXLeKR4rrEmok0C+KM43ovttZQlMxJcnzC6i\n",
       "m3gPjXnenXMrxu+DdZ1lMkv9hmZsoBdYAR8b+SXUF5XNpq89gDvlHBXbIdThLn1EbCR+q9N/uXum\n",
       "3D9T9uZeZO/0HwVWd/XPiKPe+mNxk2fQJ31/XdG6Pb0mhjsIdVa3pRnhuWzxGk4956nLrpb7sKPv\n",
       "brm6pimzG8yk795gpG/xnEtzDVmfN5PCPWp7o+aSe45nMe0+KrsVI9/LsWXjFmOrtr3ht3gfwTBm\n",
       "1Ekh75tKK7KtCfWvSnxIUYk14ddB2tY2jLsq+QK3xLE2G4BbPe+CNvvYIRWhTiL5SrO2JSW1jTeP\n",
       "/su1K3Hd2t07/T5z/PbJbynGqm12Out4Uw6KDRLqAF+UX3febrTPtTRMoANcE+qkkXX5S22z1LWN\n",
       "N6Nyn0x666jV7J1+n3n3VI8wizlV1tnp++Qdb9ZxsT1CnWQEZglivYSriJhnJvy76O26VPfWZTcv\n",
       "saf611tjkrzRWx8XkjyEOqmYVSefeYP9+mbu2qljmeUya8SyQN+6vC8sso6LbRLqJCSIS/DiorSF\n",
       "gv3O22yHQJ9De4+T9biQ5GIfdRioxsCoccz59fZOH+H6mrluZdUY6TWOGdZhRp10zATPYdvXs4+I\n",
       "9xHRRR97Z2dx8e7dD9/Mud0rtb4f9VsXERd9H124jy6p3bK8gCAfoQ47qPFFRNZ1/2t4FxEn0cfz\n",
       "i/PYX3swUEB9YSmGYRdCnZTEZVk1vsCYy+eIOA3r/qid4C3N9SQjoU5iOcOy1uitddxDHB0dxavX\n",
       "v8Yfv/dxFn18iIj/r7+IvbiIrr+IvsFz5tLjbj+O9g7j4NGT2Hv0LKI7WHtIC6g10jOPO+3A2Dih\n",
       "Tlpm1efSZqw/fvw4Dn77m/jjzeP49PFxfNh/HP9w+DI+HLyMd4c/rT08ZnK4fxiP95/Ek8NXcfj4\n",
       "T/Ho6Oe1hzQzQTmHvC8g2DqhTnI5o7LW2enWX/zs7+/Hz7/8FsdPn8fbN/8Sp92j+M97R/HusPV4\n",
       "2679R0/j0cGLePLkdfzy87+Ngye/Nt+ydUal2XQYQ6jDSLVGb60vMnbx5MnT2Nv7Ld783sVZtx9/\n",
       "3dvCcoiN6vZj//B1HD39OV4/+yUO9lt+m3Dm2P2xWscNaxPqpJY/KjOP7X75r+t0R0eP49ff/ibe\n",
       "/P44Pn08Wns4MFG9kZ57xrrm68oWCHWYoObgrXnsQ+3t7cXPv/waHx8/WXsoMEHNMVnz2GF9Qp30\n",
       "thCU62r/2j599rz4MW8ve2r7+k1zXWmCbQwXbT5eRJCfUIeJan4hUes6+wy+PsF3l594es0FvRXn\n",
       "t/8jI9Qbk0IYpvKZH1ShT/5sn3dkD8t+bdPrL6/hdZD0N/61JbfP++s12dplKKru0M099LqvLdth\n",
       "Rh1K6COi0ln1iLp/K5DJt0/8l9f01n+z2Fjmd/vcRE9ptYdkn73UoQpCnWpkj8ns43tI7ePP6GZo\n",
       "XS4xuqtcarjedxdX3SGZWf2Rnnv82ccH14Q68JVYn89dYZAz3kX5ukQkcE2oU5XsIZl9fEO0cA61\n",
       "2C3ef+RH99Xu1ScU19JCpGc/h+zjg9uEOhTWQui2cA61GhQR3bf3zLDy8L7hzFoIyBbOAXIR6lRH\n",
       "RC7DdU7M+/QaI3CX4TpTH9szwgxa2fKwlfOAvFqJx1bOA3IR6lSphoCsYYxDtHIekE8rcVvDedQw\n",
       "RvieUKdafuguR6xDacJxSa41tRLqVC73T9+WArelc4F1tRTpNZxL+gHCvYQ6Vcv/BNFW4LZ0LrCO\n",
       "GsJ2qDrOpYYxwn2EOg3wU3hJYh3GqiNs2+KCUzehTvVqCMcaxriL1s4H5tdapNdwPjWMEX5MqMNC\n",
       "Wovb1s4H5tNaMLZ2PpCXUKcJtURjLeMcqrXzgfJai9pazqeWccKPCXWa4YfyOq5j3R0A1y7/Tvi5\n",
       "tA7XnVYIdRqT/6dzi7PQ10+KbZ0XjHP596C9WKzlhUcVg4RBhDpNqSWCaxnnLvq+zfOC3fQ3/i60\n",
       "pJ5Ir2OcMIxQh5W0GrWtnhc8rNVIbPW8ID+hTnNqCsWaxroL69bZlpbXo9d0XjWNFYYR6jTJD+v1\n",
       "WbfONrS6Hr0+7gNaJNRpWB0/tVudVY+wbp3Wtboe/UpNM9TVDBR2ItRpVk2BWNNYx7AUhra0vNTl\n",
       "Sk3nV9NYYTdCnabV9MN7G7Ee0fI5sgVbWOpSV/jWNFbYlVBnA+r5Kb6FWG/9HGlZ60tdImqLdD9L\n",
       "aJ1Qp3m1hWFt4x3DUhjqsoWlLhH1nWNt44XdCXU2obYf5v2NP1tldp06bGEWPSKir+5vYvv3CQh1\n",
       "NqWin+oVDXUqs+vktJVZ9BuqOteqBgujCXU2o7bZ29rGO8Xt2fVtnDNZXQf6diK9thcktY0XxhPq\n",
       "bEptP9y3FOsRX4L98t+tPBK26XL5R20/J6apL3prGy9MIdTZoLp+ym8t1sPsOou7scxlUw+5+iJ9\n",
       "Y3cQCHW2p8bwrXHMU1kOw/y2uMzlSp2RXt+YYRqhzibVGL41jrkEu8Mwj60GekSdwVvjmGE6oc5m\n",
       "1fgzf8vBanadMja4m8stdZ57hUOGIoQ621Vp9G491gU742x5mcuVOiP98o0ra48B1iHU2bRao7fW\n",
       "cZci2BlOoF+qN9LrHDeUIdTZvFqjt9ZxlyTYuZ9Av1Zr7NY6bihHqEPUm3hi/ZJg55pAv63e2K10\n",
       "2FDUo7UHACn0EdH1EdGtPZKd9X1EV+nYS/saJF1/42q4Lu278TFZ6u6GeiPdunS4ZEYdvqh5drrm\n",
       "sc+iN8u+Dd/Mnrubb6g70usdO5Ql1OGGmoO35rHPSbC3yPKWH6s5dGseO5Rn6Qt8o+alJNdjj6hx\n",
       "/HO6fvLvo/t6aVyjenxZ3iLifqD2ayTS4VtCnZXUGcI16L9c2s41vtdVDFy/qIlwrTK6vn8E3EN6\n",
       "a/Rn5+KyPKEOd6h5Vj0ivr4Pq+pzWMDN+BPtWYjz3bUwE93COUB51qizihrWU9cwxoe0cA5LuVrv\n",
       "fHs9u2u3jOvrfft+4GEtBG4N51DDGGmRUGc1NURkDWN8SAvnsDTRvgRxPl0L8VjDOdQwRlpl6Qs8\n",
       "oPplMNHGOazl9hP0zTeiRrieu7CkpawW4rGFc4B5CXVWVUtA1jLOH7EjTBn3r2uPcF1vun1tBFkp\n",
       "te/scqWWSK9lnLRKqLO6WiL4cpxrj2Ka27udVH4yCXz/BP7tjHvENq6zKF9GO9FYx3m0c72pl1An\n",
       "hXqysZ6R/kgtL45qNCzeI+q89t9Xi5BZSkvRWMeJ1DFKWifUyaGPiArCsaXAbelcsrs7sO4L+JuW\n",
       "vG9+nCXtRGKN2or0Os6lV+qkINRJo5ZwrGWcQ1i3vq6Hg2VIzC8xDtbRynr0K/VEeh3jZAuEOqnU\n",
       "EsG1jHMI69ZzEwxb1Vos1nI+tYyTrbCPOozU2v7krZ0P1Ku1WGztfGA5Qp10agrGmsY6RN9H9D7c\n",
       "B1bSX/5fU3/9ajqfmsbKVgh1UqopgGsa6yB9g+cE6X2JxKb+2tUUvjWNlS0R6qRVUyzWNNahrs+p\n",
       "rfOCXC7/jrUXiTWdU01jZWuEOhTSaqy3eF6QQ3/j71hLhC+U0vX+NgEAQDpm1AEAICGhDgAACQl1\n",
       "AABISKgDAEBCQh0AABIS6gAAkJBQBwCAhIQ6AAAkJNQBACAhoQ4AAAkJdQAASEioAwBAQkIdAAAS\n",
       "EuoAAJCQUAcAgISEOgAAJCTUAQAgIaEOAAAJCXUAAEhIqAMAQEJCHQAAEhLqAACQkFAHAICEhDoA\n",
       "ACQk1AEAICGhDgAACQl1AABISKgDAEBCQh0AABIS6gAAkJBQBwCAhIQ6AAAkJNQBACAhoQ4AAAkJ\n",
       "dQAASEioAwBAQkIdAAASEuoAAJCQUAcAgISEOgAAJCTUAQAgIaEOAAAJCXUAAEhIqAMAQEJCHQAA\n",
       "EhLqAACQkFAHAICEhDoAACQk1AEAICGhDgAACQl1AABISKgDAEBCQh0AABIS6gAAkJBQBwCAhIQ6\n",
       "AAAkJNQBACAhoQ4AAAkJdQAASEioAwBAQkIdAAASEuoAAJCQUAcAgISEOgAAJCTUAQAgIaEOAAAJ\n",
       "CXUAAEhIqAMAQEJCHQAAEhLqAACQkFAHAICEhDoAACQk1AEAICGhDgAACQl1AABISKgDAEBCQh0A\n",
       "ABIS6gAAkJBQBwCAhIQ6AAAkJNQBACAhoQ4AAAkJdQAASEioAwBAQkIdAAASEuoAAJCQUAcAgISE\n",
       "OgAAJCTUAQAgIaEOAAAJCXUAAEhIqAMAQEJCHQAAEhLqAACQkFAHAICEhDoAACQk1AEAICGhDgAA\n",
       "CQl1AABISKgDAEBCQh0AABIS6gAAkJBQBwCAhIQ6AAAkJNQBACAhoQ4AAAkJdQAASEioAwBAQkId\n",
       "AAASEuoAAJCQUAcAgISEOgAAJCTUAQAgIaEOAAAJCXUAAEhIqAMAQEJCHQAAEhLqAACQkFAHAICE\n",
       "hDoAACQk1AEAICGhDgAACQl1AABISKgDAEBCQh0AABIS6gAAkJBQBwCAhIQ6AAAkJNQBACAhoQ4A\n",
       "AAkJdQAASEioAwBAQkIdAAASEuoAAJCQUAcAgISEOgAAJCTUAQAgIaEOAAAJCXUAAEhIqAMAQEJC\n",
       "HQAAEhLqAACQkFAHAICEhDoAACQk1AEAICGhDgAACQl1AABISKgDAEBCQh0AABIS6gAAkJBQBwCA\n",
       "hIQ6AAAkJNQBACAhoQ4AAAkJdQAASEioAwBAQkIdAAASEuoAAJCQUAcAgISEOgAAJCTUAQAgIaEO\n",
       "AAAJCXUAAEhIqAMAQEJCHQAAEhLqAACQkFAHAICEhDoAACQk1AEAICGhDgAACQl1AABISKgDAEBC\n",
       "Qh0AABIS6gAAkJBQBwCAhIQ6AAAkJNQBACAhoQ4AAAkJdQAASEioAwBAQkIdAAASEuoAAJCQUAcA\n",
       "gISEOgAAJCTUAQAgIaEOAAAJCXUAAEhIqAMAQEJCHQAAEhLqAACQkFAHAICEhDoAACQk1AEAICGh\n",
       "DgAACQl1AABISKgDAEBCQh0AABIS6gAAkJBQBwCAhIQ6AAAkJNQBACAhoQ4AAAkJdQAASEioAwBA\n",
       "QkIdAAASEuoAAJCQUAcAgISEOgAAJCTUAQAgIaEOAAAJCXUAAEhIqAMAQEJCHQAAEhLqAACQkFAH\n",
       "AICEhDoAACQk1AEAICGhDgAACQl1AABISKgDAEBCQh0AABIS6gAAkJBQBwCAhIQ6AAAkJNQBACAh\n",
       "oQ4AAAkJdQAASEioAwBAQkIdAAASEuoAAJCQUAcAgISEOgAAJCTUAQAgIaEOAAAJCXUAAEhIqAMA\n",
       "QEJCHQAAEhLqAACQkFAHAICEhDoAACQk1AEAICGhDgAACQl1AABISKgDAEBCQh0AABIS6gAAkJBQ\n",
       "BwCAhIQ6AAAkJNQBACAhoQ4AAAkJdQAASEioAwBAQkIdAAASEuoAAJCQUAcAgISEOgAAJCTUAQAg\n",
       "IaEOAAAJCXUAAEhIqAMAQEJCHQAAEhLqAACQkFAHAICEhDoAACQk1AEAICGhDgAACQl1AABISKgD\n",
       "AEBCQh0AABIS6gAAkJBQBwCAhIQ6AAAkJNQBACAhoQ4AAAkJdQAASEioAwBAQkIdAAASEuoAAJCQ\n",
       "UAcAgISEOgAAJCTUAQAgIaEOAAAJCXUAAEhIqAMAQEJCHQAAEhLqAACQkFAHAICEhDoAACQk1AEA\n",
       "ICGhDgAACQl1AABISKgDAEBCQh0AABIS6gAAkJBQBwCAhIQ6AAAkJNQBACAhoQ4AAAkJdQAASEio\n",
       "AwBAQkIdAAASEuoAAJCQUAcAgISEOgAAJCTUAQAgIaEOAAAJCXUAAEhIqAMAQEJCHQAAEhLqAACQ\n",
       "kFAHAICEhDoAACQk1AEAICGhDgAACQl1AABISKgDAEBCQh0AABIS6gAAkJBQBwCAhIQ6AAAkJNQB\n",
       "ACAhoQ4AAAkJdQAASEioAwBAQkIdAAASEuoAAJCQUAcAgISEOgAAJCTUAQAgIaEOAAAJCXUAAEhI\n",
       "qAMAQEJCHQAAEhLqAACQkFAHAICEhDoAACQk1AEAICGhDgAACQl1AABISKgDAEBCQh0AABIS6gAA\n",
       "kJBQBwCAhIQ6AAAkJNQBACAhoQ4AAAkJdQAASEioAwBAQv8/AtPsU9qCl1QAAAAASUVORK5CYII=\n",
       "\" transform=\"translate(47, 292)\"/>\n",
       "</g>\n",
       "<defs>\n",
       "  <clipPath id=\"clip323\">\n",
       "    <rect x=\"960\" y=\"292\" width=\"73\" height=\"1016\"/>\n",
       "  </clipPath>\n",
       "</defs>\n",
       "<g clip-path=\"url(#clip323)\">\n",
       "<image width=\"72\" height=\"1015\" xlink:href=\"data:image/png;base64,\n",
       "iVBORw0KGgoAAAANSUhEUgAAAEgAAAP3CAYAAACPmQh6AAAI/ElEQVR4nO3dwXHbQBBFQSw5svOP\n",
       "yIFZIhyB5x3JQ3cEqle/4MWSls6fx9d98V+Pd/8An06gIFCY81ujjTpBoCBQmPNLo406QaAgUJjz\n",
       "9Xz3z/DRLCgIFAQKc0ajjTpBoCBQmMszaKVOECgIFOY8NdqoEwQKAgXPoKBOECgIFOY8z7t/ho9m\n",
       "QUGgIFCYyzlopU4QKAgUvIsFdYJAQaAw56HRRp0gUBAoOAcFdYJAQaAw18Od9MaCgkBBoOBdLKgT\n",
       "BAoCBe9iQZ0gUBAozOUctFInCBQECnPcB60sKAgUBArug4I6QaAgUPAMCuoEgYJAwWfzwYKCQEGg\n",
       "4BwU1AkCBYGCZ1BQJwgUBAo+mw/qBIGCQMFn88GCgkBBoOBdLKgTBAoCBe9iQZ0gUBAozDnexTYW\n",
       "FAQKAgXvYkGdIFDwqhHUCQIFgYKPfYIFBYGCQME5KKgTBAoChTlHo406QaAgUPAuFiwoCBQECt7F\n",
       "gjpBoCBQ8NFzUCcIFAQK7oOCOkGgIFDwK7qCBQWBgkDBu1hQJwgUBApzeRdbqRMECgIFn80HCwoC\n",
       "BYGCz+aDOkGgIFDwuVhQJwgUBArupIM6QaAgUPDZfLCgIFAQKHgXC+oEgYJAwZ10UCcIFAQKPpsP\n",
       "FhQECgIF31EM6gSBgkDB52JBnSBQECg4BwV1gkBBoOA+KFhQECgIFHwuFtQJAgWBgu8HBXWCQEGg\n",
       "4BwU1AkCBYGCP6ceLCgIFAQKzkFBnSBQ8PWXoE4QKAgUfP0lqBMECgIFX38JFhQECgIF56CgThAo\n",
       "CBRcuQZ1gkBBoOBOOqgTBAoCBe9iQZ0gUBAouJMOFhQECgIF56CgThAoCBTcBwV1gkBBoOAcFNQJ\n",
       "AgWBgj+fFSwoCBQECt7FgjpBoCBQ8C4W1AkCBYGC70kHdYJAQaDgV5UGdYJAQaDgHBTUCQIFgcJc\n",
       "flXpyoKCQEGg4HOxoE4QKAgUvIsFdYJAQaDgs/mgThAoCBS8iwV1gkBBoOBOOlhQECgIFNwHBXWC\n",
       "QEGg4DuKQZ0gUBAoOAcFdYJAQaDgc7GgThAoCBScg4I6QaAgUPDZfFAnCBR89BwsKAgUBApeNYI6\n",
       "QaAgUHDlGtQJAgWBguuOoE4QKAgUnIOCOkGgIFBwHxTUCQIFgYJzUFAnCBQECs5BQZ0gUBAozPFn\n",
       "RFcWFAQKAgXvYkGdIFAQKHgXC+oEgYJAwTkoqBMECgIF56CgThAoCBScg4I6QaAgUPB/NYI6QaAg\n",
       "UHAOCuoEgYJAwX1QUCcIFAQKnkFBnSBQECj4PYrBgoJAQaDgHBTUCQIFgYI76aBOECgIFJyDgjpB\n",
       "oCBQcA4K6gSBgkDBOSioEwQKAgXnoKBOECgIFJyDgjpBoCBQcA4K6gSBgkDBOSioEwQK/pkP6gSB\n",
       "gkDBP/NBnSBQECj471DBgoJAQaDgHBTUCQIFgYL7oKBOECgIFDyDgjpBoCBQmNu72EqdIFAQKLiT\n",
       "DhYUBAoCBe9iQZ0gUBAozO0ZtFInCBQECnNd3sU2FhQECgKFud0HrSwoCBQECqPRTp0gUBAoOAcF\n",
       "CwoCBYHC3O6DVhYUBAoCBXfSwYKCQEGg4BwULCgIFAQKc9/v/hE+mwUFgYJAwTkoWFAQKAgUnIOC\n",
       "BQWBgkBh7ts5aGNBQaAgUHAOChYUBAoCBc+gYEFBoCBQ8AwKFhQECgIFz6BgQUGgIFCYl2fQyoKC\n",
       "QEGg4BwULCgIFAQKnkHBgoJAQaAw9+vdP8Jns6AgUPDPfLCgIFAQKLhyDRYUBAoCBa8awYKCQEGg\n",
       "4F0sWFAQKAgUPIOCBQWBgkDBu1iwoCBQECjMy0FoZUFBoCBQ8C4WLCgIFAQK3sWCBQWBgkDBOShY\n",
       "UBAoCBQ8g4IFBYGCQGFe3sVWFhQECgIF56BgQUGgIFCY20NoZUFBoCBQcA4KFhQECgIF90HBgoJA\n",
       "QaDgHBQsKAgUBAqeQcGCgkBBoOB70sGCgkBBoOD3KAYLCgIFgYJ3sWBBQaAgUJjbQWhlQUGgIFBw\n",
       "DgoWFAQKAgX3QcGCgkBBoOBzsWBBQaAgUPAuFiwoCBQECp5BwYKCQEGg4HfaBwsKAgXXHcGCgkBB\n",
       "oOBVI1hQECgIFDyDggUFgYJAwa/HCRYUBAoCBeegYEFBoCBQ8AwKFhQECgIFHz0HCwoCBYGCz+aD\n",
       "BQWBgkDBu1iwoCBQECh4BgULCgIFgYLP5oMFBYGCQME5KFhQECgIFPwp42BBQaAgUPBrAoMFBYGC\n",
       "QMFn88GCgkBBoOA+KFhQECgIFLyLBQsKAgWBgnNQsKAgUBAo+BN+wYKCQEGg4F0sWFAQKAgUvIsF\n",
       "CwoCBYGCc1CwoCBQECj4flCwoCBQECh4FwsWFAQKAgW/RzFYUBAoCBScg4IFBYGCQMF9ULCgIFAQ\n",
       "KPhcLFhQECgIFLyLBQsKAgVXrsGCgkBBoOC6I1hQECgIFFx3BAsKAgWBguuOYEFBoCBQ8AwKFhQE\n",
       "CgIFfz4rWFAQKAgU/OmaYEFBoCBQcCcdLCgIFAQK7oOCBQWBgkDBOShYUBAoCBR8RzFYUBAoCBT8\n",
       "X41gQUGgIFBwHxQsKAgUBArug4IFBYGCQMF3FIMFBYGCQMG7WLCgIFAQKLiTDhYUBAoCBeegYEFB\n",
       "oCBQcCcdLCgIFAQK7qSDBQWBgkDBu1iwoCBQECh4FwsWFAQKAgWfiwULCgIFgYJ3sWBBQaAgUPAu\n",
       "FiwoCBQECj4XCxYUBAoCBe9iwYKCQEGg4E46WFAQKLjuCBYUBAoCBc+gYEFBoCBQcOUaLCgIFAQK\n",
       "zkHBgoJAQaDgz4gGCwoCBYGCc1CwoCBQECh4BgULCgIFgYJnULCgIFAQKMzLQ2hlQUGgIFBwDgoW\n",
       "FAQKAoX58QxaWVAQKAgUnIOCBQWBgkDBMyhYUBAoCBT8t/BgQUGgIFBwHxQsKAgUBAr+z2qwoCBQ\n",
       "ECg4BwULCgIFgYI76WBBQaAgUJgfd9IrCwoCBYGCd7FgQUGgIFDwLhYsKAgUBArOQcGCgkBBoDDf\n",
       "7oNWFhQECgIF56BgQUGgIFCYb99RXFlQECgIFObbOWhlQUGgIFDwDAoWFAQKAoX56056ZUFBoPAP\n",
       "38EfROHdM9kAAAAASUVORK5CYII=\n",
       "\" transform=\"translate(961, 292)\"/>\n",
       "</g>\n",
       "<g clip-path=\"url(#clip320)\">\n",
       "<text style=\"fill:#000000; fill-opacity:1; font-family:Arial,Helvetica Neue,Helvetica,sans-serif; font-size:89px; text-anchor:start;\" transform=\"rotate(0, 1068.76, 1225.58)\" x=\"1068.76\" y=\"1225.58\">25000</text>\n",
       "</g>\n",
       "<g clip-path=\"url(#clip320)\">\n",
       "<text style=\"fill:#000000; fill-opacity:1; font-family:Arial,Helvetica Neue,Helvetica,sans-serif; font-size:89px; text-anchor:start;\" transform=\"rotate(0, 1068.76, 1098.82)\" x=\"1068.76\" y=\"1098.82\">50000</text>\n",
       "</g>\n",
       "<g clip-path=\"url(#clip320)\">\n",
       "<text style=\"fill:#000000; fill-opacity:1; font-family:Arial,Helvetica Neue,Helvetica,sans-serif; font-size:89px; text-anchor:start;\" transform=\"rotate(0, 1068.76, 972.059)\" x=\"1068.76\" y=\"972.059\">75000</text>\n",
       "</g>\n",
       "<g clip-path=\"url(#clip320)\">\n",
       "<text style=\"fill:#000000; fill-opacity:1; font-family:Arial,Helvetica Neue,Helvetica,sans-serif; font-size:89px; text-anchor:start;\" transform=\"rotate(0, 1068.76, 845.297)\" x=\"1068.76\" y=\"845.297\">100000</text>\n",
       "</g>\n",
       "<g clip-path=\"url(#clip320)\">\n",
       "<text style=\"fill:#000000; fill-opacity:1; font-family:Arial,Helvetica Neue,Helvetica,sans-serif; font-size:89px; text-anchor:start;\" transform=\"rotate(0, 1068.76, 718.536)\" x=\"1068.76\" y=\"718.536\">125000</text>\n",
       "</g>\n",
       "<g clip-path=\"url(#clip320)\">\n",
       "<text style=\"fill:#000000; fill-opacity:1; font-family:Arial,Helvetica Neue,Helvetica,sans-serif; font-size:89px; text-anchor:start;\" transform=\"rotate(0, 1068.76, 591.774)\" x=\"1068.76\" y=\"591.774\">150000</text>\n",
       "</g>\n",
       "<g clip-path=\"url(#clip320)\">\n",
       "<text style=\"fill:#000000; fill-opacity:1; font-family:Arial,Helvetica Neue,Helvetica,sans-serif; font-size:89px; text-anchor:start;\" transform=\"rotate(0, 1068.76, 465.012)\" x=\"1068.76\" y=\"465.012\">175000</text>\n",
       "</g>\n",
       "<g clip-path=\"url(#clip320)\">\n",
       "<text style=\"fill:#000000; fill-opacity:1; font-family:Arial,Helvetica Neue,Helvetica,sans-serif; font-size:89px; text-anchor:start;\" transform=\"rotate(0, 1068.76, 338.25)\" x=\"1068.76\" y=\"338.25\">200000</text>\n",
       "</g>\n",
       "<polyline clip-path=\"url(#clip320)\" style=\"stroke:#000000; stroke-linecap:round; stroke-linejoin:round; stroke-width:4; stroke-opacity:1; fill:none\" points=\"\n",
       "  1032.76,1307.63 1032.76,1199.99 1056.76,1199.99 1032.76,1199.99 1032.76,1073.22 1056.76,1073.22 1032.76,1073.22 1032.76,946.463 1056.76,946.463 1032.76,946.463 \n",
       "  1032.76,819.701 1056.76,819.701 1032.76,819.701 1032.76,692.94 1056.76,692.94 1032.76,692.94 1032.76,566.178 1056.76,566.178 1032.76,566.178 1032.76,439.416 \n",
       "  1056.76,439.416 1032.76,439.416 1032.76,312.654 1056.76,312.654 1032.76,312.654 1032.76,292.372 \n",
       "  \"/>\n",
       "<defs>\n",
       "  <clipPath id=\"clip324\">\n",
       "    <rect x=\"1247\" y=\"292\" width=\"747\" height=\"1016\"/>\n",
       "  </clipPath>\n",
       "</defs>\n",
       "<path clip-path=\"url(#clip324)\" d=\"\n",
       "M1404.79 958.031 L1404.79 958.031 L1404.79 641.969 L1835.21 641.969 L1835.21 641.969 L1835.21 958.031 L1404.79 958.031  Z\n",
       "  \" fill=\"#ffffff\" fill-rule=\"evenodd\" fill-opacity=\"1\"/>\n",
       "<g clip-path=\"url(#clip324)\">\n",
       "<image width=\"746\" height=\"1015\" xlink:href=\"data:image/png;base64,\n",
       "iVBORw0KGgoAAAANSUhEUgAAAuoAAAP3CAYAAAB6WGtXAAAgAElEQVR4nOzd63bjOprm+QcAKdk7\n",
       "IvYpK7NmZa/pmu6uD9M30JfUFzWXNLcwa+q0prI6syr3KQ62RAKYD6Rk2eEDJVHiC/L/29t2RFii\n",
       "AJA2H0Ig4HLOAgAAAGCLn7oAAAAAAL5GUAcAAAAMIqgDAAAABhHUAQAAAIMI6gAAAIBBBHUAAADA\n",
       "III6AAAAYBBBHQAAADCIoA4AAAAYRFAHAAAADCKoAwAAAAYR1AEAAACDCOoAAACAQQR1AAAAwCCC\n",
       "OgAAAGAQQR0AAAAwiKAOAAAAGERQBwAAAAwiqAMAAAAGEdQBAAAAgwjqAAAAgEEEdQAAAMAggjoA\n",
       "AABgEEEdAAAAMIigDgAAABhEUAcAAAAMIqgDAAAABhHUAQAAAIMI6gAAAIBBBHUAAADAIII6AAAA\n",
       "YBBBHQAAADCIoA4AAAAYRFAHAAAADCKoAwAAAAYR1AEAAACDCOoAAACAQQR1AAAAwCCCOgAAAGAQ\n",
       "QR0AAAAwiKAOAAAAGERQBwAAAAwiqAMAAAAGEdQBAAAAgwjqAAAAgEEEdQAAAMAggjoAAABgEEEd\n",
       "AAAAMIigDgAAABhEUAcAAAAMIqgDAAAABhHUAQAAAIMI6gAAAIBBBHUAAADAIII6AAAAYBBBHQAA\n",
       "ADCIoA4AAAAYRFAHAAAADCKoAwAAAAYR1AEAAACDCOoAAACAQQR1AAAAwCCCOgAAAGAQQR0AAAAw\n",
       "iKAOAAAAGERQBwAAAAwiqAMAAAAGEdQBAAAAgwjqAAAAgEEEdQAAAMAggjoAAABgEEEdAAAAMIig\n",
       "DgAAABhEUAcAAAAMIqgDAAAABhHUAQAAAIMI6gAAAIBBBHUAAADAIII6AAAAYBBBHQAAADCIoA4A\n",
       "AAAYRFAHAAAADCKoAwAAAAYR1AEAAACDCOoAAACAQQR1AAAAwCCCOgAAAGAQQR0AAAAwiKAOAAAA\n",
       "GERQBwAAAAwiqAMAAAAGEdQBAAAAgwjqAAAAgEEEdQAAAMAggjoAAABgEEEdAAAAMIigDgAAABhE\n",
       "UAcAAAAMIqgDAAAABhHUAQAAAIMI6gAAAIBBBHUAAADAIII6AAAAYBBBHQAAADCIoA4AAAAYRFAH\n",
       "AAAADCKoAwAAAAYR1AEAAACDCOoAAACAQQR1AAAAwCCCOgAAAGAQQR0AAAAwiKAOAAAAGERQBwAA\n",
       "AAwiqAMAAAAGEdQBAAAAgwjqAAAAgEEEdQAAAMAggjoAAABgEEEdAAAAMIigDgAAABhEUAcAAAAM\n",
       "IqgDAAAABhHUAQAAAIMI6gAAAIBBBHUAAADAIII6AAAAYBBBHQAAADCIoA4AAAAYRFAHAAAADCKo\n",
       "AwAAAAYR1AEAAACDCOoAAACAQQR1AAAAwCCCOgAAAGAQQR0AAAAwiKAOAAAAGERQBwAAAAwiqAMA\n",
       "AAAGEdQBAAAAgwjqAAAAgEEEdQAAAMAggjoAAABgEEEdAAAAMIigDgAAABhEUAcAAAAMIqgDAAAA\n",
       "BhHUAQAAAIMI6gAAAIBBBHUAAADAIII6AAAAYBBBHQAAADCIoA4AAAAYRFAHAAAADCKoAwAAAAYR\n",
       "1AEAAACDCOoAAACAQQR1AAAAwCCCOgAAAGAQQR0AAAAwiKAOAAAAGERQBwAAAAwiqAMAAAAGEdQB\n",
       "AAAAgwjqAAAAgEEEdQAAAMAggjoAAABgEEEdAAAAMIigDgAAABhEUAcAAAAMIqgDAAAABhHUAQAA\n",
       "AIMI6gAAAIBBBHUAAADAIII6AAAAYBBBHQAAADCIoA4AAAAYRFAHAAAADCKoAwAAAAYR1AEAAACD\n",
       "COoAAACAQQR1AAAAwCCCOgAAAGAQQR0AAAAwiKAOAAAAGERQBwAAAAwiqAMAAAAGEdQBAAAAgwjq\n",
       "AAAAgEEEdQAAAMAggjoAAABgEEEdAAAAMIigDgAAABhEUAcAAAAMIqgDAAAABhHUAQAAAIMI6gAA\n",
       "AIBBBHUAAADAIII6AAAAYBBBHQAAADCIoA4AAAAYRFAHAAAADCKoAwAAAAYR1AEAAACDCOoAAACA\n",
       "QQR1AAAAwCCCOgAAAGAQQR0AAAAwiKAOAAAAGERQBwAAAAwiqAMAAAAGEdQBAAAAgwjqAAAAgEEE\n",
       "dQAAAMAggjoAAABgEEEdAAAAMIigDgAAABhEUAcAAAAMIqgDAAAABhHUAQAAAIMI6gAAAIBBBHUA\n",
       "AADAIII6AAAAYBBBHQAAADCIoA4AAAAYRFAHAAAADCKoAwAAAAYR1AEAAACDCOoAAACAQQR1AAAA\n",
       "wCCCOgAAAGAQQR0AAAAwiKAOAAAAGERQBwAAAAwiqAMAAAAGEdQBAAAAgwjqAAAAgEEEdQAAAMAg\n",
       "gjoAAABgEEEdAAAAMIigDgAAABhEUAcAAAAMIqgDAAAABhHUAQAAAIMI6gAAAIBBBHUAAADAIII6\n",
       "AAAAYBBBHQAAADCIoA4AAAAYRFAHAAAADCKoAwAAAAYR1AEAAACDCOoAAACAQQR1AAAAwCCCOgAA\n",
       "AGAQQR0AAAAwiKAOAAAAGERQBwAAAAwiqAMAAAAGEdQBAAAAgwjqAAAAgEEEdQAAAMAggjoAAABg\n",
       "EEEdAAAAMIigDgAAABhEUAcAAAAMIqgDAAAABhHUAQAAAIMI6gAAAIBBBHUAAADAIII6AAAAYBBB\n",
       "HQAAADCIoA4AAAAYRFAHAAAADCKoAwAAAAYR1AEAAACDCOoAAACAQQR1AAAAwCCCOgAAAGAQQR0A\n",
       "AAAwiKAOAAAAGERQBwAAAAwiqAMAAAAGEdQBAAAAgwjqAAAAgEEEdQAAAMAggjoAAABgEEEdAAAA\n",
       "MIigDgAAABhEUAcAAAAMIqgDAAAABhHUAQAAAIMI6gAAAIBBBHUAAADAIII6AAAAYBBBHQAAADCI\n",
       "oA4AAAAYRFAHAAAADCKoAwAAAAYR1AEAAACDCOoAAACAQQR1AAAAwCCCOgAAAGAQQR0AAAAwiKAO\n",
       "AAAAGERQBwAAAAwiqAMAAAAGEdQBAAAAgwjqAAAAgEEEdQAAAMAggjoAAABgEEEdAAAAMIigDgAA\n",
       "ABhEUAcAAAAMIqgDAAAABhHUAQAAAIMI6gAAAIBBBHUAAADAIII6AAAAYBBBHQAAADCIoA4AAAAY\n",
       "RFAHAAAADCKoAwAAAAYR1AEAAACDCOoAAACAQQR1AAAAwCCCOgAAAGAQQR0AAAAwiKAOAAAAGERQ\n",
       "BwAAAAwiqAMAAAAGEdQBAAAAgwjqAAAAgEEEdQAAAMAggjoAAABgEEEdAAAAMIigDgAAABhEUAcA\n",
       "AAAMIqgDAAAABhHUAQAAAIMI6gAAAIBBBHUAAADAIII6AAAAYBBBHQAAADCIoA4AAAAYRFAHAAAA\n",
       "DCKoAwAAAAYR1AEAAACDCOoAAACAQdXUBcAy/Y//+Use8jjnJMldtjAjKq28Q821XsC0svKg34Sl\n",
       "Ka1ew8v7f/9f3/OLEFdFjzowkjmGWefmWS/ABnfwMzYnboZ1AqZBUIdZJQXEkso61EOd5lUvwJbu\n",
       "Z2x+wbakOpVUViwNQR0mlRR8SyrrIPSiAxPow+KsfuxKCsAllRVLQlCHOSWFxJLKOoRzkqMXHZiI\n",
       "6/6b1Y9fSfUpqaxYCoI6cKI5hvQ51Qco19wC49zqA1wPs77AlFLCYinlHOLhBDqP+szNNQJOWTN0\n",
       "LIWTc92Omcf+6epjvy6llBNLQVCHGaWE31LKOcSc6lKit0P4dfZNV47XkwnBZQrd/p9PcCwlBJdS\n",
       "TiwBQR02FBIY5xRs51QX654P5Nba/vXyvBTmCTPXMKfgWEpdnOTyW9evwMUR1GGCtcjysnJK+hpC\n",
       "+uV8Hcrn1M5f1+W5AG8/hJWolIA7hFMJCbiMUmLuCOqYXCmhcQ43QzEefVzzDuXHeFxvwvulzGfc\n",
       "unMl1GFOF0coFUEdkyorpNsv52vmUAcLHodz2vNlT8P7Q9oh+JxjLuPWSwnBpZQTc0VQB94wh4A7\n",
       "hzpMhWA+loe2e9rjTgg6xRwC5BzqAFwW86hjMiWExxLK+JY51OHanHv42C3xThuO7aFdH7c3hpvD\n",
       "/OQl1KGEMmKu6FHHJEoIjyWU8S1zqMO10HM+pcPednrajzOHXukS6uAeHZvAtRDUgWcUH3DdfiTr\n",
       "xAWxjXBuEaH9eH3QlQqepqSEsA5cH0EdEyEUXQozu7yNNirF16GdIPcSJ6csFTGbSqn4fYHrI6gD\n",
       "T5Tcm15y2S+NcF663Wwn0q7bmED6VOkzwtCrDjzFzaTAgZKDbsllv6SvbwpF+R7fhIqnSr75seSy\n",
       "A+MjqAO9koNuyWW/iGdnbcH8PAns7OYDJQfekssOjIuhL4DUn+DLPDMQ0h8wvGWpDm6dZiz7gZKH\n",
       "krhuXxZZdmA89KgDKjfWEdI79J7jAcNiHiu3d7rQYgOjIqhj8UoNu6WWe0wEdLyMwP6g1LBearmB\n",
       "8RDUsWilht1Syz0WAjqGI7B3Sg29pZYbGAdBHctVaNhdckgnoON0BPZyQ6/jxx2LRVDHYpX4e3/p\n",
       "IZ2AjvM9BPZlKrPuBRYZGAVBHYtUYuAtscxjeNyLDoxlyb3rJYb1EssMnI+gjsUpMfSVWOZzMcwF\n",
       "l7fk4TAlBt8Sywych6COBSrrN/3iQjoBHVd3MBxmUYdcicG3uAIDZyGoY1FKOyktLaS7/T1jy6kz\n",
       "LHFdZF/U4VdeWC+tvMA5COpYjNJCb2nlPQfDXGDHEofDlBbWSysvcDqCOhakoN/sBRX1XAR02LTA\n",
       "2WGKqmtRhQVORlDHIpR2sl3C8A9mc0EZltK77or7SZz/PgEI6liA0sJgaeU9Bb3oKMtSetdLq2Np\n",
       "5QWOR1DHApTzm3zuIZ1edJRtCb3rpYXfogoLHI2gjlkr6YQz9wD7sC/mW0csQT8wbdaHcVlhvaSy\n",
       "AsciqGO2Sgq+JZX1FAx1wbwsYShMSfUrqazAcQjqmLEyfnPPOaQz1AXzNvehMCUF4GIKChyFoI5Z\n",
       "KufkMl8MdcEyLGEoTBnYB5gjgjpmp6Qe3JLKegyGumBZ5jwUpqR6lVRWYBiCOjCR+Yd0YGnmGhTn\n",
       "Wi/APoI6ZqWUkFhKOY/BeHRAmu+49VLCeinlBIYhqGNm7P+GnmOYZTw6cGiu49ZLCcFFFBIYhKCO\n",
       "2SjjBDI/jEcHnjPncev20e6YC4I6ZqGUXupSyjnU3OoDjG9uYb2U+pRSTuB1BHXgSuYWaudWH+By\n",
       "5hYa51YfwC6COopXQmAsoYzHmFt9gMubW7gtoT4llBF4HUEdM8Bv4msipAOnIjheHw2OshHUUbQS\n",
       "TnpzCrZzqgswjTmF9TLqUkIZgZcQ1FE427+B5xRs51QXYFplBNxhSqiL+QICLyKoo1j2Tw7zQUgH\n",
       "xlZCwJ0P2hqlIqijSCUExxLKOMRc6gHYM5ewXkI9Sigj8DWCOnABcwm3c6kHYNdcAuRc6gHYUk1d\n",
       "AOBYhMfroJ0Nc6ftmbz/BFucnMvK7JsLo51RHoI6MLI5BNw51KFYJ4bwgZt+c+OE+anMIUTOoQ6A\n",
       "LQx9QVGsB0jr5RtiDnUoWpZy/3HVl929JiFrQnMYPmK9DtbLBzxGjzqAPUK6LYdh/RLhgp5Pi+iV\n",
       "BvCAoI5iWA+R1sv3ltLLP3dfBbcjh8gwpKUkpYd16+W3Xj7gAUEdGEPhIbf0kB5jVIxx//eUkmLb\n",
       "PHoM5+R5eHqUVvVK7uDthqqq5P0cRnWWHiad5DI/eMCZCOoogvUgabdkb7PetsNktW2jZruR1AX1\n",
       "ttkqxkZfJwWSQ7m+Pk59qFVVtULoTmdVVWu9vlFV19cu3AWUHdadLP+0ld22WA6COnCmkoPu3G6q\n",
       "SimpaTbKKSqlVrn/UI5vPxlFSr5S29TyvpL3lZpQKcao9c2NVqv1o972UjlX6v0EhGHgXAR1mFdy\n",
       "EC5DeW0b2/ZRT13bbLW9v1O7vVeOW7kcVSkp51ZZjZTb/WN3zyuv1sv0Usbb7b/YbiVfKbtKydfK\n",
       "aa3t7rlZqutaIYQrlPRSbPdLl40LCdhHUAfOUPJFRMllzzlrs90o92fY2GzVbj4rt3dSaiQlBSd5\n",
       "ZeXcKKt9uoF9/ctsgWXI/edng1TfU+4lxbiVXJByLeWoqKytpJyTUlxptV6rqkoeClNyoCy57MD0\n",
       "COowzX6YtFy2l9lv19ftzvlNs1WKrVJslGMjpY3UfpGU+llRsiqn54e+5Id7gInrVnUB79mM1/9j\n",
       "zFKUU0yNUtpIoZWUFHNSTqm70TglrVdJ9WpV8FCYkgOv5XcFSm5XLAFBHThRqef7skN6d0KNbdPd\n",
       "LNpsFeNW364k+dSNcPFZ67rRus4KTgqSgtutIvR4a7t9WGprLMWjdZie/OB9/OzUZtcHdunT9nP/\n",
       "TktWykkpr7uLMdc9t65rwvoEyh1nD0yLoA7jbJ5QSw27peaTnPN+mEvOWdvtve6//Kqcmu5m0eD0\n",
       "+3dOtZxS67WqvP7mh6z377KCsoJzUkwPPeuPFhLqGqXQplmEfPjVB+lg+sWffnH66y9ebdwFdemv\n",
       "X+5130TlEKXcqpVUhUopRqUQ5L0vOKyXGnotX2RY7vHH0hHUYVbB51HjymzYnLNSSlLOim1UTlG5\n",
       "/aIct0pBiluv799J7277oP4h63c/JP34vRSUpeT6j/h1yjly8SBMI8t1g9J97gK7nH761emvv0h/\n",
       "/dnpy73Tp61Uh6yf7hr9cv+blG4Vs7SRkw9BIXU3lpYb1gmVl1DmxQ+WgKAOw2yeRMvuTS+v3JL2\n",
       "QxmkrJiiUord33OS0kZeWU5OLjvd1E7v24/60GZ9aJO+jVk/fpuVYyulJJfi82Ed9nknharrUfdB\n",
       "8kE/fvheP7xz+uGd019/dvrzL1LKUpKUctZvmzvJecXWa3MX+ptK+xtRCw7rdnunX2O53FwAwSaC\n",
       "Okwq8txpWMkhXXroTU8xKcV4ENylrKwQpA/vvd5/4/Th1ul96xT/9f/V3b/9prsfsu6+y0qbRrlp\n",
       "u5BOUC+S815uXctVYR/U8+//i97/8HfaNF6bxunTNuvn++6dl5zz/ihx+2Mo9iuXlr56qeXQWyZ6\n",
       "1WERQR04QomBdy4XPTnvetOTcu6Cdj4YvZxz1u2N1/v3Tu9br/DZK/zl33X3b3/qgvq2Udp0Hy6x\n",
       "AFKRnJNf1/LrSm5VSz4o/sdHtX+40+0f/l7v393o/Vb6sPH6ddO/6yLXvfmirJyTYoryKcj71H2v\n",
       "sJ/np8oLl1xgAMcgqMOcEsOwffNpz5Sick7KOfUzuRzcapiz6trr3copfOMUvvGqPt3p/v/5R6Vt\n",
       "o7x5COskhQJ5J7+q5dZ1F9hXteIvG8VfW7W/Nar/8Pd69823eneX9e7eaX3vpE3/7kv/LkxOqetZ\n",
       "T0nOeRW9FhLDNUbGRQTsIagDA5V4AVFimc9yeFNoTlJOyqkbyx5iVo5ZPmalmOVTN30j7Er9lIs7\n",
       "2Uu57kN3OrhYG7ofZxnASgyXJZYZmAZBHQaRnsYwz5CeH315++FdqMupC3YuZrm2+6hyVqXyRyrP\n",
       "WVYX1Nv+5lAFKbdZuUrKOculftrOnB8Wr+pHuywLwXc8vEsBWwjqMMXqeOp5ht6Z2+2u3M8Os/ua\n",
       "knybuh51SZVjXVLLkqQ2ZzWSYnJdSO/fHdntz5xSH9jf3l4++Iwp2b24KG/cP+aMoA5jiExj4MLi\n",
       "bT5LdZYql+VpK5Oykxp173o83UNf93sOS1bz3dN2g2956FWHHQR1mEFv+jhKK++1uYOvTlKdneoQ\n",
       "Cp1Pe95i6u4ziO7xfpOIUc8rLazbLS+96rCCoA5g0bzzulmtVfmD6T9ezezulb8docTrghODy9dP\n",
       "e2VDB99qYqu0uVebspoS2wsAzkRQhyH2zsSl9U6XVl4TnOTk+kVwNFLPujP7DtEldT2Q53dD5r4r\n",
       "06d+5dAjJnaB3V7q51ktL8NfYANBHSYsMdSMbhFteKFK9ps9L6QvM5wfOrxQPCe0O+e6sH6x9lzA\n",
       "jiJnno3hL7CAoA68oLTeaXfwGcc7NaQztv15j0P78WmHdj2HkztYt9c+q73qwPQI6phcaYHYItrw\n",
       "+qYLku7xwk5HyI8/Xc2urU4J7DgV4fd8tCGmR1AHnkPwxQuuE9AvM4zGPf70lbHGmL/4+gR2vKhf\n",
       "rYpDA3iEoA4D7AVieyV6Gb3p5xvSepcM6FaGeTx3LF0iVA8N7DZapWRl9QjbHFZvs1RYDoI6JmUk\n",
       "nzzDbMFwZZcJ0eXceHpY/7F73Olhx2M2QzE3lWJKBHXgiVIClERv+mWNHabLCecvGWtWl6+36y4+\n",
       "7Ga5CutVJxQDjxDUMbHCk8uECOmXNU6oLj+cv2Ts0E5Au6Sywro9Nnv6sQx+6gJguSwGGMIvpPOH\n",
       "uzjn+o+RCmSccw91Pm87C2kwvMLmz43FMmEZCOpAgZZyQTHFyfGcsDhGWC3duW0wRfstY5fZDMAA\n",
       "XkdQx4QsnjUslmmZprgYOWfRo6UH9KfOaZPrtyUh1haLO8NimbAEjFHHJCyeFC2W6TlL6E2//r44\n",
       "LVReL1BeJkhe4wbOU2d26Z537Qu1uY+TL2esusV9Uco5AvNCUAdgysPJ0O5Z8bIB/Xq9u8/Pmy5d\n",
       "Irzbn4qxu2HQYkAEsFwEdUzEVggrpZe6lHKeyn5Iv0SItjXs4ukxdom50+1OxbiEsF5Kr7rFchr6\n",
       "QcViENQBmGA9pI/bi24rnL/mEnOn77Zps3d9CWEdQCkI6kAhZt2bbjqkjxeqS7/h9HFoHyOwW+1d\n",
       "7+fNnu302RZ7qwE8h6COxZt1AC6EO/g8YQG+/ucxgrVzszy69mPOpbO6nl/tXZ+04Zyc8jxzejG4\n",
       "oACYnhEowJwvJqzWbbRFj0Yqj1VOc17sqJwhSsebc92A+SCoA7OPUnZZDQosenSaEhc7GsJosRaC\n",
       "xseyEdSxaJyALbC1E8pd9Mg98zFRSYpa7Ogt1sqzPOYOCeCKGKMOGGd1aMi5LNXrzEEbVwgSp77G\n",
       "60+69I2c594sauPokOY7Vnqu9QLmg6COhbMTBZbEag/Zsb25l+n9ndeCR6dMxdgFfHvpkSkbpzLb\n",
       "6XeANxHUsVhWw+IhS73O47NVr6NC9+g3idq5se8S86Z323VHzRBjcwjMHMNiGb3qXCRhqQjqAK7q\n",
       "lIsPS5FtvABpJ5y/ZOzQ7vqNWuktP775ywi1AOaDoA6YdkqS26WI4xamudbKoMcHvn4u69w9ebqM\n",
       "NE6wttdTPMyYix1NudDRrlc/590hZTF1d2V6dmr5Cw23mue7BUD5COpYpBKGlJx6Ps65Cx85p4N/\n",
       "SxMGknPbOSulpBijYorKKb39lJGNEY5KDejP2S92dKmFjkaXJWXlnJVSVIzdhGc5ZwXvRxgHd82f\n",
       "LSfvXb8cU8d7P8I89taHlvBuBpaJoA7MUlZOSakP6yklpRSVdiH3kie7sfNof+GRclKKUSnFRxch\n",
       "lzbPhXzGMU5gv15Yzzkqta3aLKUU5WIr7/xFjtmL6C9uvPfyPsj7XfuH/t+mnZYTwPgI6oBBx/T4\n",
       "Pxdydr3qu57oXUhPfY+0zbf7X5P7dwlyX/4kKenSPZlzXLznEs4N7JcN611v+m78VIytUkpyfjfX\n",
       "e1n7qZuj3nfBPHQBPYRKIYR9YD/t2KPHGrCIoI6FKuvk/JoYo9q2efh722q7+aIYo3Lf+5y7buku\n",
       "4OY+uBRoF+a8srz6COa6ldv22cSdMpLh6yecHLRHnxGmHMfO7PLVc7963vCWdOr2u1N3PAQnBXXH\n",
       "Smo/S/3FXUztw3aL3VeuL7uTnFdV36harRV8kA9Bdb1SXddTF/ICGEuP5SGoY3Hm09GZtQscMUZt\n",
       "N3fKklJsFZt7pfZOSq26nufdU3J/a2bZJ7tdzb3rauN1uBbn+XWzu6qm2/1/svz40+jOmdllnJ71\n",
       "vD8WvB6OjRTvlFMrhRsdtmAu7veBO/hTF9i37Y3aZq1Q3cj5oLbeKt3carVaFfmuwWvsj6UHxkVQ\n",
       "B4wZOuzl6awZWVK73SjFRjlulONWinfKaXvwiDnIynL7gOUleef6rw8t91oLjh1bLhbQL9Dj6x5/\n",
       "kqSTe8FffZ0Rxq9/tU0NPIrdQw+7dw8/KzlvlQ7efXq85fLkvtwu3CumW6W4kQtrxbhSTFEx3mq9\n",
       "vumHw0hv15PhL4A1BHWgIDlntW3z6ETabO603dwrtlvl2OhdlfThnVNunVJ0UpJub/u3ybWLuSVz\n",
       "+8+7gL6uW31YR71fR71fB92kRtuUpZSklJRjetTr/mqIn3R10mnmVt/1gu+MvtDRiauSdkHbPdp3\n",
       "KXb7c/dxWzfSTaO0bhTXW9XrrFUVVFdSXTm9v+nqlSSlSaf3PN1hmXOS7u4f1+LX+422Me/ngcmS\n",
       "2sbLuyAnp6quVVXVjN5NBJaDoI5FKWFaxiGaZquUopS7oB6bL8pxI5dayWWtJP3uW6ccvXLyur1x\n",
       "ur11CuFhG8W3wsF45HUtfbNq9OFmq29vvN6nrTarre77kK7+w2XJ95csu/C325Z0bOgeL1Rbu/F0\n",
       "zDnTu+0dN2/643D/eH95STHm/T5VTFr7RtXNVvFmq9V6q8pXul3X+mYV9f27h7ZNucz3lZ4L6l/u\n",
       "smLs/u1dnfXTXaOP2yiXo5STUpaavh1jbJVWa9V1Le/9JHUYD73+WBaCOmDIMRcSsW0VY7vvSXdx\n",
       "I8UvkrJy45Qapx9unW6qh6B+e+O0Xj/evq2IOJB7/McuqOf+o9Fts9XqZqv6ZquNi4oxKccoxSil\n",
       "pN0s1LthM+7pRt98/TGGpNhfmVQ6HMIinRNzneuHagxegOvr49T3f8pOijnve9WVkoJavbvZaLPe\n",
       "qPJJwWdVv6/0/buH09xEayyd7bDIKWXd3Wfd3XVfNxvp3SprXWXd3CX99OWTUm6lHBVzVIo3inHV\n",
       "z/qUtFqtFA6v2L9CEAYsIagDhWmaRk2zVds2im2jkKPkspzrZnf55qbRj985/XDr9eM30ofQKv75\n",
       "X3V79xDWuwzUDy+YtDZnOCx4yqrqVtWqVVg1cj6qTq1Sarsx+9uolXMKepgJZL+Z/ma7oaH5/N7v\n",
       "MgL6Uw8LFEmnpt1jbzSt61rvlJXvczeDUV/+ufoAACAASURBVMpqtq2y20+6qM2//FNfuO7Gyurb\n",
       "n7RKleK2UtzW+tA8CaWlBdCnFyz1SuFv/6i7e+nurutd/5c/S5um+7ivpc/NtruPox8MkyWFEPpp\n",
       "WuMoCyQBuA6COlCYLqxsup701MorqlJUt9ZJViXp/W3WH/826cdbpw8haXN/p+0//4Mq36q6dd1s\n",
       "KekgrE5WmxE4SSmrSUmfXVRetYq+lWuS3CbKb6LcfavgnG6dFFy3YIzLWe7I0MbiR4eB/TqLHK3q\n",
       "Wt8GL3/3RT628inr/q7pe9O743j7j/+g+OmT4qdPCt99J+edgoLCtlLVHpzmSgvp0sG8k/37PvVK\n",
       "a/2q7/7uv2rzbaW7u6xWWfd/kn67y6pcVu2yWiW1aSs5rxy9miaoqlfT1gXA0QjqWAzr49OHl6+/\n",
       "YSy1yqlRUqucG7ncKrjuRF05p3WV9bd/k/X9Kmtzn7W9z9r88z/L/eVnOZd3qyIVuPjRM1KWUrcY\n",
       "0pec1Loot43y2/7rXdMvFCOtfdBqvZZP3Xh174aN2WXxo8euuciR914f3r2Tv7+Tbxq5lHS3jUq7\n",
       "G4ZjVvxff9bnz59UffudFFwX1r1XaF8b5mGf24V01y3Q5OqVKv2qyv2qd//5vyr97fdqJd3HrPso\n",
       "/XYnVf1Fu1xSmxplBUXntd0EVVWt6s0zv/XhL9bLB4yHoA4UJh9+zklSVM7dh3KSV5LPkk9OPksf\n",
       "bqPqdavNqu2+/q9/lzabrkd9F9aLnwlGUuyCulJWyllVm6RtlDat6jb1k687KTit6qBQdTNieD3M\n",
       "iPOS04N2mcNcjnHsjaJfP/fl5z29e+Cbm1uFEOTv7+VS1l2b1PS96jklpfRJzafPXagNXvJOwZe1\n",
       "A75qjYOgLu/k1muF724Uvr2R//ZGt9/e6P27tT68kz68y/rmVrr/mPdzyHsntblb/CzGqNg20np9\n",
       "/YoBOAlBHSjRW5moD6yKkmKr3DRKdxvFu63S3Ua638r1vdDK6eghINbsVqTsetWzQs5aO6dV3wsp\n",
       "57qhLinLeyff/zds26cFvTn2or/knOEwQ8L6bhVaJ+mmXqkKQf7uTj5GbXLW5r5VSt3+Tb6/A8Gp\n",
       "C+uF7Yenpc1eysEp7yaFT05500iplYtt9zVV3QMfP/PhS1lNAOAAQR0wY/jZ9NEyRy+FnJy7WU5i\n",
       "f0KPUfl+o3S3le438rELNorlr1S64+Tkc+4+nFPlnG7qSi65fe+5l5fP3Z8Pn/ns9kyHdLefovIt\n",
       "l16NdF+iC61I6vr/krK8siovffvuncLdnaqmVZWT7rdRbcxy4eEGyix14bZgrn8XKAen1Af1eNf9\n",
       "HOe23f+MK3kpBz0+Ih61xJGLWjnN5fcCUDKCOhbE7gl7nFz3wkm1X/RHqZuaMDWtwraVi1k+Zbm2\n",
       "D+wFc08+pN1oAS+fvL65ve2CuvP7oS6XGe5yqaEu523XPf60N+bCRvvXOnEozJCQ7/dL+ngpJ727\n",
       "udGqavVls1GISfcxKbaP42lpR3Z+sp+jUzfmPngpOCUflLet0rZV3vZBPUW5pO4j7wa9PLNtHdce\n",
       "bvhsmhPgQgLLQFDHIhT27vdxXH/fWD+399sRtF8kyHW/AHw//DWkyxf10h6F9Sx5LwXnFRSeZNQ3\n",
       "WuiEA2b8XvTLj29/vLCRNN5qpN12j+5dH5AMd0NhnOsuuULltQq1vtzfq9puFfPDXRxFBnVJyT38\n",
       "OTqnezm1rzzHPfrD/O+L2LF9IQGMg6AOzMSjkD5wSESQVEsKcgr91IWVCw9TwR1bgDMeeObT99/c\n",
       "zWa3e2CQl3f7+D7gtY5fzGjMkD7V2PaxVyPttnlcWO/6SN/uKd3tId9fpXpJ396+07qq1bQHkTZL\n",
       "+bltDSzSyw87ewMvPjSmqFZJUV3veitJTrp33S0nr3m4SB/2rhEA+wjqwMTGnjZyF9iHbnUXYb3r\n",
       "ep/rqtKqqp995KAMOXDVzqGBdMjj3nrMMYHl2Jw8TrC21Qs61mqku20dFdYH9pLuYujhY2/qtW7q\n",
       "xzOaDHntoeUbtC1pUAVeattt22jbNmpzVJul0L/zVUtKkpo3trt/V8kd/MPJmAYRmNqwaQ8ALN6w\n",
       "IDlmSHejhPRjHLutMV57N7+7Rd04/3HqeMnHn7st9+Qdl7O2dfD59W29+RAAIKhjKTgrnmN4sB5p\n",
       "WwPD65hB/tph0rlhFyIWjFHWS7XvWMeAe9QNPcK2Rgr+eA3th/kjqGP25nguvGaVhgemkbY15tCZ\n",
       "C+388wJWOQH9qaE9z68/f3yjhfXugSO93psPGbytsZR51L2u0B8lYDCCOjC58s80ow5VGPH1hpbq\n",
       "uPKfUVfDw1yGGtrz/MoWjnitcRtr+NCV672efXOoA1AugjowIfvn8WuP/55gvPnRQzJOKIy0nz5z\n",
       "Drqsflptjn7ahYYuvbE1c683Jfu/p4D5IqgDeOTwnHztE/Row2eOec1jHmt6pdLru0Z7jN1yYw5b\n",
       "Gcvh683zSAFwKoI6gLNYDKGXuIGUkP68q4T1SXrVx2GxTADKQVDHAnCiHOZy7TTesJep9iUh/TWn\n",
       "19Py/px61pZlHDvno50wbyx4hFmzn5MsF/C6ZRttEpeL9KYPfuhJ2z9h67v/B8uPP41foiMXNuqe\n",
       "M3wJ+MHbH7DRIa97TNnG4XSpfXM+y2WbYl8B10OPOjAR6xcRQxc4smaKMc1jPGfAVvfzmbsjQ3r3\n",
       "bO0XMDp3msUXX8NAW9k7IqVhvfNXKMYZrJcPmCuCOoCTjRfmjc4IY2Dbh+F83O0ehvYxt1tK217v\n",
       "uCTkAjgVQR3ARY01pGWSGWGO3d6Y88lfceXS0V/rQquQjrm9ax6XAHAqgjqARRkeCo8fXDJOZptu\n",
       "5dKxhsS4g8/HPuvNR5GMASwIQR3A1668ONE4rzV2r+xlH//8NqZfuXQ3JGaM7Vzy8QO2ONJjxkL3\n",
       "PIDjEdQxc5ZPfHbLNtrkKoOGIFxvmMLwNr/+0A1rPcXT1Gm8/XPV4VRjHcNvP2RClktnuWzAeQjq\n",
       "wASMZbKLsVbNoe1+3f0z3VCXt1xqdpiXX2/cx12LseJcjLV2B5aAoI7Z4qSyJNPt7PNC9vRDXd7S\n",
       "le/0Qk57EWK8cTEa6z9HwKkI6gBMG2tozGVuVjwvHZQSLs4v5/ANjHmz7xQzBQHAmAjqAE4wUri5\n",
       "Yki6xEuds83SAuI55bXW9tO9WFn7HMD0COoAjjfWjaTnl2Rk15u3vETXK7et9hn2hk3xd4sCMIig\n",
       "DuBotia+G680x+TQ00Nr6WnttPIf017DH2rnSLRTEgBzQlAHYNg1p268DktlOYWl8l9/2k4AuC6C\n",
       "OgCzLIXCxy7fq2zZ3N5NmMluATBDBHVgEiQDc21wkaEZOHTchDrWGtlaeaZAGwDXRlAHrsxc/piI\n",
       "tXa4dHHm0pu+c+n6WGutme2+k9EOwHUR1AFcgKXZQcYuC0nlPFPsD0vHIwAMR1DHjHHSvAw77TrF\n",
       "jaSnbc9Om43r+HpNsT9s9QKbKsyM0K6YJ4I6gOMUF4yGuPAwjuLaY5jL16ushhvUHmVVCcDECOoA\n",
       "jmJrfvTyXgpHuOp+sTPfOgDsENQB2DSbnD73aHa5+s0wpwPAUQjqAEyymZtOKJXNioxnJmP27ZUI\n",
       "AAjqmCvOurgEcvpXZpLTMQccV5ghgjpmid/XuASOq3HQjrgEjivMEUEdAAAAMIigDmDG6GNbBvYz\n",
       "gHkiqAMAAAAGEdQBAAAAgwjqAAAAgEEEdQAzlqcuAK6C/QxgngjqAAAAgEEEdcwS/Wu4BI6rcdCO\n",
       "uASOK8wRQR3zxG9sXMIJx9XcD8WT6jf3RsE0OK4wQwR1ACbZPOeS1L8yk6Rur0QAQFAHYNUVk9Nl\n",
       "X2ruEfBy9btqy819NwEoEkEdwFGul2dmk9RxqhkmdQ41AMcgqAM4zoCkkYtLIxfuUy+uPYa5fL3K\n",
       "arhB7VFWlQBMjKCOGeOMeBl22nVIMBo7TJ62PTttNq7j6zXF/rB1oWSqMDNCu2KeCOoALuBaJ80p\n",
       "ujAJBOeZYn9YOh4BYDiCOnBltnr3pmOtHS5dnGytwme6dH2stdbMdt/JaAfgugjqwCQ425lrgyMS\n",
       "CGHlNEe1m7lGtlaeKdAGwLUR1AGYZS6r7Z1WsLn0qp9eD5v1n8luATBDBHUAhr2doEq7mdBSWU5h\n",
       "qfzj7XtDlQKAAwR1AEezdPvemKU5JoTOrVd5uMu/mzD8oXaORDslATAnBHUAxxuUSgb0hp9fkpFd\n",
       "KdRZ6pY+wvXKbat9hnXKD+neP7ckAJaGoA7gBCMljisG1ku81DnbLC2sn1Nea20/3YuVtc8BTI+g\n",
       "DsC0IQFxzHHIxwXS84JXKVn9/HIeM+xl6GPHun+hkJ0AYJEI6pgtzr9LMt3OPi/oZfPHaVe+c3rT\n",
       "p6yg8cbFaKz/HAGnIqgDE1jKScVaNYe2+3X3Tzbbq9uVy97wJGvNZaw4F2Ot3YElIKhj5iyfWeyW\n",
       "baR7RYfdUDrS0JZxp+E7bt+MEbSthfVp6nTtYS9DHjPOhsq/19Ry6SyXDTgPQR3A14al8IsX47jX\n",
       "Grc8x2bMMXJ2ztMPhcl5rJB+2ccP2OJIjxlLYRP+AzCBoA5gUca8WfHp48eJWdMNhRlrqEs++Hzs\n",
       "s958FGEWwIIQ1AFc1HhDEIY8Zuxe9em6hbve9evN6z7qax25rSn22zWPSwA4FUEdwMnGGxd+3WEK\n",
       "lwzAlwidlxgSsxviMvnFzWTbvt5xSZgHcCqCOjAR6yfvcW/OvJ6xS3RKOLxMWM2PQvspA0seh/Px\n",
       "y2ihrewdkdIcwrz18gFzVU1dAOCScpacm7oUr8mSrBbwumUbsq8G7c+BOz3nLDfw4DjlODpm+8fL\n",
       "u//NOC2kX2D7V51FaEyW9uZTlsvGRQTmjR51LAC/xYeZesiCtVk6zn/dpdz4eHo9Le/PcaYWPd0y\n",
       "jp3z0U6YN4I6gLNYDKNDy3RM2U+tp8X2GdM12uUS+/NaLJYJQDkI6gAeOYwV184Yk8zscsxjCeuP\n",
       "XCWkn/QK5732lMf9PI8UAKciqAMTsp/frj3TygQzuxw9leAJhVF/E+dpTzWnuzH11JB+mSdce0aY\n",
       "689AMx37v6eA+SKoA5Mr/yw4ZmgZFOcnnVLwjNc2sPLoufJu+pjTt3DEaw0M6SNub9T4XfrOljSH\n",
       "309AyQjqmL1ZnCufuGaVho8PHmlbA3uehw1huExLnbfd6VYePde50zperN4jHQt5zG0NfkPnesdC\n",
       "mUfd6wr9UQIGI6hjIfhtfo6hw1ZGDesjbetSNyKeG7CuufLoucYo66Xad6xjYOg7BcND+tSzxiwB\n",
       "7Yf5I6gDGGToAkjjDV0ZFg5HHXZz5bC+24bVvLZbIOn87Vy/XY/Z1tB3CoYPnbF3wyqAMrHgETCx\n",
       "bjGdrJMXF8oP2xk6MKFRd5Ue+g/npCZLKUelJquJUTq2RIMf/PwDz3m6k3v073VVaV2v9o/fta4b\n",
       "8CrHLm40zsJGD2H9coskDTftxc/r30+P5yXS/WajmNL+77ufg1d/EoYOS7ncBl5+aM6KOSllKbuB\n",
       "92zsv459w7Ldi0hgKQjqwAzk/Sn68PPr2izd592f8z7C+hzl2nipol6EO/iQpLB1+mbV6JubG3k5\n",
       "ybnuq4aE9aw8KNIfPGPEVUgfgq276qq6Q4drHLfNI0P6wefXvr8P61lqlfSl2ajpw3o++ChddFKW\n",
       "U3r7odrtvt3P/xzqD4CgjoU4ZQn4EuXDs7XeDitRWV9yVjj8R3dy3/5k3JOP4LLaZqttavXNeq26\n",
       "qpTl5Z2X14CwfsIB04XSMcP1YW/mZUL7JcL5Wdt9M9g/fD/lpKy+99lJjZc2B8f9LAJ7fninLGW9\n",
       "Gdj3IT33X50e3k6aIXr7sQQEdSyI3TPWMbnwsOf42W05r+ydslc/viXIrSr5VbX/mlJUTlkuZilm\n",
       "xdLPeCk/CuptzIoxKcao9u5eN3Wld7e36qJO17fu3zgWTuslz/2+HPs4e24Ight8UZUff7qoMRdB\n",
       "etrDHmPU3WajpKS0ex9pHZR9UM5eKWcl55SdO3iPqXROCq77mQ5Ovq4k7yUf+q8v3Wp2/jFo+9eC\n",
       "6cIBoyGoA2YccSGxD4JPB30cfN9XUkhSaOWqSv52pXC7lr9dSz5Lqb9ZM2a5Ie+tW5azUkxS7lrC\n",
       "p6RmGxW3UW1OaptGMSW9v71V5buQnuT2/7282dOGtIw5FOaVVzl888SE8VcqfRjUJUnJZTWx1Ze2\n",
       "6cZveyf5rLyulLxTylnROTnvJO92myibk+S8nHfy3kk3K7mbtRSCcqik3cdLh5t7+P1w5HtEZxUb\n",
       "wDgI6kDpdm9vPxPWsw+Sr7oTuq/k1rX87Wof1PtpPb4KSjbfd3hZTv2FR0zdLCoxy/uuF/JuE9Xm\n",
       "rNRGpc+f9c3Njdb1qh8CozeHwpwT1q89znwq5wyhGTaTSvdfUlJyuduvuXsnaDd1ZA5esQpKrgvp\n",
       "znsplN34/RHUhW3XB/X1WuF2JX+7lqvrh6Du1f1cv6bs5gAWiaAOFCZUtUIIij7IpaCUGiWp/3D6\n",
       "cuf08bP08bP06bPT5/c38t//UfG3e8Xf7pV/vJeabReQXgjqpVlXUUqpC+wxq/3tV6WPn+V81xO5\n",
       "3Ubltvt+ur9XjFHvbm4lPcTLS4T1yw2FseOcY+et5zZN24Xz3A11SV5S7aXQvZXQ5KzqD/+btArK\n",
       "qyC/CmpzUHa+C+qHPesFc+4hrOfs1GwqrbeVmk2l5i4oOa/kpeT6WXGcl3NBzgXJBbn9TMzH3SQN\n",
       "YHoEdSzG2dMgXtjQ8oXgtVrfKsaonJOkqDbG/VxuraSff3P6U3C6CVIlp9vb32n9n79Tm79To++U\n",
       "m+3Diz7MZ1eWg2aKVatvVq2CurH38ddfdf9P/6D473/pelW9V9y2uttG5ZSUtlulmPT+9ht5H15+\n",
       "jQPnDGfZBdI5BfZrLYD05f5eTYrd4R2c0ioor2vlLKWc5b7/oJv/8t+km1q59qpSpS/bSm0OD2G9\n",
       "xOO7d1h0551Sdrq7y/rrn51WN07rG6eP0WvTZrU5q81ObXZSqOT8Sl61koKc353uh93VYPva3Xr5\n",
       "gPEQ1IECOedU16vuptCcpJyUYqumP0m32enzvdOf/uxUSbq9cbq9Xen2D/9d8TCo75R21nuSNao6\n",
       "Kq4arVat1r5V+9uvCu/f6/6f/kGbf/5HOe/kgpMLXptNq5SyUtsqff6s9ze3D3Ouv+HcsedzGA4z\n",
       "xkwxx4b8JiVtnSTnlLJXdFJcV8o5K62D8jpo/Xf/h8KPPyikILet9WVb6b6pHveoF3aY7zwU2yln\n",
       "qb3P2txl/fJrVviL18fo9NMXp093Sa2ymuzkspQV5Hwt7yqFqlZVr7rx+wCKQVAHCuKck/dh/1FV\n",
       "K0U9zI6RlfWluddNLa0bab2V/r+/OK3X0u2NdHsr3d78J/nbh5N1kaftJ7OduG+ywqpVWDWqVo1u\n",
       "fvipT5TdOwabf/knJfX35WWp2bZyMcu1rdzdvbycVkeEdblzhhDsegPLCuyjBPSHDQ1+vV2oT5Ka\n",
       "fk7x7n2krLQKakIt76vu4/vfK9Yf1G5rtdta222lTVM9LnWBYf1pkTebrLvbrLu7rLvfsu7boJ/v\n",
       "sn76kvXlPivJSdkrZyfngqp6pRAq1fVKdV1PUgcApyGoA4YMGf4SQtB6vZb3Xt57taFSGyrFbTce\n",
       "NcVK//7lTvdt0qbN+nzjpI9SCNI3t063N07uYEa3grLintPjjtK/+dbrj79bKSanNnmtN2sFddPY\n",
       "udB9yHWrPboXltU5qrc894sindV4tlYjfclY9y8cH/RzP394VtLDHOHyvptyNAS54NXkoO39Ss39\n",
       "Stv7lT5ta/3rT0kf71t92TptGu2fX2JIP3RY/BjVBfX73PWa1zdytaRakrpZn3yoFaqV6tXNET/o\n",
       "DCsBLCGoY1Gsj1Mfynuv1Wol771C08g51w0DcN086nJBvzV3um+3+tzszrpZ+kUzCuoPt8j98jnr\n",
       "yzbrP/1Y6ft3XtvNSuF+JZ9qKfiDD7fvWd+Ht4P4c9zQlvFuFJ1qNdKXjL0Q0tErlO4ef/Bl15O+\n",
       "X8in36cueCXv9WnbBfWPfq2P91F/+mvSf3xq90E95Xms1rmfCab/891dlnySD1muuummbcxePtSq\n",
       "qpVW6xvV69tJyzwuLiSwLAR1oFDOSVVVyXvfTV2Xo5qcDlZkdNpEpz9/2jx+4qfSznJfl9cr7xct\n",
       "ck76dJ/VtFlNK/3xR68f3EphU8vf1wpNrRAeetZd8MqKD+EvPz7xHzsOfdw505+EkLOG2BzzqrrY\n",
       "fQonh/TnvvfkwwW/X/THeaf7ttanXOvTJujjJuqvH5P+47e0vyjrVvcs/0L9cK4iSXI+SyHLhSwX\n",
       "QteTvlprtb7Ven2jELobpi2/cwPgeQR1wJjhvf5dSA3B6/b2ViEEbXxQ09TK6UaxvVdq13Lhvh+q\n",
       "cRiACgvrTwYZ53ivnBtJ3Zjz/cQ1A6s1du0vNqvLV73Aw1cjfXGTjz9dzCWm/HxtiwfvG/WBfPfV\n",
       "yVW3ksKbq/qWwT3Mrb7nu6Eu1VqhvpEP1eN7ONx+sYU30FsNWENQx+L09wLOiJNzTuv1TXeDabNV\n",
       "ilEx3ajdbtQ291LuFlzf32BZmMc9vlkKa+X2s2K8k5cOxjBL4yydfsYiRxftBc+7/806p3d+nHDv\n",
       "9sfCbriMy06uupFz1X7YSLm9y11Id873x1r3Z+eDQgharb9RqJ47tZda38e4kMDSENSxUHN4+/tr\n",
       "dV2rqiqllJRSVFzfKMZ33d9jVEpJOacCFzjqV59MWTknpVhJ8pLzSu0XRUmx70Xd9a4fOeDi6385\n",
       "dUhL3wtebhA83fiLHx07bObhKbk/HmLWvifd+VohrLqFsJzr91FZ+8m5btXVbuan7msIQcEH+dD9\n",
       "23yV9nsLOB9BHTDonJtenXPdmOy+12134k4pK6UurF+0W3bs3JOllFO3UFHq5otPcdu/zmWDFosc\n",
       "DXOtxY9O19/R4LxCVXchNwR55/tVP0d+uUtWpy+rPwjrUh/g+++ds4ouAFsI6sAsOXnvDnoNpSpI\n",
       "WZVSuvbwlzNTUM6KfUCPMap1kmtCfzvp5Y2zyNE8A/sYAfua7+445xVCpVBV3dd9D/S5+2aahLu7\n",
       "GD/4l0nKAeByCOpYpBKmaRxjLH3Xux4e/VsIz4ejh9ey1SY5Z/mU1PYFTDkdDFm4Xlg/d+rEOQX2\n",
       "cQK6NEXAdd4r+KBqH9jHCOpj6ycOHdg8D8fUOUOPTn7qldDjj2UiqAOmXeZiYsqw6PZDVo54zu55\n",
       "V5qu8HnjzJtubc70ocYM1lPeI9Edfoez57gj9+k1AuPuhtfTnnc8EjBgFUEdwFWd8m6GpRgx3swu\n",
       "h4HPZmgffeGjh42acHxJ6NUFcF0EdSxWCdM0ljBE53S26nXUWPTRZ3axE9ovNSRlzIWPpmGtPGMp\n",
       "4+KjhDICl0BQx8LZCotLYfUi6ZRVSccP1s8Fp8uE92uMEz/lNeyF9I7RYi0ADY/lIqgDxs21V91S\n",
       "vc6cXHCUsetDXuN1z73+tAHn7GkbRyrH+crodT7eXOsFzAdBHYtmtWd3WWyE9Z2zViXVlDfq2klc\n",
       "4y98NCVr5Vkec4cEcEVzXsIMGIizwFSsnoDPDZr2wuZ1nFt3q+1mtFgLQeNj2QjqQAGmmnP6GqzW\n",
       "bYzVNnN/0+mcZY1zcWIzpM95aMic6wbMB0NfsHiWxkovVdf6E+6DFwLLKDeLHoT1OSx2tDNWsH71\n",
       "Qm3SIDn/iyz7uJgACOpAIWZ9QbGvlsX6jXezaKmLHe2MPq+62RSWH32ZHwIwUAqCOgATHm7stRjW\n",
       "x56K0c686W+5xNAkq8OdOl25CLIALCCoYyK2wlgpvdWllPNU1sP6ZaZifNq7Oc8Fjx62bzkBLyGk\n",
       "l9KbbrGc5gqEBSCoAzDFfli/9FSM81rw6OG1rIecJYR0AKUhqGMSFucvt1im58y9V12aYl/kk+ZP\n",
       "v97c6RZ7F4c5NaB3z7tupUtt4+HKOY4sltNimTB/TM+ICVn8rWexTMs0xTjmc0Kl/R7j6zqnTa7f\n",
       "luUE2GWwuDMslglLQFAHCmT7ZrzxTBGeWOzoPCUuerSMXcbFCFAigjomY/GksZQAjNeNttjRQg6l\n",
       "nOe86BGuy+bPjcUyYRkYo46JzXus9SUtYaz6lMYZJ1/ONIzHGn9O9dE2ha/YDL/loPEwHYI68EQp\n",
       "N5VKhPXLGnsqxvJD+6XecaIn/ZLKCukllRW4BoI6JmU3FBN+0bnMzC6Pw9PlZ4053SVDNAEdj9k8\n",
       "HjhMMSWCOgywF4rtlehl9Kqfb8h5+JJTMX4dWKfpcb/WPRpDAzr56FyF9aZPXYBn2SwVloOgDjwn\n",
       "SyL84hnXmTv9tYDldv+fsNVHn66OHnS8LJOJgWcQ1DE5eoTPRxte3/UWO/rqlYvLNAT0KZTVm24T\n",
       "bYjpMT0j8ILSpmrMB59xvHMXO+KE/ti5UzYS7s+RC/tNwM8P8BJ61GGC3ZtKC7KIDvULnc37zeac\n",
       "z+ghL39Wl3ONdXG7D+kXC28LSIULqOKlcfEACwjqMMRe0ixtSElp5Z3S7hycc1bKSSmlh2++2nzu\n",
       "lb8docRddGJw+fppr2woH/6xsDE+JpTWO221vCYLhQUiqANYpOyk1klNzrrbbrT1zdRFwhO7iygA\n",
       "WCqCOsywOvyltF7q0sp7Tbs+Mtf/OUtqnCQluUggtCi5rsd1/w7IpKWxzmrv9EvsltdqubA8BHUY\n",
       "Q8Acw5zD+vDz5+O6P22NLClJSk5qvn44jMhyanMWl1FvsRt6y0NDwg6COkyhVx2vc8P2gOumTXTe\n",
       "S95LzisFJxecXOXlaq8Us6KkyklB7FnLklx/UdXvU+e7XxS7rxLZqjh2LyyslgvLRFCHQQTiMSzy\n",
       "4mI3RGL31bluFhfffU3BK1d9YHdSVNebHiT5BTVTiWKWknfyu/3nfbfTnBt+de+++sNM2A295aEh\n",
       "YQtBHRioxOBbYpkHGVqdrD6se2Xv8ZvDqAAAEixJREFU96EuVk6HYynaS5QR43NOPnQfLjh55+X8\n",
       "rme9WxaksOUPRlBiSC+xzMA0COowZ7bhclJlt6f3Tjl7ee+7nlTtelG7r5tN0ucvWZ9vsj7fJn34\n",
       "4YPe/f1/V/i2VvVdpfD9WkpRedsobVqlTcP724XKPsiv6+5jVeunX502X5LaL1nxS1ZT5YdjQ9pf\n",
       "nDnn5ZyX92HS8o+LY3hcXEDAHoI6cIQSLyKsjvs/jutDllfwoQtdcsoHQxmaRvr4OenT2unTSlrX\n",
       "K/3u7/9PrX53q/A3H6QUu7DeRuVNo5y4PbE4zkk+SD7I1ZX8utbtr05ffnb69Dkpfkr6VGXd3e8W\n",
       "ruoOEKddWA8Hx1DxPxSSSrzeJAwDxyCow6R5hEs7SrzAeI5zXj50YSs6199a2q8C6pxycvr8JevT\n",
       "Kmtddx+/+8P/rtvfPwR1pSTFVkqkheL0QT37IHkvFyrd/uZ0+7PTl5+9fvkl61OV9OlL1scvWTEe\n",
       "3n7c3afgQ5AP/bszRf+SIfCOjfaERQR1GGYzWJYaekstt9TN4OK97/8WtL59pxSj2pSknPTb5k7e\n",
       "ZXl19xe2Ufr5c95//Pjdt5LyQ1BPUY5hA+Y9O978oFdd3isGp4+V08fK67fgtG1qZef76TeT5NWP\n",
       "X3fyPij43Rw/ruCgXmpIt1xuswXDwhHUYRa96pdSflivQq317TtlZUUnydf6bftF27ZRE7Per6Tw\n",
       "UfrXn6TffZ/14/e7k3DoJk5POuhnhVX7RY4O053rv+OyFKSYu2k2P31O+o+PTts2yVc3CquVfJPl\n",
       "YpbzlZwPClWQD6UPeyFQXoLdCwgsHUEdxtkMlaX2Tpd+8bML693whaBqddNPw1hJPmjTftG/ffzS\n",
       "BXVJwUl/+S3rw18Pz8JOymH3p8L24PI8hPUn33CSXFbMTlFZMWdtGqdNk6Qqy1VeCmv5WgphpXq1\n",
       "1mp10w952W2gTGWGSnrTgVMQ1IETlRp6S73I2HHOqa5rKfcn/ixFF5TabnhDjk4ft/fyygpOCsr6\n",
       "tH1le1LxwW3Ocj8p/otRygXFLEU5tblbydQlSdHL1UFVXcuHSlW9Uqjq4nvT7Ybd15VabmBqBHWY\n",
       "Zj9UWi7by+y36+ucc1qt1/LBK3ivpglqvFdsvCSv7CrF1Cjm2IX1XTWfSQu7kF5mSyxD7oe75H5e\n",
       "/EPOVXKhVvdOiSR5ydfyoVa9ulWoVw+PvV6RL6DckG67x7rkdsUSENSBM5QceEsu+05V1f1MMJWc\n",
       "89qq61lVDMquUc6tUmqV+qCQX6hquS2wLLv992h/uUpOtZyvJHnJBbmwUrW60frmVtUsgnrJYbLk\n",
       "sgPTI6jDvDkEStvKbtvQT9e462jdSko+KKVWObVSatQm1h6dr9D1qrtKvr9ptKrXWt3cql6tFELp\n",
       "pzlS7uVwEQH7Sv8NBkyu5AuJUsfZP+Wc03p9o+CDQgj6/9u7w+U0ji0Ko604sd//eS3fuT+wDJJt\n",
       "CSQEe59ZK1WpVKpin27E8DFp8OPj97XWWj9+PK7Hx+/rfz++/+G/8grd6+UP7cP68uW/9e9/X0++\n",
       "xnOO3pgUwvBRQp0K6TGcO9nb0vf2EocPDn5Zj4/HO+jbtq3H788/TaodZnj5E/vl3/9ehHr7z3R3\n",
       "6GaP3r237IdQh2vY1uF7nUvDYFKs//PPP+vr16/P/t23b9/uNM0nerjs0frjHx5EsPaQfO2reoBz\n",
       "CXVqpMdk+nxvaZ9/uo8eUfrTN1B2h+Bk/ZGePX/6fHAk1IFfxHqWz/78wOmvL1xSiEjgaN6nbhht\n",
       "C///9+nznWPCGqo9HAL61h/y/fV7eo92RxMiPX0N6fPBc+6ow5VNuCs9YQ21zjnae+H59JNf2nuw\n",
       "WBMCcsIaIItQp46IvA37HMzn9IYRuLdhn+nj6At8ginHR6asA3JNiccp64AsQp1KDQHZMOM5pqwD\n",
       "8kyJ24Z1NMwIvxPq1HLRvR2xDtcmHG/JXtNKqFMu++o7KXAnrQXua1KkN6wlfkD4K6FOtfwXiFmB\n",
       "O2ktcB8NYXuujrU0zAh/I9QZwFX4lsQ6vFdH2M5iw+km1KnXEI4NM15i2nrg802L9Ib1NMwIrxPq\n",
       "cCPT4nbaeuDzTAvGaeuBXEKdEVqisWXOc01bD1zftKhtWU/LnPA6oc4YLsr3cYx1DwAcHZ4Trkv3\n",
       "Yd+ZQqgzTP7VeeJd6OOL4qx1wfscngfzYrHljUfFkHAWoc4oLRHcMucltm3muuAy28lzYZKeSO+Y\n",
       "E84j1OFOpkbt1HXB26ZG4tR1QT6hzjhNodg06yWcW2dfJp9Hb1pX06xwHqHOSC7W9+fcOvsw9Tx6\n",
       "H48BEwl1Buu4ak+9q76Wc+tMN/U8+pOmO9Q1g8JFhDpjNQVi06zv4SgMs0w+6vKkaX1Ns8JlhDqj\n",
       "NV289xHra01eI3uwh6MuXeHbNCtcSqizAz1X8T3E+vQ1Mtn0oy5rtUW6awnTCXXGawvDtnnfw1EY\n",
       "uuzhqMtafWtsmxcuJ9TZhbaL+Xby96ncXafDHu6ir7XWVvdMnP+YgFBnV4qu6kWjfpS762Tay130\n",
       "E1VrrRoW3k2osxttd2/b5v2I53fX97FmUh0DfT+R3vaGpG1eeD+hzq60Xdz3FOtr/Qz2wz/deRL2\n",
       "6XD8o+068TF90ds2L3yEUGeHuq7ye4v15e46N3dyzGVXP3J9kb6zBwiEOvvTGL6NM3+U4zB8vj0e\n",
       "c3nSGel9M8PHCHV2qTF8G2e+Bt8Ow+fYa6Cv1Rm8jTPDxwl1dqvxmr/nYHV3nevY4be5PNO59sKR\n",
       "4SqEOvtVGr17j3XBzvvs+ZjLk85IP3xw5d4zwH0IdXatNXpb574Wwc75BPpBb6R3zg3XIdTZvdbo\n",
       "bZ37mgQ7fyfQj1pjt3VuuB6hDqs38cT6gWDnSKA/1xu7pWPDVf177wEgwrbWetjWWg/3nuRi27bW\n",
       "Q+ns1/YrSB62k92wL/Od/DFZ6u5Eb6Q7lw4H7qjDT813p5tn/xSbu+z78OLuuYf5RHek984O1yXU\n",
       "4URz8DbP/pkE+0SOt7yuOXSbZ4frc/QFXmg+SnKcfa3G+T/T8cV/Ww+/tsYe9fh5vEXEvaJ9j0Q6\n",
       "vCTUuZPOEG6w/dzaB3v8V08xcHxTs5a9SnR8fATcWzZn9D+dzeX2hDr8QfNd9bXWr89hVa/hBk7j\n",
       "T7SnEOeXm3AnesIa4PqcUecuGs5TN8z4lglruJWn887Pz7Pbu9s47vfzx4G3TQjchjU0zMhEQp27\n",
       "aYjIhhnfMmENtybab0Gcf9yEeGxYQ8OMTOXoC7yh/hjMmrGGe3n+An36QdS17OclHGm5rgnxOGEN\n",
       "8LmEOnfVEpAtc77GN8Jcx9/Pta9lX0893xtBdi3t3+zypCXSW+ZkKqHO3bVE8GHOe0/xMc+/7aR8\n",
       "MQF+fwF/ecd9rX3ssyi/jTnR2LGOOftNL6FOhJ5s7Jn0NS1vjhqdF+9rde7979UiZG5lUjR2LKRj\n",
       "SqYT6mTY1loF4TgpcCetJd2fA+tvAX/qlo/N61kyJxIbzYr0jrVsSp0IQp0YLeHYMuc5nFu/r7eD\n",
       "5ZyYv8Uc3MeU8+hPeiK9Y072QKgTpSWCW+Y8h3Pr2QTDXk2LxZb1tMzJXvgedXinad9PPm090Gta\n",
       "LE5bD9yOUCdOUzA2zXqObVtr84f7wJ1sh79GPf2a1tM0K3sh1InUFMBNs55lG7gmiPczEkc97ZrC\n",
       "t2lW9kSoE6spFptmPddxTbPWBVkOz7F5kdi0pqZZ2RuhDlcyNdYnrgsybCfPsUmEL1zLw+bZBAAA\n",
       "cdxRBwCAQEIdAAACCXUAAAgk1AEAIJBQBwCAQEIdAAACCXUAAAgk1AEAIJBQBwCAQEIdAAACCXUA\n",
       "AAgk1AEAIJBQBwCAQEIdAAACCXUAAAgk1AEAIJBQBwCAQEIdAAACCXUAAAgk1AEAIJBQBwCAQEId\n",
       "AAACCXUAAAgk1AEAIJBQBwCAQEIdAAACCXUAAAgk1AEAIJBQBwCAQEIdAAACCXUAAAgk1AEAIJBQ\n",
       "BwCAQEIdAAACCXUAAAgk1AEAIJBQBwCAQEIdAAACCXUAAAgk1AEAIJBQBwCAQEIdAAACCXUAAAgk\n",
       "1AEAIJBQBwCAQEIdAAACCXUAAAgk1AEAIJBQBwCAQEIdAAACCXUAAAgk1AEAIJBQBwCAQEIdAAAC\n",
       "CXUAAAgk1AEAIJBQBwCAQEIdAAACCXUAAAgk1AEAIJBQBwCAQEIdAAACCXUAAAgk1AEAIJBQBwCA\n",
       "QEIdAAACCXUAAAgk1AEAIJBQBwCAQEIdAAACCXUAAAgk1AEAIJBQBwCAQEIdAAACCXUAAAgk1AEA\n",
       "IJBQBwCAQEIdAAACCXUAAAgk1AEAIJBQBwCAQEIdAAACCXUAAAgk1AEAIJBQBwCAQEIdAAACCXUA\n",
       "AAgk1AEAIJBQBwCAQEIdAAACCXUAAAgk1AEAIJBQBwCAQEIdAAACCXUAAAgk1AEAIJBQBwCAQEId\n",
       "AAACCXUAAAgk1AEAIJBQBwCAQEIdAAACCXUAAAgk1AEAIJBQBwCAQEIdAAACCXUAAAgk1AEAIJBQ\n",
       "BwCAQEIdAAACCXUAAAgk1AEAIJBQBwCAQEIdAAACCXUAAAgk1AEAIJBQBwCAQEIdAAACCXUAAAgk\n",
       "1AEAIJBQBwCAQEIdAAACCXUAAAgk1AEAIJBQBwCAQEIdAAACCXUAAAgk1AEAIJBQBwCAQEIdAAAC\n",
       "CXUAAAgk1AEAIJBQBwCAQEIdAAACCXUAAAgk1AEAIJBQBwCAQEIdAAACCXUAAAgk1AEAIJBQBwCA\n",
       "QEIdAAACCXUAAAgk1AEAIJBQBwCAQEIdAAACCXUAAAgk1AEAIJBQBwCAQEIdAAACCXUAAAgk1AEA\n",
       "IJBQBwCAQEIdAAACCXUAAAgk1AEAIJBQBwCAQEIdAAACCXUAAAgk1AEAIJBQBwCAQEIdAAACCXUA\n",
       "AAgk1AEAIJBQBwCAQEIdAAACCXUAAAgk1AEAIJBQBwCAQEIdAAACCXUAAAgk1AEAIJBQBwCAQEId\n",
       "AAACCXUAAAgk1AEAIJBQBwCAQEIdAAACCXUAAAgk1AEAIJBQBwCAQEIdAAACCXUAAAgk1AEAIJBQ\n",
       "BwCAQEIdAAACCXUAAAgk1AEAIJBQBwCAQEIdAAACCXUAAAgk1AEAIJBQBwCAQEIdAAACCXUAAAgk\n",
       "1AEAIJBQBwCAQEIdAAACCXUAAAgk1AEAIJBQBwCAQEIdAAACCXUAAAgk1AEAIJBQBwCAQEIdAAAC\n",
       "CXUAAAgk1AEAIJBQBwCAQEIdAAACCXUAAAgk1AEAIJBQBwCAQEIdAAACCXUAAAgk1AEAIJBQBwCA\n",
       "QEIdAAACCXUAAAgk1AEAIJBQBwCAQEIdAAACCXUAAAgk1AEAIJBQBwCAQEIdAAACCXUAAAgk1AEA\n",
       "IJBQBwCAQEIdAAACCXUAAAgk1AEAIJBQBwCAQEIdAAACCXUAAAgk1AEAIJBQBwCAQEIdAAACCXUA\n",
       "AAgk1AEAIJBQBwCAQEIdAAACCXUAAAgk1AEAIJBQBwCAQEIdAAACCXUAAAgk1AEAIJBQBwCAQEId\n",
       "AAACCXUAAAgk1AEAIJBQBwCAQEIdAAACCXUAAAgk1AEAIJBQBwCAQEIdAAACCXUAAAgk1AEAIJBQ\n",
       "BwCAQEIdAAACCXUAAAgk1AEAIJBQBwCAQEIdAAACCXUAAAgk1AEAIJBQBwCAQEIdAAACCXUAAAgk\n",
       "1AEAIJBQBwCAQEIdAAACCXUAAAgk1AEAIJBQBwCAQEIdAAACCXUAAAgk1AEAIJBQBwCAQEIdAAAC\n",
       "CXUAAAgk1AEAIJBQBwCAQEIdAAACCXUAAAgk1AEAIJBQBwCAQEIdAAACCXUAAAgk1AEAIJBQBwCA\n",
       "QEIdAAACCXUAAAgk1AEAIJBQBwCAQEIdAAACCXUAAAgk1AEAIJBQBwCAQEIdAAACCXUAAAgk1AEA\n",
       "IJBQBwCAQEIdAAACCXUAAAgk1AEAIJBQBwCAQEIdAAACCXUAAAgk1AEAIJBQBwCAQEIdAAACCXUA\n",
       "AAgk1AEAIJBQBwCAQEIdAAACCXUAAAgk1AEAIJBQBwCAQEIdAAACCXUAAAgk1AEAIJBQBwCAQEId\n",
       "AAACCXUAAAgk1AEAIJBQBwCAQEIdAAACCXUAAAgk1AEAIJBQBwCAQEIdAAACCXUAAAgk1AEAIJBQ\n",
       "BwCAQEIdAAACCXUAAAgk1AEAIJBQBwCAQEIdAAACCXUAAAgk1AEAIJBQBwCAQEIdAAACCXUAAAgk\n",
       "1AEAIND/AbYAUVA/SuGwAAAAAElFTkSuQmCC\n",
       "\" transform=\"translate(1247, 292)\"/>\n",
       "</g>\n",
       "<defs>\n",
       "  <clipPath id=\"clip325\">\n",
       "    <rect x=\"2160\" y=\"292\" width=\"73\" height=\"1016\"/>\n",
       "  </clipPath>\n",
       "</defs>\n",
       "<g clip-path=\"url(#clip325)\">\n",
       "<image width=\"72\" height=\"1015\" xlink:href=\"data:image/png;base64,\n",
       "iVBORw0KGgoAAAANSUhEUgAAAEgAAAP3CAYAAACPmQh6AAAI/ElEQVR4nO3dwXHbQBBFQSw5svOP\n",
       "yIFZIhyB5x3JQ3cEqle/4MWSls6fx9d98V+Pd/8An06gIFCY81ujjTpBoCBQmPNLo406QaAgUJjz\n",
       "9Xz3z/DRLCgIFAQKc0ajjTpBoCBQmMszaKVOECgIFOY8NdqoEwQKAgXPoKBOECgIFOY8z7t/ho9m\n",
       "QUGgIFCYyzlopU4QKAgUvIsFdYJAQaAw56HRRp0gUBAoOAcFdYJAQaAw18Od9MaCgkBBoOBdLKgT\n",
       "BAoCBe9iQZ0gUBAozOUctFInCBQECnPcB60sKAgUBArug4I6QaAgUPAMCuoEgYJAwWfzwYKCQEGg\n",
       "4BwU1AkCBYGCZ1BQJwgUBAo+mw/qBIGCQMFn88GCgkBBoOBdLKgTBAoCBe9iQZ0gUBAozDnexTYW\n",
       "FAQKAgXvYkGdIFDwqhHUCQIFgYKPfYIFBYGCQME5KKgTBAoChTlHo406QaAgUPAuFiwoCBQECt7F\n",
       "gjpBoCBQ8NFzUCcIFAQK7oOCOkGgIFDwK7qCBQWBgkDBu1hQJwgUBApzeRdbqRMECgIFn80HCwoC\n",
       "BYGCz+aDOkGgIFDwuVhQJwgUBArupIM6QaAgUPDZfLCgIFAQKHgXC+oEgYJAwZ10UCcIFAQKPpsP\n",
       "FhQECgIF31EM6gSBgkDB52JBnSBQECg4BwV1gkBBoOA+KFhQECgIFHwuFtQJAgWBgu8HBXWCQEGg\n",
       "4BwU1AkCBYGCP6ceLCgIFAQKzkFBnSBQ8PWXoE4QKAgUfP0lqBMECgIFX38JFhQECgIF56CgThAo\n",
       "CBRcuQZ1gkBBoOBOOqgTBAoCBe9iQZ0gUBAouJMOFhQECgIF56CgThAoCBTcBwV1gkBBoOAcFNQJ\n",
       "AgWBgj+fFSwoCBQECt7FgjpBoCBQ8C4W1AkCBYGC70kHdYJAQaDgV5UGdYJAQaDgHBTUCQIFgcJc\n",
       "flXpyoKCQEGg4HOxoE4QKAgUvIsFdYJAQaDgs/mgThAoCBS8iwV1gkBBoOBOOlhQECgIFNwHBXWC\n",
       "QEGg4DuKQZ0gUBAoOAcFdYJAQaDgc7GgThAoCBScg4I6QaAgUPDZfFAnCBR89BwsKAgUBApeNYI6\n",
       "QaAgUHDlGtQJAgWBguuOoE4QKAgUnIOCOkGgIFBwHxTUCQIFgYJzUFAnCBQECs5BQZ0gUBAozPFn\n",
       "RFcWFAQKAgXvYkGdIFAQKHgXC+oEgYJAwTkoqBMECgIF56CgThAoCBScg4I6QaAgUPB/NYI6QaAg\n",
       "UHAOCuoEgYJAwX1QUCcIFAQKnkFBnSBQECj4PYrBgoJAQaDgHBTUCQIFgYI76aBOECgIFJyDgjpB\n",
       "oCBQcA4K6gSBgkDBOSioEwQKAgXnoKBOECgIFJyDgjpBoCBQcA4K6gSBgkDBOSioEwQK/pkP6gSB\n",
       "gkDBP/NBnSBQECj471DBgoJAQaDgHBTUCQIFgYL7oKBOECgIFDyDgjpBoCBQmNu72EqdIFAQKLiT\n",
       "DhYUBAoCBe9iQZ0gUBAozO0ZtFInCBQECnNd3sU2FhQECgKFud0HrSwoCBQECqPRTp0gUBAoOAcF\n",
       "CwoCBYHC3O6DVhYUBAoCBXfSwYKCQEGg4BwULCgIFAQKc9/v/hE+mwUFgYJAwTkoWFAQKAgUnIOC\n",
       "BQWBgkBh7ts5aGNBQaAgUHAOChYUBAoCBc+gYEFBoCBQ8AwKFhQECgIFz6BgQUGgIFCYl2fQyoKC\n",
       "QEGg4BwULCgIFAQKnkHBgoJAQaAw9+vdP8Jns6AgUPDPfLCgIFAQKLhyDRYUBAoCBa8awYKCQEGg\n",
       "4F0sWFAQKAgUPIOCBQWBgkDBu1iwoCBQECjMy0FoZUFBoCBQ8C4WLCgIFAQK3sWCBQWBgkDBOShY\n",
       "UBAoCBQ8g4IFBYGCQGFe3sVWFhQECgIF56BgQUGgIFCY20NoZUFBoCBQcA4KFhQECgIF90HBgoJA\n",
       "QaDgHBQsKAgUBAqeQcGCgkBBoOB70sGCgkBBoOD3KAYLCgIFgYJ3sWBBQaAgUJjbQWhlQUGgIFBw\n",
       "DgoWFAQKAgX3QcGCgkBBoOBzsWBBQaAgUPAuFiwoCBQECp5BwYKCQEGg4HfaBwsKAgXXHcGCgkBB\n",
       "oOBVI1hQECgIFDyDggUFgYJAwa/HCRYUBAoCBeegYEFBoCBQ8AwKFhQECgIFHz0HCwoCBYGCz+aD\n",
       "BQWBgkDBu1iwoCBQECh4BgULCgIFgYLP5oMFBYGCQME5KFhQECgIFPwp42BBQaAgUPBrAoMFBYGC\n",
       "QMFn88GCgkBBoOA+KFhQECgIFLyLBQsKAgWBgnNQsKAgUBAo+BN+wYKCQEGg4F0sWFAQKAgUvIsF\n",
       "CwoCBYGCc1CwoCBQECj4flCwoCBQECh4FwsWFAQKAgW/RzFYUBAoCBScg4IFBYGCQMF9ULCgIFAQ\n",
       "KPhcLFhQECgIFLyLBQsKAgVXrsGCgkBBoOC6I1hQECgIFFx3BAsKAgWBguuOYEFBoCBQ8AwKFhQE\n",
       "CgIFfz4rWFAQKAgU/OmaYEFBoCBQcCcdLCgIFAQK7oOCBQWBgkDBOShYUBAoCBR8RzFYUBAoCBT8\n",
       "X41gQUGgIFBwHxQsKAgUBArug4IFBYGCQMF3FIMFBYGCQMG7WLCgIFAQKLiTDhYUBAoCBeegYEFB\n",
       "oCBQcCcdLCgIFAQK7qSDBQWBgkDBu1iwoCBQECh4FwsWFAQKAgWfiwULCgIFgYJ3sWBBQaAgUPAu\n",
       "FiwoCBQECj4XCxYUBAoCBe9iwYKCQEGg4E46WFAQKLjuCBYUBAoCBc+gYEFBoCBQcOUaLCgIFAQK\n",
       "zkHBgoJAQaDgz4gGCwoCBYGCc1CwoCBQECh4BgULCgIFgYJnULCgIFAQKMzLQ2hlQUGgIFBwDgoW\n",
       "FAQKAoX58QxaWVAQKAgUnIOCBQWBgkDBMyhYUBAoCBT8t/BgQUGgIFBwHxQsKAgUBAr+z2qwoCBQ\n",
       "ECg4BwULCgIFgYI76WBBQaAgUJgfd9IrCwoCBYGCd7FgQUGgIFDwLhYsKAgUBArOQcGCgkBBoDDf\n",
       "7oNWFhQECgIF56BgQUGgIFCYb99RXFlQECgIFObbOWhlQUGgIFDwDAoWFAQKAoX56056ZUFBoPAP\n",
       "38EfROHdM9kAAAAASUVORK5CYII=\n",
       "\" transform=\"translate(2161, 292)\"/>\n",
       "</g>\n",
       "<g clip-path=\"url(#clip320)\">\n",
       "<text style=\"fill:#000000; fill-opacity:1; font-family:Arial,Helvetica Neue,Helvetica,sans-serif; font-size:89px; text-anchor:start;\" transform=\"rotate(0, 2268.76, 1225.58)\" x=\"2268.76\" y=\"1225.58\">25000</text>\n",
       "</g>\n",
       "<g clip-path=\"url(#clip320)\">\n",
       "<text style=\"fill:#000000; fill-opacity:1; font-family:Arial,Helvetica Neue,Helvetica,sans-serif; font-size:89px; text-anchor:start;\" transform=\"rotate(0, 2268.76, 1098.82)\" x=\"2268.76\" y=\"1098.82\">50000</text>\n",
       "</g>\n",
       "<g clip-path=\"url(#clip320)\">\n",
       "<text style=\"fill:#000000; fill-opacity:1; font-family:Arial,Helvetica Neue,Helvetica,sans-serif; font-size:89px; text-anchor:start;\" transform=\"rotate(0, 2268.76, 972.059)\" x=\"2268.76\" y=\"972.059\">75000</text>\n",
       "</g>\n",
       "<g clip-path=\"url(#clip320)\">\n",
       "<text style=\"fill:#000000; fill-opacity:1; font-family:Arial,Helvetica Neue,Helvetica,sans-serif; font-size:89px; text-anchor:start;\" transform=\"rotate(0, 2268.76, 845.297)\" x=\"2268.76\" y=\"845.297\">100000</text>\n",
       "</g>\n",
       "<g clip-path=\"url(#clip320)\">\n",
       "<text style=\"fill:#000000; fill-opacity:1; font-family:Arial,Helvetica Neue,Helvetica,sans-serif; font-size:89px; text-anchor:start;\" transform=\"rotate(0, 2268.76, 718.536)\" x=\"2268.76\" y=\"718.536\">125000</text>\n",
       "</g>\n",
       "<g clip-path=\"url(#clip320)\">\n",
       "<text style=\"fill:#000000; fill-opacity:1; font-family:Arial,Helvetica Neue,Helvetica,sans-serif; font-size:89px; text-anchor:start;\" transform=\"rotate(0, 2268.76, 591.774)\" x=\"2268.76\" y=\"591.774\">150000</text>\n",
       "</g>\n",
       "<g clip-path=\"url(#clip320)\">\n",
       "<text style=\"fill:#000000; fill-opacity:1; font-family:Arial,Helvetica Neue,Helvetica,sans-serif; font-size:89px; text-anchor:start;\" transform=\"rotate(0, 2268.76, 465.012)\" x=\"2268.76\" y=\"465.012\">175000</text>\n",
       "</g>\n",
       "<g clip-path=\"url(#clip320)\">\n",
       "<text style=\"fill:#000000; fill-opacity:1; font-family:Arial,Helvetica Neue,Helvetica,sans-serif; font-size:89px; text-anchor:start;\" transform=\"rotate(0, 2268.76, 338.25)\" x=\"2268.76\" y=\"338.25\">200000</text>\n",
       "</g>\n",
       "<polyline clip-path=\"url(#clip320)\" style=\"stroke:#000000; stroke-linecap:round; stroke-linejoin:round; stroke-width:4; stroke-opacity:1; fill:none\" points=\"\n",
       "  2232.76,1307.63 2232.76,1199.99 2256.76,1199.99 2232.76,1199.99 2232.76,1073.22 2256.76,1073.22 2232.76,1073.22 2232.76,946.463 2256.76,946.463 2232.76,946.463 \n",
       "  2232.76,819.701 2256.76,819.701 2232.76,819.701 2232.76,692.94 2256.76,692.94 2232.76,692.94 2232.76,566.178 2256.76,566.178 2232.76,566.178 2232.76,439.416 \n",
       "  2256.76,439.416 2232.76,439.416 2232.76,312.654 2256.76,312.654 2232.76,312.654 2232.76,292.372 \n",
       "  \"/>\n",
       "</svg>\n"
      ]
     },
     "execution_count": 18,
     "metadata": {},
     "output_type": "execute_result"
    }
   ],
   "source": [
    "xs = ys = range(-lₘₓ,lₘₓ, length=100)\n",
    "plot1 = surface(xs, ys, Ediscont, c=:diverging_bwr_40_95_c42_n256, axis = nothing, showaxis =false,aspect_ratio=:equal, camera=(0,90))\n",
    "plot2 = surface(xs, ys, C₁₁₁₁, c=:diverging_bwr_40_95_c42_n256, axis = nothing, showaxis =false,aspect_ratio=:equal,camera=(0,90))\n",
    "plot(plot1,plot2)"
   ]
  },
  {
   "cell_type": "code",
   "execution_count": 19,
   "id": "5732cbdb",
   "metadata": {},
   "outputs": [
    {
     "data": {
      "text/latex": [
       "$68000.0$"
      ],
      "text/plain": [
       "68000.0000000000"
      ]
     },
     "execution_count": 19,
     "metadata": {},
     "output_type": "execute_result"
    }
   ],
   "source": [
    "C₁₂ₘ = λₘ\n",
    "C₁₂ᵢ = λᵢ"
   ]
  },
  {
   "cell_type": "code",
   "execution_count": 20,
   "id": "5ba3f214",
   "metadata": {},
   "outputs": [
    {
     "data": {
      "text/plain": [
       "E2y (generic function with 1 method)"
      ]
     },
     "execution_count": 20,
     "metadata": {},
     "output_type": "execute_result"
    }
   ],
   "source": [
    "E2x(x,ax,bx) = sqrt(C₁₂ᵢ - C₁₂ₘ) * interval(x,ax,bx) \n",
    "E2y(y,ay,by) = sqrt(C₁₂ᵢ - C₁₂ₘ) * interval(y,ay,by) "
   ]
  },
  {
   "cell_type": "code",
   "execution_count": 21,
   "id": "5b817645",
   "metadata": {},
   "outputs": [
    {
     "data": {
      "text/latex": [
       "$39.8942280401433 \\left(- 128.508141184698 \\operatorname{sign}{\\left(x₁ - 0.577350269189626 \\right)} + 128.508141184698 \\operatorname{sign}{\\left(x₁ + 0.577350269189626 \\right)}\\right) e^{- 5000.0 \\left(x - x₁\\right)^{2}}$"
      ],
      "text/plain": [
       "                                                                              \n",
       "                                                                              \n",
       "39.8942280401433⋅(-128.508141184698⋅sign(x₁ - 0.577350269189626) + 128.5081411\n",
       "\n",
       "                                                     2\n",
       "                                     -5000.0⋅(x - x₁) \n",
       "84698⋅sign(x₁ + 0.577350269189626))⋅ℯ                 "
      ]
     },
     "execution_count": 21,
     "metadata": {},
     "output_type": "execute_result"
    }
   ],
   "source": [
    "IF2x1 = E2x(x₁,-lₙₓ,lₙₓ)*wₕ(x,x₁)\n",
    "IF2x2 = E2x(x₁,-lₐ₁ₙ,lₐ₁ₙ)*wₕ(x,x₁)"
   ]
  },
  {
   "cell_type": "code",
   "execution_count": 22,
   "id": "2f830ac8",
   "metadata": {},
   "outputs": [
    {
     "data": {
      "text/latex": [
       "$39.8942280401433 \\left(- 128.508141184698 \\operatorname{sign}{\\left(y₁ - 0.577350269189626 \\right)} + 128.508141184698 \\operatorname{sign}{\\left(y₁ - 0.288675134594813 \\right)}\\right) e^{- 5000.0 \\left(y - y₁\\right)^{2}}$"
      ],
      "text/plain": [
       "                                                                              \n",
       "                                                                              \n",
       "39.8942280401433⋅(-128.508141184698⋅sign(y₁ - 0.577350269189626) + 128.5081411\n",
       "\n",
       "                                                     2\n",
       "                                     -5000.0⋅(y - y₁) \n",
       "84698⋅sign(y₁ - 0.288675134594813))⋅ℯ                 "
      ]
     },
     "execution_count": 22,
     "metadata": {},
     "output_type": "execute_result"
    }
   ],
   "source": [
    "IF2y1 = E2y(y₁,-lₙₓ,lₙₓ)*wₕ(y,y₁)\n",
    "IF2y2 = E2y(y₁,-lₐ₁ₙ,-lₙₓ)*wₕ(y,y₁)\n",
    "IF2y3 = E2y(y₁,lₙₓ,lₐ₁ₙ)*wₕ(y,y₁)"
   ]
  },
  {
   "cell_type": "code",
   "execution_count": 23,
   "id": "f3342268",
   "metadata": {},
   "outputs": [
    {
     "data": {
      "text/latex": [
       "$\\left(- 72.502954657491 \\sqrt{\\pi} \\operatorname{erf}{\\left(70.7106781186548 x - 20.4124145231931 \\right)} + 72.502954657491 \\sqrt{\\pi} \\operatorname{erf}{\\left(70.7106781186548 x + 20.4124145231931 \\right)}\\right) \\left(- 72.502954657491 \\sqrt{\\pi} \\operatorname{erf}{\\left(70.7106781186548 y - 40.8248290463863 \\right)} + 72.502954657491 \\sqrt{\\pi} \\operatorname{erf}{\\left(70.7106781186548 y - 20.4124145231931 \\right)}\\right)$"
      ],
      "text/plain": [
       "(-72.502954657491⋅√π⋅erf(70.7106781186548⋅x - 20.4124145231931) + 72.502954657\n",
       "491⋅√π⋅erf(70.7106781186548⋅x + 20.4124145231931))⋅(-72.502954657491⋅√π⋅erf(70\n",
       ".7106781186548⋅y - 40.8248290463863) + 72.502954657491⋅√π⋅erf(70.7106781186548\n",
       "⋅y - 20.4124145231931))"
      ]
     },
     "execution_count": 23,
     "metadata": {},
     "output_type": "execute_result"
    }
   ],
   "source": [
    "smooth2E1 = integrate(IF2x2,(x₁,-lₘₓ,lₘₓ))*integrate(IF2y1,(y₁,-lₘₓ,lₘₓ))\n",
    "smooth2E2 = integrate(IF2x1,(x₁,-lₘₓ,lₘₓ))*integrate(IF2y2,(y₁,-lₘₓ,lₘₓ))\n",
    "smooth2E3 = integrate(IF2x1,(x₁,-lₘₓ,lₘₓ))*integrate(IF2y3,(y₁,-lₘₓ,lₘₓ))"
   ]
  },
  {
   "cell_type": "code",
   "execution_count": 24,
   "id": "6d010612",
   "metadata": {
    "scrolled": true
   },
   "outputs": [
    {
     "data": {
      "text/latex": [
       "$\\left(- 72.502954657491 \\sqrt{\\pi} \\operatorname{erf}{\\left(70.7106781186548 x - 40.8248290463863 \\right)} + 72.502954657491 \\sqrt{\\pi} \\operatorname{erf}{\\left(70.7106781186548 x + 40.8248290463863 \\right)}\\right) \\left(- 72.502954657491 \\sqrt{\\pi} \\operatorname{erf}{\\left(70.7106781186548 y - 20.4124145231931 \\right)} + 72.502954657491 \\sqrt{\\pi} \\operatorname{erf}{\\left(70.7106781186548 y + 20.4124145231931 \\right)}\\right) + \\left(- 72.502954657491 \\sqrt{\\pi} \\operatorname{erf}{\\left(70.7106781186548 x - 20.4124145231931 \\right)} + 72.502954657491 \\sqrt{\\pi} \\operatorname{erf}{\\left(70.7106781186548 x + 20.4124145231931 \\right)}\\right) \\left(- 72.502954657491 \\sqrt{\\pi} \\operatorname{erf}{\\left(70.7106781186548 y - 40.8248290463863 \\right)} + 72.502954657491 \\sqrt{\\pi} \\operatorname{erf}{\\left(70.7106781186548 y - 20.4124145231931 \\right)}\\right) + \\left(- 72.502954657491 \\sqrt{\\pi} \\operatorname{erf}{\\left(70.7106781186548 x - 20.4124145231931 \\right)} + 72.502954657491 \\sqrt{\\pi} \\operatorname{erf}{\\left(70.7106781186548 x + 20.4124145231931 \\right)}\\right) \\left(- 72.502954657491 \\sqrt{\\pi} \\operatorname{erf}{\\left(70.7106781186548 y + 20.4124145231931 \\right)} + 72.502954657491 \\sqrt{\\pi} \\operatorname{erf}{\\left(70.7106781186548 y + 40.8248290463863 \\right)}\\right) + 1942.63059701493$"
      ],
      "text/plain": [
       "(-72.502954657491⋅√π⋅erf(70.7106781186548⋅x - 40.8248290463863) + 72.502954657\n",
       "491⋅√π⋅erf(70.7106781186548⋅x + 40.8248290463863))⋅(-72.502954657491⋅√π⋅erf(70\n",
       ".7106781186548⋅y - 20.4124145231931) + 72.502954657491⋅√π⋅erf(70.7106781186548\n",
       "⋅y + 20.4124145231931)) + (-72.502954657491⋅√π⋅erf(70.7106781186548⋅x - 20.412\n",
       "4145231931) + 72.502954657491⋅√π⋅erf(70.7106781186548⋅x + 20.4124145231931))⋅(\n",
       "-72.502954657491⋅√π⋅erf(70.7106781186548⋅y - 40.8248290463863) + 72.5029546574\n",
       "91⋅√π⋅erf(70.7106781186548⋅y - 20.4124145231931)) + (-72.502954657491⋅√π⋅erf(7\n",
       "0.7106781186548⋅x - 20.4124145231931) + 72.502954657491⋅√π⋅erf(70.710678118654\n",
       "8⋅x + 20.4124145231931))⋅(-72.502954657491⋅√π⋅erf(70.7106781186548⋅y + 20.4124\n",
       "145231931) + 72.502954657491⋅√π⋅erf(70.7106781186548⋅y + 40.8248290463863)) + \n",
       "1942.63059701493"
      ]
     },
     "execution_count": 24,
     "metadata": {},
     "output_type": "execute_result"
    }
   ],
   "source": [
    "C₁₁₂₂ = smooth2E1 + smooth2E2 + smooth2E3 + C₁₂ₘ"
   ]
  },
  {
   "cell_type": "markdown",
   "id": "6440f8fd",
   "metadata": {},
   "source": [
    "E2discont1 = -E2x(x₁,-7.5,7.5)*E2y(y₁,-5,5)\n",
    "E2discont2 = -E2x(x₁,-5,5)*E2y(y₁,-7.5,-5)\n",
    "E2discont3 = -E2x(x₁,-5,5)*E2y(y₁,5,7.5)\n",
    "E2discont = E2discont1 + E2discont2 + E2discont3 + C₁₂ₘ"
   ]
  },
  {
   "cell_type": "markdown",
   "id": "56620146",
   "metadata": {},
   "source": [
    "xs = ys = range(-10,10, length=100)\n",
    "plot1 = surface(xs, ys, E2discont, c=:diverging_bwr_40_95_c42_n256, axis = nothing, showaxis =false,aspect_ratio=:equal, camera=(0,90))\n",
    "plot2 = surface(xs, ys, C₁₁₂₂, c=:diverging_bwr_40_95_c42_n256, axis = nothing, showaxis =false,aspect_ratio=:equal,camera=(0,90))\n",
    "plot(plot1,plot2)"
   ]
  },
  {
   "cell_type": "code",
   "execution_count": 25,
   "id": "8adcea3e",
   "metadata": {},
   "outputs": [
    {
     "data": {
      "text/latex": [
       "$136000.0$"
      ],
      "text/plain": [
       "136000.000000000"
      ]
     },
     "execution_count": 25,
     "metadata": {},
     "output_type": "execute_result"
    }
   ],
   "source": [
    "C₃₃ₘ = Gₘ\n",
    "C₃₃ᵢ = Gᵢ"
   ]
  },
  {
   "cell_type": "code",
   "execution_count": 26,
   "id": "d2b60b92",
   "metadata": {},
   "outputs": [
    {
     "data": {
      "text/plain": [
       "E3y (generic function with 1 method)"
      ]
     },
     "execution_count": 26,
     "metadata": {},
     "output_type": "execute_result"
    }
   ],
   "source": [
    "E3x(x,ax,bx) = sqrt(C₃₃ᵢ - C₃₃ₘ) * interval(x,ax,bx) \n",
    "E3y(y,ay,by) = sqrt(C₃₃ᵢ - C₃₃ₘ) * interval(y,ay,by) "
   ]
  },
  {
   "cell_type": "code",
   "execution_count": 27,
   "id": "4a7532e9",
   "metadata": {},
   "outputs": [
    {
     "data": {
      "text/latex": [
       "$39.8942280401433 \\left(- 183.147237073785 \\operatorname{sign}{\\left(x₁ - 0.577350269189626 \\right)} + 183.147237073785 \\operatorname{sign}{\\left(x₁ + 0.577350269189626 \\right)}\\right) e^{- 5000.0 \\left(x - x₁\\right)^{2}}$"
      ],
      "text/plain": [
       "                                                                              \n",
       "                                                                              \n",
       "39.8942280401433⋅(-183.147237073785⋅sign(x₁ - 0.577350269189626) + 183.1472370\n",
       "\n",
       "                                                     2\n",
       "                                     -5000.0⋅(x - x₁) \n",
       "73785⋅sign(x₁ + 0.577350269189626))⋅ℯ                 "
      ]
     },
     "execution_count": 27,
     "metadata": {},
     "output_type": "execute_result"
    }
   ],
   "source": [
    "IF3x1 = E3x(x₁,-lₙₓ,lₙₓ)*wₕ(x,x₁)\n",
    "IF3x2 = E3x(x₁,-lₐ₁ₙ,lₐ₁ₙ)*wₕ(x,x₁)"
   ]
  },
  {
   "cell_type": "code",
   "execution_count": 28,
   "id": "b13a46e5",
   "metadata": {},
   "outputs": [
    {
     "data": {
      "text/latex": [
       "$39.8942280401433 \\left(- 183.147237073785 \\operatorname{sign}{\\left(y₁ - 0.577350269189626 \\right)} + 183.147237073785 \\operatorname{sign}{\\left(y₁ - 0.288675134594813 \\right)}\\right) e^{- 5000.0 \\left(y - y₁\\right)^{2}}$"
      ],
      "text/plain": [
       "                                                                              \n",
       "                                                                              \n",
       "39.8942280401433⋅(-183.147237073785⋅sign(y₁ - 0.577350269189626) + 183.1472370\n",
       "\n",
       "                                                     2\n",
       "                                     -5000.0⋅(y - y₁) \n",
       "73785⋅sign(y₁ - 0.288675134594813))⋅ℯ                 "
      ]
     },
     "execution_count": 28,
     "metadata": {},
     "output_type": "execute_result"
    }
   ],
   "source": [
    "IF3y1 = E3y(y₁,-lₙₓ,lₙₓ)*wₕ(y,y₁)\n",
    "IF3y2 = E3y(y₁,-lₐ₁ₙ,-lₙₓ)*wₕ(y,y₁)\n",
    "IF3y3 = E3y(y₁,lₙₓ,lₐ₁ₙ)*wₕ(y,y₁)"
   ]
  },
  {
   "cell_type": "code",
   "execution_count": 29,
   "id": "22933cfa",
   "metadata": {},
   "outputs": [
    {
     "data": {
      "text/latex": [
       "$\\left(- 103.329763412581 \\sqrt{\\pi} \\operatorname{erf}{\\left(70.7106781186548 x - 20.4124145231931 \\right)} + 103.329763412581 \\sqrt{\\pi} \\operatorname{erf}{\\left(70.7106781186548 x + 20.4124145231931 \\right)}\\right) \\left(- 103.329763412581 \\sqrt{\\pi} \\operatorname{erf}{\\left(70.7106781186548 y - 40.8248290463863 \\right)} + 103.329763412581 \\sqrt{\\pi} \\operatorname{erf}{\\left(70.7106781186548 y - 20.4124145231931 \\right)}\\right)$"
      ],
      "text/plain": [
       "(-103.329763412581⋅√π⋅erf(70.7106781186548⋅x - 20.4124145231931) + 103.3297634\n",
       "12581⋅√π⋅erf(70.7106781186548⋅x + 20.4124145231931))⋅(-103.329763412581⋅√π⋅erf\n",
       "(70.7106781186548⋅y - 40.8248290463863) + 103.329763412581⋅√π⋅erf(70.710678118\n",
       "6548⋅y - 20.4124145231931))"
      ]
     },
     "execution_count": 29,
     "metadata": {},
     "output_type": "execute_result"
    }
   ],
   "source": [
    "smooth3E1 = integrate(IF3x2,(x₁,-lₘₓ,lₘₓ))*integrate(IF3y1,(y₁,-lₘₓ,lₘₓ))\n",
    "smooth3E2 = integrate(IF3x1,(x₁,-lₘₓ,lₘₓ))*integrate(IF3y2,(y₁,-lₘₓ,lₘₓ))\n",
    "smooth3E3 = integrate(IF3x1,(x₁,-lₘₓ,lₘₓ))*integrate(IF3y3,(y₁,-lₘₓ,lₘₓ))"
   ]
  },
  {
   "cell_type": "code",
   "execution_count": 30,
   "id": "ca04e4ba",
   "metadata": {
    "scrolled": true
   },
   "outputs": [
    {
     "data": {
      "text/latex": [
       "$\\left(- 103.329763412581 \\sqrt{\\pi} \\operatorname{erf}{\\left(70.7106781186548 x - 40.8248290463863 \\right)} + 103.329763412581 \\sqrt{\\pi} \\operatorname{erf}{\\left(70.7106781186548 x + 40.8248290463863 \\right)}\\right) \\left(- 103.329763412581 \\sqrt{\\pi} \\operatorname{erf}{\\left(70.7106781186548 y - 20.4124145231931 \\right)} + 103.329763412581 \\sqrt{\\pi} \\operatorname{erf}{\\left(70.7106781186548 y + 20.4124145231931 \\right)}\\right) + \\left(- 103.329763412581 \\sqrt{\\pi} \\operatorname{erf}{\\left(70.7106781186548 x - 20.4124145231931 \\right)} + 103.329763412581 \\sqrt{\\pi} \\operatorname{erf}{\\left(70.7106781186548 x + 20.4124145231931 \\right)}\\right) \\left(- 103.329763412581 \\sqrt{\\pi} \\operatorname{erf}{\\left(70.7106781186548 y - 40.8248290463863 \\right)} + 103.329763412581 \\sqrt{\\pi} \\operatorname{erf}{\\left(70.7106781186548 y - 20.4124145231931 \\right)}\\right) + \\left(- 103.329763412581 \\sqrt{\\pi} \\operatorname{erf}{\\left(70.7106781186548 x - 20.4124145231931 \\right)} + 103.329763412581 \\sqrt{\\pi} \\operatorname{erf}{\\left(70.7106781186548 x + 20.4124145231931 \\right)}\\right) \\left(- 103.329763412581 \\sqrt{\\pi} \\operatorname{erf}{\\left(70.7106781186548 y + 20.4124145231931 \\right)} + 103.329763412581 \\sqrt{\\pi} \\operatorname{erf}{\\left(70.7106781186548 y + 40.8248290463863 \\right)}\\right) + 1828.35820895522$"
      ],
      "text/plain": [
       "(-103.329763412581⋅√π⋅erf(70.7106781186548⋅x - 40.8248290463863) + 103.3297634\n",
       "12581⋅√π⋅erf(70.7106781186548⋅x + 40.8248290463863))⋅(-103.329763412581⋅√π⋅erf\n",
       "(70.7106781186548⋅y - 20.4124145231931) + 103.329763412581⋅√π⋅erf(70.710678118\n",
       "6548⋅y + 20.4124145231931)) + (-103.329763412581⋅√π⋅erf(70.7106781186548⋅x - 2\n",
       "0.4124145231931) + 103.329763412581⋅√π⋅erf(70.7106781186548⋅x + 20.41241452319\n",
       "31))⋅(-103.329763412581⋅√π⋅erf(70.7106781186548⋅y - 40.8248290463863) + 103.32\n",
       "9763412581⋅√π⋅erf(70.7106781186548⋅y - 20.4124145231931)) + (-103.329763412581\n",
       "⋅√π⋅erf(70.7106781186548⋅x - 20.4124145231931) + 103.329763412581⋅√π⋅erf(70.71\n",
       "06781186548⋅x + 20.4124145231931))⋅(-103.329763412581⋅√π⋅erf(70.7106781186548⋅\n",
       "y + 20.4124145231931) + 103.329763412581⋅√π⋅erf(70.7106781186548⋅y + 40.824829\n",
       "0463863)) + 1828.35820895522"
      ]
     },
     "execution_count": 30,
     "metadata": {},
     "output_type": "execute_result"
    }
   ],
   "source": [
    "C₃₃₃₃ = smooth3E1 + smooth3E2 + smooth3E3 + C₃₃ₘ"
   ]
  },
  {
   "cell_type": "markdown",
   "id": "6e6d53df",
   "metadata": {},
   "source": [
    "xs = ys = range(-10,10, length=100)\n",
    "plot1 = surface(xs, ys, Ediscont3, c=:diverging_bwr_40_95_c42_n256, axis = nothing, showaxis =false,aspect_ratio=:equal, camera=(0,90))\n",
    "plot2 = surface(xs, ys, smooth3E, c=:diverging_bwr_40_95_c42_n256, axis = nothing, showaxis =false,aspect_ratio=:equal,camera=(0,90))\n",
    "plot(plot1,plot2)"
   ]
  },
  {
   "cell_type": "code",
   "execution_count": 31,
   "id": "37ea79b0",
   "metadata": {},
   "outputs": [
    {
     "data": {
      "text/plain": [
       "20"
      ]
     },
     "execution_count": 31,
     "metadata": {},
     "output_type": "execute_result"
    }
   ],
   "source": [
    "d₁₁ₘ = 0\n",
    "d₁₁ᵢ = 20"
   ]
  },
  {
   "cell_type": "code",
   "execution_count": 32,
   "id": "faad1842",
   "metadata": {},
   "outputs": [
    {
     "data": {
      "text/plain": [
       "D1y (generic function with 1 method)"
      ]
     },
     "execution_count": 32,
     "metadata": {},
     "output_type": "execute_result"
    }
   ],
   "source": [
    "D1x(x,ax,bx) = sqrt(d₁₁ᵢ - d₁₁ₘ) * interval(x,ax,bx) \n",
    "D1y(y,ay,by) = sqrt(d₁₁ᵢ - d₁₁ₘ) * interval(y,ay,by) "
   ]
  },
  {
   "cell_type": "code",
   "execution_count": 33,
   "id": "d9ab5879",
   "metadata": {},
   "outputs": [
    {
     "data": {
      "text/latex": [
       "$39.8942280401433 \\left(- 2.23606797749979 \\operatorname{sign}{\\left(x₁ - 0.577350269189626 \\right)} + 2.23606797749979 \\operatorname{sign}{\\left(x₁ + 0.577350269189626 \\right)}\\right) e^{- 5000.0 \\left(x - x₁\\right)^{2}}$"
      ],
      "text/plain": [
       "                                                                              \n",
       "                                                                              \n",
       "39.8942280401433⋅(-2.23606797749979⋅sign(x₁ - 0.577350269189626) + 2.236067977\n",
       "\n",
       "                                                     2\n",
       "                                     -5000.0⋅(x - x₁) \n",
       "49979⋅sign(x₁ + 0.577350269189626))⋅ℯ                 "
      ]
     },
     "execution_count": 33,
     "metadata": {},
     "output_type": "execute_result"
    }
   ],
   "source": [
    "ID1x1 = D1x(x₁,-lₙₓ,lₙₓ)*wₕ(x,x₁)\n",
    "ID1x2 = D1x(x₁,-lₐ₁ₙ,lₐ₁ₙ)*wₕ(x,x₁)"
   ]
  },
  {
   "cell_type": "code",
   "execution_count": 34,
   "id": "c354d307",
   "metadata": {},
   "outputs": [
    {
     "data": {
      "text/latex": [
       "$39.8942280401433 \\left(- 2.23606797749979 \\operatorname{sign}{\\left(y₁ - 0.577350269189626 \\right)} + 2.23606797749979 \\operatorname{sign}{\\left(y₁ - 0.288675134594813 \\right)}\\right) e^{- 5000.0 \\left(y - y₁\\right)^{2}}$"
      ],
      "text/plain": [
       "                                                                              \n",
       "                                                                              \n",
       "39.8942280401433⋅(-2.23606797749979⋅sign(y₁ - 0.577350269189626) + 2.236067977\n",
       "\n",
       "                                                     2\n",
       "                                     -5000.0⋅(y - y₁) \n",
       "49979⋅sign(y₁ - 0.288675134594813))⋅ℯ                 "
      ]
     },
     "execution_count": 34,
     "metadata": {},
     "output_type": "execute_result"
    }
   ],
   "source": [
    "ID1y1 = D1y(y₁,-lₙₓ,lₙₓ)*wₕ(y,y₁)\n",
    "ID1y2 = D1y(y₁,-lₐ₁ₙ,-lₙₓ)*wₕ(y,y₁)\n",
    "ID1y3 = D1y(y₁,lₙₓ,lₐ₁ₙ)*wₕ(y,y₁)"
   ]
  },
  {
   "cell_type": "code",
   "execution_count": 35,
   "id": "e684c43c",
   "metadata": {},
   "outputs": [
    {
     "data": {
      "text/latex": [
       "$\\left(- 1.26156626101008 \\sqrt{\\pi} \\operatorname{erf}{\\left(70.7106781186548 x - 20.4124145231931 \\right)} + 1.26156626101008 \\sqrt{\\pi} \\operatorname{erf}{\\left(70.7106781186548 x + 20.4124145231931 \\right)}\\right) \\left(- 1.26156626101008 \\sqrt{\\pi} \\operatorname{erf}{\\left(70.7106781186548 y - 40.8248290463863 \\right)} + 1.26156626101008 \\sqrt{\\pi} \\operatorname{erf}{\\left(70.7106781186548 y - 20.4124145231931 \\right)}\\right)$"
      ],
      "text/plain": [
       "(-1.26156626101008⋅√π⋅erf(70.7106781186548⋅x - 20.4124145231931) + 1.261566261\n",
       "01008⋅√π⋅erf(70.7106781186548⋅x + 20.4124145231931))⋅(-1.26156626101008⋅√π⋅erf\n",
       "(70.7106781186548⋅y - 40.8248290463863) + 1.26156626101008⋅√π⋅erf(70.710678118\n",
       "6548⋅y - 20.4124145231931))"
      ]
     },
     "execution_count": 35,
     "metadata": {},
     "output_type": "execute_result"
    }
   ],
   "source": [
    "smooth1D1 = integrate(ID1x2,(x₁,-lₘₓ,lₘₓ))*integrate(ID1y1,(y₁,-lₘₓ,lₘₓ))\n",
    "smooth1D2 = integrate(ID1x1,(x₁,-lₘₓ,lₘₓ))*integrate(ID1y2,(y₁,-lₘₓ,lₘₓ))\n",
    "smooth1D3 = integrate(ID1x1,(x₁,-lₘₓ,lₘₓ))*integrate(ID1y3,(y₁,-lₘₓ,lₘₓ))"
   ]
  },
  {
   "cell_type": "code",
   "execution_count": 36,
   "id": "768f6c08",
   "metadata": {
    "scrolled": true
   },
   "outputs": [
    {
     "data": {
      "text/latex": [
       "$\\left(- 1.26156626101008 \\sqrt{\\pi} \\operatorname{erf}{\\left(70.7106781186548 x - 40.8248290463863 \\right)} + 1.26156626101008 \\sqrt{\\pi} \\operatorname{erf}{\\left(70.7106781186548 x + 40.8248290463863 \\right)}\\right) \\left(- 1.26156626101008 \\sqrt{\\pi} \\operatorname{erf}{\\left(70.7106781186548 y - 20.4124145231931 \\right)} + 1.26156626101008 \\sqrt{\\pi} \\operatorname{erf}{\\left(70.7106781186548 y + 20.4124145231931 \\right)}\\right) + \\left(- 1.26156626101008 \\sqrt{\\pi} \\operatorname{erf}{\\left(70.7106781186548 x - 20.4124145231931 \\right)} + 1.26156626101008 \\sqrt{\\pi} \\operatorname{erf}{\\left(70.7106781186548 x + 20.4124145231931 \\right)}\\right) \\left(- 1.26156626101008 \\sqrt{\\pi} \\operatorname{erf}{\\left(70.7106781186548 y - 40.8248290463863 \\right)} + 1.26156626101008 \\sqrt{\\pi} \\operatorname{erf}{\\left(70.7106781186548 y - 20.4124145231931 \\right)}\\right) + \\left(- 1.26156626101008 \\sqrt{\\pi} \\operatorname{erf}{\\left(70.7106781186548 x - 20.4124145231931 \\right)} + 1.26156626101008 \\sqrt{\\pi} \\operatorname{erf}{\\left(70.7106781186548 x + 20.4124145231931 \\right)}\\right) \\left(- 1.26156626101008 \\sqrt{\\pi} \\operatorname{erf}{\\left(70.7106781186548 y + 20.4124145231931 \\right)} + 1.26156626101008 \\sqrt{\\pi} \\operatorname{erf}{\\left(70.7106781186548 y + 40.8248290463863 \\right)}\\right)$"
      ],
      "text/plain": [
       "(-1.26156626101008⋅√π⋅erf(70.7106781186548⋅x - 40.8248290463863) + 1.261566261\n",
       "01008⋅√π⋅erf(70.7106781186548⋅x + 40.8248290463863))⋅(-1.26156626101008⋅√π⋅erf\n",
       "(70.7106781186548⋅y - 20.4124145231931) + 1.26156626101008⋅√π⋅erf(70.710678118\n",
       "6548⋅y + 20.4124145231931)) + (-1.26156626101008⋅√π⋅erf(70.7106781186548⋅x - 2\n",
       "0.4124145231931) + 1.26156626101008⋅√π⋅erf(70.7106781186548⋅x + 20.41241452319\n",
       "31))⋅(-1.26156626101008⋅√π⋅erf(70.7106781186548⋅y - 40.8248290463863) + 1.2615\n",
       "6626101008⋅√π⋅erf(70.7106781186548⋅y - 20.4124145231931)) + (-1.26156626101008\n",
       "⋅√π⋅erf(70.7106781186548⋅x - 20.4124145231931) + 1.26156626101008⋅√π⋅erf(70.71\n",
       "06781186548⋅x + 20.4124145231931))⋅(-1.26156626101008⋅√π⋅erf(70.7106781186548⋅\n",
       "y + 20.4124145231931) + 1.26156626101008⋅√π⋅erf(70.7106781186548⋅y + 40.824829\n",
       "0463863))"
      ]
     },
     "execution_count": 36,
     "metadata": {},
     "output_type": "execute_result"
    }
   ],
   "source": [
    "D₁₁ = smooth1D1 + smooth1D2 + smooth1D3 + d₁₁ₘ"
   ]
  },
  {
   "cell_type": "code",
   "execution_count": 37,
   "id": "3ca271e6",
   "metadata": {},
   "outputs": [
    {
     "data": {
      "text/plain": [
       "-0.9"
      ]
     },
     "execution_count": 37,
     "metadata": {},
     "output_type": "execute_result"
    }
   ],
   "source": [
    "d₁₂ₘ = 20\n",
    "d₁₂ᵢ = -0.9"
   ]
  },
  {
   "cell_type": "code",
   "execution_count": 38,
   "id": "a867c2a7",
   "metadata": {},
   "outputs": [
    {
     "data": {
      "text/plain": [
       "D22y (generic function with 1 method)"
      ]
     },
     "execution_count": 38,
     "metadata": {},
     "output_type": "execute_result"
    }
   ],
   "source": [
    "D22x(x,ax,bx) = sqrt(d₁₂ₘ - d₁₂ᵢ) * interval(x,ax,bx) \n",
    "D22y(y,ay,by) = sqrt(d₁₂ₘ - d₁₂ᵢ) * interval(y,ay,by) "
   ]
  },
  {
   "cell_type": "code",
   "execution_count": 39,
   "id": "3283d68c",
   "metadata": {},
   "outputs": [
    {
     "data": {
      "text/latex": [
       "$39.8942280401433 \\left(- 2.28582589013249 \\operatorname{sign}{\\left(x₁ - 0.577350269189626 \\right)} + 2.28582589013249 \\operatorname{sign}{\\left(x₁ + 0.577350269189626 \\right)}\\right) e^{- 5000.0 \\left(x - x₁\\right)^{2}}$"
      ],
      "text/plain": [
       "                                                                              \n",
       "                                                                              \n",
       "39.8942280401433⋅(-2.28582589013249⋅sign(x₁ - 0.577350269189626) + 2.285825890\n",
       "\n",
       "                                                     2\n",
       "                                     -5000.0⋅(x - x₁) \n",
       "13249⋅sign(x₁ + 0.577350269189626))⋅ℯ                 "
      ]
     },
     "execution_count": 39,
     "metadata": {},
     "output_type": "execute_result"
    }
   ],
   "source": [
    "ID22x1 = D22x(x₁,-lₙₓ,lₙₓ)*wₕ(x,x₁)\n",
    "ID22x2 = D22x(x₁,-lₐ₁ₙ,lₐ₁ₙ)*wₕ(x,x₁)"
   ]
  },
  {
   "cell_type": "code",
   "execution_count": 40,
   "id": "431a91b8",
   "metadata": {},
   "outputs": [
    {
     "data": {
      "text/latex": [
       "$39.8942280401433 \\left(- 2.28582589013249 \\operatorname{sign}{\\left(y₁ - 0.577350269189626 \\right)} + 2.28582589013249 \\operatorname{sign}{\\left(y₁ - 0.288675134594813 \\right)}\\right) e^{- 5000.0 \\left(y - y₁\\right)^{2}}$"
      ],
      "text/plain": [
       "                                                                              \n",
       "                                                                              \n",
       "39.8942280401433⋅(-2.28582589013249⋅sign(y₁ - 0.577350269189626) + 2.285825890\n",
       "\n",
       "                                                     2\n",
       "                                     -5000.0⋅(y - y₁) \n",
       "13249⋅sign(y₁ - 0.288675134594813))⋅ℯ                 "
      ]
     },
     "execution_count": 40,
     "metadata": {},
     "output_type": "execute_result"
    }
   ],
   "source": [
    "ID22y1 = D22y(y₁,-lₙₓ,lₙₓ)*wₕ(y,y₁)\n",
    "ID22y2 = D22y(y₁,-lₐ₁ₙ,-lₙₓ)*wₕ(y,y₁)\n",
    "ID22y3 = D22y(y₁,lₙₓ,lₐ₁ₙ)*wₕ(y,y₁)"
   ]
  },
  {
   "cell_type": "code",
   "execution_count": 41,
   "id": "7e14ab5d",
   "metadata": {},
   "outputs": [
    {
     "data": {
      "text/latex": [
       "$\\left(1.28963915701653 \\sqrt{\\pi} \\operatorname{erf}{\\left(70.7106781186548 x - 20.4124145231931 \\right)} - 1.28963915701653 \\sqrt{\\pi} \\operatorname{erf}{\\left(70.7106781186548 x + 20.4124145231931 \\right)}\\right) \\left(- 1.28963915701653 \\sqrt{\\pi} \\operatorname{erf}{\\left(70.7106781186548 y - 40.8248290463863 \\right)} + 1.28963915701653 \\sqrt{\\pi} \\operatorname{erf}{\\left(70.7106781186548 y - 20.4124145231931 \\right)}\\right)$"
      ],
      "text/plain": [
       "(1.28963915701653⋅√π⋅erf(70.7106781186548⋅x - 20.4124145231931) - 1.2896391570\n",
       "1653⋅√π⋅erf(70.7106781186548⋅x + 20.4124145231931))⋅(-1.28963915701653⋅√π⋅erf(\n",
       "70.7106781186548⋅y - 40.8248290463863) + 1.28963915701653⋅√π⋅erf(70.7106781186\n",
       "548⋅y - 20.4124145231931))"
      ]
     },
     "execution_count": 41,
     "metadata": {},
     "output_type": "execute_result"
    }
   ],
   "source": [
    "smooth22D1 = -integrate(ID22x2,(x₁,-lₘₓ,lₘₓ))*integrate(ID22y1,(y₁,-lₘₓ,lₘₓ))\n",
    "smooth22D2 = -integrate(ID22x1,(x₁,-lₘₓ,lₘₓ))*integrate(ID22y2,(y₁,-lₘₓ,lₘₓ))\n",
    "smooth22D3 = -integrate(ID22x1,(x₁,-lₘₓ,lₘₓ))*integrate(ID22y3,(y₁,-lₘₓ,lₘₓ))"
   ]
  },
  {
   "cell_type": "code",
   "execution_count": 42,
   "id": "1d56fbce",
   "metadata": {
    "scrolled": true
   },
   "outputs": [
    {
     "data": {
      "text/latex": [
       "$\\left(1.28963915701653 \\sqrt{\\pi} \\operatorname{erf}{\\left(70.7106781186548 x - 40.8248290463863 \\right)} - 1.28963915701653 \\sqrt{\\pi} \\operatorname{erf}{\\left(70.7106781186548 x + 40.8248290463863 \\right)}\\right) \\left(- 1.28963915701653 \\sqrt{\\pi} \\operatorname{erf}{\\left(70.7106781186548 y - 20.4124145231931 \\right)} + 1.28963915701653 \\sqrt{\\pi} \\operatorname{erf}{\\left(70.7106781186548 y + 20.4124145231931 \\right)}\\right) + \\left(1.28963915701653 \\sqrt{\\pi} \\operatorname{erf}{\\left(70.7106781186548 x - 20.4124145231931 \\right)} - 1.28963915701653 \\sqrt{\\pi} \\operatorname{erf}{\\left(70.7106781186548 x + 20.4124145231931 \\right)}\\right) \\left(- 1.28963915701653 \\sqrt{\\pi} \\operatorname{erf}{\\left(70.7106781186548 y - 40.8248290463863 \\right)} + 1.28963915701653 \\sqrt{\\pi} \\operatorname{erf}{\\left(70.7106781186548 y - 20.4124145231931 \\right)}\\right) + \\left(1.28963915701653 \\sqrt{\\pi} \\operatorname{erf}{\\left(70.7106781186548 x - 20.4124145231931 \\right)} - 1.28963915701653 \\sqrt{\\pi} \\operatorname{erf}{\\left(70.7106781186548 x + 20.4124145231931 \\right)}\\right) \\left(- 1.28963915701653 \\sqrt{\\pi} \\operatorname{erf}{\\left(70.7106781186548 y + 20.4124145231931 \\right)} + 1.28963915701653 \\sqrt{\\pi} \\operatorname{erf}{\\left(70.7106781186548 y + 40.8248290463863 \\right)}\\right) + 20$"
      ],
      "text/plain": [
       "(1.28963915701653⋅√π⋅erf(70.7106781186548⋅x - 40.8248290463863) - 1.2896391570\n",
       "1653⋅√π⋅erf(70.7106781186548⋅x + 40.8248290463863))⋅(-1.28963915701653⋅√π⋅erf(\n",
       "70.7106781186548⋅y - 20.4124145231931) + 1.28963915701653⋅√π⋅erf(70.7106781186\n",
       "548⋅y + 20.4124145231931)) + (1.28963915701653⋅√π⋅erf(70.7106781186548⋅x - 20.\n",
       "4124145231931) - 1.28963915701653⋅√π⋅erf(70.7106781186548⋅x + 20.4124145231931\n",
       "))⋅(-1.28963915701653⋅√π⋅erf(70.7106781186548⋅y - 40.8248290463863) + 1.289639\n",
       "15701653⋅√π⋅erf(70.7106781186548⋅y - 20.4124145231931)) + (1.28963915701653⋅√π\n",
       "⋅erf(70.7106781186548⋅x - 20.4124145231931) - 1.28963915701653⋅√π⋅erf(70.71067\n",
       "81186548⋅x + 20.4124145231931))⋅(-1.28963915701653⋅√π⋅erf(70.7106781186548⋅y +\n",
       " 20.4124145231931) + 1.28963915701653⋅√π⋅erf(70.7106781186548⋅y + 40.824829046\n",
       "3863)) + 20"
      ]
     },
     "execution_count": 42,
     "metadata": {},
     "output_type": "execute_result"
    }
   ],
   "source": [
    "D₂₁ = smooth22D1 + smooth22D2 + smooth22D3 + d₁₂ₘ"
   ]
  },
  {
   "cell_type": "code",
   "execution_count": 43,
   "id": "56f25fe1",
   "metadata": {},
   "outputs": [
    {
     "data": {
      "text/plain": [
       "-0.9"
      ]
     },
     "execution_count": 43,
     "metadata": {},
     "output_type": "execute_result"
    }
   ],
   "source": [
    "d₂₂ₘ = 3\n",
    "d₂₂ᵢ = -0.9"
   ]
  },
  {
   "cell_type": "code",
   "execution_count": 44,
   "id": "d4d3ea09",
   "metadata": {},
   "outputs": [
    {
     "data": {
      "text/plain": [
       "D2y (generic function with 1 method)"
      ]
     },
     "execution_count": 44,
     "metadata": {},
     "output_type": "execute_result"
    }
   ],
   "source": [
    "D2x(x,ax,bx) = sqrt(d₂₂ₘ - d₂₂ᵢ) * interval(x,ax,bx) \n",
    "D2y(y,ay,by) = sqrt(d₂₂ₘ - d₂₂ᵢ) * interval(y,ay,by) "
   ]
  },
  {
   "cell_type": "code",
   "execution_count": 45,
   "id": "0b31a78d",
   "metadata": {},
   "outputs": [
    {
     "data": {
      "text/latex": [
       "$39.8942280401433 \\left(- 0.987420882906575 \\operatorname{sign}{\\left(x₁ - 0.577350269189626 \\right)} + 0.987420882906575 \\operatorname{sign}{\\left(x₁ + 0.577350269189626 \\right)}\\right) e^{- 5000.0 \\left(x - x₁\\right)^{2}}$"
      ],
      "text/plain": [
       "                                                                              \n",
       "                                                                              \n",
       "39.8942280401433⋅(-0.987420882906575⋅sign(x₁ - 0.577350269189626) + 0.98742088\n",
       "\n",
       "                                                       2\n",
       "                                       -5000.0⋅(x - x₁) \n",
       "2906575⋅sign(x₁ + 0.577350269189626))⋅ℯ                 "
      ]
     },
     "execution_count": 45,
     "metadata": {},
     "output_type": "execute_result"
    }
   ],
   "source": [
    "ID2x1 = D2x(x₁,-lₙₓ,lₙₓ)*wₕ(x,x₁)\n",
    "ID2x2 = D2x(x₁,-lₐ₁ₙ,lₐ₁ₙ)*wₕ(x,x₁)"
   ]
  },
  {
   "cell_type": "code",
   "execution_count": 46,
   "id": "a35cd986",
   "metadata": {},
   "outputs": [
    {
     "data": {
      "text/latex": [
       "$39.8942280401433 \\left(- 0.987420882906575 \\operatorname{sign}{\\left(y₁ - 0.577350269189626 \\right)} + 0.987420882906575 \\operatorname{sign}{\\left(y₁ - 0.288675134594813 \\right)}\\right) e^{- 5000.0 \\left(y - y₁\\right)^{2}}$"
      ],
      "text/plain": [
       "                                                                              \n",
       "                                                                              \n",
       "39.8942280401433⋅(-0.987420882906575⋅sign(y₁ - 0.577350269189626) + 0.98742088\n",
       "\n",
       "                                                       2\n",
       "                                       -5000.0⋅(y - y₁) \n",
       "2906575⋅sign(y₁ - 0.288675134594813))⋅ℯ                 "
      ]
     },
     "execution_count": 46,
     "metadata": {},
     "output_type": "execute_result"
    }
   ],
   "source": [
    "ID2y1 = D2y(y₁,-lₙₓ,lₙₓ)*wₕ(y,y₁)\n",
    "ID2y2 = D2y(y₁,-lₐ₁ₙ,-lₙₓ)*wₕ(y,y₁)\n",
    "ID2y3 = D2y(y₁,lₙₓ,lₐ₁ₙ)*wₕ(y,y₁)"
   ]
  },
  {
   "cell_type": "code",
   "execution_count": 47,
   "id": "55880fae",
   "metadata": {},
   "outputs": [
    {
     "data": {
      "text/latex": [
       "$\\left(0.557092576713418 \\sqrt{\\pi} \\operatorname{erf}{\\left(70.7106781186548 x - 20.4124145231931 \\right)} - 0.557092576713418 \\sqrt{\\pi} \\operatorname{erf}{\\left(70.7106781186548 x + 20.4124145231931 \\right)}\\right) \\left(- 0.557092576713418 \\sqrt{\\pi} \\operatorname{erf}{\\left(70.7106781186548 y - 40.8248290463863 \\right)} + 0.557092576713418 \\sqrt{\\pi} \\operatorname{erf}{\\left(70.7106781186548 y - 20.4124145231931 \\right)}\\right)$"
      ],
      "text/plain": [
       "(0.557092576713418⋅√π⋅erf(70.7106781186548⋅x - 20.4124145231931) - 0.557092576\n",
       "713418⋅√π⋅erf(70.7106781186548⋅x + 20.4124145231931))⋅(-0.557092576713418⋅√π⋅e\n",
       "rf(70.7106781186548⋅y - 40.8248290463863) + 0.557092576713418⋅√π⋅erf(70.710678\n",
       "1186548⋅y - 20.4124145231931))"
      ]
     },
     "execution_count": 47,
     "metadata": {},
     "output_type": "execute_result"
    }
   ],
   "source": [
    "smooth2D1 = -integrate(ID2x2,(x₁,-lₘₓ,lₘₓ))*integrate(ID2y1,(y₁,-lₘₓ,lₘₓ))\n",
    "smooth2D2 = -integrate(ID2x1,(x₁,-lₘₓ,lₘₓ))*integrate(ID2y2,(y₁,-lₘₓ,lₘₓ))\n",
    "smooth2D3 = -integrate(ID2x1,(x₁,-lₘₓ,lₘₓ))*integrate(ID2y3,(y₁,-lₘₓ,lₘₓ))"
   ]
  },
  {
   "cell_type": "code",
   "execution_count": 48,
   "id": "60e6ce7f",
   "metadata": {
    "scrolled": true
   },
   "outputs": [
    {
     "data": {
      "text/latex": [
       "$\\left(0.557092576713418 \\sqrt{\\pi} \\operatorname{erf}{\\left(70.7106781186548 x - 40.8248290463863 \\right)} - 0.557092576713418 \\sqrt{\\pi} \\operatorname{erf}{\\left(70.7106781186548 x + 40.8248290463863 \\right)}\\right) \\left(- 0.557092576713418 \\sqrt{\\pi} \\operatorname{erf}{\\left(70.7106781186548 y - 20.4124145231931 \\right)} + 0.557092576713418 \\sqrt{\\pi} \\operatorname{erf}{\\left(70.7106781186548 y + 20.4124145231931 \\right)}\\right) + \\left(0.557092576713418 \\sqrt{\\pi} \\operatorname{erf}{\\left(70.7106781186548 x - 20.4124145231931 \\right)} - 0.557092576713418 \\sqrt{\\pi} \\operatorname{erf}{\\left(70.7106781186548 x + 20.4124145231931 \\right)}\\right) \\left(- 0.557092576713418 \\sqrt{\\pi} \\operatorname{erf}{\\left(70.7106781186548 y - 40.8248290463863 \\right)} + 0.557092576713418 \\sqrt{\\pi} \\operatorname{erf}{\\left(70.7106781186548 y - 20.4124145231931 \\right)}\\right) + \\left(0.557092576713418 \\sqrt{\\pi} \\operatorname{erf}{\\left(70.7106781186548 x - 20.4124145231931 \\right)} - 0.557092576713418 \\sqrt{\\pi} \\operatorname{erf}{\\left(70.7106781186548 x + 20.4124145231931 \\right)}\\right) \\left(- 0.557092576713418 \\sqrt{\\pi} \\operatorname{erf}{\\left(70.7106781186548 y + 20.4124145231931 \\right)} + 0.557092576713418 \\sqrt{\\pi} \\operatorname{erf}{\\left(70.7106781186548 y + 40.8248290463863 \\right)}\\right) + 3$"
      ],
      "text/plain": [
       "(0.557092576713418⋅√π⋅erf(70.7106781186548⋅x - 40.8248290463863) - 0.557092576\n",
       "713418⋅√π⋅erf(70.7106781186548⋅x + 40.8248290463863))⋅(-0.557092576713418⋅√π⋅e\n",
       "rf(70.7106781186548⋅y - 20.4124145231931) + 0.557092576713418⋅√π⋅erf(70.710678\n",
       "1186548⋅y + 20.4124145231931)) + (0.557092576713418⋅√π⋅erf(70.7106781186548⋅x \n",
       "- 20.4124145231931) - 0.557092576713418⋅√π⋅erf(70.7106781186548⋅x + 20.4124145\n",
       "231931))⋅(-0.557092576713418⋅√π⋅erf(70.7106781186548⋅y - 40.8248290463863) + 0\n",
       ".557092576713418⋅√π⋅erf(70.7106781186548⋅y - 20.4124145231931)) + (0.557092576\n",
       "713418⋅√π⋅erf(70.7106781186548⋅x - 20.4124145231931) - 0.557092576713418⋅√π⋅er\n",
       "f(70.7106781186548⋅x + 20.4124145231931))⋅(-0.557092576713418⋅√π⋅erf(70.710678\n",
       "1186548⋅y + 20.4124145231931) + 0.557092576713418⋅√π⋅erf(70.7106781186548⋅y + \n",
       "40.8248290463863)) + 3"
      ]
     },
     "execution_count": 48,
     "metadata": {},
     "output_type": "execute_result"
    }
   ],
   "source": [
    "D₂₂ = smooth2D1 + smooth2D2 + smooth2D3 + d₂₂ₘ"
   ]
  },
  {
   "cell_type": "code",
   "execution_count": 49,
   "id": "4aacff27",
   "metadata": {},
   "outputs": [
    {
     "data": {
      "text/plain": [
       "6"
      ]
     },
     "execution_count": 49,
     "metadata": {},
     "output_type": "execute_result"
    }
   ],
   "source": [
    "d₂₃ₘ = -46\n",
    "d₂₃ᵢ = 6"
   ]
  },
  {
   "cell_type": "code",
   "execution_count": 50,
   "id": "4f3c6153",
   "metadata": {},
   "outputs": [
    {
     "data": {
      "text/plain": [
       "D3y (generic function with 1 method)"
      ]
     },
     "execution_count": 50,
     "metadata": {},
     "output_type": "execute_result"
    }
   ],
   "source": [
    "D3x(x,ax,bx) = sqrt(d₂₃ᵢ - d₂₃ₘ) * interval(x,ax,bx) \n",
    "D3y(y,ay,by) = sqrt(d₂₃ᵢ - d₂₃ₘ) * interval(y,ay,by) "
   ]
  },
  {
   "cell_type": "code",
   "execution_count": 51,
   "id": "0a498bb5",
   "metadata": {},
   "outputs": [
    {
     "data": {
      "text/latex": [
       "$39.8942280401433 \\left(- 3.60555127546399 \\operatorname{sign}{\\left(x₁ - 0.577350269189626 \\right)} + 3.60555127546399 \\operatorname{sign}{\\left(x₁ + 0.577350269189626 \\right)}\\right) e^{- 5000.0 \\left(x - x₁\\right)^{2}}$"
      ],
      "text/plain": [
       "                                                                              \n",
       "                                                                              \n",
       "39.8942280401433⋅(-3.60555127546399⋅sign(x₁ - 0.577350269189626) + 3.605551275\n",
       "\n",
       "                                                     2\n",
       "                                     -5000.0⋅(x - x₁) \n",
       "46399⋅sign(x₁ + 0.577350269189626))⋅ℯ                 "
      ]
     },
     "execution_count": 51,
     "metadata": {},
     "output_type": "execute_result"
    }
   ],
   "source": [
    "ID3x1 = D3x(x₁,-lₙₓ,lₙₓ)*wₕ(x,x₁)\n",
    "ID3x2 = D3x(x₁,-lₐ₁ₙ,lₐ₁ₙ)*wₕ(x,x₁)"
   ]
  },
  {
   "cell_type": "code",
   "execution_count": 52,
   "id": "78087a6a",
   "metadata": {},
   "outputs": [
    {
     "data": {
      "text/latex": [
       "$39.8942280401433 \\left(- 3.60555127546399 \\operatorname{sign}{\\left(y₁ - 0.577350269189626 \\right)} + 3.60555127546399 \\operatorname{sign}{\\left(y₁ - 0.288675134594813 \\right)}\\right) e^{- 5000.0 \\left(y - y₁\\right)^{2}}$"
      ],
      "text/plain": [
       "                                                                              \n",
       "                                                                              \n",
       "39.8942280401433⋅(-3.60555127546399⋅sign(y₁ - 0.577350269189626) + 3.605551275\n",
       "\n",
       "                                                     2\n",
       "                                     -5000.0⋅(y - y₁) \n",
       "46399⋅sign(y₁ - 0.288675134594813))⋅ℯ                 "
      ]
     },
     "execution_count": 52,
     "metadata": {},
     "output_type": "execute_result"
    }
   ],
   "source": [
    "ID3y1 = D3y(y₁,-lₙₓ,lₙₓ)*wₕ(y,y₁)\n",
    "ID3y2 = D3y(y₁,-lₐ₁ₙ,-lₙₓ)*wₕ(y,y₁)\n",
    "ID3y3 = D3y(y₁,lₙₓ,lₐ₁ₙ)*wₕ(y,y₁)"
   ]
  },
  {
   "cell_type": "code",
   "execution_count": 53,
   "id": "d2c07d1f",
   "metadata": {},
   "outputs": [
    {
     "data": {
      "text/latex": [
       "$\\left(- 2.03421447256411 \\sqrt{\\pi} \\operatorname{erf}{\\left(70.7106781186548 x - 20.4124145231931 \\right)} + 2.03421447256411 \\sqrt{\\pi} \\operatorname{erf}{\\left(70.7106781186548 x + 20.4124145231931 \\right)}\\right) \\left(- 2.03421447256411 \\sqrt{\\pi} \\operatorname{erf}{\\left(70.7106781186548 y - 40.8248290463863 \\right)} + 2.03421447256411 \\sqrt{\\pi} \\operatorname{erf}{\\left(70.7106781186548 y - 20.4124145231931 \\right)}\\right)$"
      ],
      "text/plain": [
       "(-2.03421447256411⋅√π⋅erf(70.7106781186548⋅x - 20.4124145231931) + 2.034214472\n",
       "56411⋅√π⋅erf(70.7106781186548⋅x + 20.4124145231931))⋅(-2.03421447256411⋅√π⋅erf\n",
       "(70.7106781186548⋅y - 40.8248290463863) + 2.03421447256411⋅√π⋅erf(70.710678118\n",
       "6548⋅y - 20.4124145231931))"
      ]
     },
     "execution_count": 53,
     "metadata": {},
     "output_type": "execute_result"
    }
   ],
   "source": [
    "smooth3D1 = integrate(ID3x2,(x₁,-lₘₓ,lₘₓ))*integrate(ID3y1,(y₁,-lₘₓ,lₘₓ))\n",
    "smooth3D2 = integrate(ID3x1,(x₁,-lₘₓ,lₘₓ))*integrate(ID3y2,(y₁,-lₘₓ,lₘₓ))\n",
    "smooth3D3 = integrate(ID3x1,(x₁,-lₘₓ,lₘₓ))*integrate(ID3y3,(y₁,-lₘₓ,lₘₓ))"
   ]
  },
  {
   "cell_type": "code",
   "execution_count": 54,
   "id": "ec70b721",
   "metadata": {
    "scrolled": true
   },
   "outputs": [
    {
     "data": {
      "text/latex": [
       "$\\left(- 2.03421447256411 \\sqrt{\\pi} \\operatorname{erf}{\\left(70.7106781186548 x - 40.8248290463863 \\right)} + 2.03421447256411 \\sqrt{\\pi} \\operatorname{erf}{\\left(70.7106781186548 x + 40.8248290463863 \\right)}\\right) \\left(- 2.03421447256411 \\sqrt{\\pi} \\operatorname{erf}{\\left(70.7106781186548 y - 20.4124145231931 \\right)} + 2.03421447256411 \\sqrt{\\pi} \\operatorname{erf}{\\left(70.7106781186548 y + 20.4124145231931 \\right)}\\right) + \\left(- 2.03421447256411 \\sqrt{\\pi} \\operatorname{erf}{\\left(70.7106781186548 x - 20.4124145231931 \\right)} + 2.03421447256411 \\sqrt{\\pi} \\operatorname{erf}{\\left(70.7106781186548 x + 20.4124145231931 \\right)}\\right) \\left(- 2.03421447256411 \\sqrt{\\pi} \\operatorname{erf}{\\left(70.7106781186548 y - 40.8248290463863 \\right)} + 2.03421447256411 \\sqrt{\\pi} \\operatorname{erf}{\\left(70.7106781186548 y - 20.4124145231931 \\right)}\\right) + \\left(- 2.03421447256411 \\sqrt{\\pi} \\operatorname{erf}{\\left(70.7106781186548 x - 20.4124145231931 \\right)} + 2.03421447256411 \\sqrt{\\pi} \\operatorname{erf}{\\left(70.7106781186548 x + 20.4124145231931 \\right)}\\right) \\left(- 2.03421447256411 \\sqrt{\\pi} \\operatorname{erf}{\\left(70.7106781186548 y + 20.4124145231931 \\right)} + 2.03421447256411 \\sqrt{\\pi} \\operatorname{erf}{\\left(70.7106781186548 y + 40.8248290463863 \\right)}\\right) - 46$"
      ],
      "text/plain": [
       "(-2.03421447256411⋅√π⋅erf(70.7106781186548⋅x - 40.8248290463863) + 2.034214472\n",
       "56411⋅√π⋅erf(70.7106781186548⋅x + 40.8248290463863))⋅(-2.03421447256411⋅√π⋅erf\n",
       "(70.7106781186548⋅y - 20.4124145231931) + 2.03421447256411⋅√π⋅erf(70.710678118\n",
       "6548⋅y + 20.4124145231931)) + (-2.03421447256411⋅√π⋅erf(70.7106781186548⋅x - 2\n",
       "0.4124145231931) + 2.03421447256411⋅√π⋅erf(70.7106781186548⋅x + 20.41241452319\n",
       "31))⋅(-2.03421447256411⋅√π⋅erf(70.7106781186548⋅y - 40.8248290463863) + 2.0342\n",
       "1447256411⋅√π⋅erf(70.7106781186548⋅y - 20.4124145231931)) + (-2.03421447256411\n",
       "⋅√π⋅erf(70.7106781186548⋅x - 20.4124145231931) + 2.03421447256411⋅√π⋅erf(70.71\n",
       "06781186548⋅x + 20.4124145231931))⋅(-2.03421447256411⋅√π⋅erf(70.7106781186548⋅\n",
       "y + 20.4124145231931) + 2.03421447256411⋅√π⋅erf(70.7106781186548⋅y + 40.824829\n",
       "0463863)) - 46"
      ]
     },
     "execution_count": 54,
     "metadata": {},
     "output_type": "execute_result"
    }
   ],
   "source": [
    "D₂₃ = smooth3D1 + smooth3D2 + smooth3D3 + d₂₃ₘ"
   ]
  },
  {
   "cell_type": "code",
   "execution_count": 55,
   "id": "52db8130",
   "metadata": {},
   "outputs": [
    {
     "data": {
      "text/plain": [
       "384.975"
      ]
     },
     "execution_count": 55,
     "metadata": {},
     "output_type": "execute_result"
    }
   ],
   "source": [
    "a₁₁ₘ = 79.65\n",
    "a₁₁ᵢ = 384.975"
   ]
  },
  {
   "cell_type": "code",
   "execution_count": 56,
   "id": "a4c1a580",
   "metadata": {},
   "outputs": [
    {
     "data": {
      "text/plain": [
       "A1y (generic function with 1 method)"
      ]
     },
     "execution_count": 56,
     "metadata": {},
     "output_type": "execute_result"
    }
   ],
   "source": [
    "A1x(x,ax,bx) = sqrt(a₁₁ᵢ - a₁₁ₘ) * interval(x,ax,bx) \n",
    "A1y(y,ay,by) = sqrt(a₁₁ᵢ - a₁₁ₘ) * interval(y,ay,by) "
   ]
  },
  {
   "cell_type": "code",
   "execution_count": 57,
   "id": "ab0e0a52",
   "metadata": {},
   "outputs": [
    {
     "data": {
      "text/latex": [
       "$39.8942280401433 \\left(- 8.73677572105408 \\operatorname{sign}{\\left(x₁ - 0.577350269189626 \\right)} + 8.73677572105408 \\operatorname{sign}{\\left(x₁ + 0.577350269189626 \\right)}\\right) e^{- 5000.0 \\left(x - x₁\\right)^{2}}$"
      ],
      "text/plain": [
       "                                                                              \n",
       "                                                                              \n",
       "39.8942280401433⋅(-8.73677572105408⋅sign(x₁ - 0.577350269189626) + 8.736775721\n",
       "\n",
       "                                                     2\n",
       "                                     -5000.0⋅(x - x₁) \n",
       "05408⋅sign(x₁ + 0.577350269189626))⋅ℯ                 "
      ]
     },
     "execution_count": 57,
     "metadata": {},
     "output_type": "execute_result"
    }
   ],
   "source": [
    "IA1x1 = A1x(x₁,-lₙₓ,lₙₓ)*wₕ(x,x₁)\n",
    "IA1x2 = A1x(x₁,-lₐ₁ₙ,lₐ₁ₙ)*wₕ(x,x₁)"
   ]
  },
  {
   "cell_type": "code",
   "execution_count": 58,
   "id": "f5e9bc23",
   "metadata": {},
   "outputs": [
    {
     "data": {
      "text/latex": [
       "$39.8942280401433 \\left(- 8.73677572105408 \\operatorname{sign}{\\left(y₁ - 0.577350269189626 \\right)} + 8.73677572105408 \\operatorname{sign}{\\left(y₁ - 0.288675134594813 \\right)}\\right) e^{- 5000.0 \\left(y - y₁\\right)^{2}}$"
      ],
      "text/plain": [
       "                                                                              \n",
       "                                                                              \n",
       "39.8942280401433⋅(-8.73677572105408⋅sign(y₁ - 0.577350269189626) + 8.736775721\n",
       "\n",
       "                                                     2\n",
       "                                     -5000.0⋅(y - y₁) \n",
       "05408⋅sign(y₁ - 0.288675134594813))⋅ℯ                 "
      ]
     },
     "execution_count": 58,
     "metadata": {},
     "output_type": "execute_result"
    }
   ],
   "source": [
    "IA1y1 = A1y(y₁,-lₙₓ,lₙₓ)*wₕ(y,y₁)\n",
    "IA1y2 = A1y(y₁,-lₐ₁ₙ,-lₙₓ)*wₕ(y,y₁)\n",
    "IA1y3 = A1y(y₁,lₙₓ,lₐ₁ₙ)*wₕ(y,y₁)"
   ]
  },
  {
   "cell_type": "code",
   "execution_count": 59,
   "id": "0e7bc14f",
   "metadata": {},
   "outputs": [
    {
     "data": {
      "text/latex": [
       "$\\left(- 4.92919785561165 \\sqrt{\\pi} \\operatorname{erf}{\\left(70.7106781186548 x - 20.4124145231931 \\right)} + 4.92919785561165 \\sqrt{\\pi} \\operatorname{erf}{\\left(70.7106781186548 x + 20.4124145231931 \\right)}\\right) \\left(- 4.92919785561165 \\sqrt{\\pi} \\operatorname{erf}{\\left(70.7106781186548 y - 40.8248290463863 \\right)} + 4.92919785561165 \\sqrt{\\pi} \\operatorname{erf}{\\left(70.7106781186548 y - 20.4124145231931 \\right)}\\right)$"
      ],
      "text/plain": [
       "(-4.92919785561165⋅√π⋅erf(70.7106781186548⋅x - 20.4124145231931) + 4.929197855\n",
       "61165⋅√π⋅erf(70.7106781186548⋅x + 20.4124145231931))⋅(-4.92919785561165⋅√π⋅erf\n",
       "(70.7106781186548⋅y - 40.8248290463863) + 4.92919785561165⋅√π⋅erf(70.710678118\n",
       "6548⋅y - 20.4124145231931))"
      ]
     },
     "execution_count": 59,
     "metadata": {},
     "output_type": "execute_result"
    }
   ],
   "source": [
    "smooth1A1 = integrate(IA1x2,(x₁,-lₘₓ,lₘₓ))*integrate(IA1y1,(y₁,-lₘₓ,lₘₓ))\n",
    "smooth1A2 = integrate(IA1x1,(x₁,-lₘₓ,lₘₓ))*integrate(IA1y2,(y₁,-lₘₓ,lₘₓ))\n",
    "smooth1A3 = integrate(IA1x1,(x₁,-lₘₓ,lₘₓ))*integrate(IA1y3,(y₁,-lₘₓ,lₘₓ))"
   ]
  },
  {
   "cell_type": "code",
   "execution_count": 60,
   "id": "06e14162",
   "metadata": {
    "scrolled": true
   },
   "outputs": [
    {
     "data": {
      "text/latex": [
       "$\\left(- 4.92919785561165 \\sqrt{\\pi} \\operatorname{erf}{\\left(70.7106781186548 x - 40.8248290463863 \\right)} + 4.92919785561165 \\sqrt{\\pi} \\operatorname{erf}{\\left(70.7106781186548 x + 40.8248290463863 \\right)}\\right) \\left(- 4.92919785561165 \\sqrt{\\pi} \\operatorname{erf}{\\left(70.7106781186548 y - 20.4124145231931 \\right)} + 4.92919785561165 \\sqrt{\\pi} \\operatorname{erf}{\\left(70.7106781186548 y + 20.4124145231931 \\right)}\\right) + \\left(- 4.92919785561165 \\sqrt{\\pi} \\operatorname{erf}{\\left(70.7106781186548 x - 20.4124145231931 \\right)} + 4.92919785561165 \\sqrt{\\pi} \\operatorname{erf}{\\left(70.7106781186548 x + 20.4124145231931 \\right)}\\right) \\left(- 4.92919785561165 \\sqrt{\\pi} \\operatorname{erf}{\\left(70.7106781186548 y - 40.8248290463863 \\right)} + 4.92919785561165 \\sqrt{\\pi} \\operatorname{erf}{\\left(70.7106781186548 y - 20.4124145231931 \\right)}\\right) + \\left(- 4.92919785561165 \\sqrt{\\pi} \\operatorname{erf}{\\left(70.7106781186548 x - 20.4124145231931 \\right)} + 4.92919785561165 \\sqrt{\\pi} \\operatorname{erf}{\\left(70.7106781186548 x + 20.4124145231931 \\right)}\\right) \\left(- 4.92919785561165 \\sqrt{\\pi} \\operatorname{erf}{\\left(70.7106781186548 y + 20.4124145231931 \\right)} + 4.92919785561165 \\sqrt{\\pi} \\operatorname{erf}{\\left(70.7106781186548 y + 40.8248290463863 \\right)}\\right) + 79.65$"
      ],
      "text/plain": [
       "(-4.92919785561165⋅√π⋅erf(70.7106781186548⋅x - 40.8248290463863) + 4.929197855\n",
       "61165⋅√π⋅erf(70.7106781186548⋅x + 40.8248290463863))⋅(-4.92919785561165⋅√π⋅erf\n",
       "(70.7106781186548⋅y - 20.4124145231931) + 4.92919785561165⋅√π⋅erf(70.710678118\n",
       "6548⋅y + 20.4124145231931)) + (-4.92919785561165⋅√π⋅erf(70.7106781186548⋅x - 2\n",
       "0.4124145231931) + 4.92919785561165⋅√π⋅erf(70.7106781186548⋅x + 20.41241452319\n",
       "31))⋅(-4.92919785561165⋅√π⋅erf(70.7106781186548⋅y - 40.8248290463863) + 4.9291\n",
       "9785561165⋅√π⋅erf(70.7106781186548⋅y - 20.4124145231931)) + (-4.92919785561165\n",
       "⋅√π⋅erf(70.7106781186548⋅x - 20.4124145231931) + 4.92919785561165⋅√π⋅erf(70.71\n",
       "06781186548⋅x + 20.4124145231931))⋅(-4.92919785561165⋅√π⋅erf(70.7106781186548⋅\n",
       "y + 20.4124145231931) + 4.92919785561165⋅√π⋅erf(70.7106781186548⋅y + 40.824829\n",
       "0463863)) + 79.65"
      ]
     },
     "execution_count": 60,
     "metadata": {},
     "output_type": "execute_result"
    }
   ],
   "source": [
    "A₁₁ = smooth1A1 + smooth1A2 + smooth1A3 + a₁₁ₘ"
   ]
  },
  {
   "cell_type": "code",
   "execution_count": 61,
   "id": "60d56f3a",
   "metadata": {},
   "outputs": [
    {
     "data": {
      "text/plain": [
       "265.5"
      ]
     },
     "execution_count": 61,
     "metadata": {},
     "output_type": "execute_result"
    }
   ],
   "source": [
    "a₂₂ₘ = 79.65\n",
    "a₂₂ᵢ = 265.5"
   ]
  },
  {
   "cell_type": "code",
   "execution_count": 62,
   "id": "856e1386",
   "metadata": {},
   "outputs": [
    {
     "data": {
      "text/plain": [
       "A2y (generic function with 1 method)"
      ]
     },
     "execution_count": 62,
     "metadata": {},
     "output_type": "execute_result"
    }
   ],
   "source": [
    "A2x(x,ax,bx) = sqrt(a₂₂ᵢ - a₂₂ₘ)  * interval(x,ax,bx) \n",
    "A2y(y,ay,by) = sqrt(a₂₂ᵢ - a₂₂ₘ)  * interval(y,ay,by) "
   ]
  },
  {
   "cell_type": "code",
   "execution_count": 63,
   "id": "1da7704e",
   "metadata": {},
   "outputs": [
    {
     "data": {
      "text/latex": [
       "$39.8942280401433 \\left(- 6.81634066050106 \\operatorname{sign}{\\left(x₁ - 0.577350269189626 \\right)} + 6.81634066050106 \\operatorname{sign}{\\left(x₁ + 0.577350269189626 \\right)}\\right) e^{- 5000.0 \\left(x - x₁\\right)^{2}}$"
      ],
      "text/plain": [
       "                                                                              \n",
       "                                                                              \n",
       "39.8942280401433⋅(-6.81634066050106⋅sign(x₁ - 0.577350269189626) + 6.816340660\n",
       "\n",
       "                                                     2\n",
       "                                     -5000.0⋅(x - x₁) \n",
       "50106⋅sign(x₁ + 0.577350269189626))⋅ℯ                 "
      ]
     },
     "execution_count": 63,
     "metadata": {},
     "output_type": "execute_result"
    }
   ],
   "source": [
    "IA2x1 = A2x(x₁,-lₙₓ,lₙₓ)*wₕ(x,x₁)\n",
    "IA2x2 = A2x(x₁,-lₐ₁ₙ,lₐ₁ₙ)*wₕ(x,x₁)"
   ]
  },
  {
   "cell_type": "code",
   "execution_count": 64,
   "id": "c8810808",
   "metadata": {},
   "outputs": [
    {
     "data": {
      "text/latex": [
       "$39.8942280401433 \\left(- 6.81634066050106 \\operatorname{sign}{\\left(y₁ - 0.577350269189626 \\right)} + 6.81634066050106 \\operatorname{sign}{\\left(y₁ - 0.288675134594813 \\right)}\\right) e^{- 5000.0 \\left(y - y₁\\right)^{2}}$"
      ],
      "text/plain": [
       "                                                                              \n",
       "                                                                              \n",
       "39.8942280401433⋅(-6.81634066050106⋅sign(y₁ - 0.577350269189626) + 6.816340660\n",
       "\n",
       "                                                     2\n",
       "                                     -5000.0⋅(y - y₁) \n",
       "50106⋅sign(y₁ - 0.288675134594813))⋅ℯ                 "
      ]
     },
     "execution_count": 64,
     "metadata": {},
     "output_type": "execute_result"
    }
   ],
   "source": [
    "IA2y1 = A2y(y₁,-lₙₓ,lₙₓ)*wₕ(y,y₁)\n",
    "IA2y2 = A2y(y₁,-lₐ₁ₙ,-lₙₓ)*wₕ(y,y₁)\n",
    "IA2y3 = A2y(y₁,lₙₓ,lₐ₁ₙ)*wₕ(y,y₁)"
   ]
  },
  {
   "cell_type": "code",
   "execution_count": 65,
   "id": "8578adff",
   "metadata": {},
   "outputs": [
    {
     "data": {
      "text/latex": [
       "$\\left(- 3.84570839856773 \\sqrt{\\pi} \\operatorname{erf}{\\left(70.7106781186548 x - 20.4124145231931 \\right)} + 3.84570839856773 \\sqrt{\\pi} \\operatorname{erf}{\\left(70.7106781186548 x + 20.4124145231931 \\right)}\\right) \\left(- 3.84570839856773 \\sqrt{\\pi} \\operatorname{erf}{\\left(70.7106781186548 y - 40.8248290463863 \\right)} + 3.84570839856773 \\sqrt{\\pi} \\operatorname{erf}{\\left(70.7106781186548 y - 20.4124145231931 \\right)}\\right)$"
      ],
      "text/plain": [
       "(-3.84570839856773⋅√π⋅erf(70.7106781186548⋅x - 20.4124145231931) + 3.845708398\n",
       "56773⋅√π⋅erf(70.7106781186548⋅x + 20.4124145231931))⋅(-3.84570839856773⋅√π⋅erf\n",
       "(70.7106781186548⋅y - 40.8248290463863) + 3.84570839856773⋅√π⋅erf(70.710678118\n",
       "6548⋅y - 20.4124145231931))"
      ]
     },
     "execution_count": 65,
     "metadata": {},
     "output_type": "execute_result"
    }
   ],
   "source": [
    "smooth2A1 = integrate(IA2x2,(x₁,-lₘₓ,lₘₓ))*integrate(IA2y1,(y₁,-lₘₓ,lₘₓ))\n",
    "smooth2A2 = integrate(IA2x1,(x₁,-lₘₓ,lₘₓ))*integrate(IA2y2,(y₁,-lₘₓ,lₘₓ))\n",
    "smooth2A3 = integrate(IA2x1,(x₁,-lₘₓ,lₘₓ))*integrate(IA2y3,(y₁,-lₘₓ,lₘₓ))"
   ]
  },
  {
   "cell_type": "code",
   "execution_count": 66,
   "id": "c3aea22b",
   "metadata": {
    "scrolled": true
   },
   "outputs": [
    {
     "data": {
      "text/latex": [
       "$\\left(- 3.84570839856773 \\sqrt{\\pi} \\operatorname{erf}{\\left(70.7106781186548 x - 40.8248290463863 \\right)} + 3.84570839856773 \\sqrt{\\pi} \\operatorname{erf}{\\left(70.7106781186548 x + 40.8248290463863 \\right)}\\right) \\left(- 3.84570839856773 \\sqrt{\\pi} \\operatorname{erf}{\\left(70.7106781186548 y - 20.4124145231931 \\right)} + 3.84570839856773 \\sqrt{\\pi} \\operatorname{erf}{\\left(70.7106781186548 y + 20.4124145231931 \\right)}\\right) + \\left(- 3.84570839856773 \\sqrt{\\pi} \\operatorname{erf}{\\left(70.7106781186548 x - 20.4124145231931 \\right)} + 3.84570839856773 \\sqrt{\\pi} \\operatorname{erf}{\\left(70.7106781186548 x + 20.4124145231931 \\right)}\\right) \\left(- 3.84570839856773 \\sqrt{\\pi} \\operatorname{erf}{\\left(70.7106781186548 y - 40.8248290463863 \\right)} + 3.84570839856773 \\sqrt{\\pi} \\operatorname{erf}{\\left(70.7106781186548 y - 20.4124145231931 \\right)}\\right) + \\left(- 3.84570839856773 \\sqrt{\\pi} \\operatorname{erf}{\\left(70.7106781186548 x - 20.4124145231931 \\right)} + 3.84570839856773 \\sqrt{\\pi} \\operatorname{erf}{\\left(70.7106781186548 x + 20.4124145231931 \\right)}\\right) \\left(- 3.84570839856773 \\sqrt{\\pi} \\operatorname{erf}{\\left(70.7106781186548 y + 20.4124145231931 \\right)} + 3.84570839856773 \\sqrt{\\pi} \\operatorname{erf}{\\left(70.7106781186548 y + 40.8248290463863 \\right)}\\right) + 79.65$"
      ],
      "text/plain": [
       "(-3.84570839856773⋅√π⋅erf(70.7106781186548⋅x - 40.8248290463863) + 3.845708398\n",
       "56773⋅√π⋅erf(70.7106781186548⋅x + 40.8248290463863))⋅(-3.84570839856773⋅√π⋅erf\n",
       "(70.7106781186548⋅y - 20.4124145231931) + 3.84570839856773⋅√π⋅erf(70.710678118\n",
       "6548⋅y + 20.4124145231931)) + (-3.84570839856773⋅√π⋅erf(70.7106781186548⋅x - 2\n",
       "0.4124145231931) + 3.84570839856773⋅√π⋅erf(70.7106781186548⋅x + 20.41241452319\n",
       "31))⋅(-3.84570839856773⋅√π⋅erf(70.7106781186548⋅y - 40.8248290463863) + 3.8457\n",
       "0839856773⋅√π⋅erf(70.7106781186548⋅y - 20.4124145231931)) + (-3.84570839856773\n",
       "⋅√π⋅erf(70.7106781186548⋅x - 20.4124145231931) + 3.84570839856773⋅√π⋅erf(70.71\n",
       "06781186548⋅x + 20.4124145231931))⋅(-3.84570839856773⋅√π⋅erf(70.7106781186548⋅\n",
       "y + 20.4124145231931) + 3.84570839856773⋅√π⋅erf(70.7106781186548⋅y + 40.824829\n",
       "0463863)) + 79.65"
      ]
     },
     "execution_count": 66,
     "metadata": {},
     "output_type": "execute_result"
    }
   ],
   "source": [
    "A₂₂ = smooth2A1 + smooth2A2 + smooth2A3 + a₂₂ₘ"
   ]
  },
  {
   "cell_type": "code",
   "execution_count": 67,
   "id": "d092bad5",
   "metadata": {},
   "outputs": [
    {
     "name": "stderr",
     "output_type": "stream",
     "text": [
      "WARNING: using Fields.integrate in module Main conflicts with an existing identifier.\n"
     ]
    }
   ],
   "source": [
    "using Gmsh: gmsh\n",
    "using Gridap\n",
    "using GridapGmsh\n",
    "using SparseArrays\n",
    "using WriteVTK\n",
    "using Gridap.Fields\n",
    "using Gridap.CellData\n",
    "using Gridap.TensorValues\n",
    "using Gridap.ReferenceFEs\n",
    "using Gridap.Geometry"
   ]
  },
  {
   "cell_type": "code",
   "execution_count": 68,
   "id": "da22ff29",
   "metadata": {
    "scrolled": true
   },
   "outputs": [
    {
     "name": "stdout",
     "output_type": "stream",
     "text": [
      "Info    : Meshing 1D...\n",
      "Info    : [  0%] Meshing curve 1 (Line)\n",
      "Info    : [ 10%] Meshing curve 2 (Line)\n",
      "Info    : [ 20%] Meshing curve 3 (Line)\n",
      "Info    : [ 20%] Meshing curve 4 (Line)\n",
      "Info    : [ 30%] Meshing curve 5 (Line)\n",
      "Info    : [ 40%] Meshing curve 6 (Line)\n",
      "Info    : [ 40%] Meshing curve 7 (Line)\n",
      "Info    : [ 50%] Meshing curve 8 (Line)\n",
      "Info    : [ 50%] Meshing curve 9 (Line)\n",
      "Info    : [ 60%] Meshing curve 10 (Line)\n",
      "Info    : [ 70%] Meshing curve 11 (Line)\n",
      "Info    : [ 70%] Meshing curve 12 (Line)\n",
      "Info    : [ 80%] Meshing curve 13 (Line)\n",
      "Info    : [ 90%] Meshing curve 14 (Line)\n",
      "Info    : [ 90%] Meshing curve 15 (Line)\n",
      "Info    : [100%] Meshing curve 16 (Line)\n",
      "Info    : Done meshing 1D (Wall 0.000968949s, CPU 0.000964s)\n",
      "Info    : Meshing 2D...\n",
      "Info    : [  0%] Meshing surface 1 (Plane, Frontal-Delaunay)\n",
      "Info    : [ 50%] Meshing surface 2 (Plane, Frontal-Delaunay)\n",
      "Info    : Done meshing 2D (Wall 1.07258s, CPU 1.06451s)\n",
      "Info    : 38671 nodes 77976 elements\n",
      "Info    : Writing '+Shape.msh'...\n",
      "Info    : Done writing '+Shape.msh'\n"
     ]
    },
    {
     "name": "stderr",
     "output_type": "stream",
     "text": [
      "Warning : Unknown entity of dimension 2 and tag 1 in physical group 1\n",
      "Warning : Unknown entity of dimension 2 and tag 2 in physical group 2\n",
      "Warning : Unknown entity of dimension 1 and tag 4 in physical group 3\n",
      "Warning : Unknown entity of dimension 1 and tag 2 in physical group 4\n",
      "Warning : Unknown entity of dimension 1 and tag 4 in physical group 5\n",
      "Warning : Unknown entity of dimension 1 and tag 2 in physical group 6\n",
      "Warning : Unknown entity of dimension 1 and tag 1 in physical group 7\n",
      "Warning : Unknown entity of dimension 1 and tag 3 in physical group 8\n",
      "Warning : Unknown entity of dimension 1 and tag 1 in physical group 9\n",
      "Warning : Unknown entity of dimension 1 and tag 3 in physical group 10\n"
     ]
    }
   ],
   "source": [
    "gmsh.initialize()\n",
    "gmsh.option.setNumber(\"General.Terminal\", 1)\n",
    "\n",
    "hᵢ = 0.01\n",
    "h = 2.5e-2\n",
    "hf = 0.75e-2\n",
    "Lₚ = 1.0\n",
    "Hₚ = 1.0\n",
    "\n",
    "p1 = gmsh.model.geo.addPoint(-Lₚ, -Hₚ, 0.0, h)\n",
    "p2 = gmsh.model.geo.addPoint(Lₚ, -Hₚ, 0.0, h)\n",
    "p3 = gmsh.model.geo.addPoint(Lₚ, Hₚ, 0.0, h)\n",
    "p4 = gmsh.model.geo.addPoint(-Lₚ, Hₚ, 0.0, h)\n",
    "\n",
    "l1 = gmsh.model.geo.addLine(p1, p2)\n",
    "l2 = gmsh.model.geo.addLine(p2, p3)\n",
    "l3 = gmsh.model.geo.addLine(p3, p4)\n",
    "l4 = gmsh.model.geo.addLine(p4, p1)\n",
    "\n",
    "c1 = gmsh.model.geo.addCurveLoop([l3,l4,l1,l2])\n",
    "\n",
    "p5 = gmsh.model.geo.addPoint(-p/2, -p/2, 0.0, hf)\n",
    "p6 = gmsh.model.geo.addPoint(-p/2, -p, 0.0, hf)\n",
    "p7 = gmsh.model.geo.addPoint(p/2, -p, 0.0, hf)\n",
    "p8 = gmsh.model.geo.addPoint(p/2, -p/2, 0.0, hf)\n",
    "p9 = gmsh.model.geo.addPoint(p, -p/2, 0.0, hf)\n",
    "p10 = gmsh.model.geo.addPoint(p, p/2, 0.0, hf)\n",
    "p11 = gmsh.model.geo.addPoint(p/2, p/2, 0.0, hf)\n",
    "p12 = gmsh.model.geo.addPoint(p/2, p, 0.0, hf)\n",
    "p13 = gmsh.model.geo.addPoint(-p/2, p, 0.0, hf)\n",
    "p14 = gmsh.model.geo.addPoint(-p/2, p/2, 0.0, hf)\n",
    "p15 = gmsh.model.geo.addPoint(-p, p/2, 0.0, hf)\n",
    "p16 = gmsh.model.geo.addPoint(-p, -p/2, 0.0, hf)\n",
    "\n",
    "l5 = gmsh.model.geo.addLine(p5, p6)\n",
    "l6 = gmsh.model.geo.addLine(p6, p7)\n",
    "l7 = gmsh.model.geo.addLine(p7, p8)\n",
    "l8 = gmsh.model.geo.addLine(p8, p9)\n",
    "l9 = gmsh.model.geo.addLine(p9, p10)\n",
    "l10 = gmsh.model.geo.addLine(p10, p11)\n",
    "l11 = gmsh.model.geo.addLine(p11, p12)\n",
    "l12 = gmsh.model.geo.addLine(p12, p13)\n",
    "l13 = gmsh.model.geo.addLine(p13, p14)\n",
    "l14 = gmsh.model.geo.addLine(p14, p15)\n",
    "l15 = gmsh.model.geo.addLine(p15, p16)\n",
    "l16 = gmsh.model.geo.addLine(p16, p5)\n",
    "\n",
    "c2 = gmsh.model.geo.addCurveLoop([l5,l6,l7,l8,l9,l10,l11,l12,l13,l14,l15,l16])\n",
    "\n",
    "#=\n",
    "p17 = gmsh.model.geo.addPoint(-(p/2 + hᵢ), -(p/2 + hᵢ), 0.0, hf)\n",
    "p18 = gmsh.model.geo.addPoint(-(p/2 + hᵢ), -(p + hᵢ), 0.0, hf)\n",
    "p19 = gmsh.model.geo.addPoint((p/2 + hᵢ), -(p + hᵢ), 0.0, hf)\n",
    "p20 = gmsh.model.geo.addPoint((p/2 + hᵢ), -(p/2 + hᵢ), 0.0, hf)\n",
    "p21 = gmsh.model.geo.addPoint((p + hᵢ), -(p/2 + hᵢ), 0.0, hf)\n",
    "p22 = gmsh.model.geo.addPoint((p + hᵢ), (p/2 + hᵢ), 0.0, hf)\n",
    "p23 = gmsh.model.geo.addPoint((p/2 + hᵢ), (p/2 + hᵢ), 0.0, hf)\n",
    "p24 = gmsh.model.geo.addPoint((p/2 + hᵢ), (p + hᵢ), 0.0, hf)\n",
    "p25 = gmsh.model.geo.addPoint(-(p/2 + hᵢ), (p + hᵢ), 0.0, hf)\n",
    "p26 = gmsh.model.geo.addPoint(-(p/2 + hᵢ), (p/2 + hᵢ), 0.0, hf)\n",
    "p27 = gmsh.model.geo.addPoint(-(p + hᵢ), (p/2 + hᵢ), 0.0, hf)\n",
    "p28 = gmsh.model.geo.addPoint(-(p + hᵢ), -(p/2 + hᵢ), 0.0, hf)\n",
    "\n",
    "\n",
    "l17 = gmsh.model.geo.addLine(p17, p18)\n",
    "l18 = gmsh.model.geo.addLine(p18, p19)\n",
    "l19 = gmsh.model.geo.addLine(p19, p20)\n",
    "l20 = gmsh.model.geo.addLine(p20, p21)\n",
    "l21 = gmsh.model.geo.addLine(p21, p22)\n",
    "l22 = gmsh.model.geo.addLine(p22, p23)\n",
    "l23 = gmsh.model.geo.addLine(p23, p24)\n",
    "l24 = gmsh.model.geo.addLine(p24, p25)\n",
    "l25 = gmsh.model.geo.addLine(p25, p26)\n",
    "l26 = gmsh.model.geo.addLine(p26, p27)\n",
    "l27 = gmsh.model.geo.addLine(p27, p28)\n",
    "l28 = gmsh.model.geo.addLine(p28, p17)\n",
    "\n",
    "\n",
    "c3 = gmsh.model.geo.addCurveLoop([l17,l18,l19,l20,l21,l22,l23,l24,l25,l26,l27,l28])\n",
    "\n",
    "p29 = gmsh.model.geo.addPoint(-(p/2 - hᵢ), -(p/2 - hᵢ), 0.0, hf)\n",
    "p30 = gmsh.model.geo.addPoint(-(p/2 - hᵢ), -(p - hᵢ), 0.0, hf)\n",
    "p31 = gmsh.model.geo.addPoint((p/2 - hᵢ), -(p - hᵢ), 0.0, hf)\n",
    "p32 = gmsh.model.geo.addPoint((p/2 - hᵢ), -(p/2 - hᵢ), 0.0, hf)\n",
    "p33 = gmsh.model.geo.addPoint((p - hᵢ), -(p/2 - hᵢ), 0.0, hf)\n",
    "p34 = gmsh.model.geo.addPoint((p - hᵢ), (p/2 - hᵢ), 0.0, hf)\n",
    "p35 = gmsh.model.geo.addPoint((p/2 - hᵢ), (p/2 - hᵢ), 0.0, hf)\n",
    "p36 = gmsh.model.geo.addPoint((p/2 - hᵢ), (p - hᵢ), 0.0, hf)\n",
    "p37 = gmsh.model.geo.addPoint(-(p/2 - hᵢ), (p - hᵢ), 0.0, hf)\n",
    "p38 = gmsh.model.geo.addPoint(-(p/2 - hᵢ), (p/2 - hᵢ), 0.0, hf)\n",
    "p39 = gmsh.model.geo.addPoint(-(p - hᵢ), (p/2 - hᵢ), 0.0, hf)\n",
    "p40 = gmsh.model.geo.addPoint(-(p - hᵢ), -(p/2 - hᵢ), 0.0, hf)\n",
    "\n",
    "\n",
    "l29 = gmsh.model.geo.addLine(p29, p30)\n",
    "l30 = gmsh.model.geo.addLine(p30, p31)\n",
    "l31 = gmsh.model.geo.addLine(p31, p32)\n",
    "l32 = gmsh.model.geo.addLine(p32, p33)\n",
    "l33 = gmsh.model.geo.addLine(p33, p34)\n",
    "l34 = gmsh.model.geo.addLine(p34, p35)\n",
    "l35 = gmsh.model.geo.addLine(p35, p36)\n",
    "l36 = gmsh.model.geo.addLine(p36, p37)\n",
    "l37 = gmsh.model.geo.addLine(p37, p38)\n",
    "l38 = gmsh.model.geo.addLine(p38, p39)\n",
    "l39 = gmsh.model.geo.addLine(p39, p40)\n",
    "l40 = gmsh.model.geo.addLine(p40, p29)\n",
    "\n",
    "c4 = gmsh.model.geo.addCurveLoop([l29,l30,l31,l32,l33,l34,l35,l36,l37,l38,l39,l40])\n",
    "=#\n",
    "\n",
    "s1 = gmsh.model.geo.addPlaneSurface([c2])\n",
    "#s2 = gmsh.model.geo.addPlaneSurface([c3,-c4])\n",
    "s3 = gmsh.model.geo.addPlaneSurface([c1,-c2])\n",
    "\n",
    "g1 = gmsh.model.addPhysicalGroup(2, [s1])\n",
    "#g2 = gmsh.model.addPhysicalGroup(2, [s2])\n",
    "g3 = gmsh.model.addPhysicalGroup(2, [s3])\n",
    "\n",
    "g4 = gmsh.model.addPhysicalGroup(1, [l4])\n",
    "g5 = gmsh.model.addPhysicalGroup(1, [l2])\n",
    "g6 = gmsh.model.addPhysicalGroup(1, [l4])\n",
    "g7 = gmsh.model.addPhysicalGroup(1, [l2])\n",
    "\n",
    "g8 = gmsh.model.addPhysicalGroup(1, [l1])\n",
    "g9 = gmsh.model.addPhysicalGroup(1, [l3])\n",
    "g10 = gmsh.model.addPhysicalGroup(1, [l1])\n",
    "g11 = gmsh.model.addPhysicalGroup(1, [l3])\n",
    "\n",
    "gmsh.model.setPhysicalName(1, g4, \"DirichletLeft\")\n",
    "gmsh.model.setPhysicalName(1, g5, \"DirichletRight\")\n",
    "gmsh.model.setPhysicalName(1, g6, \"ElectricPotentialleft\")\n",
    "gmsh.model.setPhysicalName(1, g7, \"ElectricPotentialright\")\n",
    "\n",
    "gmsh.model.setPhysicalName(1, g8, \"DirichletBot\")\n",
    "gmsh.model.setPhysicalName(1, g9, \"DirichletTop\")\n",
    "gmsh.model.setPhysicalName(1, g10, \"ElectricPotentialBot\")\n",
    "gmsh.model.setPhysicalName(1, g11, \"ElectricPotentialTop\")\n",
    "\n",
    "gmsh.model.setPhysicalName(2, g1, \"PiezoMat2\")\n",
    "#gmsh.model.setPhysicalName(2, g2, \"Diffused Layer\")\n",
    "gmsh.model.setPhysicalName(2, g3, \"PiezoMat1\")\n",
    "\n",
    "\n",
    "gmsh.model.geo.synchronize()\n",
    "gmsh.model.mesh.generate(2)\n",
    "gmsh.write(\"+Shape.msh\")\n",
    "gmsh.finalize()"
   ]
  },
  {
   "cell_type": "code",
   "execution_count": 69,
   "id": "1a24bda6",
   "metadata": {
    "scrolled": true
   },
   "outputs": [
    {
     "name": "stdout",
     "output_type": "stream",
     "text": [
      "Info    : Reading '+Shape.msh'...\n",
      "Info    : 34 entities\n",
      "Info    : 38671 nodes\n",
      "Info    : 77340 elements\n",
      "Info    : Done reading '+Shape.msh'\n"
     ]
    },
    {
     "data": {
      "text/plain": [
       "3-element Vector{Vector{String}}:\n",
       " [\"+Shape_0.vtu\"]\n",
       " [\"+Shape_1.vtu\"]\n",
       " [\"+Shape_2.vtu\"]"
      ]
     },
     "execution_count": 69,
     "metadata": {},
     "output_type": "execute_result"
    }
   ],
   "source": [
    "model = GmshDiscreteModel(\"+Shape.msh\")\n",
    "writevtk(model,\"+Shape\")"
   ]
  },
  {
   "cell_type": "markdown",
   "id": "bfeb313f",
   "metadata": {},
   "source": [
    "## Extracting Cell Points"
   ]
  },
  {
   "cell_type": "code",
   "execution_count": 70,
   "id": "3f015568",
   "metadata": {},
   "outputs": [
    {
     "data": {
      "text/plain": [
       "Measure()"
      ]
     },
     "execution_count": 70,
     "metadata": {},
     "output_type": "execute_result"
    }
   ],
   "source": [
    "order = 1\n",
    "degree = 2*order\n",
    "Ω = Triangulation(model)\n",
    "dΩ = Measure(Ω,degree)"
   ]
  },
  {
   "cell_type": "markdown",
   "id": "459257bc",
   "metadata": {},
   "source": [
    "## Constitutive Matrices"
   ]
  },
  {
   "cell_type": "markdown",
   "id": "6d935446",
   "metadata": {},
   "source": [
    "### Elastic stiffness Tensor"
   ]
  },
  {
   "cell_type": "code",
   "execution_count": 71,
   "id": "81f4c2d2",
   "metadata": {},
   "outputs": [
    {
     "data": {
      "text/plain": [
       "CellPoint()"
      ]
     },
     "execution_count": 71,
     "metadata": {},
     "output_type": "execute_result"
    }
   ],
   "source": [
    "p = get_cell_points(Ω)"
   ]
  },
  {
   "cell_type": "code",
   "execution_count": 72,
   "id": "ef8b0d9a",
   "metadata": {},
   "outputs": [
    {
     "data": {
      "text/plain": [
       "UnconstrainedFESpace()"
      ]
     },
     "execution_count": 72,
     "metadata": {},
     "output_type": "execute_result"
    }
   ],
   "source": [
    "reffe = ReferenceFE(lagrangian,Float64,order)\n",
    "V₁ = FESpace(model, reffe, conformity=:H1)"
   ]
  },
  {
   "cell_type": "code",
   "execution_count": 73,
   "id": "90a7999c",
   "metadata": {},
   "outputs": [
    {
     "ename": "LoadError",
     "evalue": "ArgumentError: Package SpecialFunctions not found in current path.\n- Run `import Pkg; Pkg.add(\"SpecialFunctions\")` to install the SpecialFunctions package.",
     "output_type": "error",
     "traceback": [
      "ArgumentError: Package SpecialFunctions not found in current path.\n- Run `import Pkg; Pkg.add(\"SpecialFunctions\")` to install the SpecialFunctions package.",
      "",
      "Stacktrace:",
      " [1] macro expansion",
      "   @ ./loading.jl:1163 [inlined]",
      " [2] macro expansion",
      "   @ ./lock.jl:223 [inlined]",
      " [3] require(into::Module, mod::Symbol)",
      "   @ Base ./loading.jl:1144",
      " [4] eval",
      "   @ ./boot.jl:368 [inlined]",
      " [5] include_string(mapexpr::typeof(REPL.softscope), mod::Module, code::String, filename::String)",
      "   @ Base ./loading.jl:1428"
     ]
    }
   ],
   "source": [
    "using SpecialFunctions"
   ]
  },
  {
   "cell_type": "code",
   "execution_count": 74,
   "id": "9680b463",
   "metadata": {},
   "outputs": [
    {
     "data": {
      "text/plain": [
       "SingleFieldFEFunction():\n",
       " num_cells: 77020\n",
       " DomainStyle: ReferenceDomain()\n",
       " Triangulation: BodyFittedTriangulation()\n",
       " Triangulation id: 3631389762746412102"
      ]
     },
     "execution_count": 74,
     "metadata": {},
     "output_type": "execute_result"
    }
   ],
   "source": [
    "C₁₁₁ = lambdify(C₁₁₁₁)\n",
    "C₁₁₁₁l(p) = C₁₁₁.(p[1],p[2])\n",
    "C₁₁₁₁t = interpolate_everywhere(C₁₁₁₁l, V₁)"
   ]
  },
  {
   "cell_type": "code",
   "execution_count": 75,
   "id": "b51d0fcb",
   "metadata": {},
   "outputs": [
    {
     "data": {
      "text/plain": [
       "SingleFieldFEFunction():\n",
       " num_cells: 77020\n",
       " DomainStyle: ReferenceDomain()\n",
       " Triangulation: BodyFittedTriangulation()\n",
       " Triangulation id: 3631389762746412102"
      ]
     },
     "execution_count": 75,
     "metadata": {},
     "output_type": "execute_result"
    }
   ],
   "source": [
    "C₁₁₂ = lambdify(C₁₁₂₂)\n",
    "C₁₂l(p) = C₁₁₂.(p[1],p[2])\n",
    "C₁₁₂₂t = interpolate_everywhere(C₁₂l, V₁)"
   ]
  },
  {
   "cell_type": "code",
   "execution_count": 76,
   "id": "b2126689",
   "metadata": {},
   "outputs": [
    {
     "data": {
      "text/plain": [
       "SingleFieldFEFunction():\n",
       " num_cells: 77020\n",
       " DomainStyle: ReferenceDomain()\n",
       " Triangulation: BodyFittedTriangulation()\n",
       " Triangulation id: 3631389762746412102"
      ]
     },
     "execution_count": 76,
     "metadata": {},
     "output_type": "execute_result"
    }
   ],
   "source": [
    "C₃₃₃ = lambdify(C₃₃₃₃)\n",
    "C₃₃l(p) = C₃₃₃.(p[1],p[2])\n",
    "C₃₃₃₃t = interpolate_everywhere(C₃₃l, V₁)"
   ]
  },
  {
   "cell_type": "code",
   "execution_count": 77,
   "id": "94707f24",
   "metadata": {},
   "outputs": [
    {
     "data": {
      "text/plain": [
       "SingleFieldFEFunction():\n",
       " num_cells: 77020\n",
       " DomainStyle: ReferenceDomain()\n",
       " Triangulation: BodyFittedTriangulation()\n",
       " Triangulation id: 3631389762746412102"
      ]
     },
     "execution_count": 77,
     "metadata": {},
     "output_type": "execute_result"
    }
   ],
   "source": [
    "d₁₁ = lambdify(D₁₁)\n",
    "d₁₁l(p) = d₁₁.(p[1],p[2])\n",
    "d₁₁t = interpolate_everywhere(d₁₁l, V₁)"
   ]
  },
  {
   "cell_type": "code",
   "execution_count": 78,
   "id": "0b5b28e9",
   "metadata": {},
   "outputs": [
    {
     "data": {
      "text/plain": [
       "SingleFieldFEFunction():\n",
       " num_cells: 77020\n",
       " DomainStyle: ReferenceDomain()\n",
       " Triangulation: BodyFittedTriangulation()\n",
       " Triangulation id: 3631389762746412102"
      ]
     },
     "execution_count": 78,
     "metadata": {},
     "output_type": "execute_result"
    }
   ],
   "source": [
    "d₂₁ = lambdify(D₂₁)\n",
    "d₂₁l(p) = d₂₁.(p[1],p[2])\n",
    "d₂₁t = interpolate_everywhere(d₂₁l, V₁)"
   ]
  },
  {
   "cell_type": "code",
   "execution_count": 79,
   "id": "1930b9e6",
   "metadata": {},
   "outputs": [
    {
     "data": {
      "text/plain": [
       "SingleFieldFEFunction():\n",
       " num_cells: 77020\n",
       " DomainStyle: ReferenceDomain()\n",
       " Triangulation: BodyFittedTriangulation()\n",
       " Triangulation id: 3631389762746412102"
      ]
     },
     "execution_count": 79,
     "metadata": {},
     "output_type": "execute_result"
    }
   ],
   "source": [
    "d₂₂ = lambdify(D₂₂)\n",
    "d₂₂l(p) = d₂₂.(p[1],p[2])\n",
    "d₂₂t = interpolate_everywhere(d₂₂l, V₁)"
   ]
  },
  {
   "cell_type": "code",
   "execution_count": 80,
   "id": "fc6366df",
   "metadata": {},
   "outputs": [
    {
     "data": {
      "text/plain": [
       "SingleFieldFEFunction():\n",
       " num_cells: 77020\n",
       " DomainStyle: ReferenceDomain()\n",
       " Triangulation: BodyFittedTriangulation()\n",
       " Triangulation id: 3631389762746412102"
      ]
     },
     "execution_count": 80,
     "metadata": {},
     "output_type": "execute_result"
    }
   ],
   "source": [
    "d₂₃ = lambdify(D₂₃)\n",
    "d₂₃l(p) = d₂₃.(p[1],p[2])\n",
    "d₂₃t = interpolate_everywhere(d₂₃l, V₁)"
   ]
  },
  {
   "cell_type": "code",
   "execution_count": 81,
   "id": "86f4ba30",
   "metadata": {},
   "outputs": [
    {
     "data": {
      "text/plain": [
       "SingleFieldFEFunction():\n",
       " num_cells: 77020\n",
       " DomainStyle: ReferenceDomain()\n",
       " Triangulation: BodyFittedTriangulation()\n",
       " Triangulation id: 3631389762746412102"
      ]
     },
     "execution_count": 81,
     "metadata": {},
     "output_type": "execute_result"
    }
   ],
   "source": [
    "a₁ = lambdify(A₁₁)\n",
    "a₁₁l(p) = a₁.(p[1],p[2])\n",
    "a₁₁t = interpolate_everywhere(a₁₁l, V₁)"
   ]
  },
  {
   "cell_type": "code",
   "execution_count": 82,
   "id": "ef26feb2",
   "metadata": {},
   "outputs": [
    {
     "data": {
      "text/plain": [
       "SingleFieldFEFunction():\n",
       " num_cells: 77020\n",
       " DomainStyle: ReferenceDomain()\n",
       " Triangulation: BodyFittedTriangulation()\n",
       " Triangulation id: 3631389762746412102"
      ]
     },
     "execution_count": 82,
     "metadata": {},
     "output_type": "execute_result"
    }
   ],
   "source": [
    "a₂ = lambdify(A₂₂)\n",
    "a₂₂l(p) = a₂.(p[1],p[2])\n",
    "a₂₂t = interpolate_everywhere(a₂₂l, V₁)"
   ]
  },
  {
   "cell_type": "code",
   "execution_count": 83,
   "id": "ce5b7b6b",
   "metadata": {},
   "outputs": [
    {
     "data": {
      "text/plain": [
       "([\"Material_Properties.vtu\"],)"
      ]
     },
     "execution_count": 83,
     "metadata": {},
     "output_type": "execute_result"
    }
   ],
   "source": [
    " writevtk(Ω,\"Material_Properties\",cellfields=\n",
    "        [\"C₁₁₁₁\"=>C₁₁₁₁t,\"C₁₁₂₂\"=>C₁₁₂₂t, \"C₃₃₃₃\"=>C₃₃₃₃t, \"d₁₁\"=>d₁₁t,\"d₂₁\"=>d₂₁t, \"d₂₂\"=>d₂₂t, \n",
    "        \"d₂₃\"=>d₂₃t, \"a₁₁\"=>a₁₁t,\n",
    "        \"a₂₂\"=>a₂₂t])"
   ]
  },
  {
   "cell_type": "code",
   "execution_count": 84,
   "id": "1211ef01",
   "metadata": {},
   "outputs": [
    {
     "data": {
      "text/plain": [
       "ElasFourthOrderConstTensor (generic function with 1 method)"
      ]
     },
     "execution_count": 84,
     "metadata": {},
     "output_type": "execute_result"
    }
   ],
   "source": [
    "function ElasFourthOrderConstTensor(C₁₁,C₁₂,C₃₃)\n",
    "      C1111 = C₁₁\n",
    "      C1122 = C₁₂\n",
    "      C1112 = 0.0\n",
    "      C2222 = C₁₁\n",
    "      C2212 = 0.0\n",
    "      C1212 = C₃₃    \n",
    "      C_ten = SymFourthOrderTensorValue(C1111,C1112,C1122,C1112,C1212,C2212,C1122,C2212,C2222)\n",
    "    return  C_ten\n",
    "end"
   ]
  },
  {
   "cell_type": "markdown",
   "id": "3933100e",
   "metadata": {},
   "source": [
    "### Third order piezoelectric tensor"
   ]
  },
  {
   "cell_type": "code",
   "execution_count": 85,
   "id": "9b9993c0",
   "metadata": {},
   "outputs": [
    {
     "data": {
      "text/plain": [
       "PiezoThirdOrderConstTensor (generic function with 1 method)"
      ]
     },
     "execution_count": 85,
     "metadata": {},
     "output_type": "execute_result"
    }
   ],
   "source": [
    "function PiezoThirdOrderConstTensor(d₁₁,d₂₁,d₂₂,d₂₃)\n",
    "    # 1 for Plane Stress and 2 Plane Strain Condition \n",
    "      e111 = d₁₁\n",
    "      e112 = 0.0\n",
    "      e121 = 0.0\n",
    "      e122 = 0.0\n",
    "      e211 = d₂₁\n",
    "      e212 = d₂₃\n",
    "      e221 = d₂₃\n",
    "      e222 = d₂₂   \n",
    "    vals = zeros(2,2,2);\n",
    "    vals[1,:,:] .= [e111 e112\n",
    "                    e121 e122]\n",
    "    vals[2,:,:] .= [e211 e212\n",
    "                    e221 e222]\n",
    "    e_ten = ThirdOrderTensorValue(vals ...)\n",
    "    return  e_ten\n",
    "end"
   ]
  },
  {
   "cell_type": "markdown",
   "id": "48ac6a51",
   "metadata": {},
   "source": [
    "## Stress\n",
    "$\\sigma_{elas}(\\epsilon(\\boldsymbol{u})) =  \\mathbb{C}\\,\\boldsymbol{\\epsilon}$\n",
    "\n",
    "$\\sigma_{piezo}(\\nabla\\phi) =  \\mathbb{e}^T\\,\\boldsymbol{\\nabla}\\phi$"
   ]
  },
  {
   "cell_type": "code",
   "execution_count": 86,
   "id": "e4c6d03d",
   "metadata": {},
   "outputs": [
    {
     "data": {
      "text/plain": [
       "σ_piezo (generic function with 1 method)"
      ]
     },
     "execution_count": 86,
     "metadata": {},
     "output_type": "execute_result"
    }
   ],
   "source": [
    "σ_elas(ε,C₁₁₁₁t,C₁₁₂₂t,C₃₃₃₃t) = ElasFourthOrderConstTensor(C₁₁₁₁t,C₁₁₂₂t,C₃₃₃₃t) ⊙ ε\n",
    "\n",
    "σ_piezo(∇,d₁₁t,d₂₁t,d₂₂t,d₂₃t) = ∇ ⋅ PiezoThirdOrderConstTensor(d₁₁t,d₂₁t,d₂₂t,d₂₃t)"
   ]
  },
  {
   "cell_type": "markdown",
   "id": "82d06f36",
   "metadata": {},
   "source": [
    "## Electric Displacement\n",
    "$\\boldsymbol{D}_{elas}(\\epsilon(\\boldsymbol{u})) =  \\boldsymbol{d}\\boldsymbol{\\epsilon}$\n",
    "\n",
    "$\\boldsymbol{D}_{piezo}(\\nabla\\phi)  = \\boldsymbol{K}\\boldsymbol{\\nabla} \\phi$"
   ]
  },
  {
   "cell_type": "code",
   "execution_count": 87,
   "id": "893b1b70",
   "metadata": {},
   "outputs": [
    {
     "data": {
      "text/plain": [
       "D_piezo (generic function with 1 method)"
      ]
     },
     "execution_count": 87,
     "metadata": {},
     "output_type": "execute_result"
    }
   ],
   "source": [
    "D_elas(ε,d₁₁t,d₂₁t,d₂₂t,d₂₃t) = PiezoThirdOrderConstTensor(d₁₁t,d₂₁t,d₂₂t,d₂₃t) ⋅² ε\n",
    "\n",
    "D_piezo(∇,a₁₁t,a₂₂t) = TensorValue(a₁₁t,0.0,0.0, a₂₂t) ⋅ ∇"
   ]
  },
  {
   "cell_type": "markdown",
   "id": "b246d785",
   "metadata": {},
   "source": [
    "## FE formulation"
   ]
  },
  {
   "cell_type": "code",
   "execution_count": 88,
   "id": "a017e259",
   "metadata": {},
   "outputs": [
    {
     "data": {
      "text/plain": [
       "project (generic function with 1 method)"
      ]
     },
     "execution_count": 88,
     "metadata": {},
     "output_type": "execute_result"
    }
   ],
   "source": [
    "function project(q,model,dΩ,order)\n",
    "  reffe = ReferenceFE(lagrangian,Float64,order)\n",
    "  V = FESpace(model,reffe,conformity=:L2)\n",
    "  a(u,v) = ∫( u*v )*dΩ\n",
    "  l(v) = ∫( v*q )*dΩ\n",
    "  op = AffineFEOperator(a,l,V,V)\n",
    "  qh = Gridap.solve(op)\n",
    "  qh\n",
    "end"
   ]
  },
  {
   "cell_type": "code",
   "execution_count": 89,
   "id": "347d7ef5",
   "metadata": {},
   "outputs": [
    {
     "data": {
      "text/plain": [
       "SingleFieldFEFunction():\n",
       " num_cells: 77020\n",
       " DomainStyle: ReferenceDomain()\n",
       " Triangulation: BodyFittedTriangulation()\n",
       " Triangulation id: 3631389762746412102"
      ]
     },
     "execution_count": 89,
     "metadata": {},
     "output_type": "execute_result"
    }
   ],
   "source": [
    "reffe_Disp = ReferenceFE(lagrangian,VectorValue{2,Float64},order)\n",
    "        V0_Disp = TestFESpace(model,reffe_Disp;\n",
    "          conformity=:H1,\n",
    "          dirichlet_tags=[\"DirichletBot\",\"DirichletRight\",\"DirichletTop\",\"DirichletLeft\"],\n",
    "          dirichlet_masks=[(true,true), (true,true),(true,true), (true,true)])\n",
    "\n",
    "uh = zero(V0_Disp)"
   ]
  },
  {
   "cell_type": "code",
   "execution_count": 90,
   "id": "f78eb2e8",
   "metadata": {},
   "outputs": [
    {
     "data": {
      "text/plain": [
       "UnconstrainedFESpace()"
      ]
     },
     "execution_count": 90,
     "metadata": {},
     "output_type": "execute_result"
    }
   ],
   "source": [
    "reffe_ElecPot = ReferenceFE(lagrangian,Float64,order)\n",
    "V0_ElecPot  = TestFESpace(model,reffe_ElecPot;\n",
    "  conformity=:H1,\n",
    "  dirichlet_tags=[\"ElectricPotentialBot\",\"ElectricPotentialright\",\"ElectricPotentialTop\",\"ElectricPotentialleft\"],\n",
    "  dirichlet_masks=[true,true,true,true])"
   ]
  },
  {
   "cell_type": "code",
   "execution_count": 91,
   "id": "7fd0dd34",
   "metadata": {},
   "outputs": [
    {
     "data": {
      "text/plain": [
       "MultiFieldFESpace()"
      ]
     },
     "execution_count": 91,
     "metadata": {},
     "output_type": "execute_result"
    }
   ],
   "source": [
    "V0 = MultiFieldFESpace([V0_Disp,V0_ElecPot])"
   ]
  },
  {
   "cell_type": "code",
   "execution_count": 92,
   "id": "0fc50e28",
   "metadata": {},
   "outputs": [
    {
     "data": {
      "text/plain": [
       "stepDispElecPot (generic function with 1 method)"
      ]
     },
     "execution_count": 92,
     "metadata": {},
     "output_type": "execute_result"
    }
   ],
   "source": [
    " function   stepDispElecPot(uh_in,phih_in,vApp,phiApp)\n",
    "    \n",
    "        uApp1(x) = VectorValue(0.0,0.0)\n",
    "        uApp2(x) = VectorValue(vApp,0.0)\n",
    "        uApp3(x) = VectorValue(0.0,0.0)\n",
    "        uApp4(x) = VectorValue(0.0,0.0)\n",
    "        U_Disp = TrialFESpace(V0_Disp,[uApp1,uApp2,uApp3,uApp4])\n",
    "    \n",
    "        phiApp1(x) = 0.0\n",
    "        phiApp2(x) = phiApp\n",
    "        phiApp3(x) = 0.0\n",
    "        phiApp4(x) = 0.0\n",
    "        U_ElecPot = TrialFESpace(V0_ElecPot,[phiApp1,phiApp2,phiApp3,phiApp4])\n",
    "    \n",
    "        U = MultiFieldFESpace([U_Disp,U_ElecPot])\n",
    "    \n",
    "        a((u,ϕ),(v,ψ)) = ∫( (ε(v) ⊙ (σ_elas∘(ε(u),C₁₁₁₁t,C₁₁₂₂t,C₃₃₃₃t))) + (∇(v) ⊙ (σ_piezo∘(∇(ϕ),d₁₁t,d₂₁t,d₂₂t,d₂₃t))) - (∇(ψ)⋅(D_piezo∘(∇(ϕ),a₁₁t,a₂₂t))) + (∇(ψ)⋅(D_elas∘(ε(u),d₁₁t,d₂₁t,d₂₂t,d₂₃t))) )*dΩ\n",
    "        b((v,ψ)) = 0.0\n",
    "    \n",
    "        op = AffineFEOperator(a,b,U,V0)\n",
    "        uhPhi = Gridap.solve(op)\n",
    "        uh_out,phih_out = uhPhi\n",
    "    \n",
    "    return uh_out,phih_out\n",
    "end"
   ]
  },
  {
   "cell_type": "code",
   "execution_count": 93,
   "id": "5e38a9b0",
   "metadata": {},
   "outputs": [
    {
     "data": {
      "text/plain": [
       "(SingleFieldFEFunction(), SingleFieldFEFunction())"
      ]
     },
     "execution_count": 93,
     "metadata": {},
     "output_type": "execute_result"
    }
   ],
   "source": [
    "vApp = 0.0\n",
    "phiApp = 100.0\n",
    "ϕPrev = CellState(0.0,dΩ)\n",
    "ϕh = project(ϕPrev,model,dΩ,order)\n",
    " \n",
    "uh,ϕh = stepDispElecPot(uh,ϕh,vApp,phiApp)"
   ]
  },
  {
   "cell_type": "code",
   "execution_count": 94,
   "id": "f3474be1",
   "metadata": {},
   "outputs": [
    {
     "data": {
      "text/plain": [
       "([\"results_PlateWith+Shapec11.vtu\"],)"
      ]
     },
     "execution_count": 94,
     "metadata": {},
     "output_type": "execute_result"
    }
   ],
   "source": [
    " writevtk(Ω,\"results_PlateWith+Shapec11\",cellfields=\n",
    "        [\"uh\"=>uh,\"phi\"=>ϕh, \"epsi\"=>ε(uh), \"ElecF\"=>-∇(ϕh), \"SigmaE\"=>(σ_elas∘(ε(uh),C₁₁₁₁t,C₁₁₂₂t,C₃₃₃₃t)), \n",
    "        \"SigmaD\"=>(σ_piezo∘(∇(ϕh),d₁₁t,d₂₁t,d₂₂t,d₂₃t)), \"Elec\"=>(D_elas∘(ε(uh),d₁₁t,d₂₁t,d₂₂t,d₂₃t)),\n",
    "        \"ElecD\"=>(D_piezo∘(∇(ϕh),a₁₁t,a₂₂t))])"
   ]
  },
  {
   "cell_type": "code",
   "execution_count": 95,
   "id": "384b2e40",
   "metadata": {},
   "outputs": [
    {
     "name": "stderr",
     "output_type": "stream",
     "text": [
      "WARNING: using Algebra.solve in module Main conflicts with an existing identifier.\n"
     ]
    }
   ],
   "source": [
    "using Gridap.Helpers\n",
    "using Gridap.MultiField\n",
    "using Gridap.Polynomials\n",
    "using Gridap.Arrays\n",
    "using Gridap.FESpaces\n",
    "using Gridap.Algebra"
   ]
  },
  {
   "cell_type": "code",
   "execution_count": 96,
   "id": "b66d9e2c",
   "metadata": {},
   "outputs": [
    {
     "data": {
      "text/plain": [
       "UnstructuredGrid()"
      ]
     },
     "execution_count": 96,
     "metadata": {},
     "output_type": "execute_result"
    }
   ],
   "source": [
    "Gr = get_grid(model)"
   ]
  },
  {
   "cell_type": "code",
   "execution_count": 97,
   "id": "dc026537",
   "metadata": {},
   "outputs": [],
   "source": [
    "Nₑ = num_cells(model)\n",
    "elem = get_cell_node_ids(Gr);"
   ]
  },
  {
   "cell_type": "code",
   "execution_count": 98,
   "id": "9fc7152a",
   "metadata": {},
   "outputs": [],
   "source": [
    "nodes = get_node_coordinates(Gr)\n",
    "Nₙ = num_nodes(model)\n",
    "nodeCoordX = [nodes[i][1] for i in 1:Nₙ]\n",
    "nodeCoordY = [nodes[i][2] for i in 1:Nₙ];"
   ]
  },
  {
   "cell_type": "code",
   "execution_count": 99,
   "id": "1ed0d74d",
   "metadata": {},
   "outputs": [],
   "source": [
    "dataPot = get_array(-∇(ϕh))\n",
    "EVec = return_value(dataPot,Point(nodeCoordX[1],nodeCoordY[1]));"
   ]
  },
  {
   "cell_type": "code",
   "execution_count": 100,
   "id": "9c47ab80",
   "metadata": {},
   "outputs": [],
   "source": [
    "E11el = [EVec[i][1] for i in 1:Nₑ] \n",
    "E22el = [EVec[i][2] for i in 1:Nₑ];"
   ]
  },
  {
   "cell_type": "code",
   "execution_count": 101,
   "id": "5a3bf9b6",
   "metadata": {},
   "outputs": [],
   "source": [
    "dataDisp = get_data(D_elas∘(ε(uh),d₁₁t,d₂₁t,d₂₂t,d₂₃t))\n",
    "DVec = return_value(dataDisp,Point(nodeCoordX[1],nodeCoordY[1]));"
   ]
  },
  {
   "cell_type": "code",
   "execution_count": 102,
   "id": "7ab3af06",
   "metadata": {},
   "outputs": [],
   "source": [
    "D11E = [DVec[i][1] for i in 1:Nₑ] \n",
    "D22E = [DVec[i][2] for i in 1:Nₑ];"
   ]
  },
  {
   "cell_type": "code",
   "execution_count": 103,
   "id": "f1202495",
   "metadata": {},
   "outputs": [],
   "source": [
    "dataDisp1 = get_data(D_piezo∘(∇(-ϕh),a₁₁t,a₂₂t))\n",
    "AVec = return_value(dataDisp1,Point(nodeCoordX[1],nodeCoordY[1]));"
   ]
  },
  {
   "cell_type": "code",
   "execution_count": 104,
   "id": "b93fe06d",
   "metadata": {},
   "outputs": [],
   "source": [
    "a11El = [AVec[i][1] for i in 1:Nₑ] \n",
    "a22El = [AVec[i][2] for i in 1:Nₑ];"
   ]
  },
  {
   "cell_type": "code",
   "execution_count": 105,
   "id": "b2aa2c5b",
   "metadata": {},
   "outputs": [],
   "source": [
    "D11El = D11E + a11El\n",
    "D22El = D22E + a22El;"
   ]
  },
  {
   "cell_type": "code",
   "execution_count": 106,
   "id": "350a971c",
   "metadata": {},
   "outputs": [
    {
     "data": {
      "text/plain": [
       "108.57870447032307"
      ]
     },
     "execution_count": 106,
     "metadata": {},
     "output_type": "execute_result"
    }
   ],
   "source": [
    "AreaEl = get_cell_measure(Ω)\n",
    "D11Avg = sum([D11El[i]*AreaEl[i] for i in 1:Nₑ])/sum(AreaEl)\n",
    "E11Avg = sum([E11el[i]*AreaEl[i] for i in 1:Nₑ])/sum(AreaEl)\n",
    "a₁₁eff = D11Avg/E11Avg"
   ]
  }
 ],
 "metadata": {
  "kernelspec": {
   "display_name": "Julia 1.8.1",
   "language": "julia",
   "name": "julia-1.8"
  },
  "language_info": {
   "file_extension": ".jl",
   "mimetype": "application/julia",
   "name": "julia",
   "version": "1.8.1"
  }
 },
 "nbformat": 4,
 "nbformat_minor": 5
}
