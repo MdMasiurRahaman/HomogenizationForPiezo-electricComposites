{
 "cells": [
  {
   "cell_type": "code",
   "execution_count": 1,
   "id": "efe3a9c3",
   "metadata": {},
   "outputs": [],
   "source": [
    "using SymPy\n",
    "using Plots"
   ]
  },
  {
   "cell_type": "code",
   "execution_count": 2,
   "id": "4545c86e",
   "metadata": {},
   "outputs": [
    {
     "data": {
      "text/plain": [
       "(C₁₁ᵢ, C₁₂ᵢ, C₂₂ᵢ, d₁₁ᵢ, d₁₂ᵢ, d₁₃ᵢ, d₂₁ᵢ, d₂₂ᵢ, d₂₃ᵢ, a₁₁ᵢ, a₂₂ᵢ)"
      ]
     },
     "execution_count": 2,
     "metadata": {},
     "output_type": "execute_result"
    }
   ],
   "source": [
    "x,x₁,y,y₁,r,r₁ = symbols(\"x,x₁,y,y₁,r,r₁\", real = true)\n",
    "E,v= symbols(\"E,v\", real = true)\n",
    "C₁₁ₘ,C₁₂ₘ,C₂₂ₘ,d₁₁ₘ,d₁₂ₘ,d₁₃ₘ,d₂₁ₘ,d₂₂ₘ,d₂₃ₘ,a₁₁ₘ,a₂₂ₘ = symbols(\"C₁₁ₘ,C₁₂ₘ,C₂₂ₘ,d₁₁ₘ,d₁₂ₘ,d₁₃ₘ,d₂₁ₘ,d₂₂ₘ,d₂₃ₘ,a₁₁ₘ,a₂₂ₘ\", real = true)\n",
    "C₁₁ᵢ,C₁₂ᵢ,C₂₂ᵢ,d₁₁ᵢ,d₁₂ᵢ,d₁₃ᵢ,d₂₁ᵢ,d₂₂ᵢ,d₂₃ᵢ,a₁₁ᵢ,a₂₂ᵢ = symbols(\"C₁₁ᵢ,C₁₂ᵢ,C₂₂ᵢ,d₁₁ᵢ,d₁₂ᵢ,d₁₃ᵢ,d₂₁ᵢ,d₂₂ᵢ,d₂₃ᵢ,a₁₁ᵢ,a₂₂ᵢ\", real = true)"
   ]
  },
  {
   "cell_type": "code",
   "execution_count": 3,
   "id": "fe1692da",
   "metadata": {},
   "outputs": [
    {
     "data": {
      "text/latex": [
       "$0.447213595499958$"
      ],
      "text/plain": [
       "0.447213595499958"
      ]
     },
     "execution_count": 3,
     "metadata": {},
     "output_type": "execute_result"
    }
   ],
   "source": [
    "A = 0.15\n",
    "Eq = (3*(x^2))/4 - A\n",
    "p = abs(solve(Eq,x)[1])"
   ]
  },
  {
   "cell_type": "code",
   "execution_count": 4,
   "id": "935c58ae",
   "metadata": {},
   "outputs": [
    {
     "data": {
      "text/plain": [
       "0.01"
      ]
     },
     "execution_count": 4,
     "metadata": {},
     "output_type": "execute_result"
    }
   ],
   "source": [
    "Eₘ = 2450\n",
    "vₘ = 0.34\n",
    "Eᵢ = 170000\n",
    "vᵢ = 0.25\n",
    "hₛ = 0.01"
   ]
  },
  {
   "cell_type": "code",
   "execution_count": 5,
   "id": "1bad7bce",
   "metadata": {},
   "outputs": [
    {
     "data": {
      "text/latex": [
       "$68000.0$"
      ],
      "text/plain": [
       "68000.0000000000"
      ]
     },
     "execution_count": 5,
     "metadata": {},
     "output_type": "execute_result"
    }
   ],
   "source": [
    "λ = (E*v)/((1 + v) * (1 - 2*v))\n",
    "λₘ = simplify(λ(E=>Eₘ,v=>vₘ))\n",
    "λᵢ = simplify(λ(E=>Eᵢ,v=>vᵢ))"
   ]
  },
  {
   "cell_type": "code",
   "execution_count": 6,
   "id": "de9ec9d8",
   "metadata": {},
   "outputs": [
    {
     "data": {
      "text/latex": [
       "$136000.0$"
      ],
      "text/plain": [
       "136000.000000000"
      ]
     },
     "execution_count": 6,
     "metadata": {},
     "output_type": "execute_result"
    }
   ],
   "source": [
    "G = E/((1 + v))\n",
    "Gₘ = simplify(G(E=>Eₘ,v=>vₘ))\n",
    "Gᵢ = simplify(G(E=>Eᵢ,v=>vᵢ))"
   ]
  },
  {
   "cell_type": "code",
   "execution_count": 7,
   "id": "9fd2ae84",
   "metadata": {},
   "outputs": [
    {
     "data": {
      "text/latex": [
       "$3770.98880597015$"
      ],
      "text/plain": [
       "3770.98880597015"
      ]
     },
     "execution_count": 7,
     "metadata": {},
     "output_type": "execute_result"
    }
   ],
   "source": [
    "C₁₁ₘ = λₘ + Gₘ"
   ]
  },
  {
   "cell_type": "code",
   "execution_count": 8,
   "id": "4df6e0ee",
   "metadata": {},
   "outputs": [
    {
     "data": {
      "text/latex": [
       "$204000.0$"
      ],
      "text/plain": [
       "204000.000000000"
      ]
     },
     "execution_count": 8,
     "metadata": {},
     "output_type": "execute_result"
    }
   ],
   "source": [
    "C₁₁ᵢ = λᵢ + Gᵢ"
   ]
  },
  {
   "cell_type": "code",
   "execution_count": 9,
   "id": "421f3375",
   "metadata": {},
   "outputs": [
    {
     "data": {
      "text/latex": [
       "$0.223606797749979$"
      ],
      "text/plain": [
       "0.223606797749979"
      ]
     },
     "execution_count": 9,
     "metadata": {},
     "output_type": "execute_result"
    }
   ],
   "source": [
    "lₘₓ = 1\n",
    "lₐ₁ₙ = p\n",
    "lₙₓ = p/2"
   ]
  },
  {
   "cell_type": "code",
   "execution_count": 10,
   "id": "0cea7096",
   "metadata": {},
   "outputs": [
    {
     "data": {
      "text/plain": [
       "interval (generic function with 1 method)"
      ]
     },
     "execution_count": 10,
     "metadata": {},
     "output_type": "execute_result"
    }
   ],
   "source": [
    "heaviside(x) = 0.5 * (sign(x) + 1)\n",
    "\n",
    "interval(x, a, b) = heaviside(x-a) - heaviside(x-b)"
   ]
  },
  {
   "cell_type": "code",
   "execution_count": 11,
   "id": "1bae0201",
   "metadata": {},
   "outputs": [
    {
     "data": {
      "text/plain": [
       "E1y (generic function with 1 method)"
      ]
     },
     "execution_count": 11,
     "metadata": {},
     "output_type": "execute_result"
    }
   ],
   "source": [
    "E1x(x,ax,bx) = sqrt(C₁₁ᵢ - C₁₁ₘ) * interval(x,ax,bx) \n",
    "E1y(y,ay,by) = sqrt(C₁₁ᵢ - C₁₁ₘ) * interval(y,ay,by) "
   ]
  },
  {
   "cell_type": "code",
   "execution_count": 12,
   "id": "7335c287",
   "metadata": {},
   "outputs": [
    {
     "data": {
      "text/plain": [
       "wₕ (generic function with 1 method)"
      ]
     },
     "execution_count": 12,
     "metadata": {},
     "output_type": "execute_result"
    }
   ],
   "source": [
    "wₕ(x,x₁) = (1/(sqrt(2*pi)*hₛ))*exp(-(x-x₁)^2/(2*hₛ^2))"
   ]
  },
  {
   "cell_type": "code",
   "execution_count": 13,
   "id": "1c7800fa",
   "metadata": {},
   "outputs": [
    {
     "data": {
      "text/latex": [
       "$39.8942280401433 \\left(- 223.734782272465 \\operatorname{sign}{\\left(x₁ - 0.447213595499958 \\right)} + 223.734782272465 \\operatorname{sign}{\\left(x₁ + 0.447213595499958 \\right)}\\right) e^{- 5000.0 \\left(x - x₁\\right)^{2}}$"
      ],
      "text/plain": [
       "                                                                              \n",
       "                                                                              \n",
       "39.8942280401433⋅(-223.734782272465⋅sign(x₁ - 0.447213595499958) + 223.7347822\n",
       "\n",
       "                                                     2\n",
       "                                     -5000.0⋅(x - x₁) \n",
       "72465⋅sign(x₁ + 0.447213595499958))⋅ℯ                 "
      ]
     },
     "execution_count": 13,
     "metadata": {},
     "output_type": "execute_result"
    }
   ],
   "source": [
    "IFx1 = E1x(x₁,-lₙₓ,lₙₓ)*wₕ(x,x₁)\n",
    "IFx2 = E1x(x₁,-lₐ₁ₙ,lₐ₁ₙ)*wₕ(x,x₁)"
   ]
  },
  {
   "cell_type": "code",
   "execution_count": 14,
   "id": "d01bde6e",
   "metadata": {},
   "outputs": [
    {
     "data": {
      "text/latex": [
       "$39.8942280401433 \\left(- 223.734782272465 \\operatorname{sign}{\\left(y₁ - 0.447213595499958 \\right)} + 223.734782272465 \\operatorname{sign}{\\left(y₁ - 0.223606797749979 \\right)}\\right) e^{- 5000.0 \\left(y - y₁\\right)^{2}}$"
      ],
      "text/plain": [
       "                                                                              \n",
       "                                                                              \n",
       "39.8942280401433⋅(-223.734782272465⋅sign(y₁ - 0.447213595499958) + 223.7347822\n",
       "\n",
       "                                                     2\n",
       "                                     -5000.0⋅(y - y₁) \n",
       "72465⋅sign(y₁ - 0.223606797749979))⋅ℯ                 "
      ]
     },
     "execution_count": 14,
     "metadata": {},
     "output_type": "execute_result"
    }
   ],
   "source": [
    "IFy1 = E1y(y₁,-lₙₓ,lₙₓ)*wₕ(y,y₁)\n",
    "IFy2 = E1y(y₁,-lₐ₁ₙ,-lₙₓ)*wₕ(y,y₁)\n",
    "IFy3 = E1y(y₁,lₙₓ,lₐ₁ₙ)*wₕ(y,y₁)"
   ]
  },
  {
   "cell_type": "code",
   "execution_count": 15,
   "id": "3d970a0b",
   "metadata": {
    "scrolled": true
   },
   "outputs": [
    {
     "data": {
      "text/latex": [
       "$\\left(- 126.22883363545 \\sqrt{\\pi} \\operatorname{erf}{\\left(70.7106781186548 x - 15.8113883008419 \\right)} + 126.22883363545 \\sqrt{\\pi} \\operatorname{erf}{\\left(70.7106781186548 x + 15.8113883008419 \\right)}\\right) \\left(- 126.22883363545 \\sqrt{\\pi} \\operatorname{erf}{\\left(70.7106781186548 y - 31.6227766016838 \\right)} + 126.22883363545 \\sqrt{\\pi} \\operatorname{erf}{\\left(70.7106781186548 y - 15.8113883008419 \\right)}\\right)$"
      ],
      "text/plain": [
       "(-126.22883363545⋅√π⋅erf(70.7106781186548⋅x - 15.8113883008419) + 126.22883363\n",
       "545⋅√π⋅erf(70.7106781186548⋅x + 15.8113883008419))⋅(-126.22883363545⋅√π⋅erf(70\n",
       ".7106781186548⋅y - 31.6227766016838) + 126.22883363545⋅√π⋅erf(70.7106781186548\n",
       "⋅y - 15.8113883008419))"
      ]
     },
     "execution_count": 15,
     "metadata": {},
     "output_type": "execute_result"
    }
   ],
   "source": [
    "smoothE1 = integrate(IFx2,(x₁,-lₘₓ,lₘₓ))*integrate(IFy1,(y₁,-lₘₓ,lₘₓ))\n",
    "smoothE2 = integrate(IFx1,(x₁,-lₘₓ,lₘₓ))*integrate(IFy2,(y₁,-lₘₓ,lₘₓ))\n",
    "smoothE3 = integrate(IFx1,(x₁,-lₘₓ,lₘₓ))*integrate(IFy3,(y₁,-lₘₓ,lₘₓ))"
   ]
  },
  {
   "cell_type": "code",
   "execution_count": 16,
   "id": "d45e100e",
   "metadata": {
    "scrolled": true
   },
   "outputs": [
    {
     "data": {
      "text/latex": [
       "$\\left(- 126.22883363545 \\sqrt{\\pi} \\operatorname{erf}{\\left(70.7106781186548 x - 31.6227766016838 \\right)} + 126.22883363545 \\sqrt{\\pi} \\operatorname{erf}{\\left(70.7106781186548 x + 31.6227766016838 \\right)}\\right) \\left(- 126.22883363545 \\sqrt{\\pi} \\operatorname{erf}{\\left(70.7106781186548 y - 15.8113883008419 \\right)} + 126.22883363545 \\sqrt{\\pi} \\operatorname{erf}{\\left(70.7106781186548 y + 15.8113883008419 \\right)}\\right) + \\left(- 126.22883363545 \\sqrt{\\pi} \\operatorname{erf}{\\left(70.7106781186548 x - 15.8113883008419 \\right)} + 126.22883363545 \\sqrt{\\pi} \\operatorname{erf}{\\left(70.7106781186548 x + 15.8113883008419 \\right)}\\right) \\left(- 126.22883363545 \\sqrt{\\pi} \\operatorname{erf}{\\left(70.7106781186548 y - 31.6227766016838 \\right)} + 126.22883363545 \\sqrt{\\pi} \\operatorname{erf}{\\left(70.7106781186548 y - 15.8113883008419 \\right)}\\right) + \\left(- 126.22883363545 \\sqrt{\\pi} \\operatorname{erf}{\\left(70.7106781186548 x - 15.8113883008419 \\right)} + 126.22883363545 \\sqrt{\\pi} \\operatorname{erf}{\\left(70.7106781186548 x + 15.8113883008419 \\right)}\\right) \\left(- 126.22883363545 \\sqrt{\\pi} \\operatorname{erf}{\\left(70.7106781186548 y + 15.8113883008419 \\right)} + 126.22883363545 \\sqrt{\\pi} \\operatorname{erf}{\\left(70.7106781186548 y + 31.6227766016838 \\right)}\\right) + 3770.98880597015$"
      ],
      "text/plain": [
       "(-126.22883363545⋅√π⋅erf(70.7106781186548⋅x - 31.6227766016838) + 126.22883363\n",
       "545⋅√π⋅erf(70.7106781186548⋅x + 31.6227766016838))⋅(-126.22883363545⋅√π⋅erf(70\n",
       ".7106781186548⋅y - 15.8113883008419) + 126.22883363545⋅√π⋅erf(70.7106781186548\n",
       "⋅y + 15.8113883008419)) + (-126.22883363545⋅√π⋅erf(70.7106781186548⋅x - 15.811\n",
       "3883008419) + 126.22883363545⋅√π⋅erf(70.7106781186548⋅x + 15.8113883008419))⋅(\n",
       "-126.22883363545⋅√π⋅erf(70.7106781186548⋅y - 31.6227766016838) + 126.228833635\n",
       "45⋅√π⋅erf(70.7106781186548⋅y - 15.8113883008419)) + (-126.22883363545⋅√π⋅erf(7\n",
       "0.7106781186548⋅x - 15.8113883008419) + 126.22883363545⋅√π⋅erf(70.710678118654\n",
       "8⋅x + 15.8113883008419))⋅(-126.22883363545⋅√π⋅erf(70.7106781186548⋅y + 15.8113\n",
       "883008419) + 126.22883363545⋅√π⋅erf(70.7106781186548⋅y + 31.6227766016838)) + \n",
       "3770.98880597015"
      ]
     },
     "execution_count": 16,
     "metadata": {},
     "output_type": "execute_result"
    }
   ],
   "source": [
    "C₁₁₁₁ = smoothE1 + smoothE2 + smoothE3 + C₁₁ₘ"
   ]
  },
  {
   "cell_type": "code",
   "execution_count": 17,
   "id": "8dc06d93",
   "metadata": {},
   "outputs": [
    {
     "data": {
      "text/latex": [
       "$\\left(- 223.734782272465 \\operatorname{sign}{\\left(x₁ - 0.447213595499958 \\right)} + 223.734782272465 \\operatorname{sign}{\\left(x₁ + 0.447213595499958 \\right)}\\right) \\left(- 223.734782272465 \\operatorname{sign}{\\left(y₁ - 0.223606797749979 \\right)} + 223.734782272465 \\operatorname{sign}{\\left(y₁ + 0.223606797749979 \\right)}\\right) + \\left(- 223.734782272465 \\operatorname{sign}{\\left(x₁ - 0.223606797749979 \\right)} + 223.734782272465 \\operatorname{sign}{\\left(x₁ + 0.223606797749979 \\right)}\\right) \\left(- 223.734782272465 \\operatorname{sign}{\\left(y₁ - 0.447213595499958 \\right)} + 223.734782272465 \\operatorname{sign}{\\left(y₁ - 0.223606797749979 \\right)}\\right) + \\left(- 223.734782272465 \\operatorname{sign}{\\left(x₁ - 0.223606797749979 \\right)} + 223.734782272465 \\operatorname{sign}{\\left(x₁ + 0.223606797749979 \\right)}\\right) \\left(- 223.734782272465 \\operatorname{sign}{\\left(y₁ + 0.223606797749979 \\right)} + 223.734782272465 \\operatorname{sign}{\\left(y₁ + 0.447213595499958 \\right)}\\right) + 3770.98880597015$"
      ],
      "text/plain": [
       "(-223.734782272465⋅sign(x₁ - 0.447213595499958) + 223.734782272465⋅sign(x₁ + 0\n",
       ".447213595499958))⋅(-223.734782272465⋅sign(y₁ - 0.223606797749979) + 223.73478\n",
       "2272465⋅sign(y₁ + 0.223606797749979)) + (-223.734782272465⋅sign(x₁ - 0.2236067\n",
       "97749979) + 223.734782272465⋅sign(x₁ + 0.223606797749979))⋅(-223.734782272465⋅\n",
       "sign(y₁ - 0.447213595499958) + 223.734782272465⋅sign(y₁ - 0.223606797749979)) \n",
       "+ (-223.734782272465⋅sign(x₁ - 0.223606797749979) + 223.734782272465⋅sign(x₁ +\n",
       " 0.223606797749979))⋅(-223.734782272465⋅sign(y₁ + 0.223606797749979) + 223.734\n",
       "782272465⋅sign(y₁ + 0.447213595499958)) + 3770.98880597015"
      ]
     },
     "execution_count": 17,
     "metadata": {},
     "output_type": "execute_result"
    }
   ],
   "source": [
    "Ediscont1 = E1x(x₁,-lₐ₁ₙ,lₐ₁ₙ)*E1y(y₁,-lₙₓ,lₙₓ)\n",
    "Ediscont2 = E1x(x₁,-lₙₓ,lₙₓ)*E1y(y₁,-lₐ₁ₙ,-lₙₓ)\n",
    "Ediscont3 = E1x(x₁,-lₙₓ,lₙₓ)*E1y(y₁,lₙₓ,lₐ₁ₙ)\n",
    "Ediscont = Ediscont1 + Ediscont2 + Ediscont3 + C₁₁ₘ"
   ]
  },
  {
   "cell_type": "code",
   "execution_count": 18,
   "id": "f53cd767",
   "metadata": {},
   "outputs": [
    {
     "data": {
      "image/svg+xml": [
       "<?xml version=\"1.0\" encoding=\"utf-8\"?>\n",
       "<svg xmlns=\"http://www.w3.org/2000/svg\" xmlns:xlink=\"http://www.w3.org/1999/xlink\" width=\"600\" height=\"400\" viewBox=\"0 0 2400 1600\">\n",
       "<defs>\n",
       "  <clipPath id=\"clip970\">\n",
       "    <rect x=\"0\" y=\"0\" width=\"2400\" height=\"1600\"/>\n",
       "  </clipPath>\n",
       "</defs>\n",
       "<path clip-path=\"url(#clip970)\" d=\"\n",
       "M0 1600 L2400 1600 L2400 0 L0 0  Z\n",
       "  \" fill=\"#ffffff\" fill-rule=\"evenodd\" fill-opacity=\"1\"/>\n",
       "<defs>\n",
       "  <clipPath id=\"clip971\">\n",
       "    <rect x=\"480\" y=\"0\" width=\"1681\" height=\"1600\"/>\n",
       "  </clipPath>\n",
       "</defs>\n",
       "<defs>\n",
       "  <clipPath id=\"clip972\">\n",
       "    <rect x=\"47\" y=\"292\" width=\"747\" height=\"1016\"/>\n",
       "  </clipPath>\n",
       "</defs>\n",
       "<path clip-path=\"url(#clip972)\" d=\"\n",
       "M204.789 958.031 L204.789 958.031 L204.789 641.969 L635.211 641.969 L635.211 641.969 L635.211 958.031 L204.789 958.031  Z\n",
       "  \" fill=\"#ffffff\" fill-rule=\"evenodd\" fill-opacity=\"1\"/>\n",
       "<g clip-path=\"url(#clip972)\">\n",
       "<image width=\"746\" height=\"1015\" xlink:href=\"data:image/png;base64,\n",
       "iVBORw0KGgoAAAANSUhEUgAAAuoAAAP3CAYAAAB6WGtXAAAgAElEQVR4nO3dyZIcWdqY589zAgoo\n",
       "DIWq7rbfJFHiILEXMnHHS9JF6ZK4oBl3TeNCxm6atGD/jcIM5BDORSCRmUAOHhHu4d93/Hm6qnrK\n",
       "jDjHPTLijYMTnl3f9wEAAORyMPcAAACAHwl1AABISKgDAEBCQh0AABIS6gAAkJBQBwCAhIQ6AAAk\n",
       "JNQBACAhoQ4AAAkJdQAASEioAwBAQkIdAAASEuoAAJCQUAcAgISEOgAAJCTUAQAgIaEOAAAJCXUA\n",
       "AEhIqAMAQEJCHQAAEhLqAACQkFAHAICEhDoAACQk1AEAICGhDgAACQl1AABISKgDAEBCQh0AABIS\n",
       "6gAAkJBQBwCAhIQ6AAAkJNQBACAhoQ4AAAkJdQAASEioAwBAQkIdAAASEuoAAJCQUAcAgISEOgAA\n",
       "JCTUAQAgIaEOAAAJCXUAAEhIqAMAQEJCHQAAEhLqAACQkFAHAICEhDoAACQk1AEAICGhDgAACQl1\n",
       "AABISKgDAEBCQh0AABIS6gAAkJBQBwCAhIQ6AAAkJNQBACAhoQ4AAAkJdQAASEioAwBAQkIdAAAS\n",
       "EuoAAJCQUAcAgISEOgAAJCTUAQAgIaEOAAAJCXUAAEhIqAMAQEJCHQAAEhLqAACQkFAHAICEhDoA\n",
       "ACQk1AEAICGhDgAACQl1AABISKgDAEBCQh0AABIS6gAAkJBQBwCAhIQ6AAAkJNQBACAhoQ4AAAkJ\n",
       "dQAASEioAwBAQkIdAAASEuoAAJCQUAcAgISEOgAAJCTUAQAgIaEOAAAJCXUAAEhIqAMAQEJCHQAA\n",
       "EhLqAACQkFAHAICEhDoAACQk1AEAICGhDgAACQl1AABISKgDAEBCQh0AABIS6gAAkJBQBwCAhIQ6\n",
       "AAAkJNQBACAhoQ4AAAkJdQAASEioAwBAQkIdAAASEuoAAJCQUAcAgISEOgAAJCTUAQAgIaEOAAAJ\n",
       "CXUAAEhIqAMAQEJCHQAAEhLqAACQkFAHAICEhDoAACQk1AEAICGhDgAACQl1AABISKgDAEBCQh0A\n",
       "ABIS6gAAkJBQBwCAhIQ6AAAkJNQBACAhoQ4AAAkJdQAASEioAwBAQkIdAAASEuoAAJCQUAcAgISE\n",
       "OgAAJCTUAQAgIaEOAAAJCXUAAEhIqAMAQEJCHQAAEhLqAACQkFAHAICEhDoAACQk1AEAICGhDgAA\n",
       "CQl1AABISKgDAEBCQh0AABIS6gAAkJBQBwCAhIQ6AAAkJNQBACAhoQ4AAAkJdQAASEioAwBAQkId\n",
       "AAASEuoAAJCQUAcAgISEOgAAJCTUAQAgIaEOAAAJCXUAAEhIqAMAQEJCHQAAEhLqAACQkFAHAICE\n",
       "hDoAACQk1AEAICGhDgAACQl1AABISKgDAEBCQh0AABIS6gAAkJBQBwCAhIQ6AAAkJNQBACAhoQ4A\n",
       "AAkJdQAASEioAwBAQkIdAAASEuoAAJCQUAcAgISEOgAAJCTUAQAgIaEOAAAJCXUAAEhIqAMAQEJC\n",
       "HQAAEhLqAACQkFAHAICEhDoAACQk1AEAICGhDgAACQl1AABISKgDAEBCQh0AABIS6gAAkJBQBwCA\n",
       "hIQ6AAAkJNQBACAhoQ4AAAkJdQAASEioAwBAQkIdAAASEuoAAJCQUAcAgISEOgAAJCTUAQAgIaEO\n",
       "AAAJCXUAAEhIqAMAQEJCHQAAEhLqAACQkFAHAICEhDoAACQk1AEAICGhDgAACQl1AABISKgDAEBC\n",
       "Qh0AABIS6gAAkJBQBwCAhIQ6AAAkJNQBACAhoQ4AAAkJdQAASEioAwBAQkIdAAASEuoAAJCQUAcA\n",
       "gISEOgAAJCTUAQAgIaEOAAAJCXUAAEhIqAMAQEJCHQAAEhLqAACQkFAHAICEhDoAACQk1AEAICGh\n",
       "DgAACQl1AABISKgDAEBCQh0AABIS6gAAkJBQBwCAhIQ6AAAkJNQBACAhoQ4AAAkJdQAASEioAwBA\n",
       "QkIdAAASEuoAAJCQUAcAgISEOgAAJCTUAQAgIaEOAAAJCXUAAEhIqAMAQEJCHQAAEhLqAACQkFAH\n",
       "AICEhDoAACQk1AEAICGhDgAACQl1AABISKgDAEBCQh0AABIS6gAAkJBQBwCAhIQ6AAAkJNQBACAh\n",
       "oQ4AAAkJdQAASEioAwBAQkIdAAASEuoAAJCQUAcAgISEOgAAJCTUAQAgIaEOAAAJCXUAAEhIqAMA\n",
       "QEJCHQAAEhLqAACQkFAHAICEhDoAACQk1AEAICGhDgAACQl1AABISKgDAEBCQh0AABIS6gAAkJBQ\n",
       "BwCAhIQ6AAAkJNQBACAhoQ4AAAkJdQAASEioAwBAQkIdAAASEuoAAJCQUAcAgISEOgAAJCTUAQAg\n",
       "IaEOAAAJCXUAAEhIqAMAQEJCHQAAEhLqAACQkFAHAICEhDoAACQk1AEAICGhDgAACQl1AABISKgD\n",
       "AEBCQh0AABIS6gAAkJBQBwCAhIQ6AAAkJNQBACAhoQ4AAAkJdQAASEioAwBAQkIdAAASEuoAAJCQ\n",
       "UAcAgISEOgAAJCTUAQAgIaEOAAAJCXUAAEhIqAMAQEJCHQAAEhLqAACQkFAHAICEhDoAACQk1AEA\n",
       "ICGhDgAACQl1AABISKgDAEBCQh0AABIS6gAAkJBQBwCAhIQ6AAAkJNQBACAhoQ4AAAkJdQAASEio\n",
       "AwBAQkIdAAASEuoAAJDQ0dwDYJn+/f/9ez/k67ouIqKbdjAjqjbeoVqdF8yrj37QM2E11eY1fLz/\n",
       "4f956YmQvbKiDiNpMWa7rs15QQ7dtZ+xlnQNzgnmIdRJq1IgVhrrUFdzamtekMv6Z6y9sK00p0pj\n",
       "ZWmEOilVCt9KYx3EKjrM4GssNvVjVymAK42VJRHqpFMpEiuNdYiui+isosNMuvW/mvrxqzSfSmNl\n",
       "KYQ6bKnFSG9pPlBXa8HY2nxgf1z1hVSqxGKVcQ5x9QLaxnxas4/AqXWFjqXoouvWJ6aN87OeT/65\n",
       "VBknSyHUSaNK/FYZ5xAtzaWihyN8P+dmPY77y0S4zGF9/tsJxyoRXGWcLIFQJ4ciwdhS2LY0l+xu\n",
       "D/Jsx/7+8dwV82JmH1oKxypz6SK6/qH3rzA5oU4K2ZLlbnVGeh+RPp0fo7yl4/zjXG4L+PwRVlGV\n",
       "wB2iiwoFXGOUtE6oM7sq0djCh6HsRx9X21G+iZvzFu9TaWffetdVmENLb46oSqgzq1qRnn+c92lh\n",
       "DhncjHPH827fx/tV7QifXbSyb71KBFcZJ60S6vCAFgK3hTnMRZiP5erYfb/iLoK20UJAtjAHmJbr\n",
       "qDObCvFYYYwPaWEO+9Z1V39f/op3x3BsV8f15vFmuBauT15hDhXGSKusqDOLCvFYYYwPaWEO+2Ll\n",
       "fE7XV9uttG+mhVXpCnPobjw2YV+EOtyifOB233ayzjyQ3MR5RqJ9c19DN6LwZUoqxDrsn1BnJqJo\n",
       "Kq7s8jDHqIofo13I3aWLLvqIEldTqcrzBfsn1OE7lVfTK499auK8usurnURcLhsL0u9VvyKMVXX4\n",
       "ng+TwjWVQ7fy2Kf044dCqe/mh1D5XuUPP1YeO4xPqMNXlUO38tgncetVW2jPd8HuNF9TOXgrjx3G\n",
       "ZesLRHx9ga/5yiDSr9jeslTXPjptL/s1lbeSdOtzWXLsMB4r6hB1s06kr1k954ptMTfVXZ0uOmwY\n",
       "lVBn8arGbtVxj0mgczfBfqVqrFcdN4xHqLNoVWO36rjHItAZTrCvVY3equOGcQh1lqto7C450gU6\n",
       "2xPsdaO38+POYgl1Fqvi8/7SI12gs7urYF+mmnMvOGQYhVBnkSoGb8Uxj+HmKjqMZcmr6xVjveKY\n",
       "YXdCncWpGH0Vx7wr21yY3pK3w1QM34pjht0IdRao1jP94iJdoLN317bDLOohVzF8yw0YdiLUWZRq\n",
       "L0pLi/Tu22fGljNnMunWyb6oh1+9WK82XtiFUGcxqkVvtfHuwjYX8ljidphqsV5tvLA9oc6CFHpm\n",
       "LzTUXQl0clrg1WFKzbXUYGFrQp1FqPZiu4TtH67mQg1LWV3vyv0ktn9OQKizANVisNp4t2EVnVqW\n",
       "srpebY7VxgubE+osQJ1n8tYj3So6tS1hdb1a/JYaLGxMqNO0Si84rQfs1blod44swdeNaU0/jGvF\n",
       "eqWxwqaEOs2qFL6VxroNW11oyxK2wlSaX6WxwmaEOg2r8czdcqTb6kLbWt8KUymAywwUNiLUaVKd\n",
       "F5d22erCMixhK0wNzgEtEuo0p9IKbqWxbsJWF5al5a0wleZVaawwjFCHmbQf6bA0rYZiq/OC/IQ6\n",
       "TakSiVXGuQn70SGi3X3rVWK9yjhhGKFOY/I/Q7cYs/ajw3Wt7luvEsElBgmDCHWaUeMFpD32o8Nt\n",
       "Wt63np/jTiuEOk2oskpdZZxDtTYfGF9rsV5lPlXGCfcT6rAnrUVta/OB6bQWja3NB/IS6pRXIRgr\n",
       "jHETrc0Hptda3FaYT4Uxwv2EOg3wTLxPIh22JRz3zwGnNqFOaRVe9FoK25bmAvNoKdZrzKXCGOEu\n",
       "Qp3icj8DtxS2Lc0F5lUjcIepMJf0A4Q7CXXKyv/i0A6RDmOrELjtcKypSqhTUoVwrDDGIVqZB+TT\n",
       "SqxXmEeFMcKPhDpMoJW4bWUekFcrAdnKPCCXo7kHAJsSj/vhOCfWbXdm+m//IJcuuq6P3rmZmONM\n",
       "PUIdRtZC4LYwh6q2W5W875v6m1814PaFzBxaiMgW5gC5CHVKyR6Q2cc3RAtzqOLuKB/z+G96W/2t\n",
       "4xJf+9BC6GafQ/bxwU1CHfhGpE9nP1E+htvGI973R0gCV4Q6ZWSPyOzje0j18Wf0Y9xWPb4Px7uw\n",
       "HFP1WM8+/uzjgytCHcZQPHJF+jjaCfMhbs6t625WjwjaVfWY7CK63oeXYUcuz0gJ2UMy78gelv3Y\n",
       "ptetj+FVpHfX/l6Sm/P+dkyWdhhGVfuSh7mHXvvYshxW1GFHlUPXC9X2bh47B/Km7tp/6r/917qr\n",
       "w/PquqrHrvqfCsD8hDrpVQ7hGhzbocT5Nq5F+7XtMeJtqC7sH5mKNxLkZ+sL7KDym4jKY9+327e2\n",
       "sLlbtsYwQOVtGpXHDvMT6qSWPyYzj+1u+Y9rDgJ9KoJ9c5WDN/PAKx9XlkCow5aqPrmL9IcJ9H0R\n",
       "7JupG5VVxw1zE+okl/PZvWrserG831UsLvXKLXO5Ot6C/WE1j0/mNxlpBwZCnbzyPqlX58B+78cV\n",
       "dOZjhf1+DsoUPNbISqiTWM5nztqr6fXGPSVbXLKyJeZ+mVen75N53GkHxsIJdVLK+2Rek0j/kUCv\n",
       "4Gawc13m6K3J8SQjoQ4bqBi8Xnxu+nEfOvnZv36XesfDGwzYhFAnnYoxnJ/jGfahN+Da6rpTGA7C\n",
       "2LyJIB+hDgNVfANRccxT6LpviReOR3VfV9ej4mryFCrGZcUxwzyEOgl5Bh+DSF+zit4qe9evCN/x\n",
       "OJDkItRJJeuLjeitx170JbB3va68by6yjotlEuok4xlyDEt/Y2EVfWmsrmcO33ocSPIQ6qSR9UWm\n",
       "WvRWG++orKIv2NXq+nJPfbVYzzverONieYQ60ISbHxhluXzQFGiHUCeRfK+s1Vanq413LLa6cNOS\n",
       "t8LkXaW+XdbxphwUCyTUSSHnE3UxCz2GIp3bLTnWw4/DCBb72CEVoQ53qLY6vcRtH/ajc79r+9YX\n",
       "pSv2E7HEcwTDCHVmVy2IM1riMVzinNnWEkNwiXMem2PI/IQ63EYE5tWJdLax9CvCZNc5N3ALoU4C\n",
       "+Z6d843obkuKVld2YTdLuyJMrRXhnEPNOSqW42juAbBseV9E0g5ssab+0OjFxUX0/WrS++B+R0f7\n",
       "eEnqIqKProvo+z3cHRtYn5tsPFaYk1CH7+R98/Cjpaym7+vKLm9+fx2nXz5Oeh/c7fnL3+Lp05/3\n",
       "cE9LivUuuq4vM89lnBMYTqgzs/YjcyoifRqr80+xOnu3l/vipt8vvsTpl1/jxctXcXAw9c5Msc5Q\n",
       "OVf6WQahzmwyrlwvJX7LmDDS19tcrm73p7N38eX8fcT5h7g4exer8w+j3yf3O12dxofVeZyfn8Uv\n",
       "r36Lo6Pjie/xa4DpsERyvqlYxhs6MhLqUNBS3lBM+cHR09OzePP737/99xenr+P/+Of/GPHx7/Hl\n",
       "/GOcXXye5H652397/r/HP//8v8WXWMXfz0/j2fNX8fTnZxPfaxdd9Avo9JwBDNxPqDOjjKGZcUzL\n",
       "tI83I/1qFWefX0ffn8en09fx4fPv8S/f/CWef/xv8Xl1Pul986OfT3+Pv529jb+9+HOcnX+M388+\n",
       "xZcvv8bLX36deCuMiM0l4x9xZBwTSyDUmUXebS/5LWE1fd9z7M8/xPmX1/Hl7F18uPgUrz7/Pf78\n",
       "7r/s7f5Z+/n093h69iaenr2Nvz7/t/Hxp9P4uDqNs9PP8fLVH+PRo0cT3vsSYr3OHDNuNanyGkFb\n",
       "hDqQSoY3Ipe/F+dprJ8kraWN7yIi3sfN4zp/B9UJWWAZhDozmf8l+boMcThElXFuK9uK1TrWu3iU\n",
       "bWANWEUfP/V9vImIL3MP5jsZV3PHU+XNSMZxeh5g/4Q6kMK+L8M4RP/175Ojo3j+9Gl0g4P96teh\n",
       "55nNdPob/2FYWa1Wq3jz/n0cXFzEm+jj00Rj29ySLtsIZCfUoYimV9MTRvr3uoODONzxA43DQz+/\n",
       "fteK7bo4ODiIg4uLOIxsZ771yzZmXK0GbiPUWbymA7iIKS/DOJatR9d1yWe2ncs3HetF9M2LL/8x\n",
       "WcplGzPzhgKm/tVvwAhafjPR6ty6rlv/PfdAJtbF1Vzb06X73MR4Wp4btEOoQ/MplVeLodButD6s\n",
       "1bk3OKVCHHyWzdYXFs0LcAZtnIT5A/W2+59nz8C3bTFN7FlodqN6GT7Yy5IJdUiu3a0hEW3Max9b\n",
       "CLa9j/u/qd/gKi1b3XvXTX4f+9HqXulW5wXtEOosXAuhWM/si88jmWYVfX97h297szR2WF/eRwur\n",
       "61Z25+JPNVguoc5iVYjFdladrylwKcYHjf4h0Twf7Lv+mBsz2ruu2/oKMTm0esnGGqvq3iSxVEId\n",
       "2KsKl2K8z3ir6Hni/C5jR3v39Ubrrq67ZCOwX0IdUktechvKHqYPGSPS5//Q6XZuRvuOwV70GFxq\n",
       "b3W3uT8mgGa4PCOLVGFLSfGWuUezE7tXS5cubGkum2tz3vlPZ/4/gYIpCHVgLyq8OZpCy1Hb8tzu\n",
       "JxqB/RDqkFBrUdtE1Gw4iSVF7FZzbeDYNDCFa7z5gIyEOgvlFWn/ah/zwaNfUKB/r+u6wfVa/wjV\n",
       "n0E9jjnL48OkLM5CG2o2Szre0wd6d/nX1vqb/xhd/Su7bKa9D5bm5nizNEIdkmlt28taa/O5abJA\n",
       "H/167Zch/e0fERGTXN/88pi0HeytXS2lxjXVYUmEOjCZJaymjxvp8+wTvlwFvzT6LzpqvPys8gJT\n",
       "EeosSpur1dm1erzHi+pse9rHvGb6+va6UeM/l9ZW1bOz6s+y+DApJNLSG4mm5vLD/zBGpHclrgxz\n",
       "Ncbdxrm+iZu3kXvmm2jpiiktzQXqs6IOsIHdw7pmCF2+8dplZXxpHzQF2JUVdWB0FUN0iF0jvRtl\n",
       "JX5e6ysw7n4cWtTotIAZCXUWI/tWjOzj21xLc9lNhS0um2pxTrtp6Vhkf0OZfXwwHqEOjKrJF9Ct\n",
       "59R+zO60f73BQ9P46Qb2TKgDE8hfK5P/aqIGtrkMNcZ2mAfvY9JbH0uNUQJ1+DAppFH/RX4pYfqQ\n",
       "/ayiD/8tpVP/NtJvI/JB0Yho5brqLjsJGQh1FiRvRbYSuBcXq7mHcPdZ/v7/uNxjPejgD93eMdUq\n",
       "+m63e9tvI40Y9xcbfbuvwddMf/iY9quz6FdnsVqdxfnFeRytvnvJuuMu5sjLg4ODa9uA2gjc3G84\n",
       "2jnOcB+hziK0EsLZffzwPj58eDP3MAbp4vov8xnwAHngS8ZfRZ9+68zNX2wUMd5vI13f7r2r64P+\n",
       "KGAVq9PXcd6fx+uL8zg8fjzK+KZweHgUv/zyhzg6Pp57KIuR+40EjEOoA6NanZ/GxenvUWO163JV\n",
       "7uGx3teVY0b6XB8+Hfu3ka5v8+5YH7plp4uI1dm7WF18idXZT6OMawpn3WH897Mv8eKXP8aTJ0/9\n",
       "9kxgFEIdZlb1sozfB9jx6jQeXXyK04tPcX7xKS7O3kX082+FGarrDiKiW/9r4N7v9feNce5yffD0\n",
       "ck5jrLLfFetd18XhwUEcRMRhrK9scLz6HCcXX+L4Yv3vJxefr77h4nPE2dudxjKls8PHcb46i9cX\n",
       "Z3H24g/x7NmLBq7403nDATMT6sBWLi4u4vfXf/8WYcer0/g3r/9T/Ku3f4sv5x/i9OJTqQ8WHnSH\n",
       "cXL0U/x89CRedMfxy4DvGSPEMsfcoC0sg27nx9voui5ePn8ej05O4vjduzjuV3H84W/x9PRtPDl7\n",
       "G09P38b7k5c73e8+nR4+jr+++HN87lfx/s0qvnz6GC9e/honjx7NPTSgMKHOQuSNoerOPv8eq4sv\n",
       "cbE6i48f/xF/fP//xr95+1/ic38eq0KhftgdxJOD43hyeBKvHj+JXz/cv9d4Sb+d82qFffvzedfK\n",
       "+k+PH8efjo/j5M2b+On8PB6dvYmnf/8P8fTsTbw/LhTqR4/j6dnb+OuLP8fff/5fY3X+Mf75/HP8\n",
       "/Py3ePbs+dzDa5QPlNI+oU7zCvVQWf3F57g4exNfzt7Ex/OPcXH2Lv7V27/E0cXp3EMb7KiL+Dm6\n",
       "eN4dxKunT+PZL7/cGdO7RXaubS6bGH5Fl/u+/8fvPTo8jD+8ehXvPnyI7uOH6Po+Dt/8Jc4K/aqP\n",
       "06Ofvv1pwN/O3sRfn/85zi9O493FaZx++Rwvf/k1Dg8P5x5mc3yglNYJdZhd0Wr73rdXy6tXzaex\n",
       "ipMosu7Vr8d5EH0crM6j6+7asrDLdRK78me76yL62KWO7n40PHv6NE6Oj+P47ds4Xl3EaeT9jMNp\n",
       "RHy69t8P+ovo+lUc9Bdx8PXfV18/qNz3q1LbwG4q8dMLzRLqMKOqK6ubeBxdPLkM1CoTvmec206h\n",
       "0laXh1yey23i86EV0EcnJ/GnV6/i0du38fn8fOsxTu1stYr30cebiG9vJ9o5wzdZtYb5CHVgYn0c\n",
       "RBfPnzyJ47uuMT10pflr7A792sHhNPB2t43tliL9um1/E+lD33dwcBCvXr6Mi9VqcCGud+Q8/LXf\n",
       "vmLo197xdZ+/fImjT5/iIPp4G+sVdoCxCXVgK0PTs7/298HB/XuOhwTtWF+zyddt+rVjfF8VU8V6\n",
       "RMThtcfL0PsY8nV93z/4RyN939/7p0CXv4n0sO8HvZC2/SgAplLnkzqwNS+RNQw5T3OdS5F+n+3n\n",
       "mfl8LuPc1ec80TYr6jQtfyelH+DeDDlXg87nJKvpg790q9vf4tYv/xqsv/mP8Ue0xcr6JnufB9/+\n",
       "gBsdcr/2ZV+X+wOlzhUtE+owk/xvImoa+7BuE9zTRPpul3Xsbv5jlN86+sN9bBXru/9CpRu3F5mT\n",
       "si4xDPOw9QVIYL9bEaZc7R77truu+/r3qDcbXXd12+PebpVja/sLkJ9QB2Y31raX2aNzxPufIqL3\n",
       "dl8b3tYc5220rVYAExLqwKIMj8JNK22sX2a0v0D/4Z67LsZYRd7gIpo/fNeDX6WegQUR6kAB+9+m\n",
       "MMdi+hRbXDYfwzgxPOMfRlze4khfAzAfoU7jMr8QZx7b/ux3m8I0q+njhG2ux8M8cxrv/GTdTlVX\n",
       "5uOQeWywG6EOM6j+2l91/EPHvd/5zbfV5SFjbYUZfn/jfl02Vcd9qfr4oSKhTrO8qCzJfCd7t8ie\n",
       "f6vLQ7prl3Tc7vvnnGDyg8tosv8cwbaEOpDaWFtjpvmw4m51UCUudh/nJr9cat/bX4qcBGCRhDow\n",
       "nz1G0hR3tdMvICoWiLuMN9uxz31nAFeEOrAXt6VOvvzZ33XLK9rfuHMdnxqPXaBFQh3YSL7GHO8y\n",
       "fJvMbftoTXcAN7Td+Dc5XsO/tN4lGPP9/ACZCXVgC3lWVqv9hslMY9lGpvHv/7Kdu0p08IAShDqQ\n",
       "VqYovGn6VeXMWvvThEZOC9AgoQ6zUAbpjsEkWzO4brML6mQ7yNnGMwfHAPZNqMOepeuPmWQ7DlMP\n",
       "p5XV9EtTzyfb0Wrs9G3NcYD9EupAYXN8mFCp7GaO8+GcATUJdRrmxbl1c3yQdLvba/WxuPm85jgf\n",
       "VoGXwEmmTUIdYOIX+VZDcfp5NXrgAAYS6kBSe4w0PZjTXs+LBwGQj1AHhtvrr21v5a5aD8Dp5tds\n",
       "p7f+kABGI9SBwbTMFqPKOZHxNLJn32MbyEio0yavhExBp/+gkU6nBR5XNEio0yTP10zB42ocjiNT\n",
       "8LiiRUId2JCXQ9ienx9gOKEONEwULYPzDLRJqAMAQEJCHQAAEhLqAACQkFAHGtbPPQD2wnkG2iTU\n",
       "gQ2JItienx9gOKFOk7wUMgWPq3E4jkzB44oWCXXa5BmbKWzxuGr9objV/Fo/KMzD44oGCXVgsH2+\n",
       "DuZ8zVXqP2ik1D22gYyEOjBcozUz7V21nmXTzW+vR67RxzZQm1AHkmqm1NlWs6UOMIxQB5h6Tb3R\n",
       "Bpx+Xo0eOICBhDoN8yLfuiGhOHZMbnd7rT4WN5/XHOej1TdKXOck0yahDhQ25MV57BdwQbCbOc6H\n",
       "cwbUJNRhz6zurWU7DlMPp8824R1NPZ9sR6ux07c1xwH2S6jDLLzapTsGGxSIWNnORsct3UHONp45\n",
       "OAawb0IdSCtdq32z3cBaWVXffh4559/IaQEaJNSBLeyrbB6+n2ofJsw0lm1kGv945z7P4xngOqEO\n",
       "bCRTqK2N92HCTebW2qrycNP/acLwL633QdJ8Pz9AZkId2Ivb+iRfs+xnRFW3wOxv3LmOT43HLtAi\n",
       "oQ7MZ4/BOsVd7XKb1WJ9l/FmO/a57wzgilAHUhsSiGPuQ94sSHcLuCr9t/s4N9n2MvRrx/r8QpGT\n",
       "ACySUKdZXn+XZL6TvVvo9ekfp+vx7bKaPucEkx9cRpP95wi2JdRhBtVfVKqOf+i49zu/Pu2q7npc\n",
       "+bYnJT1cD6o67kvVxw8VCXUal/mVJfPY9hZ9uC0AABtgSURBVGesrS3jXoZvs3MzRmhni/V55rTv\n",
       "bS9DvibXeZlP5uOQeWywG6EOFLD/y/Bt2mdj9Fzfz78Vpu/HivRpv37ALY70NQDzEerAooz5YcXv\n",
       "v36c7JtvK8xYW136a//c9Lse/Kq538kA7JFQB2aXdZvCxrc34v2vV9f3d133Ue9rw9ua47xV+422\n",
       "wDIJdSCB/W5TmDKAp4jOKbbEXG5xmf3NzWy3bWsMkN/R3AOAper7iK6bexTt6SNizMPa9310G56o\n",
       "bb5nwK1ei/Xu8q8NvvvGPyaxTUiP/kZh1Fvjkj9dgHkIdZqWP4bHzsq6hpyrQedz4EnfJKa3eRxN\n",
       "E+vfbv3yrzS2i/QJbt+2lwnkPhjOFS2z9YUF8CxeQ+atCNvd71I++Lj9PDOfz2Wcu/qcJ9pmRR3Y\n",
       "ypCXx/OIuIh1yK1Wq1itVrd/YddFFwOCr+si+n7Yn0F8vc1Bui4OD+5ft9h2hXzalfX5bRvpt33f\n",
       "9cdHf/WFw25v4Nducrv33WZ37e8h5CSwDaEOTOYsIl5HxCr6OP/0KY6/fJl7SHd6fHQUL58/j4N7\n",
       "gl2s3zRmpEdEfPz8Od5+/LjLkPanv7wcZxcyHJiKUIcZ5d9Dv53r2bKKdax/jj5OVhczjehhJ6cX\n",
       "8eUf/4hXz5/Ho5OTO79u23PWf/3GFk730NXrW7/3vm/r+zjv+3jbr0qk71ISfSE7uCAloQ6zq/mB\n",
       "0q7rousO4nIDwKo7jFV3EKvuMPqv/7669jGYD1//zuo4VnG2uoizN7/HL0+exrOnT+/4yh3OV99H\n",
       "H13pN2f9zleOuf17+76P1cHR18dNF++jj/OSgfj15FY+yTeUPAnQDKFO81pdtZ7b4eFh/PrbH+Pd\n",
       "u8fx/u1JXByexH89/L/iw/GL+Hj8PD6cPI+T889zD3Own89+j3/x5j+vry3+4UN8/vIlfnnxIo4O\n",
       "D3/42t22svRfH5P1HpS7fjj2+vevVqt4/fZtXFzbl/5ff/138f89+yU+XpzGx9VZXPR3fKYhoYOu\n",
       "i8fdUTw5ehKPjl/E4cmr6A+O5x5W86z20zqhzkLUXLWu4Nmz5/Ho5FG8+f1xnJ0+iX8+eBQfjp/H\n",
       "h+PncXJRKNRPf48Pxy/iX7z5S3w5exM/n5/F6T/+Ea+ePYufHj/+4et33Xd+Ga0Vgn2Mq9fcdRvv\n",
       "z8/jy9dV2398/hj//y//Ov767F/H6fmnWPV5t0p9r+u6ODn8KR4dPY0nT17F46d/jLODu7dQMQaV\n",
       "TvuEOrCzk0eP4rc//lO8e/ck3r85iC/dQfzn42dxXCrU38SHk+fx8fh5/C9v/xL/9OFvcdav4uzt\n",
       "23h5ehovnj37IarH+JDoOmBzbofZfZvL5e3cfxtfIuJjRLzpz+L9+cd4vzqLv/3yf8aXSqHbHcTh\n",
       "8bM4OnkZz178IX579lKoAzsT6jCz9TaI+iv+BwddvHjxSxwfn8Sb18dxfnAcF4lXRFfnnyJWpxGx\n",
       "TtHTw89xdvg4Tg8fxdnB41jF+tKSq4i4WK3ujPJxruhy9VtHM6ywj3n996G31cf6Z2F9LZU++n4V\n",
       "5ycvojt8HFU+tnkRXVwc/hQnhz/F8eGj4j/RETd/Gy4wB6EOjOLyDceTJ0/j5Ph/jtevH8XFxfnc\n",
       "w7rTxdnnWJ2+jtXZu0FBdf/FSsa7/OJV2O53lX2s1fObt3n37Q27py66w8dxdPI8uq4rkOoA4xLq\n",
       "LIIPlO7X0fFx/PaHf7r7FxxN6M7T/N3/8fnz53jz+ijOu6NYnb15+IYfqMTxt7BcX82cJtqniPPB\n",
       "tzvobtdfdHBwGC9f/TGOjg5v+7+3u2nKs9rPEgh1FiTv9pK23khcBmsXh7dcMSWLo8OjODg4ju7r\n",
       "3/frY+ivnZ/mii63bUHoLv8a8N03/jGp4dtmBh7Tvl/fZt/HwUHex9OV9ZxaiMjcc0g9OBiNUIc0\n",
       "8r6RGKqtNxzb289vIu0v/0pjzL3tlbVxGJqYBJR39+/KBtha/hf5qUfY98v5IN56wXvaydY4lDVG\n",
       "CdQh1IFRNRmnW8+pb36VeT2/LefY4KFp/HQDeybUWYypPjg3luzj21xLc9lN37cX7C3OaTctHYvs\n",
       "fxqUfXwwHqEOjK7VF9Fdw7SF7TBjbHNpNfAbnRYwIx8mBdhA//UTs9t/VPQy1nP+NtK7jPEnPv3V\n",
       "DQEwgBV1SKSl7S9NzeWH/2GMlfG+xPaRqzHuuooeP0R67plvov6flFxpaS5QnxV1FuXyt2dWvwxi\n",
       "La0e7/GumT7XbyO9y9hvsrK/GdlNy3PLyBsJlkWoA5NZwnXVx71m+ncRstMWm03uNSbbktJ2pK8t\n",
       "YIrATIQ6JNPmqn9r87npMkZH/yVHff/deu3w30Z6503e/MdklhDo7a2mW62GbIQ6i7OEVd5MlnS8\n",
       "d/+g6YP3kO63kX5vaR8YXdBUU3C8WRofJmWhPNvvX+1jPnj0BT4gOpV+fe3GYV878VimV38G9Tjm\n",
       "LI9Qh4RaumJKRCOrYBtOosIVXcay1VwbODYNTOEa214gI6EO7EVrbz6GajnYW57b/UQtsB9CnUWq\n",
       "EI3thkCzE7tXS1Hb0lw21+a8859Ob45YJh8mhdTaulpK9Q+WjnEpxmzXTB9qzDe31SO/+PBv0dyE\n",
       "oBlCHdir9VuPum9Axruyy/UVwpzRPvovPrq60aK+v1wmwLSEOotVYXW3yWuqf5tO4Xl9vb75NL/o\n",
       "aN5on2pbWPVV9G/HpPo0flBjS0mFMcIUhDoLVzgWC6vwJmmIdXyOHda3hdM08b6Pz2pU+DzIUGJx\n",
       "Lg48yyXUIbkmV9WjpXn1X+cy5TyGrHredv/zBk79VfRLNVadN9fqvKAdQp1Fa2Vlt7YWYv0qSqcN\n",
       "9ntHMNP9/qidQI/IdFyXqqmHE2zI5RnBC/FsWnwBXvKlC1ude4NTKsTBZ9mEOhTQ0j7f77U6t8to\n",
       "bW9mN/XRbqC3vTWk5blBO2x9YfHa2StdV4VLNm7dNNdifb5tMePbNczzN2L7b7Ly82YChDoU0fQb\n",
       "ioSXbOwj4iIiVhGxWq1idXGxwR6I7ts0csxmWv2N/zDsGOVegW/1UoyXBDBUIdSBFK4+2Jsn1j9F\n",
       "xCr6WF2cx+nbN3GQZFwt6SLL2b60LlghC2Qg1JlJnhiLqLNaXWWc28p4FZ4vEfHfI+Lnvo/DdpdY\n",
       "Z9HF1z3ucw/kO21HepXV9IzjTDcgFkCoA6lkeDPy/ctxHxHv5hjIwsyfQRnjEFgyoc4sMq6cZhzT\n",
       "bTKE7NT2McdHjx7FH/70P8Xvrx/Hp/cn8engJP5y8iI+HD+PD8cv4v3Jy8num9s9PjiKp4c/xaPj\n",
       "Z3H06Jfojp7u8d6XEOl15phxnBnHRPuEOjPKGJsZx7RM+4j1g4ODePXrH+LDo8fx7u1PcX76JP56\n",
       "cBIfjp8L9RkcHz6OR0dP4unjl/HT0z/F6ckve7rnOgG7DBlPRsYxsQRCHQpawqp6xP4u2/j052fx\n",
       "6PHjeP2Pk/gSB/GP7jDe7y0SuXRw9DQOT17ET09fxcuXr+Lk0Ytr/+9UobSUyzB6MwIVCXVmk3Gr\n",
       "yVICuIw9Xrbx6Og4fv3tT/Hm9+P4+P4ozg5OJr0/bndw9DTi6Od4dPwsDm88QUxx/lu/DGNFOd9Q\n",
       "ZBwTyyDUmZko3tZS3lTs87KNBwcH8cur3+Lk0eN4+/ujSe+LuS3pMow547cOB4/5CHX4TsaV/ruI\n",
       "9Wk8ffpzPHr0ePL74Tb7iCKRnlWlscI+CHVmlTeK24/favYd60dHnh7btKRIrybnSfFYYU4Hcw8A\n",
       "Mj455xvR3foNfm17dX3/LbNmHgk1rT84upzwKraaPvcAbpVzVCyHUIfbLCh+y+mX9eaEsXyNVg+b\n",
       "pHrnBm4h1Jmd6NrdEo/hEufMtmqtLI9jiXMem2PI/IQ63KFaCC5xS8jVOVrWvBlq/dhYXmxVuzb8\n",
       "Es8RDCPUScGT9AgWegyvHjsLPQDcYeEfGl3qvEe02McOqQh1Esn3rFhuVb3YeMci1rlpyZFebXU6\n",
       "63hTDooFEupAE1wRhrWlXdkFaJlQJ42sL6zVVqmrjXdUN64Is9BjsFjX9qMv9tRnXZ2+S97xZh0X\n",
       "yyPUScaz4xgWHethK8zyLHmry6W80VuPA0keQp1Usr7QLD18K+qtri/A1Sp61ucO7pL3jUXWcbFM\n",
       "Qp2EPEuOwZuLNavrrbKKfiVv9NbjQJKLUIeBKoZvxTFP4eYHTR2P2r6uoodIX6sY6RXHDPMQ6qQj\n",
       "LqfgeEZvdb2+a6voTmE4CGPzBoJ8hDpsoOKbCC88N9m7XpG96HepdzzEMGxCqJOSJ/JxVXyDMbWb\n",
       "q+uOTU5X58ZzwvcE79gcTzIS6iSW81mzavRWHfeUbq7QCvY8bga6gPpe1UjPPO60A2PhhDpp5X1C\n",
       "r86B/d6Pwc58BPr9HJQpeKyRlVAnuZzPnlVXp70Y3e/H/esO2H5cHW+B/rCax8dqOmxDqMOW8r7o\n",
       "3K/qm4x9siVmX2xx2Uzm2L1f1XHD3IQ6qeWPysxju1v+45qDYJ+KQN9c3UjP/XNT+biyBEIddlA5\n",
       "eCuPfd8E+1gE+nYqx2TlscP8juYeADyk7yO6ro+Ibu6hNMqxHep6cKwfk9/+297HUsfVcRJs23DQ\n",
       "puNNBPkJddhR5TcS67HPPYqavr3AdxFdiPab+pv/SQztpG5MCmHYla0vlJB9m0bekT0s+7FNr79r\n",
       "a8zSjunNeX87Jks7DKOqHbq5h1772LIcVtRhDH1EFF1Vj6j9pwKZfP/Cf3N7TERbx/fm3ETP2KqH\n",
       "ZJ+91KEEoU4Z2WMy+/geUn38Gd3c0x5xe7lUON63F1ftkMysfqTnHn/28cEVoQ58I9anc1sY5Ix3\n",
       "UT4vEQlcEeqUkj0ks49viBbmUMVm8X6f+87V5tUnFOfSQqRnn0P28cFNQh1G1kLotjCHqgZFRPf9\n",
       "mRlWHj43nFkLAdnCHCAXoU45InI/HOfEfE6vMQJ3Pxxn6nF5RphAK5c8bGUekFcr8djKPCAXoU5J\n",
       "FQKywhiHaGUekE8rcVthHhXGCD8S6pTlSXd/xDqMTTjuk2NNVUKd4nI/+7YUuC3NBebVUqRXmEv6\n",
       "AcKdhDql5X+BaCtwW5oLzKNC2A5VYy4Vxgh3Eeo0wLPwPol12FaNsG2LA05tQp3yKoRjhTFuorX5\n",
       "wPRai/QK86kwRrifUIc9aS1uW5sPTKe1YGxtPpCXUKcJVaKxyjiHam0+ML7WorbKfKqME+4n1GmG\n",
       "J+V5XMW6EwBX1j8Tnpfm4bjTCqFOY/I/O7e4Cn31otjWvGA765+D9mKxyhuPEoOEQYQ6TakSwVXG\n",
       "uYm+b3NesJn+2s9CS+pEeo1xwjBCHWbSatS2Oi94WKuR2Oq8ID+hTnMqhWKlsW7CvnWWpeX96JXm\n",
       "VWmsMIxQp0merOdn3zrL0Op+9HqcA1ok1GlYjWftVlfVI+xbp3Wt7ke/VGmFusxAYSNCnWZVCsRK\n",
       "Y92GrTC0peWtLpcqza/SWGEzQp2mVXryXkasR7Q8R5ZgCVtdaoVvpbHCpoQ6C1DnWXwJsd76HGlZ\n",
       "61tdIqpFuucSWifUaV61MKw23m3YCkMtS9jqElFvjtXGC5sT6ixCtSfz/to/W2V1nRqWsIoeEdGX\n",
       "+0ls/5yAUGdRCj2rFxrqrqyuk9NSVtGvKTXXUoOFrQl1FqPa6m218e7i5ur6MuZMVleBvpxIr/aG\n",
       "pNp4YXtCnUWp9uS+pFiP+Brs6/8080hYpvX2j2rPE7upF73Vxgu7EOosUK1n+aXFelhdZ++ubXNZ\n",
       "1EOuXqQv7ASBUGd5KoZvxTHvynYYprfEbS6XakZ6vTHDboQ6i1QxfCuOeQyuDsM0lhroETWDt+KY\n",
       "YXdCncWq+Jy/5GC1us44Fng1lxtqzr3gkGEUQp3lKhq9S491wc52lrzN5VLNSF9/cGXuMcA8hDqL\n",
       "VjV6q457LIKd4QT6Wt1IrzluGIdQZ/GqRm/VcY9JsHM3gX6lauxWHTeMR6hD1E08sb4m2Lki0G+q\n",
       "G7tFhw2jOpp7AJBCHxFdHxHd3CPZWN9HdEXHPrZvQdL1146G49K+a78mS91dUzfS7UuHNSvq8FXl\n",
       "1enKY59Eb5V9Gb5bPXear6kd6XXHDuMS6nBN5eCtPPYpCfYW2d5yv8qhW3nsMD5bX+A7lbeSXI09\n",
       "ouL4p3T14t9H9+3QOEZ1fN3eIuLuUf0YiXT4nlBnJjVDuIL+66HtHOM7XcbA1ZuaCMcqo6vzI+Ae\n",
       "0tujPzkHl/0T6nCLyqvqEfHtc1il57AH1+NPtGchzjfXwkp0C3OA8dmjziwq7KeuMMaHtDCHfbnc\n",
       "73xzP7tjtx9Xx/vmeeBhLQRuhTlUGCMtEurMpkJEVhjjQ1qYw76J9n0Q57trIR4rzKHCGGmVrS/w\n",
       "gPLbYKKNOczl5gv09Q+iRjiem7ClZVwtxGMLc4BpCXVmVSUgq4zzPq4IM46797VHOK7X3Tw2gmws\n",
       "1a/scqlKpFcZJ60S6syuSgSvxzn3KHZz82onxSeTwI8v4N+vuEcs4ziL8v1oJxprzKOd401dQp0U\n",
       "6mRjnZHep8qbo4qGxXtEzWP/Y7UImX1pKRprTKTGKGmdUCeHPiIKhGNLgdvSXLK7PbDuCvjr9nlu\n",
       "7s+SdiKxorYivcZceqVOCkKdNKqEY5VxDmHf+rweDpYhMb+PcTCPVvajX6oT6TXGyRIIdVKpEsFV\n",
       "xjmEfeu5CYalai0Wq8ynyjhZCtdRhy21dn3y1uYDdbUWi63NB/ZHqJNOpWCsNNYh+j6i98t9YCb9\n",
       "+l9N/fhVmk+lsbIUQp2UKgVwpbEO0jc4J0jvayQ29WNXKXwrjZUlEeqkVSkWK411qKs5tTUvyGX9\n",
       "M9ZeJFaaU6WxsjRCHUbSaqy3OC/Iob/2M9YS4Qtj6Xo/TQAAkI4VdQAASEioAwBAQkIdAAASEuoA\n",
       "AJCQUAcAgISEOgAAJCTUAQAgIaEOAAAJCXUAAEhIqAMAQEJCHQAAEhLqAACQkFAHAICEhDoAACQk\n",
       "1AEAICGhDgAACQl1AABISKgDAEBCQh0AABIS6gAAkJBQBwCAhIQ6AAAkJNQBACAhoQ4AAAkJdQAA\n",
       "SEioAwBAQkIdAAASEuoAAJCQUAcAgISEOgAAJCTUAQAgIaEOAAAJCXUAAEhIqAMAQEJCHQAAEhLq\n",
       "AACQkFAHAICEhDoAACQk1AEAICGhDgAACQl1AABISKgDAEBCQh0AABIS6gAAkJBQBwCAhIQ6AAAk\n",
       "JNQBACAhoQ4AAAkJdQAASEioAwBAQkIdAAASEuoAAJCQUAcAgISEOgAAJCTUAQAgIaEOAAAJCXUA\n",
       "AEhIqAMAQEJCHQAAEhLqAACQkFAHAICEhDoAACQk1AEAICGhDgAACQl1AABISKgDAEBCQh0AABIS\n",
       "6gAAkJBQBwCAhIQ6AAAkJNQBACAhoQ4AAAkJdQAASEioAwBAQkIdAAASEuoAAJCQUAcAgISEOgAA\n",
       "JCTUAQAgIaEOAAAJCXUAAEhIqAMAQEJCHQAAEhLqAACQkFAHAICEhDoAACQk1AEAICGhDgAACQl1\n",
       "AABISKgDAEBCQh0AABIS6gAAkJBQBwCAhIQ6AAAkJNQBACAhoQ4AAAkJdQAASEioAwBAQkIdAAAS\n",
       "EuoAAJCQUAcAgISEOgAAJCTUAQAgIaEOAAAJCXUAAEhIqAMAQEJCHQAAEhLqAACQkFAHAICEhDoA\n",
       "ACQk1AEAICGhDgAACQl1AABISKgDAEBCQh0AABIS6gAAkJBQBwCAhIQ6AAAkJNQBACAhoQ4AAAkJ\n",
       "dQAASEioAwBAQkIdAAASEuoAAJCQUAcAgISEOgAAJCTUAQAgIaEOAAAJCXUAAEhIqAMAQEJCHQAA\n",
       "EhLqAACQkFAHAICEhDoAACQk1AEAICGhDgAACQl1AABISKgDAEBCQh0AABIS6gAAkJBQBwCAhIQ6\n",
       "AAAkJNQBACAhoQ4AAAkJdQAASEioAwBAQkIdAAASEuoAAJCQUAcAgISEOgAAJCTUAQAgIaEOAAAJ\n",
       "CXUAAEhIqAMAQEJCHQAAEhLqAACQkFAHAICEhDoAACQk1AEAICGhDgAACQl1AABISKgDAEBCQh0A\n",
       "ABIS6gAAkJBQBwCAhIQ6AAAkJNQBACAhoQ4AAAkJdQAASEioAwBAQkIdAAASEuoAAJCQUAcAgISE\n",
       "OgAAJCTUAQAgIaEOAAAJCXUAAEhIqAMAQEJCHQAAEhLqAACQkFAHAICEhDoAACQk1AEAICGhDgAA\n",
       "CQl1AABISKgDAEBCQh0AABIS6gAAkJBQBwCAhIQ6AAAkJNQBACAhoQ4AAAkJdQAASEioAwBAQkId\n",
       "AAASEuoAAJCQUAcAgISEOgAAJCTUAQAgIaEOAAAJCXUAAEhIqAMAQEJCHQAAEhLqAACQkFAHAICE\n",
       "hDoAACQk1AEAICGhDgAACQl1AABISKgDAEBCQh0AABIS6gAAkJBQBwCAhIQ6AAAkJNQBACAhoQ4A\n",
       "AAkJdQAASEioAwBAQkIdAAASEuoAAJCQUAcAgISEOgAAJCTUAQAgIaEOAAAJCXUAAEhIqAMAQEJC\n",
       "HQAAEhLqAACQkFAHAICEhDoAACQk1AEAICGhDgAACQl1AABISKgDAEBCQh0AABIS6gAAkJBQBwCA\n",
       "hIQ6AAAkJNQBACAhoQ4AAAkJdQAASEioAwBAQkIdAAASEuoAAJCQUAcAgISEOgAAJCTUAQAgIaEO\n",
       "AAAJCXUAAEhIqAMAQEJCHQAAEhLqAACQkFAHAICEhDoAACQk1AEAICGhDgAACQl1AABISKgDAEBC\n",
       "Qh0AABIS6gAAkJBQBwCAhIQ6AAAkJNQBACAhoQ4AAAkJdQAASEioAwBAQkIdAAASEuoAAJCQUAcA\n",
       "gISEOgAAJCTUAQAgIaEOAAAJCXUAAEhIqAMAQEJCHQAAEhLqAACQkFAHAICEhDoAACQk1AEAICGh\n",
       "DgAACQl1AABISKgDAEBCQh0AABIS6gAAkJBQBwCAhIQ6AAAkJNQBACAhoQ4AAAkJdQAASEioAwBA\n",
       "QkIdAAASEuoAAJCQUAcAgISEOgAAJCTUAQAgIaEOAAAJCXUAAEhIqAMAQEJCHQAAEhLqAACQkFAH\n",
       "AICEhDoAACQk1AEAICGhDgAACQl1AABISKgDAEBCQh0AABIS6gAAkJBQBwCAhIQ6AAAkJNQBACAh\n",
       "oQ4AAAkJdQAASEioAwBAQkIdAAASEuoAAJCQUAcAgISEOgAAJCTUAQAgIaEOAAAJCXUAAEhIqAMA\n",
       "QEJCHQAAEhLqAACQkFAHAICEhDoAACQk1AEAICGhDgAACQl1AABISKgDAEBCQh0AABIS6gAAkJBQ\n",
       "BwCAhIQ6AAAkJNQBACAhoQ4AAAkJdQAASEioAwBAQkIdAAASEuoAAJCQUAcAgISEOgAAJCTUAQAg\n",
       "IaEOAAAJCXUAAEhIqAMAQEJCHQAAEhLqAACQ0P8A5KoubFzCrR0AAAAASUVORK5CYII=\n",
       "\" transform=\"translate(47, 292)\"/>\n",
       "</g>\n",
       "<defs>\n",
       "  <clipPath id=\"clip973\">\n",
       "    <rect x=\"960\" y=\"292\" width=\"73\" height=\"1016\"/>\n",
       "  </clipPath>\n",
       "</defs>\n",
       "<g clip-path=\"url(#clip973)\">\n",
       "<image width=\"72\" height=\"1015\" xlink:href=\"data:image/png;base64,\n",
       "iVBORw0KGgoAAAANSUhEUgAAAEgAAAP3CAYAAACPmQh6AAAI/ElEQVR4nO3dwXHbQBBFQSw5svOP\n",
       "yIFZIhyB5x3JQ3cEqle/4MWSls6fx9d98V+Pd/8An06gIFCY81ujjTpBoCBQmPNLo406QaAgUJjz\n",
       "9Xz3z/DRLCgIFAQKc0ajjTpBoCBQmMszaKVOECgIFOY8NdqoEwQKAgXPoKBOECgIFOY8z7t/ho9m\n",
       "QUGgIFCYyzlopU4QKAgUvIsFdYJAQaAw56HRRp0gUBAoOAcFdYJAQaAw18Od9MaCgkBBoOBdLKgT\n",
       "BAoCBe9iQZ0gUBAozOUctFInCBQECnPcB60sKAgUBArug4I6QaAgUPAMCuoEgYJAwWfzwYKCQEGg\n",
       "4BwU1AkCBYGCZ1BQJwgUBAo+mw/qBIGCQMFn88GCgkBBoOBdLKgTBAoCBe9iQZ0gUBAozDnexTYW\n",
       "FAQKAgXvYkGdIFDwqhHUCQIFgYKPfYIFBYGCQME5KKgTBAoChTlHo406QaAgUPAuFiwoCBQECt7F\n",
       "gjpBoCBQ8NFzUCcIFAQK7oOCOkGgIFDwK7qCBQWBgkDBu1hQJwgUBApzeRdbqRMECgIFn80HCwoC\n",
       "BYGCz+aDOkGgIFDwuVhQJwgUBArupIM6QaAgUPDZfLCgIFAQKHgXC+oEgYJAwZ10UCcIFAQKPpsP\n",
       "FhQECgIF31EM6gSBgkDB52JBnSBQECg4BwV1gkBBoOA+KFhQECgIFHwuFtQJAgWBgu8HBXWCQEGg\n",
       "4BwU1AkCBYGCP6ceLCgIFAQKzkFBnSBQ8PWXoE4QKAgUfP0lqBMECgIFX38JFhQECgIF56CgThAo\n",
       "CBRcuQZ1gkBBoOBOOqgTBAoCBe9iQZ0gUBAouJMOFhQECgIF56CgThAoCBTcBwV1gkBBoOAcFNQJ\n",
       "AgWBgj+fFSwoCBQECt7FgjpBoCBQ8C4W1AkCBYGC70kHdYJAQaDgV5UGdYJAQaDgHBTUCQIFgcJc\n",
       "flXpyoKCQEGg4HOxoE4QKAgUvIsFdYJAQaDgs/mgThAoCBS8iwV1gkBBoOBOOlhQECgIFNwHBXWC\n",
       "QEGg4DuKQZ0gUBAoOAcFdYJAQaDgc7GgThAoCBScg4I6QaAgUPDZfFAnCBR89BwsKAgUBApeNYI6\n",
       "QaAgUHDlGtQJAgWBguuOoE4QKAgUnIOCOkGgIFBwHxTUCQIFgYJzUFAnCBQECs5BQZ0gUBAozPFn\n",
       "RFcWFAQKAgXvYkGdIFAQKHgXC+oEgYJAwTkoqBMECgIF56CgThAoCBScg4I6QaAgUPB/NYI6QaAg\n",
       "UHAOCuoEgYJAwX1QUCcIFAQKnkFBnSBQECj4PYrBgoJAQaDgHBTUCQIFgYI76aBOECgIFJyDgjpB\n",
       "oCBQcA4K6gSBgkDBOSioEwQKAgXnoKBOECgIFJyDgjpBoCBQcA4K6gSBgkDBOSioEwQK/pkP6gSB\n",
       "gkDBP/NBnSBQECj471DBgoJAQaDgHBTUCQIFgYL7oKBOECgIFDyDgjpBoCBQmNu72EqdIFAQKLiT\n",
       "DhYUBAoCBe9iQZ0gUBAozO0ZtFInCBQECnNd3sU2FhQECgKFud0HrSwoCBQECqPRTp0gUBAoOAcF\n",
       "CwoCBYHC3O6DVhYUBAoCBXfSwYKCQEGg4BwULCgIFAQKc9/v/hE+mwUFgYJAwTkoWFAQKAgUnIOC\n",
       "BQWBgkBh7ts5aGNBQaAgUHAOChYUBAoCBc+gYEFBoCBQ8AwKFhQECgIFz6BgQUGgIFCYl2fQyoKC\n",
       "QEGg4BwULCgIFAQKnkHBgoJAQaAw9+vdP8Jns6AgUPDPfLCgIFAQKLhyDRYUBAoCBa8awYKCQEGg\n",
       "4F0sWFAQKAgUPIOCBQWBgkDBu1iwoCBQECjMy0FoZUFBoCBQ8C4WLCgIFAQK3sWCBQWBgkDBOShY\n",
       "UBAoCBQ8g4IFBYGCQGFe3sVWFhQECgIF56BgQUGgIFCY20NoZUFBoCBQcA4KFhQECgIF90HBgoJA\n",
       "QaDgHBQsKAgUBAqeQcGCgkBBoOB70sGCgkBBoOD3KAYLCgIFgYJ3sWBBQaAgUJjbQWhlQUGgIFBw\n",
       "DgoWFAQKAgX3QcGCgkBBoOBzsWBBQaAgUPAuFiwoCBQECp5BwYKCQEGg4HfaBwsKAgXXHcGCgkBB\n",
       "oOBVI1hQECgIFDyDggUFgYJAwa/HCRYUBAoCBeegYEFBoCBQ8AwKFhQECgIFHz0HCwoCBYGCz+aD\n",
       "BQWBgkDBu1iwoCBQECh4BgULCgIFgYLP5oMFBYGCQME5KFhQECgIFPwp42BBQaAgUPBrAoMFBYGC\n",
       "QMFn88GCgkBBoOA+KFhQECgIFLyLBQsKAgWBgnNQsKAgUBAo+BN+wYKCQEGg4F0sWFAQKAgUvIsF\n",
       "CwoCBYGCc1CwoCBQECj4flCwoCBQECh4FwsWFAQKAgW/RzFYUBAoCBScg4IFBYGCQMF9ULCgIFAQ\n",
       "KPhcLFhQECgIFLyLBQsKAgVXrsGCgkBBoOC6I1hQECgIFFx3BAsKAgWBguuOYEFBoCBQ8AwKFhQE\n",
       "CgIFfz4rWFAQKAgU/OmaYEFBoCBQcCcdLCgIFAQK7oOCBQWBgkDBOShYUBAoCBR8RzFYUBAoCBT8\n",
       "X41gQUGgIFBwHxQsKAgUBArug4IFBYGCQMF3FIMFBYGCQMG7WLCgIFAQKLiTDhYUBAoCBeegYEFB\n",
       "oCBQcCcdLCgIFAQK7qSDBQWBgkDBu1iwoCBQECh4FwsWFAQKAgWfiwULCgIFgYJ3sWBBQaAgUPAu\n",
       "FiwoCBQECj4XCxYUBAoCBe9iwYKCQEGg4E46WFAQKLjuCBYUBAoCBc+gYEFBoCBQcOUaLCgIFAQK\n",
       "zkHBgoJAQaDgz4gGCwoCBYGCc1CwoCBQECh4BgULCgIFgYJnULCgIFAQKMzLQ2hlQUGgIFBwDgoW\n",
       "FAQKAoX58QxaWVAQKAgUnIOCBQWBgkDBMyhYUBAoCBT8t/BgQUGgIFBwHxQsKAgUBAr+z2qwoCBQ\n",
       "ECg4BwULCgIFgYI76WBBQaAgUJgfd9IrCwoCBYGCd7FgQUGgIFDwLhYsKAgUBArOQcGCgkBBoDDf\n",
       "7oNWFhQECgIF56BgQUGgIFCYb99RXFlQECgIFObbOWhlQUGgIFDwDAoWFAQKAoX56056ZUFBoPAP\n",
       "38EfROHdM9kAAAAASUVORK5CYII=\n",
       "\" transform=\"translate(961, 292)\"/>\n",
       "</g>\n",
       "<g clip-path=\"url(#clip970)\">\n",
       "<text style=\"fill:#000000; fill-opacity:1; font-family:Arial,Helvetica Neue,Helvetica,sans-serif; font-size:89px; text-anchor:start;\" transform=\"rotate(0, 1068.76, 1225.58)\" x=\"1068.76\" y=\"1225.58\">25000</text>\n",
       "</g>\n",
       "<g clip-path=\"url(#clip970)\">\n",
       "<text style=\"fill:#000000; fill-opacity:1; font-family:Arial,Helvetica Neue,Helvetica,sans-serif; font-size:89px; text-anchor:start;\" transform=\"rotate(0, 1068.76, 1098.82)\" x=\"1068.76\" y=\"1098.82\">50000</text>\n",
       "</g>\n",
       "<g clip-path=\"url(#clip970)\">\n",
       "<text style=\"fill:#000000; fill-opacity:1; font-family:Arial,Helvetica Neue,Helvetica,sans-serif; font-size:89px; text-anchor:start;\" transform=\"rotate(0, 1068.76, 972.059)\" x=\"1068.76\" y=\"972.059\">75000</text>\n",
       "</g>\n",
       "<g clip-path=\"url(#clip970)\">\n",
       "<text style=\"fill:#000000; fill-opacity:1; font-family:Arial,Helvetica Neue,Helvetica,sans-serif; font-size:89px; text-anchor:start;\" transform=\"rotate(0, 1068.76, 845.297)\" x=\"1068.76\" y=\"845.297\">100000</text>\n",
       "</g>\n",
       "<g clip-path=\"url(#clip970)\">\n",
       "<text style=\"fill:#000000; fill-opacity:1; font-family:Arial,Helvetica Neue,Helvetica,sans-serif; font-size:89px; text-anchor:start;\" transform=\"rotate(0, 1068.76, 718.536)\" x=\"1068.76\" y=\"718.536\">125000</text>\n",
       "</g>\n",
       "<g clip-path=\"url(#clip970)\">\n",
       "<text style=\"fill:#000000; fill-opacity:1; font-family:Arial,Helvetica Neue,Helvetica,sans-serif; font-size:89px; text-anchor:start;\" transform=\"rotate(0, 1068.76, 591.774)\" x=\"1068.76\" y=\"591.774\">150000</text>\n",
       "</g>\n",
       "<g clip-path=\"url(#clip970)\">\n",
       "<text style=\"fill:#000000; fill-opacity:1; font-family:Arial,Helvetica Neue,Helvetica,sans-serif; font-size:89px; text-anchor:start;\" transform=\"rotate(0, 1068.76, 465.012)\" x=\"1068.76\" y=\"465.012\">175000</text>\n",
       "</g>\n",
       "<g clip-path=\"url(#clip970)\">\n",
       "<text style=\"fill:#000000; fill-opacity:1; font-family:Arial,Helvetica Neue,Helvetica,sans-serif; font-size:89px; text-anchor:start;\" transform=\"rotate(0, 1068.76, 338.25)\" x=\"1068.76\" y=\"338.25\">200000</text>\n",
       "</g>\n",
       "<polyline clip-path=\"url(#clip970)\" style=\"stroke:#000000; stroke-linecap:round; stroke-linejoin:round; stroke-width:4; stroke-opacity:1; fill:none\" points=\"\n",
       "  1032.76,1307.63 1032.76,1199.99 1056.76,1199.99 1032.76,1199.99 1032.76,1073.22 1056.76,1073.22 1032.76,1073.22 1032.76,946.463 1056.76,946.463 1032.76,946.463 \n",
       "  1032.76,819.701 1056.76,819.701 1032.76,819.701 1032.76,692.94 1056.76,692.94 1032.76,692.94 1032.76,566.178 1056.76,566.178 1032.76,566.178 1032.76,439.416 \n",
       "  1056.76,439.416 1032.76,439.416 1032.76,312.654 1056.76,312.654 1032.76,312.654 1032.76,292.372 \n",
       "  \"/>\n",
       "<defs>\n",
       "  <clipPath id=\"clip974\">\n",
       "    <rect x=\"1247\" y=\"292\" width=\"747\" height=\"1016\"/>\n",
       "  </clipPath>\n",
       "</defs>\n",
       "<path clip-path=\"url(#clip974)\" d=\"\n",
       "M1404.79 958.031 L1404.79 958.031 L1404.79 641.969 L1835.21 641.969 L1835.21 641.969 L1835.21 958.031 L1404.79 958.031  Z\n",
       "  \" fill=\"#ffffff\" fill-rule=\"evenodd\" fill-opacity=\"1\"/>\n",
       "<g clip-path=\"url(#clip974)\">\n",
       "<image width=\"746\" height=\"1015\" xlink:href=\"data:image/png;base64,\n",
       "iVBORw0KGgoAAAANSUhEUgAAAuoAAAP3CAYAAAB6WGtXAAAgAElEQVR4nOzd23bjSNqn9/8b4EZU\n",
       "ZlZl97T9tU/s8U34knxRviTfgtcaH8yatTz293V3lZSiKAIRPgC405YbkHgj8Py6VaXKpKgAQJEP\n",
       "Q0HQUkoCAAAA4EsYegAAAAAA3iLUAQAAAIcIdQAAAMAhQh0AAABwiFAHAAAAHCLUAQAAAIcIdQAA\n",
       "AMAhQh0AAABwiFAHAAAAHCLUAQAAAIcIdQAAAMAhQh0AAABwiFAHAAAAHCLUAQAAAIcIdQAAAMAh\n",
       "Qh0AAABwiFAHAAAAHCLUAQAAAIcIdQAAAMAhQh0AAABwiFAHAAAAHCLUAQAAAIcIdQAAAMAhQh0A\n",
       "AABwiFAHAAAAHCLUAQAAAIcIdQAAAMAhQh0AAABwiFAHAAAAHCLUAQAAAIcIdQAAAMAhQh0AAABw\n",
       "iFAHAAAAHCLUAQAAAIcIdQAAAMAhQh0AAABwiFAHAAAAHCLUAQAAAIcIdQAAAMAhQh0AAABwiFAH\n",
       "AAAAHCLUAQAAAIcIdQAAAMAhQh0AAABwiFAHAAAAHCLUAQAAAIcIdQAAAMAhQh0AAABwiFAHAAAA\n",
       "HCLUAQAAAIcIdQAAAMAhQh0AAABwiFAHAAAAHCLUAQAAAIcIdQAAAMAhQh0AAABwiFAHAAAAHCLU\n",
       "AQAAAIcIdQAAAMAhQh0AAABwiFAHAAAAHCLUAQAAAIcIdQAAAMAhQh0AAABwiFAHAAAAHCLUAQAA\n",
       "AIcIdQAAAMAhQh0AAABwiFAHAAAAHCLUAQAAAIcIdQAAAMAhQh0AAABwiFAHAAAAHCLUAQAAAIcI\n",
       "dQAAAMAhQh0AAABwiFAHAAAAHCLUAQAAAIcIdQAAAMAhQh0AAABwiFAHAAAAHCLUAQAAAIcIdQAA\n",
       "AMAhQh0AAABwiFAHAAAAHCLUAQAAAIcIdQAAAMAhQh0AAABwiFAHAAAAHCLUAQAAAIcIdQAAAMAh\n",
       "Qh0AAABwiFAHAAAAHCLUAQAAAIcIdQAAAMAhQh0AAABwiFAHAAAAHCLUAQAAAIcIdQAAAMAhQh0A\n",
       "AABwiFAHAAAAHCLUAQAAAIcIdQAAAMAhQh0AAABwiFAHAAAAHCLUAQAAAIcIdQAAAMAhQh0AAABw\n",
       "iFAHAAAAHCLUAQAAAIcIdQAAAMAhQh0AAABwiFAHAAAAHCLUAQAAAIcIdQAAAMAhQh0AAABwiFAH\n",
       "AAAAHCLUAQAAAIcIdQAAAMAhQh0AAABwiFAHAAAAHCLUAQAAAIcIdQAAAMAhQh0AAABwiFAHAAAA\n",
       "HCLUAQAAAIcIdQAAAMAhQh0AAABwiFAHAAAAHCLUAQAAAIcIdQAAAMAhQh0AAABwiFAHAAAAHCLU\n",
       "AQAAAIcIdQAAAMAhQh0AAABwiFAHAAAAHCLUAQAAAIcIdQAAAMAhQh0AAABwiFAHAAAAHCLUAQAA\n",
       "AIcIdQAAAMAhQh0AAABwiFAHAAAAHCLUAQAAAIcIdQAAAMAhQh0AAABwiFAHAAAAHCLUAQAAAIcI\n",
       "dQAAAMAhQh0AAABwiFAHAAAAHCLUAQAAAIcIdQAAAMAhQh0AAABwiFAHAAAAHCLUAQAAAIcIdQAA\n",
       "AMAhQh0AAABwiFAHAAAAHCLUAQAAAIcIdQAAAMAhQh0AAABwiFAHAAAAHCLUAQAAAIcIdQAAAMAh\n",
       "Qh0AAABwiFAHAAAAHCLUAQAAAIcIdQAAAMAhQh0AAABwiFAHAAAAHCLUAQAAAIcIdQAAAMAhQh0A\n",
       "AABwiFAHAAAAHCLUAQAAAIcIdQAAAMAhQh0AAABwiFAHAAAAHCLUAQAAAIcIdQAAAMAhQh0AAABw\n",
       "iFAHAAAAHCLUAQAAAIcIdQAAAMAhQh0AAABwiFAHAAAAHCLUAQAAAIcIdQAAAMAhQh0AAABwiFAH\n",
       "AAAAHCLUAQAAAIcIdQAAAMAhQh0AAABwiFAHAAAAHCLUAQAAAIcIdQAAAMAhQh0AAABwiFAHAAAA\n",
       "HCLUAQAAAIcIdQAAAMAhQh0AAABwiFAHAAAAHCLUAQAAAIcIdQAAAMAhQh0AAABwiFAHAAAAHCLU\n",
       "AQAAAIcIdQAAAMAhQh0AAABwiFAHAAAAHCLUAQAAAIcIdQAAAMAhQh0AAABwiFAHAAAAHCLUAQAA\n",
       "AIcIdQAAAMAhQh0AAABwiFAHAAAAHCLUAQAAAIcIdQAAAMAhQh0AAABwiFAHAAAAHCLUAQAAAIcI\n",
       "dQAAAMAhQh0AAABwiFAHAAAAHCLUAQAAAIcIdQAAAMAhQh0AAABwiFAHAAAAHCLUAQAAAIcIdQAA\n",
       "AMAhQh0AAABwiFAHAAAAHCLUAQAAAIcIdQAAAMAhQh0AAABwiFAHAAAAHCLUAQAAAIcIdQAAAMAh\n",
       "Qh0AAABwiFAHAAAAHCLUAQAAAIcIdQAAAMAhQh0AAABwiFAHAAAAHCLUAQAAAIcIdQAAAMAhQh0A\n",
       "AABwiFAHAAAAHCLUAQAAAIcIdQAAAMAhQh0AAABwiFAHAAAAHCLUAQAAAIcIdQAAAMAhQh0AAABw\n",
       "iFAHAAAAHCLUAQAAAIcIdQAAAMAhQh0AAABwiFAHAAAAHCLUAQAAAIcIdQAAAMAhQh0AAABwiFAH\n",
       "AAAAHCLUAQAAAIcIdQAAAMAhQh0AAABwiFAHAAAAHCLUAQAAAIcIdQAAAMAhQh0AAABwiFAHAAAA\n",
       "HCLUAQAAAIcIdQAAAMAhQh0AAABwiFAHAAAAHCLUAQAAAIcIdQAAAMAhQh0AAABwiFAHAAAAHCLU\n",
       "AQAAAIcIdQAAAMAhQh0AAABwiFAHAAAAHCLUAQAAAIcIdQAAAMAhQh0AAABwiFAHAAAAHCLUAQAA\n",
       "AIcIdQAAAMAhQh0AAABwiFAHAAAAHCLUAQAAAIcIdQAAAMAhQh0AAABwiFAHAAAAHCLUAQAAAIcI\n",
       "dQAAAMAhQh0AAABwiFAHAAAAHCLUAQAAAIcIdQAAAMAhQh0AAABwiFAHAAAAHCLUAQAAAIcIdQAA\n",
       "AMAhQh0AAABwiFAHAAAAHCLUAQAAAIcIdQAAAMAhQh0AAABwiFAHAAAAHCLUAQAAAIcIdQAAAMAh\n",
       "Qh0AAABwiFAHAAAAHCLUAQAAAIcIdQAAAMAhQh0AAABwiFAHAAAAHCLUAQAAAIcIdQAAAMAhQh0A\n",
       "AABwiFAHAAAAHCLUAQAAAIcIdQAAAMAhQh0AAABwiFAHAAAAHCLUAQAAAIcIdQAAAMAhQh0AAABw\n",
       "iFAHAAAAHCLUAQAAAIcIdQAAAMAhQh0AAABwiFAHAAAAHCLUAQAAAIcIdQAAAMAhQh0AAABwiFAH\n",
       "AAAAHCLUAQAAAIcIdQAAAMAhQh0AAABwiFAHAAAAHJoMPQCM0//2v/8rHXM5M0my6w6mR7mN91il\n",
       "bhcwrKR01D1hbnLbruPH+3/+Hz+5I8RNMaMO9KTEmDUrc7sAH2zvZ6wkVuA2AcMg1OFWToGY01iP\n",
       "tdumsrYL8KX9GSsvbHPappzGirEh1OFSTuGb01iPwiw6MIAuFov6scspgHMaK8aEUIc7OUViTmM9\n",
       "hplkzKIDA7H2f0X9+OW0PTmNFWNBqANnKjHSS9oeIF+lBWNp2wPcDmd9gSu5xGIu4zzG7gG0jO0p\n",
       "zS0CJ68zdIyFyaw9MGUcn3Z7/G9LLuPEWBDqcCOX+M1lnMcoaVty9HWE3+bYtOP4vEwIlyG0x7+c\n",
       "cMwlgnMZJ8aAUIcPmQRjSWFb0rZ4936Qe9v3n4/no5gnZm6hpHDMZVtMsvTV81fg6gh1uOAtWT6W\n",
       "z0g/Q6Rfz9soL2k/v92W9wLef4TlKJfAPYYphwLOY5QoHaGOweUSjSW8GIr16P0qO8pPcbjdxPu1\n",
       "lLNu3SyHbSjpyRFyRahjUHlFuv9xfqaEbfDgMM7Znx97He+72iF8LlHKuvVcIjiXcaJUhDrwhRIC\n",
       "t4RtGAph3pfdvns9404EnaOEgCxhG4Dr4jzqGEwO8ZjDGL9SwjbcmtnuY/MW7+zDvu326+H+xvFK\n",
       "OD95DtuQwxhRKmbUMYgc4jGHMX6lhG24FWbOh7Q/285M+2lKmJXOYRvs4LYJ3AqhDrwj+8C17UrW\n",
       "gQfiG3HuEdF+ui50pYxPU5JDrAO3R6hjIETRtXBml6+xj3LxNtoJuY+YTEnK4mwqueL+ArdHqAOv\n",
       "5DybnvPYr404z93mbCfSZtqYIH0t9zPCMKsOvMaLSYE9OYduzmO/prcvCkX+Dl+EitdyfvFjzmMH\n",
       "+keoA52cQzfnsV/Fu2dtQXleBTuHeU/OwZvz2IF+sfQFkLoH+DwfGYj0HZa3jNXeS6dZy74n56Uk\n",
       "1h7LLMcO9IcZdUD5Zh2R3mL2HDssizmU7+x0psMGekWoY/Ryjd1cx90nAh0fI9h3co31XMcN9IdQ\n",
       "x6jlGru5jrsvBDqOR7C3co3eXMcN9INQx3hlGrtjjnQCHecj2PONXuPHHaNFqGO0crzfH3ukE+i4\n",
       "3C7YxynPbc9wyEAvCHWMUo7Bm+OY+3A4iw70Zcyz6znGeo5jBi5HqGN0coy+HMd8KZa54PrGvBwm\n",
       "x/DNcczAZQh1jFBe9/Sji3QCHTe3txxmVDe5HMM3uwEDFyHUMSq5PSiNLdJt+5qx8WwzPLE22Ud1\n",
       "88sv1nMbL3AJQh2jkVv05jbeS7DMBX6McTlMbrGe23iB8xHqGJGM7tkzGuqlCHT4NMKzw2S1rVkN\n",
       "FjgboY5RyO3BdgzLPzibC/Iwltl1y+4nsfxjAhDqGIHcYjC38Z6DWXTkZSyz67ltY27jBU5HqGME\n",
       "8rknLz3SmUVH3sYwu55b/GY1WOBkhDqKltMDTukBuzsW5W4jxqBbmFb0zTivWM9prMCpCHUUK6fw\n",
       "zWms52CpC8oyhqUwOW1fTmMFTkOoo2B53HOXHOksdUHZSl8Kk1MAZzNQ4CSEOoqUz4NLuVjqgnEY\n",
       "w1KYPHAMUCJCHcXJaQY3p7GegqUuGJeSl8LktF05jRU4DqEODKT8SAfGptRQLHW7AP8IdRQll0jM\n",
       "ZZynYD06IJW7bj2XWM9lnMBxCHUUxv89dIkxy3p0YF+p69ZzieAsBgkchVBHMfJ4ACkP69GB95S8\n",
       "bt0/9jtKQaijCLnMUucyzmOVtj1A/0qL9Vy2J5dxAp8j1IEbKS1qS9se4HpKi8bStgfwi1BH9nII\n",
       "xhzGeIrStge4vtLiNoftyWGMwOcIdRSAe+JbItKBcxGOt8cOR94IdWQthwe9ksK2pG0BhlFSrOex\n",
       "LTmMEfgIoY7M+b4HLilsS9oWYFh5BO5xctgW9wMEPkSoI1v+HxzKQaQDfcshcMvBvkauCHVkKYdw\n",
       "zGGMxyhlOwB/Son1HLYjhzECbxHqwBWUErelbAfgVykBWcp2AL5Mhh4AcCri8TbYz47ZeUcmbf8B\n",
       "X0xmSYljc2XsZ+SHUAd6VkLglrANuTpvVvKzL0qHlzri+gmZIZQQkSVsA+ALoY6seA9I7+M7Rgnb\n",
       "kIuPo7zP/X/qdaV3x0V83UIJoet9G7yPDzhEqAPYItKv5zZR3of3xkO83w4hCWCHUEc2vEek9/F9\n",
       "Jffxe/Q2bnPdv1/HO2HZp9xj3fv4vY8P2CHUgT5kHrlEej/KCfNjHG6b2WH1EEGXyj0mTbLEi5eB\n",
       "C3F6RmTBe0j6HdnXvO9b96zdh7tIt72PMTnc7u0+Gdtu6FXepzz0PfS89y3Ggxl14EI5hy4PVOc7\n",
       "3HfsyEO291na/me+s8PDMst13+X+WwFgeIQ63Ms5hPPAvj0WcX6OvWjfWx5DvB3LxPqRa+GJBPxj\n",
       "6QtwgZyfROQ89lt7f2kLTvfO0hgcIedlGjmPHRgeoQ7X/Mek57F9zP9+9YFAvxaC/XQ5B6/ngee8\n",
       "XzEGhDpwplzv3In0rxHot0KwnybfqMx13MDQCHU45/PePdfY5cHyc7tYHOuZW4ay298E+9fy3D+e\n",
       "n2S4HRhAqMMvv3fquWPHvvZ2Bh3DYYb9c+yUa+C2Bq8IdTjm854z79n0/MZ9TSxx8YolMZ/zPDv9\n",
       "Gc/jdjswjByhDpf83pnniUh/i0DPwWGwY5/n6M0T+xMeEerACXIMXh58Dr1dhw7/WL/+kfz2B08w\n",
       "gFMQ6nAnxxj2j/0p1qEXYG92nUModkLfeBIBfwh14Eg5PoHIcczXYLZNPLE/ctfNrivH2eRryDEu\n",
       "cxwzMAxCHQ5xD94HIr3FLHqpWLu+Q/j2hx0JXwh1uOL1wYbozQ9r0ceAtev58vvkwuu4ME6EOpzh\n",
       "HrIPY39iwSz62DC77jl888OOhB+EOtzw+iCTW/TmNt5eMYs+YrvZ9fEe+txi3e94vY4L40OoAyjC\n",
       "4QtGMV680BRAOSZDDwDY8ffImtvsdG7j7cu5S11SStuv7z7FwGx7MJPOvy2bpDTS42oySxltt9fx\n",
       "trchYGiEOlxg9qsHI92HfaxH30RCSmkb73t/e/b17pR8cC7ZP4f7xd7cEaR3/uyU6x5rrIvO7MFo\n",
       "bztwhVAHPpDb7PQYl31c5xglxZi2n/NAfV229w+zww9p/7ce5xznzYtMx3YcTaaUUad7nVUHhkeo\n",
       "Y3C5BbFHY9yHp25zSungNzer1YuUUpszSUpKijEqxqgUo2KK3YxkWw+by50/4Au+1qtLw8pst1vM\n",
       "FCzIQlAIQcGC5nd3B8F+yez6+EJwjNvcN/YhhkeoA+8ZYfhm44IXjR4+4Cb9+ec/1dQv3d8lpdR0\n",
       "8R75nfcAzIJkof23TLP5vX789lPT6VTS/pOt82bXzdL+cy+4YpJd+GQYKBChDgf8BbG/EX1sTLPp\n",
       "fZ4fPXXF1tQrpWapdplLlFLT/fsaa9Vx6PUa9SBZtY315/pZdf2iH7/9RYvFvaTdcTt3KYwpSaNZ\n",
       "e5zXjLDPZfU+R4XxINQxKL8vInU7sNG6JNJTSopNs1vEkqRKURNJ0ZKiGk1tLbNmF+uK3Aqu7HVA\n",
       "vjQmqY11s6AmrlUr6eGPdlnS/eJeFkL3tefH+qhfZOqazyjmtoIhEerAK36fPLw1ltn0PmbSVy8r\n",
       "Pf36c/uAO7WouWpNQlQMjSbW6LeFaToJUmxjPoT2g8foK0hSfPWLi4fnpMfnZvvGVY01WjVL1S/S\n",
       "459RL6tn/fjxuybdUpjzjSnWM5tVH8UxAY5HqGNg5UfmtRDpx9gLlG5Wff3yS0pRKSSZNZpbrRAa\n",
       "VdboLph+zEzf5uEg1IP5fQfFXKUkxZgUoxRTe870x3nSn7Okh+eoJiY1koJJLzGpXq3V1CvV9Yu+\n",
       "//ipxeL+4jXrxDqO43OmH+NAqGMwHsNnLPGbjQtn0vfDJG3O8KKk2DzLUiMLjaRGE6t1r2d9k+mb\n",
       "TD+C6fvcZIpdrJuC+bzNZiuELtJ3wf4wner7VPpz2s2uv9Rql5QnKUWt60ZrJT1057u/v/+mlNrT\n",
       "L14S63SYJz6fVIzjCR08ItSBDI3lCcUl54bff+OilJKa2Cg2tVKspVRrVkX9XJjmMk3NdK+ov8b/\n",
       "R781tX7Upu8TU7NcSuuXNtTD2UPBOyxUqhYLKVRtsMekafU/Ktz/VLCkKiQlS1ot13tvRGVS90Lf\n",
       "7Qt+zXTZgcntnOPn8hnAAD5HqGNAHqvH45jGqb8nI91LSDdxF9tYTzHKkun7wrSoTPfJ9DMF/SX9\n",
       "Qz+bB32vTU29VPPcfoTAraNPVrWhXi3uZbOZYpQm9qSJ/V1h8W8KZkqSoqR/LButmtj+PiTVSqlR\n",
       "im1cmy49x7pExHrj8VccHseEMSDUMQiPSwg8juk9Y5hN73MbU9LejOzmDY7aUI/RFKN0Nzf9PjX9\n",
       "nky/x6C/pGf9bP67mmbZftRPap6W7asf0Y8QVN23od4G+0JTe9LEnjUJS01m/ybZQo2p/XhKWq/b\n",
       "J1kx1mpic/CupcT6MfLZRo9LTXJ5jEBZCHUArlzticirR32z9oWK2xeKxqjm+UlNfFKTntTEpZo/\n",
       "f6n5tVSzfGqXwTSE+iX2F5jYpNJu0Ur353eNwmRzbOzgK99e2TUqLp+QBTAOhDoG4mtqIpdZ6lzG\n",
       "ea4hZqzM2hnZ0L3jaXxZtTPosY3z5uGXmof289Q0Be/969vvX5tU7bqWuPvTJj0pLdYKc9t7InXz\n",
       "Ybqcze1PLk9GPI6Tn37cHqEOwIU+33X0Q92Dfnr16L85o0vogj3VtZrV03Ymvfn1pPpfvw6WvvCQ\n",
       "fbqDvT6pulO+JKWYVElq0lKNnhTTUrZol7Jsgl0W29eOvrmivo3ptI0AvCPUgUwUPZt+i0g/agjd\n",
       "mufNu/Hsf6SkWR01TbtR0nHHW5u07j5PkmSmVEelppHqKDWNFKNSjErtORsPfsNiN30xX+mnbfQ4\n",
       "Ww3gPYQ6Rq/oAM7EJadh7N3Bydd3n27WU88l3RE4J2skPZn0ay9+zSRL2v2Bqyoey2kbPeMJBUCo\n",
       "Axko+cmEy21rzwPYfvL6RaiSJiHo+/xOwdpzNr4/+itsU59XeZX4eXulm933Uq9VrVcKSXq0dnn6\n",
       "mwumzVV4KbOSQ7HkbQPKQagD3iJxRHI83dmma0IImk2m75wS0LLcrr6kd0I7dYvLJ/VaVYqaSHr5\n",
       "+BquOr5zsF59SMWuPwKOQqhj1MYcVH7kexD2I/3cc3hfdu7v23j94tvP7P+GZP885/kiFIfGEyWM\n",
       "GaEOOOdyaUgPct8u26ysfx2hZhlv1ftOCe12Qv0w0FNKme+TUpeJlLpdQDkIdYxc3vmQq6wnWPf0\n",
       "MaP+zrUOun/eW7pyivb513sz6vkfdGZ2h8JvNTBehDpGK4dYzH3W+V0OTsXoj5917YdLVyQCaaPU\n",
       "UzbmMavOkySMFaEO4KZcnYrxEhdvgp84/0iv0e58W4/DKRsB3BahDrhWRN1seQ/Tc52y7CXXF1a+\n",
       "9yLRr7/GTnohai7Km90t7tcEQDHC0AMAhpDDkpJMe+4IxW7Yp8ws20h/raRtOV2Z2+3/cPr/DRRw\n",
       "DYQ6gJvI4cnRNZQctSVv2+eIRgC3QagDDpUWtUVHzQcbN6aI/XRbC94HZW0aTz4Ajwh1jBSPSLdX\n",
       "5j5/s1UjCvTXzOxNvZa7J8rdMr/Y5xgfXkyK0RlpQw1mTPv7+oFum/+fLR3+o3eb86iX+CLS95T3\n",
       "wlLf2N8YG0IdcKa0ZS+t0rbnRq7wLqd2+A9Jh+8milOUdraUPM6pDowJoQ7gaoqfTe99A4dZJ7z/\n",
       "bqLSFd7oqPAbArO8AK6FNeoYlTJnq70rc3+bDrfskmUvmxdjeunZdqn5ZWvt97/29b4qS7lb5pOf\n",
       "nxPgFgh1wJGSnkjwYPoVuziGb2E3Rt/jHJrzw3gCQhjwhKUvAK5itxTgumsCDqPitHfOHEaeIbR5\n",
       "Etn7spheJLVjS3tPfHZjdH1zAIBPEOoAenb+i9HszSefXqr9bgffK23/vfnzlNLVw/3YWXHvs+fH\n",
       "2AX71/vUrnj2l8Pj2r6o8/i14p9cKH15iQO722z+xxaAP4Q6RsP7shLv4zvWNpRSOnne9bhJ+Pf/\n",
       "0t69RBvs14n1449VCYH+2mabjt+v/e+D3ffezKhLdnD0r6/9zrvPyjjW3s/+4n18QH8IdQBniTGq\n",
       "aZruvzZBHLdRnNo/2F5+mMfU1P2/G882onan1btuVuW5zOUU7ay5dI0j3Ib44UdqnhWruV5envW8\n",
       "nO5OYTnQE939GfXdi4KDzEyz2ezm4wFQFkIdwFlSSnr69aDV85PaFJZSbJRS3Fxg/9IDjPCtwxnY\n",
       "bi70Sm1XxszqcU5ZDvP5FXXXZXufdzbnek9xpbj6h9ZxrYf18rLv15t2oBaCzII2g//27Xd9+/5j\n",
       "VLcFAP0i1AE3cnswb2epm+ZFcf2r/ZPUSCm2H9sY9pHph29Nkw5HZnb+OQTfibDbhNnx71J67Xcj\n",
       "3Y7ovTXpZ5xk/N1t2r3oQCmt1az+qdgsP7r0zRychNKCZNU21h/qF63XK/347acmk+lwgzxLaW/m\n",
       "BOSJUMeI+A3hHCbcNstcNiFWKSkoqlKSWZLiUhNLSoqS2pl1s70H+iEf81/v30qaTqTJxDSppMlE\n",
       "srhbqpOUjo5Le/Vf1zmWl13vR0tDrrFk5fVSmG3uvR7/ZmnU3sdkc0wmpulEWgTTYiotpkmLqeml\n",
       "2Y21XYs+3Iz6670Wk9TEbkbdKpmCmtRo+Ssqxqjv33/XbD7Panbd9xs58UQC40CoYxQyemx0q16v\n",
       "9fDwr+1/T0yaqdZ9aBRDG+bf76S7iSml0J4qz9Ma7VfjuJtJi4Xpx7eg3+5NP2LQ5DkpNY3UNEpN\n",
       "lGLaTrS/mXB/Z7v63dbr77v9FzD3Ge2fBd7BvoxJKUalpv2YhKQf301pYUr3QSEGTSdR80nQvEr6\n",
       "Po9S8nKDauN8+3mUHldJL90TWrOkF631Uj9ptZSaeq27xXd9//FDIVQDjbgsvp9IAP0g1AEcZbNY\n",
       "ZL16VIqNGkuyEDWzWvNQK6VaCzN9m5q+z9tYt+6UeXbFteDHOjz1Y9J8Zrq/N90vTD8WQT+SafIc\n",
       "NHmW0mNs19vHRinG969H11niMtSM62G09z/L/qHUPjna7GtLUd/uTem7KURTVQVVVdK8ivq+Cq9O\n",
       "nzjgjao7q9HmFwIxSY8z6dcq6deqkSypkqlKppfml9ZxraZ50bp+0Y8fv2s2mw83dgDZINSBgeVy\n",
       "WsbtaQ4lpbiSWS2lRrJGwWrNw1r3lnQv071M3+5MlaXd8m/re8b5TN0YZlNpcWe6vwu6vzPNJE0W\n",
       "7Uc1T0oPjdREWYyyJiqktD1KJnvniF2ycY5+86D9Uy9K586yv16vHswUzGSpe0vsmNpp6NhWbqob\n",
       "abWUXp6ll6Xuwouq+VoTJU2UNFXSt+rEk5xfk5ni3sqdWhN9n0q/pqbHadKvVdSyqRUkWYpaxUZx\n",
       "3WiVolLT6PuPn7pbLIbeii9wGkRgaIQ6gHcdzqomxdgoNrUUa6VYq5rU+us30zyYZhY0l+n35v/V\n",
       "b+lJ35LpWzLZeq24fulOWbd3vumhHvgPTraeZEqaLkzThWkSouLzi5rHpexxqfi41CxJIQRFM0Wz\n",
       "NjA31/OqrM8Nbc9rli89m8t+rIdQ6X4+V716VuxebPzytFK01J4+05JC818VVo+y50fZ6lGTxe9a\n",
       "mOl+mfS0THpevTOOW92WXh/vyURhNu9m1QpehPwAACAASURBVJNqTfWvxd81n841m0rzqfQfT0nP\n",
       "z+vtqUpTqGTdqUtjdypTz8cfwPAIdYwED4bn2JzHOqX2vOkpRaXYLnNJsVaMpu8L0/epaa6g36Pp\n",
       "Z/Oo3+N/6Fs0WVqraVaKq9XBG9F0Vz7INknd2tZufbT+GTWdm6ZVVFy+KC5Xu1iPSZNGmgVTI6ky\n",
       "aaJuZvjiMeRzmzz9zY0Ov7YN0vbzeVWp6V4UWpm0Wq3VqIv1plGoG01Xj7LVg9Lid1kImgXTYi2t\n",
       "XoX6TW9CB+fgl8KkUpjPFWZzKVSqNdWdPeuP6d81m/7UfNI++YiW9O+/1u1pS2OQUq2Y4vbnSQpZ\n",
       "3RZ84QWlKB+hjuLxGHg+k7pf73dRuznlYqylsFaKphiDZhPTX+5MP5ugn9H0e9PoZ/PfZXGpGFeK\n",
       "qY311NSHpwkc8DG2DafYBvufUaprxeVqF+tPz2piUtNEVXXSLCVNLGhWVbqbzlRV1ZmB5WuZyynO\n",
       "fXOj7X7q1j9NzJRMqrrlMKsmavX41K5Vr9sXllb1/yWbzmQhSCFoVpm+736ncXv7L3KwbkZ9PVeY\n",
       "z1XN5oqze93FZy3sWXfVv+lf3/6uFEzRpGjSv/9q9BzX7RPdWCs2jWJMMosKoX15LcF+Ol5QitIR\n",
       "6sDg/D44p0/+S5KqylQFtR8mxeWTmvUvxfiopnlUeHpU87RSfOlCva531+XhwbV7ApJiVFDSXKZY\n",
       "t2uJYx27M9tIMzNNwuYdMPffledEPczED81MSjq9jiaTie6rSlUVFNYvCk2tpu7W/qcgS9LLw1LN\n",
       "c630XCs9r2WT5+3+tmrzZkID65YD2XwifbuT1nNpNle6S5r8FlVVSZOQNKlS+5uX/ddRp90naf8H\n",
       "IMnx3QCz1sCQCHVgQPlMoKXtWtzXD9rdhKeqqg329PKsevmoOj4oPP1S8/Cs5nGp+LIf6turHczB\n",
       "cvXYrhcOZpqZpDoq1nEb6fOq0t10Iku2/z5Op32/fA72lzZPWE5dChOCabFYqJpUWq1ftFqvZXXd\n",
       "7f/2habr9Ur181rpeS6bVNtdbaF7QyEPTArzqeLzi6ofC4X5WqmW6vAg+/E3hWn3BLYyBXu9j/Zf\n",
       "nNkWuutOF7PWwJAIdQBfeqfPN38jyRSCqQrWhkkwKdaqH7oZ9cdnxYdnNQ9LxXXtLkg240lKCjLV\n",
       "kqYmTZuoqZlmVaXFbKbF/K47W0m3P+KHV/n2exQU6fvefSfSI8xmM1WTSiGE7t1tG6V1lKXNOdZr\n",
       "rVe1FMLhzc7JfkxqQ716flFcvaj6vmhD3R5V26OSrRS+W/sktjKFkN4OffMz5WOTADhFqAPoQdoG\n",
       "x/Z0jEpS9+ZBahopNpquG03TfhwP63UjVSZN1X5MutnbEKSQTCFZO6sbuncxDTpqA0qN9I2jY31z\n",
       "kZikYKpCpfv5oj3V5fOzbF1rqqQmJa0lrSU1TXz3KoawsldtXZnSuuk+6u5NsnYf6s7o8s4Jgrbo\n",
       "dABfIdQxAjwUDmkTKkHtx1zS3SbWTz40/R7LN9fWjWtaVZpN9u4eo/behvL4MZQe6Rsnxfrmxagm\n",
       "WZLuZ3eaWKVKy3aBVZKaGPXSNIpfvkriEqdd20uSnkx6sd1XnvlKBfSKNfQoG6GOovnvJPcD7J1J\n",
       "qiR9m840nU7fvGupvfPZZ3/09o+P+7o338e0HYupPX/65u9MUop754E/wnUjfTfOY6XDf/Q/olOW\n",
       "wURt+ypJmlZT/bYI7UssuzGmlBS3T47Sx6P+cEnWJ3/9xdcdLCHvvvfT6lmT2OiX2mDfPAEdx0+w\n",
       "7xhmDT1KRqgDA/H/JOI60t7HtJocnLrvo11ybPT2cbn3/m77Z0fGwHUi/bLTOtrhPy5619EPv8cp\n",
       "sb5t8M0bIh2+UDSl1D6je/1lR17/pZdLe2NLKWkSKlVNo4naB85m77K+M7YfxDAwDEIdwGA2Qfsm\n",
       "bI88jeExQXxpvJ8a3X1H+rVm5u0g2vsrsFNfYPrR5c3sIJb3//y1j77+q8u8vtz+99s/s81YljAB\n",
       "8IdQB+DG10F03KzyUWF1xJOBkwOtx6C7ZRxe8s6jH1zhSdOvH8b65ro6R8X2UZeR3psD3/9+fT55\n",
       "AYBzEeoABtXnspY+Z9hPX33c15sZDffOpee+8+ib61H3pkgnXc/Xlz/mCcVxl2m/3zExfu4pKAGg\n",
       "D07ePQIAPnPUQph+v+MAk+lmw0X6bgz9zOYP+MuIzTX2dBkAGA6hjsJ5fiD2PDZfjlzJcsw1Hfsd\n",
       "j7zc5nv3Eba+bg/DbFN/x6e/2wxanneW57EBlyHUgQEQCMM4dr/f9viYu0jfaMd1y7Xy/V4O/WK/\n",
       "A7dHqKNYPKj49s5JEHu9tlu5LLKHX+rylf2zw5z39UNuYH+3KeeHafS8/xwB5yLUAbjw0QPtcS8Q\n",
       "Peo7HDmOUx7xL6uDXOLi8nEefwV9vtj3kjME5XJsAJSNUAcwCtcIr4vegCizErxkvN72PQDkglAH\n",
       "gK3b1F9ukb5xu3HnuX8AoG+EOoDM9XcavlM69PxozT1Czxv/Kfvr+ItyCkYAZSPUAThW3mn4PI3l\n",
       "HJ7Gf/vTdgLAbRHqAIbzRUV5isJD159V9qy03yZ8uTmFHDcA+SHUgUHwwC852wtXWZqBfaedUMfP\n",
       "TvYzkqGxJ4BbI9SBG3PUH9hz7cNSymz6xrW3p6y9VY7CbsaAe4Q6gIwN8WJCSuUyQxwPjhmAPBHq\n",
       "KBgPzn3xuieHeCHpedfndQ9e6vTtGuJ4eJ0FdjqsTLE3USZCHQCu/CDvNRQvdf3tKnTHAcCRCHUA\n",
       "Tt0w0uhBn256XLgRAPCHUAfgUzGdXnoAXm/76HQAY0eoA3DJZzedMSqfG9KfQtbs+xsRABDqKBWP\n",
       "urgGOv2NQjodJeB2hQIR6igS99e4Bm5X/WA/4hq4XaFEhDoAAADgEKEOoGDMsY0DxxlAmQh1AAAA\n",
       "wCFCHQAAAHCIUAcAAAAcItQBFCwNPQDcBMcZQJkIdQAAAMAhQh1FYn4N18Dtqh/sR1wDtyuUiFBH\n",
       "mbjHxjWccbsq/aZ41vaVvlMwDG5XKBChDsAln4+5lPobhZS6vxEBAKEOwKsbltN1v1XpCXi97bvp\n",
       "niv9MAHIEqEOwKliSh3notQBjByhDgDXnlMvtAGvv12F7jgAOBKhjoLxIN8Xr3vymFDsOybPuz6v\n",
       "e/BSp2/XEMfD6xMlp8PKFHsTZSLUAWTsmAfnvh/ACYLLDHE8OGYA8kSoAzfmdXZv7K59WFJhB/7a\n",
       "21PW3ipHYTdjwD1CHRgEj3aSs71wQoEQK+c5ab852sl+RjI09gRwa4Q6gOF8EWOOWu2V8wZWyqz6\n",
       "+dvhc/u/3JxCjhuA/BDqABz7OpByezGhp7Gcw9P4+zv2jjYKAPYQ6gAy19+LCU+J0NJmlY93/d8m\n",
       "HH9RXkgKoGyEOgBs3Sbqcl0Cc7tx57l/AKBvhDqAUbhGY15ynbnF+iXj9bbvASAXhDoAFz4Kr2MC\n",
       "sc91yKcF6WW1mEtsXj7OU5a9HHvZvl6/8P6Fcjk2AMpGqKNYPND69vbwXHLAhjvYl82MJ/e303Z8\n",
       "l8ymD7mB/d2mnB+m0fP+cwSci1AHBsCDyjCO3e+3PT7J7TKYdly3G5vP44MN9jtwe4Q6Cuf5kcXz\n",
       "2Hy5/Wn4Tjs2fYS2t1gfZptuvezlyG8H+b6/8jw24DKEOoAM3P40fKdGXB/Rl9LwS2FS6ivSr3v5\n",
       "I66xp8sAwHAmQw8AwLillGRmR11OMn120U1gfnZ9x1ymu6Skr8e1f/kkO+krPryedMz4+tfXrH7a\n",
       "++epX/Xp3x71wuJjZ9uv8eJiAOgXoQ7AjW0U2UfBezjj/FHM7sfVMZf56Psd+yRi7wv06TOJExz/\n",
       "hKK/79XjFfby/Y8d13FxfsRl2gse9T0B4BYIdQCD2YRw6gLXdn9xMN95VGx/cLn3Au3N5brv99HX\n",
       "nxLLJ8f9EdfX+vy3Cadfr3SNpR+nRv97l//sOvqM988utx/tzKoDGAqhDgykx8lXt17nTW1SLamR\n",
       "VMdG66bu4ty2q0x2u+SdnfPB/rKvLvTp17X/DMG6wG6D2GQKVXV44aPPStJvrHfXujfZa/u77Miv\n",
       "PvjHVXwatK8GG2NSinFvNElx89+pXUi0+8tPFtN88YcfjuiTr0uv/qhd1KTtxxjxXAUYBqGOovmP\n",
       "4VPXQecnqXuBYvffS9uF+vPy14nX1t++en1NwUyzqlIVQhfBpm+LhWbT6e4LkqR43PVfJ9a3166D\n",
       "jnXgqFlnU/cD2Ybv83qt1cvL9q9f6lrrpnl3u64w93/yxW97skpPfG81TyJQMkIdI1B+DHuW9j+6\n",
       "B9RnSSuT5ic/wPb3iPz6FlEpadpETRupMpPJ1CjqPt1pMb+TBdvNSB9ZbNeNdT9OWhqyjXVJQWoU\n",
       "9byuJUl1ilqbtJbUvLrKoVtsM+TNc7UoyZw9WRonjgDKRqgD+NJHqbmZKW9PyGKyqtp+qKpk04ls\n",
       "WsmmlTSZKE3TdmI6SVreagM+GnzHJClGTSVNZe2/LSk1tdLzUklJd/O5qlBJwaTYfS2xfnSkx5ik\n",
       "IFn372hStKRoUqqkl5QUq0rr1Ib6Wkmxu+V5S7EkKYT2Nr75SLKDJ6PtoE9YLwUA7yDUAXztncW5\n",
       "KUkxSrFJitEUmySbzzVJ37cfNpHC3UzNfKZwN1Ncrf10S4pKXXCbpFQ3Wi9X3bppUzLJ6qR102i5\n",
       "WinGqPl0ptl0dvq3KjTWT5lJjzHqebXa3paSJT3HWi8ham2mtUxhMddkPlVMUuz2mYXd230MetN5\n",
       "dfhsMlGYzVV9X6j6cad4/00KE8WY1DRJTUztk5PtF6c311fgTQJAzwh1YEDe19Dv8qJ72aXtPt+I\n",
       "SV2YtNGeqokm339oEn/IJlKcTRVmUzV3M6VVLS+Lq1OKSk3sfi2QlOpGdjdVs1wprtftOdEtyZqo\n",
       "VNeqY9S6brSoG82nc4UTD9ybM9tk7JLTGD6/vKhJUSlIdZBeKuk5BK2TFCZBYT5RtZgrdmeltxDa\n",
       "WPfwg7J3+7fJRGE+b2P9fq54/12T6rss3KmJUtN0T2TfvKahfdHy/guZvWMNODAcQh0YnOM19HsT\n",
       "gbY/rb63XjelNtbrxlRHU9OY6hgU7r8pTEx6WUnTlTSbK9X14ZlHBg2AqNS0vxZIMSqtX2R3U9nd\n",
       "RHG50vNypWRSsqBoSVUdFZsXxSaqaaLupjNNqhPvQlP3pkhOD/cxzj+tY9o+KWpiVC2pNtOLrP13\n",
       "ZbJppTCp2mBfzBUmky7UTQpBZgO+mbbtfWKSVbtQD/O5bLpQqL6rqr4phHs1SW2wx/aJ7CdX6PWn\n",
       "v0OlA0Mi1FE877PWXm1OVRhCUkpRoapkYdJ+2FTrGPWPx0YhSSFJFk2ru/9Jz2GhZbrTc7rTZL6W\n",
       "po3idKW4WinWTXftm1C/XQS8vg3M56bZVFJ3mkBb/qHJv//fsirIJkFWVVo/LhXrWjElTVOSJWnW\n",
       "xWY7/HOWtAz3zqOXuuQc6U3T6Gm10io2qi2psUrVj3tVk9Au8w6m+m//Wc1vf2sjfTHTugl6XqU2\n",
       "0rtgH3R299UxSzKFMFcV5kqa6tdT0h+W9K8q6o+Q9KLQnvYzpPaVp2GizdofC6GdWTfXT9XdY7Yf\n",
       "pSPUMRI8FJ6rDcqgEIKCBTU2kcJUFqNkQX8ua4WUZClpVZte5r9rOelCXWtZZbKpFKerdkZ9360e\n",
       "Zd859Hdz0/3CtFiYlJJs+YfS/Icm//5fVD38U1ZVijJFLbX89aKmW7JTNY3mk905zc9df37Ldx69\n",
       "VB9v+JPUrjtfpaS12rOmhJgU7mYKdxNVJqXvC9V//Tet/9P/rHA30zoGrZZJT8vuTOb7+2qoQOuW\n",
       "v2xPO5qSgs2UwlS/QtKvVdKfTdIfVdRKSS8pKIRKFpIsbp7odj9PYcxnZu8DlY7yEeoAvmRmCtbO\n",
       "AMpMZpUUJt2fm57Xtf7xGLVaSy9raTWf6Xn+v2iiWt2XKCzkY/qr66K7uelp0cb6/cI0XT8ozb8r\n",
       "3X1X9f/9F1X//G+yZG2sJ9Pzw7OkpBCjJquVZpNpe8YPXfZi0TaCfS6HueTdS98c6r2T6a8lrVNS\n",
       "SO3+tBAUvs0Vvi9UfV8o/fih+n/4X7XWndbLpPUyarlMellvruu87enT5hcrm2BvkumXJT1a0q8m\n",
       "6XGZtFLUSwp6SVKT2khXmChUkzbeh1zKAyALhDowsHYZhP8Z/7vFQqEKenio9PIcFOtKq/SilGpF\n",
       "SU1d63Ed9bhO+rY2fV9LwaptqLcTkUNuYzpYZvxbY/pNQbVMtUzfwkzfZwtpdifNF7JJdyrGbn20\n",
       "grXvpql2Zji+KtHLzuyym6H3MMPexwz665puT8mZtp9HM1kVlELolhtVel6ZXpZS3X082FR/PEc9\n",
       "Pbez6quX7ufEw0scugGk7ti1rz0IelLSU0p6iklWzaUwl9JEKQZZ6l7pYT6fmL2VXDy3BsaMUAdw\n",
       "tNlsrr/85T/p8WGm5+Wj6vVSy/pJTUpqlJSSabls9OdL0veXtm83gkkO0qplSY/zoFUT9dfG1DRB\n",
       "MSTZU9JvtlkP3Z0P/pOiusZpF3eRfNuYu2T2/Ovr3l3v6++w3dehklVBzy/S8jGqvkt6CFH/eEr6\n",
       "j1/tjPrzy6trcHJzSl2wtwEe9JykZZTMJgqTO01n90qaqN4bbxnn/wFwbYQ6RoEXlPYnhEo/fvtd\n",
       "8/mdHh//0GopvdTtmTxSN9v51EQ9rGMX5ztDH4L9rnu8i1o1plUd9Lc6KoYoWybZMum3aJpW3Uxv\n",
       "N5u+eZOmz9qw39vZ/mzmdaL9WnH+7izsq74+2J+hnV1X92ZZdTQ9PEb9GZIefkX9+ZT0H09RT896\n",
       "eyMa9MWlu09TMpnFbmlYUJ1MipVCrHRXzfX7j59qtqc5HfonoQzM9mMMCHWMiN/lJbk9kTAzze/u\n",
       "VE0qPYSg56d2KUwbl1FKjeoUtamo4R9Pk1L9fDCS2TppuTYt10nLtXRXSXWdug9pt2Zn7+PwKrf/\n",
       "sr0/vM4ZXd5bgmCb/x/x1Qf/uKrXy2aO/o5mu1lmMyWZ6lqqG6mupXVtWjYmq+7ai5xy3deSXp1k\n",
       "MbUvvJZC+zqObklMVFA0O/10ngPzHcKuBwf0Jq97DaBofp9IfGQymernX/6mX9O5fv36o3tkb2M9\n",
       "bd/pxccDaqyeFNcPSqn+8JnRWSN957pu806kafN/N95d235O7R1Mt2/eGqh70W2YKUy+OZqV3huH\n",
       "bWbMu+U83d9vTnWaF0+3LGC8CHUAFzEzff/xm2bzO6XURXpKbbRtzjc+yMj2QjYlPT09aB2mii9/\n",
       "KMXVQTalvTDcfn7pd3d8Npe+XXN9++5qd7FrodLd4jdNZ7N2Fv6dd8y9hYPvaN07jm4/wsE7+fp5\n",
       "YgEgJ4Q6gF7MZrPt52lTuzec8T0I773PNue6ruu1mvWzUnWnFNfa/QbDrhhR+b650bH6OUPMJ9f/\n",
       "3n91v7G4u7vfO4PKZv76o6+9rv2zGpV8vAHcFqGO0fB+GkTv4zvF7lf96aS1xPbmk08v9cklNmu6\n",
       "r7mS+fjrzenNjY51eqD3exzs1Qx2+2fSq1Xjp4/lwlM/lnGIvZ+W0fv4gP4Q6gCux97Ocl7pW2z+\n",
       "S9L+svHdE59rRvKxa9JLWA5zyjKXa8+2vw71zZ91331vHG++8pMr/fISAHAzhDqAq7Djpsev9L1t\n",
       "G8X+XhS3m+3PKdivug69J4dPlvbj/drfuXsthu/dAyBDvH8x4EgOMXQsouUrafeiW8d2Y/Q9zqE5\n",
       "P4wnYFkJ4AmhjlEpKYTzUeb+fp2ulwT3Joa9BNLmBbiXbtP2c5V6K5BK3jKf/PycALfA0hcAV5Pb\n",
       "GzmdrPcNfBUhdps3mt+cwvJ636Dssip88wAMiFAHnCnp7C87pW3PjaT0ar72+Hcj/fAqD/+Bi5S2\n",
       "D5mtBrwh1DE6xc/yOjOm/Z26jb3i+WXcvRvpa1efnXdmRJvqAvsbY8MadYwU9/a3V+Y+f7NVGbxA\n",
       "9Fr23412+2cDjeX6yt0yv9jnGB9CHXCotBe9Ft2tH2xcDmd06cun21rwPihr01j2AnhEqAO4idKe\n",
       "fByr5GAveds+R9QCuA1CHaOUQzSWGwLFbtinSorakrbldGVut//DyZMjjBMvJgVcK+tsKaW+sDSl\n",
       "9OpdMT+/bKv8dyYtNebL26ziNggoBqEO4Kbapx4FPAG5uG32Zwh9Rnuvv3kqogVfny4TAK6LUMdo\n",
       "5TC7W+Q51bebU9h2XcRPtOewLGwY6eBf5chjSUkOYwSugVDHyBGLQ8jhSdLX0sGSl+0yj4vPo55H\n",
       "OH3kvfOol7IEppDNyBA7HuNFqAPOFTmrrvy3a5MOmwjdrlF/826inzt2bfuQzg3t/a/Le9FI3k+e\n",
       "PlbqdgHlINQxamXM7OYu41h/b0b9xKUrpcw2b7y3dCbvbcx57GXI+uYDXIhQBzIOxdz5fKL08YBq\n",
       "SY2kOkW9rNfbhnt/G66wYX1e5VXi5+2Vbro9pigpz580QnFI7HyMG6EOZCD3ZSKf8bVt1g7D9G59\n",
       "R0kPQYpJatYrVS+rWw8we+n1brVuh5v5uAkcKHlpSMnbBpSDUMfo+QrFcfJ3ykbb/jtZexvZNk2S\n",
       "HiWtTJoOM7gsbfZo2vt485eSo1+x5L2qvgw8mQAIdSATRT+huPkpG01Jcfu9UpIUgiyYLAQpBKmq\n",
       "pEmQVZVsEqQqHLxQdN194HiHcW7tft77SPtPkAYY306pp2LcIICBXBDqAFzYrVe/Yqx3V2smKZli\n",
       "aoOlnTE3hbuFKrtXpYUqW7QrYIJJ3Ueqm9dXhTMkSVZVqhaL7uNe1eJeFiaKSdvjEl/F5PYMOVfd\n",
       "+e03JWQBeECoYyC+ZoZzma3OZZznGuLFpbELwtQFok2mbTja/e5CwaSgV6Fe5jG4mSrsRXr373Cv\n",
       "YHMlbY7JMDO/ZUd6LrPpHsfpbkAYAUIdgCtXezLy7jOA3Z8dzOKGdrZ3c5kkqZKkGPsd05iFoOp+\n",
       "P9S732ZYG+yyoNS0x2XzROrAVZ7ReYxDAGNGqGMQHk/L53FM7yl9Vl3qZxvN7OA851WoFMJEMUyU\n",
       "bKLneq0/npKqJFVJ0mKh+u4/qw4L1elO63Sv8LuUFi9qlk9qFkulpvn8m+JoSe3znqpabD8eV0l/\n",
       "NFF/WNIflvRsphAmCiHJQpIsdL/JMJltPvobUfmRns82ehynxzGhfIQ6BuQxNj2OaZx6jXW1a83N\n",
       "KplNZKE9X0udGv1rWSt03yUmU1z8XXW4U53uFYIpfJO0aNQsl0qRUO9NakM9xiRNZqomCz3WSQ/r\n",
       "pD9XUf8KSU9KWicp2UQWUvdC34nMwt47uvbx85pPwI6Dx4PhcUwYA0IdyNAYZtWlPk7buHtHIrPQ\n",
       "nas7SFbJlLazsr9WtSxFNdHaWL/7XevZfXcyEmuXqC/E0pcebZYZxZgUo5QU9DhJeqiSHkLSn8uk\n",
       "p5T0kpJelPQSq/a4hYlCNVEVqr1Y18HnJ45kJAnGkxEgR4Q6BuNxqclYAjgbF5+20WTWBsr9/TeZ\n",
       "mR4fTGuZ6uZZ0ro9JWCS/ljVelwnPa6l39bSw91UUlIw2wa7t9tr7jYv4G1n1iWzoF+Sfinpl5Ia\n",
       "TaVqrpQmSlYpdG+OZN3Sl43zj0vpp2HMkc8nFB7HhHEg1DEwovhcY3lScflpG9vATilpsbjXdDLV\n",
       "w8NML6snNesnLZulorXr1FPT6OGl0Z8vph+r3Vv0bE75XfiuHoRJe6EuKVRax6DnmFSnSiHcaTq7\n",
       "b5e/pNB+zd47x14yky6NJcB8xm8+2HkYDqEOvOJxpv8jxPrpJtOpfv78q56Wd/r1EFS/SMs6qkqx\n",
       "jZkkLZ+i/lgdLnPJ5TaRq+2R7ZYpJVVap0ohBs001fcfP6Vq2h2HS0+OSaR7ldNYgVsg1DEov1Fc\n",
       "fvzm5tJY37ywVJIsBH379l0hBD38aaplinGllKKUopQaLd+sR6cg+vfqOG5fS1C1/1b7moEgqVHQ\n",
       "fDJ5dfFzfkbHFOm58XlQuK1gSIQ6HPAXxf5G9LGxzKpL3QOmnf8C0zbsdjOMi8W9JpOpHv5sl8K0\n",
       "f9fGekq8cPTmzGQKXbDvv1i0r9cHdC8cHU14ZTabPvQA3uVzVBgPQh14T5I0kvjNTuoOz9nHZ7dm\n",
       "XZKm06n+8te/afX8rJiiYoxKMSqmuJ1Ka+PuwgfsEm9Kl+wS21/AYpJJwYIsBIXuw7o/3507fe9b\n",
       "n/y984rW8Uk0MfAOQh2DG9OM8LWMcR9eus0HS2HMdLdYdG9Zv/vYxAP9cF2bdefS5uw64c2ylrf/\n",
       "fcp3GGOkj3Gb+8Y+xPAIdeADucXv5eccz8/uGEnnL4XRQbBvAj69eYS+cPq4WH2UzLX2z1jXo+d2\n",
       "bniCGPgIoQ4X/L6oNCPjavStPs4Is1m7vv/155/2D31plyid+9VjjfTOWLe7R6O97cAVQh2O+CvN\n",
       "7GbVMxtvX/o5fSOR7tF5h2LMkZ7b7LTX8bocFEYoDD0AAOhD2q4l5wF23NplHz7jDwBOQ6jDDa8P\n",
       "rCmz87nlNt5epf3tH+k+GK32mKdRH3qvs9Mf8Tter+PC+BDqcIZ7xz6MOta1/yA73n0wLmNe6rLh\n",
       "N3rzw46EH4Q6XPH6QDP28M1RYnZ9BHaz6F7vO/ARv08svI4L40SowyHuJfvAk4sWs+ulYhZ9x2/0\n",
       "5ocdCV8IdeBIOYZvjmO+hsMXmrI/8tbNootIb+UY6TmOGRgGoQ53iMtrYH8qMbuev71ZdA6h2Al9\n",
       "4wkE/CHUgRPk+CSCB55DrF3PEWvRP5Lf/iCGgVMQ6nCJO/J+5fgE49oOZ9fZNz7tjg33Ca8RvH1j\n",
       "f8IjQh2O+bzXzDV6cx33NR3O0BLsfhwGOgH1Wq6R7nncbgeGkSPU4ZbfO/TcsWNfexvsGA6B/jl2\n",
       "yjVwW4NXhDqc83nvmevsNA9Gn3u7fp0ddhu7/U2gfy3P/cNsOnAOQh04k98Hnc/l+iTjllgScyss\n",
       "cTmN59j9XK7jBoZGqMM1/1HpeWwfbTfLFQAADjRJREFU879ffSDYr4VAP12+ke775ybn/YoxINSB\n",
       "C+QcvDmP/dYI9r4Q6OfJOSZzHjswvMnQAwC+kpJkliTZ0EMpFPv2WPvB0d4mt/9187HkY7efCLZz\n",
       "sNOuhycR8I9QBy6U8xOJduxDjyJP2wd4k0xE+6F0+BkxdJF8Y5IQBi7F0hdkwfsyDb8j+5r3fete\n",
       "+mhpzNj26eF2b/fJ2HZDr/IOXd9Dz3vfYjyYUQf6kCRlOqsu5f1bAU9eP/AfLo+Rytq/h9tG9PQt\n",
       "95BM3ksdyAKhjmx4j0nv4/tK7uP36HBNu/R+ueSwv98vrrxD0rP8I933+L2PD9gh1AFsEevX814Y\n",
       "+Ix3onxYRCSAHUIdWfEekt7Hd4wStiEXp8X7Zz47VqdXH6E4lBIi3fs2eB8fcIhQB3pWQuiWsA25\n",
       "Oioi7PWROa48eN2wZyUEZAnbAPhCqCM7RORtsJ8d43V6hSFwb4P9jPxwekbgCko55WEp2wH4VUo8\n",
       "lrIdgC+EOrKUQ0DmMMZjlLIdgD+lxG0O25HDGIG3CHVkizvd2yHWgb4RjrfEvkauCHVkzve9b0mB\n",
       "W9K2AMMqKdJz2Bb3AwQ+RKgja/4fIMoK3JK2BRhGDmF7rDy2JYcxAh8h1FEA7oVviVgHzpVH2JaF\n",
       "HY68EerIXg7hmMMYT1Ha9gDXV1qk57A9OYwR+ByhDtxIaXFb2vYA11NaMJa2PYBfhDqKkEs05jLO\n",
       "Y5W2PUD/SovaXLYnl3ECnyPUUQzulIexi3UOALDT/kxwvzQM9jtKQaijMP7vnUuchd49KJa1XcB5\n",
       "2p+D8mIxlyceWQwSOAqhjqLkEsG5jPMUKZW5XcBp0t7PQknyifQ8xgkch1AHBlJq1Ja6XcDXSo3E\n",
       "UrcL8I9QR3FyCsWcxnoK1q1jXEpej57TduU0VuA4hDqKxJ318Fi3jnEodT16fjgGKBGhjoLlca9d\n",
       "6qy6xLp1lK7U9egbOc1QZzNQ4CSEOoqVUyDmNNZzsBQGZSl5qctGTtuX01iB0xDqKFpOd97jiHWp\n",
       "5G3EGIxhqUte4ZvTWIFTEeoYgXzuxccQ66VvI0pW+lIXKbdI574EpSPUUbzcwjC38Z6DpTDIyxiW\n",
       "ukj5bWNu4wVOR6hjFHK7M097/ywVs+vIwxhm0SUpZfeTWP4xAQh1jEpG9+oZDfVSzK7Dp7HMou/J\n",
       "aluzGixwNkIdo5Hb7G1u473E4ez6OLYZXu0CfTyRntsTktzGC5yPUMeo5HbnPqZYl7pgbz8beCQY\n",
       "p3b5R273E5fJL3pzGy9wCUIdI5TXvfzYYl3MruPm9pa5jOoml1+kj+wAAYQ6xifH8M1xzJdiOQyu\n",
       "b4zLXDbyjPT8xgxchlDHKOUYvjmOuQ+cHQbXMdZAl/IM3hzHDFyOUMdo5XifP+ZgZXYd/Rjh2VwO\n",
       "5LntGQ4Z6AWhjvHKNHrHHusEO84z5mUuG3lGevvClaHHAAyDUMeo5Rq9uY67LwQ7jkegt/KN9DzH\n",
       "DfSDUMfo5Rq9uY67TwQ7Pkag7+Qau7mOG+gPoQ4o38Qj1lsEO3YI9EP5xm6mwwZ6NRl6AMD/3969\n",
       "JSW2BAEULeY/6HM/fKHdKt5G2Fms5QQyiyDYnigx4VhrnY611unek/zYcax1Gjr7tb0Gyek4Ow3n\n",
       "sr+zf5Ol7s7MjXT30uGJJ+rwbPLT6cmz/4rDU/bH8OHpuZf5zOxInzs7XJdQhzOTg3fy7L9JsO/I\n",
       "9ZavTQ7dybPD9bn6Ah9MvkryNvtaE+f/TW8f/sc6vR6NM5rj+XqLiPvC9DMS6fCRUOdOZobwBMfz\n",
       "0Z6c8adeYuDtl5q1nFXR2+sj4L5zuKP/6xwutyfU4S8mP1Vfa73+HdboHW7gPP5Ee4U4/7kdnkTv\n",
       "sANcnzvq3MWE+9QTZvzODjvcyst95/f32Z3dbbyd9/vXge/tELgTdpgwIzsS6tzNhIicMON3dtjh\n",
       "1kT7LYjzf7dDPE7YYcKM7MrVF/jG+Gswa48d7uX9B/T5H6Ku5Tx/wpWW69ohHnfYAX6XUOeupgTk\n",
       "lDm/4hthruPze+1rOddz789GkF3L9G92eTEl0qfMya6EOnc3JYKf5rz3FP/m/bedDF8m4M8P8I9P\n",
       "3Nd6jHMW5bexTzTO2GOf82YuoU7CnGycM+lXpvxyNNFl8b7WzLP/s1qEzK3sFI0zFpkxJbsT6jQc\n",
       "a60B4bhT4O60S93fA+uzgD93y9fm6yzZJxIn2ivSZ+xyKHUShDoZU8JxypyXcG/9vr4Plkti/hZz\n",
       "cB+73Ed/MSfSZ8zJIxDqpEyJ4ClzXsK99TbB8Kh2i8Up+0yZk0fhe9Thf9rt+8l32wfm2i0Wd9sH\n",
       "bkeokzMpGCfNeonjWOvwz33gTo6nn63efpP2mTQrj0KokzQpgCfNepFjw50g7zkSt3rbTQrfSbPy\n",
       "SIQ6WZNicdKsl3rbaa+9oOXpPbZfJE7aadKsPBqhDleya6zvuBc0HGfvsZ0IX7iW0+HdBAAAOZ6o\n",
       "AwBAkFAHAIAgoQ4AAEFCHQAAgoQ6AAAECXUAAAgS6gAAECTUAQAgSKgDAECQUAcAgCChDgAAQUId\n",
       "AACChDoAAAQJdQAACBLqAAAQJNQBACBIqAMAQJBQBwCAIKEOAABBQh0AAIKEOgAABAl1AAAIEuoA\n",
       "ABAk1AEAIEioAwBAkFAHAIAgoQ4AAEFCHQAAgoQ6AAAECXUAAAgS6gAAECTUAQAgSKgDAECQUAcA\n",
       "gCChDgAAQUIdAACChDoAAAQJdQAACBLqAAAQJNQBACBIqAMAQJBQBwCAIKEOAABBQh0AAIKEOgAA\n",
       "BAl1AAAIEuoAABAk1AEAIEioAwBAkFAHAIAgoQ4AAEFCHQAAgoQ6AAAECXUAAAgS6gAAECTUAQAg\n",
       "SKgDAECQUAcAgCChDgAAQUIdAACChDoAAAQJdQAACBLqAAAQJNQBACBIqAMAQJBQBwCAIKEOAABB\n",
       "Qh0AAIKEOgAABAl1AAAIEuoAABAk1AEAIEioAwBAkFAHAIAgoQ4AAEFCHQAAgoQ6AAAECXUAAAgS\n",
       "6gAAECTUAQAgSKgDAECQUAcAgCChDgAAQUIdAACChDoAAAQJdQAACBLqAAAQJNQBACBIqAMAQJBQ\n",
       "BwCAIKEOAABBQh0AAIKEOgAABAl1AAAIEuoAABAk1AEAIEioAwBAkFAHAIAgoQ4AAEFCHQAAgoQ6\n",
       "AAAECXUAAAgS6gAAECTUAQAgSKgDAECQUAcAgCChDgAAQUIdAACChDoAAAQJdQAACBLqAAAQJNQB\n",
       "ACBIqAMAQJBQBwCAIKEOAABBQh0AAIKEOgAABAl1AAAIEuoAABAk1AEAIEioAwBAkFAHAIAgoQ4A\n",
       "AEFCHQAAgoQ6AAAECXUAAAgS6gAAECTUAQAgSKgDAECQUAcAgCChDgAAQUIdAACChDoAAAQJdQAA\n",
       "CBLqAAAQJNQBACBIqAMAQJBQBwCAIKEOAABBQh0AAIKEOgAABAl1AAAIEuoAABAk1AEAIEioAwBA\n",
       "kFAHAIAgoQ4AAEFCHQAAgoQ6AAAECXUAAAgS6gAAECTUAQAgSKgDAECQUAcAgCChDgAAQUIdAACC\n",
       "hDoAAAQJdQAACBLqAAAQJNQBACBIqAMAQJBQBwCAIKEOAABBQh0AAIKEOgAABAl1AAAIEuoAABAk\n",
       "1AEAIEioAwBAkFAHAIAgoQ4AAEFCHQAAgoQ6AAAECXUAAAgS6gAAECTUAQAgSKgDAECQUAcAgCCh\n",
       "DgAAQUIdAACChDoAAAQJdQAACBLqAAAQJNQBACBIqAMAQJBQBwCAIKEOAABBQh0AAIKEOgAABAl1\n",
       "AAAIEuoAABAk1AEAIEioAwBAkFAHAIAgoQ4AAEFCHQAAgoQ6AAAECXUAAAgS6gAAECTUAQAgSKgD\n",
       "AECQUAcAgCChDgAAQUIdAACChDoAAAQJdQAACBLqAAAQJNQBACBIqAMAQJBQBwCAIKEOAABBQh0A\n",
       "AIKEOgAABAl1AAAIEuoAABAk1AEAIEioAwBAkFAHAIAgoQ4AAEFCHQAAgoQ6AAAECXUAAAgS6gAA\n",
       "ECTUAQAgSKgDAECQUAcAgCChDgAAQUIdAACChDoAAAQJdQAACBLqAAAQJNQBACBIqAMAQJBQBwCA\n",
       "IKEOAABBQh0AAIKEOgAABAl1AAAIEuoAABAk1AEAIEioAwBAkFAHAIAgoQ4AAEFCHQAAgoQ6AAAE\n",
       "CXUAAAgS6gAAECTUAQAgSKgDAECQUAcAgCChDgAAQUIdAACChDoAAAQJdQAACBLqAAAQJNQBACBI\n",
       "qAMAQJBQBwCAIKEOAABBQh0AAIKEOgAABAl1AAAIEuoAABAk1AEAIEioAwBAkFAHAIAgoQ4AAEFC\n",
       "HQAAgoQ6AAAECXUAAAgS6gAAECTUAQAgSKgDAECQUAcAgCChDgAAQUIdAACChDoAAAQJdQAACBLq\n",
       "AAAQJNQBACBIqAMAQJBQBwCAIKEOAABBQh0AAIKEOgAABAl1AAAIEuoAABAk1AEAIEioAwBAkFAH\n",
       "AIAgoQ4AAEFCHQAAgoQ6AAAECXUAAAgS6gAAECTUAQAgSKgDAECQUAcAgCChDgAAQUIdAACChDoA\n",
       "AAQJdQAACBLqAAAQJNQBACBIqAMAQJBQBwCAIKEOAABBQh0AAIKEOgAABAl1AAAIEuoAABAk1AEA\n",
       "IEioAwBAkFAHAIAgoQ4AAEFCHQAAgoQ6AAAECXUAAAgS6gAAECTUAQAgSKgDAECQUAcAgCChDgAA\n",
       "QUIdAACChDoAAAQJdQAACBLqAAAQJNQBACBIqAMAQJBQBwCAIKEOAABBQh0AAIKEOgAABAl1AAAI\n",
       "EuoAABAk1AEAIEioAwBAkFAHAIAgoQ4AAEFCHQAAgoQ6AAAECXUAAAgS6gAAECTUAQAgSKgDAECQ\n",
       "UAcAgCChDgAAQUIdAACC/gOZKhObXFGLtgAAAABJRU5ErkJggg==\n",
       "\" transform=\"translate(1247, 292)\"/>\n",
       "</g>\n",
       "<defs>\n",
       "  <clipPath id=\"clip975\">\n",
       "    <rect x=\"2160\" y=\"292\" width=\"73\" height=\"1016\"/>\n",
       "  </clipPath>\n",
       "</defs>\n",
       "<g clip-path=\"url(#clip975)\">\n",
       "<image width=\"72\" height=\"1015\" xlink:href=\"data:image/png;base64,\n",
       "iVBORw0KGgoAAAANSUhEUgAAAEgAAAP3CAYAAACPmQh6AAAI/ElEQVR4nO3dwXHbQBBFQSw5svOP\n",
       "yIFZIhyB5x3JQ3cEqle/4MWSls6fx9d98V+Pd/8An06gIFCY81ujjTpBoCBQmPNLo406QaAgUJjz\n",
       "9Xz3z/DRLCgIFAQKc0ajjTpBoCBQmMszaKVOECgIFOY8NdqoEwQKAgXPoKBOECgIFOY8z7t/ho9m\n",
       "QUGgIFCYyzlopU4QKAgUvIsFdYJAQaAw56HRRp0gUBAoOAcFdYJAQaAw18Od9MaCgkBBoOBdLKgT\n",
       "BAoCBe9iQZ0gUBAozOUctFInCBQECnPcB60sKAgUBArug4I6QaAgUPAMCuoEgYJAwWfzwYKCQEGg\n",
       "4BwU1AkCBYGCZ1BQJwgUBAo+mw/qBIGCQMFn88GCgkBBoOBdLKgTBAoCBe9iQZ0gUBAozDnexTYW\n",
       "FAQKAgXvYkGdIFDwqhHUCQIFgYKPfYIFBYGCQME5KKgTBAoChTlHo406QaAgUPAuFiwoCBQECt7F\n",
       "gjpBoCBQ8NFzUCcIFAQK7oOCOkGgIFDwK7qCBQWBgkDBu1hQJwgUBApzeRdbqRMECgIFn80HCwoC\n",
       "BYGCz+aDOkGgIFDwuVhQJwgUBArupIM6QaAgUPDZfLCgIFAQKHgXC+oEgYJAwZ10UCcIFAQKPpsP\n",
       "FhQECgIF31EM6gSBgkDB52JBnSBQECg4BwV1gkBBoOA+KFhQECgIFHwuFtQJAgWBgu8HBXWCQEGg\n",
       "4BwU1AkCBYGCP6ceLCgIFAQKzkFBnSBQ8PWXoE4QKAgUfP0lqBMECgIFX38JFhQECgIF56CgThAo\n",
       "CBRcuQZ1gkBBoOBOOqgTBAoCBe9iQZ0gUBAouJMOFhQECgIF56CgThAoCBTcBwV1gkBBoOAcFNQJ\n",
       "AgWBgj+fFSwoCBQECt7FgjpBoCBQ8C4W1AkCBYGC70kHdYJAQaDgV5UGdYJAQaDgHBTUCQIFgcJc\n",
       "flXpyoKCQEGg4HOxoE4QKAgUvIsFdYJAQaDgs/mgThAoCBS8iwV1gkBBoOBOOlhQECgIFNwHBXWC\n",
       "QEGg4DuKQZ0gUBAoOAcFdYJAQaDgc7GgThAoCBScg4I6QaAgUPDZfFAnCBR89BwsKAgUBApeNYI6\n",
       "QaAgUHDlGtQJAgWBguuOoE4QKAgUnIOCOkGgIFBwHxTUCQIFgYJzUFAnCBQECs5BQZ0gUBAozPFn\n",
       "RFcWFAQKAgXvYkGdIFAQKHgXC+oEgYJAwTkoqBMECgIF56CgThAoCBScg4I6QaAgUPB/NYI6QaAg\n",
       "UHAOCuoEgYJAwX1QUCcIFAQKnkFBnSBQECj4PYrBgoJAQaDgHBTUCQIFgYI76aBOECgIFJyDgjpB\n",
       "oCBQcA4K6gSBgkDBOSioEwQKAgXnoKBOECgIFJyDgjpBoCBQcA4K6gSBgkDBOSioEwQK/pkP6gSB\n",
       "gkDBP/NBnSBQECj471DBgoJAQaDgHBTUCQIFgYL7oKBOECgIFDyDgjpBoCBQmNu72EqdIFAQKLiT\n",
       "DhYUBAoCBe9iQZ0gUBAozO0ZtFInCBQECnNd3sU2FhQECgKFud0HrSwoCBQECqPRTp0gUBAoOAcF\n",
       "CwoCBYHC3O6DVhYUBAoCBXfSwYKCQEGg4BwULCgIFAQKc9/v/hE+mwUFgYJAwTkoWFAQKAgUnIOC\n",
       "BQWBgkBh7ts5aGNBQaAgUHAOChYUBAoCBc+gYEFBoCBQ8AwKFhQECgIFz6BgQUGgIFCYl2fQyoKC\n",
       "QEGg4BwULCgIFAQKnkHBgoJAQaAw9+vdP8Jns6AgUPDPfLCgIFAQKLhyDRYUBAoCBa8awYKCQEGg\n",
       "4F0sWFAQKAgUPIOCBQWBgkDBu1iwoCBQECjMy0FoZUFBoCBQ8C4WLCgIFAQK3sWCBQWBgkDBOShY\n",
       "UBAoCBQ8g4IFBYGCQGFe3sVWFhQECgIF56BgQUGgIFCY20NoZUFBoCBQcA4KFhQECgIF90HBgoJA\n",
       "QaDgHBQsKAgUBAqeQcGCgkBBoOB70sGCgkBBoOD3KAYLCgIFgYJ3sWBBQaAgUJjbQWhlQUGgIFBw\n",
       "DgoWFAQKAgX3QcGCgkBBoOBzsWBBQaAgUPAuFiwoCBQECp5BwYKCQEGg4HfaBwsKAgXXHcGCgkBB\n",
       "oOBVI1hQECgIFDyDggUFgYJAwa/HCRYUBAoCBeegYEFBoCBQ8AwKFhQECgIFHz0HCwoCBYGCz+aD\n",
       "BQWBgkDBu1iwoCBQECh4BgULCgIFgYLP5oMFBYGCQME5KFhQECgIFPwp42BBQaAgUPBrAoMFBYGC\n",
       "QMFn88GCgkBBoOA+KFhQECgIFLyLBQsKAgWBgnNQsKAgUBAo+BN+wYKCQEGg4F0sWFAQKAgUvIsF\n",
       "CwoCBYGCc1CwoCBQECj4flCwoCBQECh4FwsWFAQKAgW/RzFYUBAoCBScg4IFBYGCQMF9ULCgIFAQ\n",
       "KPhcLFhQECgIFLyLBQsKAgVXrsGCgkBBoOC6I1hQECgIFFx3BAsKAgWBguuOYEFBoCBQ8AwKFhQE\n",
       "CgIFfz4rWFAQKAgU/OmaYEFBoCBQcCcdLCgIFAQK7oOCBQWBgkDBOShYUBAoCBR8RzFYUBAoCBT8\n",
       "X41gQUGgIFBwHxQsKAgUBArug4IFBYGCQMF3FIMFBYGCQMG7WLCgIFAQKLiTDhYUBAoCBeegYEFB\n",
       "oCBQcCcdLCgIFAQK7qSDBQWBgkDBu1iwoCBQECh4FwsWFAQKAgWfiwULCgIFgYJ3sWBBQaAgUPAu\n",
       "FiwoCBQECj4XCxYUBAoCBe9iwYKCQEGg4E46WFAQKLjuCBYUBAoCBc+gYEFBoCBQcOUaLCgIFAQK\n",
       "zkHBgoJAQaDgz4gGCwoCBYGCc1CwoCBQECh4BgULCgIFgYJnULCgIFAQKMzLQ2hlQUGgIFBwDgoW\n",
       "FAQKAoX58QxaWVAQKAgUnIOCBQWBgkDBMyhYUBAoCBT8t/BgQUGgIFBwHxQsKAgUBAr+z2qwoCBQ\n",
       "ECg4BwULCgIFgYI76WBBQaAgUJgfd9IrCwoCBYGCd7FgQUGgIFDwLhYsKAgUBArOQcGCgkBBoDDf\n",
       "7oNWFhQECgIF56BgQUGgIFCYb99RXFlQECgIFObbOWhlQUGgIFDwDAoWFAQKAoX56056ZUFBoPAP\n",
       "38EfROHdM9kAAAAASUVORK5CYII=\n",
       "\" transform=\"translate(2161, 292)\"/>\n",
       "</g>\n",
       "<g clip-path=\"url(#clip970)\">\n",
       "<text style=\"fill:#000000; fill-opacity:1; font-family:Arial,Helvetica Neue,Helvetica,sans-serif; font-size:89px; text-anchor:start;\" transform=\"rotate(0, 2268.76, 1225.58)\" x=\"2268.76\" y=\"1225.58\">25000</text>\n",
       "</g>\n",
       "<g clip-path=\"url(#clip970)\">\n",
       "<text style=\"fill:#000000; fill-opacity:1; font-family:Arial,Helvetica Neue,Helvetica,sans-serif; font-size:89px; text-anchor:start;\" transform=\"rotate(0, 2268.76, 1098.82)\" x=\"2268.76\" y=\"1098.82\">50000</text>\n",
       "</g>\n",
       "<g clip-path=\"url(#clip970)\">\n",
       "<text style=\"fill:#000000; fill-opacity:1; font-family:Arial,Helvetica Neue,Helvetica,sans-serif; font-size:89px; text-anchor:start;\" transform=\"rotate(0, 2268.76, 972.059)\" x=\"2268.76\" y=\"972.059\">75000</text>\n",
       "</g>\n",
       "<g clip-path=\"url(#clip970)\">\n",
       "<text style=\"fill:#000000; fill-opacity:1; font-family:Arial,Helvetica Neue,Helvetica,sans-serif; font-size:89px; text-anchor:start;\" transform=\"rotate(0, 2268.76, 845.297)\" x=\"2268.76\" y=\"845.297\">100000</text>\n",
       "</g>\n",
       "<g clip-path=\"url(#clip970)\">\n",
       "<text style=\"fill:#000000; fill-opacity:1; font-family:Arial,Helvetica Neue,Helvetica,sans-serif; font-size:89px; text-anchor:start;\" transform=\"rotate(0, 2268.76, 718.536)\" x=\"2268.76\" y=\"718.536\">125000</text>\n",
       "</g>\n",
       "<g clip-path=\"url(#clip970)\">\n",
       "<text style=\"fill:#000000; fill-opacity:1; font-family:Arial,Helvetica Neue,Helvetica,sans-serif; font-size:89px; text-anchor:start;\" transform=\"rotate(0, 2268.76, 591.774)\" x=\"2268.76\" y=\"591.774\">150000</text>\n",
       "</g>\n",
       "<g clip-path=\"url(#clip970)\">\n",
       "<text style=\"fill:#000000; fill-opacity:1; font-family:Arial,Helvetica Neue,Helvetica,sans-serif; font-size:89px; text-anchor:start;\" transform=\"rotate(0, 2268.76, 465.012)\" x=\"2268.76\" y=\"465.012\">175000</text>\n",
       "</g>\n",
       "<g clip-path=\"url(#clip970)\">\n",
       "<text style=\"fill:#000000; fill-opacity:1; font-family:Arial,Helvetica Neue,Helvetica,sans-serif; font-size:89px; text-anchor:start;\" transform=\"rotate(0, 2268.76, 338.25)\" x=\"2268.76\" y=\"338.25\">200000</text>\n",
       "</g>\n",
       "<polyline clip-path=\"url(#clip970)\" style=\"stroke:#000000; stroke-linecap:round; stroke-linejoin:round; stroke-width:4; stroke-opacity:1; fill:none\" points=\"\n",
       "  2232.76,1307.63 2232.76,1199.99 2256.76,1199.99 2232.76,1199.99 2232.76,1073.22 2256.76,1073.22 2232.76,1073.22 2232.76,946.463 2256.76,946.463 2232.76,946.463 \n",
       "  2232.76,819.701 2256.76,819.701 2232.76,819.701 2232.76,692.94 2256.76,692.94 2232.76,692.94 2232.76,566.178 2256.76,566.178 2232.76,566.178 2232.76,439.416 \n",
       "  2256.76,439.416 2232.76,439.416 2232.76,312.654 2256.76,312.654 2232.76,312.654 2232.76,292.372 \n",
       "  \"/>\n",
       "</svg>\n"
      ]
     },
     "execution_count": 18,
     "metadata": {},
     "output_type": "execute_result"
    }
   ],
   "source": [
    "xs = ys = range(-lₘₓ,lₘₓ, length=100)\n",
    "plot1 = surface(xs, ys, Ediscont, c=:diverging_bwr_40_95_c42_n256, axis = nothing, showaxis =false,aspect_ratio=:equal, camera=(0,90))\n",
    "plot2 = surface(xs, ys, C₁₁₁₁, c=:diverging_bwr_40_95_c42_n256, axis = nothing, showaxis =false,aspect_ratio=:equal,camera=(0,90))\n",
    "plot(plot1,plot2)"
   ]
  },
  {
   "cell_type": "code",
   "execution_count": 19,
   "id": "5732cbdb",
   "metadata": {},
   "outputs": [
    {
     "data": {
      "text/latex": [
       "$68000.0$"
      ],
      "text/plain": [
       "68000.0000000000"
      ]
     },
     "execution_count": 19,
     "metadata": {},
     "output_type": "execute_result"
    }
   ],
   "source": [
    "C₁₂ₘ = λₘ\n",
    "C₁₂ᵢ = λᵢ"
   ]
  },
  {
   "cell_type": "code",
   "execution_count": 20,
   "id": "5ba3f214",
   "metadata": {},
   "outputs": [
    {
     "data": {
      "text/plain": [
       "E2y (generic function with 1 method)"
      ]
     },
     "execution_count": 20,
     "metadata": {},
     "output_type": "execute_result"
    }
   ],
   "source": [
    "E2x(x,ax,bx) = sqrt(C₁₂ᵢ - C₁₂ₘ) * interval(x,ax,bx) \n",
    "E2y(y,ay,by) = sqrt(C₁₂ᵢ - C₁₂ₘ) * interval(y,ay,by) "
   ]
  },
  {
   "cell_type": "code",
   "execution_count": 21,
   "id": "5b817645",
   "metadata": {},
   "outputs": [
    {
     "data": {
      "text/latex": [
       "$39.8942280401433 \\left(- 128.508141184698 \\operatorname{sign}{\\left(x₁ - 0.447213595499958 \\right)} + 128.508141184698 \\operatorname{sign}{\\left(x₁ + 0.447213595499958 \\right)}\\right) e^{- 5000.0 \\left(x - x₁\\right)^{2}}$"
      ],
      "text/plain": [
       "                                                                              \n",
       "                                                                              \n",
       "39.8942280401433⋅(-128.508141184698⋅sign(x₁ - 0.447213595499958) + 128.5081411\n",
       "\n",
       "                                                     2\n",
       "                                     -5000.0⋅(x - x₁) \n",
       "84698⋅sign(x₁ + 0.447213595499958))⋅ℯ                 "
      ]
     },
     "execution_count": 21,
     "metadata": {},
     "output_type": "execute_result"
    }
   ],
   "source": [
    "IF2x1 = E2x(x₁,-lₙₓ,lₙₓ)*wₕ(x,x₁)\n",
    "IF2x2 = E2x(x₁,-lₐ₁ₙ,lₐ₁ₙ)*wₕ(x,x₁)"
   ]
  },
  {
   "cell_type": "code",
   "execution_count": 22,
   "id": "2f830ac8",
   "metadata": {},
   "outputs": [
    {
     "data": {
      "text/latex": [
       "$39.8942280401433 \\left(- 128.508141184698 \\operatorname{sign}{\\left(y₁ - 0.447213595499958 \\right)} + 128.508141184698 \\operatorname{sign}{\\left(y₁ - 0.223606797749979 \\right)}\\right) e^{- 5000.0 \\left(y - y₁\\right)^{2}}$"
      ],
      "text/plain": [
       "                                                                              \n",
       "                                                                              \n",
       "39.8942280401433⋅(-128.508141184698⋅sign(y₁ - 0.447213595499958) + 128.5081411\n",
       "\n",
       "                                                     2\n",
       "                                     -5000.0⋅(y - y₁) \n",
       "84698⋅sign(y₁ - 0.223606797749979))⋅ℯ                 "
      ]
     },
     "execution_count": 22,
     "metadata": {},
     "output_type": "execute_result"
    }
   ],
   "source": [
    "IF2y1 = E2y(y₁,-lₙₓ,lₙₓ)*wₕ(y,y₁)\n",
    "IF2y2 = E2y(y₁,-lₐ₁ₙ,-lₙₓ)*wₕ(y,y₁)\n",
    "IF2y3 = E2y(y₁,lₙₓ,lₐ₁ₙ)*wₕ(y,y₁)"
   ]
  },
  {
   "cell_type": "code",
   "execution_count": 23,
   "id": "f3342268",
   "metadata": {},
   "outputs": [
    {
     "data": {
      "text/latex": [
       "$\\left(- 72.502954657491 \\sqrt{\\pi} \\operatorname{erf}{\\left(70.7106781186548 x - 15.8113883008419 \\right)} + 72.502954657491 \\sqrt{\\pi} \\operatorname{erf}{\\left(70.7106781186548 x + 15.8113883008419 \\right)}\\right) \\left(- 72.502954657491 \\sqrt{\\pi} \\operatorname{erf}{\\left(70.7106781186548 y - 31.6227766016838 \\right)} + 72.502954657491 \\sqrt{\\pi} \\operatorname{erf}{\\left(70.7106781186548 y - 15.8113883008419 \\right)}\\right)$"
      ],
      "text/plain": [
       "(-72.502954657491⋅√π⋅erf(70.7106781186548⋅x - 15.8113883008419) + 72.502954657\n",
       "491⋅√π⋅erf(70.7106781186548⋅x + 15.8113883008419))⋅(-72.502954657491⋅√π⋅erf(70\n",
       ".7106781186548⋅y - 31.6227766016838) + 72.502954657491⋅√π⋅erf(70.7106781186548\n",
       "⋅y - 15.8113883008419))"
      ]
     },
     "execution_count": 23,
     "metadata": {},
     "output_type": "execute_result"
    }
   ],
   "source": [
    "smooth2E1 = integrate(IF2x2,(x₁,-lₘₓ,lₘₓ))*integrate(IF2y1,(y₁,-lₘₓ,lₘₓ))\n",
    "smooth2E2 = integrate(IF2x1,(x₁,-lₘₓ,lₘₓ))*integrate(IF2y2,(y₁,-lₘₓ,lₘₓ))\n",
    "smooth2E3 = integrate(IF2x1,(x₁,-lₘₓ,lₘₓ))*integrate(IF2y3,(y₁,-lₘₓ,lₘₓ))"
   ]
  },
  {
   "cell_type": "code",
   "execution_count": 24,
   "id": "6d010612",
   "metadata": {
    "scrolled": true
   },
   "outputs": [
    {
     "data": {
      "text/latex": [
       "$\\left(- 72.502954657491 \\sqrt{\\pi} \\operatorname{erf}{\\left(70.7106781186548 x - 31.6227766016838 \\right)} + 72.502954657491 \\sqrt{\\pi} \\operatorname{erf}{\\left(70.7106781186548 x + 31.6227766016838 \\right)}\\right) \\left(- 72.502954657491 \\sqrt{\\pi} \\operatorname{erf}{\\left(70.7106781186548 y - 15.8113883008419 \\right)} + 72.502954657491 \\sqrt{\\pi} \\operatorname{erf}{\\left(70.7106781186548 y + 15.8113883008419 \\right)}\\right) + \\left(- 72.502954657491 \\sqrt{\\pi} \\operatorname{erf}{\\left(70.7106781186548 x - 15.8113883008419 \\right)} + 72.502954657491 \\sqrt{\\pi} \\operatorname{erf}{\\left(70.7106781186548 x + 15.8113883008419 \\right)}\\right) \\left(- 72.502954657491 \\sqrt{\\pi} \\operatorname{erf}{\\left(70.7106781186548 y - 31.6227766016838 \\right)} + 72.502954657491 \\sqrt{\\pi} \\operatorname{erf}{\\left(70.7106781186548 y - 15.8113883008419 \\right)}\\right) + \\left(- 72.502954657491 \\sqrt{\\pi} \\operatorname{erf}{\\left(70.7106781186548 x - 15.8113883008419 \\right)} + 72.502954657491 \\sqrt{\\pi} \\operatorname{erf}{\\left(70.7106781186548 x + 15.8113883008419 \\right)}\\right) \\left(- 72.502954657491 \\sqrt{\\pi} \\operatorname{erf}{\\left(70.7106781186548 y + 15.8113883008419 \\right)} + 72.502954657491 \\sqrt{\\pi} \\operatorname{erf}{\\left(70.7106781186548 y + 31.6227766016838 \\right)}\\right) + 1942.63059701493$"
      ],
      "text/plain": [
       "(-72.502954657491⋅√π⋅erf(70.7106781186548⋅x - 31.6227766016838) + 72.502954657\n",
       "491⋅√π⋅erf(70.7106781186548⋅x + 31.6227766016838))⋅(-72.502954657491⋅√π⋅erf(70\n",
       ".7106781186548⋅y - 15.8113883008419) + 72.502954657491⋅√π⋅erf(70.7106781186548\n",
       "⋅y + 15.8113883008419)) + (-72.502954657491⋅√π⋅erf(70.7106781186548⋅x - 15.811\n",
       "3883008419) + 72.502954657491⋅√π⋅erf(70.7106781186548⋅x + 15.8113883008419))⋅(\n",
       "-72.502954657491⋅√π⋅erf(70.7106781186548⋅y - 31.6227766016838) + 72.5029546574\n",
       "91⋅√π⋅erf(70.7106781186548⋅y - 15.8113883008419)) + (-72.502954657491⋅√π⋅erf(7\n",
       "0.7106781186548⋅x - 15.8113883008419) + 72.502954657491⋅√π⋅erf(70.710678118654\n",
       "8⋅x + 15.8113883008419))⋅(-72.502954657491⋅√π⋅erf(70.7106781186548⋅y + 15.8113\n",
       "883008419) + 72.502954657491⋅√π⋅erf(70.7106781186548⋅y + 31.6227766016838)) + \n",
       "1942.63059701493"
      ]
     },
     "execution_count": 24,
     "metadata": {},
     "output_type": "execute_result"
    }
   ],
   "source": [
    "C₁₁₂₂ = smooth2E1 + smooth2E2 + smooth2E3 + C₁₂ₘ"
   ]
  },
  {
   "cell_type": "markdown",
   "id": "6440f8fd",
   "metadata": {},
   "source": [
    "E2discont1 = -E2x(x₁,-7.5,7.5)*E2y(y₁,-5,5)\n",
    "E2discont2 = -E2x(x₁,-5,5)*E2y(y₁,-7.5,-5)\n",
    "E2discont3 = -E2x(x₁,-5,5)*E2y(y₁,5,7.5)\n",
    "E2discont = E2discont1 + E2discont2 + E2discont3 + C₁₂ₘ"
   ]
  },
  {
   "cell_type": "markdown",
   "id": "56620146",
   "metadata": {},
   "source": [
    "xs = ys = range(-10,10, length=100)\n",
    "plot1 = surface(xs, ys, E2discont, c=:diverging_bwr_40_95_c42_n256, axis = nothing, showaxis =false,aspect_ratio=:equal, camera=(0,90))\n",
    "plot2 = surface(xs, ys, C₁₁₂₂, c=:diverging_bwr_40_95_c42_n256, axis = nothing, showaxis =false,aspect_ratio=:equal,camera=(0,90))\n",
    "plot(plot1,plot2)"
   ]
  },
  {
   "cell_type": "code",
   "execution_count": 25,
   "id": "8adcea3e",
   "metadata": {},
   "outputs": [
    {
     "data": {
      "text/latex": [
       "$136000.0$"
      ],
      "text/plain": [
       "136000.000000000"
      ]
     },
     "execution_count": 25,
     "metadata": {},
     "output_type": "execute_result"
    }
   ],
   "source": [
    "C₃₃ₘ = Gₘ\n",
    "C₃₃ᵢ = Gᵢ"
   ]
  },
  {
   "cell_type": "code",
   "execution_count": 26,
   "id": "d2b60b92",
   "metadata": {},
   "outputs": [
    {
     "data": {
      "text/plain": [
       "E3y (generic function with 1 method)"
      ]
     },
     "execution_count": 26,
     "metadata": {},
     "output_type": "execute_result"
    }
   ],
   "source": [
    "E3x(x,ax,bx) = sqrt(C₃₃ᵢ - C₃₃ₘ) * interval(x,ax,bx) \n",
    "E3y(y,ay,by) = sqrt(C₃₃ᵢ - C₃₃ₘ) * interval(y,ay,by) "
   ]
  },
  {
   "cell_type": "code",
   "execution_count": 27,
   "id": "4a7532e9",
   "metadata": {},
   "outputs": [
    {
     "data": {
      "text/latex": [
       "$39.8942280401433 \\left(- 183.147237073785 \\operatorname{sign}{\\left(x₁ - 0.447213595499958 \\right)} + 183.147237073785 \\operatorname{sign}{\\left(x₁ + 0.447213595499958 \\right)}\\right) e^{- 5000.0 \\left(x - x₁\\right)^{2}}$"
      ],
      "text/plain": [
       "                                                                              \n",
       "                                                                              \n",
       "39.8942280401433⋅(-183.147237073785⋅sign(x₁ - 0.447213595499958) + 183.1472370\n",
       "\n",
       "                                                     2\n",
       "                                     -5000.0⋅(x - x₁) \n",
       "73785⋅sign(x₁ + 0.447213595499958))⋅ℯ                 "
      ]
     },
     "execution_count": 27,
     "metadata": {},
     "output_type": "execute_result"
    }
   ],
   "source": [
    "IF3x1 = E3x(x₁,-lₙₓ,lₙₓ)*wₕ(x,x₁)\n",
    "IF3x2 = E3x(x₁,-lₐ₁ₙ,lₐ₁ₙ)*wₕ(x,x₁)"
   ]
  },
  {
   "cell_type": "code",
   "execution_count": 28,
   "id": "b13a46e5",
   "metadata": {},
   "outputs": [
    {
     "data": {
      "text/latex": [
       "$39.8942280401433 \\left(- 183.147237073785 \\operatorname{sign}{\\left(y₁ - 0.447213595499958 \\right)} + 183.147237073785 \\operatorname{sign}{\\left(y₁ - 0.223606797749979 \\right)}\\right) e^{- 5000.0 \\left(y - y₁\\right)^{2}}$"
      ],
      "text/plain": [
       "                                                                              \n",
       "                                                                              \n",
       "39.8942280401433⋅(-183.147237073785⋅sign(y₁ - 0.447213595499958) + 183.1472370\n",
       "\n",
       "                                                     2\n",
       "                                     -5000.0⋅(y - y₁) \n",
       "73785⋅sign(y₁ - 0.223606797749979))⋅ℯ                 "
      ]
     },
     "execution_count": 28,
     "metadata": {},
     "output_type": "execute_result"
    }
   ],
   "source": [
    "IF3y1 = E3y(y₁,-lₙₓ,lₙₓ)*wₕ(y,y₁)\n",
    "IF3y2 = E3y(y₁,-lₐ₁ₙ,-lₙₓ)*wₕ(y,y₁)\n",
    "IF3y3 = E3y(y₁,lₙₓ,lₐ₁ₙ)*wₕ(y,y₁)"
   ]
  },
  {
   "cell_type": "code",
   "execution_count": 29,
   "id": "22933cfa",
   "metadata": {},
   "outputs": [
    {
     "data": {
      "text/latex": [
       "$\\left(- 103.329763412581 \\sqrt{\\pi} \\operatorname{erf}{\\left(70.7106781186548 x - 15.8113883008419 \\right)} + 103.329763412581 \\sqrt{\\pi} \\operatorname{erf}{\\left(70.7106781186548 x + 15.8113883008419 \\right)}\\right) \\left(- 103.329763412581 \\sqrt{\\pi} \\operatorname{erf}{\\left(70.7106781186548 y - 31.6227766016838 \\right)} + 103.329763412581 \\sqrt{\\pi} \\operatorname{erf}{\\left(70.7106781186548 y - 15.8113883008419 \\right)}\\right)$"
      ],
      "text/plain": [
       "(-103.329763412581⋅√π⋅erf(70.7106781186548⋅x - 15.8113883008419) + 103.3297634\n",
       "12581⋅√π⋅erf(70.7106781186548⋅x + 15.8113883008419))⋅(-103.329763412581⋅√π⋅erf\n",
       "(70.7106781186548⋅y - 31.6227766016838) + 103.329763412581⋅√π⋅erf(70.710678118\n",
       "6548⋅y - 15.8113883008419))"
      ]
     },
     "execution_count": 29,
     "metadata": {},
     "output_type": "execute_result"
    }
   ],
   "source": [
    "smooth3E1 = integrate(IF3x2,(x₁,-lₘₓ,lₘₓ))*integrate(IF3y1,(y₁,-lₘₓ,lₘₓ))\n",
    "smooth3E2 = integrate(IF3x1,(x₁,-lₘₓ,lₘₓ))*integrate(IF3y2,(y₁,-lₘₓ,lₘₓ))\n",
    "smooth3E3 = integrate(IF3x1,(x₁,-lₘₓ,lₘₓ))*integrate(IF3y3,(y₁,-lₘₓ,lₘₓ))"
   ]
  },
  {
   "cell_type": "code",
   "execution_count": 30,
   "id": "ca04e4ba",
   "metadata": {
    "scrolled": true
   },
   "outputs": [
    {
     "data": {
      "text/latex": [
       "$\\left(- 103.329763412581 \\sqrt{\\pi} \\operatorname{erf}{\\left(70.7106781186548 x - 31.6227766016838 \\right)} + 103.329763412581 \\sqrt{\\pi} \\operatorname{erf}{\\left(70.7106781186548 x + 31.6227766016838 \\right)}\\right) \\left(- 103.329763412581 \\sqrt{\\pi} \\operatorname{erf}{\\left(70.7106781186548 y - 15.8113883008419 \\right)} + 103.329763412581 \\sqrt{\\pi} \\operatorname{erf}{\\left(70.7106781186548 y + 15.8113883008419 \\right)}\\right) + \\left(- 103.329763412581 \\sqrt{\\pi} \\operatorname{erf}{\\left(70.7106781186548 x - 15.8113883008419 \\right)} + 103.329763412581 \\sqrt{\\pi} \\operatorname{erf}{\\left(70.7106781186548 x + 15.8113883008419 \\right)}\\right) \\left(- 103.329763412581 \\sqrt{\\pi} \\operatorname{erf}{\\left(70.7106781186548 y - 31.6227766016838 \\right)} + 103.329763412581 \\sqrt{\\pi} \\operatorname{erf}{\\left(70.7106781186548 y - 15.8113883008419 \\right)}\\right) + \\left(- 103.329763412581 \\sqrt{\\pi} \\operatorname{erf}{\\left(70.7106781186548 x - 15.8113883008419 \\right)} + 103.329763412581 \\sqrt{\\pi} \\operatorname{erf}{\\left(70.7106781186548 x + 15.8113883008419 \\right)}\\right) \\left(- 103.329763412581 \\sqrt{\\pi} \\operatorname{erf}{\\left(70.7106781186548 y + 15.8113883008419 \\right)} + 103.329763412581 \\sqrt{\\pi} \\operatorname{erf}{\\left(70.7106781186548 y + 31.6227766016838 \\right)}\\right) + 1828.35820895522$"
      ],
      "text/plain": [
       "(-103.329763412581⋅√π⋅erf(70.7106781186548⋅x - 31.6227766016838) + 103.3297634\n",
       "12581⋅√π⋅erf(70.7106781186548⋅x + 31.6227766016838))⋅(-103.329763412581⋅√π⋅erf\n",
       "(70.7106781186548⋅y - 15.8113883008419) + 103.329763412581⋅√π⋅erf(70.710678118\n",
       "6548⋅y + 15.8113883008419)) + (-103.329763412581⋅√π⋅erf(70.7106781186548⋅x - 1\n",
       "5.8113883008419) + 103.329763412581⋅√π⋅erf(70.7106781186548⋅x + 15.81138830084\n",
       "19))⋅(-103.329763412581⋅√π⋅erf(70.7106781186548⋅y - 31.6227766016838) + 103.32\n",
       "9763412581⋅√π⋅erf(70.7106781186548⋅y - 15.8113883008419)) + (-103.329763412581\n",
       "⋅√π⋅erf(70.7106781186548⋅x - 15.8113883008419) + 103.329763412581⋅√π⋅erf(70.71\n",
       "06781186548⋅x + 15.8113883008419))⋅(-103.329763412581⋅√π⋅erf(70.7106781186548⋅\n",
       "y + 15.8113883008419) + 103.329763412581⋅√π⋅erf(70.7106781186548⋅y + 31.622776\n",
       "6016838)) + 1828.35820895522"
      ]
     },
     "execution_count": 30,
     "metadata": {},
     "output_type": "execute_result"
    }
   ],
   "source": [
    "C₃₃₃₃ = smooth3E1 + smooth3E2 + smooth3E3 + C₃₃ₘ"
   ]
  },
  {
   "cell_type": "markdown",
   "id": "6e6d53df",
   "metadata": {},
   "source": [
    "xs = ys = range(-10,10, length=100)\n",
    "plot1 = surface(xs, ys, Ediscont3, c=:diverging_bwr_40_95_c42_n256, axis = nothing, showaxis =false,aspect_ratio=:equal, camera=(0,90))\n",
    "plot2 = surface(xs, ys, smooth3E, c=:diverging_bwr_40_95_c42_n256, axis = nothing, showaxis =false,aspect_ratio=:equal,camera=(0,90))\n",
    "plot(plot1,plot2)"
   ]
  },
  {
   "cell_type": "code",
   "execution_count": 31,
   "id": "37ea79b0",
   "metadata": {},
   "outputs": [
    {
     "data": {
      "text/plain": [
       "20"
      ]
     },
     "execution_count": 31,
     "metadata": {},
     "output_type": "execute_result"
    }
   ],
   "source": [
    "d₁₁ₘ = 0\n",
    "d₁₁ᵢ = 20"
   ]
  },
  {
   "cell_type": "code",
   "execution_count": 32,
   "id": "faad1842",
   "metadata": {},
   "outputs": [
    {
     "data": {
      "text/plain": [
       "D1y (generic function with 1 method)"
      ]
     },
     "execution_count": 32,
     "metadata": {},
     "output_type": "execute_result"
    }
   ],
   "source": [
    "D1x(x,ax,bx) = sqrt(d₁₁ᵢ - d₁₁ₘ) * interval(x,ax,bx) \n",
    "D1y(y,ay,by) = sqrt(d₁₁ᵢ - d₁₁ₘ) * interval(y,ay,by) "
   ]
  },
  {
   "cell_type": "code",
   "execution_count": 33,
   "id": "d9ab5879",
   "metadata": {},
   "outputs": [
    {
     "data": {
      "text/latex": [
       "$39.8942280401433 \\left(- 2.23606797749979 \\operatorname{sign}{\\left(x₁ - 0.447213595499958 \\right)} + 2.23606797749979 \\operatorname{sign}{\\left(x₁ + 0.447213595499958 \\right)}\\right) e^{- 5000.0 \\left(x - x₁\\right)^{2}}$"
      ],
      "text/plain": [
       "                                                                              \n",
       "                                                                              \n",
       "39.8942280401433⋅(-2.23606797749979⋅sign(x₁ - 0.447213595499958) + 2.236067977\n",
       "\n",
       "                                                     2\n",
       "                                     -5000.0⋅(x - x₁) \n",
       "49979⋅sign(x₁ + 0.447213595499958))⋅ℯ                 "
      ]
     },
     "execution_count": 33,
     "metadata": {},
     "output_type": "execute_result"
    }
   ],
   "source": [
    "ID1x1 = D1x(x₁,-lₙₓ,lₙₓ)*wₕ(x,x₁)\n",
    "ID1x2 = D1x(x₁,-lₐ₁ₙ,lₐ₁ₙ)*wₕ(x,x₁)"
   ]
  },
  {
   "cell_type": "code",
   "execution_count": 34,
   "id": "c354d307",
   "metadata": {},
   "outputs": [
    {
     "data": {
      "text/latex": [
       "$39.8942280401433 \\left(- 2.23606797749979 \\operatorname{sign}{\\left(y₁ - 0.447213595499958 \\right)} + 2.23606797749979 \\operatorname{sign}{\\left(y₁ - 0.223606797749979 \\right)}\\right) e^{- 5000.0 \\left(y - y₁\\right)^{2}}$"
      ],
      "text/plain": [
       "                                                                              \n",
       "                                                                              \n",
       "39.8942280401433⋅(-2.23606797749979⋅sign(y₁ - 0.447213595499958) + 2.236067977\n",
       "\n",
       "                                                     2\n",
       "                                     -5000.0⋅(y - y₁) \n",
       "49979⋅sign(y₁ - 0.223606797749979))⋅ℯ                 "
      ]
     },
     "execution_count": 34,
     "metadata": {},
     "output_type": "execute_result"
    }
   ],
   "source": [
    "ID1y1 = D1y(y₁,-lₙₓ,lₙₓ)*wₕ(y,y₁)\n",
    "ID1y2 = D1y(y₁,-lₐ₁ₙ,-lₙₓ)*wₕ(y,y₁)\n",
    "ID1y3 = D1y(y₁,lₙₓ,lₐ₁ₙ)*wₕ(y,y₁)"
   ]
  },
  {
   "cell_type": "code",
   "execution_count": 35,
   "id": "e684c43c",
   "metadata": {},
   "outputs": [
    {
     "data": {
      "text/latex": [
       "$\\left(- 1.26156626101008 \\sqrt{\\pi} \\operatorname{erf}{\\left(70.7106781186548 x - 15.8113883008419 \\right)} + 1.26156626101008 \\sqrt{\\pi} \\operatorname{erf}{\\left(70.7106781186548 x + 15.8113883008419 \\right)}\\right) \\left(- 1.26156626101008 \\sqrt{\\pi} \\operatorname{erf}{\\left(70.7106781186548 y - 31.6227766016838 \\right)} + 1.26156626101008 \\sqrt{\\pi} \\operatorname{erf}{\\left(70.7106781186548 y - 15.8113883008419 \\right)}\\right)$"
      ],
      "text/plain": [
       "(-1.26156626101008⋅√π⋅erf(70.7106781186548⋅x - 15.8113883008419) + 1.261566261\n",
       "01008⋅√π⋅erf(70.7106781186548⋅x + 15.8113883008419))⋅(-1.26156626101008⋅√π⋅erf\n",
       "(70.7106781186548⋅y - 31.6227766016838) + 1.26156626101008⋅√π⋅erf(70.710678118\n",
       "6548⋅y - 15.8113883008419))"
      ]
     },
     "execution_count": 35,
     "metadata": {},
     "output_type": "execute_result"
    }
   ],
   "source": [
    "smooth1D1 = integrate(ID1x2,(x₁,-lₘₓ,lₘₓ))*integrate(ID1y1,(y₁,-lₘₓ,lₘₓ))\n",
    "smooth1D2 = integrate(ID1x1,(x₁,-lₘₓ,lₘₓ))*integrate(ID1y2,(y₁,-lₘₓ,lₘₓ))\n",
    "smooth1D3 = integrate(ID1x1,(x₁,-lₘₓ,lₘₓ))*integrate(ID1y3,(y₁,-lₘₓ,lₘₓ))"
   ]
  },
  {
   "cell_type": "code",
   "execution_count": 36,
   "id": "768f6c08",
   "metadata": {
    "scrolled": true
   },
   "outputs": [
    {
     "data": {
      "text/latex": [
       "$\\left(- 1.26156626101008 \\sqrt{\\pi} \\operatorname{erf}{\\left(70.7106781186548 x - 31.6227766016838 \\right)} + 1.26156626101008 \\sqrt{\\pi} \\operatorname{erf}{\\left(70.7106781186548 x + 31.6227766016838 \\right)}\\right) \\left(- 1.26156626101008 \\sqrt{\\pi} \\operatorname{erf}{\\left(70.7106781186548 y - 15.8113883008419 \\right)} + 1.26156626101008 \\sqrt{\\pi} \\operatorname{erf}{\\left(70.7106781186548 y + 15.8113883008419 \\right)}\\right) + \\left(- 1.26156626101008 \\sqrt{\\pi} \\operatorname{erf}{\\left(70.7106781186548 x - 15.8113883008419 \\right)} + 1.26156626101008 \\sqrt{\\pi} \\operatorname{erf}{\\left(70.7106781186548 x + 15.8113883008419 \\right)}\\right) \\left(- 1.26156626101008 \\sqrt{\\pi} \\operatorname{erf}{\\left(70.7106781186548 y - 31.6227766016838 \\right)} + 1.26156626101008 \\sqrt{\\pi} \\operatorname{erf}{\\left(70.7106781186548 y - 15.8113883008419 \\right)}\\right) + \\left(- 1.26156626101008 \\sqrt{\\pi} \\operatorname{erf}{\\left(70.7106781186548 x - 15.8113883008419 \\right)} + 1.26156626101008 \\sqrt{\\pi} \\operatorname{erf}{\\left(70.7106781186548 x + 15.8113883008419 \\right)}\\right) \\left(- 1.26156626101008 \\sqrt{\\pi} \\operatorname{erf}{\\left(70.7106781186548 y + 15.8113883008419 \\right)} + 1.26156626101008 \\sqrt{\\pi} \\operatorname{erf}{\\left(70.7106781186548 y + 31.6227766016838 \\right)}\\right)$"
      ],
      "text/plain": [
       "(-1.26156626101008⋅√π⋅erf(70.7106781186548⋅x - 31.6227766016838) + 1.261566261\n",
       "01008⋅√π⋅erf(70.7106781186548⋅x + 31.6227766016838))⋅(-1.26156626101008⋅√π⋅erf\n",
       "(70.7106781186548⋅y - 15.8113883008419) + 1.26156626101008⋅√π⋅erf(70.710678118\n",
       "6548⋅y + 15.8113883008419)) + (-1.26156626101008⋅√π⋅erf(70.7106781186548⋅x - 1\n",
       "5.8113883008419) + 1.26156626101008⋅√π⋅erf(70.7106781186548⋅x + 15.81138830084\n",
       "19))⋅(-1.26156626101008⋅√π⋅erf(70.7106781186548⋅y - 31.6227766016838) + 1.2615\n",
       "6626101008⋅√π⋅erf(70.7106781186548⋅y - 15.8113883008419)) + (-1.26156626101008\n",
       "⋅√π⋅erf(70.7106781186548⋅x - 15.8113883008419) + 1.26156626101008⋅√π⋅erf(70.71\n",
       "06781186548⋅x + 15.8113883008419))⋅(-1.26156626101008⋅√π⋅erf(70.7106781186548⋅\n",
       "y + 15.8113883008419) + 1.26156626101008⋅√π⋅erf(70.7106781186548⋅y + 31.622776\n",
       "6016838))"
      ]
     },
     "execution_count": 36,
     "metadata": {},
     "output_type": "execute_result"
    }
   ],
   "source": [
    "D₁₁ = smooth1D1 + smooth1D2 + smooth1D3 + d₁₁ₘ"
   ]
  },
  {
   "cell_type": "code",
   "execution_count": 37,
   "id": "3ca271e6",
   "metadata": {},
   "outputs": [
    {
     "data": {
      "text/plain": [
       "-0.9"
      ]
     },
     "execution_count": 37,
     "metadata": {},
     "output_type": "execute_result"
    }
   ],
   "source": [
    "d₁₂ₘ = 20\n",
    "d₁₂ᵢ = -0.9"
   ]
  },
  {
   "cell_type": "code",
   "execution_count": 38,
   "id": "a867c2a7",
   "metadata": {},
   "outputs": [
    {
     "data": {
      "text/plain": [
       "D22y (generic function with 1 method)"
      ]
     },
     "execution_count": 38,
     "metadata": {},
     "output_type": "execute_result"
    }
   ],
   "source": [
    "D22x(x,ax,bx) = sqrt(d₁₂ₘ - d₁₂ᵢ) * interval(x,ax,bx) \n",
    "D22y(y,ay,by) = sqrt(d₁₂ₘ - d₁₂ᵢ) * interval(y,ay,by) "
   ]
  },
  {
   "cell_type": "code",
   "execution_count": 39,
   "id": "3283d68c",
   "metadata": {},
   "outputs": [
    {
     "data": {
      "text/latex": [
       "$39.8942280401433 \\left(- 2.28582589013249 \\operatorname{sign}{\\left(x₁ - 0.447213595499958 \\right)} + 2.28582589013249 \\operatorname{sign}{\\left(x₁ + 0.447213595499958 \\right)}\\right) e^{- 5000.0 \\left(x - x₁\\right)^{2}}$"
      ],
      "text/plain": [
       "                                                                              \n",
       "                                                                              \n",
       "39.8942280401433⋅(-2.28582589013249⋅sign(x₁ - 0.447213595499958) + 2.285825890\n",
       "\n",
       "                                                     2\n",
       "                                     -5000.0⋅(x - x₁) \n",
       "13249⋅sign(x₁ + 0.447213595499958))⋅ℯ                 "
      ]
     },
     "execution_count": 39,
     "metadata": {},
     "output_type": "execute_result"
    }
   ],
   "source": [
    "ID22x1 = D22x(x₁,-lₙₓ,lₙₓ)*wₕ(x,x₁)\n",
    "ID22x2 = D22x(x₁,-lₐ₁ₙ,lₐ₁ₙ)*wₕ(x,x₁)"
   ]
  },
  {
   "cell_type": "code",
   "execution_count": 40,
   "id": "431a91b8",
   "metadata": {},
   "outputs": [
    {
     "data": {
      "text/latex": [
       "$39.8942280401433 \\left(- 2.28582589013249 \\operatorname{sign}{\\left(y₁ - 0.447213595499958 \\right)} + 2.28582589013249 \\operatorname{sign}{\\left(y₁ - 0.223606797749979 \\right)}\\right) e^{- 5000.0 \\left(y - y₁\\right)^{2}}$"
      ],
      "text/plain": [
       "                                                                              \n",
       "                                                                              \n",
       "39.8942280401433⋅(-2.28582589013249⋅sign(y₁ - 0.447213595499958) + 2.285825890\n",
       "\n",
       "                                                     2\n",
       "                                     -5000.0⋅(y - y₁) \n",
       "13249⋅sign(y₁ - 0.223606797749979))⋅ℯ                 "
      ]
     },
     "execution_count": 40,
     "metadata": {},
     "output_type": "execute_result"
    }
   ],
   "source": [
    "ID22y1 = D22y(y₁,-lₙₓ,lₙₓ)*wₕ(y,y₁)\n",
    "ID22y2 = D22y(y₁,-lₐ₁ₙ,-lₙₓ)*wₕ(y,y₁)\n",
    "ID22y3 = D22y(y₁,lₙₓ,lₐ₁ₙ)*wₕ(y,y₁)"
   ]
  },
  {
   "cell_type": "code",
   "execution_count": 41,
   "id": "7e14ab5d",
   "metadata": {},
   "outputs": [
    {
     "data": {
      "text/latex": [
       "$\\left(1.28963915701653 \\sqrt{\\pi} \\operatorname{erf}{\\left(70.7106781186548 x - 15.8113883008419 \\right)} - 1.28963915701653 \\sqrt{\\pi} \\operatorname{erf}{\\left(70.7106781186548 x + 15.8113883008419 \\right)}\\right) \\left(- 1.28963915701653 \\sqrt{\\pi} \\operatorname{erf}{\\left(70.7106781186548 y - 31.6227766016838 \\right)} + 1.28963915701653 \\sqrt{\\pi} \\operatorname{erf}{\\left(70.7106781186548 y - 15.8113883008419 \\right)}\\right)$"
      ],
      "text/plain": [
       "(1.28963915701653⋅√π⋅erf(70.7106781186548⋅x - 15.8113883008419) - 1.2896391570\n",
       "1653⋅√π⋅erf(70.7106781186548⋅x + 15.8113883008419))⋅(-1.28963915701653⋅√π⋅erf(\n",
       "70.7106781186548⋅y - 31.6227766016838) + 1.28963915701653⋅√π⋅erf(70.7106781186\n",
       "548⋅y - 15.8113883008419))"
      ]
     },
     "execution_count": 41,
     "metadata": {},
     "output_type": "execute_result"
    }
   ],
   "source": [
    "smooth22D1 = -integrate(ID22x2,(x₁,-lₘₓ,lₘₓ))*integrate(ID22y1,(y₁,-lₘₓ,lₘₓ))\n",
    "smooth22D2 = -integrate(ID22x1,(x₁,-lₘₓ,lₘₓ))*integrate(ID22y2,(y₁,-lₘₓ,lₘₓ))\n",
    "smooth22D3 = -integrate(ID22x1,(x₁,-lₘₓ,lₘₓ))*integrate(ID22y3,(y₁,-lₘₓ,lₘₓ))"
   ]
  },
  {
   "cell_type": "code",
   "execution_count": 42,
   "id": "1d56fbce",
   "metadata": {
    "scrolled": true
   },
   "outputs": [
    {
     "data": {
      "text/latex": [
       "$\\left(1.28963915701653 \\sqrt{\\pi} \\operatorname{erf}{\\left(70.7106781186548 x - 31.6227766016838 \\right)} - 1.28963915701653 \\sqrt{\\pi} \\operatorname{erf}{\\left(70.7106781186548 x + 31.6227766016838 \\right)}\\right) \\left(- 1.28963915701653 \\sqrt{\\pi} \\operatorname{erf}{\\left(70.7106781186548 y - 15.8113883008419 \\right)} + 1.28963915701653 \\sqrt{\\pi} \\operatorname{erf}{\\left(70.7106781186548 y + 15.8113883008419 \\right)}\\right) + \\left(1.28963915701653 \\sqrt{\\pi} \\operatorname{erf}{\\left(70.7106781186548 x - 15.8113883008419 \\right)} - 1.28963915701653 \\sqrt{\\pi} \\operatorname{erf}{\\left(70.7106781186548 x + 15.8113883008419 \\right)}\\right) \\left(- 1.28963915701653 \\sqrt{\\pi} \\operatorname{erf}{\\left(70.7106781186548 y - 31.6227766016838 \\right)} + 1.28963915701653 \\sqrt{\\pi} \\operatorname{erf}{\\left(70.7106781186548 y - 15.8113883008419 \\right)}\\right) + \\left(1.28963915701653 \\sqrt{\\pi} \\operatorname{erf}{\\left(70.7106781186548 x - 15.8113883008419 \\right)} - 1.28963915701653 \\sqrt{\\pi} \\operatorname{erf}{\\left(70.7106781186548 x + 15.8113883008419 \\right)}\\right) \\left(- 1.28963915701653 \\sqrt{\\pi} \\operatorname{erf}{\\left(70.7106781186548 y + 15.8113883008419 \\right)} + 1.28963915701653 \\sqrt{\\pi} \\operatorname{erf}{\\left(70.7106781186548 y + 31.6227766016838 \\right)}\\right) + 20$"
      ],
      "text/plain": [
       "(1.28963915701653⋅√π⋅erf(70.7106781186548⋅x - 31.6227766016838) - 1.2896391570\n",
       "1653⋅√π⋅erf(70.7106781186548⋅x + 31.6227766016838))⋅(-1.28963915701653⋅√π⋅erf(\n",
       "70.7106781186548⋅y - 15.8113883008419) + 1.28963915701653⋅√π⋅erf(70.7106781186\n",
       "548⋅y + 15.8113883008419)) + (1.28963915701653⋅√π⋅erf(70.7106781186548⋅x - 15.\n",
       "8113883008419) - 1.28963915701653⋅√π⋅erf(70.7106781186548⋅x + 15.8113883008419\n",
       "))⋅(-1.28963915701653⋅√π⋅erf(70.7106781186548⋅y - 31.6227766016838) + 1.289639\n",
       "15701653⋅√π⋅erf(70.7106781186548⋅y - 15.8113883008419)) + (1.28963915701653⋅√π\n",
       "⋅erf(70.7106781186548⋅x - 15.8113883008419) - 1.28963915701653⋅√π⋅erf(70.71067\n",
       "81186548⋅x + 15.8113883008419))⋅(-1.28963915701653⋅√π⋅erf(70.7106781186548⋅y +\n",
       " 15.8113883008419) + 1.28963915701653⋅√π⋅erf(70.7106781186548⋅y + 31.622776601\n",
       "6838)) + 20"
      ]
     },
     "execution_count": 42,
     "metadata": {},
     "output_type": "execute_result"
    }
   ],
   "source": [
    "D₂₁ = smooth22D1 + smooth22D2 + smooth22D3 + d₁₂ₘ"
   ]
  },
  {
   "cell_type": "code",
   "execution_count": 43,
   "id": "56f25fe1",
   "metadata": {},
   "outputs": [
    {
     "data": {
      "text/plain": [
       "-0.9"
      ]
     },
     "execution_count": 43,
     "metadata": {},
     "output_type": "execute_result"
    }
   ],
   "source": [
    "d₂₂ₘ = 3\n",
    "d₂₂ᵢ = -0.9"
   ]
  },
  {
   "cell_type": "code",
   "execution_count": 44,
   "id": "d4d3ea09",
   "metadata": {},
   "outputs": [
    {
     "data": {
      "text/plain": [
       "D2y (generic function with 1 method)"
      ]
     },
     "execution_count": 44,
     "metadata": {},
     "output_type": "execute_result"
    }
   ],
   "source": [
    "D2x(x,ax,bx) = sqrt(d₂₂ₘ - d₂₂ᵢ) * interval(x,ax,bx) \n",
    "D2y(y,ay,by) = sqrt(d₂₂ₘ - d₂₂ᵢ) * interval(y,ay,by) "
   ]
  },
  {
   "cell_type": "code",
   "execution_count": 45,
   "id": "0b31a78d",
   "metadata": {},
   "outputs": [
    {
     "data": {
      "text/latex": [
       "$39.8942280401433 \\left(- 0.987420882906575 \\operatorname{sign}{\\left(x₁ - 0.447213595499958 \\right)} + 0.987420882906575 \\operatorname{sign}{\\left(x₁ + 0.447213595499958 \\right)}\\right) e^{- 5000.0 \\left(x - x₁\\right)^{2}}$"
      ],
      "text/plain": [
       "                                                                              \n",
       "                                                                              \n",
       "39.8942280401433⋅(-0.987420882906575⋅sign(x₁ - 0.447213595499958) + 0.98742088\n",
       "\n",
       "                                                       2\n",
       "                                       -5000.0⋅(x - x₁) \n",
       "2906575⋅sign(x₁ + 0.447213595499958))⋅ℯ                 "
      ]
     },
     "execution_count": 45,
     "metadata": {},
     "output_type": "execute_result"
    }
   ],
   "source": [
    "ID2x1 = D2x(x₁,-lₙₓ,lₙₓ)*wₕ(x,x₁)\n",
    "ID2x2 = D2x(x₁,-lₐ₁ₙ,lₐ₁ₙ)*wₕ(x,x₁)"
   ]
  },
  {
   "cell_type": "code",
   "execution_count": 46,
   "id": "a35cd986",
   "metadata": {},
   "outputs": [
    {
     "data": {
      "text/latex": [
       "$39.8942280401433 \\left(- 0.987420882906575 \\operatorname{sign}{\\left(y₁ - 0.447213595499958 \\right)} + 0.987420882906575 \\operatorname{sign}{\\left(y₁ - 0.223606797749979 \\right)}\\right) e^{- 5000.0 \\left(y - y₁\\right)^{2}}$"
      ],
      "text/plain": [
       "                                                                              \n",
       "                                                                              \n",
       "39.8942280401433⋅(-0.987420882906575⋅sign(y₁ - 0.447213595499958) + 0.98742088\n",
       "\n",
       "                                                       2\n",
       "                                       -5000.0⋅(y - y₁) \n",
       "2906575⋅sign(y₁ - 0.223606797749979))⋅ℯ                 "
      ]
     },
     "execution_count": 46,
     "metadata": {},
     "output_type": "execute_result"
    }
   ],
   "source": [
    "ID2y1 = D2y(y₁,-lₙₓ,lₙₓ)*wₕ(y,y₁)\n",
    "ID2y2 = D2y(y₁,-lₐ₁ₙ,-lₙₓ)*wₕ(y,y₁)\n",
    "ID2y3 = D2y(y₁,lₙₓ,lₐ₁ₙ)*wₕ(y,y₁)"
   ]
  },
  {
   "cell_type": "code",
   "execution_count": 47,
   "id": "55880fae",
   "metadata": {},
   "outputs": [
    {
     "data": {
      "text/latex": [
       "$\\left(0.557092576713418 \\sqrt{\\pi} \\operatorname{erf}{\\left(70.7106781186548 x - 15.8113883008419 \\right)} - 0.557092576713418 \\sqrt{\\pi} \\operatorname{erf}{\\left(70.7106781186548 x + 15.8113883008419 \\right)}\\right) \\left(- 0.557092576713418 \\sqrt{\\pi} \\operatorname{erf}{\\left(70.7106781186548 y - 31.6227766016838 \\right)} + 0.557092576713418 \\sqrt{\\pi} \\operatorname{erf}{\\left(70.7106781186548 y - 15.8113883008419 \\right)}\\right)$"
      ],
      "text/plain": [
       "(0.557092576713418⋅√π⋅erf(70.7106781186548⋅x - 15.8113883008419) - 0.557092576\n",
       "713418⋅√π⋅erf(70.7106781186548⋅x + 15.8113883008419))⋅(-0.557092576713418⋅√π⋅e\n",
       "rf(70.7106781186548⋅y - 31.6227766016838) + 0.557092576713418⋅√π⋅erf(70.710678\n",
       "1186548⋅y - 15.8113883008419))"
      ]
     },
     "execution_count": 47,
     "metadata": {},
     "output_type": "execute_result"
    }
   ],
   "source": [
    "smooth2D1 = -integrate(ID2x2,(x₁,-lₘₓ,lₘₓ))*integrate(ID2y1,(y₁,-lₘₓ,lₘₓ))\n",
    "smooth2D2 = -integrate(ID2x1,(x₁,-lₘₓ,lₘₓ))*integrate(ID2y2,(y₁,-lₘₓ,lₘₓ))\n",
    "smooth2D3 = -integrate(ID2x1,(x₁,-lₘₓ,lₘₓ))*integrate(ID2y3,(y₁,-lₘₓ,lₘₓ))"
   ]
  },
  {
   "cell_type": "code",
   "execution_count": 48,
   "id": "60e6ce7f",
   "metadata": {
    "scrolled": true
   },
   "outputs": [
    {
     "data": {
      "text/latex": [
       "$\\left(0.557092576713418 \\sqrt{\\pi} \\operatorname{erf}{\\left(70.7106781186548 x - 31.6227766016838 \\right)} - 0.557092576713418 \\sqrt{\\pi} \\operatorname{erf}{\\left(70.7106781186548 x + 31.6227766016838 \\right)}\\right) \\left(- 0.557092576713418 \\sqrt{\\pi} \\operatorname{erf}{\\left(70.7106781186548 y - 15.8113883008419 \\right)} + 0.557092576713418 \\sqrt{\\pi} \\operatorname{erf}{\\left(70.7106781186548 y + 15.8113883008419 \\right)}\\right) + \\left(0.557092576713418 \\sqrt{\\pi} \\operatorname{erf}{\\left(70.7106781186548 x - 15.8113883008419 \\right)} - 0.557092576713418 \\sqrt{\\pi} \\operatorname{erf}{\\left(70.7106781186548 x + 15.8113883008419 \\right)}\\right) \\left(- 0.557092576713418 \\sqrt{\\pi} \\operatorname{erf}{\\left(70.7106781186548 y - 31.6227766016838 \\right)} + 0.557092576713418 \\sqrt{\\pi} \\operatorname{erf}{\\left(70.7106781186548 y - 15.8113883008419 \\right)}\\right) + \\left(0.557092576713418 \\sqrt{\\pi} \\operatorname{erf}{\\left(70.7106781186548 x - 15.8113883008419 \\right)} - 0.557092576713418 \\sqrt{\\pi} \\operatorname{erf}{\\left(70.7106781186548 x + 15.8113883008419 \\right)}\\right) \\left(- 0.557092576713418 \\sqrt{\\pi} \\operatorname{erf}{\\left(70.7106781186548 y + 15.8113883008419 \\right)} + 0.557092576713418 \\sqrt{\\pi} \\operatorname{erf}{\\left(70.7106781186548 y + 31.6227766016838 \\right)}\\right) + 3$"
      ],
      "text/plain": [
       "(0.557092576713418⋅√π⋅erf(70.7106781186548⋅x - 31.6227766016838) - 0.557092576\n",
       "713418⋅√π⋅erf(70.7106781186548⋅x + 31.6227766016838))⋅(-0.557092576713418⋅√π⋅e\n",
       "rf(70.7106781186548⋅y - 15.8113883008419) + 0.557092576713418⋅√π⋅erf(70.710678\n",
       "1186548⋅y + 15.8113883008419)) + (0.557092576713418⋅√π⋅erf(70.7106781186548⋅x \n",
       "- 15.8113883008419) - 0.557092576713418⋅√π⋅erf(70.7106781186548⋅x + 15.8113883\n",
       "008419))⋅(-0.557092576713418⋅√π⋅erf(70.7106781186548⋅y - 31.6227766016838) + 0\n",
       ".557092576713418⋅√π⋅erf(70.7106781186548⋅y - 15.8113883008419)) + (0.557092576\n",
       "713418⋅√π⋅erf(70.7106781186548⋅x - 15.8113883008419) - 0.557092576713418⋅√π⋅er\n",
       "f(70.7106781186548⋅x + 15.8113883008419))⋅(-0.557092576713418⋅√π⋅erf(70.710678\n",
       "1186548⋅y + 15.8113883008419) + 0.557092576713418⋅√π⋅erf(70.7106781186548⋅y + \n",
       "31.6227766016838)) + 3"
      ]
     },
     "execution_count": 48,
     "metadata": {},
     "output_type": "execute_result"
    }
   ],
   "source": [
    "D₂₂ = smooth2D1 + smooth2D2 + smooth2D3 + d₂₂ₘ"
   ]
  },
  {
   "cell_type": "code",
   "execution_count": 49,
   "id": "4aacff27",
   "metadata": {},
   "outputs": [
    {
     "data": {
      "text/plain": [
       "6"
      ]
     },
     "execution_count": 49,
     "metadata": {},
     "output_type": "execute_result"
    }
   ],
   "source": [
    "d₂₃ₘ = -46\n",
    "d₂₃ᵢ = 6"
   ]
  },
  {
   "cell_type": "code",
   "execution_count": 50,
   "id": "4f3c6153",
   "metadata": {},
   "outputs": [
    {
     "data": {
      "text/plain": [
       "D3y (generic function with 1 method)"
      ]
     },
     "execution_count": 50,
     "metadata": {},
     "output_type": "execute_result"
    }
   ],
   "source": [
    "D3x(x,ax,bx) = sqrt(d₂₃ᵢ - d₂₃ₘ) * interval(x,ax,bx) \n",
    "D3y(y,ay,by) = sqrt(d₂₃ᵢ - d₂₃ₘ) * interval(y,ay,by) "
   ]
  },
  {
   "cell_type": "code",
   "execution_count": 51,
   "id": "0a498bb5",
   "metadata": {},
   "outputs": [
    {
     "data": {
      "text/latex": [
       "$39.8942280401433 \\left(- 3.60555127546399 \\operatorname{sign}{\\left(x₁ - 0.447213595499958 \\right)} + 3.60555127546399 \\operatorname{sign}{\\left(x₁ + 0.447213595499958 \\right)}\\right) e^{- 5000.0 \\left(x - x₁\\right)^{2}}$"
      ],
      "text/plain": [
       "                                                                              \n",
       "                                                                              \n",
       "39.8942280401433⋅(-3.60555127546399⋅sign(x₁ - 0.447213595499958) + 3.605551275\n",
       "\n",
       "                                                     2\n",
       "                                     -5000.0⋅(x - x₁) \n",
       "46399⋅sign(x₁ + 0.447213595499958))⋅ℯ                 "
      ]
     },
     "execution_count": 51,
     "metadata": {},
     "output_type": "execute_result"
    }
   ],
   "source": [
    "ID3x1 = D3x(x₁,-lₙₓ,lₙₓ)*wₕ(x,x₁)\n",
    "ID3x2 = D3x(x₁,-lₐ₁ₙ,lₐ₁ₙ)*wₕ(x,x₁)"
   ]
  },
  {
   "cell_type": "code",
   "execution_count": 52,
   "id": "78087a6a",
   "metadata": {},
   "outputs": [
    {
     "data": {
      "text/latex": [
       "$39.8942280401433 \\left(- 3.60555127546399 \\operatorname{sign}{\\left(y₁ - 0.447213595499958 \\right)} + 3.60555127546399 \\operatorname{sign}{\\left(y₁ - 0.223606797749979 \\right)}\\right) e^{- 5000.0 \\left(y - y₁\\right)^{2}}$"
      ],
      "text/plain": [
       "                                                                              \n",
       "                                                                              \n",
       "39.8942280401433⋅(-3.60555127546399⋅sign(y₁ - 0.447213595499958) + 3.605551275\n",
       "\n",
       "                                                     2\n",
       "                                     -5000.0⋅(y - y₁) \n",
       "46399⋅sign(y₁ - 0.223606797749979))⋅ℯ                 "
      ]
     },
     "execution_count": 52,
     "metadata": {},
     "output_type": "execute_result"
    }
   ],
   "source": [
    "ID3y1 = D3y(y₁,-lₙₓ,lₙₓ)*wₕ(y,y₁)\n",
    "ID3y2 = D3y(y₁,-lₐ₁ₙ,-lₙₓ)*wₕ(y,y₁)\n",
    "ID3y3 = D3y(y₁,lₙₓ,lₐ₁ₙ)*wₕ(y,y₁)"
   ]
  },
  {
   "cell_type": "code",
   "execution_count": 53,
   "id": "d2c07d1f",
   "metadata": {},
   "outputs": [
    {
     "data": {
      "text/latex": [
       "$\\left(- 2.03421447256411 \\sqrt{\\pi} \\operatorname{erf}{\\left(70.7106781186548 x - 15.8113883008419 \\right)} + 2.03421447256411 \\sqrt{\\pi} \\operatorname{erf}{\\left(70.7106781186548 x + 15.8113883008419 \\right)}\\right) \\left(- 2.03421447256411 \\sqrt{\\pi} \\operatorname{erf}{\\left(70.7106781186548 y - 31.6227766016838 \\right)} + 2.03421447256411 \\sqrt{\\pi} \\operatorname{erf}{\\left(70.7106781186548 y - 15.8113883008419 \\right)}\\right)$"
      ],
      "text/plain": [
       "(-2.03421447256411⋅√π⋅erf(70.7106781186548⋅x - 15.8113883008419) + 2.034214472\n",
       "56411⋅√π⋅erf(70.7106781186548⋅x + 15.8113883008419))⋅(-2.03421447256411⋅√π⋅erf\n",
       "(70.7106781186548⋅y - 31.6227766016838) + 2.03421447256411⋅√π⋅erf(70.710678118\n",
       "6548⋅y - 15.8113883008419))"
      ]
     },
     "execution_count": 53,
     "metadata": {},
     "output_type": "execute_result"
    }
   ],
   "source": [
    "smooth3D1 = integrate(ID3x2,(x₁,-lₘₓ,lₘₓ))*integrate(ID3y1,(y₁,-lₘₓ,lₘₓ))\n",
    "smooth3D2 = integrate(ID3x1,(x₁,-lₘₓ,lₘₓ))*integrate(ID3y2,(y₁,-lₘₓ,lₘₓ))\n",
    "smooth3D3 = integrate(ID3x1,(x₁,-lₘₓ,lₘₓ))*integrate(ID3y3,(y₁,-lₘₓ,lₘₓ))"
   ]
  },
  {
   "cell_type": "code",
   "execution_count": 54,
   "id": "ec70b721",
   "metadata": {
    "scrolled": true
   },
   "outputs": [
    {
     "data": {
      "text/latex": [
       "$\\left(- 2.03421447256411 \\sqrt{\\pi} \\operatorname{erf}{\\left(70.7106781186548 x - 31.6227766016838 \\right)} + 2.03421447256411 \\sqrt{\\pi} \\operatorname{erf}{\\left(70.7106781186548 x + 31.6227766016838 \\right)}\\right) \\left(- 2.03421447256411 \\sqrt{\\pi} \\operatorname{erf}{\\left(70.7106781186548 y - 15.8113883008419 \\right)} + 2.03421447256411 \\sqrt{\\pi} \\operatorname{erf}{\\left(70.7106781186548 y + 15.8113883008419 \\right)}\\right) + \\left(- 2.03421447256411 \\sqrt{\\pi} \\operatorname{erf}{\\left(70.7106781186548 x - 15.8113883008419 \\right)} + 2.03421447256411 \\sqrt{\\pi} \\operatorname{erf}{\\left(70.7106781186548 x + 15.8113883008419 \\right)}\\right) \\left(- 2.03421447256411 \\sqrt{\\pi} \\operatorname{erf}{\\left(70.7106781186548 y - 31.6227766016838 \\right)} + 2.03421447256411 \\sqrt{\\pi} \\operatorname{erf}{\\left(70.7106781186548 y - 15.8113883008419 \\right)}\\right) + \\left(- 2.03421447256411 \\sqrt{\\pi} \\operatorname{erf}{\\left(70.7106781186548 x - 15.8113883008419 \\right)} + 2.03421447256411 \\sqrt{\\pi} \\operatorname{erf}{\\left(70.7106781186548 x + 15.8113883008419 \\right)}\\right) \\left(- 2.03421447256411 \\sqrt{\\pi} \\operatorname{erf}{\\left(70.7106781186548 y + 15.8113883008419 \\right)} + 2.03421447256411 \\sqrt{\\pi} \\operatorname{erf}{\\left(70.7106781186548 y + 31.6227766016838 \\right)}\\right) - 46$"
      ],
      "text/plain": [
       "(-2.03421447256411⋅√π⋅erf(70.7106781186548⋅x - 31.6227766016838) + 2.034214472\n",
       "56411⋅√π⋅erf(70.7106781186548⋅x + 31.6227766016838))⋅(-2.03421447256411⋅√π⋅erf\n",
       "(70.7106781186548⋅y - 15.8113883008419) + 2.03421447256411⋅√π⋅erf(70.710678118\n",
       "6548⋅y + 15.8113883008419)) + (-2.03421447256411⋅√π⋅erf(70.7106781186548⋅x - 1\n",
       "5.8113883008419) + 2.03421447256411⋅√π⋅erf(70.7106781186548⋅x + 15.81138830084\n",
       "19))⋅(-2.03421447256411⋅√π⋅erf(70.7106781186548⋅y - 31.6227766016838) + 2.0342\n",
       "1447256411⋅√π⋅erf(70.7106781186548⋅y - 15.8113883008419)) + (-2.03421447256411\n",
       "⋅√π⋅erf(70.7106781186548⋅x - 15.8113883008419) + 2.03421447256411⋅√π⋅erf(70.71\n",
       "06781186548⋅x + 15.8113883008419))⋅(-2.03421447256411⋅√π⋅erf(70.7106781186548⋅\n",
       "y + 15.8113883008419) + 2.03421447256411⋅√π⋅erf(70.7106781186548⋅y + 31.622776\n",
       "6016838)) - 46"
      ]
     },
     "execution_count": 54,
     "metadata": {},
     "output_type": "execute_result"
    }
   ],
   "source": [
    "D₂₃ = smooth3D1 + smooth3D2 + smooth3D3 + d₂₃ₘ"
   ]
  },
  {
   "cell_type": "code",
   "execution_count": 55,
   "id": "52db8130",
   "metadata": {},
   "outputs": [
    {
     "data": {
      "text/plain": [
       "384.975"
      ]
     },
     "execution_count": 55,
     "metadata": {},
     "output_type": "execute_result"
    }
   ],
   "source": [
    "a₁₁ₘ = 79.65\n",
    "a₁₁ᵢ = 384.975"
   ]
  },
  {
   "cell_type": "code",
   "execution_count": 56,
   "id": "a4c1a580",
   "metadata": {},
   "outputs": [
    {
     "data": {
      "text/plain": [
       "A1y (generic function with 1 method)"
      ]
     },
     "execution_count": 56,
     "metadata": {},
     "output_type": "execute_result"
    }
   ],
   "source": [
    "A1x(x,ax,bx) = sqrt(a₁₁ᵢ - a₁₁ₘ) * interval(x,ax,bx) \n",
    "A1y(y,ay,by) = sqrt(a₁₁ᵢ - a₁₁ₘ) * interval(y,ay,by) "
   ]
  },
  {
   "cell_type": "code",
   "execution_count": 57,
   "id": "ab0e0a52",
   "metadata": {},
   "outputs": [
    {
     "data": {
      "text/latex": [
       "$39.8942280401433 \\left(- 8.73677572105408 \\operatorname{sign}{\\left(x₁ - 0.447213595499958 \\right)} + 8.73677572105408 \\operatorname{sign}{\\left(x₁ + 0.447213595499958 \\right)}\\right) e^{- 5000.0 \\left(x - x₁\\right)^{2}}$"
      ],
      "text/plain": [
       "                                                                              \n",
       "                                                                              \n",
       "39.8942280401433⋅(-8.73677572105408⋅sign(x₁ - 0.447213595499958) + 8.736775721\n",
       "\n",
       "                                                     2\n",
       "                                     -5000.0⋅(x - x₁) \n",
       "05408⋅sign(x₁ + 0.447213595499958))⋅ℯ                 "
      ]
     },
     "execution_count": 57,
     "metadata": {},
     "output_type": "execute_result"
    }
   ],
   "source": [
    "IA1x1 = A1x(x₁,-lₙₓ,lₙₓ)*wₕ(x,x₁)\n",
    "IA1x2 = A1x(x₁,-lₐ₁ₙ,lₐ₁ₙ)*wₕ(x,x₁)"
   ]
  },
  {
   "cell_type": "code",
   "execution_count": 58,
   "id": "f5e9bc23",
   "metadata": {},
   "outputs": [
    {
     "data": {
      "text/latex": [
       "$39.8942280401433 \\left(- 8.73677572105408 \\operatorname{sign}{\\left(y₁ - 0.447213595499958 \\right)} + 8.73677572105408 \\operatorname{sign}{\\left(y₁ - 0.223606797749979 \\right)}\\right) e^{- 5000.0 \\left(y - y₁\\right)^{2}}$"
      ],
      "text/plain": [
       "                                                                              \n",
       "                                                                              \n",
       "39.8942280401433⋅(-8.73677572105408⋅sign(y₁ - 0.447213595499958) + 8.736775721\n",
       "\n",
       "                                                     2\n",
       "                                     -5000.0⋅(y - y₁) \n",
       "05408⋅sign(y₁ - 0.223606797749979))⋅ℯ                 "
      ]
     },
     "execution_count": 58,
     "metadata": {},
     "output_type": "execute_result"
    }
   ],
   "source": [
    "IA1y1 = A1y(y₁,-lₙₓ,lₙₓ)*wₕ(y,y₁)\n",
    "IA1y2 = A1y(y₁,-lₐ₁ₙ,-lₙₓ)*wₕ(y,y₁)\n",
    "IA1y3 = A1y(y₁,lₙₓ,lₐ₁ₙ)*wₕ(y,y₁)"
   ]
  },
  {
   "cell_type": "code",
   "execution_count": 59,
   "id": "0e7bc14f",
   "metadata": {},
   "outputs": [
    {
     "data": {
      "text/latex": [
       "$\\left(- 4.92919785561165 \\sqrt{\\pi} \\operatorname{erf}{\\left(70.7106781186548 x - 15.8113883008419 \\right)} + 4.92919785561165 \\sqrt{\\pi} \\operatorname{erf}{\\left(70.7106781186548 x + 15.8113883008419 \\right)}\\right) \\left(- 4.92919785561165 \\sqrt{\\pi} \\operatorname{erf}{\\left(70.7106781186548 y - 31.6227766016838 \\right)} + 4.92919785561165 \\sqrt{\\pi} \\operatorname{erf}{\\left(70.7106781186548 y - 15.8113883008419 \\right)}\\right)$"
      ],
      "text/plain": [
       "(-4.92919785561165⋅√π⋅erf(70.7106781186548⋅x - 15.8113883008419) + 4.929197855\n",
       "61165⋅√π⋅erf(70.7106781186548⋅x + 15.8113883008419))⋅(-4.92919785561165⋅√π⋅erf\n",
       "(70.7106781186548⋅y - 31.6227766016838) + 4.92919785561165⋅√π⋅erf(70.710678118\n",
       "6548⋅y - 15.8113883008419))"
      ]
     },
     "execution_count": 59,
     "metadata": {},
     "output_type": "execute_result"
    }
   ],
   "source": [
    "smooth1A1 = integrate(IA1x2,(x₁,-lₘₓ,lₘₓ))*integrate(IA1y1,(y₁,-lₘₓ,lₘₓ))\n",
    "smooth1A2 = integrate(IA1x1,(x₁,-lₘₓ,lₘₓ))*integrate(IA1y2,(y₁,-lₘₓ,lₘₓ))\n",
    "smooth1A3 = integrate(IA1x1,(x₁,-lₘₓ,lₘₓ))*integrate(IA1y3,(y₁,-lₘₓ,lₘₓ))"
   ]
  },
  {
   "cell_type": "code",
   "execution_count": 60,
   "id": "06e14162",
   "metadata": {
    "scrolled": true
   },
   "outputs": [
    {
     "data": {
      "text/latex": [
       "$\\left(- 4.92919785561165 \\sqrt{\\pi} \\operatorname{erf}{\\left(70.7106781186548 x - 31.6227766016838 \\right)} + 4.92919785561165 \\sqrt{\\pi} \\operatorname{erf}{\\left(70.7106781186548 x + 31.6227766016838 \\right)}\\right) \\left(- 4.92919785561165 \\sqrt{\\pi} \\operatorname{erf}{\\left(70.7106781186548 y - 15.8113883008419 \\right)} + 4.92919785561165 \\sqrt{\\pi} \\operatorname{erf}{\\left(70.7106781186548 y + 15.8113883008419 \\right)}\\right) + \\left(- 4.92919785561165 \\sqrt{\\pi} \\operatorname{erf}{\\left(70.7106781186548 x - 15.8113883008419 \\right)} + 4.92919785561165 \\sqrt{\\pi} \\operatorname{erf}{\\left(70.7106781186548 x + 15.8113883008419 \\right)}\\right) \\left(- 4.92919785561165 \\sqrt{\\pi} \\operatorname{erf}{\\left(70.7106781186548 y - 31.6227766016838 \\right)} + 4.92919785561165 \\sqrt{\\pi} \\operatorname{erf}{\\left(70.7106781186548 y - 15.8113883008419 \\right)}\\right) + \\left(- 4.92919785561165 \\sqrt{\\pi} \\operatorname{erf}{\\left(70.7106781186548 x - 15.8113883008419 \\right)} + 4.92919785561165 \\sqrt{\\pi} \\operatorname{erf}{\\left(70.7106781186548 x + 15.8113883008419 \\right)}\\right) \\left(- 4.92919785561165 \\sqrt{\\pi} \\operatorname{erf}{\\left(70.7106781186548 y + 15.8113883008419 \\right)} + 4.92919785561165 \\sqrt{\\pi} \\operatorname{erf}{\\left(70.7106781186548 y + 31.6227766016838 \\right)}\\right) + 79.65$"
      ],
      "text/plain": [
       "(-4.92919785561165⋅√π⋅erf(70.7106781186548⋅x - 31.6227766016838) + 4.929197855\n",
       "61165⋅√π⋅erf(70.7106781186548⋅x + 31.6227766016838))⋅(-4.92919785561165⋅√π⋅erf\n",
       "(70.7106781186548⋅y - 15.8113883008419) + 4.92919785561165⋅√π⋅erf(70.710678118\n",
       "6548⋅y + 15.8113883008419)) + (-4.92919785561165⋅√π⋅erf(70.7106781186548⋅x - 1\n",
       "5.8113883008419) + 4.92919785561165⋅√π⋅erf(70.7106781186548⋅x + 15.81138830084\n",
       "19))⋅(-4.92919785561165⋅√π⋅erf(70.7106781186548⋅y - 31.6227766016838) + 4.9291\n",
       "9785561165⋅√π⋅erf(70.7106781186548⋅y - 15.8113883008419)) + (-4.92919785561165\n",
       "⋅√π⋅erf(70.7106781186548⋅x - 15.8113883008419) + 4.92919785561165⋅√π⋅erf(70.71\n",
       "06781186548⋅x + 15.8113883008419))⋅(-4.92919785561165⋅√π⋅erf(70.7106781186548⋅\n",
       "y + 15.8113883008419) + 4.92919785561165⋅√π⋅erf(70.7106781186548⋅y + 31.622776\n",
       "6016838)) + 79.65"
      ]
     },
     "execution_count": 60,
     "metadata": {},
     "output_type": "execute_result"
    }
   ],
   "source": [
    "A₁₁ = smooth1A1 + smooth1A2 + smooth1A3 + a₁₁ₘ"
   ]
  },
  {
   "cell_type": "code",
   "execution_count": 61,
   "id": "60d56f3a",
   "metadata": {},
   "outputs": [
    {
     "data": {
      "text/plain": [
       "265.5"
      ]
     },
     "execution_count": 61,
     "metadata": {},
     "output_type": "execute_result"
    }
   ],
   "source": [
    "a₂₂ₘ = 79.65\n",
    "a₂₂ᵢ = 265.5"
   ]
  },
  {
   "cell_type": "code",
   "execution_count": 62,
   "id": "856e1386",
   "metadata": {},
   "outputs": [
    {
     "data": {
      "text/plain": [
       "A2y (generic function with 1 method)"
      ]
     },
     "execution_count": 62,
     "metadata": {},
     "output_type": "execute_result"
    }
   ],
   "source": [
    "A2x(x,ax,bx) = sqrt(a₂₂ᵢ - a₂₂ₘ)  * interval(x,ax,bx) \n",
    "A2y(y,ay,by) = sqrt(a₂₂ᵢ - a₂₂ₘ)  * interval(y,ay,by) "
   ]
  },
  {
   "cell_type": "code",
   "execution_count": 63,
   "id": "1da7704e",
   "metadata": {},
   "outputs": [
    {
     "data": {
      "text/latex": [
       "$39.8942280401433 \\left(- 6.81634066050106 \\operatorname{sign}{\\left(x₁ - 0.447213595499958 \\right)} + 6.81634066050106 \\operatorname{sign}{\\left(x₁ + 0.447213595499958 \\right)}\\right) e^{- 5000.0 \\left(x - x₁\\right)^{2}}$"
      ],
      "text/plain": [
       "                                                                              \n",
       "                                                                              \n",
       "39.8942280401433⋅(-6.81634066050106⋅sign(x₁ - 0.447213595499958) + 6.816340660\n",
       "\n",
       "                                                     2\n",
       "                                     -5000.0⋅(x - x₁) \n",
       "50106⋅sign(x₁ + 0.447213595499958))⋅ℯ                 "
      ]
     },
     "execution_count": 63,
     "metadata": {},
     "output_type": "execute_result"
    }
   ],
   "source": [
    "IA2x1 = A2x(x₁,-lₙₓ,lₙₓ)*wₕ(x,x₁)\n",
    "IA2x2 = A2x(x₁,-lₐ₁ₙ,lₐ₁ₙ)*wₕ(x,x₁)"
   ]
  },
  {
   "cell_type": "code",
   "execution_count": 64,
   "id": "c8810808",
   "metadata": {},
   "outputs": [
    {
     "data": {
      "text/latex": [
       "$39.8942280401433 \\left(- 6.81634066050106 \\operatorname{sign}{\\left(y₁ - 0.447213595499958 \\right)} + 6.81634066050106 \\operatorname{sign}{\\left(y₁ - 0.223606797749979 \\right)}\\right) e^{- 5000.0 \\left(y - y₁\\right)^{2}}$"
      ],
      "text/plain": [
       "                                                                              \n",
       "                                                                              \n",
       "39.8942280401433⋅(-6.81634066050106⋅sign(y₁ - 0.447213595499958) + 6.816340660\n",
       "\n",
       "                                                     2\n",
       "                                     -5000.0⋅(y - y₁) \n",
       "50106⋅sign(y₁ - 0.223606797749979))⋅ℯ                 "
      ]
     },
     "execution_count": 64,
     "metadata": {},
     "output_type": "execute_result"
    }
   ],
   "source": [
    "IA2y1 = A2y(y₁,-lₙₓ,lₙₓ)*wₕ(y,y₁)\n",
    "IA2y2 = A2y(y₁,-lₐ₁ₙ,-lₙₓ)*wₕ(y,y₁)\n",
    "IA2y3 = A2y(y₁,lₙₓ,lₐ₁ₙ)*wₕ(y,y₁)"
   ]
  },
  {
   "cell_type": "code",
   "execution_count": 65,
   "id": "8578adff",
   "metadata": {},
   "outputs": [
    {
     "data": {
      "text/latex": [
       "$\\left(- 3.84570839856773 \\sqrt{\\pi} \\operatorname{erf}{\\left(70.7106781186548 x - 15.8113883008419 \\right)} + 3.84570839856773 \\sqrt{\\pi} \\operatorname{erf}{\\left(70.7106781186548 x + 15.8113883008419 \\right)}\\right) \\left(- 3.84570839856773 \\sqrt{\\pi} \\operatorname{erf}{\\left(70.7106781186548 y - 31.6227766016838 \\right)} + 3.84570839856773 \\sqrt{\\pi} \\operatorname{erf}{\\left(70.7106781186548 y - 15.8113883008419 \\right)}\\right)$"
      ],
      "text/plain": [
       "(-3.84570839856773⋅√π⋅erf(70.7106781186548⋅x - 15.8113883008419) + 3.845708398\n",
       "56773⋅√π⋅erf(70.7106781186548⋅x + 15.8113883008419))⋅(-3.84570839856773⋅√π⋅erf\n",
       "(70.7106781186548⋅y - 31.6227766016838) + 3.84570839856773⋅√π⋅erf(70.710678118\n",
       "6548⋅y - 15.8113883008419))"
      ]
     },
     "execution_count": 65,
     "metadata": {},
     "output_type": "execute_result"
    }
   ],
   "source": [
    "smooth2A1 = integrate(IA2x2,(x₁,-lₘₓ,lₘₓ))*integrate(IA2y1,(y₁,-lₘₓ,lₘₓ))\n",
    "smooth2A2 = integrate(IA2x1,(x₁,-lₘₓ,lₘₓ))*integrate(IA2y2,(y₁,-lₘₓ,lₘₓ))\n",
    "smooth2A3 = integrate(IA2x1,(x₁,-lₘₓ,lₘₓ))*integrate(IA2y3,(y₁,-lₘₓ,lₘₓ))"
   ]
  },
  {
   "cell_type": "code",
   "execution_count": 66,
   "id": "c3aea22b",
   "metadata": {
    "scrolled": true
   },
   "outputs": [
    {
     "data": {
      "text/latex": [
       "$\\left(- 3.84570839856773 \\sqrt{\\pi} \\operatorname{erf}{\\left(70.7106781186548 x - 31.6227766016838 \\right)} + 3.84570839856773 \\sqrt{\\pi} \\operatorname{erf}{\\left(70.7106781186548 x + 31.6227766016838 \\right)}\\right) \\left(- 3.84570839856773 \\sqrt{\\pi} \\operatorname{erf}{\\left(70.7106781186548 y - 15.8113883008419 \\right)} + 3.84570839856773 \\sqrt{\\pi} \\operatorname{erf}{\\left(70.7106781186548 y + 15.8113883008419 \\right)}\\right) + \\left(- 3.84570839856773 \\sqrt{\\pi} \\operatorname{erf}{\\left(70.7106781186548 x - 15.8113883008419 \\right)} + 3.84570839856773 \\sqrt{\\pi} \\operatorname{erf}{\\left(70.7106781186548 x + 15.8113883008419 \\right)}\\right) \\left(- 3.84570839856773 \\sqrt{\\pi} \\operatorname{erf}{\\left(70.7106781186548 y - 31.6227766016838 \\right)} + 3.84570839856773 \\sqrt{\\pi} \\operatorname{erf}{\\left(70.7106781186548 y - 15.8113883008419 \\right)}\\right) + \\left(- 3.84570839856773 \\sqrt{\\pi} \\operatorname{erf}{\\left(70.7106781186548 x - 15.8113883008419 \\right)} + 3.84570839856773 \\sqrt{\\pi} \\operatorname{erf}{\\left(70.7106781186548 x + 15.8113883008419 \\right)}\\right) \\left(- 3.84570839856773 \\sqrt{\\pi} \\operatorname{erf}{\\left(70.7106781186548 y + 15.8113883008419 \\right)} + 3.84570839856773 \\sqrt{\\pi} \\operatorname{erf}{\\left(70.7106781186548 y + 31.6227766016838 \\right)}\\right) + 79.65$"
      ],
      "text/plain": [
       "(-3.84570839856773⋅√π⋅erf(70.7106781186548⋅x - 31.6227766016838) + 3.845708398\n",
       "56773⋅√π⋅erf(70.7106781186548⋅x + 31.6227766016838))⋅(-3.84570839856773⋅√π⋅erf\n",
       "(70.7106781186548⋅y - 15.8113883008419) + 3.84570839856773⋅√π⋅erf(70.710678118\n",
       "6548⋅y + 15.8113883008419)) + (-3.84570839856773⋅√π⋅erf(70.7106781186548⋅x - 1\n",
       "5.8113883008419) + 3.84570839856773⋅√π⋅erf(70.7106781186548⋅x + 15.81138830084\n",
       "19))⋅(-3.84570839856773⋅√π⋅erf(70.7106781186548⋅y - 31.6227766016838) + 3.8457\n",
       "0839856773⋅√π⋅erf(70.7106781186548⋅y - 15.8113883008419)) + (-3.84570839856773\n",
       "⋅√π⋅erf(70.7106781186548⋅x - 15.8113883008419) + 3.84570839856773⋅√π⋅erf(70.71\n",
       "06781186548⋅x + 15.8113883008419))⋅(-3.84570839856773⋅√π⋅erf(70.7106781186548⋅\n",
       "y + 15.8113883008419) + 3.84570839856773⋅√π⋅erf(70.7106781186548⋅y + 31.622776\n",
       "6016838)) + 79.65"
      ]
     },
     "execution_count": 66,
     "metadata": {},
     "output_type": "execute_result"
    }
   ],
   "source": [
    "A₂₂ = smooth2A1 + smooth2A2 + smooth2A3 + a₂₂ₘ"
   ]
  },
  {
   "cell_type": "code",
   "execution_count": 67,
   "id": "d092bad5",
   "metadata": {},
   "outputs": [
    {
     "name": "stderr",
     "output_type": "stream",
     "text": [
      "WARNING: using Fields.integrate in module Main conflicts with an existing identifier.\n"
     ]
    }
   ],
   "source": [
    "using Gmsh: gmsh\n",
    "using Gridap\n",
    "using GridapGmsh\n",
    "using SparseArrays\n",
    "using WriteVTK\n",
    "using Gridap.Fields\n",
    "using Gridap.CellData\n",
    "using Gridap.TensorValues\n",
    "using Gridap.ReferenceFEs\n",
    "using Gridap.Geometry"
   ]
  },
  {
   "cell_type": "code",
   "execution_count": 68,
   "id": "da22ff29",
   "metadata": {
    "scrolled": true
   },
   "outputs": [
    {
     "name": "stdout",
     "output_type": "stream",
     "text": [
      "Info    : Meshing 1D...\n",
      "Info    : [  0%] Meshing curve 1 (Line)\n",
      "Info    : [ 10%] Meshing curve 2 (Line)\n",
      "Info    : [ 20%] Meshing curve 3 (Line)\n",
      "Info    : [ 20%] Meshing curve 4 (Line)\n",
      "Info    : [ 30%] Meshing curve 5 (Line)\n",
      "Info    : [ 40%] Meshing curve 6 (Line)\n",
      "Info    : [ 40%] Meshing curve 7 (Line)\n",
      "Info    : [ 50%] Meshing curve 8 (Line)\n",
      "Info    : [ 50%] Meshing curve 9 (Line)\n",
      "Info    : [ 60%] Meshing curve 10 (Line)\n",
      "Info    : [ 70%] Meshing curve 11 (Line)\n",
      "Info    : [ 70%] Meshing curve 12 (Line)\n",
      "Info    : [ 80%] Meshing curve 13 (Line)\n",
      "Info    : [ 90%] Meshing curve 14 (Line)\n",
      "Info    : [ 90%] Meshing curve 15 (Line)\n",
      "Info    : [100%] Meshing curve 16 (Line)\n",
      "Info    : Done meshing 1D (Wall 0.000875971s, CPU 0.00088s)\n",
      "Info    : Meshing 2D...\n",
      "Info    : [  0%] Meshing surface 1 (Plane, Frontal-Delaunay)\n",
      "Info    : [ 50%] Meshing surface 2 (Plane, Frontal-Delaunay)\n",
      "Info    : Done meshing 2D (Wall 0.763744s, CPU 0.759694s)\n",
      "Info    : 30501 nodes 61496 elements\n",
      "Info    : Writing '+Shape.msh'...\n",
      "Info    : Done writing '+Shape.msh'\n"
     ]
    },
    {
     "name": "stderr",
     "output_type": "stream",
     "text": [
      "Warning : Unknown entity of dimension 2 and tag 1 in physical group 1\n",
      "Warning : Unknown entity of dimension 2 and tag 2 in physical group 2\n",
      "Warning : Unknown entity of dimension 1 and tag 4 in physical group 3\n",
      "Warning : Unknown entity of dimension 1 and tag 2 in physical group 4\n",
      "Warning : Unknown entity of dimension 1 and tag 4 in physical group 5\n",
      "Warning : Unknown entity of dimension 1 and tag 2 in physical group 6\n",
      "Warning : Unknown entity of dimension 1 and tag 1 in physical group 7\n",
      "Warning : Unknown entity of dimension 1 and tag 3 in physical group 8\n",
      "Warning : Unknown entity of dimension 1 and tag 1 in physical group 9\n",
      "Warning : Unknown entity of dimension 1 and tag 3 in physical group 10\n"
     ]
    }
   ],
   "source": [
    "gmsh.initialize()\n",
    "gmsh.option.setNumber(\"General.Terminal\", 1)\n",
    "\n",
    "hᵢ = 0.01\n",
    "h = 2.5e-2\n",
    "hf = 0.75e-2\n",
    "Lₚ = 1.0\n",
    "Hₚ = 1.0\n",
    "\n",
    "p1 = gmsh.model.geo.addPoint(-Lₚ, -Hₚ, 0.0, h)\n",
    "p2 = gmsh.model.geo.addPoint(Lₚ, -Hₚ, 0.0, h)\n",
    "p3 = gmsh.model.geo.addPoint(Lₚ, Hₚ, 0.0, h)\n",
    "p4 = gmsh.model.geo.addPoint(-Lₚ, Hₚ, 0.0, h)\n",
    "\n",
    "l1 = gmsh.model.geo.addLine(p1, p2)\n",
    "l2 = gmsh.model.geo.addLine(p2, p3)\n",
    "l3 = gmsh.model.geo.addLine(p3, p4)\n",
    "l4 = gmsh.model.geo.addLine(p4, p1)\n",
    "\n",
    "c1 = gmsh.model.geo.addCurveLoop([l3,l4,l1,l2])\n",
    "\n",
    "p5 = gmsh.model.geo.addPoint(-p/2, -p/2, 0.0, hf)\n",
    "p6 = gmsh.model.geo.addPoint(-p/2, -p, 0.0, hf)\n",
    "p7 = gmsh.model.geo.addPoint(p/2, -p, 0.0, hf)\n",
    "p8 = gmsh.model.geo.addPoint(p/2, -p/2, 0.0, hf)\n",
    "p9 = gmsh.model.geo.addPoint(p, -p/2, 0.0, hf)\n",
    "p10 = gmsh.model.geo.addPoint(p, p/2, 0.0, hf)\n",
    "p11 = gmsh.model.geo.addPoint(p/2, p/2, 0.0, hf)\n",
    "p12 = gmsh.model.geo.addPoint(p/2, p, 0.0, hf)\n",
    "p13 = gmsh.model.geo.addPoint(-p/2, p, 0.0, hf)\n",
    "p14 = gmsh.model.geo.addPoint(-p/2, p/2, 0.0, hf)\n",
    "p15 = gmsh.model.geo.addPoint(-p, p/2, 0.0, hf)\n",
    "p16 = gmsh.model.geo.addPoint(-p, -p/2, 0.0, hf)\n",
    "\n",
    "l5 = gmsh.model.geo.addLine(p5, p6)\n",
    "l6 = gmsh.model.geo.addLine(p6, p7)\n",
    "l7 = gmsh.model.geo.addLine(p7, p8)\n",
    "l8 = gmsh.model.geo.addLine(p8, p9)\n",
    "l9 = gmsh.model.geo.addLine(p9, p10)\n",
    "l10 = gmsh.model.geo.addLine(p10, p11)\n",
    "l11 = gmsh.model.geo.addLine(p11, p12)\n",
    "l12 = gmsh.model.geo.addLine(p12, p13)\n",
    "l13 = gmsh.model.geo.addLine(p13, p14)\n",
    "l14 = gmsh.model.geo.addLine(p14, p15)\n",
    "l15 = gmsh.model.geo.addLine(p15, p16)\n",
    "l16 = gmsh.model.geo.addLine(p16, p5)\n",
    "\n",
    "c2 = gmsh.model.geo.addCurveLoop([l5,l6,l7,l8,l9,l10,l11,l12,l13,l14,l15,l16])\n",
    "\n",
    "#=\n",
    "p17 = gmsh.model.geo.addPoint(-(p/2 + hᵢ), -(p/2 + hᵢ), 0.0, hf)\n",
    "p18 = gmsh.model.geo.addPoint(-(p/2 + hᵢ), -(p + hᵢ), 0.0, hf)\n",
    "p19 = gmsh.model.geo.addPoint((p/2 + hᵢ), -(p + hᵢ), 0.0, hf)\n",
    "p20 = gmsh.model.geo.addPoint((p/2 + hᵢ), -(p/2 + hᵢ), 0.0, hf)\n",
    "p21 = gmsh.model.geo.addPoint((p + hᵢ), -(p/2 + hᵢ), 0.0, hf)\n",
    "p22 = gmsh.model.geo.addPoint((p + hᵢ), (p/2 + hᵢ), 0.0, hf)\n",
    "p23 = gmsh.model.geo.addPoint((p/2 + hᵢ), (p/2 + hᵢ), 0.0, hf)\n",
    "p24 = gmsh.model.geo.addPoint((p/2 + hᵢ), (p + hᵢ), 0.0, hf)\n",
    "p25 = gmsh.model.geo.addPoint(-(p/2 + hᵢ), (p + hᵢ), 0.0, hf)\n",
    "p26 = gmsh.model.geo.addPoint(-(p/2 + hᵢ), (p/2 + hᵢ), 0.0, hf)\n",
    "p27 = gmsh.model.geo.addPoint(-(p + hᵢ), (p/2 + hᵢ), 0.0, hf)\n",
    "p28 = gmsh.model.geo.addPoint(-(p + hᵢ), -(p/2 + hᵢ), 0.0, hf)\n",
    "\n",
    "\n",
    "l17 = gmsh.model.geo.addLine(p17, p18)\n",
    "l18 = gmsh.model.geo.addLine(p18, p19)\n",
    "l19 = gmsh.model.geo.addLine(p19, p20)\n",
    "l20 = gmsh.model.geo.addLine(p20, p21)\n",
    "l21 = gmsh.model.geo.addLine(p21, p22)\n",
    "l22 = gmsh.model.geo.addLine(p22, p23)\n",
    "l23 = gmsh.model.geo.addLine(p23, p24)\n",
    "l24 = gmsh.model.geo.addLine(p24, p25)\n",
    "l25 = gmsh.model.geo.addLine(p25, p26)\n",
    "l26 = gmsh.model.geo.addLine(p26, p27)\n",
    "l27 = gmsh.model.geo.addLine(p27, p28)\n",
    "l28 = gmsh.model.geo.addLine(p28, p17)\n",
    "\n",
    "\n",
    "c3 = gmsh.model.geo.addCurveLoop([l17,l18,l19,l20,l21,l22,l23,l24,l25,l26,l27,l28])\n",
    "\n",
    "p29 = gmsh.model.geo.addPoint(-(p/2 - hᵢ), -(p/2 - hᵢ), 0.0, hf)\n",
    "p30 = gmsh.model.geo.addPoint(-(p/2 - hᵢ), -(p - hᵢ), 0.0, hf)\n",
    "p31 = gmsh.model.geo.addPoint((p/2 - hᵢ), -(p - hᵢ), 0.0, hf)\n",
    "p32 = gmsh.model.geo.addPoint((p/2 - hᵢ), -(p/2 - hᵢ), 0.0, hf)\n",
    "p33 = gmsh.model.geo.addPoint((p - hᵢ), -(p/2 - hᵢ), 0.0, hf)\n",
    "p34 = gmsh.model.geo.addPoint((p - hᵢ), (p/2 - hᵢ), 0.0, hf)\n",
    "p35 = gmsh.model.geo.addPoint((p/2 - hᵢ), (p/2 - hᵢ), 0.0, hf)\n",
    "p36 = gmsh.model.geo.addPoint((p/2 - hᵢ), (p - hᵢ), 0.0, hf)\n",
    "p37 = gmsh.model.geo.addPoint(-(p/2 - hᵢ), (p - hᵢ), 0.0, hf)\n",
    "p38 = gmsh.model.geo.addPoint(-(p/2 - hᵢ), (p/2 - hᵢ), 0.0, hf)\n",
    "p39 = gmsh.model.geo.addPoint(-(p - hᵢ), (p/2 - hᵢ), 0.0, hf)\n",
    "p40 = gmsh.model.geo.addPoint(-(p - hᵢ), -(p/2 - hᵢ), 0.0, hf)\n",
    "\n",
    "\n",
    "l29 = gmsh.model.geo.addLine(p29, p30)\n",
    "l30 = gmsh.model.geo.addLine(p30, p31)\n",
    "l31 = gmsh.model.geo.addLine(p31, p32)\n",
    "l32 = gmsh.model.geo.addLine(p32, p33)\n",
    "l33 = gmsh.model.geo.addLine(p33, p34)\n",
    "l34 = gmsh.model.geo.addLine(p34, p35)\n",
    "l35 = gmsh.model.geo.addLine(p35, p36)\n",
    "l36 = gmsh.model.geo.addLine(p36, p37)\n",
    "l37 = gmsh.model.geo.addLine(p37, p38)\n",
    "l38 = gmsh.model.geo.addLine(p38, p39)\n",
    "l39 = gmsh.model.geo.addLine(p39, p40)\n",
    "l40 = gmsh.model.geo.addLine(p40, p29)\n",
    "\n",
    "c4 = gmsh.model.geo.addCurveLoop([l29,l30,l31,l32,l33,l34,l35,l36,l37,l38,l39,l40])\n",
    "=#\n",
    "\n",
    "s1 = gmsh.model.geo.addPlaneSurface([c2])\n",
    "#s2 = gmsh.model.geo.addPlaneSurface([c3,-c4])\n",
    "s3 = gmsh.model.geo.addPlaneSurface([c1,-c2])\n",
    "\n",
    "g1 = gmsh.model.addPhysicalGroup(2, [s1])\n",
    "#g2 = gmsh.model.addPhysicalGroup(2, [s2])\n",
    "g3 = gmsh.model.addPhysicalGroup(2, [s3])\n",
    "\n",
    "g4 = gmsh.model.addPhysicalGroup(1, [l4])\n",
    "g5 = gmsh.model.addPhysicalGroup(1, [l2])\n",
    "g6 = gmsh.model.addPhysicalGroup(1, [l4])\n",
    "g7 = gmsh.model.addPhysicalGroup(1, [l2])\n",
    "\n",
    "g8 = gmsh.model.addPhysicalGroup(1, [l1])\n",
    "g9 = gmsh.model.addPhysicalGroup(1, [l3])\n",
    "g10 = gmsh.model.addPhysicalGroup(1, [l1])\n",
    "g11 = gmsh.model.addPhysicalGroup(1, [l3])\n",
    "\n",
    "gmsh.model.setPhysicalName(1, g4, \"DirichletLeft\")\n",
    "gmsh.model.setPhysicalName(1, g5, \"DirichletRight\")\n",
    "gmsh.model.setPhysicalName(1, g6, \"ElectricPotentialleft\")\n",
    "gmsh.model.setPhysicalName(1, g7, \"ElectricPotentialright\")\n",
    "\n",
    "gmsh.model.setPhysicalName(1, g8, \"DirichletBot\")\n",
    "gmsh.model.setPhysicalName(1, g9, \"DirichletTop\")\n",
    "gmsh.model.setPhysicalName(1, g10, \"ElectricPotentialBot\")\n",
    "gmsh.model.setPhysicalName(1, g11, \"ElectricPotentialTop\")\n",
    "\n",
    "gmsh.model.setPhysicalName(2, g1, \"PiezoMat2\")\n",
    "#gmsh.model.setPhysicalName(2, g2, \"Diffused Layer\")\n",
    "gmsh.model.setPhysicalName(2, g3, \"PiezoMat1\")\n",
    "\n",
    "\n",
    "gmsh.model.geo.synchronize()\n",
    "gmsh.model.mesh.generate(2)\n",
    "gmsh.write(\"+Shape.msh\")\n",
    "gmsh.finalize()"
   ]
  },
  {
   "cell_type": "code",
   "execution_count": 69,
   "id": "1a24bda6",
   "metadata": {
    "scrolled": true
   },
   "outputs": [
    {
     "name": "stdout",
     "output_type": "stream",
     "text": [
      "Info    : Reading '+Shape.msh'...\n",
      "Info    : 34 entities\n",
      "Info    : 30501 nodes\n",
      "Info    : 61000 elements\n",
      "Info    : Done reading '+Shape.msh'\n"
     ]
    },
    {
     "data": {
      "text/plain": [
       "3-element Vector{Vector{String}}:\n",
       " [\"+Shape_0.vtu\"]\n",
       " [\"+Shape_1.vtu\"]\n",
       " [\"+Shape_2.vtu\"]"
      ]
     },
     "execution_count": 69,
     "metadata": {},
     "output_type": "execute_result"
    }
   ],
   "source": [
    "model = GmshDiscreteModel(\"+Shape.msh\")\n",
    "writevtk(model,\"+Shape\")"
   ]
  },
  {
   "cell_type": "markdown",
   "id": "bfeb313f",
   "metadata": {},
   "source": [
    "## Extracting Cell Points"
   ]
  },
  {
   "cell_type": "code",
   "execution_count": 70,
   "id": "3f015568",
   "metadata": {},
   "outputs": [
    {
     "data": {
      "text/plain": [
       "Measure()"
      ]
     },
     "execution_count": 70,
     "metadata": {},
     "output_type": "execute_result"
    }
   ],
   "source": [
    "order = 1\n",
    "degree = 2*order\n",
    "Ω = Triangulation(model)\n",
    "dΩ = Measure(Ω,degree)"
   ]
  },
  {
   "cell_type": "markdown",
   "id": "459257bc",
   "metadata": {},
   "source": [
    "## Constitutive Matrices"
   ]
  },
  {
   "cell_type": "markdown",
   "id": "6d935446",
   "metadata": {},
   "source": [
    "### Elastic stiffness Tensor"
   ]
  },
  {
   "cell_type": "code",
   "execution_count": 71,
   "id": "81f4c2d2",
   "metadata": {},
   "outputs": [
    {
     "data": {
      "text/plain": [
       "CellPoint()"
      ]
     },
     "execution_count": 71,
     "metadata": {},
     "output_type": "execute_result"
    }
   ],
   "source": [
    "p = get_cell_points(Ω)"
   ]
  },
  {
   "cell_type": "code",
   "execution_count": 72,
   "id": "ef8b0d9a",
   "metadata": {},
   "outputs": [
    {
     "data": {
      "text/plain": [
       "UnconstrainedFESpace()"
      ]
     },
     "execution_count": 72,
     "metadata": {},
     "output_type": "execute_result"
    }
   ],
   "source": [
    "reffe = ReferenceFE(lagrangian,Float64,order)\n",
    "V₁ = FESpace(model, reffe, conformity=:H1)"
   ]
  },
  {
   "cell_type": "code",
   "execution_count": 73,
   "id": "90a7999c",
   "metadata": {},
   "outputs": [
    {
     "ename": "LoadError",
     "evalue": "ArgumentError: Package SpecialFunctions not found in current path.\n- Run `import Pkg; Pkg.add(\"SpecialFunctions\")` to install the SpecialFunctions package.",
     "output_type": "error",
     "traceback": [
      "ArgumentError: Package SpecialFunctions not found in current path.\n- Run `import Pkg; Pkg.add(\"SpecialFunctions\")` to install the SpecialFunctions package.",
      "",
      "Stacktrace:",
      " [1] macro expansion",
      "   @ ./loading.jl:1163 [inlined]",
      " [2] macro expansion",
      "   @ ./lock.jl:223 [inlined]",
      " [3] require(into::Module, mod::Symbol)",
      "   @ Base ./loading.jl:1144",
      " [4] eval",
      "   @ ./boot.jl:368 [inlined]",
      " [5] include_string(mapexpr::typeof(REPL.softscope), mod::Module, code::String, filename::String)",
      "   @ Base ./loading.jl:1428"
     ]
    }
   ],
   "source": [
    "using SpecialFunctions"
   ]
  },
  {
   "cell_type": "code",
   "execution_count": 74,
   "id": "9680b463",
   "metadata": {},
   "outputs": [
    {
     "data": {
      "text/plain": [
       "SingleFieldFEFunction():\n",
       " num_cells: 60680\n",
       " DomainStyle: ReferenceDomain()\n",
       " Triangulation: BodyFittedTriangulation()\n",
       " Triangulation id: 13829256814042158668"
      ]
     },
     "execution_count": 74,
     "metadata": {},
     "output_type": "execute_result"
    }
   ],
   "source": [
    "C₁₁₁ = lambdify(C₁₁₁₁)\n",
    "C₁₁₁₁l(p) = C₁₁₁.(p[1],p[2])\n",
    "C₁₁₁₁t = interpolate_everywhere(C₁₁₁₁l, V₁)"
   ]
  },
  {
   "cell_type": "code",
   "execution_count": 75,
   "id": "b51d0fcb",
   "metadata": {},
   "outputs": [
    {
     "data": {
      "text/plain": [
       "SingleFieldFEFunction():\n",
       " num_cells: 60680\n",
       " DomainStyle: ReferenceDomain()\n",
       " Triangulation: BodyFittedTriangulation()\n",
       " Triangulation id: 13829256814042158668"
      ]
     },
     "execution_count": 75,
     "metadata": {},
     "output_type": "execute_result"
    }
   ],
   "source": [
    "C₁₁₂ = lambdify(C₁₁₂₂)\n",
    "C₁₂l(p) = C₁₁₂.(p[1],p[2])\n",
    "C₁₁₂₂t = interpolate_everywhere(C₁₂l, V₁)"
   ]
  },
  {
   "cell_type": "code",
   "execution_count": 76,
   "id": "b2126689",
   "metadata": {},
   "outputs": [
    {
     "data": {
      "text/plain": [
       "SingleFieldFEFunction():\n",
       " num_cells: 60680\n",
       " DomainStyle: ReferenceDomain()\n",
       " Triangulation: BodyFittedTriangulation()\n",
       " Triangulation id: 13829256814042158668"
      ]
     },
     "execution_count": 76,
     "metadata": {},
     "output_type": "execute_result"
    }
   ],
   "source": [
    "C₃₃₃ = lambdify(C₃₃₃₃)\n",
    "C₃₃l(p) = C₃₃₃.(p[1],p[2])\n",
    "C₃₃₃₃t = interpolate_everywhere(C₃₃l, V₁)"
   ]
  },
  {
   "cell_type": "code",
   "execution_count": 77,
   "id": "94707f24",
   "metadata": {},
   "outputs": [
    {
     "data": {
      "text/plain": [
       "SingleFieldFEFunction():\n",
       " num_cells: 60680\n",
       " DomainStyle: ReferenceDomain()\n",
       " Triangulation: BodyFittedTriangulation()\n",
       " Triangulation id: 13829256814042158668"
      ]
     },
     "execution_count": 77,
     "metadata": {},
     "output_type": "execute_result"
    }
   ],
   "source": [
    "d₁₁ = lambdify(D₁₁)\n",
    "d₁₁l(p) = d₁₁.(p[1],p[2])\n",
    "d₁₁t = interpolate_everywhere(d₁₁l, V₁)"
   ]
  },
  {
   "cell_type": "code",
   "execution_count": 78,
   "id": "0b5b28e9",
   "metadata": {},
   "outputs": [
    {
     "data": {
      "text/plain": [
       "SingleFieldFEFunction():\n",
       " num_cells: 60680\n",
       " DomainStyle: ReferenceDomain()\n",
       " Triangulation: BodyFittedTriangulation()\n",
       " Triangulation id: 13829256814042158668"
      ]
     },
     "execution_count": 78,
     "metadata": {},
     "output_type": "execute_result"
    }
   ],
   "source": [
    "d₂₁ = lambdify(D₂₁)\n",
    "d₂₁l(p) = d₂₁.(p[1],p[2])\n",
    "d₂₁t = interpolate_everywhere(d₂₁l, V₁)"
   ]
  },
  {
   "cell_type": "code",
   "execution_count": 79,
   "id": "1930b9e6",
   "metadata": {},
   "outputs": [
    {
     "data": {
      "text/plain": [
       "SingleFieldFEFunction():\n",
       " num_cells: 60680\n",
       " DomainStyle: ReferenceDomain()\n",
       " Triangulation: BodyFittedTriangulation()\n",
       " Triangulation id: 13829256814042158668"
      ]
     },
     "execution_count": 79,
     "metadata": {},
     "output_type": "execute_result"
    }
   ],
   "source": [
    "d₂₂ = lambdify(D₂₂)\n",
    "d₂₂l(p) = d₂₂.(p[1],p[2])\n",
    "d₂₂t = interpolate_everywhere(d₂₂l, V₁)"
   ]
  },
  {
   "cell_type": "code",
   "execution_count": 80,
   "id": "fc6366df",
   "metadata": {},
   "outputs": [
    {
     "data": {
      "text/plain": [
       "SingleFieldFEFunction():\n",
       " num_cells: 60680\n",
       " DomainStyle: ReferenceDomain()\n",
       " Triangulation: BodyFittedTriangulation()\n",
       " Triangulation id: 13829256814042158668"
      ]
     },
     "execution_count": 80,
     "metadata": {},
     "output_type": "execute_result"
    }
   ],
   "source": [
    "d₂₃ = lambdify(D₂₃)\n",
    "d₂₃l(p) = d₂₃.(p[1],p[2])\n",
    "d₂₃t = interpolate_everywhere(d₂₃l, V₁)"
   ]
  },
  {
   "cell_type": "code",
   "execution_count": 81,
   "id": "86f4ba30",
   "metadata": {},
   "outputs": [
    {
     "data": {
      "text/plain": [
       "SingleFieldFEFunction():\n",
       " num_cells: 60680\n",
       " DomainStyle: ReferenceDomain()\n",
       " Triangulation: BodyFittedTriangulation()\n",
       " Triangulation id: 13829256814042158668"
      ]
     },
     "execution_count": 81,
     "metadata": {},
     "output_type": "execute_result"
    }
   ],
   "source": [
    "a₁ = lambdify(A₁₁)\n",
    "a₁₁l(p) = a₁.(p[1],p[2])\n",
    "a₁₁t = interpolate_everywhere(a₁₁l, V₁)"
   ]
  },
  {
   "cell_type": "code",
   "execution_count": 82,
   "id": "ef26feb2",
   "metadata": {},
   "outputs": [
    {
     "data": {
      "text/plain": [
       "SingleFieldFEFunction():\n",
       " num_cells: 60680\n",
       " DomainStyle: ReferenceDomain()\n",
       " Triangulation: BodyFittedTriangulation()\n",
       " Triangulation id: 13829256814042158668"
      ]
     },
     "execution_count": 82,
     "metadata": {},
     "output_type": "execute_result"
    }
   ],
   "source": [
    "a₂ = lambdify(A₂₂)\n",
    "a₂₂l(p) = a₂.(p[1],p[2])\n",
    "a₂₂t = interpolate_everywhere(a₂₂l, V₁)"
   ]
  },
  {
   "cell_type": "code",
   "execution_count": 83,
   "id": "ce5b7b6b",
   "metadata": {},
   "outputs": [
    {
     "data": {
      "text/plain": [
       "([\"Material_Properties.vtu\"],)"
      ]
     },
     "execution_count": 83,
     "metadata": {},
     "output_type": "execute_result"
    }
   ],
   "source": [
    " writevtk(Ω,\"Material_Properties\",cellfields=\n",
    "        [\"C₁₁₁₁\"=>C₁₁₁₁t,\"C₁₁₂₂\"=>C₁₁₂₂t, \"C₃₃₃₃\"=>C₃₃₃₃t, \"d₁₁\"=>d₁₁t,\"d₂₁\"=>d₂₁t, \"d₂₂\"=>d₂₂t, \n",
    "        \"d₂₃\"=>d₂₃t, \"a₁₁\"=>a₁₁t,\n",
    "        \"a₂₂\"=>a₂₂t])"
   ]
  },
  {
   "cell_type": "code",
   "execution_count": 84,
   "id": "1211ef01",
   "metadata": {},
   "outputs": [
    {
     "data": {
      "text/plain": [
       "ElasFourthOrderConstTensor (generic function with 1 method)"
      ]
     },
     "execution_count": 84,
     "metadata": {},
     "output_type": "execute_result"
    }
   ],
   "source": [
    "function ElasFourthOrderConstTensor(C₁₁,C₁₂,C₃₃)\n",
    "      C1111 = C₁₁\n",
    "      C1122 = C₁₂\n",
    "      C1112 = 0.0\n",
    "      C2222 = C₁₁\n",
    "      C2212 = 0.0\n",
    "      C1212 = C₃₃    \n",
    "      C_ten = SymFourthOrderTensorValue(C1111,C1112,C1122,C1112,C1212,C2212,C1122,C2212,C2222)\n",
    "    return  C_ten\n",
    "end"
   ]
  },
  {
   "cell_type": "markdown",
   "id": "3933100e",
   "metadata": {},
   "source": [
    "### Third order piezoelectric tensor"
   ]
  },
  {
   "cell_type": "code",
   "execution_count": 85,
   "id": "9b9993c0",
   "metadata": {},
   "outputs": [
    {
     "data": {
      "text/plain": [
       "PiezoThirdOrderConstTensor (generic function with 1 method)"
      ]
     },
     "execution_count": 85,
     "metadata": {},
     "output_type": "execute_result"
    }
   ],
   "source": [
    "function PiezoThirdOrderConstTensor(d₁₁,d₂₁,d₂₂,d₂₃)\n",
    "    # 1 for Plane Stress and 2 Plane Strain Condition \n",
    "      e111 = d₁₁\n",
    "      e112 = 0.0\n",
    "      e121 = 0.0\n",
    "      e122 = 0.0\n",
    "      e211 = d₂₁\n",
    "      e212 = d₂₃\n",
    "      e221 = d₂₃\n",
    "      e222 = d₂₂   \n",
    "    vals = zeros(2,2,2);\n",
    "    vals[1,:,:] .= [e111 e112\n",
    "                    e121 e122]\n",
    "    vals[2,:,:] .= [e211 e212\n",
    "                    e221 e222]\n",
    "    e_ten = ThirdOrderTensorValue(vals ...)\n",
    "    return  e_ten\n",
    "end"
   ]
  },
  {
   "cell_type": "markdown",
   "id": "48ac6a51",
   "metadata": {},
   "source": [
    "## Stress\n",
    "$\\sigma_{elas}(\\epsilon(\\boldsymbol{u})) =  \\mathbb{C}\\,\\boldsymbol{\\epsilon}$\n",
    "\n",
    "$\\sigma_{piezo}(\\nabla\\phi) =  \\mathbb{e}^T\\,\\boldsymbol{\\nabla}\\phi$"
   ]
  },
  {
   "cell_type": "code",
   "execution_count": 86,
   "id": "e4c6d03d",
   "metadata": {},
   "outputs": [
    {
     "data": {
      "text/plain": [
       "σ_piezo (generic function with 1 method)"
      ]
     },
     "execution_count": 86,
     "metadata": {},
     "output_type": "execute_result"
    }
   ],
   "source": [
    "σ_elas(ε,C₁₁₁₁t,C₁₁₂₂t,C₃₃₃₃t) = ElasFourthOrderConstTensor(C₁₁₁₁t,C₁₁₂₂t,C₃₃₃₃t) ⊙ ε\n",
    "\n",
    "σ_piezo(∇,d₁₁t,d₂₁t,d₂₂t,d₂₃t) = ∇ ⋅ PiezoThirdOrderConstTensor(d₁₁t,d₂₁t,d₂₂t,d₂₃t)"
   ]
  },
  {
   "cell_type": "markdown",
   "id": "82d06f36",
   "metadata": {},
   "source": [
    "## Electric Displacement\n",
    "$\\boldsymbol{D}_{elas}(\\epsilon(\\boldsymbol{u})) =  \\boldsymbol{d}\\boldsymbol{\\epsilon}$\n",
    "\n",
    "$\\boldsymbol{D}_{piezo}(\\nabla\\phi)  = \\boldsymbol{K}\\boldsymbol{\\nabla} \\phi$"
   ]
  },
  {
   "cell_type": "code",
   "execution_count": 87,
   "id": "893b1b70",
   "metadata": {},
   "outputs": [
    {
     "data": {
      "text/plain": [
       "D_piezo (generic function with 1 method)"
      ]
     },
     "execution_count": 87,
     "metadata": {},
     "output_type": "execute_result"
    }
   ],
   "source": [
    "D_elas(ε,d₁₁t,d₂₁t,d₂₂t,d₂₃t) = PiezoThirdOrderConstTensor(d₁₁t,d₂₁t,d₂₂t,d₂₃t) ⋅² ε\n",
    "\n",
    "D_piezo(∇,a₁₁t,a₂₂t) = TensorValue(a₁₁t,0.0,0.0, a₂₂t) ⋅ ∇"
   ]
  },
  {
   "cell_type": "markdown",
   "id": "b246d785",
   "metadata": {},
   "source": [
    "## FE formulation"
   ]
  },
  {
   "cell_type": "code",
   "execution_count": 88,
   "id": "a017e259",
   "metadata": {},
   "outputs": [
    {
     "data": {
      "text/plain": [
       "project (generic function with 1 method)"
      ]
     },
     "execution_count": 88,
     "metadata": {},
     "output_type": "execute_result"
    }
   ],
   "source": [
    "function project(q,model,dΩ,order)\n",
    "  reffe = ReferenceFE(lagrangian,Float64,order)\n",
    "  V = FESpace(model,reffe,conformity=:L2)\n",
    "  a(u,v) = ∫( u*v )*dΩ\n",
    "  l(v) = ∫( v*q )*dΩ\n",
    "  op = AffineFEOperator(a,l,V,V)\n",
    "  qh = Gridap.solve(op)\n",
    "  qh\n",
    "end"
   ]
  },
  {
   "cell_type": "code",
   "execution_count": 89,
   "id": "347d7ef5",
   "metadata": {},
   "outputs": [
    {
     "data": {
      "text/plain": [
       "SingleFieldFEFunction():\n",
       " num_cells: 60680\n",
       " DomainStyle: ReferenceDomain()\n",
       " Triangulation: BodyFittedTriangulation()\n",
       " Triangulation id: 13829256814042158668"
      ]
     },
     "execution_count": 89,
     "metadata": {},
     "output_type": "execute_result"
    }
   ],
   "source": [
    "reffe_Disp = ReferenceFE(lagrangian,VectorValue{2,Float64},order)\n",
    "        V0_Disp = TestFESpace(model,reffe_Disp;\n",
    "          conformity=:H1,\n",
    "          dirichlet_tags=[\"DirichletBot\",\"DirichletRight\",\"DirichletTop\",\"DirichletLeft\"],\n",
    "          dirichlet_masks=[(true,true), (true,true),(true,true), (true,true)])\n",
    "\n",
    "uh = zero(V0_Disp)"
   ]
  },
  {
   "cell_type": "code",
   "execution_count": 90,
   "id": "f78eb2e8",
   "metadata": {},
   "outputs": [
    {
     "data": {
      "text/plain": [
       "UnconstrainedFESpace()"
      ]
     },
     "execution_count": 90,
     "metadata": {},
     "output_type": "execute_result"
    }
   ],
   "source": [
    "reffe_ElecPot = ReferenceFE(lagrangian,Float64,order)\n",
    "V0_ElecPot  = TestFESpace(model,reffe_ElecPot;\n",
    "  conformity=:H1,\n",
    "  dirichlet_tags=[\"ElectricPotentialBot\",\"ElectricPotentialright\",\"ElectricPotentialTop\",\"ElectricPotentialleft\"],\n",
    "  dirichlet_masks=[true,true,true,true])"
   ]
  },
  {
   "cell_type": "code",
   "execution_count": 91,
   "id": "7fd0dd34",
   "metadata": {},
   "outputs": [
    {
     "data": {
      "text/plain": [
       "MultiFieldFESpace()"
      ]
     },
     "execution_count": 91,
     "metadata": {},
     "output_type": "execute_result"
    }
   ],
   "source": [
    "V0 = MultiFieldFESpace([V0_Disp,V0_ElecPot])"
   ]
  },
  {
   "cell_type": "code",
   "execution_count": 92,
   "id": "0fc50e28",
   "metadata": {},
   "outputs": [
    {
     "data": {
      "text/plain": [
       "stepDispElecPot (generic function with 1 method)"
      ]
     },
     "execution_count": 92,
     "metadata": {},
     "output_type": "execute_result"
    }
   ],
   "source": [
    " function   stepDispElecPot(uh_in,phih_in,vApp,phiApp)\n",
    "    \n",
    "        uApp1(x) = VectorValue(0.0,0.0)\n",
    "        uApp2(x) = VectorValue(vApp,0.0)\n",
    "        uApp3(x) = VectorValue(0.0,0.0)\n",
    "        uApp4(x) = VectorValue(0.0,0.0)\n",
    "        U_Disp = TrialFESpace(V0_Disp,[uApp1,uApp2,uApp3,uApp4])\n",
    "    \n",
    "        phiApp1(x) = 0.0\n",
    "        phiApp2(x) = phiApp\n",
    "        phiApp3(x) = 0.0\n",
    "        phiApp4(x) = 0.0\n",
    "        U_ElecPot = TrialFESpace(V0_ElecPot,[phiApp1,phiApp2,phiApp3,phiApp4])\n",
    "    \n",
    "        U = MultiFieldFESpace([U_Disp,U_ElecPot])\n",
    "    \n",
    "        a((u,ϕ),(v,ψ)) = ∫( (ε(v) ⊙ (σ_elas∘(ε(u),C₁₁₁₁t,C₁₁₂₂t,C₃₃₃₃t))) + (∇(v) ⊙ (σ_piezo∘(∇(ϕ),d₁₁t,d₂₁t,d₂₂t,d₂₃t))) - (∇(ψ)⋅(D_piezo∘(∇(ϕ),a₁₁t,a₂₂t))) + (∇(ψ)⋅(D_elas∘(ε(u),d₁₁t,d₂₁t,d₂₂t,d₂₃t))) )*dΩ\n",
    "        b((v,ψ)) = 0.0\n",
    "    \n",
    "        op = AffineFEOperator(a,b,U,V0)\n",
    "        uhPhi = Gridap.solve(op)\n",
    "        uh_out,phih_out = uhPhi\n",
    "    \n",
    "    return uh_out,phih_out\n",
    "end"
   ]
  },
  {
   "cell_type": "code",
   "execution_count": 93,
   "id": "5e38a9b0",
   "metadata": {},
   "outputs": [
    {
     "data": {
      "text/plain": [
       "(SingleFieldFEFunction(), SingleFieldFEFunction())"
      ]
     },
     "execution_count": 93,
     "metadata": {},
     "output_type": "execute_result"
    }
   ],
   "source": [
    "vApp = 1.0\n",
    "phiApp = 0.0\n",
    "ϕPrev = CellState(0.0,dΩ)\n",
    "ϕh = project(ϕPrev,model,dΩ,order)\n",
    " \n",
    "uh,ϕh = stepDispElecPot(uh,ϕh,vApp,phiApp)"
   ]
  },
  {
   "cell_type": "code",
   "execution_count": 94,
   "id": "f3474be1",
   "metadata": {},
   "outputs": [
    {
     "data": {
      "text/plain": [
       "([\"results_PlateWith+Shapec11.vtu\"],)"
      ]
     },
     "execution_count": 94,
     "metadata": {},
     "output_type": "execute_result"
    }
   ],
   "source": [
    " writevtk(Ω,\"results_PlateWith+Shapec11\",cellfields=\n",
    "        [\"uh\"=>uh,\"phi\"=>ϕh, \"epsi\"=>ε(uh), \"ElecF\"=>-∇(ϕh), \"SigmaE\"=>(σ_elas∘(ε(uh),C₁₁₁₁t,C₁₁₂₂t,C₃₃₃₃t)), \n",
    "        \"SigmaD\"=>(σ_piezo∘(∇(ϕh),d₁₁t,d₂₁t,d₂₂t,d₂₃t)), \"Elec\"=>(D_elas∘(ε(uh),d₁₁t,d₂₁t,d₂₂t,d₂₃t)),\n",
    "        \"ElecD\"=>(D_piezo∘(∇(ϕh),a₁₁t,a₂₂t))])"
   ]
  },
  {
   "cell_type": "code",
   "execution_count": 95,
   "id": "384b2e40",
   "metadata": {},
   "outputs": [
    {
     "name": "stderr",
     "output_type": "stream",
     "text": [
      "WARNING: using Algebra.solve in module Main conflicts with an existing identifier.\n"
     ]
    }
   ],
   "source": [
    "using Gridap.Helpers\n",
    "using Gridap.MultiField\n",
    "using Gridap.Polynomials\n",
    "using Gridap.Arrays\n",
    "using Gridap.FESpaces\n",
    "using Gridap.Algebra"
   ]
  },
  {
   "cell_type": "code",
   "execution_count": 96,
   "id": "b66d9e2c",
   "metadata": {},
   "outputs": [
    {
     "data": {
      "text/plain": [
       "UnstructuredGrid()"
      ]
     },
     "execution_count": 96,
     "metadata": {},
     "output_type": "execute_result"
    }
   ],
   "source": [
    "Gr = get_grid(model)"
   ]
  },
  {
   "cell_type": "code",
   "execution_count": 97,
   "id": "dc026537",
   "metadata": {},
   "outputs": [],
   "source": [
    "Nₑ = num_cells(model)\n",
    "elem = get_cell_node_ids(Gr);"
   ]
  },
  {
   "cell_type": "code",
   "execution_count": 98,
   "id": "9fc7152a",
   "metadata": {},
   "outputs": [],
   "source": [
    "nodes = get_node_coordinates(Gr)\n",
    "Nₙ = num_nodes(model)\n",
    "nodeCoordX = [nodes[i][1] for i in 1:Nₙ]\n",
    "nodeCoordY = [nodes[i][2] for i in 1:Nₙ];"
   ]
  },
  {
   "cell_type": "code",
   "execution_count": 99,
   "id": "1ed0d74d",
   "metadata": {},
   "outputs": [],
   "source": [
    "dataStrain = get_array(ε(uh))\n",
    "ϵVec = return_value(dataStrain,Point(nodeCoordX[1],nodeCoordY[1]));"
   ]
  },
  {
   "cell_type": "code",
   "execution_count": 100,
   "id": "9c47ab80",
   "metadata": {},
   "outputs": [],
   "source": [
    "ϵ11El = [ϵVec[i][1,1] for i in 1:Nₑ] \n",
    "ϵ12El = [ϵVec[i][1,2] for i in 1:Nₑ] \n",
    "ϵ22El = [ϵVec[i][1,3] for i in 1:Nₑ];"
   ]
  },
  {
   "cell_type": "code",
   "execution_count": 101,
   "id": "8fba4084",
   "metadata": {},
   "outputs": [],
   "source": [
    "dataStress = get_data(σ_elas∘(ε(uh),C₁₁₁₁t,C₁₁₂₂t,C₃₃₃₃t))\n",
    "σVec = return_value(dataStress,Point(nodeCoordX[1],nodeCoordY[1]));"
   ]
  },
  {
   "cell_type": "code",
   "execution_count": 102,
   "id": "2a685a98",
   "metadata": {},
   "outputs": [],
   "source": [
    "σ11E = [σVec[i][1,1] for i in 1:Nₑ] \n",
    "σ12E = [σVec[i][1,2] for i in 1:Nₑ] \n",
    "σ22E = [σVec[i][1,3] for i in 1:Nₑ];"
   ]
  },
  {
   "cell_type": "code",
   "execution_count": 103,
   "id": "b1b8b8e0",
   "metadata": {},
   "outputs": [],
   "source": [
    "dataStress1 = get_data(σ_piezo∘(-∇(ϕh),d₁₁t,d₂₁t,d₂₂t,d₂₃t))\n",
    "PVec = return_value(dataStress1,Point(nodeCoordX[1],nodeCoordY[1]));"
   ]
  },
  {
   "cell_type": "code",
   "execution_count": 104,
   "id": "7cbc24aa",
   "metadata": {},
   "outputs": [],
   "source": [
    "P11El = [PVec[i][1] for i in 1:Nₑ] \n",
    "P12El = [PVec[i][2] for i in 1:Nₑ] \n",
    "P21El = [PVec[i][3] for i in 1:Nₑ]\n",
    "P22El = [PVec[i][4] for i in 1:Nₑ];"
   ]
  },
  {
   "cell_type": "code",
   "execution_count": 105,
   "id": "53d938f6",
   "metadata": {},
   "outputs": [],
   "source": [
    "σ11El = σ11E + P11El\n",
    "σ12El = σ12E + P12El\n",
    "σ22El = σ22E + P22El;"
   ]
  },
  {
   "cell_type": "code",
   "execution_count": 106,
   "id": "041c8bf4",
   "metadata": {},
   "outputs": [
    {
     "data": {
      "text/plain": [
       "5015.171467574202"
      ]
     },
     "execution_count": 106,
     "metadata": {},
     "output_type": "execute_result"
    }
   ],
   "source": [
    "AreaEl = get_cell_measure(Ω)\n",
    "σ11Avg = sum([σ11El[i]*AreaEl[i] for i in 1:Nₑ])/sum(AreaEl)\n",
    "ϵ11Avg = sum([ϵ11El[i]*AreaEl[i] for i in 1:Nₑ])/sum(AreaEl)\n",
    "C₁₁₁₁eff = σ11Avg/ϵ11Avg"
   ]
  },
  {
   "cell_type": "code",
   "execution_count": 107,
   "id": "5ffc88ce",
   "metadata": {},
   "outputs": [
    {
     "data": {
      "text/plain": [
       "2102.31997903477"
      ]
     },
     "execution_count": 107,
     "metadata": {},
     "output_type": "execute_result"
    }
   ],
   "source": [
    "AreaEl = get_cell_measure(Ω)\n",
    "σ22Avg = sum([σ22El[i]*AreaEl[i] for i in 1:Nₑ])/sum(AreaEl)\n",
    "ϵ11Avg = sum([ϵ11El[i]*AreaEl[i] for i in 1:Nₑ])/sum(AreaEl)\n",
    "C₁₁₂₂eff = σ22Avg/ϵ11Avg"
   ]
  },
  {
   "cell_type": "code",
   "execution_count": 108,
   "id": "5a3bf9b6",
   "metadata": {},
   "outputs": [],
   "source": [
    "dataDisp = get_data(D_elas∘(ε(uh),d₁₁t,d₂₁t,d₂₂t,d₂₃t))\n",
    "DVec = return_value(dataDisp,Point(nodeCoordX[1],nodeCoordY[1]));"
   ]
  },
  {
   "cell_type": "code",
   "execution_count": 109,
   "id": "7ab3af06",
   "metadata": {},
   "outputs": [],
   "source": [
    "D11E = [DVec[i][1] for i in 1:Nₑ] \n",
    "D22E = [DVec[i][2] for i in 1:Nₑ];"
   ]
  },
  {
   "cell_type": "code",
   "execution_count": 110,
   "id": "f1202495",
   "metadata": {},
   "outputs": [],
   "source": [
    "dataDisp1 = get_data(D_piezo∘(∇(-ϕh),a₁₁t,a₂₂t))\n",
    "AVec = return_value(dataDisp1,Point(nodeCoordX[1],nodeCoordY[1]));"
   ]
  },
  {
   "cell_type": "code",
   "execution_count": 111,
   "id": "b93fe06d",
   "metadata": {},
   "outputs": [],
   "source": [
    "a11El = [AVec[i][1] for i in 1:Nₑ] \n",
    "a22El = [AVec[i][2] for i in 1:Nₑ];"
   ]
  },
  {
   "cell_type": "code",
   "execution_count": 112,
   "id": "b2aa2c5b",
   "metadata": {},
   "outputs": [],
   "source": [
    "D11El = D11E + a11El\n",
    "D22El = D22E + a22El;"
   ]
  },
  {
   "cell_type": "code",
   "execution_count": 113,
   "id": "350a971c",
   "metadata": {},
   "outputs": [
    {
     "data": {
      "text/plain": [
       "0.12214384554389358"
      ]
     },
     "execution_count": 113,
     "metadata": {},
     "output_type": "execute_result"
    }
   ],
   "source": [
    "AreaEl = get_cell_measure(Ω)\n",
    "D11Avg = sum([D11El[i]*AreaEl[i] for i in 1:Nₑ])/sum(AreaEl)\n",
    "ϵ11Avg = sum([ϵ11El[i]*AreaEl[i] for i in 1:Nₑ])/sum(AreaEl)\n",
    "d₁₁eff = D11Avg/ϵ11Avg"
   ]
  }
 ],
 "metadata": {
  "kernelspec": {
   "display_name": "Julia 1.8.1",
   "language": "julia",
   "name": "julia-1.8"
  },
  "language_info": {
   "file_extension": ".jl",
   "mimetype": "application/julia",
   "name": "julia",
   "version": "1.8.1"
  }
 },
 "nbformat": 4,
 "nbformat_minor": 5
}
