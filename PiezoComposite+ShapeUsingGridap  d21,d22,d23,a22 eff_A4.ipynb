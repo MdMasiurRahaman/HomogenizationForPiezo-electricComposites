{
 "cells": [
  {
   "cell_type": "code",
   "execution_count": 1,
   "id": "efe3a9c3",
   "metadata": {},
   "outputs": [],
   "source": [
    "using SymPy\n",
    "using Plots"
   ]
  },
  {
   "cell_type": "code",
   "execution_count": 2,
   "id": "4545c86e",
   "metadata": {},
   "outputs": [
    {
     "data": {
      "text/plain": [
       "(C₁₁ᵢ, C₁₂ᵢ, C₂₂ᵢ, d₁₁ᵢ, d₁₂ᵢ, d₁₃ᵢ, d₂₁ᵢ, d₂₂ᵢ, d₂₃ᵢ, a₁₁ᵢ, a₂₂ᵢ)"
      ]
     },
     "execution_count": 2,
     "metadata": {},
     "output_type": "execute_result"
    }
   ],
   "source": [
    "x,x₁,y,y₁,r,r₁ = symbols(\"x,x₁,y,y₁,r,r₁\", real = true)\n",
    "E,v= symbols(\"E,v\", real = true)\n",
    "C₁₁ₘ,C₁₂ₘ,C₂₂ₘ,d₁₁ₘ,d₁₂ₘ,d₁₃ₘ,d₂₁ₘ,d₂₂ₘ,d₂₃ₘ,a₁₁ₘ,a₂₂ₘ = symbols(\"C₁₁ₘ,C₁₂ₘ,C₂₂ₘ,d₁₁ₘ,d₁₂ₘ,d₁₃ₘ,d₂₁ₘ,d₂₂ₘ,d₂₃ₘ,a₁₁ₘ,a₂₂ₘ\", real = true)\n",
    "C₁₁ᵢ,C₁₂ᵢ,C₂₂ᵢ,d₁₁ᵢ,d₁₂ᵢ,d₁₃ᵢ,d₂₁ᵢ,d₂₂ᵢ,d₂₃ᵢ,a₁₁ᵢ,a₂₂ᵢ = symbols(\"C₁₁ᵢ,C₁₂ᵢ,C₂₂ᵢ,d₁₁ᵢ,d₁₂ᵢ,d₁₃ᵢ,d₂₁ᵢ,d₂₂ᵢ,d₂₃ᵢ,a₁₁ᵢ,a₂₂ᵢ\", real = true)"
   ]
  },
  {
   "cell_type": "code",
   "execution_count": 3,
   "id": "fe1692da",
   "metadata": {},
   "outputs": [
    {
     "data": {
      "text/latex": [
       "$0.632455532033676$"
      ],
      "text/plain": [
       "0.632455532033676"
      ]
     },
     "execution_count": 3,
     "metadata": {},
     "output_type": "execute_result"
    }
   ],
   "source": [
    "A = 0.3\n",
    "Eq = (3*(x^2))/4 - A\n",
    "p = abs(solve(Eq,x)[1])"
   ]
  },
  {
   "cell_type": "code",
   "execution_count": 4,
   "id": "935c58ae",
   "metadata": {},
   "outputs": [
    {
     "data": {
      "text/plain": [
       "0.01"
      ]
     },
     "execution_count": 4,
     "metadata": {},
     "output_type": "execute_result"
    }
   ],
   "source": [
    "Eₘ = 2450\n",
    "vₘ = 0.34\n",
    "Eᵢ = 170000\n",
    "vᵢ = 0.25\n",
    "hₛ = 0.01"
   ]
  },
  {
   "cell_type": "code",
   "execution_count": 5,
   "id": "1bad7bce",
   "metadata": {},
   "outputs": [
    {
     "data": {
      "text/latex": [
       "$68000.0$"
      ],
      "text/plain": [
       "68000.0000000000"
      ]
     },
     "execution_count": 5,
     "metadata": {},
     "output_type": "execute_result"
    }
   ],
   "source": [
    "λ = (E*v)/((1 + v) * (1 - 2*v))\n",
    "λₘ = simplify(λ(E=>Eₘ,v=>vₘ))\n",
    "λᵢ = simplify(λ(E=>Eᵢ,v=>vᵢ))"
   ]
  },
  {
   "cell_type": "code",
   "execution_count": 6,
   "id": "de9ec9d8",
   "metadata": {},
   "outputs": [
    {
     "data": {
      "text/latex": [
       "$136000.0$"
      ],
      "text/plain": [
       "136000.000000000"
      ]
     },
     "execution_count": 6,
     "metadata": {},
     "output_type": "execute_result"
    }
   ],
   "source": [
    "G = E/((1 + v))\n",
    "Gₘ = simplify(G(E=>Eₘ,v=>vₘ))\n",
    "Gᵢ = simplify(G(E=>Eᵢ,v=>vᵢ))"
   ]
  },
  {
   "cell_type": "code",
   "execution_count": 7,
   "id": "9fd2ae84",
   "metadata": {},
   "outputs": [
    {
     "data": {
      "text/latex": [
       "$3770.98880597015$"
      ],
      "text/plain": [
       "3770.98880597015"
      ]
     },
     "execution_count": 7,
     "metadata": {},
     "output_type": "execute_result"
    }
   ],
   "source": [
    "C₁₁ₘ = λₘ + Gₘ"
   ]
  },
  {
   "cell_type": "code",
   "execution_count": 8,
   "id": "4df6e0ee",
   "metadata": {},
   "outputs": [
    {
     "data": {
      "text/latex": [
       "$204000.0$"
      ],
      "text/plain": [
       "204000.000000000"
      ]
     },
     "execution_count": 8,
     "metadata": {},
     "output_type": "execute_result"
    }
   ],
   "source": [
    "C₁₁ᵢ = λᵢ + Gᵢ"
   ]
  },
  {
   "cell_type": "code",
   "execution_count": 9,
   "id": "421f3375",
   "metadata": {},
   "outputs": [
    {
     "data": {
      "text/latex": [
       "$0.316227766016838$"
      ],
      "text/plain": [
       "0.316227766016838"
      ]
     },
     "execution_count": 9,
     "metadata": {},
     "output_type": "execute_result"
    }
   ],
   "source": [
    "lₘₓ = 1\n",
    "lₐ₁ₙ = p\n",
    "lₙₓ = p/2"
   ]
  },
  {
   "cell_type": "code",
   "execution_count": 10,
   "id": "0cea7096",
   "metadata": {},
   "outputs": [
    {
     "data": {
      "text/plain": [
       "interval (generic function with 1 method)"
      ]
     },
     "execution_count": 10,
     "metadata": {},
     "output_type": "execute_result"
    }
   ],
   "source": [
    "heaviside(x) = 0.5 * (sign(x) + 1)\n",
    "\n",
    "interval(x, a, b) = heaviside(x-a) - heaviside(x-b)"
   ]
  },
  {
   "cell_type": "code",
   "execution_count": 11,
   "id": "1bae0201",
   "metadata": {},
   "outputs": [
    {
     "data": {
      "text/plain": [
       "E1y (generic function with 1 method)"
      ]
     },
     "execution_count": 11,
     "metadata": {},
     "output_type": "execute_result"
    }
   ],
   "source": [
    "E1x(x,ax,bx) = sqrt(C₁₁ᵢ - C₁₁ₘ) * interval(x,ax,bx) \n",
    "E1y(y,ay,by) = sqrt(C₁₁ᵢ - C₁₁ₘ) * interval(y,ay,by) "
   ]
  },
  {
   "cell_type": "code",
   "execution_count": 12,
   "id": "7335c287",
   "metadata": {},
   "outputs": [
    {
     "data": {
      "text/plain": [
       "wₕ (generic function with 1 method)"
      ]
     },
     "execution_count": 12,
     "metadata": {},
     "output_type": "execute_result"
    }
   ],
   "source": [
    "wₕ(x,x₁) = (1/(sqrt(2*pi)*hₛ))*exp(-(x-x₁)^2/(2*hₛ^2))"
   ]
  },
  {
   "cell_type": "code",
   "execution_count": 13,
   "id": "1c7800fa",
   "metadata": {},
   "outputs": [
    {
     "data": {
      "text/latex": [
       "$39.8942280401433 \\left(- 223.734782272465 \\operatorname{sign}{\\left(x₁ - 0.632455532033676 \\right)} + 223.734782272465 \\operatorname{sign}{\\left(x₁ + 0.632455532033676 \\right)}\\right) e^{- 5000.0 \\left(x - x₁\\right)^{2}}$"
      ],
      "text/plain": [
       "                                                                              \n",
       "                                                                              \n",
       "39.8942280401433⋅(-223.734782272465⋅sign(x₁ - 0.632455532033676) + 223.7347822\n",
       "\n",
       "                                                     2\n",
       "                                     -5000.0⋅(x - x₁) \n",
       "72465⋅sign(x₁ + 0.632455532033676))⋅ℯ                 "
      ]
     },
     "execution_count": 13,
     "metadata": {},
     "output_type": "execute_result"
    }
   ],
   "source": [
    "IFx1 = E1x(x₁,-lₙₓ,lₙₓ)*wₕ(x,x₁)\n",
    "IFx2 = E1x(x₁,-lₐ₁ₙ,lₐ₁ₙ)*wₕ(x,x₁)"
   ]
  },
  {
   "cell_type": "code",
   "execution_count": 14,
   "id": "d01bde6e",
   "metadata": {},
   "outputs": [
    {
     "data": {
      "text/latex": [
       "$39.8942280401433 \\left(- 223.734782272465 \\operatorname{sign}{\\left(y₁ - 0.632455532033676 \\right)} + 223.734782272465 \\operatorname{sign}{\\left(y₁ - 0.316227766016838 \\right)}\\right) e^{- 5000.0 \\left(y - y₁\\right)^{2}}$"
      ],
      "text/plain": [
       "                                                                              \n",
       "                                                                              \n",
       "39.8942280401433⋅(-223.734782272465⋅sign(y₁ - 0.632455532033676) + 223.7347822\n",
       "\n",
       "                                                     2\n",
       "                                     -5000.0⋅(y - y₁) \n",
       "72465⋅sign(y₁ - 0.316227766016838))⋅ℯ                 "
      ]
     },
     "execution_count": 14,
     "metadata": {},
     "output_type": "execute_result"
    }
   ],
   "source": [
    "IFy1 = E1y(y₁,-lₙₓ,lₙₓ)*wₕ(y,y₁)\n",
    "IFy2 = E1y(y₁,-lₐ₁ₙ,-lₙₓ)*wₕ(y,y₁)\n",
    "IFy3 = E1y(y₁,lₙₓ,lₐ₁ₙ)*wₕ(y,y₁)"
   ]
  },
  {
   "cell_type": "code",
   "execution_count": 15,
   "id": "3d970a0b",
   "metadata": {
    "scrolled": true
   },
   "outputs": [
    {
     "data": {
      "text/latex": [
       "$\\left(- 126.22883363545 \\sqrt{\\pi} \\operatorname{erf}{\\left(70.7106781186548 x - 22.3606797749979 \\right)} + 126.22883363545 \\sqrt{\\pi} \\operatorname{erf}{\\left(70.7106781186548 x + 22.3606797749979 \\right)}\\right) \\left(- 126.22883363545 \\sqrt{\\pi} \\operatorname{erf}{\\left(70.7106781186548 y - 44.7213595499958 \\right)} + 126.22883363545 \\sqrt{\\pi} \\operatorname{erf}{\\left(70.7106781186548 y - 22.3606797749979 \\right)}\\right)$"
      ],
      "text/plain": [
       "(-126.22883363545⋅√π⋅erf(70.7106781186548⋅x - 22.3606797749979) + 126.22883363\n",
       "545⋅√π⋅erf(70.7106781186548⋅x + 22.3606797749979))⋅(-126.22883363545⋅√π⋅erf(70\n",
       ".7106781186548⋅y - 44.7213595499958) + 126.22883363545⋅√π⋅erf(70.7106781186548\n",
       "⋅y - 22.3606797749979))"
      ]
     },
     "execution_count": 15,
     "metadata": {},
     "output_type": "execute_result"
    }
   ],
   "source": [
    "smoothE1 = integrate(IFx2,(x₁,-lₘₓ,lₘₓ))*integrate(IFy1,(y₁,-lₘₓ,lₘₓ))\n",
    "smoothE2 = integrate(IFx1,(x₁,-lₘₓ,lₘₓ))*integrate(IFy2,(y₁,-lₘₓ,lₘₓ))\n",
    "smoothE3 = integrate(IFx1,(x₁,-lₘₓ,lₘₓ))*integrate(IFy3,(y₁,-lₘₓ,lₘₓ))"
   ]
  },
  {
   "cell_type": "code",
   "execution_count": 16,
   "id": "d45e100e",
   "metadata": {
    "scrolled": true
   },
   "outputs": [
    {
     "data": {
      "text/latex": [
       "$\\left(- 126.22883363545 \\sqrt{\\pi} \\operatorname{erf}{\\left(70.7106781186548 x - 44.7213595499958 \\right)} + 126.22883363545 \\sqrt{\\pi} \\operatorname{erf}{\\left(70.7106781186548 x + 44.7213595499958 \\right)}\\right) \\left(- 126.22883363545 \\sqrt{\\pi} \\operatorname{erf}{\\left(70.7106781186548 y - 22.3606797749979 \\right)} + 126.22883363545 \\sqrt{\\pi} \\operatorname{erf}{\\left(70.7106781186548 y + 22.3606797749979 \\right)}\\right) + \\left(- 126.22883363545 \\sqrt{\\pi} \\operatorname{erf}{\\left(70.7106781186548 x - 22.3606797749979 \\right)} + 126.22883363545 \\sqrt{\\pi} \\operatorname{erf}{\\left(70.7106781186548 x + 22.3606797749979 \\right)}\\right) \\left(- 126.22883363545 \\sqrt{\\pi} \\operatorname{erf}{\\left(70.7106781186548 y - 44.7213595499958 \\right)} + 126.22883363545 \\sqrt{\\pi} \\operatorname{erf}{\\left(70.7106781186548 y - 22.3606797749979 \\right)}\\right) + \\left(- 126.22883363545 \\sqrt{\\pi} \\operatorname{erf}{\\left(70.7106781186548 x - 22.3606797749979 \\right)} + 126.22883363545 \\sqrt{\\pi} \\operatorname{erf}{\\left(70.7106781186548 x + 22.3606797749979 \\right)}\\right) \\left(- 126.22883363545 \\sqrt{\\pi} \\operatorname{erf}{\\left(70.7106781186548 y + 22.3606797749979 \\right)} + 126.22883363545 \\sqrt{\\pi} \\operatorname{erf}{\\left(70.7106781186548 y + 44.7213595499958 \\right)}\\right) + 3770.98880597015$"
      ],
      "text/plain": [
       "(-126.22883363545⋅√π⋅erf(70.7106781186548⋅x - 44.7213595499958) + 126.22883363\n",
       "545⋅√π⋅erf(70.7106781186548⋅x + 44.7213595499958))⋅(-126.22883363545⋅√π⋅erf(70\n",
       ".7106781186548⋅y - 22.3606797749979) + 126.22883363545⋅√π⋅erf(70.7106781186548\n",
       "⋅y + 22.3606797749979)) + (-126.22883363545⋅√π⋅erf(70.7106781186548⋅x - 22.360\n",
       "6797749979) + 126.22883363545⋅√π⋅erf(70.7106781186548⋅x + 22.3606797749979))⋅(\n",
       "-126.22883363545⋅√π⋅erf(70.7106781186548⋅y - 44.7213595499958) + 126.228833635\n",
       "45⋅√π⋅erf(70.7106781186548⋅y - 22.3606797749979)) + (-126.22883363545⋅√π⋅erf(7\n",
       "0.7106781186548⋅x - 22.3606797749979) + 126.22883363545⋅√π⋅erf(70.710678118654\n",
       "8⋅x + 22.3606797749979))⋅(-126.22883363545⋅√π⋅erf(70.7106781186548⋅y + 22.3606\n",
       "797749979) + 126.22883363545⋅√π⋅erf(70.7106781186548⋅y + 44.7213595499958)) + \n",
       "3770.98880597015"
      ]
     },
     "execution_count": 16,
     "metadata": {},
     "output_type": "execute_result"
    }
   ],
   "source": [
    "C₁₁₁₁ = smoothE1 + smoothE2 + smoothE3 + C₁₁ₘ"
   ]
  },
  {
   "cell_type": "code",
   "execution_count": 17,
   "id": "8dc06d93",
   "metadata": {},
   "outputs": [
    {
     "data": {
      "text/latex": [
       "$\\left(- 223.734782272465 \\operatorname{sign}{\\left(x₁ - 0.632455532033676 \\right)} + 223.734782272465 \\operatorname{sign}{\\left(x₁ + 0.632455532033676 \\right)}\\right) \\left(- 223.734782272465 \\operatorname{sign}{\\left(y₁ - 0.316227766016838 \\right)} + 223.734782272465 \\operatorname{sign}{\\left(y₁ + 0.316227766016838 \\right)}\\right) + \\left(- 223.734782272465 \\operatorname{sign}{\\left(x₁ - 0.316227766016838 \\right)} + 223.734782272465 \\operatorname{sign}{\\left(x₁ + 0.316227766016838 \\right)}\\right) \\left(- 223.734782272465 \\operatorname{sign}{\\left(y₁ - 0.632455532033676 \\right)} + 223.734782272465 \\operatorname{sign}{\\left(y₁ - 0.316227766016838 \\right)}\\right) + \\left(- 223.734782272465 \\operatorname{sign}{\\left(x₁ - 0.316227766016838 \\right)} + 223.734782272465 \\operatorname{sign}{\\left(x₁ + 0.316227766016838 \\right)}\\right) \\left(- 223.734782272465 \\operatorname{sign}{\\left(y₁ + 0.316227766016838 \\right)} + 223.734782272465 \\operatorname{sign}{\\left(y₁ + 0.632455532033676 \\right)}\\right) + 3770.98880597015$"
      ],
      "text/plain": [
       "(-223.734782272465⋅sign(x₁ - 0.632455532033676) + 223.734782272465⋅sign(x₁ + 0\n",
       ".632455532033676))⋅(-223.734782272465⋅sign(y₁ - 0.316227766016838) + 223.73478\n",
       "2272465⋅sign(y₁ + 0.316227766016838)) + (-223.734782272465⋅sign(x₁ - 0.3162277\n",
       "66016838) + 223.734782272465⋅sign(x₁ + 0.316227766016838))⋅(-223.734782272465⋅\n",
       "sign(y₁ - 0.632455532033676) + 223.734782272465⋅sign(y₁ - 0.316227766016838)) \n",
       "+ (-223.734782272465⋅sign(x₁ - 0.316227766016838) + 223.734782272465⋅sign(x₁ +\n",
       " 0.316227766016838))⋅(-223.734782272465⋅sign(y₁ + 0.316227766016838) + 223.734\n",
       "782272465⋅sign(y₁ + 0.632455532033676)) + 3770.98880597015"
      ]
     },
     "execution_count": 17,
     "metadata": {},
     "output_type": "execute_result"
    }
   ],
   "source": [
    "Ediscont1 = E1x(x₁,-lₐ₁ₙ,lₐ₁ₙ)*E1y(y₁,-lₙₓ,lₙₓ)\n",
    "Ediscont2 = E1x(x₁,-lₙₓ,lₙₓ)*E1y(y₁,-lₐ₁ₙ,-lₙₓ)\n",
    "Ediscont3 = E1x(x₁,-lₙₓ,lₙₓ)*E1y(y₁,lₙₓ,lₐ₁ₙ)\n",
    "Ediscont = Ediscont1 + Ediscont2 + Ediscont3 + C₁₁ₘ"
   ]
  },
  {
   "cell_type": "code",
   "execution_count": 18,
   "id": "f53cd767",
   "metadata": {},
   "outputs": [
    {
     "data": {
      "image/svg+xml": [
       "<?xml version=\"1.0\" encoding=\"utf-8\"?>\n",
       "<svg xmlns=\"http://www.w3.org/2000/svg\" xmlns:xlink=\"http://www.w3.org/1999/xlink\" width=\"600\" height=\"400\" viewBox=\"0 0 2400 1600\">\n",
       "<defs>\n",
       "  <clipPath id=\"clip830\">\n",
       "    <rect x=\"0\" y=\"0\" width=\"2400\" height=\"1600\"/>\n",
       "  </clipPath>\n",
       "</defs>\n",
       "<path clip-path=\"url(#clip830)\" d=\"\n",
       "M0 1600 L2400 1600 L2400 0 L0 0  Z\n",
       "  \" fill=\"#ffffff\" fill-rule=\"evenodd\" fill-opacity=\"1\"/>\n",
       "<defs>\n",
       "  <clipPath id=\"clip831\">\n",
       "    <rect x=\"480\" y=\"0\" width=\"1681\" height=\"1600\"/>\n",
       "  </clipPath>\n",
       "</defs>\n",
       "<defs>\n",
       "  <clipPath id=\"clip832\">\n",
       "    <rect x=\"47\" y=\"292\" width=\"747\" height=\"1016\"/>\n",
       "  </clipPath>\n",
       "</defs>\n",
       "<path clip-path=\"url(#clip832)\" d=\"\n",
       "M204.789 958.031 L204.789 958.031 L204.789 641.969 L635.211 641.969 L635.211 641.969 L635.211 958.031 L204.789 958.031  Z\n",
       "  \" fill=\"#ffffff\" fill-rule=\"evenodd\" fill-opacity=\"1\"/>\n",
       "<g clip-path=\"url(#clip832)\">\n",
       "<image width=\"746\" height=\"1015\" xlink:href=\"data:image/png;base64,\n",
       "iVBORw0KGgoAAAANSUhEUgAAAuoAAAP3CAYAAAB6WGtXAAAgAElEQVR4nOzdW48jSZqg58/jmIeq\n",
       "zKzumtEsIIy0WEmjXUA3utBP0o/ST5IAQZBuNFhggZnGAFrsdFVlVuUhTnRdMCPjkHGgO83dPzN/\n",
       "nq7KruomneZOBvnSw2js+r4PAAAgl4OlBwAAAHxPqAMAQEJCHQAAEhLqAACQkFAHAICEhDoAACQk\n",
       "1AEAICGhDgAACQl1AABISKgDAEBCQh0AABIS6gAAkJBQBwCAhIQ6AAAkJNQBACAhoQ4AAAkJdQAA\n",
       "SEioAwBAQkIdAAASEuoAAJCQUAcAgISEOgAAJCTUAQAgIaEOAAAJCXUAAEhIqAMAQEJCHQAAEhLq\n",
       "AACQkFAHAICEhDoAACQk1AEAICGhDgAACQl1AABISKgDAEBCQh0AABIS6gAAkJBQBwCAhIQ6AAAk\n",
       "JNQBACAhoQ4AAAkJdQAASEioAwBAQkIdAAASEuoAAJCQUAcAgISEOgAAJCTUAQAgIaEOAAAJCXUA\n",
       "AEhIqAMAQEJCHQAAEhLqAACQkFAHAICEhDoAACQk1AEAICGhDgAACQl1AABISKgDAEBCQh0AABIS\n",
       "6gAAkJBQBwCAhIQ6AAAkJNQBACAhoQ4AAAkJdQAASEioAwBAQkIdAAASEuoAAJCQUAcAgISEOgAA\n",
       "JCTUAQAgIaEOAAAJCXUAAEhIqAMAQEJCHQAAEhLqAACQkFAHAICEhDoAACQk1AEAICGhDgAACQl1\n",
       "AABISKgDAEBCQh0AABIS6gAAkJBQBwCAhIQ6AAAkJNQBACAhoQ4AAAkJdQAASEioAwBAQkIdAAAS\n",
       "EuoAAJCQUAcAgISEOgAAJCTUAQAgIaEOAAAJCXUAAEhIqAMAQEJCHQAAEhLqAACQkFAHAICEhDoA\n",
       "ACQk1AEAICGhDgAACQl1AABISKgDAEBCQh0AABIS6gAAkJBQBwCAhIQ6AAAkJNQBACAhoQ4AAAkJ\n",
       "dQAASEioAwBAQkIdAAASEuoAAJCQUAcAgISEOgAAJCTUAQAgIaEOAAAJCXUAAEhIqAMAQEJCHQAA\n",
       "EhLqAACQkFAHAICEhDoAACQk1AEAICGhDgAACQl1AABISKgDAEBCQh0AABIS6gAAkJBQBwCAhIQ6\n",
       "AAAkJNQBACAhoQ4AAAkJdQAASEioAwBAQkIdAAASEuoAAJCQUAcAgISEOgAAJCTUAQAgIaEOAAAJ\n",
       "CXUAAEhIqAMAQEJCHQAAEhLqAACQkFAHAICEhDoAACQk1AEAICGhDgAACQl1AABISKgDAEBCQh0A\n",
       "ABIS6gAAkJBQBwCAhIQ6AAAkJNQBACAhoQ4AAAkJdQAASEioAwBAQkIdAAASEuoAAJCQUAcAgISE\n",
       "OgAAJCTUAQAgIaEOAAAJCXUAAEhIqAMAQEJCHQAAEhLqAACQkFAHAICEhDoAACQk1AEAICGhDgAA\n",
       "CQl1AABISKgDAEBCQh0AABIS6gAAkJBQBwCAhIQ6AAAkJNQBACAhoQ4AAAkJdQAASEioAwBAQkId\n",
       "AAASEuoAAJCQUAcAgISEOgAAJCTUAQAgIaEOAAAJCXUAAEhIqAMAQEJCHQAAEhLqAACQkFAHAICE\n",
       "hDoAACQk1AEAICGhDgAACQl1AABISKgDAEBCQh0AABIS6gAAkJBQBwCAhIQ6AAAkJNQBACAhoQ4A\n",
       "AAkJdQAASEioAwBAQkIdAAASEuoAAJCQUAcAgISEOgAAJCTUAQAgIaEOAAAJCXUAAEhIqAMAQEJC\n",
       "HQAAEhLqAACQkFAHAICEhDoAACQk1AEAICGhDgAACQl1AABISKgDAEBCQh0AABIS6gAAkJBQBwCA\n",
       "hIQ6AAAkJNQBACAhoQ4AAAkJdQAASEioAwBAQkIdAAASEuoAAJCQUAcAgISEOgAAJCTUAQAgIaEO\n",
       "AAAJCXUAAEhIqAMAQEJCHQAAEhLqAACQkFAHAICEhDoAACQk1AEAICGhDgAACQl1AABISKgDAEBC\n",
       "Qh0AABIS6gAAkJBQBwCAhIQ6AAAkJNQBACAhoQ4AAAkJdQAASEioAwBAQkIdAAASEuoAAJCQUAcA\n",
       "gISEOgAAJCTUAQAgIaEOAAAJCXUAAEhIqAMAQEJCHQAAEhLqAACQkFAHAICEhDoAACQk1AEAICGh\n",
       "DgAACQl1AABISKgDAEBCQh0AABIS6gAAkJBQBwCAhIQ6AAAkJNQBACAhoQ4AAAkJdQAASEioAwBA\n",
       "QkIdAAASEuoAAJCQUAcAgISEOgAAJCTUAQAgIaEOAAAJCXUAAEhIqAMAQEJCHQAAEhLqAACQkFAH\n",
       "AICEhDoAACQk1AEAICGhDgAACQl1AABISKgDAEBCQh0AABIS6gAAkJBQBwCAhIQ6AAAkJNQBACAh\n",
       "oQ4AAAkJdQAASEioAwBAQkIdAAASEuoAAJCQUAcAgISEOgAAJCTUAQAgIaEOAAAJCXUAAEhIqAMA\n",
       "QEJCHQAAEhLqAACQkFAHAICEhDoAACQk1AEAICGhDgAACQl1AABISKgDAEBCQh0AABIS6gAAkJBQ\n",
       "BwCAhIQ6AAAkJNQBACAhoQ4AAAkJdQAASEioAwBAQkIdAAASEuoAAJCQUAcAgISEOgAAJCTUAQAg\n",
       "IaEOAAAJCXUAAEhIqAMAQEJCHQAAEhLqAACQkFAHAICEhDoAACQk1AEAICGhDgAACQl1AABISKgD\n",
       "AEBCQh0AABIS6gAAkJBQBwCAhI6WHgDr9L/8r7/1u1yu6yIiumkHU1Bt491Vq/sFy+qj3+mZsDa1\n",
       "7dfu4/3f/7d3ngiZlTPqUEiLMdt1be4X5NDd+hlrSdfgPsEyhDpp1RSINY11Vzf71NZ+QS7bn7H2\n",
       "wramfapprKyNUCelmsK3prHuxFl0WMDXWGzqx66mAK5prKyJUCedmiKxprHuousiOmfRYSHd9j9N\n",
       "/fjVtD81jZW1EOowUouR3tL+QL1aC8bW9gfmY9UXUqklFmsZ5y5uXkDb2J/WzBE4da3QsRZddN32\n",
       "jmnj/tnuT/59qWWcrIVQJ41a4reWce6ipX2p0fMRPs99sx3H02UiXJawvf/bCcdaIriWcbIGQp0c\n",
       "KgnGlsK2pX3J7uEgz3bsnx7PYzEvZubQUjjWsi9dRNc/9/4VJifUSSFbsjyunpE+RaRP5/sob+k4\n",
       "f78vDwV8/girUS2Bu4suaijgOkZJ64Q6i6slGlv4MJT56GW1HeVD3N1v8T6Vduatd10N+9DSmyNq\n",
       "JdRZVF2Rnn+cT2lhHzK4G+eO5+Pux/tN7QiffbQyb72WCK5lnLRKqMMzWgjcFvZhKcK8lJtjd/+M\n",
       "uwgao4WAbGEfYFrWUWcxNcRjDWN8Tgv7MLeuu/n7+iveHcPSbo7r3ePN7lpYn7yGfahhjLTKGXUW\n",
       "UUM81jDG57SwD3Nx5nxJt8+2O9M+TAtnpWvYh+7OYxPmItThAdUHbvdtJuvCA8lNnGck2of7GroR\n",
       "FS9TUkOsw/yEOgsRRVOxssvzHKNafB/tQu4xXXTRR1SxmkqtPF8wP6EO99R8Nr3msU9NnNfuerWT\n",
       "iOvTxoL0vtpXhHFWHe7zYVK4pebQrXnsU/r+Q6HU7+6HULmv5g8/1jx2KE+ow1c1h27NY5/Eg6u2\n",
       "0J57we5uvqXm4K157FCWqS8Q8fUFvs5XBpF+w/SWtbr10Wlz2W+peSpJt70vqxw7lOOMOkS9WSfS\n",
       "t5w954ZpMXfVe3a60mFDUUKd1as1dmsdd0kCnccJ9hu1xnqt44ZyhDqrVmvs1jruUgQ6uxPsW7VG\n",
       "b63jhjKEOutVaeyuOdIFOuMJ9nqjt/PjzmoJdVarxuf9tUe6QGd/N8G+TnXue4VDhiKEOqtUY/DW\n",
       "OOYS7p5Fh1LWfHa9xlivccywP6HO6tQYfTWOeV+muTC9NU+HqTF8axwz7Eeos0J1PdOvLtIFOrO7\n",
       "NR1mVQ+5GsO3ugHDXoQ6q1Lbi9LaIr379pmx9ewzmXTbZF/Vw6++WK9tvLAPoc5q1Ba9tY13H6a5\n",
       "kMcap8PUFuu1jRfGE+qsSEXP7BUNdV8CnZxWuDpMVfta1WBhNKHOKtT2YruG6R9Wc6EOazm73lX3\n",
       "k9j+fQJCnRWoLQZrG+8YzqJTl7WcXa9tH2sbLwwn1FmBep7JW490Z9Gp2xrOrtcWv1UNFgYT6jSt\n",
       "phec1gP25r5odx9Zg68T05p+GNcV6zWNFYYS6jSrpvCtaaxjmOpCW9YwFaam/atprDCMUKdhdTxz\n",
       "txzpprrQttanwtQUwNUMFAYR6jSpnheXdpnqwjqsYSpMHdwHtEio05yazuDWNNYhTHVhXVqeClPT\n",
       "ftU0VtiNUIeFtB/psDathmKr+wX5CXWaUksk1jLOIcxHh4h2563XEuu1jBN2I9RpTP5n6BZj1nx0\n",
       "uK3Veeu1RHAVg4SdCHWaUccLSHvMR4eHtDxvPT/HnVYIdZpQy1nqWsa5q9b2B8prLdZr2Z9axglP\n",
       "E+owk9aitrX9gem0Fo2t7Q/kJdSpXg3BWMMYh2htf2B6rcVtDftTwxjhaUKdBngmnpNIh7GE4/wc\n",
       "cOom1KlaDS96LYVtS/sCy2gp1uvYlxrGCI8R6lQu9zNwS2Hb0r7AsuoI3N3UsC/pBwiPEupUK/+L\n",
       "QztEOpRWQ+C2w7GmVkKdKtUQjjWMcRet7Afk00qs17AfNYwRvifUYQKtxG0r+wF5tRKQrewH5HK0\n",
       "9ABgKPE4D8c5sW7cPdN/+4Ncuui6Pnr3zcQcZ+oj1KGwFgK3hX1oWq+329NCRLawD5CLUKcq2QMy\n",
       "+/h2UcM+fPjwW1ycny09DCpwdHQcb97+FF0V8zJaCN3s+5B9fHCXUAe+qSHSr51/+SM2lx+XHgbZ\n",
       "dUdxfn4W7376OY6Pj5cezQ6EJHBDqFON7BGZfXzPqXH8/eYiNhcflh4GmXWHcbY5j79ensWbtz/H\n",
       "q9c/LD2iHdQe69nHn318cEOoQwkVRu5tmSP96uoqPv5xE+OH/WX89//l/4yzj7/E+cUfcXH1Mfp+\n",
       "s+AIyezs8FX8y5v/IS6jjw/vIy4uLuLN23cVTIWpPSa7iM6HKWBfQp0qZA7JiMwje172Yxuxjauz\n",
       "T79E32/isL+MPz7+Nf7tr/93vPr8/8WXq/PYqAEecXb0Kl5dfIi/vP0f4+zqLK4uPsb52ed496ef\n",
       "4/j4ZOnhPaPuWO8ic6fXfWxZD6EOe6ohdB+T/qTiPZuLDxFXn+LL+W/x6fJj/PzxX+K//eM/hfPp\n",
       "PObs6FW8Pn8fry8+xF/e/kP89fXfx9nmPP718izevPs5Xr/+cekhPqvrotKgFMOwL6FOejWHcB3q\n",
       "Orb95jL6zWVcbTZxFZs4ujqLt1ef4iCyn8FjDucRcXnr30+uzuKH81/jx7Nf4sezX+PXF/9V9Adn\n",
       "0V+dxZfPn+PFi1dxeHi41HB34FE9HW8kyE+owx5qfhNR89jv6yLih4g4/bo/XnfX6zIiPkQfn279\n",
       "b/U/ymsOyprHDssT6qSWPyYzj+1x+Y/rcF1EnHRdvDw5me2DgvMewZFfR/qYmb+mdK5buri8jOPL\n",
       "yziKPn6/8//U/nivOXgz/1ag5uPKGgh1GKm2+d3XWoz0/tbfR4eHcXJS4kOC3fz3cdeluGe2DT9v\n",
       "ufSF3jgcnp/H+dVVvOj7OI+IL3tvMZN6o7LeefawLKFOchmy5Xu1xm6tby7mNVOgJ4nyh2wf3ndH\n",
       "N3W8X/9MlQr2ltUZvZnfZGQ+48/aCXXSEpVTcWAfM+2UmQXO0Bd0P96nCuqbYBdODxOVU6jzzQ9r\n",
       "INRJLGfV1H02vb5xDzZiF6cK9PxfqjPe/cdT6bC+PnaDt9vuIb8l89npp2QetzdA5CTUSanhvlnE\n",
       "aiI9Iobs5xQh3XKcP6Xrpon24cG+luOfOXrr5Kw6GR0sPQCoSY3Bu9JufEZXOKi321trpN93cyzK\n",
       "HY/S22tFfQ+5uqeAwdycUSedGmM4P8fzWsmYFuZPu/2zXOIsu/nr95muUZbfUpCPM+qwoxrfQNQ4\n",
       "5gcV2YVSZ7ydPR+j5Fn2YmfXm7gLazxDXeOYYRnOqJOQZ/ASmon0AsoFeoHNJLzNOZdELLUMo7Pr\n",
       "tzkTXI7fUpCLUCeVrGdZRG+tSoRu++uqP/T4rmXd9K6z9nqd8r658KFSMhHqJCOGS/DGosRZ9GkD\n",
       "PfvUmQe/9GiCeikR7M6uR2QO3/o4q04eQp00snZLbdFb23insG8ETxPR9c/LvbsEY0TJmCkR29nf\n",
       "/EyvtljPO15n1clCqANN2SfVyode/XH+mLsrukSUivbRX3R0ff0iowDIQaiTSL6X2NrOTtc23jxK\n",
       "BnW7cf6YKaLd3POx8p6lfljW8Zr+Qg5CnRTWFjaTcAxHKXUW3bSLrZJrp5t7vgeduTfTX8jAOurw\n",
       "iNrOTne3/mQXZdZCt6b640odG99KOtRyKwiNs77fQsGunFFncbUFcUatH8PiM8eLxeMSuuu/Buvv\n",
       "/jGbfeedb7cRUfrsers/MRF5p5TUxDFkeUIdHtJ4+K7X/mfu5gn0ac4wdnf/+M7Uc8LLBLu5623q\n",
       "Irre3Qr3CHUSyBfE+Ub0uNbPppeSc8nG6bc9xINffDTJ2ul7ruxi7vqO6jojnHNafc5RsR5CnUUl\n",
       "6ZMHpB0YI+wTwmtfU33atdP3DXax3pacUexDpSzJh0nhnloCKsLZ9F2MD+3SHxLtvn24sqbH2G1d\n",
       "d/sDouV2Yp/tZfltRF51Pd5qGivMwRl1FuZZeSyR/pzxgVIu/uqKpCFKr52+z3QW89afU9cUmHxy\n",
       "nulnHYQ6i8kYMOI3mTF3RRcR3djl6cqE9drO8pZdO31cdHddRD92ORwdlkjONxWmv7AUU1+gQmt5\n",
       "QzE6tsdcq8CUFGuqlzkG11NsBl/v1p/Dr9e6dn+7Ay0T6iwo46tGxjGt05xvRkqsCLP2QL+vTLDP\n",
       "dUxFbC4Z74yMY2INTH1hERlfFDOO6SFrOJt+ex8n3dPRU2Sur153SM4xr7vIyi7bDZQb1O3t3/qn\n",
       "jFMuyqpnHzNONanlNYK2CHUglbneiORbsvHb1mcLgofXTY+YIt73CfbtMOdYirGekAXWQaizkFyn\n",
       "Jmo5S13LOMeaL1D3WbKx6FAm2uZ49x9jU6ydPnabc62bnvFsbjm1vBnJOM5EP6ishlAHUriJ1Wlf\n",
       "DMdGevk11QtubkKll2G8vc3xSzFOWW/bJWDajnWgFj5MCpVo+mz6LJE+9sON5T4o2tYXHpXY3rgv\n",
       "Oir9hUsP3MKd/2pPvY9BWBuhzuo1HcCVmP5jo+PCpEhUf4vzth5j3/ZpqaUYJ/+53e+DxpTgDQUI\n",
       "dahAy28mnt23gbv93cVHxXaZpQW7PVeVqcH2+6VKLcU4bBtdF9+9URhxVz/5f7Ybii3vG7RDqEPz\n",
       "KZXX1KEwJpT3PYve4tnzXe2772POrl+/UZjSSu/OJBx81k2os2pegDOY5k4YN51ivyUblw307oG/\n",
       "FxrJ3sE+7333zJYn2i678jzNmln1BZJrddrLpPs1a+jNMYVg7G08faWpv/Bo9qUYJ4z1fEsFltDq\n",
       "fkE7hDor114A12DyKS9DL59iycZvW23qC4/mXIpx6sNmycalbJfMhDUS6qxWDb9ObfJs+kzrpe9m\n",
       "ZBQX/5Bong/2TbFu+na73XZLA0t3n7PyZX2NxeaasY6z6t4ksVZCHZjV9Esx7mr8ko1L3v6cSkd7\n",
       "93WjQ8+ubyMtQyF30UW/+CiA9RDqkNr9aQn9LF+hvq/u0X957KzY08V6s3TfkpFcJqxrXRHmbrTv\n",
       "GewjzpIXjfX+Mvr+Mq6uLuPqahNdt3nqwjtsb9ClZ/f8h3szvAkCHiLUWaUappQ89rr6x+8f4svn\n",
       "P+YdTMSCh+vr77y/dfq+QTE8uEvEda2B/pDrfdkn2MfMXS8T6330V2dx9eVf47zfxF8vz+PgcKGX\n",
       "wpna+ODwMN799DdxdPT4fuafWlLHFB0oTahDbbqIq8svcXX+fumRzORW4O79Kj1/pLcU6PeVCfa5\n",
       "Yr2/809dfxVXX/5LbC4/RXdwPHBblekO418vzuLtu7+Nl69eLT0aYAChDgk9drbxcHMRR5uLONxc\n",
       "RGwuYnPxe/Tx1K/t23Izv/0muHfP4HkjveVAv2/fYC8Z693BQRx0XXRffwlz2F/GweYyDvurOOgv\n",
       "43BzefcbRC7af8O76Y7jcnMRv15dxPnFz/Hjj2/j4OD+16g4Yw0ZCXVWqo6Iuri4iPe//RLXM3VO\n",
       "rr7Ef/fL/xWHH/9znF9+jPPLz6sK9Yjtx/mOD1/Gy8NX8ebgNN51XZzevcDD15sr0ouvCFOPsSu7\n",
       "fLvu4Fj//n8/OT6On9+9i+Pff4/ji4s42ZzH6W//T7y++BCvLt7H6/MPcXVwOHh8Nbs4OI2/vP2H\n",
       "OOs38fFDH+dfPsebd3+K09MXSw9tIHPpWR+hzurUd6Kzj7PPv0b0l7G5+hKfPv8a//b9P8ZPH/8p\n",
       "Pm8uVvey1UXEi4PjeHVwEm9PXsRPh0fxYnN47xL3rjPoTh//odHpz6J313+N1t/9o7ixK7tsrzbs\n",
       "Q6aPxX3XdfHuzZs4+fw5Tj5/jpd9H8cf/yleX3z4Gurreum7PDiJ1xcf4i9v/yH+uvlvYnP5Jn65\n",
       "/BI//Pjn+PHN26WHN0j+ufRQ1rqeraACj33QdXP5Ma7O38fZ+fv4dPUp/nz21/j37//flZ1P3x6Z\n",
       "19HFm66LN8cn8ebHH+Lk6jAeC+w5In2yQJ/g7Hx394+IiNFnwZ+8nZHTYYbOQX/qTPyrly/j5Pg4\n",
       "jj9+jO7yMg7Pf41Xf/0/4qpb1xn1y4PTeHXxIV5fvI9/Pt8Ge785i9+vLuL8/CzevvvT1w+amv4C\n",
       "2Qh1qMom+tgu0dhHxCYi3mzOo/GPwj3oOLo4PtjEydXRA/Ntt+qL9GXWVr8+C36t+BcdLRjrR0dH\n",
       "8dObt3H08Y84OjuLo/4q+v5q0Hhqcx4RX+79b8eb8zi+Ot/+9+Y8LvtN9P1VbDZXsdms7e0+1EOo\n",
       "syo1LMs4VBcRr6KLb7NN65vbM4npI71cVGf74GnJNdO325t+3fSnYr3rIt788MO3s+utZ+lV38fv\n",
       "0cf7aHFGt7P+rItQh0SGvpG4fcnDLuL16Ys4PHzi1/q3tj8oDbvE13l4Q8MuPfQGi0xJyf/NpBG3\n",
       "p7BE7JN9XRfRX6+JP+Q6g27y6bB/cXoax0dHT775+Pb/DLjh2a8T/ZN3xfnFRRyen8dh9PEhIi53\n",
       "voUIIQy5CHWoXB/xdTrMdsWN62kgQ6L//tSHJy+7c13uGqKlLzcsvIeezd7/7HcdgX7fzZKhEWOD\n",
       "fcwHTYdMndkl7K/fyO66H6Uvt73sjvv/dYrbjhf+tu8HBwdxENsXeC/yULeHJ3YCDRhUq+VvvXBU\n",
       "7365Ab+RmDnSt1/lvtcmFtd1ZY7DVJff9bJLPT4HGTh9C2iPUGc1ss9PLzm+QWeUh2154EjKbG/I\n",
       "Wfydb3nGSN8Get7H3hj77tO0x3+5x1Xp7Q3a62LDzP6GMvv4oByhDk2a5lWs9Fnt0i+2U5x1H3P5\n",
       "W9dsLtDv2+7fuH2c6n7I/ria7iHR9mMN1kiow9otFpJlz3pOdXZ0bGi3MM1lV/tMhxl+vToeN8Ws\n",
       "5UEEPMjnTCCN3NNeSodP2f4YMuVlwFZni89Rt3L917Om/jbSbyPa6xtJy31g9Nalo9x68Lvd7q77\n",
       "MmifY/e9KDn9pcXFHaE2Qp0VyXtmarmTZq2cTd/xVif8oOnXa010X+633e7uH9+U/GKjb7c1Ys30\n",
       "m+vtv2b63cuVjevl4nWZ2x2+POacvJFgHUx9YRXW9dvjKU6pl50eUPL+2Dmoh51KHzWO0r8luP7A\n",
       "5lSP3+spK/vMM39qu6OuWPiyJX+7sfumCk+nGbQL63myW9fzOmsl1GGlplhNYpEA33V7Ay45eNZ0\n",
       "0RicNs4fv93yq9MM/rDorT93u2w5SwT9dKszAa0Q6rCw7MtGlrZECA6b8jLNGJ7ZSqolHEueZR++\n",
       "skv5bS/55qNu6/lANGQl1GGtCq92kTeGppuXXmKcmVeH2Wc1l7vbmfK45nzcFV9NJuuDBJiUUGcl\n",
       "vMjdNsW0l/K3/MyWFvyg6ZjLP3T9Ws7Olhjr0mumL/Xm79ktmf6yB0eE9gl1mldJC63CLvdF3jPz\n",
       "pbZbT6Dft+90mJz3x/BtVXr3Ncl9QeuEOixuiVeawh/UnPnVsvgHTeeaapF4msuutq2+3xuV3W/L\n",
       "4/TeFgtvL+ttAteEOixosWhbYLrAbtta4Gz6hB92vHu94avJZLVt9XF7M/hqC3xgdJfH4SK/+Vno\n",
       "AVT7m0uomVCHlcn8mjv31JiIofP1x8Zp5qM+3hzHY4llGDPfXYmHBkxAqAN7yRih0yzbKNIfMkus\n",
       "L3JWvYyMYwLqIdRZAS+Ud5ReNm6nmyw17SX5XKH711pJpI3fz8z357zTXyzTOJbjQduOlh4ATCn/\n",
       "a1reAS7xzZglLjPFnOYxx2LaSO+u/9pZf/eP8iPquuj7Ydvuuohdr7Lz9nfY6C63O2RsJcx9e8N0\n",
       "MdXjpoTcxw7244w6LGSJNxHlbzLfG40l5jSXuM4OW/22nnk3MNK3145vX2BU6ltHv7uNBMcq3yMy\n",
       "ovgqS0W3tuNt5jyw0DyhDg2Z+7V0txfvfNNepjzbPcWSglN8e+ndaC+53VqO7XyPy9l/OzXvzQET\n",
       "EuqwKkvMT5/zMgtHZ+El++aa4178tmb+ltcx25vzcbm7+X8+gdyEOqyJz6sNiMLhk0vKHLblvrm0\n",
       "1JSY7tafQ6/17KUafnAu8DlvIDmhDow0Zy3MvyLMEifTp5jiMnwMZWJ4wV9GXG+x0GVKUdfAcEKd\n",
       "xmV+cZx3bOU/ZFnmQnNOU5hqakGZsM31WF1mn8rdP7NOp1rgS5Tmf7TkenzelXlssB+hDgtI1mST\n",
       "ybabO39T+6wDX26qy3OmWh3m8dsre7m5JBvOZLIdd1gDoU6zvKiMVeOBW27M+0X28lNdnrMd3/hB\n",
       "LvsmJPnBfVCNY15e9p8jGEuow2rs+mG9iYcxUKmpMdN8WHG/g5XtWD9m/3HuvoGSH/ZdYqWgfe0+\n",
       "nFzjBqYh1GEtFllG7rnN5JtWMdc2swXic8gTZEgAACAASURBVPYZb7Zjv9yNlVwCs9ymgLyEOjBc\n",
       "qQ+S7j+SwuZbt7xG84071/HZ7Rc2u5y+33ckwNoIdWCwXAvflRvNkA4dH62119q48Q85XmWnf8z0\n",
       "5qvQZQBuE+qwAvUGwpxLN84j01jGyDT++ZftzKXOUQNDCHUgrUxReNf0Z5Uza+23CY3cLUCDhDos\n",
       "ImsZrPibGieZmsFtwxbUyXaQV/yz8U3WcUG7hDrMLF1/3Dbj2LIdh6mH08rZ9GtT70+2ozXvKjMz\n",
       "3tZAjT2MIT2hDquw44cpZ769eW6n9FiUyn6WuD8yPR5LbsVjEVon1GmYF7Fp5DmuS3yQdNz28hyz\n",
       "sobv1xL3R66zwKkG0xDHlTYJdViDkq9h1YXRLiaexlHd8djN9PtV14Hb6XjM/LMI1E2oA4PkWh+9\n",
       "vptigFnvlzzrrQNcE+pATs10eutpNt3+NdjpAIMIdSClnN00YlQ5d6ScRubs5xsRgFCnVV51mYJO\n",
       "/04jnU4LPK5okFCnSZ6vmYLHVRmOI1PwuKJFQh0AABIS6kDDnGNbB/cz0CahDgAACQl1AABISKgD\n",
       "AEBCQh1oWL/0AJiF+xlok1AHAICEhDpNcn6NKXhcleE4MgWPK1ok1GmTZ2ymMOJx1fpDcdT+tX5Q\n",
       "WIbHFQ0S6kBKOV9zlfp3Gin1fCMCEOpAVjOW07Q31XoCTrd/sx651u8moEpCHRhkvp5pptQZq8FS\n",
       "91ADhhDqsAYl62CHbfXV1cjE59SrOx67mX6/6jpwOx2PmX8WgboJdRrmVWwaeY7rLmFUOibHbS/P\n",
       "MStr+H4tcX/keqOUajANcVxpk1CHVdjtRazcS91cL5pzn8KcYntrs8T9kenxWHIrHovQOqEOM8t1\n",
       "du+eOaeFJzsOUw+nz7bDe5p6f7IdrVnvvmw7f0tjD2NIT6jDIrK+2q24RgYUiFgZZ9BxS3eQV/yz\n",
       "8U3WcUG7hDqQVrpW+2bcwFo5qz5+P3LufyN3C9AgoQ4rUG+HPD/y2j5MmGksY2Qaf7n7PtFODVDn\n",
       "qIEhhDowWKaP75UczZAIbe2s8u6m/23C7hfN80jMMxKgJUIdGG6nKtnhbPj+IylspqjLdFp6gPnG\n",
       "nev47HZSfpfT+/uOBFgboQ5rUTQSCm1sxmCd4qb22WZtsb7PeLMd++VurOCg63r4ACMJdViN8tM/\n",
       "5rBLIJachzwsSPc7WNmO9WP2H+eQaS+7XrbU5xdy3Qllp/0AtRPqNCvZ629Fajxwy415v9Dr0z9O\n",
       "t+Pb52z6kjuY/OA+qMYxLy/7zxGMJdRhAWt5Ucm2m7se93nvnz7dWd1r23Hlm56U7XAlG85ksh13\n",
       "WAOhTuMyv7LMO7biX9xe6gOlhaa2lF2Gb9jRKhHa2WJ9mX2ae9rLLpcps6HSd+/8j5Zcj8+7Mo8N\n",
       "9iPUgZGyfVNj2fEMDasSIdb3y0+F6ftSkT7t5XfYYqHLlCImgeGEOqxJpVMLSir5YcX7ly9z2Jab\n",
       "ClNqqkt/68+h13r2Ug0/OCd7aALVEuqwKvOXQLkpCLtcpvRZ9eVOC2/Prs+3rnvR2xq4rSXutzkf\n",
       "l7tT6sBdQh0aMvfLd7l54fNOU5gygKeIzimmxFxPcVn8zc1i257vcTn3LwFkPLRDqMNClvgNfvmb\n",
       "zJcE5T80O3yL08Rqfyfax0wsuRvnEzwaEhyrfI/IiOKfnyi6tR1vM+eBheYdLT0AmFLfR3Td0qN4\n",
       "Sh8ROQc497Hb5fZ2GtOOA+/7Prodd3DMsRiy/eH667/SGBfpE2x/1lWEyskdwqkHl/zYwX6cUWcF\n",
       "PIvfscAn1naLrGyrdOx/uy1/8PG28fuZ+f7cJfjnnooTqvQ7jgdtE+rAXjLG6K5jGjL2sfuZ8fiU\n",
       "NMdxmeL+nEvGMQH1EOqwMpmzYZGVXYZcVqzfMUukj7qF/W47892VeGjABIQ6LGixINj5t+wZp7+U\n",
       "vL0YsZTgiMHE1w9xjrtqOtsPpo6N9GmuMPc0lPl/NmKxSs/8xgVaJ9RhcYus4VB2azO/ki+7pOAe\n",
       "t53gm0f31V8vHzN+CwNuy+P03hYLby/rbQLXhDrNqz2MWjL31Japwmy/7S73zaP72ndZx5z3x/Bt\n",
       "VXr3Ncl9QeuEOivh2fy2YfOyl7rlZ7a085SIstsbe/mHrl9LsJcY61THd6r795mtldvSkCUqi91q\n",
       "KxwR2ifUYa0KL9OY90z4dFMtSoxzim8dLeX6C5L2386UxzXn4273bVmWEXicUIeFbV9/1/MivEQM\n",
       "DVsKcJoxPLOVVGfYS3576fBIL7/tvG8is8v7JhLWQqjDSk0x/aXki/pyyzAOX52ldAgucZb9+uz5\n",
       "klHb3/pzt8uWU3a/y14uYk1v5YHbhDqrsK6zQlO8+peeJrPr7e6yrSmqaPgAy8d1P3m0343zsqE6\n",
       "KnwnuI+WCPDSPy/D7pr1PNmt63mdtTpaegAwnz4iuqUH8aC+j+gWGdpSx2S32+37ProdDsyux2/X\n",
       "7Q297K1rfR1L6WP6UKx313/tcO07f0wq1zeVlr7tpcpwmdvNHcKpBwfFCHVIo0w0D4n+Ibe4ezSX\n",
       "jevd7L4ng47PqFgff72Bt3L9VxrzRPqgLQ8ey763O8nnJna+ZMm4zvTIgvUy9QXWbrHTZmWDZqqz\n",
       "ovvEZ+4zkuXsszrM8OvV8bgpZi0PIuBBQh2aNM2Le/mzinsMZo/tzbcMY56VXKayz/z2pddW3/12\n",
       "d73cMuO7teWpNgwsRKizGtmXQSw5vulWkyi+1sZul5rgrOeca6ZnWnqxlH33KcPa6sudTc8/7SX3\n",
       "wzX7+KAcoQ7NmnaVk1KbLH+5nLF+ff3aA2OfaS4325juuJf/oGnZyw0ywZsToC4+TAqVu/z69yYi\n",
       "NptNbDabxy/cfftj2MdWuzzX6bouDg8Pn9zMlB8Y7b9ufPxHRa9jvVtopZ9xSvzGp7/Z0IDb3e+D\n",
       "ps/+TNzfxlMby3KdZz5F3MX28d/1XXQCHqom1CGRbQMOWMEkIi4i4peIuIo+rs7P4/DiYsIRLu8g\n",
       "It6+fh0vTk+fuNSwFXQGr0DT99HvHdo3Z9enXyFmvFJTdsaE/vCbfvgKv3/6FF8uL4durF73DtzQ\n",
       "6W21/9YHWiLUWZWhIVyLPiJ+i4gv0cdJ46+yXURc/PFHvLm4iB9f//BoLA87U95H3w8N73Jrpt/E\n",
       "cI6z7KU/zzEm9oeO4bnbOO/7+GOFZ5fb22NvJFgXoQ6JHRwcxMHBYXTdYUR3EBcHJ9u/D7f/fXlw\n",
       "96xy2+fStw77q7jsr+Ly7Cwur67izevXcXT08FPZ9LE+fOrM82O49a97TbEZcqsx2VIkc0f69T9f\n",
       "b+P88EVcHF7GxeYgzvo+PkbfYLw+7SCup8N0sX1E+Xga1EKoQzK3z/ofHR3Fn3/+2/j9w2n88ftx\n",
       "XB2cxl9+OolPJ2/i4/Hb+HT8Jo4250sPeVaHm8v4+w//GFfnv0Z/eRkXHz7Ejy9fxquXLx+8/Fyx\n",
       "HjHBFJb+flTu/m2kj27y7h+TGb+uesQ+Z9LPLy7i/ceP3/79y/FV/Kc//8/x1ziNT5vz+LK5WF2o\n",
       "dxHx8uA4Xh2+itOTt3F4+qfYHL544JLOVkM2Qp3VKfuNmPP48c3bODk9jQ+/vYiL81fxy8FpfDx+\n",
       "Ex+P38Tx5mzp4c3qcHMVH0/exN+//8e4+PhP8UPfx/mnT3F+cRFvf/zxwVgeHuvjonv/D5o+ewvP\n",
       "fY5wcfucnS+zGsx22cg/+k1cRMTZ1WW8P/8S//zu38V/fvl3cXH1eXXn1Ls4iJOjl3Fy9Dpevfwp\n",
       "Xrz+2zg4fJH+sfQQbyRYG6HOStU3T/309EX8+W/+Ln7//X18/NDFeXcQ//Hoxzjo1zDh5cbh5jI+\n",
       "nryJT8dv4+Pxm/j7D/8Y55vzuLg4j4vffou3P/wQJ8fH311v6Bu00VNavp4Fz/wB0anMu676Y//H\n",
       "zT9+jogPfR8fNmfx+epT/HZwEv/80/8U9eXpfro4iIPjH+Pw5G388ObnePfj27g6+P5nJL913W8Q\n",
       "IdQhpcc+9HpwcBBv3/4UJ8en8f6347g8OI7or5YZ5Ez6zUX0l9upDH1ExEHEpjuKq+4wNgdHcdUd\n",
       "RR/n0UfEpu+jf3QpvuHTWvaZfz7ZdJiE5l9XPWLXaLu+1M11+uiP30Z3cPLApdrUR8RVRMTB9jnj\n",
       "6uD4gcelaS+QkVCHCr189SqOT/7r+O3X09hczRTqC/Xm5uoyrs4/xNXZL9HdeVMyZkDzxvr19SPa\n",
       "DPYSSzdOGemP6ro4OH4dR8evv/6aZaFCXeJmxThURaizSjUs0/jcVI3tB03/LuVX03eP/stO17jj\n",
       "8vIyfvv1JM67g9ic/xZxue8bk3Gxvu/SiS0Fe5lAjxi3rvq+t91dn1iP45PTePvuT9F1T62CssPt\n",
       "9Q/+Y1USPo3c44w/6yTUIbWn30x0XVdd+HW3vh11F4eHB3F4eBRddxTRlXrKWm7d9Gxrpu+q5Nrq\n",
       "cyzZ+MzW4vpDpxHbKWVDrvvd8LsH/7EiChiyEurArLZvPTL8NmOPpRiLrOxyO/hyRnvxLz662eii\n",
       "4xhvbevFAEsT6qxWDcs01jBFZ7Bvu5Nhv0aeJS++skueaJ8qisevq54ljfs7/9WOOqaU1DBGmIJQ\n",
       "Z+UyxOL6TP0maei9OvYDoyXmrj+w1QeiZJp4n+NM9T63MfiDpqNuZcD2xeJCHHjWS6hDck2eVY+J\n",
       "92vEO4Hxq7uUmbu+y2087aHbXzZw5lxX/euVRt/eMxtuNNJb3S9ox5BP0EBzvEhlMM2dMO4Di/uF\n",
       "5bLTNPoH/l5oJHsei7nvu2e2PNF22ZXnadZMqIMX4sVM/QLc98M//LeNzD1vc6VlsX+gj5vuMvXx\n",
       "XundmYSDz7oJdahAnlUvynt23wbu9ncXHxXe+8f2dbS2ea/duA7lMt9OOmJd9Xu3O+KufvL/bDfS\n",
       "W943aIdQZ/VajuBa9Lf+nOoWxk15LhAz18HeWBV926e9Az3DuuoP3oJnhcV5MwFCHSrR9BuK/rt/\n",
       "mORGxsVyucj+dpa90rvxOqpLHo8x9/nY6w24hTv/1Z56H4OwNlZ9AVK4Wahl2hVucizFmGfd9OdM\n",
       "8QZxziUbR9zC19uZ+GYAdiDUWUiu5QZrWQKxlnGONdeXUOVaivH+2c02v/DoZvszL9k46nZmuZmF\n",
       "1HI2PeM40w2IFRDqQCpzvRnpv74rGJXrXwtimrXT2/rCo5vb2iPQtxsoNpanbilfHAJrJtRZxFxn\n",
       "TofIOKaHtH5WPeLuPk7aTV9XZRkb3NMG+51bqjYgy6wGM53+1j/Veox3V88+ZhxnxjHRPh8mZUEZ\n",
       "n/Uyjmmdajnbe3391lZ12Ve5JRvnUE/ArkPGOyPjmFgDoQ4VanoFmFtGftxw1PVKrMYi2EsF+sgl\n",
       "G2/9Ofx6rfNmBGok1FlMxheNtQRwNcatpjjyS462Vy4R2rUvwzhUyWUbxy/ZeD2QMTc64jpMJOfP\n",
       "TcYxsQ7mqLOwtudaT2kNc9X3M36FlnJLMdazDONQpd/U5l6ysXY547ceDh7LcUYd7qnpBc1vAJ43\n",
       "PuJKT2Ppqz/TfvfMeclIH789kf6cuh5vNY0V5uCMOovKu9KKM9UtGb9u+lQru9yNp+lXjRlvyhCu\n",
       "58OmzCPn/elhxpKEOgnki+J8I3qcKTC72Xc6y5RLMX4fnMtMk5nrNzQlPmyaNepyqexs+tIDeFDO\n",
       "UbEeQh0e0keE+G3Q/t8sOs/a6U8FVnf914it3vljduU+bEp7Rn4QGBon1FmcM8L7a/0Yln79LvFh\n",
       "0fm+7Oi7W66uacoEekTpva7pGA5X19n0nBxDlufDpPCI2n69PnYN6fUquxQj31t6ycb1GvddAssR\n",
       "xPAYZ9RJIe+HSivS7gn1SZVaivEmSNtahnGokm9wa3uznIrDtjdvHshAqJNIvtKsbUpJbePNY/+5\n",
       "6/e3tbWOaJ9kWopKGqm2s9NZx5tyUKyQUAeass/La/l55+1G+1Rnu/deEabQOAAyEOqkkXX6S21n\n",
       "qWsb7xT2WTf9+vrlw7qetdMfM+2a6hH7Zraz8FnPTj8m73izjov1Eeoks+7ALEWsl4jt64iY5kz4\n",
       "d1HZdanurW03z7Gm+rdbW3Qb9csbvfVxIMlDqJOKs+qUVWLu+bTBfnMzD63UMc90mSVCt9RtOote\n",
       "q7xvLLKOi3US6iQkiEvw5uJGmaksMwX7g7fZjnKBXmY7bWjvcbIcB5JcrKMOO6oxDGoc84OK7EKp\n",
       "9c57a6ePcHPMEq2r3sRdWGOk1zhmWIYz6qTjTPAUHM9rJT8oau30p5V+o9jMG89iHIuyvIEgH2fU\n",
       "YYAaQ8ELz0NKnxF3lv22kmfPb2+ztp+9OdT3kBPDMIQz6qSU9UOltVrXbyl2r4Dy66bf/XBjjUsw\n",
       "jjXVm5Th211LBQre0hxPMhLqJJYzLGuN3lrHPdiIF9spgv32drfamh4z9W+XRof/KmKr1kjPPO60\n",
       "A2PlhDppOas+lRXE+kjTfNHRt63fjZRk66Y/p6Z11dvm2Ewh7xsI1k6ok1zOqKz17LQ3P7tYcN30\n",
       "JPE+V5TfuU2BvrM6o9LZdBhDqMNItUZvrW8ynnIWEV8i4rTv48v5eVxtNrPc7rxHsCt7gzOH8Vy3\n",
       "1Pd9dBHf/m5L5th9Wq3jhqUJdVLLH5WZx/a4/Md1F/2df/oQEZfRx8XlZRxdXi42KpZ1/Yhurwvr\n",
       "jfTc90bNx5U1EOqwh5qDt+axX7v/+vopIs6jj5MlBkMaXWwfG+30V80xWfPYYXlCnfRaCMrcch/b\n",
       "w8PDePHyZZyfnUZ3eBqbzWn8fvpT/H76p/jj5Kf4/fSnOL88XXqYJHUQEYdxEIcHB9EdHEV3cFRZ\n",
       "wNc12rp4E0F+Qh32VPMbiVrm2b9+/WOcnJzGb7+cxvmXk/jl4DQ+Hr+Nj8dv4uPJ2zi9/LT0EEnq\n",
       "ILp4cXgSr45ex4uTd3F4+nNEV9dLX70xKYRhX3U9W7Fa2WM478iel/3YXjs+Pomf//bfxIf3L+Pz\n",
       "p/dxfnga//Hoh/h0/CZOr4Q6D+u6gzg+fB0nxz/ED6//FD+++zdxVU2o1x26uYde97FlPWp5toLc\n",
       "+oioIHYfU0usd10Xb9/9FMfHx/HhfcRldPEv7/5DRH+19NBI7OD4TRyevIvXb/4cb968W3o4O6o9\n",
       "JPvspQ5VEOpUI3tMZh/fc2oa/6vXP8TxyWn89utpnH8+ieit8kJL6o/03OPPPj64IdSBb2qK9ePj\n",
       "4/j5b/4uPrw/jcvLi6WHA4WISOCGUKcq2UMy+/h2UdM+bKfC/GnpYUAhLUR69n3IPj64S6hDYTWF\n",
       "7mNa2IemjfyS0pm/jJRBWgjIFvYBchHqVEdEzsNxTszn9BojcOfhOFOfg6UHAC3qGzl12cp+QF6t\n",
       "xGMr+wG5CHWqVENA1jDGXbSyH5BPK3Fbw37UMEb4nlCnWp505yPWoTThOCfHmloJdSqX+9m3pcBt\n",
       "aV9gWS1Feg37kn6A8CihTtXyv0C0Fbgt7Qsso4aw3VUd+1LDGOExQp0GeBaek1iHseoI27Y44NRN\n",
       "qFO9GsKxhjEO0dr+wPRai/Qa9qeGMcLThDrMpLW4bW1/YDqtBWNr+wN5CXWaUEs01jLOXbW2P1Be\n",
       "a1Fby/7UMk54mlCnGZ6Ul3ET6+4AuLH9mfC8tAzHnVYIdRqT/9m5xbPQNy+Kbe0XjLP9OWgvFmt5\n",
       "41HFIGEnQp2m1BLBtYxziL5vc79gmP7Wz0JL6on0OsYJuxHqsJBWo7bV/YLntRqJre4X5CfUaU5N\n",
       "oVjTWIcwb511aXk+ek37VdNYYTdCnSZ5sl6eeeusQ6vz0evjPqBFQp2G1fGs3epZ9Qjz1mldq/PR\n",
       "r9V0hrqagcIgQp1m1RSINY11DFNhaEvLU12u1bR/NY0VhhHqNK2mJ+91xHpEy/vIGqxhqktd4VvT\n",
       "WGEooc4K1PMsvoZYb30faVnrU10iaot0zyW0TqjTvNrCsLbxjmEqDHVZw1SXiPr2sbbxwnBCnVWo\n",
       "7cm8v/Vnq5xdpw5rOIseEdFX95PY/n0CQp1VqehZvaKh7svZdXJay1n0W6ra16oGC6MJdVajtrO3\n",
       "tY13H3fPrq9jn8nqJtDXE+m1vSGpbbwwnlBnVWp7cl9TrEd8DfbtPy08EtZpO/2jtueJ/dQXvbWN\n",
       "F/Yh1Fmhup7l1xbr4ew6s7s1zWVVD7n6In1ldxAIddanxvCtccz7Mh2G6a1xmsu1OiO9vjHDfoQ6\n",
       "q1Rj+NY45hKsDsM01hroEXUGb41jhv0JdVarxuf8NQers+uUscLVXO6oc98rHDIUIdRZr0qjd+2x\n",
       "LtgZZ83TXK7VGenbD64sPQZYhlBn1WqN3lrHXYpgZ3cCfaveSK9z3FCGUGf1ao3eWsddkmDncQL9\n",
       "Rq2xW+u4oRyhDlFv4on1LcHODYF+V72xW+mwoaijpQcAKfQR0fUR0S09ksH6PqKrdOylfQuSrr91\n",
       "NByX9t36mix1d0u9kW5eOmw5ow5f1Xx2uuaxT6J3ln0d7p09dzffUnek1zt2KEuowy01B2/NY5+S\n",
       "YG+R6S1Pqzl0ax47lGfqC9xT81SSm7FH1Dj+Kd28+PfRfTs0jlE9vk5vEXFPqP0YiXS4T6izkDpD\n",
       "uAb910PbOcaPuo6Bmzc1EY5VRjf3j4B7Tm+O/uQcXOYn1OEBNZ9Vj4hvn8Oqeh9mcDv+RHsW4ny4\n",
       "Fs5Et7APUJ456iyihvnUNYzxOS3sw1yu5zvfnc/u2M3j5njfvR94XguBW8M+1DBGWiTUWUwNEVnD\n",
       "GJ/Twj7MTbTPQZzvr4V4rGEfahgjrTL1BZ5R/TSYaGMflnL3Bfr2B1EjHM8hTGkpq4V4bGEfYFpC\n",
       "nUXVEpC1jPMpVoQp4/F57RGO6213j40gK6X2lV2u1RLptYyTVgl1FldLBG/HufQo9nN3tZPKdyaB\n",
       "71/A759xj1jHcRbl82gnGuvYj3aON/US6qRQTzbWM9Kn1PLmqEa7xXtEncf++2oRMnNpKRrr2JE6\n",
       "RknrhDo59BFRQTi2FLgt7Ut2DwfWYwF/25z3zdNZ0k4k1qitSK9jX3qlTgpCnTRqCcdaxrkL89aX\n",
       "9Xyw7BLzc4yDZbQyH/1aPZFexzhZA6FOKrVEcC3j3IV567kJhrVqLRZr2Z9axslaWEcdRmptffLW\n",
       "9gfq1VostrY/MB+hTjo1BWNNY91F30f0vtwHFtJv/9PUj19N+1PTWFkLoU5KNQVwTWPdSd/gPkF6\n",
       "XyOxqR+7msK3prGyJkKdtGqKxZrGuqubfWprvyCX7c9Ye5FY0z7VNFbWRqhDIa3Geov7BTn0t37G\n",
       "WiJ8oZSu99MEAADpOKMOAAAJCXUAAEhIqAMAQEJCHQAAEhLqAACQkFAHAICEhDoAACQk1AEAICGh\n",
       "DgAACQl1AABISKgDAEBCQh0AABIS6gAAkJBQBwCAhIQ6AAAkJNQBACAhoQ4AAAkJdQAASEioAwBA\n",
       "QkIdAAASEuoAAJCQUAcAgISEOgAAJCTUAQAgIaEOAAAJCXUAAEhIqAMAQEJCHQAAEhLqAACQkFAH\n",
       "AICEhDoAACQk1AEAICGhDgAACQl1AABISKgDAEBCQh0AABIS6gAAkJBQBwCAhIQ6AAAkJNQBACAh\n",
       "oQ4AAAkJdQAASEioAwBAQkIdAAASEuoAAJCQUAcAgISEOgAAJCTUAQAgIaEOAAAJCXUAAEhIqAMA\n",
       "QEJCHQAAEhLqAACQkFAHAICEhDoAACQk1AEAICGhDgAACQl1AABISKgDAEBCQh0AABIS6gAAkJBQ\n",
       "BwCAhIQ6AAAkJNQBACAhoQ4AAAkJdQAASEioAwBAQkIdAAASEuoAAJCQUAcAgISEOgAAJCTUAQAg\n",
       "IaEOAAAJCXUAAEhIqAMAQEJCHQAAEhLqAACQkFAHAICEhDoAACQk1AEAICGhDgAACQl1AABISKgD\n",
       "AEBCQh0AABIS6gAAkJBQBwCAhIQ6AAAkJNQBACAhoQ4AAAkJdQAASEioAwBAQkIdAAASEuoAAJCQ\n",
       "UAcAgISEOgAAJCTUAQAgIaEOAAAJCXUAAEhIqAMAQEJCHQAAEhLqAACQkFAHAICEhDoAACQk1AEA\n",
       "ICGhDgAACQl1AABISKgDAEBCQh0AABIS6gAAkJBQBwCAhIQ6AAAkJNQBACAhoQ4AAAkJdQAASEio\n",
       "AwBAQkIdAAASEuoAAJCQUAcAgISEOgAAJCTUAQAgIaEOAAAJCXUAAEhIqAMAQEJCHQAAEhLqAACQ\n",
       "kFAHAICEhDoAACQk1AEAICGhDgAACQl1AABISKgDAEBCQh0AABIS6gAAkJBQBwCAhIQ6AAAkJNQB\n",
       "ACAhoQ4AAAkJdQAASEioAwBAQkIdAAASEuoAAJCQUAcAgISEOgAAJCTUAQAgIaEOAAAJCXUAAEhI\n",
       "qAMAQEJCHQAAEhLqAACQkFAHAICEhDoAACQk1AEAICGhDgAACQl1AABISKgDAEBCQh0AABIS6gAA\n",
       "kJBQBwCAhIQ6AAAkJNQBACAhoQ4AAAkJdQAASEioAwBAQkIdAAASEuoAAJCQUAcAgISEOgAAJCTU\n",
       "AQAgIaEOAAAJCXUAAEhIqAMAQEJCHQAAEhLqAACQkFAHAICEhDoAACQk1AEAICGhDgAACQl1AABI\n",
       "SKgDAEBCQh0AABIS6gAAkJBQBwCAhIQ6AAAkJNQBACAhoQ4AAAkJdQAASEioAwBAQkIdAAASEuoA\n",
       "AJCQUAcAgISEOgAAJCTUAQAgIaEOAAAJCXUAAEhIqAMAQEJCHQAAEhLqAACQkFAHAICEhDoAACQk\n",
       "1AEAICGhDgAACQl1AABISKgDAEBCQh0AABIS6gAAkJBQBwCAhIQ6AAAkJNQBACAhoQ4AAAkJdQAA\n",
       "SEioAwBAQkIdAAASEuoAAJCQUAcAgISEOgAAJCTUAQAgIaEOAAAJCXUAAEhIqAMAQEJCHQAAEhLq\n",
       "AACQkFAHAICEhDoAACQk1AEAICGhDgAACQl1AABISKgDAEBCQh0AABIS6gAAkJBQBwCAhIQ6AAAk\n",
       "JNQBACAhoQ4AAAkJdQAASEioAwBAiPppMgAAAmxJREFUQkIdAAASEuoAAJCQUAcAgISEOgAAJCTU\n",
       "AQAgIaEOAAAJCXUAAEhIqAMAQEJCHQAAEhLqAACQkFAHAICEhDoAACQk1AEAICGhDgAACQl1AABI\n",
       "SKgDAEBCQh0AABIS6gAAkJBQBwCAhIQ6AAAkJNQBACAhoQ4AAAkJdQAASEioAwBAQkIdAAASEuoA\n",
       "AJCQUAcAgISEOgAAJCTUAQAgIaEOAAAJCXUAAEhIqAMAQEJCHQAAEhLqAACQkFAHAICEhDoAACQk\n",
       "1AEAICGhDgAACQl1AABISKgDAEBCQh0AABIS6gAAkJBQBwCAhIQ6AAAkJNQBACAhoQ4AAAkJdQAA\n",
       "SEioAwBAQkIdAAASEuoAAJCQUAcAgISEOgAAJCTUAQAgIaEOAAAJCXUAAEhIqAMAQEJCHQAAEhLq\n",
       "AACQkFAHAICEhDoAACQk1AEAICGhDgAACQl1AABISKgDAEBCQh0AABIS6gAAkJBQBwCAhIQ6AAAk\n",
       "JNQBACAhoQ4AAAkJdQAASEioAwBAQkIdAAASEuoAAJCQUAcAgISEOgAAJCTUAQAgIaEOAAAJCXUA\n",
       "AEhIqAMAQEJCHQAAEhLqAACQkFAHAICEhDoAACQk1AEAICGhDgAACQl1AABISKgD8P+3W8cCAAAA\n",
       "AIP8raexoygCYEjUAQBgSNQBAGBI1AEAYEjUAQBgSNQBAGBI1AEAYEjUAQBgSNQBAGBI1AEAYEjU\n",
       "AQBgSNQBAGBI1AEAYEjUAQBgSNQBAGBI1AEAYEjUAQBgSNQBAGBI1AEAYEjUAQBgSNQBAGBI1AEA\n",
       "YEjUAQBgSNQBAGBI1AEAYEjUAQBgKJIx9w0mVShbAAAAAElFTkSuQmCC\n",
       "\" transform=\"translate(47, 292)\"/>\n",
       "</g>\n",
       "<defs>\n",
       "  <clipPath id=\"clip833\">\n",
       "    <rect x=\"960\" y=\"292\" width=\"73\" height=\"1016\"/>\n",
       "  </clipPath>\n",
       "</defs>\n",
       "<g clip-path=\"url(#clip833)\">\n",
       "<image width=\"72\" height=\"1015\" xlink:href=\"data:image/png;base64,\n",
       "iVBORw0KGgoAAAANSUhEUgAAAEgAAAP3CAYAAACPmQh6AAAI/ElEQVR4nO3dwXHbQBBFQSw5svOP\n",
       "yIFZIhyB5x3JQ3cEqle/4MWSls6fx9d98V+Pd/8An06gIFCY81ujjTpBoCBQmPNLo406QaAgUJjz\n",
       "9Xz3z/DRLCgIFAQKc0ajjTpBoCBQmMszaKVOECgIFOY8NdqoEwQKAgXPoKBOECgIFOY8z7t/ho9m\n",
       "QUGgIFCYyzlopU4QKAgUvIsFdYJAQaAw56HRRp0gUBAoOAcFdYJAQaAw18Od9MaCgkBBoOBdLKgT\n",
       "BAoCBe9iQZ0gUBAozOUctFInCBQECnPcB60sKAgUBArug4I6QaAgUPAMCuoEgYJAwWfzwYKCQEGg\n",
       "4BwU1AkCBYGCZ1BQJwgUBAo+mw/qBIGCQMFn88GCgkBBoOBdLKgTBAoCBe9iQZ0gUBAozDnexTYW\n",
       "FAQKAgXvYkGdIFDwqhHUCQIFgYKPfYIFBYGCQME5KKgTBAoChTlHo406QaAgUPAuFiwoCBQECt7F\n",
       "gjpBoCBQ8NFzUCcIFAQK7oOCOkGgIFDwK7qCBQWBgkDBu1hQJwgUBApzeRdbqRMECgIFn80HCwoC\n",
       "BYGCz+aDOkGgIFDwuVhQJwgUBArupIM6QaAgUPDZfLCgIFAQKHgXC+oEgYJAwZ10UCcIFAQKPpsP\n",
       "FhQECgIF31EM6gSBgkDB52JBnSBQECg4BwV1gkBBoOA+KFhQECgIFHwuFtQJAgWBgu8HBXWCQEGg\n",
       "4BwU1AkCBYGCP6ceLCgIFAQKzkFBnSBQ8PWXoE4QKAgUfP0lqBMECgIFX38JFhQECgIF56CgThAo\n",
       "CBRcuQZ1gkBBoOBOOqgTBAoCBe9iQZ0gUBAouJMOFhQECgIF56CgThAoCBTcBwV1gkBBoOAcFNQJ\n",
       "AgWBgj+fFSwoCBQECt7FgjpBoCBQ8C4W1AkCBYGC70kHdYJAQaDgV5UGdYJAQaDgHBTUCQIFgcJc\n",
       "flXpyoKCQEGg4HOxoE4QKAgUvIsFdYJAQaDgs/mgThAoCBS8iwV1gkBBoOBOOlhQECgIFNwHBXWC\n",
       "QEGg4DuKQZ0gUBAoOAcFdYJAQaDgc7GgThAoCBScg4I6QaAgUPDZfFAnCBR89BwsKAgUBApeNYI6\n",
       "QaAgUHDlGtQJAgWBguuOoE4QKAgUnIOCOkGgIFBwHxTUCQIFgYJzUFAnCBQECs5BQZ0gUBAozPFn\n",
       "RFcWFAQKAgXvYkGdIFAQKHgXC+oEgYJAwTkoqBMECgIF56CgThAoCBScg4I6QaAgUPB/NYI6QaAg\n",
       "UHAOCuoEgYJAwX1QUCcIFAQKnkFBnSBQECj4PYrBgoJAQaDgHBTUCQIFgYI76aBOECgIFJyDgjpB\n",
       "oCBQcA4K6gSBgkDBOSioEwQKAgXnoKBOECgIFJyDgjpBoCBQcA4K6gSBgkDBOSioEwQK/pkP6gSB\n",
       "gkDBP/NBnSBQECj471DBgoJAQaDgHBTUCQIFgYL7oKBOECgIFDyDgjpBoCBQmNu72EqdIFAQKLiT\n",
       "DhYUBAoCBe9iQZ0gUBAozO0ZtFInCBQECnNd3sU2FhQECgKFud0HrSwoCBQECqPRTp0gUBAoOAcF\n",
       "CwoCBYHC3O6DVhYUBAoCBXfSwYKCQEGg4BwULCgIFAQKc9/v/hE+mwUFgYJAwTkoWFAQKAgUnIOC\n",
       "BQWBgkBh7ts5aGNBQaAgUHAOChYUBAoCBc+gYEFBoCBQ8AwKFhQECgIFz6BgQUGgIFCYl2fQyoKC\n",
       "QEGg4BwULCgIFAQKnkHBgoJAQaAw9+vdP8Jns6AgUPDPfLCgIFAQKLhyDRYUBAoCBa8awYKCQEGg\n",
       "4F0sWFAQKAgUPIOCBQWBgkDBu1iwoCBQECjMy0FoZUFBoCBQ8C4WLCgIFAQK3sWCBQWBgkDBOShY\n",
       "UBAoCBQ8g4IFBYGCQGFe3sVWFhQECgIF56BgQUGgIFCY20NoZUFBoCBQcA4KFhQECgIF90HBgoJA\n",
       "QaDgHBQsKAgUBAqeQcGCgkBBoOB70sGCgkBBoOD3KAYLCgIFgYJ3sWBBQaAgUJjbQWhlQUGgIFBw\n",
       "DgoWFAQKAgX3QcGCgkBBoOBzsWBBQaAgUPAuFiwoCBQECp5BwYKCQEGg4HfaBwsKAgXXHcGCgkBB\n",
       "oOBVI1hQECgIFDyDggUFgYJAwa/HCRYUBAoCBeegYEFBoCBQ8AwKFhQECgIFHz0HCwoCBYGCz+aD\n",
       "BQWBgkDBu1iwoCBQECh4BgULCgIFgYLP5oMFBYGCQME5KFhQECgIFPwp42BBQaAgUPBrAoMFBYGC\n",
       "QMFn88GCgkBBoOA+KFhQECgIFLyLBQsKAgWBgnNQsKAgUBAo+BN+wYKCQEGg4F0sWFAQKAgUvIsF\n",
       "CwoCBYGCc1CwoCBQECj4flCwoCBQECh4FwsWFAQKAgW/RzFYUBAoCBScg4IFBYGCQMF9ULCgIFAQ\n",
       "KPhcLFhQECgIFLyLBQsKAgVXrsGCgkBBoOC6I1hQECgIFFx3BAsKAgWBguuOYEFBoCBQ8AwKFhQE\n",
       "CgIFfz4rWFAQKAgU/OmaYEFBoCBQcCcdLCgIFAQK7oOCBQWBgkDBOShYUBAoCBR8RzFYUBAoCBT8\n",
       "X41gQUGgIFBwHxQsKAgUBArug4IFBYGCQMF3FIMFBYGCQMG7WLCgIFAQKLiTDhYUBAoCBeegYEFB\n",
       "oCBQcCcdLCgIFAQK7qSDBQWBgkDBu1iwoCBQECh4FwsWFAQKAgWfiwULCgIFgYJ3sWBBQaAgUPAu\n",
       "FiwoCBQECj4XCxYUBAoCBe9iwYKCQEGg4E46WFAQKLjuCBYUBAoCBc+gYEFBoCBQcOUaLCgIFAQK\n",
       "zkHBgoJAQaDgz4gGCwoCBYGCc1CwoCBQECh4BgULCgIFgYJnULCgIFAQKMzLQ2hlQUGgIFBwDgoW\n",
       "FAQKAoX58QxaWVAQKAgUnIOCBQWBgkDBMyhYUBAoCBT8t/BgQUGgIFBwHxQsKAgUBAr+z2qwoCBQ\n",
       "ECg4BwULCgIFgYI76WBBQaAgUJgfd9IrCwoCBYGCd7FgQUGgIFDwLhYsKAgUBArOQcGCgkBBoDDf\n",
       "7oNWFhQECgIF56BgQUGgIFCYb99RXFlQECgIFObbOWhlQUGgIFDwDAoWFAQKAoX56056ZUFBoPAP\n",
       "38EfROHdM9kAAAAASUVORK5CYII=\n",
       "\" transform=\"translate(961, 292)\"/>\n",
       "</g>\n",
       "<g clip-path=\"url(#clip830)\">\n",
       "<text style=\"fill:#000000; fill-opacity:1; font-family:Arial,Helvetica Neue,Helvetica,sans-serif; font-size:89px; text-anchor:start;\" transform=\"rotate(0, 1068.76, 1225.58)\" x=\"1068.76\" y=\"1225.58\">25000</text>\n",
       "</g>\n",
       "<g clip-path=\"url(#clip830)\">\n",
       "<text style=\"fill:#000000; fill-opacity:1; font-family:Arial,Helvetica Neue,Helvetica,sans-serif; font-size:89px; text-anchor:start;\" transform=\"rotate(0, 1068.76, 1098.82)\" x=\"1068.76\" y=\"1098.82\">50000</text>\n",
       "</g>\n",
       "<g clip-path=\"url(#clip830)\">\n",
       "<text style=\"fill:#000000; fill-opacity:1; font-family:Arial,Helvetica Neue,Helvetica,sans-serif; font-size:89px; text-anchor:start;\" transform=\"rotate(0, 1068.76, 972.059)\" x=\"1068.76\" y=\"972.059\">75000</text>\n",
       "</g>\n",
       "<g clip-path=\"url(#clip830)\">\n",
       "<text style=\"fill:#000000; fill-opacity:1; font-family:Arial,Helvetica Neue,Helvetica,sans-serif; font-size:89px; text-anchor:start;\" transform=\"rotate(0, 1068.76, 845.297)\" x=\"1068.76\" y=\"845.297\">100000</text>\n",
       "</g>\n",
       "<g clip-path=\"url(#clip830)\">\n",
       "<text style=\"fill:#000000; fill-opacity:1; font-family:Arial,Helvetica Neue,Helvetica,sans-serif; font-size:89px; text-anchor:start;\" transform=\"rotate(0, 1068.76, 718.536)\" x=\"1068.76\" y=\"718.536\">125000</text>\n",
       "</g>\n",
       "<g clip-path=\"url(#clip830)\">\n",
       "<text style=\"fill:#000000; fill-opacity:1; font-family:Arial,Helvetica Neue,Helvetica,sans-serif; font-size:89px; text-anchor:start;\" transform=\"rotate(0, 1068.76, 591.774)\" x=\"1068.76\" y=\"591.774\">150000</text>\n",
       "</g>\n",
       "<g clip-path=\"url(#clip830)\">\n",
       "<text style=\"fill:#000000; fill-opacity:1; font-family:Arial,Helvetica Neue,Helvetica,sans-serif; font-size:89px; text-anchor:start;\" transform=\"rotate(0, 1068.76, 465.012)\" x=\"1068.76\" y=\"465.012\">175000</text>\n",
       "</g>\n",
       "<g clip-path=\"url(#clip830)\">\n",
       "<text style=\"fill:#000000; fill-opacity:1; font-family:Arial,Helvetica Neue,Helvetica,sans-serif; font-size:89px; text-anchor:start;\" transform=\"rotate(0, 1068.76, 338.25)\" x=\"1068.76\" y=\"338.25\">200000</text>\n",
       "</g>\n",
       "<polyline clip-path=\"url(#clip830)\" style=\"stroke:#000000; stroke-linecap:round; stroke-linejoin:round; stroke-width:4; stroke-opacity:1; fill:none\" points=\"\n",
       "  1032.76,1307.63 1032.76,1199.99 1056.76,1199.99 1032.76,1199.99 1032.76,1073.22 1056.76,1073.22 1032.76,1073.22 1032.76,946.463 1056.76,946.463 1032.76,946.463 \n",
       "  1032.76,819.701 1056.76,819.701 1032.76,819.701 1032.76,692.94 1056.76,692.94 1032.76,692.94 1032.76,566.178 1056.76,566.178 1032.76,566.178 1032.76,439.416 \n",
       "  1056.76,439.416 1032.76,439.416 1032.76,312.654 1056.76,312.654 1032.76,312.654 1032.76,292.372 \n",
       "  \"/>\n",
       "<defs>\n",
       "  <clipPath id=\"clip834\">\n",
       "    <rect x=\"1247\" y=\"292\" width=\"747\" height=\"1016\"/>\n",
       "  </clipPath>\n",
       "</defs>\n",
       "<path clip-path=\"url(#clip834)\" d=\"\n",
       "M1404.79 958.031 L1404.79 958.031 L1404.79 641.969 L1835.21 641.969 L1835.21 641.969 L1835.21 958.031 L1404.79 958.031  Z\n",
       "  \" fill=\"#ffffff\" fill-rule=\"evenodd\" fill-opacity=\"1\"/>\n",
       "<g clip-path=\"url(#clip834)\">\n",
       "<image width=\"746\" height=\"1015\" xlink:href=\"data:image/png;base64,\n",
       "iVBORw0KGgoAAAANSUhEUgAAAuoAAAP3CAYAAAB6WGtXAAAgAElEQVR4nOzdW5rrRpam6X8ZQPpJ\n",
       "Sm1JEZXRnVWdV1FPj6CH1IOqIdUg+iKfyszKyAgdQvLtThKw1RcgnfQzDyCxDPheyd21t+igwQAS\n",
       "P4yGBXN3AQAAAIglDd0AAAAAAK8R1AEAAICACOoAAABAQAR1AAAAICCCOgAAABAQQR0AAAAIiKAO\n",
       "AAAABERQBwAAAAIiqAMAAAABEdQBAACAgAjqAAAAQEAEdQAAACAggjoAAAAQEEEdAAAACIigDgAA\n",
       "AAREUAcAAAACIqgDAAAAARHUAQAAgIAI6gAAAEBABHUAAAAgIII6AAAAEBBBHQAAAAiIoA4AAAAE\n",
       "RFAHAAAAAiKoAwAAAAER1AEAAICACOoAAABAQAR1AAAAICCCOgAAABAQQR0AAAAIiKAOAAAABERQ\n",
       "BwAAAAIiqAMAAAABEdQBAACAgAjqAAAAQEAEdQAAACAggjoAAAAQEEEdAAAACIigDgAAAAREUAcA\n",
       "AAACIqgDAAAAARHUAQAAgIAI6gAAAEBABHUAAAAgIII6AAAAEBBBHQAAAAiIoA4AAAAERFAHAAAA\n",
       "AiKoAwAAAAER1AEAAICACOoAAABAQAR1AAAAICCCOgAAABAQQR0AAAAIiKAOAAAABERQBwAAAAIi\n",
       "qAMAAAABEdQBAACAgAjqAAAAQEAEdQAAACAggjoAAAAQEEEdAAAACIigDgAAAAREUAcAAAACIqgD\n",
       "AAAAARHUAQAAgIAI6gAAAEBABHUAAAAgIII6AAAAEBBBHQAAAAiIoA4AAAAERFAHAAAAAiKoAwAA\n",
       "AAER1AEAAICACOoAAABAQAR1AAAAICCCOgAAABAQQR0AAAAIiKAOAAAABERQBwAAAAIiqAMAAAAB\n",
       "EdQBAACAgAjqAAAAQEAEdQAAACAggjoAAAAQEEEdAAAACIigDgAAAAREUAcAAAACIqgDAAAAARHU\n",
       "AQAAgIAI6gAAAEBABHUAAAAgIII6AAAAEBBBHQAAAAiIoA4AAAAERFAHAAAAAiKoAwAAAAER1AEA\n",
       "AICACOoAAABAQAR1AAAAICCCOgAAABAQQR0AAAAIiKAOAAAABERQBwAAAAIiqAMAAAABEdQBAACA\n",
       "gAjqAAAAQEAEdQAAACAggjoAAAAQEEEdAAAACIigDgAAAAREUAcAAAACIqgDAAAAARHUAQAAgIAI\n",
       "6gAAAEBABHUAAAAgIII6AAAAEBBBHQAAAAiIoA4AAAAERFAHAAAAAiKoAwAAAAER1AEAAICACOoA\n",
       "AABAQAR1AAAAICCCOgAAABAQQR0AAAAIiKAOAAAABERQBwAAAAIiqAMAAAABEdQBAACAgAjqAAAA\n",
       "QEAEdQAAACAggjoAAAAQEEEdAAAACIigDgAAAAREUAcAAAACIqgDAAAAARHUAQAAgIAI6gAAAEBA\n",
       "BHUAAAAgIII6AAAAEBBBHQAAAAiIoA4AAAAERFAHAAAAAiKoAwAAAAER1AEAAICACOoAAABAQAR1\n",
       "AAAAICCCOgAAABAQQR0AAAAIiKAOAAAABERQBwAAAAIiqAMAAAABEdQBAACAgAjqAAAAQEAEdQAA\n",
       "ACAggjoAAAAQEEEdAAAACIigDgAAAAREUAcAAAACIqgDAAAAARHUAQAAgIAI6gAAAEBABHUAAAAg\n",
       "III6AAAAEBBBHQAAAAiIoA4AAAAERFAHAAAAAiKoAwAAAAER1AEAAICACOoAAABAQAR1AAAAICCC\n",
       "OgAAABAQQR0AAAAIiKAOAAAABERQBwAAAAIiqAMAAAABEdQBAACAgAjqAAAAQEAEdQAAACAggjoA\n",
       "AAAQEEEdAAAACIigDgAAAAREUAcAAAACIqgDAAAAARHUAQAAgIAI6gAAAEBABHUAAAAgIII6AAAA\n",
       "EBBBHQAAAAiIoA4AAAAERFAHAAAAAiKoAwAAAAER1AEAAICACOoAAABAQAR1AAAAICCCOgAAABAQ\n",
       "QR0AAAAIiKAOAAAABERQBwAAAAIiqAMAAAABEdQBAACAgAjqAAAAQEAEdQAAACAggjoAAAAQEEEd\n",
       "AAAACIigDgAAAAREUAcAAAACIqgDAAAAARHUAQAAgIAI6gAAAEBABHUAAAAgIII6AAAAEBBBHQAA\n",
       "AAiIoA4AAAAERFAHAAAAAiKoAwAAAAER1AEAAICACOoAAABAQAR1AAAAICCCOgAAABAQQR0AAAAI\n",
       "iKAOAAAABERQBwAAAAIiqAMAAAABEdQBAACAgAjqAAAAQEAEdQAAACAggjoAAAAQEEEdAAAACIig\n",
       "DgAAAAREUAcAAAACIqgDAAAAARHUAQAAgIAI6gAAAEBABHUAAAAgIII6AAAAEBBBHQAAAAiIoA4A\n",
       "AAAERFAHAAAAAiKoAwAAAAER1AEAAICACOoAAABAQAR1AAAAICCCOgAAABAQQR0AAAAIiKAOAAAA\n",
       "BERQBwAAAAIiqAMAAAABEdQBAACAgAjqAAAAQEAEdQAAACAggjoAAAAQEEEdAAAACIigDgAAAARE\n",
       "UAcAAAACIqgDAAAAARHUAQAAgIAI6gAAAEBABHUAAAAgIII6AAAAEBBBHQAAAAiIoA4AAAAERFAH\n",
       "AAAAAiKoAwAAAAER1AEAAICACOoAAABAQAR1AAAAICCCOgAAABAQQR0AAAAIiKAOAAAABERQBwAA\n",
       "AAIiqAMAAAABEdQBAACAgAjqAAAAQEAEdQAAACAggjoAAAAQEEEdAAAACIigDgAAAAREUAcAAAAC\n",
       "IqgDAAAAARHUAQAAgIAI6gAAAEBABHUAAAAgIII6AAAAEBBBHQAAAAiIoA4AAAAERFAHAAAAAiKo\n",
       "AwAAAAER1AEAAICACOoAAABAQAR1AAAAICCCOgAAABAQQR0AAAAIiKAOAAAABERQBwAAAAIiqAMA\n",
       "AAABEdQBAACAgAjqAAAAQEAEdQAAACAggjoAAAAQEEEdAAAACIigDgAAAAREUAcAAAACIqgDAAAA\n",
       "ARHUAQAAgIAI6gAAAEBABHUAAAAgIII6AAAAEBBBHQAAAAiIoA4AAAAERFAHAAAAAiKoAwAAAAER\n",
       "1AEAAICACOoAAABAQAR1AAAAICCCOgAAABAQQR0AAAAIiKAOAAAABERQBwAAAAIiqAMAAAABEdQB\n",
       "AACAgAjqAAAAQEAEdQAAACAggjoAAAAQEEEdAAAACIigDgAAAAREUAcAAAACIqgDAAAAARHUAQAA\n",
       "gIAI6gAAAEBABHUAAAAgIII6AAAAEBBBHQAAAAiIoA4AAAAERFAHAAAAAiKoAwAAAAER1AEAAICA\n",
       "COoAAABAQAR1AAAAICCCOgAAABAQQR0AAAAIiKAOAAAABERQBwAAAAIiqAMAAAABEdQBAACAgAjq\n",
       "AAAAQEAEdQAAACAggjoAAAAQUD10AzBN/8//+4vv8zgzSbLzNqZHpbV3X2NdL2BYLt/rnbA0pa3X\n",
       "/u39n//jC2+EuChG1IGejDHMmo1zvYAYbOc1NiY2wnUChkFQR1glBcSS2rqv7TqNa72AWLrX2PiC\n",
       "bUnrVFJbMTUEdYRUUvAtqa17YRQdGMA6LI7qZVdSAC6prZgSgjrCKSkkltTWfZhJxig6MBDr/hnV\n",
       "y6+k9SmprZgKgjpwpDGG9DGtD1CusQXGsa0PcDlUfUEopYTFUtq5j+0BdBzrMzaXCDhlVeiYCpNZ\n",
       "t2HGsX269Ym/LqW0E1NBUEcYpYTfUtq5jzGtS4k+D+GX2TZdOz5OJgSXIXTbfzzBsZQQXEo7MQUE\n",
       "dcRQSGAcU7Ad07pE93Ygj9b3H7fnvTBPmLmEMQXHUtbFJPPPzl+BsyOoI4RokeV95bT0I4T083kd\n",
       "ysfUz6/X5a0AHz+ElaiUgLsPUwkJuIxWYuwI6hhcKaFxDBdDMR+9X+MO5Yd4vt6E93MZz7x1sxLW\n",
       "YUwnRygVQR2DKiukx2/nR8awDhE8D+f05/tehvdt2iH4nGIs89ZLCcGltBNjRVAHPjGGgDuGdRgK\n",
       "wbwv2757OeJOCDrGGALkGNYBOC/qqGMwJYTHEtr4mTGsw6WZbb82t3inD/u27dfn/Y39jaE+eQnr\n",
       "UEIbMVaMqGMQJYTHEtr4mTGsw6Uwcj6k3dF2RtoPM4ZR6RLWwZ7tm8ClENSBNxQfcO1pJuvADYmN\n",
       "cB4Rof1w66ArFVympISwDlweQR0DIRSdC5VdPkcfleJ1aCfIvcdkcqmIaiql4v0Cl0dQB14oeTS9\n",
       "5LafG+G8dJtqJ9Jm2JhA+lLpFWEYVQde4mJSYEfJQbfktp/T64tCUb7nF6HipZIvfiy57UD/COrA\n",
       "WslBt+S2n8WbVVswPi8CO5t5R8mBt+S2A/1i6gsgrQ/wZR4ZCOlbTG+Zqp1Lp5nLvqPkqSTWbcsi\n",
       "2w70hxF1QOXGOkJ6h9FzbDEt5rlyR6cLbTbQK4I6Jq/UsFtqu/tEQMf7COxbpYb1UtsN9Iegjkkr\n",
       "NeyW2u6+ENCxPwJ7p9TQW2q7gX4Q1DFdhYbdKYd0AjqOR2AvN/QaL3dMFkEdk1Xi+/7UQzoBHafb\n",
       "BvZpKnPdC2wy0AuCOiapxMBbYpv78HwUHejLlEfXSwzrJbYZOB1BHZNTYugrsc2nYpoLzm/K02FK\n",
       "DL4lthk4DUEdE1TWO/3kQjoBHRe3Mx1mUrtcicG3uAYDJyGoY1JKOyhNLaTb0zVj01lnRGJdZJ/U\n",
       "7ldeWC+tvcApCOqYjNJCb2ntPQXTXBDHFKfDlBbWS2svcDyCOiakoHf2gpp6KgI6YppgdZii1rWo\n",
       "xgJHI6hjEko72E5h+gfVXFCGqYyuW3GvxPFvE4CgjgkoLQyW1t5jMIqOskxldL20dSytvcDhCOqY\n",
       "gHLeycce0hlFR9mmMLpeWvgtqrHAwQjqGLWSDjhjD7DbbTHedcQUrCemjXo3Liusl9RW4FAEdYxW\n",
       "ScG3pLYeg6kuGJcpTIUpaf1KaitwGII6RqyMd+4xh3SmumDcxj4VpqQAXExDgYMQ1DFK5Rxcxoup\n",
       "LpiGKUyFKQPbAGNEUMfolDSCW1JbD8FUF0zLmKfClLReJbUV2A9BHRjI+EM6MDVjDYpjXS8gPoI6\n",
       "RqWUkFhKOw/BfHRAGu+89VLCeintBPZDUMfIxH+HHmOYZT46sGus89ZLCcFFNBLYC0Edo1HGAWR8\n",
       "mI8OvGXM89bjo98xFgR1jEIpo9SltHNfY1sfoH9jC+ulrE8p7QQ+RlAHLmRsoXZs6wOcz9hC49jW\n",
       "B4iLoI7ilRAYS2jjIca2PsD5jS3clrA+JbQR+BhBHSPAO/ElEdKBYxEcL48OR9nqoRsAnKKEg96Y\n",
       "gm2UdXH3D/8c3bs9OHzXbr3TpdF72t54U3jr74ZjMnMVtsu+o4x1MVP4NgLvIaijcJEOwK9FCbZ9\n",
       "iLQuOWflnJ/+7Os/+yAxMkafxHa57WKWlFJ6CudmUkqVUor0AXIZAXc/JayLKf4pJvA2gjqKFWqQ\n",
       "bOQihfTN6Lm7q20aubwL6Tkr57a40XX0axPUU0qydWCvKldVVaqqpCj7cRkBdzwYVUepCOooUqTg\n",
       "+J4S2riPoddjd+Rc6gJ6blu1TaOmXXVh3fNTWHfPhPUpM5OZKVkX1FNVq65qVXWtqqrXgb0aupVr\n",
       "YwnrJaxHCW0EXiOoA2cwdLjtS4j1cNfDw1e1uZVccrma5UJtu5TnVu5Z5r7+cDuvh804Gk/Vduuv\n",
       "p79YpVTNlapaqapUVbVubu40n8+HbeiTsQTIsawHEAtBHcUJER4nIEo/b477y8Wj2mYlyeXtSp4X\n",
       "UruQKz/dF9U2MY2wAKnbM6ySV1dq01yWaplVaptGN7d3ur6+CXKhKSH3MuhnlIegDvQsSsA9RdR1\n",
       "cG+lvJTnlZSXUl7I8kLSdnqMyQO2HJfSnap1p2zydVjPV1K6kqcrKc3k3irnVm3b6ubmNshUmDGE\n",
       "yDGsAxALQR1FiRogN6K3bx9Dr0PbtlqtVus/dfPRm8WDrF0q5ZXMG/3xW9M8JeU2yduk2cw0n9mz\n",
       "kB5ioBRn9zIUNo1rsdhOgVll6W/3S7V5XabRJc9JbbPScvmoZKb51bXqOsLhcAxBN/o6RG8f8FyE\n",
       "dyYAQQwd0jdybrV4fNAmqPvqQWoXSnkh80bWmr67kb6dJ7Vt0mzmur4yXV/b0zQYSRFWBefmz36o\n",
       "aVyPj67HhStnadVKN7X0t/uVvjZZ5q18XchztehKezZto+vrG81m8wBTYQiSALYI6ihGlBD5nujt\n",
       "+0zE9q+WC3leydpuiou1jzJfSE2SN6bZlelP3yXNZ67ra9P1lenq2lTvzGQIuFro04tLElYr6XHh\n",
       "WqzD+sNCupm5bmdZf7tv9dPXr11Yr7Kyt1p5q9w2ym2rq+sbXV1dB6i5XnpYj97+6O0DtgjqQB8K\n",
       "T4ORQnrbtlouF1qtFmrblZI3miWXuUvmqi3rD98s9IdvTD/emX64M/lPf1H66XfN10F9VnfhLcYa\n",
       "4Zw2A+CbOenffPlB9uV7PS66kfXf7k33j7Wua+m6kq6Sa+EreZuefq81U+0uX3/FUHqYNMm4sBs4\n",
       "FUEdRYgUJN8St2Wfi9i3uW3UNkt5Xsq9kax9CuuVpFmSfrhb6h+/y/rxzuTtgxb/+m9q/v0/VF+Z\n",
       "qpm6kVbnwtLRM3sW1qsvP+jqn/6bvvyf/1WPV67b2vSwmulhOdMsSbPkyu5aeaMmJ7mSvK3UNEtd\n",
       "6WbQVXmt7LAe+36gZfctpoOgDpwoYtDd1+DTcd+0OXJmeV7JvVG2Rlmt5pY1M9fMXLW5vr1q9I/f\n",
       "NVL7oMVvD1r89qse//VfVHmzHRnlSDxy1v273pnrL9+rXv2n6tV/6sd/+r90+92tHpeNHpaNHpYz\n",
       "/f2hkufu19yz2ryUlNQ2lZaLx3V99QhVYLbKvasmYRg4FUEd4ZUchMsQr2+f3bPIs0xZsix5VjLJ\n",
       "vFXyVpZb1WqUfCn3xdNX8/PPSu5Po+oYLzdJZnKTTCZLWfbb3dPX9ZeZrmfp6auyJDMpuSuZK7mU\n",
       "ldd3t21f3Ql3eLHHpcvGiQTiI6gDJyj5JKK0ttuLL7XtzlejvFgpPyyVvy7lD0tZdlmW1ml9wJbj\n",
       "rJIpb4K6mfLDUr5cSW0jtY28baRcyzR7vv88eVE2JqSSA2XJbQeGR1BHaPHDZOS2vS9+v67507fu\n",
       "p0lmO/POc/sUyNQ28uVK7cNS7dellF3J12GdlDBeqZuj7snUJlN6WHYnbIvler/Y2UdUy2wd1ncH\n",
       "qouYJVVy4I38qUDJ/YopIKgDR4o5v/tzxYT0t+wcTJ9Ww13yvP3KWda0qrKryq6UJWWXcSAeBX+x\n",
       "666SyZJkqUvgvmq3X00reTetRXn9tbMTlfcqKDdUljvPHhgWQR3BxTyUlhp2Sz25OJSpe3O7NlO1\n",
       "HoFP0noqjErcdNDOAPh6R3a5FpK+DtaiYZQZeiOfZEQe8cfUEdQR1lRC5eVNp2NN0kym2kzJpCqZ\n",
       "ktLhPfDpL0ynTw/3SQA6IB+5pCxXVlY2yd2UzCUzfZXUntLMYhAqz6HMkx9MAUEdgcUMP2WPppfX\n",
       "7j6kZKotqU6VZqlSlSrZnn0xzC3lbZATVX92TcAln3e/53S52txqlVs1uVXjWUndgWym7sZF0xB5\n",
       "dPojkdvNCRBiIqgjpMkcby9kyiFdemvN3+uLMwdk2/f0YBj77iddnu8v1Lw8GXr/hME++NPURA69\n",
       "ZWJUHRER1IEDlBh4OenZsvV32/mbvvtnmBH4y+peBu+v56m161++zjbB/fX2Q3nhkhMM4BAEdYRT\n",
       "YhiOj/58qY9APYVQfoy3+uWU8L55T+DmVS8xXaNfnEQgnjR0A4BSlHgCUWKb4zOZGSH9QNs+o9/6\n",
       "Ncz1DKcpsc3AMBhRR0C8g/eBkN63IcLFZZ7zkheRbkfHL/ec48dIcH/4lAKxENQRStRRFkLvyBy0\n",
       "KS8U0Ae80PSt/bvvC0bfe86DAjsvwRGJe3JR3rx/jBlBHcFwJO4DJxZ9OG9Ajz515q0LRs8xR5wR\n",
       "9r7EDb7lYVQdcRDUEUbU3FJa6C2tvZe2z352nhBd/rzc3X7pO1jve8Fo6X14XqWF9bjtZVQdURDU\n",
       "AUzIxymv/4Befjh/z+4JYZ+hfbMNPg7sI+1UAHiBoI5A4h18SxudLq29b7vIhPBXf+4vUI83nL/n\n",
       "HKHd7K3pMEPsG6WJO0r9tqjtZfoLYiCoI4SpBZuzoA/3tttVfY2iR59zfinPQ3s/Nz7aLIcePgA5\n",
       "82RMf0EE1FEH3lHa6LTtfMc++qmFTk319/XVN9RfP1Rpd2+d3qdQwL4YUcfgSgvEEdGHn3s12eXE\n",
       "7hounNvm34P5828Xs9+888+W8Xx0k739M1GnlJSEPsTwCOrAWwi+I1TSFJfzjDDa82+vnLtEYh+B\n",
       "fWdpPSwDcZhkznQd4AWCOgKId8CN16L3MZp+qOP66pwBPcrUmTdvfHSW2umnBPYYfVWGskaEY06r\n",
       "j9kqTAdBHYMKkk/eELZhuLCp11Q/b+30PkfYUb6YoZiLSjEkgjrwQikBSmI0/bz6DtPlhPP3nLN2\n",
       "OncmPZfCRtUJxcAzBHUMrPDkMiBC+hHsxc/3HtZboi4/nL+n79C+151J99x+eKmssB5PzJF+TANB\n",
       "HYOJGGAIv1PXT7COMuf8Uvqtnc7o+rTFPKlgpB9DIagDBeKEon/91fuetr5KMX46uo4DxQzAAD7G\n",
       "DY8woIihJmKb0L/n2/nUgM1Nj17ro09e/z59PA0Rt3PENmEKGFHHICJmmohteguj6aeznf86Zbtf\n",
       "LpyfZ677JaaYnDrCvjsVhr3+VOWMqkecalLKMQLjQlAHMC3rg+0pIfu8Af1yF6C+XTddOkd4PyWw\n",
       "P5sKQ1gCMCEEdQwk1tG2lFHqUtoZlenU3jtHiI5VGeblPnaO2umnLPP0bTh1pYyqR2wnex4uj6AO\n",
       "YALs5GNsv6PoscL5R85RO72Xi0VNklM2D8C4EdSBQjCaPpT+QnXpF5z2WYaxWx6lGIcRcbQawFsI\n",
       "6pg8AjDe00uwNhvl3vU051w66ao/SjHifZxQAAR1oACcTFza6aPopY+e76vbNfuonc7o+mURgoES\n",
       "ENQBAvD0fLDJ+6/9PR2nl2KUPhxdn27XThjXIWDaCOqYtAlnKrwhbsnGvVrwxt8NE3D6qZ1OOEMn\n",
       "Yk114FII6gAm5u1AfXzQvkQFl2Of4+NfOvdUk1Oms7wf1oc+IRoXQjAQG0EdExf7oO+eXxxE/Xl4\n",
       "OVuOGbBf3LtQesEmHBvSzzOKPq4bHp1ysej5Rtb92U/3Ru6t2nalZrVSSukMz7mvntfX1V3Q/GKn\n",
       "GnYdD8X0F0wXQR2TNfhMhT24S4vHBzXNav1nV9OslNtm+5ihGndG7psTkqxuDfteS3v6edR+0Hsl\n",
       "lzh11c9RN71brh1VIeb5qHxfneSSZ7mnrj2W5c2DGs/6e7tSqmY9Pc+wnnrLTHU9U1VtD/lX1zea\n",
       "z68GadcxGPnHVBHUgeBc0mq1VLNaSHLl3MhzK8+NnoeokR3F3OXedoFqE9b7qme+/n5MOO5vFD1O\n",
       "OH9P36F9UyHm0FHyLqSZrPfR5rzex1xuLm9a5fZRlsZwaLRn/71KtSxVSqnu/rxa6ubmTlfXN4WN\n",
       "rgPTMoZ3I2A0Xk118bwO5etgnlcybyVvZbmR+4uwPrLydibvvmzzM29io55+7BP63gjEh4fkfoL1\n",
       "8BedHqfPmx0dM3f9+YiqbX+8XIRvv3x9bpfWv28mJZmSpCRXMlflWVJe3+XUut/Ni6PXLY7t3Xjd\n",
       "JbdKSrVaq2Wp1iq38pzV5lbX1zeq63F8igCMDUEdkxS1LnnTtFosHrd/kbOa5Vdp9aDULiRfqTYp\n",
       "WZanRp6b56OM8VbpRK4kqa6kuUlzM80rU5LLcyvlvD6ZeR347MXPt/60rz7CdakB/S2nVnXpliEd\n",
       "M3f9ZTe+7lWXe7dfKHdflUnzyjRP0qySXK6UWyV3VXK1L0afx+DZ+b5JTW7lbSOlWua1XFLTmPxB\n",
       "attWV1fXurq6DryfUvcd00RQB0Jxec5aLB7lnmWepbyU5Uel/CjllVKSapMqc7l1I+qmMubcH8y7\n",
       "9apNmiWpTt3PeTLVSeuQvumnfJYmUFf9ff0E9iMuGLU94nTezEPvQntS1qwyzaudkfbcKiVX69ul\n",
       "BT2HP4jvfODU/TQ1SWqz1LQrWarl639ad+Xcqm0atU2r6+trVTXRAIiCVyMQiLue5mPndqWkRimv\n",
       "ZL6S+VJJj6q9e+HWJlXVOqRr98KxoVp/HkldQK/X4bwyV21ZM7lqZVm7HlnPvh5h34a+3VH1zcnM\n",
       "Ibm57Lrql3PpuulP1xjs/Pmpt9cnbe5Z3raqvFXyVsmzarW6Wr9mmiw1LtVtq/Oc4g2vez+Rspsa\n",
       "l1p1Pxtv1Lb5Kaxnb7XKbRfY11Nh5vP50M0HIII6JitGiMo5Pwsoy8Wjlg/3atulPK90M8v643cm\n",
       "a5PUJiVP+uFuoas6q16PNCt3F8PFWKNz6CYb1+sR9Uqu9pe/abX4XavFV60WD6of72XZpdZlrUvZ\n",
       "1/OQpcpMVUo6tE7L0UG794ow5Ti2ssvT7372e2aqqmo7DT27bNV2xYFS95f564NWf/l3VdczVde1\n",
       "0izpn7/8oNt5q9t5o5t5q6yk7Ouwvj7HGxNLJqXq6ZKVJpt+/jrXY5O6UXWXfvq60m/L9ScO6aqr\n",
       "tJRqtW2z/qpUVUlR3is7lGnE9BDUMTnRBjrds/J62kbbrJTzSt7cy/NKObm8SfrjN6a5dUH9+7uk\n",
       "H+4afXPVzVeXZ6ltu8A+Vt6lqWSuWq6m/k3NLz9p9ZdftFw8KD/eq/3ld1mbt4FdUjJTSqa6qrqL\n",
       "CG2f6hbHXzR6/lF022/axwf8+bfeHVvZpfu1jy8y3cS0VCXVVslbV9U0SjnLWslcUuvSqlXzt79o\n",
       "ddMFdV8u9IcvP+r2D/+g21mrVql7Lktqso8vqFuSqiSlSjLrgvq99PP9XL89ztS4dD13/efvWX+9\n",
       "/12eGqlqlc3UpqSm2ZZyTCmF+nSIMo2YGoI6EIC7q21btW1XiaEL3w9dubhVUrsy3d2Zvtwk/XDX\n",
       "hfXvb6Uf7hbPgno3X3tcRzGXP803lruUW75tMuoAACAASURBVDX17+uw/quav/5Nfv+7ml+6sO4P\n",
       "j11YkySTkkl1VXehXUnpw9AxdMnGVwvufTzTnn+TpKNHwT98niOnw2xKMb5/ItH9P7Okuq5VrVZK\n",
       "7kru25O07LIstX//Vcs6KS8Xysulrr8s9Oc//qDsqdsxLOnid9e6BDOpqrqgniq1SuugLv10L/18\n",
       "f6WbuWtWueZ11n/+/qhF00oytWZapaS6quXuqqpKKSVKOAIDIagDA/LcjaZvvqS8ruLShZRZ5bq5\n",
       "cd1cm25upNtZo9W//H9a3T5qdbfU8nah1DbyppHarpSjfKQzbjfzz30d3H/9VfrlF+nnX1V7q2tz\n",
       "NXI1Oav1bnQ1mSu5qdqMpK8D6tvxN0JIH6a2+mYUfKP3Gx31GNbTuuCiWZZ50t31tWyxUGoaJXc9\n",
       "PCzUtK286b7yYqXlf/xV9fc/qP7yo6rvf+hGnDcXLFgaX06vKqX5Nqhrfq1/+NOf1c2gM+Uk3a+k\n",
       "Om2nlC3y+gZjnpXX89VTtZ5PBGAwBHVMSsSyjDn7U1D3vAnq0qaaS5Wk21vT7a3pbmZKt6bmf/8v\n",
       "fW1/0vXdQtY0ysuVfNk8zVcfLV9fMJq7//avX9X8/LMst5qnpG9TUpO6UcEkl7mpUtpjyssxAbm/\n",
       "UB1paoHUb830bnnH1k1/P6y7kmTdHWxvZnNVZkqrlWbuelg2uv/LL8rLRtXDQp5My7/+rHT3F9Xf\n",
       "/7jt76ewHqv/T2VVkl3NlK7qp6Cef2s1+9OfdXt7rYWb7hbS/NFk977uzW3x+d0BhJSqoVfnBco0\n",
       "YloI6kAAvi6R5jt34ew+kN/+vL5Kur02VbemdGdK//tnff23f1FqVsrLRnnRKC9WZytTGInl9ah6\n",
       "lrRqpLZRbabKTFcpyWa1KuvmMVepWo/CSnpvLP3QnNbLlJT4dyaVdqewSKeMrpqt9+pDqrt88HBb\n",
       "37ioi5iuuqp1Z/Y0Fcbc9fWX37V8WEhJ8mRS+lX273+RRj6Nw+pK6apWms9kV7Xs+kbtb63a31rp\n",
       "T3/W3Xf/TbcL092D6+ZBSvcvJ0J170e5TcpMewEGRVAHBvTWTRW7ZLKd/rJbgq6q1lNPk1Qlly8f\n",
       "5V8fpMVKWjSyxUrWZo39sJokKeupwott6kabyepas7qbk15ZpTpVH1Z8OXQ0+/TR7zIC+kvbGxRJ\n",
       "xwb2Yy40/WjqjMnW21fdSZtJN3PrLjBtW1XuelysuvKLyeSVScvVUW2PrNn9g0u5TsrX3Yh6Wsxk\n",
       "Tav2/nfl+9/V3v8u+7ZRVdXr9xNTVUlabd9z1ovZ3viX4WtgMAR1IIoPjoW7n9RvHus7R9KUpZRd\n",
       "nqXUSjOTon1g3adKm9vCr6uguCt59/ezVGmWure2zwLxpUN6tCkuxzj2jqLPl9FfWJekKlUyM5mZ\n",
       "smelWVJdtapXK82yK8uVs7849R2PVlrXSe/WsCsl79v7Mmyu7dDzE/8Pkc2BEAjqmIyI89O3Pj8q\n",
       "2quyfOv5pOuP+S1LqXVVrWtm3Yt7PGF9u/LdpYRd6cWqSkpVNwWiUlJlSVWqNKs+f2u7ZEgfQ0B/\n",
       "6eI3Ofrk8cmSZsnUru9CWqWkWVVrvlqqyVnZu7tweuvbM7iRjBRndWF9KWnlLk/dyXt3/csmqOvp\n",
       "7H7zVljuXsk8dUwHQR0Y0DEHStv5cnXVTVzdPHatS9Qlre9cqq6OeL8tON5Jz7Y5KNt6ysM6lNdV\n",
       "N5pareukJ/v85kaXC+llTnM5xDEXij7/3f7CupmptkrZTdmSsmfdXl0pZ1fTdnfdbLOvR5mlU/bI\n",
       "y2fE95+x9e417+5daF+Hc3MprS/l0Gad19tqv3ELkjAwNII6MEJpfYCeJVNl25d5P6Hx84X08+HF\n",
       "6wW8bH9t3Sj6YUH6MiF9jKPo7zllOszh5Rs/qrHeSZa6T5nWJ3VV1U2JatpWTfv8xmDPn/rEYOr7\n",
       "LuH0ALzb7lVulJ8uPAcwJgR1YKTMu+kgV1X9ZnJ+94D+Qcr+MAS8E0wPfZ5DnyNZOmha0yH5OXZI\n",
       "t72nL/jzb+dr0Ul3JN3v9/a9M6WZKXnaljs1qaorzVJ+fsnkG8t6e/Hvp/B3m/NBQz/8P3s/T/dY\n",
       "z1lN24zy3k3A1BHUMSFTPIKZqg/qIG+qcOy1pAEet/ey9g7p++8Dx4Xtc011OW259vzbkz5vbPT0\n",
       "XEdOhTksrO/3WOtqQj7z3uthn+Xt276nx32yzd5d3svfc3+/N00yN5lP7R3u809WgDEYexU3QFJf\n",
       "Uz4K9Nl6994x/Qfm3pZ12FD6Ue3otzvtqZLJufbf7l4/tu7DPrfJkdv4DNtokH2t78j8afmifp+u\n",
       "FJN9X8ekENSBEevrMtL9R8kPWGhPz7n38g545KHP3HcYPGc4f/95d0N7X8s88HqAne/7PbY//a53\n",
       "/88Z55JwAJdEUAdwUUMEwcOmvJynDZ8spfeQfIo+R9kPr7DT/7KHPPkAgFMQ1IGp6vlj/Lhh6Hzz\n",
       "0vto5xCj5/s6egrLq+Wcs19j7ne9T5OJupMAOCuCOiYi+kHusu07bNrLUM/8yZJ6no4zxF1KSxmd\n",
       "7aOt5+rfc23fT5bW35IO+QSht2eN+4yHid4+4HQEdYxeIVloEvbZFnFH5vtabjkB/aVTp8PE3B6H\n",
       "L6vQzTdKbAuMHUEdGNJgB5meL9S88NGy9wtNLzXVIvA0l311Wf20E5X9n4v99MUSe15e7KcFQFAH\n",
       "pmmA6QL7LSt42cbDH77ze4dXk4mqy+rHrc3BvzbABaP77IfDlBjt7SkBFIKgDiCMS0+Nkc5TprKv\n",
       "34vuEv0xRBnGkW4uAAUiqAMTE7n+dF/OU7aRkP6Wi4T1QUbV+zHkiSWA8hHUMQEc2p7ruWzcPkvq\n",
       "bdrLUNuSkP6R49cz8va87PSXIV6X40B/YNzqoRsAnNNEctJhgpZt3m/aS08L0qEjuns/9KjlH7H0\n",
       "zb978+ff+m+RmdwPW7aZtO+v7L38PRa6z/Me0rY+7P18pnNtwmJdelsBl0RQB3CCeGdCEab2nCek\n",
       "n1Yxxp5/WwebftPNcWH98N/5cHmKmGNjtgpAfEx9AXC0/YJjvGkv5xztPkdJwXPcvXRz19GSSiBe\n",
       "fqpJX1Nk9lgMALyBoA7gDX2G4ks+ZuDQ2XPJvkvNce/9uS58l9djlnfJ/XJ/JHoAzxHUAbwy5hHA\n",
       "/UPhwQW/e4pZw9259NQ7jz4tZ+f7ob/16aNGvHOOeNUAHImgDuBIl0wVl68IM8Rg+jmmuBzehn7C\n",
       "8IAfRmyW2NNj+kIKB3A4gjpGjoPjrl5n+PZUgeWS0xTOVQKvn2Aba18dZp362z4XnU514ZsoxdpT\n",
       "IqBHMF4EdQBnE+3wufed2i/a8OGmunymr6kw+z9fv4+7lGDNATAiBHWMVrSDeQzRpgP0Zbg2nxay\n",
       "h5/q8hnbKel43O8PuYLBO/dNY32Nnlf01xFwLII6MIDBDioXr2Jxur6mxpznYsXTOitaX7/n9Hbu\n",
       "v4A+L/YdolLQqXq7ie8ZBOsqYBII6gCO0NMR+4JH/nM81Uk3ICos9ZzS3mh9P9yTlbXNAQyPoA7g\n",
       "cH1dSHp6S3p2ubrlJbpcu2P1z34f2OwzfH9qSwBMDUEdwMFifTrfX2sOyaHHh9bS09px7T+kv/Z/\n",
       "aJw9MU5LAIwJQR1AYJcs3XgZkdpyjEjtv3zZTgC4LII6gLAihcLnzj+qHNnYPk0YyWYBMEIEdQA7\n",
       "JnynxrNMzcCuwwrqROvkCb82AAyGoA5g64L5IFoOO3dzxjKavnHu9YnWW5etMnPB5wIQGkEdwJP+\n",
       "8kGk6iB9t4UUdZohtkek/fFSSwEwBgR1jFjQw92Jd3ocXpy2D3Eh6XHLi9Nn/Tp8vYbYHrE+zAjV\n",
       "mANZ4OaHbRhwEoI6cGHFH06KC0b7OPM0juL6Yz/nX6+yOi7yXUX7UnjzgeIQ1IGJKO/eipecMH+5\n",
       "p8IBLrpd4tRbv+RyAMRGUAcQ02hy+tgj1fnWb4Q5HQAOQlAHEFLM3HREq2KuSH9GMmc/XosAgKCO\n",
       "seKoi3Mgp78ykpyOMWC/wggR1DFKvF/jHNiv+kE/4hzYrzBGBHUAAAAgIII6gBFjjG0a2M4Axomg\n",
       "DgAAAAREUAcAAAACIqgDAAAAARHUAYyYD90AXATbGcA4EdQBAACAgAjqGCXG13AO7Ff9oB9xDuxX\n",
       "GCOCOsaJd2ycwxH71dh3xaPWb+ydgmGwX2GECOoAQop5zCWpvzKSpB6vRQBAUAcQ1QWT03mfauwR\n",
       "8Hzrd9GeG/tmAlAkgjowEX3lkMvlmdEkdRxrhEm9vNchgCER1IELK/4Au8cKeHEreeYx9eL6Yz/n\n",
       "X6+yOm6v/ihrlV4pvPlAcQjqGLGghxR/+laoOG3fJxj1HSaPW16cPuvX4es1xPaIdaIUqjEH8sDN\n",
       "D9sw4CQEdQBP+jvUXeqgOcQQJoHgNENsj0j746WWAmAMCOoAti45LTxYGjl3czzaCp/o3OsTrbcu\n",
       "uvmirTyAwRDUAeyYcBo5IImNLHNfzEH9Fq6TJ/zaADAYgjqAsMJltSfHNWwso+rHr0fM9R/JZgEw\n",
       "QgR1AIF9nqBKu5gwUluOEan9/W37QCsFADsI6gAOFunyvT5bc0gIHduo8v7O/2nC/g+NsyfGaQmA\n",
       "MSGoAzjcXqlkj9Hw01vSswuFukjD0ge4XLtj9c9+g/L7DO+f2hIAU0NQB3CEnhLHBQPrOZ7qlGWW\n",
       "FtZPaW+0vh/uycra5gCGR1AHBjBYRitsPre0X0Dscx7yYYH0tM6K1tfvOb2dh0x72fexfV2/EGsj\n",
       "RL67abCuAiaBoI7R4qDylsAp4CTDtfm0oOfh91M/8U66wwbh4J37prG+Rs8r+usIOBZBHcDZRDt2\n",
       "7nswv+xB38ON6m507Yo3PSladwVrDoARIahj5DiE7uqzN/b7iH6f6QmXLMHY37SK5899es9GC+vD\n",
       "rNOlp73s85h+FtTn5o21p0RAj2C8COoAjhTtTo39tufQYNVHEHMffiqMe18h/byP32OJPT2mL4RJ\n",
       "AIcjqAN4ZeiweE59Xqz48vH9dNtwU2H6muriO98P/a1PHzXinXPEqwbgSAR1AG/oLzH0NwVhn8f0\n",
       "Pao+3LBwN7p+ubruvT7XgcsaYrtdcr/cH0kdwHMEdQBH629e+GWnKZwzAJ8jdJ5jSsxmisvgJzeD\n",
       "Lfty+yUj5QCOVQ/dAAAlc0k2dCOe6btF7i6zw5Z4zO/ssdSdwGebfw/47WffzuKYIN37iUKvS+tL\n",
       "zFYBiI+gjlFzl3rPS6XbM8leuu/2eb692rRnww8J08f0xXnC+tPSN/+GcVxIP8PyL1pFqD9nu3Ri\n",
       "AvjEAmPG1BdMAO/iz10+EewXsqJV6Tj9ecd84eOu49cz8vbsp7To/kjqx6E/MG4EdWBi+j6sRQyj\n",
       "+7bpkLYfu54R+6dPl+iXc2zPS5nG1B4A50JQBxDGIJVdDnksYf2Zi4T0o57htOce6eYCUCCCOjBF\n",
       "e0/3jTj9pc/n0xGlBI9ojNYVVo771XBcp4T08/zCpaehXP61IYbTgQkiqANDGuzAW05Jvks832HL\n",
       "O+G5A9x59FTdPZFOWYnzTze61PIu/3wD7TyF77NAyQjqGL3Sg9GYXHpqy7mC2WnLHe7Oo6c69c6l\n",
       "MbfH4csqdPONEtsCY0dQx0REfze/8EjfIY/ttWmXD+H7z4A5dArMaetyyTuPnqqPtp6rf8+1fT9Z\n",
       "Wn9LOqREZW/PGvcZDxO9fcDpCOrAVPVcuDnuSPj5plr00c5z3HW0L5u7l56+nHP2a8z9bv9lneda\n",
       "CgDjQFAHcFFDhKHDSgGepw2fLCXUCPu2LUOE9P6XHfckEgA+RlAHRuyjSHGOsoR9ZpjhyjAeXp2l\n",
       "7yA4xCj7ZvR8yFDrO9/3e2x/+l3v/p+zr9cygLIQ1DEJkx0E+2y9B6pKMUxpu4OGao9qR9/z+c8d\n",
       "2p+H836D6lHb+AzbKPR0lv2f+KJPV4rJvq9jUuqhGwBcjkuyoRtxftatqUtyc7W5Xa+2vXxY5+XB\n",
       "7o3Hbh73Ye+Zvbm8d3/nned58/E7jzVJKb0YY3DJ7PNt6+57Pe7Qx+42xPdsyzHLfc42/+7x28++\n",
       "ndXQdyr1Z5+IdP+dc35rIR8s452/fedX3l3Swc9x6PP4xbZrPFNcZ0wRQR0YITcpm6nxrEXbPP19\n",
       "P/nx84W8l/WPfZ6X7a6rSnVVPf2PJFPytGdY378fjgvrx//egc/yUaYbxGVC+j6PycqbiTTenaw2\n",
       "bbvHck7szb23Rx9z/7f/3SrLJzAGAUwRQR0Yme1outTI5d48/5/PXPbo3kd2N5kab1XlLqynZHIl\n",
       "uUnJTck+m9F32Ccrp4R1yXo6OYrNTxjVPTzc7z/VqV1PH2o8q/WsJudujL2Hs5vLnyC9/4xZrpyk\n",
       "HOmsDUAvCOpACJ+kuadssZ7rsB6yNknZpGSSW/cfrUkrW/8/Se1YLkN7mlqTZY1UWavUmOqUdD2b\n",
       "K1lWsqTkrso+Hl0/NHwfP0J+rqkwcZwyB7yPso3Zn09rWTWN2tyq9axWWVldkG3Xo+xZ2o4+j2Xa\n",
       "SJJaWbdurvVrpXsP8PVbRtb2JP5QI+ghoFgEdUxGF5jKnKe+yRPbsL4J7Otwnkw5SSmZrDK1klYy\n",
       "1SZVA7b7PExqXZazkqTUZi3bVjezmepUqbKkbEl1qj4cXb9cWN8GzDEF9ig3QHJ3td4+TQVZtSvd\n",
       "LxZauSub5Kl7jXjqTmrbV0sYzzZpJTUu5cpkSZKZzKw7id9ZT9e+F2JG7Zu49x4A+kZQB6L4fFD9\n",
       "2c/NQVgyuUltMrVJstSF+NX6YeN8kXejhcquJNcqu5rlUjdVpXldKynJ3bvgnt4/VblkWN/8funT\n",
       "YU6Z5rJdRj8hffv/pdZbZXetcqvWpIWkh83vuuQyKXUjy2OWJfn6fSCl9cmhPQ2yS9qG9A+7teB9\n",
       "FBiTcR7DgVKYbQfHn/8PSaa2ldrW1z8lT7Wqu2+U7r5RdfeNqm++kdeV0qJRvlopXzXy5vmYYaOR\n",
       "yVm+XErZZdmlLK0WK7Xuym2rNmddz2ZdlszdjyqlTbR/5ZiwLntvaXstYR2QygrsvQT07YIOeN43\n",
       "a508fW/atrtY1LvpLn5Vy2ZJWpedXFa1NKu7YsTJuhH2sUtJdjWTrmrZvJbVM7XZ1GYpb95L1g/d\n",
       "9u76XeiNfXsCPQaERVAHBmRmSqlSqrJSzpKsG/lbyy49PEr3X11fb7Lur0zzL/9Ft99Wqr6tlL6t\n",
       "pOWjlFvlRSNfrOTtyMYMu6LcTwHP3dX8/Dfl+9+kLFl2tb896Pdffpe7K7urXS51O5sp1abNP0n6\n",
       "IKwfWBHHXX5y0N5+fB95SkxfdciPCfpvPXV+UYBxsVrqfrmUmyubqbqqVf/xi66SqclZSpXq73+U\n",
       "3d6up4pJ66Hmk9YnNDMpVbJ5rTSfyetaj/dX+nrvar+68lfX46rbh7t567a+xHr9jyWlVIXeL4Gp\n",
       "IKhjUiLOUzfr6oKnlGTrAOHa/ZKWS9f9vevrlXRlrqu7O33z5/9b1U5QV26Vl628fT0Lt2guyfNT\n",
       "WHfPan/+Sc0vf1Pz809SzqpurtTMaz388rtWy0Y37sqrlW7cdXt1JfPNSGFSenPbu9wPDd79XSi6\n",
       "DcMxRtn7GD1/vrzDl/VRG1zbO6i2ysrmuvfuwukqu+qcVX/3jWbXc7lVqr//ovrLj6q++9JdeW22\n",
       "eeGdsFaBWZKlSqqSrK6Vq1q3X6+0uJ/rt69dWP+6cn396mqznsL6+pdl6/ej7ivADvkM89MxLQR1\n",
       "YHDdR84pVUqpUmtJWo//NlnrL9OykX79TUrZVWWpyqbv//TPqpSfgnrVtgdPLYhvM6KeuznplpV/\n",
       "/UnNL9uw3lz9LKsrWV2p+fl3/f6wUHZXbhq5u+5ubuSelCxLvYb10+etv27Dzh9PmmJzyLPqbPtN\n",
       "nyHdN3VLvPvv7K5srpxM7q5HSUpJtUyVm+qruXT3jfT9F+nLd7IvP6j+/gcprWvwW5KSvftJS6nc\n",
       "urCtVElVJVnS7P5Ks69Xmt3P9dt9rYeH7tO6hwfTqrXtherdLcV2gvp6AAHAIAjqwIBS6soImpla\n",
       "M83m18o5q13f0n3ZPurffn3UsslataaHpekvf5/p22vp+7vuq07rIJtbqc1yH9fUl2RSnUzmWe6u\n",
       "Sln/9F2l2/mV0nyuNL+SN1nN3+/lyeRVV+Uj5/U0mJzVNI1mVS1ZpY/rqB8f1qUzTGFxfxFX978b\n",
       "6buLfP7tbI6/+ZH0bttcT6UX86bcokmq7OlX7OZas3/8P1R/+UbVl2/UXN/pf/16o1XzrermG9XN\n",
       "t2pkyr6ua/pp3f2C7QT1xqXfF1k/3Wf9fJ+V7VrVbKY0c1mdu5I41oXyqqpU18QDIAJeiZicg+cj\n",
       "n5mZqaq6sFDXtZp6Js83at1lVslyrZ++PmjVtHpcdiUX//Jbpeuf5/r+dh3UN+Ett/KR3fWkC+rd\n",
       "VzIpKevrqtI/fVfrj/9lLptfKa+y2odGzf2/dEG96irh5Cy17mraVuZd6cpUVZ/c8uj4KS2nX2j6\n",
       "6TPslOmM6ZTR+X3Dfc5ZTW67oJ63ZRhd6i4YrZLqH/6g2R++V7q+0+zqRn/59Va//PUbVc23anc+\n",
       "rXpWDmVkumuWu/nqjXelGxdNF9az5fXUmLlS5bI6ydJMKc1U1TNVVcx4MLoPDIFPxHwlAmcXa566\n",
       "ZKqqSlVVq6pqtWklq+Zd6EuVzJLuVw96/HWp2tTVR0/Sv/08VzJ/Kqk+RklSXXUnKHWS5pXrYVnp\n",
       "67LW1+8q/dfv55qtstrHRu3jSu3jSr5Ybj7Bl2epzVnm7dMH+/VmnvIHjp7Ssh4Fn+KFeJe++VHr\n",
       "3adP2TZlCbuTNFVddZf07beaff+Pml3daHZ1q8WvN/rXv96q9U1QdzV5hCUbfftj8/W0zi413gV1\n",
       "r3JXXz7NZVWtqp5rfnWt+dW1qiriHRhI6ZgegjoQyHw+V5WSqlRpsXhQ01TKbfVUjcFz0io3qs1V\n",
       "qQvsu7NLpREE9hcjxpW55jmrTqY6df+vUaVsSdkqtVbJqu5kpqvmkTaLeVGC7uU0kj2awk2O9nLJ\n",
       "mx89FQHSWyUGtb1INHU/varUKGklU+NJq2x6zJWaLK3Wo+oe7by9J/70WjJZqtWaqVEX1mUzyWby\n",
       "NJel+frmYJuqL0O2GsAugjoQTFXXur27U1VXWiwetVou1DZdBRiTya3RMjeynFUnf5YvTBrJoNN2\n",
       "JSrvLhac59yNVLfSqnVldaHcLD1dFPjpEo/om35ucjTOwN5H6ca+yj++sj5ps/XPJkvL7FpladVK\n",
       "S09arkeZsyT5+LbPhstkXsusXp/gSrKZUrpSPbtWPb99UQFnvH0BlIagjkmKWKZxl5np+vpGdV3r\n",
       "saq0eJAa9+7j/dxI1shzoya329GvC1wgeFndmGklqZUpmyl7lsm1zNKydbWu9ejpTmh/sU1f9sgx\n",
       "ubCPO4qOKbD3E9Cl4/dXf/Vfby3JksnXn7RYqpRlWrauZe72oYWbltmU37jlWNleXnFsslxLqZZZ\n",
       "1V1kmmZKs2vNru90c3P77KLamLsoZRkxTQR1ILC6nun2tlKVKj08JDWrrmpJzs36wtHmxYSO8o9k\n",
       "nptuYrnWJRmV12X4TN2f/Gn6w/pR3WD67terherVxw2HX1TcT930aDXT99VnbfXjSza+/Ms9ftF2\n",
       "Q+v6Bj+e1vcoSHJLyjaTWR01oZ5guz6+nv6iVCmlWt10mKqrt25dGUYA8RDUgeBSSrq5vVNV11o8\n",
       "Pjz9fds2aprVU4IpP6J3crtSbh7l7UJu7fpmRa4+L/nrcvsJpRh7qeyyO0IYM7T3fuOj7UKPakev\n",
       "+7ht6qenrrpSfaOqvh7FJx4v7a5RqmrV9expPce3tsC4ENQxWdHKNH5mPr9SXc+e/Z1vhpZ7X4/h\n",
       "Oma5WOj3339Rs0zy5qtk6zniltRfWN8MsR85St57ZZc4ob3vcL5dbh8lG/tu1/YGP2am2Wyub775\n",
       "TmnQiic9rOOb84B2/vNFScoS3geZ9oKpIqhj4uLOU9+wnY/tY5ZM61fOWVU166q5WC15q52aNmd5\n",
       "zmMvGO1j7vobS30jlJwnvJ8rlPf1HGe70PTNJ9tUf7EJ3eynlHnfRTQSOIupvBsBxSpt5D++tw/6\n",
       "x1d36Wfu+j7P8bH3JucP5zx11QltAKaDoI5JIwRjV9l10+ME2EvWVcf4sTtgygjqQAHTX9CzDzb5\n",
       "qdNZhg/swzk9oEsfnnAQ2CaIjY5pI6gDBYhe9318Tp/O8hRae6kQE9exlVxeLYdh0wsrZX46MG0E\n",
       "dUweIRjv6eViUd+WFRzTKHtfwfoSF7SiVJxMAAR1oBCcUAylv4tFS73Z0UbvddVJYQMhAAOlIKgD\n",
       "mAA/OV/2W4oxTt30z5xjxLuXZTISD2ACCOoYSKyR4VJGq0tpZ1SuU6PdOUoxvhzdHOcNj7bLP3UL\n",
       "EM9PU8poesR2hmsQJoCgDmBa1sfaU0bIz1vZZVw3PNo+1yk11aXthuulOQBQBII6BhGxfnnENr2F\n",
       "UfXTbXvvtBHyy5VijDi6uJ8+a6oX2gWBlLMfRWxnxDZh/NLQDcCURXzXi9gm9O/5du4jTHJh5HN9\n",
       "9Mnr36ePpyHido7YJkwBI+pAgRhV718fF4tO+WZHG32csFCy8RzKGU0HsEVQx2AiTjUhAE9dPxeL\n",
       "ll6G8VB9Bms+mZi6mCcUEduEaSCoY2CE4mNxUnEE3/n5Qbf1V4qxnDKMh+q/pvoey/MXP7GnmOG3\n",
       "HHQehkNQB16IONL/HsL6OfVdirH80H6uKSmMop9TWSG9pLYCl0BQx6DihmLCLzrnmXf+PDxFntN+\n",
       "zhBNQMdzMfcHdlMMiaCOAOKF4ngteh+j6oc67qh7zgtFXwfWYUbcL3UR52kBndS0v8JG04duwJti\n",
       "tgrTQVAH3uKSCL8j0+/FjucdBf8oYNnm3yOW+uzbxfU7gk6AGhdnkwJvIKhjcIwIn44+/Nyritwn\n",
       "TrsarhSjF5dp+ivZuPPnk5c4dmWNNDm4QgAAFNpJREFUpsdEH2J43PAIeEdptZx95zv20c9NirjZ\n",
       "0fv66ptuGfTx/ryw3iIQA+9hRB0hxL2otCAMqO9tt6v6KsU4tdrp7+m3pvrzZZHlDkBnnYyTB0TA\n",
       "iDoCifeuWNyoemHtfdsl2v/61vT9jYr700jyVA707ruj531eC/B6O51f6RuttP0uantDNgoTxIg6\n",
       "gAn5+ODb/7zz8munv2fYmuqEKADTQFBHGFGnv5R2oWZp7b20fXJgf3cmfbbUYmqnv+e8NdWlfQJ4\n",
       "zNHXKKKOTr8nbnujtgvTQ1BHMATMPhDW+7AJEecZCX8Ves1Cba0uN1+ipvrTs+EkcUNveehIxEFQ\n",
       "RyiMquMiDtqU5w3s26d5q1LHZabLDBGWj3pO8tOIxD2xiNouTBNBHQERiPvAyUXfLhTY33zO8WAE\n",
       "/RzGt58Mh45ELFR9AfZUYsAosc3xbau6YH99V4XBRokhvcQ2A8NgRB3hMBJ8DvTnS31cMPpWWC/x\n",
       "ItG+9X0Swwnne+iTfnECgXgI6sABSjyJiDrvfwibu7dut+DLA3OfNz56Q7ALRo917gtN3wvmu9sP\n",
       "nfKCJWEYOARBHSERLvtV4glGn96OfG/1xesQ0esI+ZsXjL5lmJrrQ41c7z8C7x/8aWoIvH2jPxER\n",
       "QR2BxQyWpYbeUtt9jNZdK0kzSTO5cpZW1qptW62UlHTgyPanDx5/nx7vk/RzROGXrKxWrixN9Eqr\n",
       "UkN65HaHbRgmjqCOsBhVP5eJhHVJX90ll7JnmXfrbN5IPoUeGKl1nvIkZZNcJp/U1iRQnkPcEwhM\n",
       "HUEdwcUMlaWOTk/t5MclPUhqnv4kyUrbanhmZ+NtZupkd7VmQd8t+ldmqGQ0HTgGQR04Uqmht8ST\n",
       "jOeHUZNSklKSWZIsyepKNtt+aV7Ls3dfLq0yB+LRMluPrps8rfcN2/0yyV/sQ6ZCs1nksPuxUtsN\n",
       "DI2gjtDih8rIbXtf9H59OgHaCVTuktvmgG9SVa+/Gqmqla7mSjdzVTdz5Zv5um73+kJFgvp4mclk\n",
       "SklSMlU3c9l8trN/1FKqJHW7krut96mdnSzmy+CFckN67LOikvsVU0BQB04QPfB+JHzb7dV/yF98\n",
       "KVWynUBm85nSTRfYfT2M6v5yOBWjY13YNjOl2277p6tNWK+evl7tP8UoOUyW3HZgeAR1hBc+UBYv\n",
       "Vt+mlJRS1U1rUVKWlN26qQ0utW56XFV6XOXuq53p5tsf5d/ed1//cC/l1A3Gr0M6lbfHzdcfwZiZ\n",
       "FlbL7Gr9NZdUy1OlbJXcqq5SjCXJk3y9j3W/HHUqG/vu+XASgfgI6sCJSj6RiDjP3ixpfnWt1Wqh\n",
       "nFtJWW1eaJXVhaks/f2x1n/8WutmXut6Xusf7q51/c8/qpn9sfv65aenrdHdtZ6j8Zi51vXuTWpW\n",
       "0m8LV/33G139eiOrbvTbwtW4aeWmVTa1SkrVXMkrmVcyq7Wt8xjsBaGSd1+CMHAqgjqKED0Mx23Z\n",
       "56L2bV3P1bYrubcyZeU2a5VbJevC1kNj+o9fr3Uzq/W1cV0vTNc//Hf57I9qf/np2dRjwsL4bfbg\n",
       "ppGaR9f9wpXXQf2ne9dP965Vdq2y1GyGz6uZzGuZ1arquVIV7ZBYdtCN3fSy+xb/f3v3ttw2kqVh\n",
       "dIOgDu6eF6j3f7i5mJmL6XCXZUkk+oI62patM/+dWKvCrgqHw7EzKUKfUSloPdKuStDTUlWBsftc\n",
       "SbE+TdPdj3mzrd18dvj1qqrdvr7v93Wxq7q4rrrYTfU/X0/r61XV+dlUZ+dTnZ/9VSd//XX/5939\n",
       "xJB++BKE613V5cVS378vdXGx1OXXqf7v38vhx9elLvf7m2NUUy37wxclz5uTOjk5q9PTs5rn+WhL\n",
       "eax7SPraEHgPQp02kmLyV9Ln+5OU+TebTZ2ff6l5nutinuvq8ntdX8213x3OrU+7uf732/f6+2pX\n",
       "f1/t69tV1cl8eCrf+dlU5+dTbbc3Z5Zv/9CeLwkvsdz/a6mqi4ulLr4vdXU11Tyf1bTdVG2rlnmp\n",
       "mrY1bc5qms9qOvlSm5g4v9U/0rPnT58P7gl14E5KrE/TVKenZ7XZzHU5b+tis6mr71WHY+pT1TTX\n",
       "1+uL+vb/l/Xtuupkc5h4qqqzs7oL9fs/7xir4LMtj2J9qsurQ6hP874280kt80nt56plOql5e1bb\n",
       "k/M6Of/HTainfJCISOCeUKeVlJB8Svp8z5G0hu12W9P0pfbLUvvdrq6XXe2W/WG0zVL7fdV//+t7\n",
       "bWq5fULf6r6hPI/dRvr9Ixg3VZt91byv2iw1bU6qNie1mU9re/alzm7+702GESI9fQ3p88FjQh3e\n",
       "WVLovlbSGuZ5rn/+879qnuf69vdcV5dzLctpLfuzqv1l1eZ7Lcuubh/CeHtnnZW6+6KEw0fB4WNi\n",
       "U7U5uznuclKZHyEjBOQIa4AsQp12kiJyZEn7PE1Tffnyj5rnbX37tq3d7rr2u13td9e1311WLbvD\n",
       "M9MPT8lm1Q5PdNnU5nBXfZoOX9uwmWueT2t7enZzfOrudwcQuJ/DPtOPUIcPkBS5b5G2jtPT05rn\n",
       "uXa7Xe1217W7vq7r3XXtd9e17Pe1X/Y33+TIZ+O1mu7CfFObzaamaVPzdlvb+aS2221t5vnwzPUY\n",
       "o8TjKOuALEKdltIC8lc6zPgcaeuY57nmeVO73Vy7eVvz7rqWZTmE+s2PZXFnfc2maTp8d9vbWK+p\n",
       "5ptIP8R7xsfyOHHbYR0dZoSfCXXaSvyumqNKi/WqqeabO6ObzXT/tI9lOUKop+xJss8vpKmmQ5Rv\n",
       "No9/PeaiIRw/k72mK6FOc0nx+LO8wH29xLU8dXd0Cf+s/OQO5mztk22dvbM/ywnzh0aK9A5riR8Q\n",
       "niTUaa3DXfXEwH2txLX8KsQy46yZJ7bQzr5Vh7B9rh5r6TAjPGXz598C6VyFP9Phk549h5frEbZj\n",
       "seH0JtRpr0M4dpjxJUZbD3y80SK9w3o6zAi/J9Thk4wWt6OtBz7OaME42nogl1BnCF2iscuczzXa\n",
       "euD9jRa1XdbTZU74PaHOMFyUj+M+1r0AcO/wnnBdOg77ziiEOoPJvzqPeBf6/pPiWOuC1zm8D8aL\n",
       "xS5/8WgxJDyLUGcoXSK4y5wvsSxjrgteZnnwXhhJn0jvMSc8j1CHIxk1akddF/zZqJE46rogn1Bn\n",
       "OJ1CsdOsL+HcOusy8nn0TuvqNCs8j1BnSC7Wx+fcOusw6nn0frwGjEioM7AeV+1R76pXObfO6EY9\n",
       "j36r0x3qNoPCiwh1htUpEDvN+hqOwjCWkY+63Oq0vk6zwssIdYbW6eK9jlivGnmNrMEajrr0Ct9O\n",
       "s8JLCXVWoM9VfA2xPvoaGdnoR12qukW6awmjE+oMr1sYdpv3NRyFoZc1HHWp6rfGbvPCywl1VqHb\n",
       "xXx58POo3F2nhzXcRa+qWtq9E8d/TUCosyqNruqNRn0rd9fJtJa76A+0WmurYeHVhDqr0e3ubbd5\n",
       "3+Lx3fV1rJlU94G+nkjv9heSbvPC6wl1VqXbxX1NsV51E+yH/zryJKzT4fhHt+vE2/SL3m7zwlsI\n",
       "dVao11V+bbFe7q7z6R4cc1nVh1y/SF/ZCwRCnfXpGL4dZ34rx2H4eGs85nKrZ6T3mxneRqizSh3D\n",
       "t+PM78HTYfgYaw30qp7B23FmeDuhzmp1vOavOVjdXed9rPBpLo/0XHvDkeFdCHXWq2n0rj3WBTuv\n",
       "s+ZjLrd6RvrhC1eOPQMch1Bn1bpGb9e534tg5/kE+kHfSO85N7wPoc7qdY3ernO/J8HO0wT6va6x\n",
       "23VueD9CHapv4on1A8HOPYH+WN/YbTo2vKvtsQeACEtVTUtVTcee5MWWpWpqOvt7uwuSaXmwG/Zl\n",
       "fA++TZa6e6BvpDuXDgfuqMONznenO8/+IRZ32dfhh7vnXuYHekd639nhfQl1eKBz8Hae/SMJ9hE5\n",
       "3vJ7nUO38+zw/hx9gR90PkpyP3tVx/k/0v0n/6Wmu62xR33cHG8Rcb/RfY9EOvxIqHMkPUO4g+Vm\n",
       "ayd7/KTbGLj/S02VvUp0//oIuD9ZnNH/cDaXzyfU4Rc631Wvqruvw2q9hk/wMP5Eewpx/nIj3Ike\n",
       "YQ3w/pxR5yg6nKfuMOOfjLCGz3J73vnxeXZ79znu9/vx68CfjRC4HdbQYUZGJNQ5mg4R2WHGPxlh\n",
       "DZ9NtH8Gcf52I8RjhzV0mJFROfoCf9D+GEyNsYZjefwJ+uEXolbZz5dwpOV9jRCPI6wBPpZQ56i6\n",
       "BGSXOX/HE2Hex9Pn2qvs60OP90aQvZfuT3a51SXSu8zJqIQ6R9clgg9zHnuKt3n8tJPmiwnw8yfw\n",
       "H++4V61jn0X55xgnGnusY5z9pi+hToQ+2dhn0t/p8pejjp4X71U99/7nahEyn2WkaOyxkB5TMjqh\n",
       "ToalqhqE40iBO9Ja0v06sJ4K+Ic+87X5fZaME4kdjRXpPdayKHUiCHVidAnHLnM+h3Prx/XnYHlO\n",
       "zH/GHBzHKOfRb/WJ9B5zsgZCnShdIrjLnM/h3Ho2wbBWo8Vil/V0mZO18Bx1eKXRnk8+2nqgr9Fi\n",
       "cbT1wOcR6sTpFIydZn2OZalafHMfOJLl8M9Qb79O6+k0K2sh1InUKYA7zfosy4Brgng3kTjU265T\n",
       "+HaalTUR6sTqFIudZn2u+zWNtS7IcniPjReJndbUaVbWRqjDOxk11kdcF2RYHrzHRiJ84b1Mi3cT\n",
       "AADEcUcdAAACCXUAAAgk1AEAIJBQBwCAQEIdAAACCXUAAAgk1AEAIJBQBwCAQEIdAAACCXUAAAgk\n",
       "1AEAIJBQBwCAQEIdAAACCXUAAAgk1AEAIJBQBwCAQEIdAAACCXUAAAgk1AEAIJBQBwCAQEIdAAAC\n",
       "CXUAAAgk1AEAIJBQBwCAQEIdAAACCXUAAAgk1AEAIJBQBwCAQEIdAAACCXUAAAgk1AEAIJBQBwCA\n",
       "QEIdAAACCXUAAAgk1AEAIJBQBwCAQEIdAAACCXUAAAgk1AEAIJBQBwCAQEIdAAACCXUAAAgk1AEA\n",
       "IJBQBwCAQEIdAAACCXUAAAgk1AEAIJBQBwCAQEIdAAACCXUAAAgk1AEAIJBQBwCAQEIdAAACCXUA\n",
       "AAgk1AEAIJBQBwCAQEIdAAACCXUAAAgk1AEAIJBQBwCAQEIdAAACCXUAAAgk1AEAIJBQBwCAQEId\n",
       "AAACCXUAAAgk1AEAIJBQBwCAQEIdAAACCXUAAAgk1AEAIJBQBwCAQEIdAAACCXUAAAgk1AEAIJBQ\n",
       "BwCAQEIdAAACCXUAAAgk1AEAIJBQBwCAQEIdAAACCXUAAAgk1AEAIJBQBwCAQEIdAAACCXUAAAgk\n",
       "1AEAIJBQBwCAQEIdAAACCXUAAAgk1AEAIJBQBwCAQEIdAAACCXUAAAgk1AEAIJBQBwCAQEIdAAAC\n",
       "CXUAAAgk1AEAIJBQBwCAQEIdAAACCXUAAAgk1AEAIJBQBwCAQEIdAAACCXUAAAgk1AEAIJBQBwCA\n",
       "QEIdAAACCXUAAAgk1AEAIJBQBwCAQEIdAAACCXUAAAgk1AEAIJBQBwCAQEIdAAACCXUAAAgk1AEA\n",
       "IJBQBwCAQEIdAAACCXUAAAgk1AEAIJBQBwCAQEIdAAACCXUAAAgk1AEAIJBQBwCAQEIdAAACCXUA\n",
       "AAgk1AEAIJBQBwCAQEIdAAACCXUAAAgk1AEAIJBQBwCAQEIdAAACCXUAAAgk1AEAIJBQBwCAQEId\n",
       "AAACCXUAAAgk1AEAIJBQBwCAQEIdAAACCXUAAAgk1AEAIJBQBwCAQEIdAAACCXUAAAgk1AEAIJBQ\n",
       "BwCAQEIdAAACCXUAAAgk1AEAIJBQBwCAQEIdAAACCXUAAAgk1AEAIJBQBwCAQEIdAAACCXUAAAgk\n",
       "1AEAIJBQBwCAQEIdAAACCXUAAAgk1AEAIJBQBwCAQEIdAAACCXUAAAgk1AEAIJBQBwCAQEIdAAAC\n",
       "CXUAAAgk1AEAIJBQBwCAQEIdAAACCXUAAAgk1AEAIJBQBwCAQEIdAAACCXUAAAgk1AEAIJBQBwCA\n",
       "QEIdAAACCXUAAAgk1AEAIJBQBwCAQEIdAAACCXUAAAgk1AEAIJBQBwCAQEIdAAACCXUAAAgk1AEA\n",
       "IJBQBwCAQEIdAAACCXUAAAgk1AEAIJBQBwCAQEIdAAACCXUAAAgk1AEAIJBQBwCAQEIdAAACCXUA\n",
       "AAgk1AEAIJBQBwCAQEIdAAACCXUAAAgk1AEAIJBQBwCAQEIdAAACCXUAAAgk1AEAIJBQBwCAQEId\n",
       "AAACCXUAAAgk1AEAIJBQBwCAQEIdAAACCXUAAAgk1AEAIJBQBwCAQEIdAAACCXUAAAgk1AEAIJBQ\n",
       "BwCAQEIdAAACCXUAAAgk1AEAIJBQBwCAQEIdAAACCXUAAAgk1AEAIJBQBwCAQEIdAAACCXUAAAgk\n",
       "1AEAIJBQBwCAQEIdAAACCXUAAAgk1AEAIJBQBwCAQEIdAAACCXUAAAgk1AEAIJBQBwCAQEIdAAAC\n",
       "CXUAAAgk1AEAIJBQBwCAQEIdAAACCXUAAAgk1AEAIJBQBwCAQEIdAAACCXUAAAgk1AEAIJBQBwCA\n",
       "QEIdAAACCXUAAAgk1AEAIJBQBwCAQEIdAAACCXUAAAgk1AEAIJBQBwCAQEIdAAACCXUAAAgk1AEA\n",
       "IJBQBwCAQEIdAAACCXUAAAgk1AEAIJBQBwCAQEIdAAACCXUAAAgk1AEAIJBQBwCAQEIdAAACCXUA\n",
       "AAgk1AEAIJBQBwCAQEIdAAACCXUAAAgk1AEAIJBQBwCAQEIdAAACCXUAAAgk1AEAIJBQBwCAQEId\n",
       "AAACCXUAAAgk1AEAIJBQBwCAQEIdAAACCXUAAAgk1AEAIJBQBwCAQEIdAAACCXUAAAgk1AEAIJBQ\n",
       "BwCAQEIdAAACCXUAAAgk1AEAIJBQBwCAQEIdAAACCXUAAAgk1AEAIJBQBwCAQEIdAAACCXUAAAgk\n",
       "1AEAIJBQBwCAQEIdAAACCXUAAAgk1AEAIJBQBwCAQEIdAAACCXUAAAgk1AEAIJBQBwCAQEIdAAAC\n",
       "CXUAAAgk1AEAIJBQBwCAQEIdAAACCXUAAAgk1AEAIJBQBwCAQEIdAAACCXUAAAgk1AEAIJBQBwCA\n",
       "QEIdAAACCXUAAAgk1AEAIJBQBwCAQEIdAAACCXUAAAgk1AEAIJBQBwCAQEIdAAACCXUAAAgk1AEA\n",
       "IJBQBwCAQP8BofPa9iM3utAAAAAASUVORK5CYII=\n",
       "\" transform=\"translate(1247, 292)\"/>\n",
       "</g>\n",
       "<defs>\n",
       "  <clipPath id=\"clip835\">\n",
       "    <rect x=\"2160\" y=\"292\" width=\"73\" height=\"1016\"/>\n",
       "  </clipPath>\n",
       "</defs>\n",
       "<g clip-path=\"url(#clip835)\">\n",
       "<image width=\"72\" height=\"1015\" xlink:href=\"data:image/png;base64,\n",
       "iVBORw0KGgoAAAANSUhEUgAAAEgAAAP3CAYAAACPmQh6AAAI/ElEQVR4nO3dwXHbQBBFQSw5svOP\n",
       "yIFZIhyB5x3JQ3cEqle/4MWSls6fx9d98V+Pd/8An06gIFCY81ujjTpBoCBQmPNLo406QaAgUJjz\n",
       "9Xz3z/DRLCgIFAQKc0ajjTpBoCBQmMszaKVOECgIFOY8NdqoEwQKAgXPoKBOECgIFOY8z7t/ho9m\n",
       "QUGgIFCYyzlopU4QKAgUvIsFdYJAQaAw56HRRp0gUBAoOAcFdYJAQaAw18Od9MaCgkBBoOBdLKgT\n",
       "BAoCBe9iQZ0gUBAozOUctFInCBQECnPcB60sKAgUBArug4I6QaAgUPAMCuoEgYJAwWfzwYKCQEGg\n",
       "4BwU1AkCBYGCZ1BQJwgUBAo+mw/qBIGCQMFn88GCgkBBoOBdLKgTBAoCBe9iQZ0gUBAozDnexTYW\n",
       "FAQKAgXvYkGdIFDwqhHUCQIFgYKPfYIFBYGCQME5KKgTBAoChTlHo406QaAgUPAuFiwoCBQECt7F\n",
       "gjpBoCBQ8NFzUCcIFAQK7oOCOkGgIFDwK7qCBQWBgkDBu1hQJwgUBApzeRdbqRMECgIFn80HCwoC\n",
       "BYGCz+aDOkGgIFDwuVhQJwgUBArupIM6QaAgUPDZfLCgIFAQKHgXC+oEgYJAwZ10UCcIFAQKPpsP\n",
       "FhQECgIF31EM6gSBgkDB52JBnSBQECg4BwV1gkBBoOA+KFhQECgIFHwuFtQJAgWBgu8HBXWCQEGg\n",
       "4BwU1AkCBYGCP6ceLCgIFAQKzkFBnSBQ8PWXoE4QKAgUfP0lqBMECgIFX38JFhQECgIF56CgThAo\n",
       "CBRcuQZ1gkBBoOBOOqgTBAoCBe9iQZ0gUBAouJMOFhQECgIF56CgThAoCBTcBwV1gkBBoOAcFNQJ\n",
       "AgWBgj+fFSwoCBQECt7FgjpBoCBQ8C4W1AkCBYGC70kHdYJAQaDgV5UGdYJAQaDgHBTUCQIFgcJc\n",
       "flXpyoKCQEGg4HOxoE4QKAgUvIsFdYJAQaDgs/mgThAoCBS8iwV1gkBBoOBOOlhQECgIFNwHBXWC\n",
       "QEGg4DuKQZ0gUBAoOAcFdYJAQaDgc7GgThAoCBScg4I6QaAgUPDZfFAnCBR89BwsKAgUBApeNYI6\n",
       "QaAgUHDlGtQJAgWBguuOoE4QKAgUnIOCOkGgIFBwHxTUCQIFgYJzUFAnCBQECs5BQZ0gUBAozPFn\n",
       "RFcWFAQKAgXvYkGdIFAQKHgXC+oEgYJAwTkoqBMECgIF56CgThAoCBScg4I6QaAgUPB/NYI6QaAg\n",
       "UHAOCuoEgYJAwX1QUCcIFAQKnkFBnSBQECj4PYrBgoJAQaDgHBTUCQIFgYI76aBOECgIFJyDgjpB\n",
       "oCBQcA4K6gSBgkDBOSioEwQKAgXnoKBOECgIFJyDgjpBoCBQcA4K6gSBgkDBOSioEwQK/pkP6gSB\n",
       "gkDBP/NBnSBQECj471DBgoJAQaDgHBTUCQIFgYL7oKBOECgIFDyDgjpBoCBQmNu72EqdIFAQKLiT\n",
       "DhYUBAoCBe9iQZ0gUBAozO0ZtFInCBQECnNd3sU2FhQECgKFud0HrSwoCBQECqPRTp0gUBAoOAcF\n",
       "CwoCBYHC3O6DVhYUBAoCBXfSwYKCQEGg4BwULCgIFAQKc9/v/hE+mwUFgYJAwTkoWFAQKAgUnIOC\n",
       "BQWBgkBh7ts5aGNBQaAgUHAOChYUBAoCBc+gYEFBoCBQ8AwKFhQECgIFz6BgQUGgIFCYl2fQyoKC\n",
       "QEGg4BwULCgIFAQKnkHBgoJAQaAw9+vdP8Jns6AgUPDPfLCgIFAQKLhyDRYUBAoCBa8awYKCQEGg\n",
       "4F0sWFAQKAgUPIOCBQWBgkDBu1iwoCBQECjMy0FoZUFBoCBQ8C4WLCgIFAQK3sWCBQWBgkDBOShY\n",
       "UBAoCBQ8g4IFBYGCQGFe3sVWFhQECgIF56BgQUGgIFCY20NoZUFBoCBQcA4KFhQECgIF90HBgoJA\n",
       "QaDgHBQsKAgUBAqeQcGCgkBBoOB70sGCgkBBoOD3KAYLCgIFgYJ3sWBBQaAgUJjbQWhlQUGgIFBw\n",
       "DgoWFAQKAgX3QcGCgkBBoOBzsWBBQaAgUPAuFiwoCBQECp5BwYKCQEGg4HfaBwsKAgXXHcGCgkBB\n",
       "oOBVI1hQECgIFDyDggUFgYJAwa/HCRYUBAoCBeegYEFBoCBQ8AwKFhQECgIFHz0HCwoCBYGCz+aD\n",
       "BQWBgkDBu1iwoCBQECh4BgULCgIFgYLP5oMFBYGCQME5KFhQECgIFPwp42BBQaAgUPBrAoMFBYGC\n",
       "QMFn88GCgkBBoOA+KFhQECgIFLyLBQsKAgWBgnNQsKAgUBAo+BN+wYKCQEGg4F0sWFAQKAgUvIsF\n",
       "CwoCBYGCc1CwoCBQECj4flCwoCBQECh4FwsWFAQKAgW/RzFYUBAoCBScg4IFBYGCQMF9ULCgIFAQ\n",
       "KPhcLFhQECgIFLyLBQsKAgVXrsGCgkBBoOC6I1hQECgIFFx3BAsKAgWBguuOYEFBoCBQ8AwKFhQE\n",
       "CgIFfz4rWFAQKAgU/OmaYEFBoCBQcCcdLCgIFAQK7oOCBQWBgkDBOShYUBAoCBR8RzFYUBAoCBT8\n",
       "X41gQUGgIFBwHxQsKAgUBArug4IFBYGCQMF3FIMFBYGCQMG7WLCgIFAQKLiTDhYUBAoCBeegYEFB\n",
       "oCBQcCcdLCgIFAQK7qSDBQWBgkDBu1iwoCBQECh4FwsWFAQKAgWfiwULCgIFgYJ3sWBBQaAgUPAu\n",
       "FiwoCBQECj4XCxYUBAoCBe9iwYKCQEGg4E46WFAQKLjuCBYUBAoCBc+gYEFBoCBQcOUaLCgIFAQK\n",
       "zkHBgoJAQaDgz4gGCwoCBYGCc1CwoCBQECh4BgULCgIFgYJnULCgIFAQKMzLQ2hlQUGgIFBwDgoW\n",
       "FAQKAoX58QxaWVAQKAgUnIOCBQWBgkDBMyhYUBAoCBT8t/BgQUGgIFBwHxQsKAgUBAr+z2qwoCBQ\n",
       "ECg4BwULCgIFgYI76WBBQaAgUJgfd9IrCwoCBYGCd7FgQUGgIFDwLhYsKAgUBArOQcGCgkBBoDDf\n",
       "7oNWFhQECgIF56BgQUGgIFCYb99RXFlQECgIFObbOWhlQUGgIFDwDAoWFAQKAoX56056ZUFBoPAP\n",
       "38EfROHdM9kAAAAASUVORK5CYII=\n",
       "\" transform=\"translate(2161, 292)\"/>\n",
       "</g>\n",
       "<g clip-path=\"url(#clip830)\">\n",
       "<text style=\"fill:#000000; fill-opacity:1; font-family:Arial,Helvetica Neue,Helvetica,sans-serif; font-size:89px; text-anchor:start;\" transform=\"rotate(0, 2268.76, 1225.58)\" x=\"2268.76\" y=\"1225.58\">25000</text>\n",
       "</g>\n",
       "<g clip-path=\"url(#clip830)\">\n",
       "<text style=\"fill:#000000; fill-opacity:1; font-family:Arial,Helvetica Neue,Helvetica,sans-serif; font-size:89px; text-anchor:start;\" transform=\"rotate(0, 2268.76, 1098.82)\" x=\"2268.76\" y=\"1098.82\">50000</text>\n",
       "</g>\n",
       "<g clip-path=\"url(#clip830)\">\n",
       "<text style=\"fill:#000000; fill-opacity:1; font-family:Arial,Helvetica Neue,Helvetica,sans-serif; font-size:89px; text-anchor:start;\" transform=\"rotate(0, 2268.76, 972.059)\" x=\"2268.76\" y=\"972.059\">75000</text>\n",
       "</g>\n",
       "<g clip-path=\"url(#clip830)\">\n",
       "<text style=\"fill:#000000; fill-opacity:1; font-family:Arial,Helvetica Neue,Helvetica,sans-serif; font-size:89px; text-anchor:start;\" transform=\"rotate(0, 2268.76, 845.297)\" x=\"2268.76\" y=\"845.297\">100000</text>\n",
       "</g>\n",
       "<g clip-path=\"url(#clip830)\">\n",
       "<text style=\"fill:#000000; fill-opacity:1; font-family:Arial,Helvetica Neue,Helvetica,sans-serif; font-size:89px; text-anchor:start;\" transform=\"rotate(0, 2268.76, 718.536)\" x=\"2268.76\" y=\"718.536\">125000</text>\n",
       "</g>\n",
       "<g clip-path=\"url(#clip830)\">\n",
       "<text style=\"fill:#000000; fill-opacity:1; font-family:Arial,Helvetica Neue,Helvetica,sans-serif; font-size:89px; text-anchor:start;\" transform=\"rotate(0, 2268.76, 591.774)\" x=\"2268.76\" y=\"591.774\">150000</text>\n",
       "</g>\n",
       "<g clip-path=\"url(#clip830)\">\n",
       "<text style=\"fill:#000000; fill-opacity:1; font-family:Arial,Helvetica Neue,Helvetica,sans-serif; font-size:89px; text-anchor:start;\" transform=\"rotate(0, 2268.76, 465.012)\" x=\"2268.76\" y=\"465.012\">175000</text>\n",
       "</g>\n",
       "<g clip-path=\"url(#clip830)\">\n",
       "<text style=\"fill:#000000; fill-opacity:1; font-family:Arial,Helvetica Neue,Helvetica,sans-serif; font-size:89px; text-anchor:start;\" transform=\"rotate(0, 2268.76, 338.25)\" x=\"2268.76\" y=\"338.25\">200000</text>\n",
       "</g>\n",
       "<polyline clip-path=\"url(#clip830)\" style=\"stroke:#000000; stroke-linecap:round; stroke-linejoin:round; stroke-width:4; stroke-opacity:1; fill:none\" points=\"\n",
       "  2232.76,1307.63 2232.76,1199.99 2256.76,1199.99 2232.76,1199.99 2232.76,1073.22 2256.76,1073.22 2232.76,1073.22 2232.76,946.463 2256.76,946.463 2232.76,946.463 \n",
       "  2232.76,819.701 2256.76,819.701 2232.76,819.701 2232.76,692.94 2256.76,692.94 2232.76,692.94 2232.76,566.178 2256.76,566.178 2232.76,566.178 2232.76,439.416 \n",
       "  2256.76,439.416 2232.76,439.416 2232.76,312.654 2256.76,312.654 2232.76,312.654 2232.76,292.372 \n",
       "  \"/>\n",
       "</svg>\n"
      ]
     },
     "execution_count": 18,
     "metadata": {},
     "output_type": "execute_result"
    }
   ],
   "source": [
    "xs = ys = range(-lₘₓ,lₘₓ, length=100)\n",
    "plot1 = surface(xs, ys, Ediscont, c=:diverging_bwr_40_95_c42_n256, axis = nothing, showaxis =false,aspect_ratio=:equal, camera=(0,90))\n",
    "plot2 = surface(xs, ys, C₁₁₁₁, c=:diverging_bwr_40_95_c42_n256, axis = nothing, showaxis =false,aspect_ratio=:equal,camera=(0,90))\n",
    "plot(plot1,plot2)"
   ]
  },
  {
   "cell_type": "code",
   "execution_count": 19,
   "id": "5732cbdb",
   "metadata": {},
   "outputs": [
    {
     "data": {
      "text/latex": [
       "$68000.0$"
      ],
      "text/plain": [
       "68000.0000000000"
      ]
     },
     "execution_count": 19,
     "metadata": {},
     "output_type": "execute_result"
    }
   ],
   "source": [
    "C₁₂ₘ = λₘ\n",
    "C₁₂ᵢ = λᵢ"
   ]
  },
  {
   "cell_type": "code",
   "execution_count": 20,
   "id": "5ba3f214",
   "metadata": {},
   "outputs": [
    {
     "data": {
      "text/plain": [
       "E2y (generic function with 1 method)"
      ]
     },
     "execution_count": 20,
     "metadata": {},
     "output_type": "execute_result"
    }
   ],
   "source": [
    "E2x(x,ax,bx) = sqrt(C₁₂ᵢ - C₁₂ₘ) * interval(x,ax,bx) \n",
    "E2y(y,ay,by) = sqrt(C₁₂ᵢ - C₁₂ₘ) * interval(y,ay,by) "
   ]
  },
  {
   "cell_type": "code",
   "execution_count": 21,
   "id": "5b817645",
   "metadata": {},
   "outputs": [
    {
     "data": {
      "text/latex": [
       "$39.8942280401433 \\left(- 128.508141184698 \\operatorname{sign}{\\left(x₁ - 0.632455532033676 \\right)} + 128.508141184698 \\operatorname{sign}{\\left(x₁ + 0.632455532033676 \\right)}\\right) e^{- 5000.0 \\left(x - x₁\\right)^{2}}$"
      ],
      "text/plain": [
       "                                                                              \n",
       "                                                                              \n",
       "39.8942280401433⋅(-128.508141184698⋅sign(x₁ - 0.632455532033676) + 128.5081411\n",
       "\n",
       "                                                     2\n",
       "                                     -5000.0⋅(x - x₁) \n",
       "84698⋅sign(x₁ + 0.632455532033676))⋅ℯ                 "
      ]
     },
     "execution_count": 21,
     "metadata": {},
     "output_type": "execute_result"
    }
   ],
   "source": [
    "IF2x1 = E2x(x₁,-lₙₓ,lₙₓ)*wₕ(x,x₁)\n",
    "IF2x2 = E2x(x₁,-lₐ₁ₙ,lₐ₁ₙ)*wₕ(x,x₁)"
   ]
  },
  {
   "cell_type": "code",
   "execution_count": 22,
   "id": "2f830ac8",
   "metadata": {},
   "outputs": [
    {
     "data": {
      "text/latex": [
       "$39.8942280401433 \\left(- 128.508141184698 \\operatorname{sign}{\\left(y₁ - 0.632455532033676 \\right)} + 128.508141184698 \\operatorname{sign}{\\left(y₁ - 0.316227766016838 \\right)}\\right) e^{- 5000.0 \\left(y - y₁\\right)^{2}}$"
      ],
      "text/plain": [
       "                                                                              \n",
       "                                                                              \n",
       "39.8942280401433⋅(-128.508141184698⋅sign(y₁ - 0.632455532033676) + 128.5081411\n",
       "\n",
       "                                                     2\n",
       "                                     -5000.0⋅(y - y₁) \n",
       "84698⋅sign(y₁ - 0.316227766016838))⋅ℯ                 "
      ]
     },
     "execution_count": 22,
     "metadata": {},
     "output_type": "execute_result"
    }
   ],
   "source": [
    "IF2y1 = E2y(y₁,-lₙₓ,lₙₓ)*wₕ(y,y₁)\n",
    "IF2y2 = E2y(y₁,-lₐ₁ₙ,-lₙₓ)*wₕ(y,y₁)\n",
    "IF2y3 = E2y(y₁,lₙₓ,lₐ₁ₙ)*wₕ(y,y₁)"
   ]
  },
  {
   "cell_type": "code",
   "execution_count": 23,
   "id": "f3342268",
   "metadata": {},
   "outputs": [
    {
     "data": {
      "text/latex": [
       "$\\left(- 72.502954657491 \\sqrt{\\pi} \\operatorname{erf}{\\left(70.7106781186548 x - 22.3606797749979 \\right)} + 72.502954657491 \\sqrt{\\pi} \\operatorname{erf}{\\left(70.7106781186548 x + 22.3606797749979 \\right)}\\right) \\left(- 72.502954657491 \\sqrt{\\pi} \\operatorname{erf}{\\left(70.7106781186548 y - 44.7213595499958 \\right)} + 72.502954657491 \\sqrt{\\pi} \\operatorname{erf}{\\left(70.7106781186548 y - 22.3606797749979 \\right)}\\right)$"
      ],
      "text/plain": [
       "(-72.502954657491⋅√π⋅erf(70.7106781186548⋅x - 22.3606797749979) + 72.502954657\n",
       "491⋅√π⋅erf(70.7106781186548⋅x + 22.3606797749979))⋅(-72.502954657491⋅√π⋅erf(70\n",
       ".7106781186548⋅y - 44.7213595499958) + 72.502954657491⋅√π⋅erf(70.7106781186548\n",
       "⋅y - 22.3606797749979))"
      ]
     },
     "execution_count": 23,
     "metadata": {},
     "output_type": "execute_result"
    }
   ],
   "source": [
    "smooth2E1 = integrate(IF2x2,(x₁,-lₘₓ,lₘₓ))*integrate(IF2y1,(y₁,-lₘₓ,lₘₓ))\n",
    "smooth2E2 = integrate(IF2x1,(x₁,-lₘₓ,lₘₓ))*integrate(IF2y2,(y₁,-lₘₓ,lₘₓ))\n",
    "smooth2E3 = integrate(IF2x1,(x₁,-lₘₓ,lₘₓ))*integrate(IF2y3,(y₁,-lₘₓ,lₘₓ))"
   ]
  },
  {
   "cell_type": "code",
   "execution_count": 24,
   "id": "6d010612",
   "metadata": {
    "scrolled": true
   },
   "outputs": [
    {
     "data": {
      "text/latex": [
       "$\\left(- 72.502954657491 \\sqrt{\\pi} \\operatorname{erf}{\\left(70.7106781186548 x - 44.7213595499958 \\right)} + 72.502954657491 \\sqrt{\\pi} \\operatorname{erf}{\\left(70.7106781186548 x + 44.7213595499958 \\right)}\\right) \\left(- 72.502954657491 \\sqrt{\\pi} \\operatorname{erf}{\\left(70.7106781186548 y - 22.3606797749979 \\right)} + 72.502954657491 \\sqrt{\\pi} \\operatorname{erf}{\\left(70.7106781186548 y + 22.3606797749979 \\right)}\\right) + \\left(- 72.502954657491 \\sqrt{\\pi} \\operatorname{erf}{\\left(70.7106781186548 x - 22.3606797749979 \\right)} + 72.502954657491 \\sqrt{\\pi} \\operatorname{erf}{\\left(70.7106781186548 x + 22.3606797749979 \\right)}\\right) \\left(- 72.502954657491 \\sqrt{\\pi} \\operatorname{erf}{\\left(70.7106781186548 y - 44.7213595499958 \\right)} + 72.502954657491 \\sqrt{\\pi} \\operatorname{erf}{\\left(70.7106781186548 y - 22.3606797749979 \\right)}\\right) + \\left(- 72.502954657491 \\sqrt{\\pi} \\operatorname{erf}{\\left(70.7106781186548 x - 22.3606797749979 \\right)} + 72.502954657491 \\sqrt{\\pi} \\operatorname{erf}{\\left(70.7106781186548 x + 22.3606797749979 \\right)}\\right) \\left(- 72.502954657491 \\sqrt{\\pi} \\operatorname{erf}{\\left(70.7106781186548 y + 22.3606797749979 \\right)} + 72.502954657491 \\sqrt{\\pi} \\operatorname{erf}{\\left(70.7106781186548 y + 44.7213595499958 \\right)}\\right) + 1942.63059701493$"
      ],
      "text/plain": [
       "(-72.502954657491⋅√π⋅erf(70.7106781186548⋅x - 44.7213595499958) + 72.502954657\n",
       "491⋅√π⋅erf(70.7106781186548⋅x + 44.7213595499958))⋅(-72.502954657491⋅√π⋅erf(70\n",
       ".7106781186548⋅y - 22.3606797749979) + 72.502954657491⋅√π⋅erf(70.7106781186548\n",
       "⋅y + 22.3606797749979)) + (-72.502954657491⋅√π⋅erf(70.7106781186548⋅x - 22.360\n",
       "6797749979) + 72.502954657491⋅√π⋅erf(70.7106781186548⋅x + 22.3606797749979))⋅(\n",
       "-72.502954657491⋅√π⋅erf(70.7106781186548⋅y - 44.7213595499958) + 72.5029546574\n",
       "91⋅√π⋅erf(70.7106781186548⋅y - 22.3606797749979)) + (-72.502954657491⋅√π⋅erf(7\n",
       "0.7106781186548⋅x - 22.3606797749979) + 72.502954657491⋅√π⋅erf(70.710678118654\n",
       "8⋅x + 22.3606797749979))⋅(-72.502954657491⋅√π⋅erf(70.7106781186548⋅y + 22.3606\n",
       "797749979) + 72.502954657491⋅√π⋅erf(70.7106781186548⋅y + 44.7213595499958)) + \n",
       "1942.63059701493"
      ]
     },
     "execution_count": 24,
     "metadata": {},
     "output_type": "execute_result"
    }
   ],
   "source": [
    "C₁₁₂₂ = smooth2E1 + smooth2E2 + smooth2E3 + C₁₂ₘ"
   ]
  },
  {
   "cell_type": "markdown",
   "id": "6440f8fd",
   "metadata": {},
   "source": [
    "E2discont1 = -E2x(x₁,-7.5,7.5)*E2y(y₁,-5,5)\n",
    "E2discont2 = -E2x(x₁,-5,5)*E2y(y₁,-7.5,-5)\n",
    "E2discont3 = -E2x(x₁,-5,5)*E2y(y₁,5,7.5)\n",
    "E2discont = E2discont1 + E2discont2 + E2discont3 + C₁₂ₘ"
   ]
  },
  {
   "cell_type": "markdown",
   "id": "56620146",
   "metadata": {},
   "source": [
    "xs = ys = range(-10,10, length=100)\n",
    "plot1 = surface(xs, ys, E2discont, c=:diverging_bwr_40_95_c42_n256, axis = nothing, showaxis =false,aspect_ratio=:equal, camera=(0,90))\n",
    "plot2 = surface(xs, ys, C₁₁₂₂, c=:diverging_bwr_40_95_c42_n256, axis = nothing, showaxis =false,aspect_ratio=:equal,camera=(0,90))\n",
    "plot(plot1,plot2)"
   ]
  },
  {
   "cell_type": "code",
   "execution_count": 25,
   "id": "8adcea3e",
   "metadata": {},
   "outputs": [
    {
     "data": {
      "text/latex": [
       "$136000.0$"
      ],
      "text/plain": [
       "136000.000000000"
      ]
     },
     "execution_count": 25,
     "metadata": {},
     "output_type": "execute_result"
    }
   ],
   "source": [
    "C₃₃ₘ = Gₘ\n",
    "C₃₃ᵢ = Gᵢ"
   ]
  },
  {
   "cell_type": "code",
   "execution_count": 26,
   "id": "d2b60b92",
   "metadata": {},
   "outputs": [
    {
     "data": {
      "text/plain": [
       "E3y (generic function with 1 method)"
      ]
     },
     "execution_count": 26,
     "metadata": {},
     "output_type": "execute_result"
    }
   ],
   "source": [
    "E3x(x,ax,bx) = sqrt(C₃₃ᵢ - C₃₃ₘ) * interval(x,ax,bx) \n",
    "E3y(y,ay,by) = sqrt(C₃₃ᵢ - C₃₃ₘ) * interval(y,ay,by) "
   ]
  },
  {
   "cell_type": "code",
   "execution_count": 27,
   "id": "4a7532e9",
   "metadata": {},
   "outputs": [
    {
     "data": {
      "text/latex": [
       "$39.8942280401433 \\left(- 183.147237073785 \\operatorname{sign}{\\left(x₁ - 0.632455532033676 \\right)} + 183.147237073785 \\operatorname{sign}{\\left(x₁ + 0.632455532033676 \\right)}\\right) e^{- 5000.0 \\left(x - x₁\\right)^{2}}$"
      ],
      "text/plain": [
       "                                                                              \n",
       "                                                                              \n",
       "39.8942280401433⋅(-183.147237073785⋅sign(x₁ - 0.632455532033676) + 183.1472370\n",
       "\n",
       "                                                     2\n",
       "                                     -5000.0⋅(x - x₁) \n",
       "73785⋅sign(x₁ + 0.632455532033676))⋅ℯ                 "
      ]
     },
     "execution_count": 27,
     "metadata": {},
     "output_type": "execute_result"
    }
   ],
   "source": [
    "IF3x1 = E3x(x₁,-lₙₓ,lₙₓ)*wₕ(x,x₁)\n",
    "IF3x2 = E3x(x₁,-lₐ₁ₙ,lₐ₁ₙ)*wₕ(x,x₁)"
   ]
  },
  {
   "cell_type": "code",
   "execution_count": 28,
   "id": "b13a46e5",
   "metadata": {},
   "outputs": [
    {
     "data": {
      "text/latex": [
       "$39.8942280401433 \\left(- 183.147237073785 \\operatorname{sign}{\\left(y₁ - 0.632455532033676 \\right)} + 183.147237073785 \\operatorname{sign}{\\left(y₁ - 0.316227766016838 \\right)}\\right) e^{- 5000.0 \\left(y - y₁\\right)^{2}}$"
      ],
      "text/plain": [
       "                                                                              \n",
       "                                                                              \n",
       "39.8942280401433⋅(-183.147237073785⋅sign(y₁ - 0.632455532033676) + 183.1472370\n",
       "\n",
       "                                                     2\n",
       "                                     -5000.0⋅(y - y₁) \n",
       "73785⋅sign(y₁ - 0.316227766016838))⋅ℯ                 "
      ]
     },
     "execution_count": 28,
     "metadata": {},
     "output_type": "execute_result"
    }
   ],
   "source": [
    "IF3y1 = E3y(y₁,-lₙₓ,lₙₓ)*wₕ(y,y₁)\n",
    "IF3y2 = E3y(y₁,-lₐ₁ₙ,-lₙₓ)*wₕ(y,y₁)\n",
    "IF3y3 = E3y(y₁,lₙₓ,lₐ₁ₙ)*wₕ(y,y₁)"
   ]
  },
  {
   "cell_type": "code",
   "execution_count": 29,
   "id": "22933cfa",
   "metadata": {},
   "outputs": [
    {
     "data": {
      "text/latex": [
       "$\\left(- 103.329763412581 \\sqrt{\\pi} \\operatorname{erf}{\\left(70.7106781186548 x - 22.3606797749979 \\right)} + 103.329763412581 \\sqrt{\\pi} \\operatorname{erf}{\\left(70.7106781186548 x + 22.3606797749979 \\right)}\\right) \\left(- 103.329763412581 \\sqrt{\\pi} \\operatorname{erf}{\\left(70.7106781186548 y - 44.7213595499958 \\right)} + 103.329763412581 \\sqrt{\\pi} \\operatorname{erf}{\\left(70.7106781186548 y - 22.3606797749979 \\right)}\\right)$"
      ],
      "text/plain": [
       "(-103.329763412581⋅√π⋅erf(70.7106781186548⋅x - 22.3606797749979) + 103.3297634\n",
       "12581⋅√π⋅erf(70.7106781186548⋅x + 22.3606797749979))⋅(-103.329763412581⋅√π⋅erf\n",
       "(70.7106781186548⋅y - 44.7213595499958) + 103.329763412581⋅√π⋅erf(70.710678118\n",
       "6548⋅y - 22.3606797749979))"
      ]
     },
     "execution_count": 29,
     "metadata": {},
     "output_type": "execute_result"
    }
   ],
   "source": [
    "smooth3E1 = integrate(IF3x2,(x₁,-lₘₓ,lₘₓ))*integrate(IF3y1,(y₁,-lₘₓ,lₘₓ))\n",
    "smooth3E2 = integrate(IF3x1,(x₁,-lₘₓ,lₘₓ))*integrate(IF3y2,(y₁,-lₘₓ,lₘₓ))\n",
    "smooth3E3 = integrate(IF3x1,(x₁,-lₘₓ,lₘₓ))*integrate(IF3y3,(y₁,-lₘₓ,lₘₓ))"
   ]
  },
  {
   "cell_type": "code",
   "execution_count": 30,
   "id": "ca04e4ba",
   "metadata": {
    "scrolled": true
   },
   "outputs": [
    {
     "data": {
      "text/latex": [
       "$\\left(- 103.329763412581 \\sqrt{\\pi} \\operatorname{erf}{\\left(70.7106781186548 x - 44.7213595499958 \\right)} + 103.329763412581 \\sqrt{\\pi} \\operatorname{erf}{\\left(70.7106781186548 x + 44.7213595499958 \\right)}\\right) \\left(- 103.329763412581 \\sqrt{\\pi} \\operatorname{erf}{\\left(70.7106781186548 y - 22.3606797749979 \\right)} + 103.329763412581 \\sqrt{\\pi} \\operatorname{erf}{\\left(70.7106781186548 y + 22.3606797749979 \\right)}\\right) + \\left(- 103.329763412581 \\sqrt{\\pi} \\operatorname{erf}{\\left(70.7106781186548 x - 22.3606797749979 \\right)} + 103.329763412581 \\sqrt{\\pi} \\operatorname{erf}{\\left(70.7106781186548 x + 22.3606797749979 \\right)}\\right) \\left(- 103.329763412581 \\sqrt{\\pi} \\operatorname{erf}{\\left(70.7106781186548 y - 44.7213595499958 \\right)} + 103.329763412581 \\sqrt{\\pi} \\operatorname{erf}{\\left(70.7106781186548 y - 22.3606797749979 \\right)}\\right) + \\left(- 103.329763412581 \\sqrt{\\pi} \\operatorname{erf}{\\left(70.7106781186548 x - 22.3606797749979 \\right)} + 103.329763412581 \\sqrt{\\pi} \\operatorname{erf}{\\left(70.7106781186548 x + 22.3606797749979 \\right)}\\right) \\left(- 103.329763412581 \\sqrt{\\pi} \\operatorname{erf}{\\left(70.7106781186548 y + 22.3606797749979 \\right)} + 103.329763412581 \\sqrt{\\pi} \\operatorname{erf}{\\left(70.7106781186548 y + 44.7213595499958 \\right)}\\right) + 1828.35820895522$"
      ],
      "text/plain": [
       "(-103.329763412581⋅√π⋅erf(70.7106781186548⋅x - 44.7213595499958) + 103.3297634\n",
       "12581⋅√π⋅erf(70.7106781186548⋅x + 44.7213595499958))⋅(-103.329763412581⋅√π⋅erf\n",
       "(70.7106781186548⋅y - 22.3606797749979) + 103.329763412581⋅√π⋅erf(70.710678118\n",
       "6548⋅y + 22.3606797749979)) + (-103.329763412581⋅√π⋅erf(70.7106781186548⋅x - 2\n",
       "2.3606797749979) + 103.329763412581⋅√π⋅erf(70.7106781186548⋅x + 22.36067977499\n",
       "79))⋅(-103.329763412581⋅√π⋅erf(70.7106781186548⋅y - 44.7213595499958) + 103.32\n",
       "9763412581⋅√π⋅erf(70.7106781186548⋅y - 22.3606797749979)) + (-103.329763412581\n",
       "⋅√π⋅erf(70.7106781186548⋅x - 22.3606797749979) + 103.329763412581⋅√π⋅erf(70.71\n",
       "06781186548⋅x + 22.3606797749979))⋅(-103.329763412581⋅√π⋅erf(70.7106781186548⋅\n",
       "y + 22.3606797749979) + 103.329763412581⋅√π⋅erf(70.7106781186548⋅y + 44.721359\n",
       "5499958)) + 1828.35820895522"
      ]
     },
     "execution_count": 30,
     "metadata": {},
     "output_type": "execute_result"
    }
   ],
   "source": [
    "C₃₃₃₃ = smooth3E1 + smooth3E2 + smooth3E3 + C₃₃ₘ"
   ]
  },
  {
   "cell_type": "markdown",
   "id": "6e6d53df",
   "metadata": {},
   "source": [
    "xs = ys = range(-10,10, length=100)\n",
    "plot1 = surface(xs, ys, Ediscont3, c=:diverging_bwr_40_95_c42_n256, axis = nothing, showaxis =false,aspect_ratio=:equal, camera=(0,90))\n",
    "plot2 = surface(xs, ys, smooth3E, c=:diverging_bwr_40_95_c42_n256, axis = nothing, showaxis =false,aspect_ratio=:equal,camera=(0,90))\n",
    "plot(plot1,plot2)"
   ]
  },
  {
   "cell_type": "code",
   "execution_count": 31,
   "id": "37ea79b0",
   "metadata": {},
   "outputs": [
    {
     "data": {
      "text/plain": [
       "20"
      ]
     },
     "execution_count": 31,
     "metadata": {},
     "output_type": "execute_result"
    }
   ],
   "source": [
    "d₁₁ₘ = 0\n",
    "d₁₁ᵢ = 20"
   ]
  },
  {
   "cell_type": "code",
   "execution_count": 32,
   "id": "faad1842",
   "metadata": {},
   "outputs": [
    {
     "data": {
      "text/plain": [
       "D1y (generic function with 1 method)"
      ]
     },
     "execution_count": 32,
     "metadata": {},
     "output_type": "execute_result"
    }
   ],
   "source": [
    "D1x(x,ax,bx) = sqrt(d₁₁ᵢ - d₁₁ₘ) * interval(x,ax,bx) \n",
    "D1y(y,ay,by) = sqrt(d₁₁ᵢ - d₁₁ₘ) * interval(y,ay,by) "
   ]
  },
  {
   "cell_type": "code",
   "execution_count": 33,
   "id": "d9ab5879",
   "metadata": {},
   "outputs": [
    {
     "data": {
      "text/latex": [
       "$39.8942280401433 \\left(- 2.23606797749979 \\operatorname{sign}{\\left(x₁ - 0.632455532033676 \\right)} + 2.23606797749979 \\operatorname{sign}{\\left(x₁ + 0.632455532033676 \\right)}\\right) e^{- 5000.0 \\left(x - x₁\\right)^{2}}$"
      ],
      "text/plain": [
       "                                                                              \n",
       "                                                                              \n",
       "39.8942280401433⋅(-2.23606797749979⋅sign(x₁ - 0.632455532033676) + 2.236067977\n",
       "\n",
       "                                                     2\n",
       "                                     -5000.0⋅(x - x₁) \n",
       "49979⋅sign(x₁ + 0.632455532033676))⋅ℯ                 "
      ]
     },
     "execution_count": 33,
     "metadata": {},
     "output_type": "execute_result"
    }
   ],
   "source": [
    "ID1x1 = D1x(x₁,-lₙₓ,lₙₓ)*wₕ(x,x₁)\n",
    "ID1x2 = D1x(x₁,-lₐ₁ₙ,lₐ₁ₙ)*wₕ(x,x₁)"
   ]
  },
  {
   "cell_type": "code",
   "execution_count": 34,
   "id": "c354d307",
   "metadata": {},
   "outputs": [
    {
     "data": {
      "text/latex": [
       "$39.8942280401433 \\left(- 2.23606797749979 \\operatorname{sign}{\\left(y₁ - 0.632455532033676 \\right)} + 2.23606797749979 \\operatorname{sign}{\\left(y₁ - 0.316227766016838 \\right)}\\right) e^{- 5000.0 \\left(y - y₁\\right)^{2}}$"
      ],
      "text/plain": [
       "                                                                              \n",
       "                                                                              \n",
       "39.8942280401433⋅(-2.23606797749979⋅sign(y₁ - 0.632455532033676) + 2.236067977\n",
       "\n",
       "                                                     2\n",
       "                                     -5000.0⋅(y - y₁) \n",
       "49979⋅sign(y₁ - 0.316227766016838))⋅ℯ                 "
      ]
     },
     "execution_count": 34,
     "metadata": {},
     "output_type": "execute_result"
    }
   ],
   "source": [
    "ID1y1 = D1y(y₁,-lₙₓ,lₙₓ)*wₕ(y,y₁)\n",
    "ID1y2 = D1y(y₁,-lₐ₁ₙ,-lₙₓ)*wₕ(y,y₁)\n",
    "ID1y3 = D1y(y₁,lₙₓ,lₐ₁ₙ)*wₕ(y,y₁)"
   ]
  },
  {
   "cell_type": "code",
   "execution_count": 35,
   "id": "e684c43c",
   "metadata": {},
   "outputs": [
    {
     "data": {
      "text/latex": [
       "$\\left(- 1.26156626101008 \\sqrt{\\pi} \\operatorname{erf}{\\left(70.7106781186548 x - 22.3606797749979 \\right)} + 1.26156626101008 \\sqrt{\\pi} \\operatorname{erf}{\\left(70.7106781186548 x + 22.3606797749979 \\right)}\\right) \\left(- 1.26156626101008 \\sqrt{\\pi} \\operatorname{erf}{\\left(70.7106781186548 y - 44.7213595499958 \\right)} + 1.26156626101008 \\sqrt{\\pi} \\operatorname{erf}{\\left(70.7106781186548 y - 22.3606797749979 \\right)}\\right)$"
      ],
      "text/plain": [
       "(-1.26156626101008⋅√π⋅erf(70.7106781186548⋅x - 22.3606797749979) + 1.261566261\n",
       "01008⋅√π⋅erf(70.7106781186548⋅x + 22.3606797749979))⋅(-1.26156626101008⋅√π⋅erf\n",
       "(70.7106781186548⋅y - 44.7213595499958) + 1.26156626101008⋅√π⋅erf(70.710678118\n",
       "6548⋅y - 22.3606797749979))"
      ]
     },
     "execution_count": 35,
     "metadata": {},
     "output_type": "execute_result"
    }
   ],
   "source": [
    "smooth1D1 = integrate(ID1x2,(x₁,-lₘₓ,lₘₓ))*integrate(ID1y1,(y₁,-lₘₓ,lₘₓ))\n",
    "smooth1D2 = integrate(ID1x1,(x₁,-lₘₓ,lₘₓ))*integrate(ID1y2,(y₁,-lₘₓ,lₘₓ))\n",
    "smooth1D3 = integrate(ID1x1,(x₁,-lₘₓ,lₘₓ))*integrate(ID1y3,(y₁,-lₘₓ,lₘₓ))"
   ]
  },
  {
   "cell_type": "code",
   "execution_count": 36,
   "id": "768f6c08",
   "metadata": {
    "scrolled": true
   },
   "outputs": [
    {
     "data": {
      "text/latex": [
       "$\\left(- 1.26156626101008 \\sqrt{\\pi} \\operatorname{erf}{\\left(70.7106781186548 x - 44.7213595499958 \\right)} + 1.26156626101008 \\sqrt{\\pi} \\operatorname{erf}{\\left(70.7106781186548 x + 44.7213595499958 \\right)}\\right) \\left(- 1.26156626101008 \\sqrt{\\pi} \\operatorname{erf}{\\left(70.7106781186548 y - 22.3606797749979 \\right)} + 1.26156626101008 \\sqrt{\\pi} \\operatorname{erf}{\\left(70.7106781186548 y + 22.3606797749979 \\right)}\\right) + \\left(- 1.26156626101008 \\sqrt{\\pi} \\operatorname{erf}{\\left(70.7106781186548 x - 22.3606797749979 \\right)} + 1.26156626101008 \\sqrt{\\pi} \\operatorname{erf}{\\left(70.7106781186548 x + 22.3606797749979 \\right)}\\right) \\left(- 1.26156626101008 \\sqrt{\\pi} \\operatorname{erf}{\\left(70.7106781186548 y - 44.7213595499958 \\right)} + 1.26156626101008 \\sqrt{\\pi} \\operatorname{erf}{\\left(70.7106781186548 y - 22.3606797749979 \\right)}\\right) + \\left(- 1.26156626101008 \\sqrt{\\pi} \\operatorname{erf}{\\left(70.7106781186548 x - 22.3606797749979 \\right)} + 1.26156626101008 \\sqrt{\\pi} \\operatorname{erf}{\\left(70.7106781186548 x + 22.3606797749979 \\right)}\\right) \\left(- 1.26156626101008 \\sqrt{\\pi} \\operatorname{erf}{\\left(70.7106781186548 y + 22.3606797749979 \\right)} + 1.26156626101008 \\sqrt{\\pi} \\operatorname{erf}{\\left(70.7106781186548 y + 44.7213595499958 \\right)}\\right)$"
      ],
      "text/plain": [
       "(-1.26156626101008⋅√π⋅erf(70.7106781186548⋅x - 44.7213595499958) + 1.261566261\n",
       "01008⋅√π⋅erf(70.7106781186548⋅x + 44.7213595499958))⋅(-1.26156626101008⋅√π⋅erf\n",
       "(70.7106781186548⋅y - 22.3606797749979) + 1.26156626101008⋅√π⋅erf(70.710678118\n",
       "6548⋅y + 22.3606797749979)) + (-1.26156626101008⋅√π⋅erf(70.7106781186548⋅x - 2\n",
       "2.3606797749979) + 1.26156626101008⋅√π⋅erf(70.7106781186548⋅x + 22.36067977499\n",
       "79))⋅(-1.26156626101008⋅√π⋅erf(70.7106781186548⋅y - 44.7213595499958) + 1.2615\n",
       "6626101008⋅√π⋅erf(70.7106781186548⋅y - 22.3606797749979)) + (-1.26156626101008\n",
       "⋅√π⋅erf(70.7106781186548⋅x - 22.3606797749979) + 1.26156626101008⋅√π⋅erf(70.71\n",
       "06781186548⋅x + 22.3606797749979))⋅(-1.26156626101008⋅√π⋅erf(70.7106781186548⋅\n",
       "y + 22.3606797749979) + 1.26156626101008⋅√π⋅erf(70.7106781186548⋅y + 44.721359\n",
       "5499958))"
      ]
     },
     "execution_count": 36,
     "metadata": {},
     "output_type": "execute_result"
    }
   ],
   "source": [
    "D₁₁ = smooth1D1 + smooth1D2 + smooth1D3 + d₁₁ₘ"
   ]
  },
  {
   "cell_type": "code",
   "execution_count": 37,
   "id": "3ca271e6",
   "metadata": {},
   "outputs": [
    {
     "data": {
      "text/plain": [
       "-0.9"
      ]
     },
     "execution_count": 37,
     "metadata": {},
     "output_type": "execute_result"
    }
   ],
   "source": [
    "d₁₂ₘ = 20\n",
    "d₁₂ᵢ = -0.9"
   ]
  },
  {
   "cell_type": "code",
   "execution_count": 38,
   "id": "a867c2a7",
   "metadata": {},
   "outputs": [
    {
     "data": {
      "text/plain": [
       "D22y (generic function with 1 method)"
      ]
     },
     "execution_count": 38,
     "metadata": {},
     "output_type": "execute_result"
    }
   ],
   "source": [
    "D22x(x,ax,bx) = sqrt(d₁₂ₘ - d₁₂ᵢ) * interval(x,ax,bx) \n",
    "D22y(y,ay,by) = sqrt(d₁₂ₘ - d₁₂ᵢ) * interval(y,ay,by) "
   ]
  },
  {
   "cell_type": "code",
   "execution_count": 39,
   "id": "3283d68c",
   "metadata": {},
   "outputs": [
    {
     "data": {
      "text/latex": [
       "$39.8942280401433 \\left(- 2.28582589013249 \\operatorname{sign}{\\left(x₁ - 0.632455532033676 \\right)} + 2.28582589013249 \\operatorname{sign}{\\left(x₁ + 0.632455532033676 \\right)}\\right) e^{- 5000.0 \\left(x - x₁\\right)^{2}}$"
      ],
      "text/plain": [
       "                                                                              \n",
       "                                                                              \n",
       "39.8942280401433⋅(-2.28582589013249⋅sign(x₁ - 0.632455532033676) + 2.285825890\n",
       "\n",
       "                                                     2\n",
       "                                     -5000.0⋅(x - x₁) \n",
       "13249⋅sign(x₁ + 0.632455532033676))⋅ℯ                 "
      ]
     },
     "execution_count": 39,
     "metadata": {},
     "output_type": "execute_result"
    }
   ],
   "source": [
    "ID22x1 = D22x(x₁,-lₙₓ,lₙₓ)*wₕ(x,x₁)\n",
    "ID22x2 = D22x(x₁,-lₐ₁ₙ,lₐ₁ₙ)*wₕ(x,x₁)"
   ]
  },
  {
   "cell_type": "code",
   "execution_count": 40,
   "id": "431a91b8",
   "metadata": {},
   "outputs": [
    {
     "data": {
      "text/latex": [
       "$39.8942280401433 \\left(- 2.28582589013249 \\operatorname{sign}{\\left(y₁ - 0.632455532033676 \\right)} + 2.28582589013249 \\operatorname{sign}{\\left(y₁ - 0.316227766016838 \\right)}\\right) e^{- 5000.0 \\left(y - y₁\\right)^{2}}$"
      ],
      "text/plain": [
       "                                                                              \n",
       "                                                                              \n",
       "39.8942280401433⋅(-2.28582589013249⋅sign(y₁ - 0.632455532033676) + 2.285825890\n",
       "\n",
       "                                                     2\n",
       "                                     -5000.0⋅(y - y₁) \n",
       "13249⋅sign(y₁ - 0.316227766016838))⋅ℯ                 "
      ]
     },
     "execution_count": 40,
     "metadata": {},
     "output_type": "execute_result"
    }
   ],
   "source": [
    "ID22y1 = D22y(y₁,-lₙₓ,lₙₓ)*wₕ(y,y₁)\n",
    "ID22y2 = D22y(y₁,-lₐ₁ₙ,-lₙₓ)*wₕ(y,y₁)\n",
    "ID22y3 = D22y(y₁,lₙₓ,lₐ₁ₙ)*wₕ(y,y₁)"
   ]
  },
  {
   "cell_type": "code",
   "execution_count": 41,
   "id": "7e14ab5d",
   "metadata": {},
   "outputs": [
    {
     "data": {
      "text/latex": [
       "$\\left(1.28963915701653 \\sqrt{\\pi} \\operatorname{erf}{\\left(70.7106781186548 x - 22.3606797749979 \\right)} - 1.28963915701653 \\sqrt{\\pi} \\operatorname{erf}{\\left(70.7106781186548 x + 22.3606797749979 \\right)}\\right) \\left(- 1.28963915701653 \\sqrt{\\pi} \\operatorname{erf}{\\left(70.7106781186548 y - 44.7213595499958 \\right)} + 1.28963915701653 \\sqrt{\\pi} \\operatorname{erf}{\\left(70.7106781186548 y - 22.3606797749979 \\right)}\\right)$"
      ],
      "text/plain": [
       "(1.28963915701653⋅√π⋅erf(70.7106781186548⋅x - 22.3606797749979) - 1.2896391570\n",
       "1653⋅√π⋅erf(70.7106781186548⋅x + 22.3606797749979))⋅(-1.28963915701653⋅√π⋅erf(\n",
       "70.7106781186548⋅y - 44.7213595499958) + 1.28963915701653⋅√π⋅erf(70.7106781186\n",
       "548⋅y - 22.3606797749979))"
      ]
     },
     "execution_count": 41,
     "metadata": {},
     "output_type": "execute_result"
    }
   ],
   "source": [
    "smooth22D1 = -integrate(ID22x2,(x₁,-lₘₓ,lₘₓ))*integrate(ID22y1,(y₁,-lₘₓ,lₘₓ))\n",
    "smooth22D2 = -integrate(ID22x1,(x₁,-lₘₓ,lₘₓ))*integrate(ID22y2,(y₁,-lₘₓ,lₘₓ))\n",
    "smooth22D3 = -integrate(ID22x1,(x₁,-lₘₓ,lₘₓ))*integrate(ID22y3,(y₁,-lₘₓ,lₘₓ))"
   ]
  },
  {
   "cell_type": "code",
   "execution_count": 42,
   "id": "1d56fbce",
   "metadata": {
    "scrolled": true
   },
   "outputs": [
    {
     "data": {
      "text/latex": [
       "$\\left(1.28963915701653 \\sqrt{\\pi} \\operatorname{erf}{\\left(70.7106781186548 x - 44.7213595499958 \\right)} - 1.28963915701653 \\sqrt{\\pi} \\operatorname{erf}{\\left(70.7106781186548 x + 44.7213595499958 \\right)}\\right) \\left(- 1.28963915701653 \\sqrt{\\pi} \\operatorname{erf}{\\left(70.7106781186548 y - 22.3606797749979 \\right)} + 1.28963915701653 \\sqrt{\\pi} \\operatorname{erf}{\\left(70.7106781186548 y + 22.3606797749979 \\right)}\\right) + \\left(1.28963915701653 \\sqrt{\\pi} \\operatorname{erf}{\\left(70.7106781186548 x - 22.3606797749979 \\right)} - 1.28963915701653 \\sqrt{\\pi} \\operatorname{erf}{\\left(70.7106781186548 x + 22.3606797749979 \\right)}\\right) \\left(- 1.28963915701653 \\sqrt{\\pi} \\operatorname{erf}{\\left(70.7106781186548 y - 44.7213595499958 \\right)} + 1.28963915701653 \\sqrt{\\pi} \\operatorname{erf}{\\left(70.7106781186548 y - 22.3606797749979 \\right)}\\right) + \\left(1.28963915701653 \\sqrt{\\pi} \\operatorname{erf}{\\left(70.7106781186548 x - 22.3606797749979 \\right)} - 1.28963915701653 \\sqrt{\\pi} \\operatorname{erf}{\\left(70.7106781186548 x + 22.3606797749979 \\right)}\\right) \\left(- 1.28963915701653 \\sqrt{\\pi} \\operatorname{erf}{\\left(70.7106781186548 y + 22.3606797749979 \\right)} + 1.28963915701653 \\sqrt{\\pi} \\operatorname{erf}{\\left(70.7106781186548 y + 44.7213595499958 \\right)}\\right) + 20$"
      ],
      "text/plain": [
       "(1.28963915701653⋅√π⋅erf(70.7106781186548⋅x - 44.7213595499958) - 1.2896391570\n",
       "1653⋅√π⋅erf(70.7106781186548⋅x + 44.7213595499958))⋅(-1.28963915701653⋅√π⋅erf(\n",
       "70.7106781186548⋅y - 22.3606797749979) + 1.28963915701653⋅√π⋅erf(70.7106781186\n",
       "548⋅y + 22.3606797749979)) + (1.28963915701653⋅√π⋅erf(70.7106781186548⋅x - 22.\n",
       "3606797749979) - 1.28963915701653⋅√π⋅erf(70.7106781186548⋅x + 22.3606797749979\n",
       "))⋅(-1.28963915701653⋅√π⋅erf(70.7106781186548⋅y - 44.7213595499958) + 1.289639\n",
       "15701653⋅√π⋅erf(70.7106781186548⋅y - 22.3606797749979)) + (1.28963915701653⋅√π\n",
       "⋅erf(70.7106781186548⋅x - 22.3606797749979) - 1.28963915701653⋅√π⋅erf(70.71067\n",
       "81186548⋅x + 22.3606797749979))⋅(-1.28963915701653⋅√π⋅erf(70.7106781186548⋅y +\n",
       " 22.3606797749979) + 1.28963915701653⋅√π⋅erf(70.7106781186548⋅y + 44.721359549\n",
       "9958)) + 20"
      ]
     },
     "execution_count": 42,
     "metadata": {},
     "output_type": "execute_result"
    }
   ],
   "source": [
    "D₂₁ = smooth22D1 + smooth22D2 + smooth22D3 + d₁₂ₘ"
   ]
  },
  {
   "cell_type": "code",
   "execution_count": 43,
   "id": "56f25fe1",
   "metadata": {},
   "outputs": [
    {
     "data": {
      "text/plain": [
       "-0.9"
      ]
     },
     "execution_count": 43,
     "metadata": {},
     "output_type": "execute_result"
    }
   ],
   "source": [
    "d₂₂ₘ = 3\n",
    "d₂₂ᵢ = -0.9"
   ]
  },
  {
   "cell_type": "code",
   "execution_count": 44,
   "id": "d4d3ea09",
   "metadata": {},
   "outputs": [
    {
     "data": {
      "text/plain": [
       "D2y (generic function with 1 method)"
      ]
     },
     "execution_count": 44,
     "metadata": {},
     "output_type": "execute_result"
    }
   ],
   "source": [
    "D2x(x,ax,bx) = sqrt(d₂₂ₘ - d₂₂ᵢ) * interval(x,ax,bx) \n",
    "D2y(y,ay,by) = sqrt(d₂₂ₘ - d₂₂ᵢ) * interval(y,ay,by) "
   ]
  },
  {
   "cell_type": "code",
   "execution_count": 45,
   "id": "0b31a78d",
   "metadata": {},
   "outputs": [
    {
     "data": {
      "text/latex": [
       "$39.8942280401433 \\left(- 0.987420882906575 \\operatorname{sign}{\\left(x₁ - 0.632455532033676 \\right)} + 0.987420882906575 \\operatorname{sign}{\\left(x₁ + 0.632455532033676 \\right)}\\right) e^{- 5000.0 \\left(x - x₁\\right)^{2}}$"
      ],
      "text/plain": [
       "                                                                              \n",
       "                                                                              \n",
       "39.8942280401433⋅(-0.987420882906575⋅sign(x₁ - 0.632455532033676) + 0.98742088\n",
       "\n",
       "                                                       2\n",
       "                                       -5000.0⋅(x - x₁) \n",
       "2906575⋅sign(x₁ + 0.632455532033676))⋅ℯ                 "
      ]
     },
     "execution_count": 45,
     "metadata": {},
     "output_type": "execute_result"
    }
   ],
   "source": [
    "ID2x1 = D2x(x₁,-lₙₓ,lₙₓ)*wₕ(x,x₁)\n",
    "ID2x2 = D2x(x₁,-lₐ₁ₙ,lₐ₁ₙ)*wₕ(x,x₁)"
   ]
  },
  {
   "cell_type": "code",
   "execution_count": 46,
   "id": "a35cd986",
   "metadata": {},
   "outputs": [
    {
     "data": {
      "text/latex": [
       "$39.8942280401433 \\left(- 0.987420882906575 \\operatorname{sign}{\\left(y₁ - 0.632455532033676 \\right)} + 0.987420882906575 \\operatorname{sign}{\\left(y₁ - 0.316227766016838 \\right)}\\right) e^{- 5000.0 \\left(y - y₁\\right)^{2}}$"
      ],
      "text/plain": [
       "                                                                              \n",
       "                                                                              \n",
       "39.8942280401433⋅(-0.987420882906575⋅sign(y₁ - 0.632455532033676) + 0.98742088\n",
       "\n",
       "                                                       2\n",
       "                                       -5000.0⋅(y - y₁) \n",
       "2906575⋅sign(y₁ - 0.316227766016838))⋅ℯ                 "
      ]
     },
     "execution_count": 46,
     "metadata": {},
     "output_type": "execute_result"
    }
   ],
   "source": [
    "ID2y1 = D2y(y₁,-lₙₓ,lₙₓ)*wₕ(y,y₁)\n",
    "ID2y2 = D2y(y₁,-lₐ₁ₙ,-lₙₓ)*wₕ(y,y₁)\n",
    "ID2y3 = D2y(y₁,lₙₓ,lₐ₁ₙ)*wₕ(y,y₁)"
   ]
  },
  {
   "cell_type": "code",
   "execution_count": 47,
   "id": "55880fae",
   "metadata": {},
   "outputs": [
    {
     "data": {
      "text/latex": [
       "$\\left(0.557092576713418 \\sqrt{\\pi} \\operatorname{erf}{\\left(70.7106781186548 x - 22.3606797749979 \\right)} - 0.557092576713418 \\sqrt{\\pi} \\operatorname{erf}{\\left(70.7106781186548 x + 22.3606797749979 \\right)}\\right) \\left(- 0.557092576713418 \\sqrt{\\pi} \\operatorname{erf}{\\left(70.7106781186548 y - 44.7213595499958 \\right)} + 0.557092576713418 \\sqrt{\\pi} \\operatorname{erf}{\\left(70.7106781186548 y - 22.3606797749979 \\right)}\\right)$"
      ],
      "text/plain": [
       "(0.557092576713418⋅√π⋅erf(70.7106781186548⋅x - 22.3606797749979) - 0.557092576\n",
       "713418⋅√π⋅erf(70.7106781186548⋅x + 22.3606797749979))⋅(-0.557092576713418⋅√π⋅e\n",
       "rf(70.7106781186548⋅y - 44.7213595499958) + 0.557092576713418⋅√π⋅erf(70.710678\n",
       "1186548⋅y - 22.3606797749979))"
      ]
     },
     "execution_count": 47,
     "metadata": {},
     "output_type": "execute_result"
    }
   ],
   "source": [
    "smooth2D1 = -integrate(ID2x2,(x₁,-lₘₓ,lₘₓ))*integrate(ID2y1,(y₁,-lₘₓ,lₘₓ))\n",
    "smooth2D2 = -integrate(ID2x1,(x₁,-lₘₓ,lₘₓ))*integrate(ID2y2,(y₁,-lₘₓ,lₘₓ))\n",
    "smooth2D3 = -integrate(ID2x1,(x₁,-lₘₓ,lₘₓ))*integrate(ID2y3,(y₁,-lₘₓ,lₘₓ))"
   ]
  },
  {
   "cell_type": "code",
   "execution_count": 48,
   "id": "60e6ce7f",
   "metadata": {
    "scrolled": true
   },
   "outputs": [
    {
     "data": {
      "text/latex": [
       "$\\left(0.557092576713418 \\sqrt{\\pi} \\operatorname{erf}{\\left(70.7106781186548 x - 44.7213595499958 \\right)} - 0.557092576713418 \\sqrt{\\pi} \\operatorname{erf}{\\left(70.7106781186548 x + 44.7213595499958 \\right)}\\right) \\left(- 0.557092576713418 \\sqrt{\\pi} \\operatorname{erf}{\\left(70.7106781186548 y - 22.3606797749979 \\right)} + 0.557092576713418 \\sqrt{\\pi} \\operatorname{erf}{\\left(70.7106781186548 y + 22.3606797749979 \\right)}\\right) + \\left(0.557092576713418 \\sqrt{\\pi} \\operatorname{erf}{\\left(70.7106781186548 x - 22.3606797749979 \\right)} - 0.557092576713418 \\sqrt{\\pi} \\operatorname{erf}{\\left(70.7106781186548 x + 22.3606797749979 \\right)}\\right) \\left(- 0.557092576713418 \\sqrt{\\pi} \\operatorname{erf}{\\left(70.7106781186548 y - 44.7213595499958 \\right)} + 0.557092576713418 \\sqrt{\\pi} \\operatorname{erf}{\\left(70.7106781186548 y - 22.3606797749979 \\right)}\\right) + \\left(0.557092576713418 \\sqrt{\\pi} \\operatorname{erf}{\\left(70.7106781186548 x - 22.3606797749979 \\right)} - 0.557092576713418 \\sqrt{\\pi} \\operatorname{erf}{\\left(70.7106781186548 x + 22.3606797749979 \\right)}\\right) \\left(- 0.557092576713418 \\sqrt{\\pi} \\operatorname{erf}{\\left(70.7106781186548 y + 22.3606797749979 \\right)} + 0.557092576713418 \\sqrt{\\pi} \\operatorname{erf}{\\left(70.7106781186548 y + 44.7213595499958 \\right)}\\right) + 3$"
      ],
      "text/plain": [
       "(0.557092576713418⋅√π⋅erf(70.7106781186548⋅x - 44.7213595499958) - 0.557092576\n",
       "713418⋅√π⋅erf(70.7106781186548⋅x + 44.7213595499958))⋅(-0.557092576713418⋅√π⋅e\n",
       "rf(70.7106781186548⋅y - 22.3606797749979) + 0.557092576713418⋅√π⋅erf(70.710678\n",
       "1186548⋅y + 22.3606797749979)) + (0.557092576713418⋅√π⋅erf(70.7106781186548⋅x \n",
       "- 22.3606797749979) - 0.557092576713418⋅√π⋅erf(70.7106781186548⋅x + 22.3606797\n",
       "749979))⋅(-0.557092576713418⋅√π⋅erf(70.7106781186548⋅y - 44.7213595499958) + 0\n",
       ".557092576713418⋅√π⋅erf(70.7106781186548⋅y - 22.3606797749979)) + (0.557092576\n",
       "713418⋅√π⋅erf(70.7106781186548⋅x - 22.3606797749979) - 0.557092576713418⋅√π⋅er\n",
       "f(70.7106781186548⋅x + 22.3606797749979))⋅(-0.557092576713418⋅√π⋅erf(70.710678\n",
       "1186548⋅y + 22.3606797749979) + 0.557092576713418⋅√π⋅erf(70.7106781186548⋅y + \n",
       "44.7213595499958)) + 3"
      ]
     },
     "execution_count": 48,
     "metadata": {},
     "output_type": "execute_result"
    }
   ],
   "source": [
    "D₂₂ = smooth2D1 + smooth2D2 + smooth2D3 + d₂₂ₘ"
   ]
  },
  {
   "cell_type": "code",
   "execution_count": 49,
   "id": "4aacff27",
   "metadata": {},
   "outputs": [
    {
     "data": {
      "text/plain": [
       "6"
      ]
     },
     "execution_count": 49,
     "metadata": {},
     "output_type": "execute_result"
    }
   ],
   "source": [
    "d₂₃ₘ = -46\n",
    "d₂₃ᵢ = 6"
   ]
  },
  {
   "cell_type": "code",
   "execution_count": 50,
   "id": "4f3c6153",
   "metadata": {},
   "outputs": [
    {
     "data": {
      "text/plain": [
       "D3y (generic function with 1 method)"
      ]
     },
     "execution_count": 50,
     "metadata": {},
     "output_type": "execute_result"
    }
   ],
   "source": [
    "D3x(x,ax,bx) = sqrt(d₂₃ᵢ - d₂₃ₘ) * interval(x,ax,bx) \n",
    "D3y(y,ay,by) = sqrt(d₂₃ᵢ - d₂₃ₘ) * interval(y,ay,by) "
   ]
  },
  {
   "cell_type": "code",
   "execution_count": 51,
   "id": "0a498bb5",
   "metadata": {},
   "outputs": [
    {
     "data": {
      "text/latex": [
       "$39.8942280401433 \\left(- 3.60555127546399 \\operatorname{sign}{\\left(x₁ - 0.632455532033676 \\right)} + 3.60555127546399 \\operatorname{sign}{\\left(x₁ + 0.632455532033676 \\right)}\\right) e^{- 5000.0 \\left(x - x₁\\right)^{2}}$"
      ],
      "text/plain": [
       "                                                                              \n",
       "                                                                              \n",
       "39.8942280401433⋅(-3.60555127546399⋅sign(x₁ - 0.632455532033676) + 3.605551275\n",
       "\n",
       "                                                     2\n",
       "                                     -5000.0⋅(x - x₁) \n",
       "46399⋅sign(x₁ + 0.632455532033676))⋅ℯ                 "
      ]
     },
     "execution_count": 51,
     "metadata": {},
     "output_type": "execute_result"
    }
   ],
   "source": [
    "ID3x1 = D3x(x₁,-lₙₓ,lₙₓ)*wₕ(x,x₁)\n",
    "ID3x2 = D3x(x₁,-lₐ₁ₙ,lₐ₁ₙ)*wₕ(x,x₁)"
   ]
  },
  {
   "cell_type": "code",
   "execution_count": 52,
   "id": "78087a6a",
   "metadata": {},
   "outputs": [
    {
     "data": {
      "text/latex": [
       "$39.8942280401433 \\left(- 3.60555127546399 \\operatorname{sign}{\\left(y₁ - 0.632455532033676 \\right)} + 3.60555127546399 \\operatorname{sign}{\\left(y₁ - 0.316227766016838 \\right)}\\right) e^{- 5000.0 \\left(y - y₁\\right)^{2}}$"
      ],
      "text/plain": [
       "                                                                              \n",
       "                                                                              \n",
       "39.8942280401433⋅(-3.60555127546399⋅sign(y₁ - 0.632455532033676) + 3.605551275\n",
       "\n",
       "                                                     2\n",
       "                                     -5000.0⋅(y - y₁) \n",
       "46399⋅sign(y₁ - 0.316227766016838))⋅ℯ                 "
      ]
     },
     "execution_count": 52,
     "metadata": {},
     "output_type": "execute_result"
    }
   ],
   "source": [
    "ID3y1 = D3y(y₁,-lₙₓ,lₙₓ)*wₕ(y,y₁)\n",
    "ID3y2 = D3y(y₁,-lₐ₁ₙ,-lₙₓ)*wₕ(y,y₁)\n",
    "ID3y3 = D3y(y₁,lₙₓ,lₐ₁ₙ)*wₕ(y,y₁)"
   ]
  },
  {
   "cell_type": "code",
   "execution_count": 53,
   "id": "d2c07d1f",
   "metadata": {},
   "outputs": [
    {
     "data": {
      "text/latex": [
       "$\\left(- 2.03421447256411 \\sqrt{\\pi} \\operatorname{erf}{\\left(70.7106781186548 x - 22.3606797749979 \\right)} + 2.03421447256411 \\sqrt{\\pi} \\operatorname{erf}{\\left(70.7106781186548 x + 22.3606797749979 \\right)}\\right) \\left(- 2.03421447256411 \\sqrt{\\pi} \\operatorname{erf}{\\left(70.7106781186548 y - 44.7213595499958 \\right)} + 2.03421447256411 \\sqrt{\\pi} \\operatorname{erf}{\\left(70.7106781186548 y - 22.3606797749979 \\right)}\\right)$"
      ],
      "text/plain": [
       "(-2.03421447256411⋅√π⋅erf(70.7106781186548⋅x - 22.3606797749979) + 2.034214472\n",
       "56411⋅√π⋅erf(70.7106781186548⋅x + 22.3606797749979))⋅(-2.03421447256411⋅√π⋅erf\n",
       "(70.7106781186548⋅y - 44.7213595499958) + 2.03421447256411⋅√π⋅erf(70.710678118\n",
       "6548⋅y - 22.3606797749979))"
      ]
     },
     "execution_count": 53,
     "metadata": {},
     "output_type": "execute_result"
    }
   ],
   "source": [
    "smooth3D1 = integrate(ID3x2,(x₁,-lₘₓ,lₘₓ))*integrate(ID3y1,(y₁,-lₘₓ,lₘₓ))\n",
    "smooth3D2 = integrate(ID3x1,(x₁,-lₘₓ,lₘₓ))*integrate(ID3y2,(y₁,-lₘₓ,lₘₓ))\n",
    "smooth3D3 = integrate(ID3x1,(x₁,-lₘₓ,lₘₓ))*integrate(ID3y3,(y₁,-lₘₓ,lₘₓ))"
   ]
  },
  {
   "cell_type": "code",
   "execution_count": 54,
   "id": "ec70b721",
   "metadata": {
    "scrolled": true
   },
   "outputs": [
    {
     "data": {
      "text/latex": [
       "$\\left(- 2.03421447256411 \\sqrt{\\pi} \\operatorname{erf}{\\left(70.7106781186548 x - 44.7213595499958 \\right)} + 2.03421447256411 \\sqrt{\\pi} \\operatorname{erf}{\\left(70.7106781186548 x + 44.7213595499958 \\right)}\\right) \\left(- 2.03421447256411 \\sqrt{\\pi} \\operatorname{erf}{\\left(70.7106781186548 y - 22.3606797749979 \\right)} + 2.03421447256411 \\sqrt{\\pi} \\operatorname{erf}{\\left(70.7106781186548 y + 22.3606797749979 \\right)}\\right) + \\left(- 2.03421447256411 \\sqrt{\\pi} \\operatorname{erf}{\\left(70.7106781186548 x - 22.3606797749979 \\right)} + 2.03421447256411 \\sqrt{\\pi} \\operatorname{erf}{\\left(70.7106781186548 x + 22.3606797749979 \\right)}\\right) \\left(- 2.03421447256411 \\sqrt{\\pi} \\operatorname{erf}{\\left(70.7106781186548 y - 44.7213595499958 \\right)} + 2.03421447256411 \\sqrt{\\pi} \\operatorname{erf}{\\left(70.7106781186548 y - 22.3606797749979 \\right)}\\right) + \\left(- 2.03421447256411 \\sqrt{\\pi} \\operatorname{erf}{\\left(70.7106781186548 x - 22.3606797749979 \\right)} + 2.03421447256411 \\sqrt{\\pi} \\operatorname{erf}{\\left(70.7106781186548 x + 22.3606797749979 \\right)}\\right) \\left(- 2.03421447256411 \\sqrt{\\pi} \\operatorname{erf}{\\left(70.7106781186548 y + 22.3606797749979 \\right)} + 2.03421447256411 \\sqrt{\\pi} \\operatorname{erf}{\\left(70.7106781186548 y + 44.7213595499958 \\right)}\\right) - 46$"
      ],
      "text/plain": [
       "(-2.03421447256411⋅√π⋅erf(70.7106781186548⋅x - 44.7213595499958) + 2.034214472\n",
       "56411⋅√π⋅erf(70.7106781186548⋅x + 44.7213595499958))⋅(-2.03421447256411⋅√π⋅erf\n",
       "(70.7106781186548⋅y - 22.3606797749979) + 2.03421447256411⋅√π⋅erf(70.710678118\n",
       "6548⋅y + 22.3606797749979)) + (-2.03421447256411⋅√π⋅erf(70.7106781186548⋅x - 2\n",
       "2.3606797749979) + 2.03421447256411⋅√π⋅erf(70.7106781186548⋅x + 22.36067977499\n",
       "79))⋅(-2.03421447256411⋅√π⋅erf(70.7106781186548⋅y - 44.7213595499958) + 2.0342\n",
       "1447256411⋅√π⋅erf(70.7106781186548⋅y - 22.3606797749979)) + (-2.03421447256411\n",
       "⋅√π⋅erf(70.7106781186548⋅x - 22.3606797749979) + 2.03421447256411⋅√π⋅erf(70.71\n",
       "06781186548⋅x + 22.3606797749979))⋅(-2.03421447256411⋅√π⋅erf(70.7106781186548⋅\n",
       "y + 22.3606797749979) + 2.03421447256411⋅√π⋅erf(70.7106781186548⋅y + 44.721359\n",
       "5499958)) - 46"
      ]
     },
     "execution_count": 54,
     "metadata": {},
     "output_type": "execute_result"
    }
   ],
   "source": [
    "D₂₃ = smooth3D1 + smooth3D2 + smooth3D3 + d₂₃ₘ"
   ]
  },
  {
   "cell_type": "code",
   "execution_count": 55,
   "id": "52db8130",
   "metadata": {},
   "outputs": [
    {
     "data": {
      "text/plain": [
       "384.975"
      ]
     },
     "execution_count": 55,
     "metadata": {},
     "output_type": "execute_result"
    }
   ],
   "source": [
    "a₁₁ₘ = 79.65\n",
    "a₁₁ᵢ = 384.975"
   ]
  },
  {
   "cell_type": "code",
   "execution_count": 56,
   "id": "a4c1a580",
   "metadata": {},
   "outputs": [
    {
     "data": {
      "text/plain": [
       "A1y (generic function with 1 method)"
      ]
     },
     "execution_count": 56,
     "metadata": {},
     "output_type": "execute_result"
    }
   ],
   "source": [
    "A1x(x,ax,bx) = sqrt(a₁₁ᵢ - a₁₁ₘ) * interval(x,ax,bx) \n",
    "A1y(y,ay,by) = sqrt(a₁₁ᵢ - a₁₁ₘ) * interval(y,ay,by) "
   ]
  },
  {
   "cell_type": "code",
   "execution_count": 57,
   "id": "ab0e0a52",
   "metadata": {},
   "outputs": [
    {
     "data": {
      "text/latex": [
       "$39.8942280401433 \\left(- 8.73677572105408 \\operatorname{sign}{\\left(x₁ - 0.632455532033676 \\right)} + 8.73677572105408 \\operatorname{sign}{\\left(x₁ + 0.632455532033676 \\right)}\\right) e^{- 5000.0 \\left(x - x₁\\right)^{2}}$"
      ],
      "text/plain": [
       "                                                                              \n",
       "                                                                              \n",
       "39.8942280401433⋅(-8.73677572105408⋅sign(x₁ - 0.632455532033676) + 8.736775721\n",
       "\n",
       "                                                     2\n",
       "                                     -5000.0⋅(x - x₁) \n",
       "05408⋅sign(x₁ + 0.632455532033676))⋅ℯ                 "
      ]
     },
     "execution_count": 57,
     "metadata": {},
     "output_type": "execute_result"
    }
   ],
   "source": [
    "IA1x1 = A1x(x₁,-lₙₓ,lₙₓ)*wₕ(x,x₁)\n",
    "IA1x2 = A1x(x₁,-lₐ₁ₙ,lₐ₁ₙ)*wₕ(x,x₁)"
   ]
  },
  {
   "cell_type": "code",
   "execution_count": 58,
   "id": "f5e9bc23",
   "metadata": {},
   "outputs": [
    {
     "data": {
      "text/latex": [
       "$39.8942280401433 \\left(- 8.73677572105408 \\operatorname{sign}{\\left(y₁ - 0.632455532033676 \\right)} + 8.73677572105408 \\operatorname{sign}{\\left(y₁ - 0.316227766016838 \\right)}\\right) e^{- 5000.0 \\left(y - y₁\\right)^{2}}$"
      ],
      "text/plain": [
       "                                                                              \n",
       "                                                                              \n",
       "39.8942280401433⋅(-8.73677572105408⋅sign(y₁ - 0.632455532033676) + 8.736775721\n",
       "\n",
       "                                                     2\n",
       "                                     -5000.0⋅(y - y₁) \n",
       "05408⋅sign(y₁ - 0.316227766016838))⋅ℯ                 "
      ]
     },
     "execution_count": 58,
     "metadata": {},
     "output_type": "execute_result"
    }
   ],
   "source": [
    "IA1y1 = A1y(y₁,-lₙₓ,lₙₓ)*wₕ(y,y₁)\n",
    "IA1y2 = A1y(y₁,-lₐ₁ₙ,-lₙₓ)*wₕ(y,y₁)\n",
    "IA1y3 = A1y(y₁,lₙₓ,lₐ₁ₙ)*wₕ(y,y₁)"
   ]
  },
  {
   "cell_type": "code",
   "execution_count": 59,
   "id": "0e7bc14f",
   "metadata": {},
   "outputs": [
    {
     "data": {
      "text/latex": [
       "$\\left(- 4.92919785561165 \\sqrt{\\pi} \\operatorname{erf}{\\left(70.7106781186548 x - 22.3606797749979 \\right)} + 4.92919785561165 \\sqrt{\\pi} \\operatorname{erf}{\\left(70.7106781186548 x + 22.3606797749979 \\right)}\\right) \\left(- 4.92919785561165 \\sqrt{\\pi} \\operatorname{erf}{\\left(70.7106781186548 y - 44.7213595499958 \\right)} + 4.92919785561165 \\sqrt{\\pi} \\operatorname{erf}{\\left(70.7106781186548 y - 22.3606797749979 \\right)}\\right)$"
      ],
      "text/plain": [
       "(-4.92919785561165⋅√π⋅erf(70.7106781186548⋅x - 22.3606797749979) + 4.929197855\n",
       "61165⋅√π⋅erf(70.7106781186548⋅x + 22.3606797749979))⋅(-4.92919785561165⋅√π⋅erf\n",
       "(70.7106781186548⋅y - 44.7213595499958) + 4.92919785561165⋅√π⋅erf(70.710678118\n",
       "6548⋅y - 22.3606797749979))"
      ]
     },
     "execution_count": 59,
     "metadata": {},
     "output_type": "execute_result"
    }
   ],
   "source": [
    "smooth1A1 = integrate(IA1x2,(x₁,-lₘₓ,lₘₓ))*integrate(IA1y1,(y₁,-lₘₓ,lₘₓ))\n",
    "smooth1A2 = integrate(IA1x1,(x₁,-lₘₓ,lₘₓ))*integrate(IA1y2,(y₁,-lₘₓ,lₘₓ))\n",
    "smooth1A3 = integrate(IA1x1,(x₁,-lₘₓ,lₘₓ))*integrate(IA1y3,(y₁,-lₘₓ,lₘₓ))"
   ]
  },
  {
   "cell_type": "code",
   "execution_count": 60,
   "id": "06e14162",
   "metadata": {
    "scrolled": true
   },
   "outputs": [
    {
     "data": {
      "text/latex": [
       "$\\left(- 4.92919785561165 \\sqrt{\\pi} \\operatorname{erf}{\\left(70.7106781186548 x - 44.7213595499958 \\right)} + 4.92919785561165 \\sqrt{\\pi} \\operatorname{erf}{\\left(70.7106781186548 x + 44.7213595499958 \\right)}\\right) \\left(- 4.92919785561165 \\sqrt{\\pi} \\operatorname{erf}{\\left(70.7106781186548 y - 22.3606797749979 \\right)} + 4.92919785561165 \\sqrt{\\pi} \\operatorname{erf}{\\left(70.7106781186548 y + 22.3606797749979 \\right)}\\right) + \\left(- 4.92919785561165 \\sqrt{\\pi} \\operatorname{erf}{\\left(70.7106781186548 x - 22.3606797749979 \\right)} + 4.92919785561165 \\sqrt{\\pi} \\operatorname{erf}{\\left(70.7106781186548 x + 22.3606797749979 \\right)}\\right) \\left(- 4.92919785561165 \\sqrt{\\pi} \\operatorname{erf}{\\left(70.7106781186548 y - 44.7213595499958 \\right)} + 4.92919785561165 \\sqrt{\\pi} \\operatorname{erf}{\\left(70.7106781186548 y - 22.3606797749979 \\right)}\\right) + \\left(- 4.92919785561165 \\sqrt{\\pi} \\operatorname{erf}{\\left(70.7106781186548 x - 22.3606797749979 \\right)} + 4.92919785561165 \\sqrt{\\pi} \\operatorname{erf}{\\left(70.7106781186548 x + 22.3606797749979 \\right)}\\right) \\left(- 4.92919785561165 \\sqrt{\\pi} \\operatorname{erf}{\\left(70.7106781186548 y + 22.3606797749979 \\right)} + 4.92919785561165 \\sqrt{\\pi} \\operatorname{erf}{\\left(70.7106781186548 y + 44.7213595499958 \\right)}\\right) + 79.65$"
      ],
      "text/plain": [
       "(-4.92919785561165⋅√π⋅erf(70.7106781186548⋅x - 44.7213595499958) + 4.929197855\n",
       "61165⋅√π⋅erf(70.7106781186548⋅x + 44.7213595499958))⋅(-4.92919785561165⋅√π⋅erf\n",
       "(70.7106781186548⋅y - 22.3606797749979) + 4.92919785561165⋅√π⋅erf(70.710678118\n",
       "6548⋅y + 22.3606797749979)) + (-4.92919785561165⋅√π⋅erf(70.7106781186548⋅x - 2\n",
       "2.3606797749979) + 4.92919785561165⋅√π⋅erf(70.7106781186548⋅x + 22.36067977499\n",
       "79))⋅(-4.92919785561165⋅√π⋅erf(70.7106781186548⋅y - 44.7213595499958) + 4.9291\n",
       "9785561165⋅√π⋅erf(70.7106781186548⋅y - 22.3606797749979)) + (-4.92919785561165\n",
       "⋅√π⋅erf(70.7106781186548⋅x - 22.3606797749979) + 4.92919785561165⋅√π⋅erf(70.71\n",
       "06781186548⋅x + 22.3606797749979))⋅(-4.92919785561165⋅√π⋅erf(70.7106781186548⋅\n",
       "y + 22.3606797749979) + 4.92919785561165⋅√π⋅erf(70.7106781186548⋅y + 44.721359\n",
       "5499958)) + 79.65"
      ]
     },
     "execution_count": 60,
     "metadata": {},
     "output_type": "execute_result"
    }
   ],
   "source": [
    "A₁₁ = smooth1A1 + smooth1A2 + smooth1A3 + a₁₁ₘ"
   ]
  },
  {
   "cell_type": "code",
   "execution_count": 61,
   "id": "60d56f3a",
   "metadata": {},
   "outputs": [
    {
     "data": {
      "text/plain": [
       "265.5"
      ]
     },
     "execution_count": 61,
     "metadata": {},
     "output_type": "execute_result"
    }
   ],
   "source": [
    "a₂₂ₘ = 79.65\n",
    "a₂₂ᵢ = 265.5"
   ]
  },
  {
   "cell_type": "code",
   "execution_count": 62,
   "id": "856e1386",
   "metadata": {},
   "outputs": [
    {
     "data": {
      "text/plain": [
       "A2y (generic function with 1 method)"
      ]
     },
     "execution_count": 62,
     "metadata": {},
     "output_type": "execute_result"
    }
   ],
   "source": [
    "A2x(x,ax,bx) = sqrt(a₂₂ᵢ - a₂₂ₘ)  * interval(x,ax,bx) \n",
    "A2y(y,ay,by) = sqrt(a₂₂ᵢ - a₂₂ₘ)  * interval(y,ay,by) "
   ]
  },
  {
   "cell_type": "code",
   "execution_count": 63,
   "id": "1da7704e",
   "metadata": {},
   "outputs": [
    {
     "data": {
      "text/latex": [
       "$39.8942280401433 \\left(- 6.81634066050106 \\operatorname{sign}{\\left(x₁ - 0.632455532033676 \\right)} + 6.81634066050106 \\operatorname{sign}{\\left(x₁ + 0.632455532033676 \\right)}\\right) e^{- 5000.0 \\left(x - x₁\\right)^{2}}$"
      ],
      "text/plain": [
       "                                                                              \n",
       "                                                                              \n",
       "39.8942280401433⋅(-6.81634066050106⋅sign(x₁ - 0.632455532033676) + 6.816340660\n",
       "\n",
       "                                                     2\n",
       "                                     -5000.0⋅(x - x₁) \n",
       "50106⋅sign(x₁ + 0.632455532033676))⋅ℯ                 "
      ]
     },
     "execution_count": 63,
     "metadata": {},
     "output_type": "execute_result"
    }
   ],
   "source": [
    "IA2x1 = A2x(x₁,-lₙₓ,lₙₓ)*wₕ(x,x₁)\n",
    "IA2x2 = A2x(x₁,-lₐ₁ₙ,lₐ₁ₙ)*wₕ(x,x₁)"
   ]
  },
  {
   "cell_type": "code",
   "execution_count": 64,
   "id": "c8810808",
   "metadata": {},
   "outputs": [
    {
     "data": {
      "text/latex": [
       "$39.8942280401433 \\left(- 6.81634066050106 \\operatorname{sign}{\\left(y₁ - 0.632455532033676 \\right)} + 6.81634066050106 \\operatorname{sign}{\\left(y₁ - 0.316227766016838 \\right)}\\right) e^{- 5000.0 \\left(y - y₁\\right)^{2}}$"
      ],
      "text/plain": [
       "                                                                              \n",
       "                                                                              \n",
       "39.8942280401433⋅(-6.81634066050106⋅sign(y₁ - 0.632455532033676) + 6.816340660\n",
       "\n",
       "                                                     2\n",
       "                                     -5000.0⋅(y - y₁) \n",
       "50106⋅sign(y₁ - 0.316227766016838))⋅ℯ                 "
      ]
     },
     "execution_count": 64,
     "metadata": {},
     "output_type": "execute_result"
    }
   ],
   "source": [
    "IA2y1 = A2y(y₁,-lₙₓ,lₙₓ)*wₕ(y,y₁)\n",
    "IA2y2 = A2y(y₁,-lₐ₁ₙ,-lₙₓ)*wₕ(y,y₁)\n",
    "IA2y3 = A2y(y₁,lₙₓ,lₐ₁ₙ)*wₕ(y,y₁)"
   ]
  },
  {
   "cell_type": "code",
   "execution_count": 65,
   "id": "8578adff",
   "metadata": {},
   "outputs": [
    {
     "data": {
      "text/latex": [
       "$\\left(- 3.84570839856773 \\sqrt{\\pi} \\operatorname{erf}{\\left(70.7106781186548 x - 22.3606797749979 \\right)} + 3.84570839856773 \\sqrt{\\pi} \\operatorname{erf}{\\left(70.7106781186548 x + 22.3606797749979 \\right)}\\right) \\left(- 3.84570839856773 \\sqrt{\\pi} \\operatorname{erf}{\\left(70.7106781186548 y - 44.7213595499958 \\right)} + 3.84570839856773 \\sqrt{\\pi} \\operatorname{erf}{\\left(70.7106781186548 y - 22.3606797749979 \\right)}\\right)$"
      ],
      "text/plain": [
       "(-3.84570839856773⋅√π⋅erf(70.7106781186548⋅x - 22.3606797749979) + 3.845708398\n",
       "56773⋅√π⋅erf(70.7106781186548⋅x + 22.3606797749979))⋅(-3.84570839856773⋅√π⋅erf\n",
       "(70.7106781186548⋅y - 44.7213595499958) + 3.84570839856773⋅√π⋅erf(70.710678118\n",
       "6548⋅y - 22.3606797749979))"
      ]
     },
     "execution_count": 65,
     "metadata": {},
     "output_type": "execute_result"
    }
   ],
   "source": [
    "smooth2A1 = integrate(IA2x2,(x₁,-lₘₓ,lₘₓ))*integrate(IA2y1,(y₁,-lₘₓ,lₘₓ))\n",
    "smooth2A2 = integrate(IA2x1,(x₁,-lₘₓ,lₘₓ))*integrate(IA2y2,(y₁,-lₘₓ,lₘₓ))\n",
    "smooth2A3 = integrate(IA2x1,(x₁,-lₘₓ,lₘₓ))*integrate(IA2y3,(y₁,-lₘₓ,lₘₓ))"
   ]
  },
  {
   "cell_type": "code",
   "execution_count": 66,
   "id": "c3aea22b",
   "metadata": {
    "scrolled": true
   },
   "outputs": [
    {
     "data": {
      "text/latex": [
       "$\\left(- 3.84570839856773 \\sqrt{\\pi} \\operatorname{erf}{\\left(70.7106781186548 x - 44.7213595499958 \\right)} + 3.84570839856773 \\sqrt{\\pi} \\operatorname{erf}{\\left(70.7106781186548 x + 44.7213595499958 \\right)}\\right) \\left(- 3.84570839856773 \\sqrt{\\pi} \\operatorname{erf}{\\left(70.7106781186548 y - 22.3606797749979 \\right)} + 3.84570839856773 \\sqrt{\\pi} \\operatorname{erf}{\\left(70.7106781186548 y + 22.3606797749979 \\right)}\\right) + \\left(- 3.84570839856773 \\sqrt{\\pi} \\operatorname{erf}{\\left(70.7106781186548 x - 22.3606797749979 \\right)} + 3.84570839856773 \\sqrt{\\pi} \\operatorname{erf}{\\left(70.7106781186548 x + 22.3606797749979 \\right)}\\right) \\left(- 3.84570839856773 \\sqrt{\\pi} \\operatorname{erf}{\\left(70.7106781186548 y - 44.7213595499958 \\right)} + 3.84570839856773 \\sqrt{\\pi} \\operatorname{erf}{\\left(70.7106781186548 y - 22.3606797749979 \\right)}\\right) + \\left(- 3.84570839856773 \\sqrt{\\pi} \\operatorname{erf}{\\left(70.7106781186548 x - 22.3606797749979 \\right)} + 3.84570839856773 \\sqrt{\\pi} \\operatorname{erf}{\\left(70.7106781186548 x + 22.3606797749979 \\right)}\\right) \\left(- 3.84570839856773 \\sqrt{\\pi} \\operatorname{erf}{\\left(70.7106781186548 y + 22.3606797749979 \\right)} + 3.84570839856773 \\sqrt{\\pi} \\operatorname{erf}{\\left(70.7106781186548 y + 44.7213595499958 \\right)}\\right) + 79.65$"
      ],
      "text/plain": [
       "(-3.84570839856773⋅√π⋅erf(70.7106781186548⋅x - 44.7213595499958) + 3.845708398\n",
       "56773⋅√π⋅erf(70.7106781186548⋅x + 44.7213595499958))⋅(-3.84570839856773⋅√π⋅erf\n",
       "(70.7106781186548⋅y - 22.3606797749979) + 3.84570839856773⋅√π⋅erf(70.710678118\n",
       "6548⋅y + 22.3606797749979)) + (-3.84570839856773⋅√π⋅erf(70.7106781186548⋅x - 2\n",
       "2.3606797749979) + 3.84570839856773⋅√π⋅erf(70.7106781186548⋅x + 22.36067977499\n",
       "79))⋅(-3.84570839856773⋅√π⋅erf(70.7106781186548⋅y - 44.7213595499958) + 3.8457\n",
       "0839856773⋅√π⋅erf(70.7106781186548⋅y - 22.3606797749979)) + (-3.84570839856773\n",
       "⋅√π⋅erf(70.7106781186548⋅x - 22.3606797749979) + 3.84570839856773⋅√π⋅erf(70.71\n",
       "06781186548⋅x + 22.3606797749979))⋅(-3.84570839856773⋅√π⋅erf(70.7106781186548⋅\n",
       "y + 22.3606797749979) + 3.84570839856773⋅√π⋅erf(70.7106781186548⋅y + 44.721359\n",
       "5499958)) + 79.65"
      ]
     },
     "execution_count": 66,
     "metadata": {},
     "output_type": "execute_result"
    }
   ],
   "source": [
    "A₂₂ = smooth2A1 + smooth2A2 + smooth2A3 + a₂₂ₘ"
   ]
  },
  {
   "cell_type": "code",
   "execution_count": 67,
   "id": "d092bad5",
   "metadata": {},
   "outputs": [
    {
     "name": "stderr",
     "output_type": "stream",
     "text": [
      "WARNING: using Fields.integrate in module Main conflicts with an existing identifier.\n"
     ]
    }
   ],
   "source": [
    "using Gmsh: gmsh\n",
    "using Gridap\n",
    "using GridapGmsh\n",
    "using SparseArrays\n",
    "using WriteVTK\n",
    "using Gridap.Fields\n",
    "using Gridap.CellData\n",
    "using Gridap.TensorValues\n",
    "using Gridap.ReferenceFEs\n",
    "using Gridap.Geometry"
   ]
  },
  {
   "cell_type": "code",
   "execution_count": 68,
   "id": "da22ff29",
   "metadata": {
    "scrolled": true
   },
   "outputs": [
    {
     "name": "stdout",
     "output_type": "stream",
     "text": [
      "Info    : Meshing 1D...\n",
      "Info    : [  0%] Meshing curve 1 (Line)\n",
      "Info    : [ 10%] Meshing curve 2 (Line)\n",
      "Info    : [ 20%] Meshing curve 3 (Line)\n",
      "Info    : [ 20%] Meshing curve 4 (Line)\n",
      "Info    : [ 30%] Meshing curve 5 (Line)\n",
      "Info    : [ 40%] Meshing curve 6 (Line)\n",
      "Info    : [ 40%] Meshing curve 7 (Line)\n",
      "Info    : [ 50%] Meshing curve 8 (Line)\n",
      "Info    : [ 50%] Meshing curve 9 (Line)\n",
      "Info    : [ 60%] Meshing curve 10 (Line)\n",
      "Info    : [ 70%] Meshing curve 11 (Line)\n",
      "Info    : [ 70%] Meshing curve 12 (Line)\n",
      "Info    : [ 80%] Meshing curve 13 (Line)\n",
      "Info    : [ 90%] Meshing curve 14 (Line)\n",
      "Info    : [ 90%] Meshing curve 15 (Line)\n",
      "Info    : [100%] Meshing curve 16 (Line)\n",
      "Info    : Done meshing 1D (Wall 0.000920018s, CPU 0.000916s)\n",
      "Info    : Meshing 2D...\n",
      "Info    : [  0%] Meshing surface 1 (Plane, Frontal-Delaunay)\n",
      "Info    : [ 50%] Meshing surface 2 (Plane, Frontal-Delaunay)\n",
      "Info    : Done meshing 2D (Wall 1.02422s, CPU 1.01216s)\n",
      "Info    : 42896 nodes 86490 elements\n",
      "Info    : Writing '+Shape.msh'...\n",
      "Info    : Done writing '+Shape.msh'\n"
     ]
    },
    {
     "name": "stderr",
     "output_type": "stream",
     "text": [
      "Warning : Unknown entity of dimension 2 and tag 1 in physical group 1\n",
      "Warning : Unknown entity of dimension 2 and tag 2 in physical group 2\n",
      "Warning : Unknown entity of dimension 1 and tag 4 in physical group 3\n",
      "Warning : Unknown entity of dimension 1 and tag 2 in physical group 4\n",
      "Warning : Unknown entity of dimension 1 and tag 4 in physical group 5\n",
      "Warning : Unknown entity of dimension 1 and tag 2 in physical group 6\n",
      "Warning : Unknown entity of dimension 1 and tag 1 in physical group 7\n",
      "Warning : Unknown entity of dimension 1 and tag 3 in physical group 8\n",
      "Warning : Unknown entity of dimension 1 and tag 1 in physical group 9\n",
      "Warning : Unknown entity of dimension 1 and tag 3 in physical group 10\n"
     ]
    }
   ],
   "source": [
    "gmsh.initialize()\n",
    "gmsh.option.setNumber(\"General.Terminal\", 1)\n",
    "\n",
    "hᵢ = 0.01\n",
    "h = 2.5e-2\n",
    "hf = 0.75e-2\n",
    "Lₚ = 1.0\n",
    "Hₚ = 1.0\n",
    "\n",
    "p1 = gmsh.model.geo.addPoint(-Lₚ, -Hₚ, 0.0, h)\n",
    "p2 = gmsh.model.geo.addPoint(Lₚ, -Hₚ, 0.0, h)\n",
    "p3 = gmsh.model.geo.addPoint(Lₚ, Hₚ, 0.0, h)\n",
    "p4 = gmsh.model.geo.addPoint(-Lₚ, Hₚ, 0.0, h)\n",
    "\n",
    "l1 = gmsh.model.geo.addLine(p1, p2)\n",
    "l2 = gmsh.model.geo.addLine(p2, p3)\n",
    "l3 = gmsh.model.geo.addLine(p3, p4)\n",
    "l4 = gmsh.model.geo.addLine(p4, p1)\n",
    "\n",
    "c1 = gmsh.model.geo.addCurveLoop([l3,l4,l1,l2])\n",
    "\n",
    "p5 = gmsh.model.geo.addPoint(-p/2, -p/2, 0.0, hf)\n",
    "p6 = gmsh.model.geo.addPoint(-p/2, -p, 0.0, hf)\n",
    "p7 = gmsh.model.geo.addPoint(p/2, -p, 0.0, hf)\n",
    "p8 = gmsh.model.geo.addPoint(p/2, -p/2, 0.0, hf)\n",
    "p9 = gmsh.model.geo.addPoint(p, -p/2, 0.0, hf)\n",
    "p10 = gmsh.model.geo.addPoint(p, p/2, 0.0, hf)\n",
    "p11 = gmsh.model.geo.addPoint(p/2, p/2, 0.0, hf)\n",
    "p12 = gmsh.model.geo.addPoint(p/2, p, 0.0, hf)\n",
    "p13 = gmsh.model.geo.addPoint(-p/2, p, 0.0, hf)\n",
    "p14 = gmsh.model.geo.addPoint(-p/2, p/2, 0.0, hf)\n",
    "p15 = gmsh.model.geo.addPoint(-p, p/2, 0.0, hf)\n",
    "p16 = gmsh.model.geo.addPoint(-p, -p/2, 0.0, hf)\n",
    "\n",
    "l5 = gmsh.model.geo.addLine(p5, p6)\n",
    "l6 = gmsh.model.geo.addLine(p6, p7)\n",
    "l7 = gmsh.model.geo.addLine(p7, p8)\n",
    "l8 = gmsh.model.geo.addLine(p8, p9)\n",
    "l9 = gmsh.model.geo.addLine(p9, p10)\n",
    "l10 = gmsh.model.geo.addLine(p10, p11)\n",
    "l11 = gmsh.model.geo.addLine(p11, p12)\n",
    "l12 = gmsh.model.geo.addLine(p12, p13)\n",
    "l13 = gmsh.model.geo.addLine(p13, p14)\n",
    "l14 = gmsh.model.geo.addLine(p14, p15)\n",
    "l15 = gmsh.model.geo.addLine(p15, p16)\n",
    "l16 = gmsh.model.geo.addLine(p16, p5)\n",
    "\n",
    "c2 = gmsh.model.geo.addCurveLoop([l5,l6,l7,l8,l9,l10,l11,l12,l13,l14,l15,l16])\n",
    "\n",
    "#=\n",
    "p17 = gmsh.model.geo.addPoint(-(p/2 + hᵢ), -(p/2 + hᵢ), 0.0, hf)\n",
    "p18 = gmsh.model.geo.addPoint(-(p/2 + hᵢ), -(p + hᵢ), 0.0, hf)\n",
    "p19 = gmsh.model.geo.addPoint((p/2 + hᵢ), -(p + hᵢ), 0.0, hf)\n",
    "p20 = gmsh.model.geo.addPoint((p/2 + hᵢ), -(p/2 + hᵢ), 0.0, hf)\n",
    "p21 = gmsh.model.geo.addPoint((p + hᵢ), -(p/2 + hᵢ), 0.0, hf)\n",
    "p22 = gmsh.model.geo.addPoint((p + hᵢ), (p/2 + hᵢ), 0.0, hf)\n",
    "p23 = gmsh.model.geo.addPoint((p/2 + hᵢ), (p/2 + hᵢ), 0.0, hf)\n",
    "p24 = gmsh.model.geo.addPoint((p/2 + hᵢ), (p + hᵢ), 0.0, hf)\n",
    "p25 = gmsh.model.geo.addPoint(-(p/2 + hᵢ), (p + hᵢ), 0.0, hf)\n",
    "p26 = gmsh.model.geo.addPoint(-(p/2 + hᵢ), (p/2 + hᵢ), 0.0, hf)\n",
    "p27 = gmsh.model.geo.addPoint(-(p + hᵢ), (p/2 + hᵢ), 0.0, hf)\n",
    "p28 = gmsh.model.geo.addPoint(-(p + hᵢ), -(p/2 + hᵢ), 0.0, hf)\n",
    "\n",
    "\n",
    "l17 = gmsh.model.geo.addLine(p17, p18)\n",
    "l18 = gmsh.model.geo.addLine(p18, p19)\n",
    "l19 = gmsh.model.geo.addLine(p19, p20)\n",
    "l20 = gmsh.model.geo.addLine(p20, p21)\n",
    "l21 = gmsh.model.geo.addLine(p21, p22)\n",
    "l22 = gmsh.model.geo.addLine(p22, p23)\n",
    "l23 = gmsh.model.geo.addLine(p23, p24)\n",
    "l24 = gmsh.model.geo.addLine(p24, p25)\n",
    "l25 = gmsh.model.geo.addLine(p25, p26)\n",
    "l26 = gmsh.model.geo.addLine(p26, p27)\n",
    "l27 = gmsh.model.geo.addLine(p27, p28)\n",
    "l28 = gmsh.model.geo.addLine(p28, p17)\n",
    "\n",
    "\n",
    "c3 = gmsh.model.geo.addCurveLoop([l17,l18,l19,l20,l21,l22,l23,l24,l25,l26,l27,l28])\n",
    "\n",
    "p29 = gmsh.model.geo.addPoint(-(p/2 - hᵢ), -(p/2 - hᵢ), 0.0, hf)\n",
    "p30 = gmsh.model.geo.addPoint(-(p/2 - hᵢ), -(p - hᵢ), 0.0, hf)\n",
    "p31 = gmsh.model.geo.addPoint((p/2 - hᵢ), -(p - hᵢ), 0.0, hf)\n",
    "p32 = gmsh.model.geo.addPoint((p/2 - hᵢ), -(p/2 - hᵢ), 0.0, hf)\n",
    "p33 = gmsh.model.geo.addPoint((p - hᵢ), -(p/2 - hᵢ), 0.0, hf)\n",
    "p34 = gmsh.model.geo.addPoint((p - hᵢ), (p/2 - hᵢ), 0.0, hf)\n",
    "p35 = gmsh.model.geo.addPoint((p/2 - hᵢ), (p/2 - hᵢ), 0.0, hf)\n",
    "p36 = gmsh.model.geo.addPoint((p/2 - hᵢ), (p - hᵢ), 0.0, hf)\n",
    "p37 = gmsh.model.geo.addPoint(-(p/2 - hᵢ), (p - hᵢ), 0.0, hf)\n",
    "p38 = gmsh.model.geo.addPoint(-(p/2 - hᵢ), (p/2 - hᵢ), 0.0, hf)\n",
    "p39 = gmsh.model.geo.addPoint(-(p - hᵢ), (p/2 - hᵢ), 0.0, hf)\n",
    "p40 = gmsh.model.geo.addPoint(-(p - hᵢ), -(p/2 - hᵢ), 0.0, hf)\n",
    "\n",
    "\n",
    "l29 = gmsh.model.geo.addLine(p29, p30)\n",
    "l30 = gmsh.model.geo.addLine(p30, p31)\n",
    "l31 = gmsh.model.geo.addLine(p31, p32)\n",
    "l32 = gmsh.model.geo.addLine(p32, p33)\n",
    "l33 = gmsh.model.geo.addLine(p33, p34)\n",
    "l34 = gmsh.model.geo.addLine(p34, p35)\n",
    "l35 = gmsh.model.geo.addLine(p35, p36)\n",
    "l36 = gmsh.model.geo.addLine(p36, p37)\n",
    "l37 = gmsh.model.geo.addLine(p37, p38)\n",
    "l38 = gmsh.model.geo.addLine(p38, p39)\n",
    "l39 = gmsh.model.geo.addLine(p39, p40)\n",
    "l40 = gmsh.model.geo.addLine(p40, p29)\n",
    "\n",
    "c4 = gmsh.model.geo.addCurveLoop([l29,l30,l31,l32,l33,l34,l35,l36,l37,l38,l39,l40])\n",
    "=#\n",
    "\n",
    "s1 = gmsh.model.geo.addPlaneSurface([c2])\n",
    "#s2 = gmsh.model.geo.addPlaneSurface([c3,-c4])\n",
    "s3 = gmsh.model.geo.addPlaneSurface([c1,-c2])\n",
    "\n",
    "g1 = gmsh.model.addPhysicalGroup(2, [s1])\n",
    "#g2 = gmsh.model.addPhysicalGroup(2, [s2])\n",
    "g3 = gmsh.model.addPhysicalGroup(2, [s3])\n",
    "\n",
    "g4 = gmsh.model.addPhysicalGroup(1, [l4])\n",
    "g5 = gmsh.model.addPhysicalGroup(1, [l2])\n",
    "g6 = gmsh.model.addPhysicalGroup(1, [l4])\n",
    "g7 = gmsh.model.addPhysicalGroup(1, [l2])\n",
    "\n",
    "g8 = gmsh.model.addPhysicalGroup(1, [l1])\n",
    "g9 = gmsh.model.addPhysicalGroup(1, [l3])\n",
    "g10 = gmsh.model.addPhysicalGroup(1, [l1])\n",
    "g11 = gmsh.model.addPhysicalGroup(1, [l3])\n",
    "\n",
    "gmsh.model.setPhysicalName(1, g4, \"DirichletLeft\")\n",
    "gmsh.model.setPhysicalName(1, g5, \"DirichletRight\")\n",
    "gmsh.model.setPhysicalName(1, g6, \"ElectricPotentialleft\")\n",
    "gmsh.model.setPhysicalName(1, g7, \"ElectricPotentialright\")\n",
    "\n",
    "gmsh.model.setPhysicalName(1, g8, \"DirichletBot\")\n",
    "gmsh.model.setPhysicalName(1, g9, \"DirichletTop\")\n",
    "gmsh.model.setPhysicalName(1, g10, \"ElectricPotentialBot\")\n",
    "gmsh.model.setPhysicalName(1, g11, \"ElectricPotentialTop\")\n",
    "\n",
    "gmsh.model.setPhysicalName(2, g1, \"PiezoMat2\")\n",
    "#gmsh.model.setPhysicalName(2, g2, \"Diffused Layer\")\n",
    "gmsh.model.setPhysicalName(2, g3, \"PiezoMat1\")\n",
    "\n",
    "\n",
    "gmsh.model.geo.synchronize()\n",
    "gmsh.model.mesh.generate(2)\n",
    "gmsh.write(\"+Shape.msh\")\n",
    "gmsh.finalize()"
   ]
  },
  {
   "cell_type": "code",
   "execution_count": 69,
   "id": "1a24bda6",
   "metadata": {
    "scrolled": true
   },
   "outputs": [
    {
     "name": "stdout",
     "output_type": "stream",
     "text": [
      "Info    : Reading '+Shape.msh'...\n",
      "Info    : 34 entities\n",
      "Info    : 42896 nodes\n",
      "Info    : 85790 elements\n",
      "Info    : Done reading '+Shape.msh'\n"
     ]
    },
    {
     "data": {
      "text/plain": [
       "3-element Vector{Vector{String}}:\n",
       " [\"+Shape_0.vtu\"]\n",
       " [\"+Shape_1.vtu\"]\n",
       " [\"+Shape_2.vtu\"]"
      ]
     },
     "execution_count": 69,
     "metadata": {},
     "output_type": "execute_result"
    }
   ],
   "source": [
    "model = GmshDiscreteModel(\"+Shape.msh\")\n",
    "writevtk(model,\"+Shape\")"
   ]
  },
  {
   "cell_type": "markdown",
   "id": "bfeb313f",
   "metadata": {},
   "source": [
    "## Extracting Cell Points"
   ]
  },
  {
   "cell_type": "code",
   "execution_count": 70,
   "id": "3f015568",
   "metadata": {},
   "outputs": [
    {
     "data": {
      "text/plain": [
       "Measure()"
      ]
     },
     "execution_count": 70,
     "metadata": {},
     "output_type": "execute_result"
    }
   ],
   "source": [
    "order = 1\n",
    "degree = 2*order\n",
    "Ω = Triangulation(model)\n",
    "dΩ = Measure(Ω,degree)"
   ]
  },
  {
   "cell_type": "markdown",
   "id": "459257bc",
   "metadata": {},
   "source": [
    "## Constitutive Matrices"
   ]
  },
  {
   "cell_type": "markdown",
   "id": "6d935446",
   "metadata": {},
   "source": [
    "### Elastic stiffness Tensor"
   ]
  },
  {
   "cell_type": "code",
   "execution_count": 71,
   "id": "81f4c2d2",
   "metadata": {},
   "outputs": [
    {
     "data": {
      "text/plain": [
       "CellPoint()"
      ]
     },
     "execution_count": 71,
     "metadata": {},
     "output_type": "execute_result"
    }
   ],
   "source": [
    "p = get_cell_points(Ω)"
   ]
  },
  {
   "cell_type": "code",
   "execution_count": 72,
   "id": "ef8b0d9a",
   "metadata": {},
   "outputs": [
    {
     "data": {
      "text/plain": [
       "UnconstrainedFESpace()"
      ]
     },
     "execution_count": 72,
     "metadata": {},
     "output_type": "execute_result"
    }
   ],
   "source": [
    "reffe = ReferenceFE(lagrangian,Float64,order)\n",
    "V₁ = FESpace(model, reffe, conformity=:H1)"
   ]
  },
  {
   "cell_type": "code",
   "execution_count": 73,
   "id": "90a7999c",
   "metadata": {},
   "outputs": [
    {
     "ename": "LoadError",
     "evalue": "ArgumentError: Package SpecialFunctions not found in current path.\n- Run `import Pkg; Pkg.add(\"SpecialFunctions\")` to install the SpecialFunctions package.",
     "output_type": "error",
     "traceback": [
      "ArgumentError: Package SpecialFunctions not found in current path.\n- Run `import Pkg; Pkg.add(\"SpecialFunctions\")` to install the SpecialFunctions package.",
      "",
      "Stacktrace:",
      " [1] macro expansion",
      "   @ ./loading.jl:1163 [inlined]",
      " [2] macro expansion",
      "   @ ./lock.jl:223 [inlined]",
      " [3] require(into::Module, mod::Symbol)",
      "   @ Base ./loading.jl:1144",
      " [4] eval",
      "   @ ./boot.jl:368 [inlined]",
      " [5] include_string(mapexpr::typeof(REPL.softscope), mod::Module, code::String, filename::String)",
      "   @ Base ./loading.jl:1428"
     ]
    }
   ],
   "source": [
    "using SpecialFunctions"
   ]
  },
  {
   "cell_type": "code",
   "execution_count": 74,
   "id": "9680b463",
   "metadata": {},
   "outputs": [
    {
     "data": {
      "text/plain": [
       "SingleFieldFEFunction():\n",
       " num_cells: 85470\n",
       " DomainStyle: ReferenceDomain()\n",
       " Triangulation: BodyFittedTriangulation()\n",
       " Triangulation id: 13210993963110046629"
      ]
     },
     "execution_count": 74,
     "metadata": {},
     "output_type": "execute_result"
    }
   ],
   "source": [
    "C₁₁₁ = lambdify(C₁₁₁₁)\n",
    "C₁₁₁₁l(p) = C₁₁₁.(p[1],p[2])\n",
    "C₁₁₁₁t = interpolate_everywhere(C₁₁₁₁l, V₁)"
   ]
  },
  {
   "cell_type": "code",
   "execution_count": 75,
   "id": "b51d0fcb",
   "metadata": {},
   "outputs": [
    {
     "data": {
      "text/plain": [
       "SingleFieldFEFunction():\n",
       " num_cells: 85470\n",
       " DomainStyle: ReferenceDomain()\n",
       " Triangulation: BodyFittedTriangulation()\n",
       " Triangulation id: 13210993963110046629"
      ]
     },
     "execution_count": 75,
     "metadata": {},
     "output_type": "execute_result"
    }
   ],
   "source": [
    "C₁₁₂ = lambdify(C₁₁₂₂)\n",
    "C₁₂l(p) = C₁₁₂.(p[1],p[2])\n",
    "C₁₁₂₂t = interpolate_everywhere(C₁₂l, V₁)"
   ]
  },
  {
   "cell_type": "code",
   "execution_count": 76,
   "id": "b2126689",
   "metadata": {},
   "outputs": [
    {
     "data": {
      "text/plain": [
       "SingleFieldFEFunction():\n",
       " num_cells: 85470\n",
       " DomainStyle: ReferenceDomain()\n",
       " Triangulation: BodyFittedTriangulation()\n",
       " Triangulation id: 13210993963110046629"
      ]
     },
     "execution_count": 76,
     "metadata": {},
     "output_type": "execute_result"
    }
   ],
   "source": [
    "C₃₃₃ = lambdify(C₃₃₃₃)\n",
    "C₃₃l(p) = C₃₃₃.(p[1],p[2])\n",
    "C₃₃₃₃t = interpolate_everywhere(C₃₃l, V₁)"
   ]
  },
  {
   "cell_type": "code",
   "execution_count": 77,
   "id": "94707f24",
   "metadata": {},
   "outputs": [
    {
     "data": {
      "text/plain": [
       "SingleFieldFEFunction():\n",
       " num_cells: 85470\n",
       " DomainStyle: ReferenceDomain()\n",
       " Triangulation: BodyFittedTriangulation()\n",
       " Triangulation id: 13210993963110046629"
      ]
     },
     "execution_count": 77,
     "metadata": {},
     "output_type": "execute_result"
    }
   ],
   "source": [
    "d₁₁ = lambdify(D₁₁)\n",
    "d₁₁l(p) = d₁₁.(p[1],p[2])\n",
    "d₁₁t = interpolate_everywhere(d₁₁l, V₁)"
   ]
  },
  {
   "cell_type": "code",
   "execution_count": 78,
   "id": "0b5b28e9",
   "metadata": {},
   "outputs": [
    {
     "data": {
      "text/plain": [
       "SingleFieldFEFunction():\n",
       " num_cells: 85470\n",
       " DomainStyle: ReferenceDomain()\n",
       " Triangulation: BodyFittedTriangulation()\n",
       " Triangulation id: 13210993963110046629"
      ]
     },
     "execution_count": 78,
     "metadata": {},
     "output_type": "execute_result"
    }
   ],
   "source": [
    "d₂₁ = lambdify(D₂₁)\n",
    "d₂₁l(p) = d₂₁.(p[1],p[2])\n",
    "d₂₁t = interpolate_everywhere(d₂₁l, V₁)"
   ]
  },
  {
   "cell_type": "code",
   "execution_count": 79,
   "id": "1930b9e6",
   "metadata": {},
   "outputs": [
    {
     "data": {
      "text/plain": [
       "SingleFieldFEFunction():\n",
       " num_cells: 85470\n",
       " DomainStyle: ReferenceDomain()\n",
       " Triangulation: BodyFittedTriangulation()\n",
       " Triangulation id: 13210993963110046629"
      ]
     },
     "execution_count": 79,
     "metadata": {},
     "output_type": "execute_result"
    }
   ],
   "source": [
    "d₂₂ = lambdify(D₂₂)\n",
    "d₂₂l(p) = d₂₂.(p[1],p[2])\n",
    "d₂₂t = interpolate_everywhere(d₂₂l, V₁)"
   ]
  },
  {
   "cell_type": "code",
   "execution_count": 80,
   "id": "fc6366df",
   "metadata": {},
   "outputs": [
    {
     "data": {
      "text/plain": [
       "SingleFieldFEFunction():\n",
       " num_cells: 85470\n",
       " DomainStyle: ReferenceDomain()\n",
       " Triangulation: BodyFittedTriangulation()\n",
       " Triangulation id: 13210993963110046629"
      ]
     },
     "execution_count": 80,
     "metadata": {},
     "output_type": "execute_result"
    }
   ],
   "source": [
    "d₂₃ = lambdify(D₂₃)\n",
    "d₂₃l(p) = d₂₃.(p[1],p[2])\n",
    "d₂₃t = interpolate_everywhere(d₂₃l, V₁)"
   ]
  },
  {
   "cell_type": "code",
   "execution_count": 81,
   "id": "86f4ba30",
   "metadata": {},
   "outputs": [
    {
     "data": {
      "text/plain": [
       "SingleFieldFEFunction():\n",
       " num_cells: 85470\n",
       " DomainStyle: ReferenceDomain()\n",
       " Triangulation: BodyFittedTriangulation()\n",
       " Triangulation id: 13210993963110046629"
      ]
     },
     "execution_count": 81,
     "metadata": {},
     "output_type": "execute_result"
    }
   ],
   "source": [
    "a₁ = lambdify(A₁₁)\n",
    "a₁₁l(p) = a₁.(p[1],p[2])\n",
    "a₁₁t = interpolate_everywhere(a₁₁l, V₁)"
   ]
  },
  {
   "cell_type": "code",
   "execution_count": 82,
   "id": "ef26feb2",
   "metadata": {},
   "outputs": [
    {
     "data": {
      "text/plain": [
       "SingleFieldFEFunction():\n",
       " num_cells: 85470\n",
       " DomainStyle: ReferenceDomain()\n",
       " Triangulation: BodyFittedTriangulation()\n",
       " Triangulation id: 13210993963110046629"
      ]
     },
     "execution_count": 82,
     "metadata": {},
     "output_type": "execute_result"
    }
   ],
   "source": [
    "a₂ = lambdify(A₂₂)\n",
    "a₂₂l(p) = a₂.(p[1],p[2])\n",
    "a₂₂t = interpolate_everywhere(a₂₂l, V₁)"
   ]
  },
  {
   "cell_type": "code",
   "execution_count": 83,
   "id": "ce5b7b6b",
   "metadata": {},
   "outputs": [
    {
     "data": {
      "text/plain": [
       "([\"Material_Properties.vtu\"],)"
      ]
     },
     "execution_count": 83,
     "metadata": {},
     "output_type": "execute_result"
    }
   ],
   "source": [
    " writevtk(Ω,\"Material_Properties\",cellfields=\n",
    "        [\"C₁₁₁₁\"=>C₁₁₁₁t,\"C₁₁₂₂\"=>C₁₁₂₂t, \"C₃₃₃₃\"=>C₃₃₃₃t, \"d₁₁\"=>d₁₁t,\"d₂₁\"=>d₂₁t, \"d₂₂\"=>d₂₂t, \n",
    "        \"d₂₃\"=>d₂₃t, \"a₁₁\"=>a₁₁t,\n",
    "        \"a₂₂\"=>a₂₂t])"
   ]
  },
  {
   "cell_type": "code",
   "execution_count": 84,
   "id": "1211ef01",
   "metadata": {},
   "outputs": [
    {
     "data": {
      "text/plain": [
       "ElasFourthOrderConstTensor (generic function with 1 method)"
      ]
     },
     "execution_count": 84,
     "metadata": {},
     "output_type": "execute_result"
    }
   ],
   "source": [
    "function ElasFourthOrderConstTensor(C₁₁,C₁₂,C₃₃)\n",
    "      C1111 = C₁₁\n",
    "      C1122 = C₁₂\n",
    "      C1112 = 0.0\n",
    "      C2222 = C₁₁\n",
    "      C2212 = 0.0\n",
    "      C1212 = C₃₃    \n",
    "      C_ten = SymFourthOrderTensorValue(C1111,C1112,C1122,C1112,C1212,C2212,C1122,C2212,C2222)\n",
    "    return  C_ten\n",
    "end"
   ]
  },
  {
   "cell_type": "markdown",
   "id": "3933100e",
   "metadata": {},
   "source": [
    "### Third order piezoelectric tensor"
   ]
  },
  {
   "cell_type": "code",
   "execution_count": 85,
   "id": "9b9993c0",
   "metadata": {},
   "outputs": [
    {
     "data": {
      "text/plain": [
       "PiezoThirdOrderConstTensor (generic function with 1 method)"
      ]
     },
     "execution_count": 85,
     "metadata": {},
     "output_type": "execute_result"
    }
   ],
   "source": [
    "function PiezoThirdOrderConstTensor(d₁₁,d₂₁,d₂₂,d₂₃)\n",
    "    # 1 for Plane Stress and 2 Plane Strain Condition \n",
    "      e111 = d₁₁\n",
    "      e112 = 0.0\n",
    "      e121 = 0.0\n",
    "      e122 = 0.0\n",
    "      e211 = d₂₁\n",
    "      e212 = d₂₃\n",
    "      e221 = d₂₃\n",
    "      e222 = d₂₂   \n",
    "    vals = zeros(2,2,2);\n",
    "    vals[1,:,:] .= [e111 e112\n",
    "                    e121 e122]\n",
    "    vals[2,:,:] .= [e211 e212\n",
    "                    e221 e222]\n",
    "    e_ten = ThirdOrderTensorValue(vals ...)\n",
    "    return  e_ten\n",
    "end"
   ]
  },
  {
   "cell_type": "markdown",
   "id": "48ac6a51",
   "metadata": {},
   "source": [
    "## Stress\n",
    "$\\sigma_{elas}(\\epsilon(\\boldsymbol{u})) =  \\mathbb{C}\\,\\boldsymbol{\\epsilon}$\n",
    "\n",
    "$\\sigma_{piezo}(\\nabla\\phi) =  \\mathbb{e}^T\\,\\boldsymbol{\\nabla}\\phi$"
   ]
  },
  {
   "cell_type": "code",
   "execution_count": 86,
   "id": "e4c6d03d",
   "metadata": {},
   "outputs": [
    {
     "data": {
      "text/plain": [
       "σ_piezo (generic function with 1 method)"
      ]
     },
     "execution_count": 86,
     "metadata": {},
     "output_type": "execute_result"
    }
   ],
   "source": [
    "σ_elas(ε,C₁₁₁₁t,C₁₁₂₂t,C₃₃₃₃t) = ElasFourthOrderConstTensor(C₁₁₁₁t,C₁₁₂₂t,C₃₃₃₃t) ⊙ ε\n",
    "\n",
    "σ_piezo(∇,d₁₁t,d₂₁t,d₂₂t,d₂₃t) = ∇ ⋅ PiezoThirdOrderConstTensor(d₁₁t,d₂₁t,d₂₂t,d₂₃t)"
   ]
  },
  {
   "cell_type": "markdown",
   "id": "82d06f36",
   "metadata": {},
   "source": [
    "## Electric Displacement\n",
    "$\\boldsymbol{D}_{elas}(\\epsilon(\\boldsymbol{u})) =  \\boldsymbol{d}\\boldsymbol{\\epsilon}$\n",
    "\n",
    "$\\boldsymbol{D}_{piezo}(\\nabla\\phi)  = \\boldsymbol{K}\\boldsymbol{\\nabla} \\phi$"
   ]
  },
  {
   "cell_type": "code",
   "execution_count": 87,
   "id": "893b1b70",
   "metadata": {},
   "outputs": [
    {
     "data": {
      "text/plain": [
       "D_piezo (generic function with 1 method)"
      ]
     },
     "execution_count": 87,
     "metadata": {},
     "output_type": "execute_result"
    }
   ],
   "source": [
    "D_elas(ε,d₁₁t,d₂₁t,d₂₂t,d₂₃t) = PiezoThirdOrderConstTensor(d₁₁t,d₂₁t,d₂₂t,d₂₃t) ⋅² ε\n",
    "\n",
    "D_piezo(∇,a₁₁t,a₂₂t) = TensorValue(a₁₁t,0.0,0.0, a₂₂t) ⋅ ∇"
   ]
  },
  {
   "cell_type": "markdown",
   "id": "b246d785",
   "metadata": {},
   "source": [
    "## FE formulation"
   ]
  },
  {
   "cell_type": "code",
   "execution_count": 88,
   "id": "a017e259",
   "metadata": {},
   "outputs": [
    {
     "data": {
      "text/plain": [
       "project (generic function with 1 method)"
      ]
     },
     "execution_count": 88,
     "metadata": {},
     "output_type": "execute_result"
    }
   ],
   "source": [
    "function project(q,model,dΩ,order)\n",
    "  reffe = ReferenceFE(lagrangian,Float64,order)\n",
    "  V = FESpace(model,reffe,conformity=:L2)\n",
    "  a(u,v) = ∫( u*v )*dΩ\n",
    "  l(v) = ∫( v*q )*dΩ\n",
    "  op = AffineFEOperator(a,l,V,V)\n",
    "  qh = Gridap.solve(op)\n",
    "  qh\n",
    "end"
   ]
  },
  {
   "cell_type": "code",
   "execution_count": 89,
   "id": "347d7ef5",
   "metadata": {},
   "outputs": [
    {
     "data": {
      "text/plain": [
       "SingleFieldFEFunction():\n",
       " num_cells: 85470\n",
       " DomainStyle: ReferenceDomain()\n",
       " Triangulation: BodyFittedTriangulation()\n",
       " Triangulation id: 13210993963110046629"
      ]
     },
     "execution_count": 89,
     "metadata": {},
     "output_type": "execute_result"
    }
   ],
   "source": [
    "reffe_Disp = ReferenceFE(lagrangian,VectorValue{2,Float64},order)\n",
    "        V0_Disp = TestFESpace(model,reffe_Disp;\n",
    "          conformity=:H1,\n",
    "          dirichlet_tags=[\"DirichletBot\",\"DirichletRight\",\"DirichletTop\",\"DirichletLeft\"],\n",
    "          dirichlet_masks=[(true,true), (true,true),(true,true), (true,true)])\n",
    "\n",
    "uh = zero(V0_Disp)"
   ]
  },
  {
   "cell_type": "code",
   "execution_count": 90,
   "id": "f78eb2e8",
   "metadata": {},
   "outputs": [
    {
     "data": {
      "text/plain": [
       "UnconstrainedFESpace()"
      ]
     },
     "execution_count": 90,
     "metadata": {},
     "output_type": "execute_result"
    }
   ],
   "source": [
    "reffe_ElecPot = ReferenceFE(lagrangian,Float64,order)\n",
    "V0_ElecPot  = TestFESpace(model,reffe_ElecPot;\n",
    "  conformity=:H1,\n",
    "  dirichlet_tags=[\"ElectricPotentialBot\",\"ElectricPotentialright\",\"ElectricPotentialTop\",\"ElectricPotentialleft\"],\n",
    "  dirichlet_masks=[true,true,true,true])"
   ]
  },
  {
   "cell_type": "code",
   "execution_count": 91,
   "id": "7fd0dd34",
   "metadata": {},
   "outputs": [
    {
     "data": {
      "text/plain": [
       "MultiFieldFESpace()"
      ]
     },
     "execution_count": 91,
     "metadata": {},
     "output_type": "execute_result"
    }
   ],
   "source": [
    "V0 = MultiFieldFESpace([V0_Disp,V0_ElecPot])"
   ]
  },
  {
   "cell_type": "code",
   "execution_count": 92,
   "id": "0fc50e28",
   "metadata": {},
   "outputs": [
    {
     "data": {
      "text/plain": [
       "stepDispElecPot (generic function with 1 method)"
      ]
     },
     "execution_count": 92,
     "metadata": {},
     "output_type": "execute_result"
    }
   ],
   "source": [
    " function   stepDispElecPot(uh_in,phih_in,vApp,phiApp)\n",
    "    \n",
    "        uApp1(x) = VectorValue(0.0,0.0)\n",
    "        uApp2(x) = VectorValue(0.0,0.0)\n",
    "        uApp3(x) = VectorValue(0.0,vApp)\n",
    "        uApp4(x) = VectorValue(0.0,0.0)\n",
    "        U_Disp = TrialFESpace(V0_Disp,[uApp1,uApp2,uApp3,uApp4])\n",
    "    \n",
    "        phiApp1(x) = 0.0\n",
    "        phiApp2(x) = 0.0\n",
    "        phiApp3(x) = phiApp\n",
    "        phiApp4(x) = 0.0\n",
    "        U_ElecPot = TrialFESpace(V0_ElecPot,[phiApp1,phiApp2,phiApp3,phiApp4])\n",
    "    \n",
    "        U = MultiFieldFESpace([U_Disp,U_ElecPot])\n",
    "    \n",
    "        a((u,ϕ),(v,ψ)) = ∫( (ε(v) ⊙ (σ_elas∘(ε(u),C₁₁₁₁t,C₁₁₂₂t,C₃₃₃₃t))) + (∇(v) ⊙ (σ_piezo∘(∇(ϕ),d₁₁t,d₂₁t,d₂₂t,d₂₃t))) - (∇(ψ)⋅(D_piezo∘(∇(ϕ),a₁₁t,a₂₂t))) + (∇(ψ)⋅(D_elas∘(ε(u),d₁₁t,d₂₁t,d₂₂t,d₂₃t))) )*dΩ\n",
    "        b((v,ψ)) = 0.0\n",
    "    \n",
    "        op = AffineFEOperator(a,b,U,V0)\n",
    "        uhPhi = Gridap.solve(op)\n",
    "        uh_out,phih_out = uhPhi\n",
    "    \n",
    "    return uh_out,phih_out\n",
    "end"
   ]
  },
  {
   "cell_type": "code",
   "execution_count": 93,
   "id": "5e38a9b0",
   "metadata": {},
   "outputs": [
    {
     "data": {
      "text/plain": [
       "(SingleFieldFEFunction(), SingleFieldFEFunction())"
      ]
     },
     "execution_count": 93,
     "metadata": {},
     "output_type": "execute_result"
    }
   ],
   "source": [
    "vApp = 0.0\n",
    "phiApp = 100.0\n",
    "ϕPrev = CellState(0.0,dΩ)\n",
    "ϕh = project(ϕPrev,model,dΩ,order)\n",
    " \n",
    "uh,ϕh = stepDispElecPot(uh,ϕh,vApp,phiApp)"
   ]
  },
  {
   "cell_type": "code",
   "execution_count": 94,
   "id": "f3474be1",
   "metadata": {},
   "outputs": [
    {
     "data": {
      "text/plain": [
       "([\"results_PlateWith+Shapec11.vtu\"],)"
      ]
     },
     "execution_count": 94,
     "metadata": {},
     "output_type": "execute_result"
    }
   ],
   "source": [
    " writevtk(Ω,\"results_PlateWith+Shapec11\",cellfields=\n",
    "        [\"uh\"=>uh,\"phi\"=>ϕh, \"epsi\"=>ε(uh), \"ElecF\"=>-∇(ϕh), \"SigmaE\"=>(σ_elas∘(ε(uh),C₁₁₁₁t,C₁₁₂₂t,C₃₃₃₃t)), \n",
    "        \"SigmaD\"=>(σ_piezo∘(∇(ϕh),d₁₁t,d₂₁t,d₂₂t,d₂₃t)), \"Elec\"=>(D_elas∘(ε(uh),d₁₁t,d₂₁t,d₂₂t,d₂₃t)),\n",
    "        \"ElecD\"=>(D_piezo∘(∇(ϕh),a₁₁t,a₂₂t))])"
   ]
  },
  {
   "cell_type": "code",
   "execution_count": 95,
   "id": "384b2e40",
   "metadata": {},
   "outputs": [
    {
     "name": "stderr",
     "output_type": "stream",
     "text": [
      "WARNING: using Algebra.solve in module Main conflicts with an existing identifier.\n"
     ]
    }
   ],
   "source": [
    "using Gridap.Helpers\n",
    "using Gridap.MultiField\n",
    "using Gridap.Polynomials\n",
    "using Gridap.Arrays\n",
    "using Gridap.FESpaces\n",
    "using Gridap.Algebra"
   ]
  },
  {
   "cell_type": "code",
   "execution_count": 96,
   "id": "b66d9e2c",
   "metadata": {},
   "outputs": [
    {
     "data": {
      "text/plain": [
       "UnstructuredGrid()"
      ]
     },
     "execution_count": 96,
     "metadata": {},
     "output_type": "execute_result"
    }
   ],
   "source": [
    "Gr = get_grid(model)"
   ]
  },
  {
   "cell_type": "code",
   "execution_count": 97,
   "id": "dc026537",
   "metadata": {},
   "outputs": [],
   "source": [
    "Nₑ = num_cells(model)\n",
    "elem = get_cell_node_ids(Gr);"
   ]
  },
  {
   "cell_type": "code",
   "execution_count": 98,
   "id": "9fc7152a",
   "metadata": {},
   "outputs": [],
   "source": [
    "nodes = get_node_coordinates(Gr)\n",
    "Nₙ = num_nodes(model)\n",
    "nodeCoordX = [nodes[i][1] for i in 1:Nₙ]\n",
    "nodeCoordY = [nodes[i][2] for i in 1:Nₙ];"
   ]
  },
  {
   "cell_type": "code",
   "execution_count": 99,
   "id": "7123aad6",
   "metadata": {},
   "outputs": [],
   "source": [
    "dataPot1 = get_array(-∇(ϕh))\n",
    "EVec = return_value(dataPot1,Point(nodeCoordX[1],nodeCoordY[1]));"
   ]
  },
  {
   "cell_type": "code",
   "execution_count": 100,
   "id": "bad0f20e",
   "metadata": {},
   "outputs": [],
   "source": [
    "E11d2 = [EVec[i][1] for i in 1:Nₑ] \n",
    "E22d2 = [EVec[i][2] for i in 1:Nₑ];"
   ]
  },
  {
   "cell_type": "code",
   "execution_count": 101,
   "id": "8fba4084",
   "metadata": {},
   "outputs": [],
   "source": [
    "dataStress = get_data(σ_elas∘(ε(uh),C₁₁₁₁t,C₁₁₂₂t,C₃₃₃₃t))\n",
    "σVec = return_value(dataStress,Point(nodeCoordX[1],nodeCoordY[1]));"
   ]
  },
  {
   "cell_type": "code",
   "execution_count": 102,
   "id": "2a685a98",
   "metadata": {},
   "outputs": [],
   "source": [
    "σ11E = [σVec[i][1,1] for i in 1:Nₑ] \n",
    "σ12E = [σVec[i][1,2] for i in 1:Nₑ] \n",
    "σ22E = [σVec[i][1,3] for i in 1:Nₑ];"
   ]
  },
  {
   "cell_type": "code",
   "execution_count": 103,
   "id": "b1b8b8e0",
   "metadata": {},
   "outputs": [],
   "source": [
    "dataStress1 = get_data(σ_piezo∘(-∇(ϕh),d₁₁t,d₂₁t,d₂₂t,d₂₃t))\n",
    "PVec = return_value(dataStress1,Point(nodeCoordX[1],nodeCoordY[1]));"
   ]
  },
  {
   "cell_type": "code",
   "execution_count": 104,
   "id": "7cbc24aa",
   "metadata": {},
   "outputs": [],
   "source": [
    "P11El = [PVec[i][1] for i in 1:Nₑ] \n",
    "P12El = [PVec[i][2] for i in 1:Nₑ] \n",
    "P21El = [PVec[i][3] for i in 1:Nₑ]\n",
    "P22El = [PVec[i][4] for i in 1:Nₑ];"
   ]
  },
  {
   "cell_type": "code",
   "execution_count": 105,
   "id": "53d938f6",
   "metadata": {},
   "outputs": [],
   "source": [
    "σ11El = σ11E + P11El\n",
    "σ12El = σ12E + P12El\n",
    "σ22El = σ22E + P22El;"
   ]
  },
  {
   "cell_type": "code",
   "execution_count": 106,
   "id": "041c8bf4",
   "metadata": {},
   "outputs": [
    {
     "data": {
      "text/plain": [
       "15.282945282312621"
      ]
     },
     "execution_count": 106,
     "metadata": {},
     "output_type": "execute_result"
    }
   ],
   "source": [
    "AreaEl = get_cell_measure(Ω)\n",
    "σ11Avg = sum([σ11El[i]*AreaEl[i] for i in 1:Nₑ])/sum(AreaEl)\n",
    "E22Avg = sum([E22d2[i]*AreaEl[i] for i in 1:Nₑ])/sum(AreaEl)\n",
    "d₂₁eff = σ11Avg/E22Avg"
   ]
  },
  {
   "cell_type": "code",
   "execution_count": 107,
   "id": "5ffc88ce",
   "metadata": {},
   "outputs": [
    {
     "data": {
      "text/plain": [
       "0.9016799945303979"
      ]
     },
     "execution_count": 107,
     "metadata": {},
     "output_type": "execute_result"
    }
   ],
   "source": [
    "AreaEl = get_cell_measure(Ω)\n",
    "σ22Avg = sum([σ22El[i]*AreaEl[i] for i in 1:Nₑ])/sum(AreaEl)\n",
    "E22Avg = sum([E22d2[i]*AreaEl[i] for i in 1:Nₑ])/sum(AreaEl)\n",
    "d₂₂eff = σ22Avg/E22Avg"
   ]
  },
  {
   "cell_type": "code",
   "execution_count": 108,
   "id": "a494634b",
   "metadata": {},
   "outputs": [
    {
     "data": {
      "text/plain": [
       "-21.46608924300163"
      ]
     },
     "execution_count": 108,
     "metadata": {},
     "output_type": "execute_result"
    }
   ],
   "source": [
    "AreaEl = get_cell_measure(Ω)\n",
    "σ12Avg = sum([σ12El[i]*AreaEl[i] for i in 1:Nₑ])/sum(AreaEl)\n",
    "E22Avg = sum([E22d2[i]*AreaEl[i] for i in 1:Nₑ])/sum(AreaEl)\n",
    "d₂₃eff = σ12Avg/E22Avg"
   ]
  },
  {
   "cell_type": "code",
   "execution_count": 109,
   "id": "5a3bf9b6",
   "metadata": {},
   "outputs": [],
   "source": [
    "dataDisp = get_data(D_elas∘(ε(uh),d₁₁t,d₂₁t,d₂₂t,d₂₃t))\n",
    "DVec = return_value(dataDisp,Point(nodeCoordX[1],nodeCoordY[1]));"
   ]
  },
  {
   "cell_type": "code",
   "execution_count": 110,
   "id": "7ab3af06",
   "metadata": {},
   "outputs": [],
   "source": [
    "D11E = [DVec[i][1] for i in 1:Nₑ] \n",
    "D22E = [DVec[i][2] for i in 1:Nₑ];"
   ]
  },
  {
   "cell_type": "code",
   "execution_count": 111,
   "id": "f1202495",
   "metadata": {},
   "outputs": [],
   "source": [
    "dataDisp1 = get_data(D_piezo∘(∇(-ϕh),a₁₁t,a₂₂t))\n",
    "AVec = return_value(dataDisp1,Point(nodeCoordX[1],nodeCoordY[1]));"
   ]
  },
  {
   "cell_type": "code",
   "execution_count": 112,
   "id": "b93fe06d",
   "metadata": {},
   "outputs": [],
   "source": [
    "a11El = [AVec[i][1] for i in 1:Nₑ] \n",
    "a22El = [AVec[i][2] for i in 1:Nₑ];"
   ]
  },
  {
   "cell_type": "code",
   "execution_count": 113,
   "id": "b2aa2c5b",
   "metadata": {},
   "outputs": [],
   "source": [
    "D11El = D11E + a11El\n",
    "D22El = D22E + a22El;"
   ]
  },
  {
   "cell_type": "code",
   "execution_count": 114,
   "id": "350a971c",
   "metadata": {},
   "outputs": [
    {
     "data": {
      "text/plain": [
       "107.51813536241124"
      ]
     },
     "execution_count": 114,
     "metadata": {},
     "output_type": "execute_result"
    }
   ],
   "source": [
    "AreaEl = get_cell_measure(Ω)\n",
    "D22Avg = sum([D22El[i]*AreaEl[i] for i in 1:Nₑ])/sum(AreaEl)\n",
    "E22Avg = sum([E22d2[i]*AreaEl[i] for i in 1:Nₑ])/sum(AreaEl)\n",
    "a₂₂eff = D22Avg/E22Avg"
   ]
  },
  {
   "cell_type": "code",
   "execution_count": 115,
   "id": "33149633",
   "metadata": {},
   "outputs": [
    {
     "data": {
      "text/plain": [
       "4-element Vector{Float64}:\n",
       "  15.282945282312621\n",
       "   0.9016799945303979\n",
       " -21.46608924300163\n",
       " 107.51813536241124"
      ]
     },
     "execution_count": 115,
     "metadata": {},
     "output_type": "execute_result"
    }
   ],
   "source": [
    "d = [d₂₁eff;d₂₂eff;d₂₃eff;a₂₂eff]"
   ]
  }
 ],
 "metadata": {
  "kernelspec": {
   "display_name": "Julia 1.8.1",
   "language": "julia",
   "name": "julia-1.8"
  },
  "language_info": {
   "file_extension": ".jl",
   "mimetype": "application/julia",
   "name": "julia",
   "version": "1.8.1"
  }
 },
 "nbformat": 4,
 "nbformat_minor": 5
}
