{
 "cells": [
  {
   "cell_type": "markdown",
   "id": "fcc8e5ae",
   "metadata": {},
   "source": [
    "## In this codes x => x_1 plane and y => x_2 plane"
   ]
  },
  {
   "cell_type": "code",
   "execution_count": 1,
   "id": "7db4a4db",
   "metadata": {},
   "outputs": [],
   "source": [
    "using SymPy\n",
    "using Plots"
   ]
  },
  {
   "cell_type": "code",
   "execution_count": 2,
   "id": "3446ddec",
   "metadata": {},
   "outputs": [
    {
     "data": {
      "text/plain": [
       "(C₁₁ᵢ, C₁₂ᵢ, C₆₆ᵢ, e₁₁ᵢ, e₂₁ᵢ, e₂₂ᵢ, e₂₃ᵢ, k₁₁ᵢ, k₂₂ᵢ)"
      ]
     },
     "execution_count": 2,
     "metadata": {},
     "output_type": "execute_result"
    }
   ],
   "source": [
    "x,x₁,y,y₁,r,r₁ = symbols(\"x,x₁,y,y₁,r,r₁\", real = true)\n",
    "E,v= symbols(\"E,v\", real = true)\n",
    "C₁₁ₘ,C₁₂ₘ,C₆₆ₘ,e₁₁ₘ,e₂₁ₘ,e₂₂ₘ,e₂₃ₘ,k₁₁ₘ,k₂₂ₘ = symbols(\"C₁₁ₘ,C₁₂ₘ,C₆₆ₘ,e₁₁ₘ,e₂₁ₘ,e₂₂ₘ,e₂₃ₘ,k₁₁ₘ,k₂₂ₘ\", real = true)\n",
    "C₁₁ᵢ,C₁₂ᵢ,C₆₆ᵢ,e₁₁ᵢ,e₂₁ᵢ,e₂₂ᵢ,e₂₃ᵢ,k₁₁ᵢ,k₂₂ᵢ = symbols(\"C₁₁ᵢ,C₁₂ᵢ,C₆₆ᵢ,e₁₁ᵢ,e₂₁ᵢ,e₂₂ᵢ,e₂₃ᵢ,k₁₁ᵢ,k₂₂ᵢ\", real = true)"
   ]
  },
  {
   "cell_type": "code",
   "execution_count": 3,
   "id": "ffb15e1c",
   "metadata": {},
   "outputs": [
    {
     "data": {
      "text/latex": [
       "$0.42966892442366$"
      ],
      "text/plain": [
       "0.429668924423660"
      ]
     },
     "execution_count": 3,
     "metadata": {},
     "output_type": "execute_result"
    }
   ],
   "source": [
    "A = 0.15\n",
    "Eq = (13*(x^2))/16 - A\n",
    "p = abs(solve(Eq,x)[1])"
   ]
  },
  {
   "cell_type": "code",
   "execution_count": 4,
   "id": "d451d1be",
   "metadata": {},
   "outputs": [
    {
     "data": {
      "text/plain": [
       "0.01"
      ]
     },
     "execution_count": 4,
     "metadata": {},
     "output_type": "execute_result"
    }
   ],
   "source": [
    "Eₘ = 2450\n",
    "vₘ = 0.34\n",
    "Eᵢ = 170000\n",
    "vᵢ = 0.25\n",
    "hₛ = 0.01"
   ]
  },
  {
   "cell_type": "code",
   "execution_count": 5,
   "id": "0a7c2457",
   "metadata": {},
   "outputs": [
    {
     "data": {
      "text/latex": [
       "$68000.0$"
      ],
      "text/plain": [
       "68000.0000000000"
      ]
     },
     "execution_count": 5,
     "metadata": {},
     "output_type": "execute_result"
    }
   ],
   "source": [
    "λ = (E*v)/((1 + v) * (1 - 2*v))\n",
    "λₘ = simplify(λ(E=>Eₘ,v=>vₘ))\n",
    "λᵢ = simplify(λ(E=>Eᵢ,v=>vᵢ))"
   ]
  },
  {
   "cell_type": "code",
   "execution_count": 6,
   "id": "0a653461",
   "metadata": {},
   "outputs": [
    {
     "data": {
      "text/latex": [
       "$136000.0$"
      ],
      "text/plain": [
       "136000.000000000"
      ]
     },
     "execution_count": 6,
     "metadata": {},
     "output_type": "execute_result"
    }
   ],
   "source": [
    "G = E/((1 + v))\n",
    "Gₘ = simplify(G(E=>Eₘ,v=>vₘ))\n",
    "Gᵢ = simplify(G(E=>Eᵢ,v=>vᵢ))"
   ]
  },
  {
   "cell_type": "code",
   "execution_count": 7,
   "id": "ebf0fffa",
   "metadata": {},
   "outputs": [
    {
     "data": {
      "text/latex": [
       "$3770.98880597015$"
      ],
      "text/plain": [
       "3770.98880597015"
      ]
     },
     "execution_count": 7,
     "metadata": {},
     "output_type": "execute_result"
    }
   ],
   "source": [
    "C₁₁ₘ = λₘ + Gₘ"
   ]
  },
  {
   "cell_type": "code",
   "execution_count": 8,
   "id": "a1b6b38f",
   "metadata": {},
   "outputs": [
    {
     "data": {
      "text/latex": [
       "$204000.0$"
      ],
      "text/plain": [
       "204000.000000000"
      ]
     },
     "execution_count": 8,
     "metadata": {},
     "output_type": "execute_result"
    }
   ],
   "source": [
    "C₁₁ᵢ = λᵢ + Gᵢ"
   ]
  },
  {
   "cell_type": "code",
   "execution_count": 9,
   "id": "80711c34",
   "metadata": {},
   "outputs": [
    {
     "data": {
      "text/latex": [
       "$0.322251693317745$"
      ],
      "text/plain": [
       "0.322251693317745"
      ]
     },
     "execution_count": 9,
     "metadata": {},
     "output_type": "execute_result"
    }
   ],
   "source": [
    "lₘₓ = 1\n",
    "lₐₓ = p\n",
    "lₙₓ = (3*p)/4"
   ]
  },
  {
   "cell_type": "code",
   "execution_count": 10,
   "id": "19ba609b",
   "metadata": {},
   "outputs": [
    {
     "data": {
      "text/plain": [
       "interval (generic function with 1 method)"
      ]
     },
     "execution_count": 10,
     "metadata": {},
     "output_type": "execute_result"
    }
   ],
   "source": [
    "heaviside(x) = 0.5 * (sign(x) + 1)\n",
    "\n",
    "interval(x, a, b) = heaviside(x-a) - heaviside(x-b)"
   ]
  },
  {
   "cell_type": "code",
   "execution_count": 11,
   "id": "19bdfbc3",
   "metadata": {},
   "outputs": [
    {
     "data": {
      "text/plain": [
       "E1y (generic function with 1 method)"
      ]
     },
     "execution_count": 11,
     "metadata": {},
     "output_type": "execute_result"
    }
   ],
   "source": [
    "E1x(x,ax,bx) = sqrt(C₁₁ᵢ - C₁₁ₘ) * interval(x,ax,bx) \n",
    "E1y(y,ay,by) = sqrt(C₁₁ᵢ - C₁₁ₘ) * interval(y,ay,by) "
   ]
  },
  {
   "cell_type": "code",
   "execution_count": 12,
   "id": "c172839d",
   "metadata": {},
   "outputs": [
    {
     "data": {
      "text/plain": [
       "wₕ (generic function with 1 method)"
      ]
     },
     "execution_count": 12,
     "metadata": {},
     "output_type": "execute_result"
    }
   ],
   "source": [
    "wₕ(x,x₁) = (1/(sqrt(2*pi)*hₛ))*exp(-(x-x₁)^2/(2*hₛ^2))"
   ]
  },
  {
   "cell_type": "code",
   "execution_count": 13,
   "id": "33211dd3",
   "metadata": {},
   "outputs": [
    {
     "data": {
      "text/latex": [
       "$39.8942280401433 \\left(- 223.734782272465 \\operatorname{sign}{\\left(x₁ - 0.42966892442366 \\right)} + 223.734782272465 \\operatorname{sign}{\\left(x₁ + 0.42966892442366 \\right)}\\right) e^{- 5000.0 \\left(x - x₁\\right)^{2}}$"
      ],
      "text/plain": [
       "                                                                              \n",
       "                                                                              \n",
       "39.8942280401433⋅(-223.734782272465⋅sign(x₁ - 0.42966892442366) + 223.73478227\n",
       "\n",
       "                                                   2\n",
       "                                   -5000.0⋅(x - x₁) \n",
       "2465⋅sign(x₁ + 0.42966892442366))⋅ℯ                 "
      ]
     },
     "execution_count": 13,
     "metadata": {},
     "output_type": "execute_result"
    }
   ],
   "source": [
    "IFx1 = E1x(x₁,-lₙₓ,lₙₓ)*wₕ(x,x₁)\n",
    "IFx2 = E1x(x₁,-lₐₓ,lₐₓ)*wₕ(x,x₁)"
   ]
  },
  {
   "cell_type": "code",
   "execution_count": 14,
   "id": "b1ab815b",
   "metadata": {},
   "outputs": [
    {
     "data": {
      "text/latex": [
       "$39.8942280401433 \\left(- 223.734782272465 \\operatorname{sign}{\\left(y₁ - 0.42966892442366 \\right)} + 223.734782272465 \\operatorname{sign}{\\left(y₁ - 0.322251693317745 \\right)}\\right) e^{- 5000.0 \\left(y - y₁\\right)^{2}}$"
      ],
      "text/plain": [
       "                                                                              \n",
       "                                                                              \n",
       "39.8942280401433⋅(-223.734782272465⋅sign(y₁ - 0.42966892442366) + 223.73478227\n",
       "\n",
       "                                                    2\n",
       "                                    -5000.0⋅(y - y₁) \n",
       "2465⋅sign(y₁ - 0.322251693317745))⋅ℯ                 "
      ]
     },
     "execution_count": 14,
     "metadata": {},
     "output_type": "execute_result"
    }
   ],
   "source": [
    "IFy1 = E1y(y₁,-lₙₓ,lₙₓ)*wₕ(y,y₁)\n",
    "IFy2 = E1y(y₁,-lₐₓ,-lₙₓ)*wₕ(y,y₁)\n",
    "IFy3 = E1y(y₁,lₙₓ,lₐₓ)*wₕ(y,y₁)"
   ]
  },
  {
   "cell_type": "code",
   "execution_count": 15,
   "id": "18068692",
   "metadata": {},
   "outputs": [
    {
     "data": {
      "text/latex": [
       "$\\left(- 126.22883363545 \\sqrt{\\pi} \\operatorname{erf}{\\left(70.7106781186548 x - 30.38218101251 \\right)} + 126.22883363545 \\sqrt{\\pi} \\operatorname{erf}{\\left(70.7106781186548 x + 30.38218101251 \\right)}\\right) \\left(- 126.22883363545 \\sqrt{\\pi} \\operatorname{erf}{\\left(70.7106781186548 y - 30.38218101251 \\right)} + 126.22883363545 \\sqrt{\\pi} \\operatorname{erf}{\\left(70.7106781186548 y - 22.7866357593825 \\right)}\\right)$"
      ],
      "text/plain": [
       "(-126.22883363545⋅√π⋅erf(70.7106781186548⋅x - 30.38218101251) + 126.2288336354\n",
       "5⋅√π⋅erf(70.7106781186548⋅x + 30.38218101251))⋅(-126.22883363545⋅√π⋅erf(70.710\n",
       "6781186548⋅y - 30.38218101251) + 126.22883363545⋅√π⋅erf(70.7106781186548⋅y - 2\n",
       "2.7866357593825))"
      ]
     },
     "execution_count": 15,
     "metadata": {},
     "output_type": "execute_result"
    }
   ],
   "source": [
    "smoothE1 = integrate(IFx1,(x₁,-lₘₓ,lₘₓ))*integrate(IFy1,(y₁,-lₘₓ,lₘₓ))\n",
    "smoothE2 = integrate(IFx2,(x₁,-lₘₓ,lₘₓ))*integrate(IFy2,(y₁,-lₘₓ,lₘₓ))\n",
    "smoothE3 = integrate(IFx2,(x₁,-lₘₓ,lₘₓ))*integrate(IFy3,(y₁,-lₘₓ,lₘₓ))"
   ]
  },
  {
   "cell_type": "code",
   "execution_count": 16,
   "id": "61ed9419",
   "metadata": {
    "scrolled": true
   },
   "outputs": [
    {
     "data": {
      "text/latex": [
       "$\\left(- 126.22883363545 \\sqrt{\\pi} \\operatorname{erf}{\\left(70.7106781186548 x - 30.38218101251 \\right)} + 126.22883363545 \\sqrt{\\pi} \\operatorname{erf}{\\left(70.7106781186548 x + 30.38218101251 \\right)}\\right) \\left(- 126.22883363545 \\sqrt{\\pi} \\operatorname{erf}{\\left(70.7106781186548 y - 30.38218101251 \\right)} + 126.22883363545 \\sqrt{\\pi} \\operatorname{erf}{\\left(70.7106781186548 y - 22.7866357593825 \\right)}\\right) + \\left(- 126.22883363545 \\sqrt{\\pi} \\operatorname{erf}{\\left(70.7106781186548 x - 30.38218101251 \\right)} + 126.22883363545 \\sqrt{\\pi} \\operatorname{erf}{\\left(70.7106781186548 x + 30.38218101251 \\right)}\\right) \\left(- 126.22883363545 \\sqrt{\\pi} \\operatorname{erf}{\\left(70.7106781186548 y + 22.7866357593825 \\right)} + 126.22883363545 \\sqrt{\\pi} \\operatorname{erf}{\\left(70.7106781186548 y + 30.38218101251 \\right)}\\right) + \\left(- 126.22883363545 \\sqrt{\\pi} \\operatorname{erf}{\\left(70.7106781186548 x - 22.7866357593825 \\right)} + 126.22883363545 \\sqrt{\\pi} \\operatorname{erf}{\\left(70.7106781186548 x + 22.7866357593825 \\right)}\\right) \\left(- 126.22883363545 \\sqrt{\\pi} \\operatorname{erf}{\\left(70.7106781186548 y - 22.7866357593825 \\right)} + 126.22883363545 \\sqrt{\\pi} \\operatorname{erf}{\\left(70.7106781186548 y + 22.7866357593825 \\right)}\\right) + 3770.98880597015$"
      ],
      "text/plain": [
       "(-126.22883363545⋅√π⋅erf(70.7106781186548⋅x - 30.38218101251) + 126.2288336354\n",
       "5⋅√π⋅erf(70.7106781186548⋅x + 30.38218101251))⋅(-126.22883363545⋅√π⋅erf(70.710\n",
       "6781186548⋅y - 30.38218101251) + 126.22883363545⋅√π⋅erf(70.7106781186548⋅y - 2\n",
       "2.7866357593825)) + (-126.22883363545⋅√π⋅erf(70.7106781186548⋅x - 30.382181012\n",
       "51) + 126.22883363545⋅√π⋅erf(70.7106781186548⋅x + 30.38218101251))⋅(-126.22883\n",
       "363545⋅√π⋅erf(70.7106781186548⋅y + 22.7866357593825) + 126.22883363545⋅√π⋅erf(\n",
       "70.7106781186548⋅y + 30.38218101251)) + (-126.22883363545⋅√π⋅erf(70.7106781186\n",
       "548⋅x - 22.7866357593825) + 126.22883363545⋅√π⋅erf(70.7106781186548⋅x + 22.786\n",
       "6357593825))⋅(-126.22883363545⋅√π⋅erf(70.7106781186548⋅y - 22.7866357593825) +\n",
       " 126.22883363545⋅√π⋅erf(70.7106781186548⋅y + 22.7866357593825)) + 3770.9888059\n",
       "7015"
      ]
     },
     "execution_count": 16,
     "metadata": {},
     "output_type": "execute_result"
    }
   ],
   "source": [
    "C₁₁ = smoothE1 + smoothE2 + smoothE3 + C₁₁ₘ"
   ]
  },
  {
   "cell_type": "code",
   "execution_count": 17,
   "id": "00cc2cfb",
   "metadata": {},
   "outputs": [
    {
     "data": {
      "text/latex": [
       "$\\left(- 223.734782272465 \\operatorname{sign}{\\left(x₁ - 0.42966892442366 \\right)} + 223.734782272465 \\operatorname{sign}{\\left(x₁ + 0.42966892442366 \\right)}\\right) \\left(- 223.734782272465 \\operatorname{sign}{\\left(y₁ - 0.42966892442366 \\right)} + 223.734782272465 \\operatorname{sign}{\\left(y₁ - 0.322251693317745 \\right)}\\right) + \\left(- 223.734782272465 \\operatorname{sign}{\\left(x₁ - 0.42966892442366 \\right)} + 223.734782272465 \\operatorname{sign}{\\left(x₁ + 0.42966892442366 \\right)}\\right) \\left(- 223.734782272465 \\operatorname{sign}{\\left(y₁ + 0.322251693317745 \\right)} + 223.734782272465 \\operatorname{sign}{\\left(y₁ + 0.42966892442366 \\right)}\\right) + \\left(- 223.734782272465 \\operatorname{sign}{\\left(x₁ - 0.322251693317745 \\right)} + 223.734782272465 \\operatorname{sign}{\\left(x₁ + 0.322251693317745 \\right)}\\right) \\left(- 223.734782272465 \\operatorname{sign}{\\left(y₁ - 0.322251693317745 \\right)} + 223.734782272465 \\operatorname{sign}{\\left(y₁ + 0.322251693317745 \\right)}\\right) + 3770.98880597015$"
      ],
      "text/plain": [
       "(-223.734782272465⋅sign(x₁ - 0.42966892442366) + 223.734782272465⋅sign(x₁ + 0.\n",
       "42966892442366))⋅(-223.734782272465⋅sign(y₁ - 0.42966892442366) + 223.73478227\n",
       "2465⋅sign(y₁ - 0.322251693317745)) + (-223.734782272465⋅sign(x₁ - 0.4296689244\n",
       "2366) + 223.734782272465⋅sign(x₁ + 0.42966892442366))⋅(-223.734782272465⋅sign(\n",
       "y₁ + 0.322251693317745) + 223.734782272465⋅sign(y₁ + 0.42966892442366)) + (-22\n",
       "3.734782272465⋅sign(x₁ - 0.322251693317745) + 223.734782272465⋅sign(x₁ + 0.322\n",
       "251693317745))⋅(-223.734782272465⋅sign(y₁ - 0.322251693317745) + 223.734782272\n",
       "465⋅sign(y₁ + 0.322251693317745)) + 3770.98880597015"
      ]
     },
     "execution_count": 17,
     "metadata": {},
     "output_type": "execute_result"
    }
   ],
   "source": [
    "E1discont21 = E1x(x₁,-lₙₓ,lₙₓ)*E1y(y₁,-lₙₓ,lₙₓ)\n",
    "E1discont22 = E1x(x₁,-lₐₓ,lₐₓ)*E1y(y₁,-lₐₓ,-lₙₓ)\n",
    "E1discont23 = E1x(x₁,-lₐₓ,lₐₓ)*E1y(y₁,lₙₓ,lₐₓ)\n",
    "E1discont2 = E1discont21 + E1discont22 + E1discont23 + C₁₁ₘ"
   ]
  },
  {
   "cell_type": "code",
   "execution_count": 18,
   "id": "f13d6974",
   "metadata": {},
   "outputs": [
    {
     "data": {
      "image/svg+xml": [
       "<?xml version=\"1.0\" encoding=\"utf-8\"?>\n",
       "<svg xmlns=\"http://www.w3.org/2000/svg\" xmlns:xlink=\"http://www.w3.org/1999/xlink\" width=\"600\" height=\"400\" viewBox=\"0 0 2400 1600\">\n",
       "<defs>\n",
       "  <clipPath id=\"clip730\">\n",
       "    <rect x=\"0\" y=\"0\" width=\"2400\" height=\"1600\"/>\n",
       "  </clipPath>\n",
       "</defs>\n",
       "<path clip-path=\"url(#clip730)\" d=\"\n",
       "M0 1600 L2400 1600 L2400 0 L0 0  Z\n",
       "  \" fill=\"#ffffff\" fill-rule=\"evenodd\" fill-opacity=\"1\"/>\n",
       "<defs>\n",
       "  <clipPath id=\"clip731\">\n",
       "    <rect x=\"480\" y=\"0\" width=\"1681\" height=\"1600\"/>\n",
       "  </clipPath>\n",
       "</defs>\n",
       "<defs>\n",
       "  <clipPath id=\"clip732\">\n",
       "    <rect x=\"47\" y=\"292\" width=\"747\" height=\"1016\"/>\n",
       "  </clipPath>\n",
       "</defs>\n",
       "<path clip-path=\"url(#clip732)\" d=\"\n",
       "M239.147 932.802 L175.602 979.464 L175.602 620.536 L664.398 620.536 L600.853 667.198 L600.853 932.802 L239.147 932.802  Z\n",
       "  \" fill=\"#ffffff\" fill-rule=\"evenodd\" fill-opacity=\"1\"/>\n",
       "<g clip-path=\"url(#clip732)\">\n",
       "<image width=\"746\" height=\"1015\" xlink:href=\"data:image/png;base64,\n",
       "iVBORw0KGgoAAAANSUhEUgAAAuoAAAP3CAYAAAB6WGtXAAAdqklEQVR4nO3dXYjld33H8e//PMzD\n",
       "zs5mN5uNxhSrBiWVgnpRIlpbJcWq+NBQRZsiCmkg0HpRKHjRQim0F0KhF7YgSCAiTStaUrWoFUK0\n",
       "VjH0QgPFhhYfENK0STabnd2ZOWfOw78X62bXZNU45+z8P+m8XjDsMpDffi4y57z3v/9zTtO2bQEA\n",
       "AFl6XQ8AAACeTagDAEAgoQ4AAIGEOgAABBLqAAAQSKgDAEAgoQ4AAIGEOgAABBLqAAAQSKgDAEAg\n",
       "oQ4AAIGEOgAABBLqAAAQSKgDAEAgoQ4AAIGEOgAABBLqAAAQSKgDAEAgoQ4AAIGEOgAABBLqAAAQ\n",
       "SKgDAEAgoQ4AAIGEOgAABBLqAAAQSKgDAEAgoQ4AAIGEOgAABBLqAAAQSKgDAEAgoQ4AAIGEOgAA\n",
       "BBLqAAAQSKgDAEAgoQ4AAIGEOgAABBLqAAAQSKgDAEAgoQ4AAIGEOgAABBLqAAAQSKgDAEAgoQ4A\n",
       "AIGEOgAABBLqAAAQSKgDAEAgoQ4AAIGEOgAABBLqAAAQSKgDAEAgoQ4AAIGEOgAABBLqAAAQSKgD\n",
       "AEAgoQ4AAIGEOgAABBLqAAAQSKgDAEAgoQ4AAIGEOgAABBLqAAAQSKgDAEAgoQ4AAIGEOgAABBLq\n",
       "AAAQSKgDAEAgoQ4AAIGEOgAABBLqAAAQSKgDAEAgoQ4AAIGEOgAABBLqAAAQSKgDAEAgoQ4AAIGE\n",
       "OgAABBLqAAAQSKgDAEAgoQ4AAIGEOgAABBLqAAAQSKgDAEAgoQ4AAIGEOgAABBLqAAAQSKgDAEAg\n",
       "oQ4AAIGEOgAABBLqAAAQSKgDAEAgoQ4AAIGEOgAABBLqAAAQSKgDAEAgoQ4AAIGEOgAABBLqAAAQ\n",
       "SKgDAEAgoQ4AAIGEOgAABBLqAAAQSKgDAEAgoQ4AAIGEOgAABBLqAAAQSKgDAEAgoQ4AAIGEOgAA\n",
       "BBLqAAAQSKgDAEAgoQ4AAIGEOgAABBLqAAAQSKgDAEAgoQ4AAIGEOgAABBLqAAAQSKgDAEAgoQ4A\n",
       "AIGEOgAABBLqAAAQSKgDAEAgoQ4AAIGEOgAABBLqAAAQSKgDAEAgoQ4AAIGEOgAABBLqAAAQSKgD\n",
       "AEAgoQ4AAIGEOgAABBLqAAAQSKgDAEAgoQ4AAIGEOgAABBLqAAAQSKgDAEAgoQ4AAIGEOgAABBLq\n",
       "AAAQSKgDAEAgoQ4AAIGEOgAABBLqAAAQSKgDAEAgoQ4AAIGEOgAABBLqAAAQSKgDAEAgoQ4AAIGE\n",
       "OgAABBLqAAAQSKgDAEAgoQ4AAIGEOgAABBLqAAAQSKgDAEAgoQ4AAIGEOgAABBLqAAAQSKgDAEAg\n",
       "oQ4AAIGEOgAABBLqAAAQSKgDAEAgoQ4AAIGEOgAABBLqAAAQSKgDAEAgoQ4AAIGEOgAABBLqAAAQ\n",
       "SKgDAEAgoQ4AAIGEOgAABBLqAAAQSKgDAEAgoQ4AAIGEOgAABBLqAAAQSKgDAEAgoQ4AAIGEOgAA\n",
       "BBLqAAAQSKgDAEAgoQ4AAIGEOgAABBLqAAAQSKgDAEAgoQ4AAIGEOgAABBLqAAAQSKgDAEAgoQ4A\n",
       "AIGEOgAABBLqAAAQSKgDAEAgoQ4AAIGEOgAABBLqAAAQSKgDAEAgoQ4AAIGEOgAABBLqAAAQSKgD\n",
       "AEAgoQ4AAIGEOgAABBLqAAAQSKgDAEAgoQ4AAIGEOgAABBLqAAAQSKgDAEAgoQ4AAIGEOgAABBLq\n",
       "AAAQSKgDAEAgoQ4AAIGEOgAABBLqAAAQSKgDAEAgoQ4AAIGEOgAABBLqAAAQSKgDAEAgoQ4AAIGE\n",
       "OgAABBLqAAAQSKgDAEAgoQ4AAIGEOgAABBLqAAAQSKgDAEAgoQ4AAIGEOgAABBLqAAAQSKgDAEAg\n",
       "oQ4AAIGEOgAABBLqAAAQSKgDAEAgoQ4AAIGEOgAABBLqAAAQSKgDAEAgoQ4AAIGEOgAABBLqAAAQ\n",
       "SKgDAEAgoQ4AAIGEOgAABBLqAAAQSKgDAEAgoQ4AAIGEOgAABBLqAAAQSKgDAEAgoQ4AAIGEOgAA\n",
       "BBLqAAAQSKgDAEAgoQ4AAIGEOgAABBLqAAAQSKgDAEAgoQ4AAIGEOgAABBLqAAAQSKgDAEAgoQ4A\n",
       "AIGEOgAABBLqAAAQSKgDAEAgoQ4AAIGEOgAABBLqAAAQSKgDAEAgoQ4AAIGEOgAABBLqAAAQSKgD\n",
       "AEAgoQ4AAIGEOgAABBLqAAAQSKgDAEAgoQ4AAIGEOgAABBLqAAAQSKgDAEAgoQ4AAIGEOgAABBLq\n",
       "AAAQSKgDAEAgoQ4AAIGEOgAABBLqAAAQSKgDAEAgoQ4AAIGEOgAABBLqAAAQSKgDAEAgoQ4AAIGE\n",
       "OgAABBLqAAAQSKgDAEAgoQ4AAIGEOgAABBLqAAAQSKgDAEAgoQ4AAIGEOgAABBLqAAAQSKgDAEAg\n",
       "oQ4AAIGEOgAABBLqAAAQSKgDAEAgoQ4AAIGEOgAABBLqAAAQSKgDAEAgoQ4AAIGEOgAABBLqAAAQ\n",
       "SKgDAEAgoQ4AAIGEOgAABBLqAAAQSKgDAEAgoQ4AAIGEOgAABBLqAAAQSKgDAEAgoQ4AAIGEOgAA\n",
       "BBLqAAAQSKgDAEAgoQ4AAIGEOgAABBLqAAAQSKgDAEAgoQ4AAIGEOgAABBLqAAAQSKgDAEAgoQ4A\n",
       "AIGEOgAABBLqAAAQSKgDAEAgoQ4AAIGEOgAABBLqAAAQSKgDAEAgoQ4AAIGEOgAABBLqAAAQSKgD\n",
       "AEAgoQ4AAIGEOgAABBLqAAAQSKgDAEAgoQ4AAIGEOgAABBLqAAAQSKgDAEAgoQ4AAIGEOgAABBLq\n",
       "AAAQSKgDAEAgoQ4AAIGEOgAABBLqAAAQSKgDAEAgoQ4AAIEGXQ+Arr3+97fbrjcAcGVf/5uNpusN\n",
       "0BVX1AEAIJBQBwCAQEIdAAACCXUAAAgk1AEAIJBQBwCAQEIdAAACCXUAAAgk1AEAIJBQBwCAQEId\n",
       "AAACCXUAAAgk1AEAIJBQBwCAQEIdAAACCXUAAAgk1AEAIJBQBwCAQEIdAAACCXUAAAgk1AEAIJBQ\n",
       "BwCAQEIdAAACCXUAAAgk1AEAIJBQBwCAQEIdAAACCXUAAAgk1AEAIJBQBwCAQEIdAAACCXUAAAgk\n",
       "1AEAIJBQBwCAQEIdAAACCXUAAAgk1AEAIJBQBwCAQEIdAAACCXUAAAgk1AEAIJBQBwCAQEIdAAAC\n",
       "CXUAAAgk1AEAIJBQBwCAQEIdAAACCXUAAAgk1AEAIJBQBwCAQEIdAAACCXUAAAgk1AEAIJBQBwCA\n",
       "QEIdAAACCXUAAAgk1AEAINCg6wHA89fvfezEsx5E2k6WQI5pVc2e8b177jrTxRTgeU6oAwtZrar1\n",
       "arqeATEm1dZ2VY26HgI87wl1YCFNVQ2aquNr69Xv9VxR59CbTKe1NR7XVrV1vvwrE7B/Qh1YyLyq\n",
       "2vZCjGwePVr9npe+cLjNZrPqbW1VOxpV86Or6wD74RkVAJapaaqa5ukbwtwYBuyXUAcAgEBCHQAA\n",
       "Agl1AAAIJNQBACCQUAcAgEBCHQAAAnkfdWDfplW1U1WDamtlPK610aiGg/0/rKyurCxtG/w8xnt7\n",
       "Sz2v3+tVr2mqaX3cEbB/Qh1YyLSqzlTVZD6r0dmzNWj2/67Rx9bW6tpjx6rnQ5M4YNPZrJ7Y2qrZ\n",
       "EsK6aaqqrZr7TFJgQUIdWFhbVeeqaq/aGi4QOru7uzWaTOrUNde4uk4nttt5LXxtXZ8DSyLUgX1r\n",
       "n/GZi6Mffe3XuNqaTSc1OXOmTm1u1tEjRxbaB89FW03N5m3NqmpWTY2qatL1KIAS6sACPnHXk1VV\n",
       "dfvHb1jKeZOqms1G1c5nVVtbtTse1/HNzYXue4dn2t7ZqdFl96RPVzfr9M6kzjUrtd2/EOzLcu+d\n",
       "jy7xNOCw8ewHLOzeOx+t99z9kqWcNemt1ng2qr35uHZGu7W7t1cnjx2rjfX1pZwPVVXnx+Pamc+r\n",
       "qmp3vl7neyu1085rvsQ/49N3/GCJpwGHkVAHluJilLzrnpsXPmuvv1Y77axOjp+oyXxWe2efqmv3\n",
       "9ur45qYXmrI0s2rrfFVt9VZqt13eSz+bqvrHDz68pNOAw0yoA0v12Q8+XG/95KuWctYjgxfXi7d/\n",
       "WIO2rXOjUa0Oh7XhvnWW7KnecGlnDatXn33/t5Z2HnC4CXVg6b74/oeqqurWe2/peAn8bHv9taWc\n",
       "s97063O/842lnAVQJdSBq+j+2x+sN3zqjV3PgJ9qr7/Y6x8G1dQD731gSWsALhHqwFX1tfd+pW75\n",
       "zFu6ngE/0SJX1FebQT3w2/+0xDUAlwh14Kp78N1fqqqqV993W8dL4NnG+7ii3m+aWuut1L+88++v\n",
       "wiKAC4Q6cGC+fdt99crP3971DPgxe4OfL9SHzaCG/dX6+ls/fpUWAVwg1IED9Z133FtVVTd94Y6O\n",
       "l8AFz/WKetP0aq23Wg/95l9f5UUAFwh1oBPffdvddeOXP9T1DKjR4Ge/5eewN6y1/nr9+5v+4gAW\n",
       "AVwg1IHOPPLmj1ZV1XX3f7jjJRxm4/5PCfWmqdX+evWHG/Xw6/7o4EYBlFAHAjxx60fq6Ff/rOsZ\n",
       "HFI/6Yp6vzes1cFGrR45Xt991QcOeBWAUAdCnP3VP6nVb/5V1zM4hEaDjWd9bzjYqOHKsXrsNb9b\n",
       "j3WwCaBKqANB/vum99V45/G64fFvdj2FQ+TyUO/1hjUcbtZw42SdeflvdLgKQKgDIfr9fp04eX2d\n",
       "nk/r0et+pY6f/Y+uJ3FI7A6PVlXVYLBRw9XjdfTkDfXkiVdUv+NdAEIdiDEcrtQLbvjFevL0em0N\n",
       "N2s2erzrSRwCo5XjNVg5XsONU3XNddfXf53ZqZNdjwIooQ6EaZqmTl73ghqNjtWTj/e6nsMhMDn2\n",
       "ito89Qu1tr5R21V1/Quv7XoSQFVVeRYEIq2trdcLb3xZ1zM4DHr9ahpPh0Aej0xArF7PXcJcfdcc\n",
       "v77rCQBX5NYXAA61jaPHup4AcEWuqAMAQCChDgAAgYQ6AAAEEuoAABBIqAMAQCChDgAAgYQ6AAAE\n",
       "EuoAABBIqAMAQCChDgAAgYQ6AAAEEuoAABBIqAMAQCChDgAAgYQ6AAAEEuoAABBIqAMAQCChDgAA\n",
       "gYQ6AAAEEuoAABBIqAMAQCChDgAAgYQ6AAAEEuoAABBIqAMAQCChDgAAgYQ6AAAEEuoAABBIqAMA\n",
       "QCChDgAAgYQ6AAAEEuoAABBIqAMAQCChDgAAgYQ6AAAEEuoAABBIqAMAQCChDgAAgYQ6AAAEEuoA\n",
       "ABBIqAMAQCChDgAAgYQ6AAAEEuoAABBIqAMAQCChDgAAgYQ6AAAEEuoAABBIqAMAQCChDgAAgYQ6\n",
       "AAAEEuoAABBIqAMAQCChDgAAgYQ6AAAEEuoAABBIqAMAQCChDgAAgYQ6AAAEEuoAABBIqAMAQCCh\n",
       "DgAAgYQ6AAAEEuoAABBIqAMAQCChDgAAgYQ6AAAEEuoAABBIqAMAQCChDgAAgYQ6AAAEEuoAABBI\n",
       "qAMAQCChDgAAgYQ6AAAEEuoAABBIqAMAQKBB1wMArmQ82q3pdNL1DADojCvqQKyzTz3W9QQOgfl8\n",
       "1vUEgCsS6kCktp1XCSgOwP888r0ajXa7ngHwLG59ASLMZrM6/fij9dITR+r0E4/V7vbjNdx7qutZ\n",
       "HALT3f+t04/Na+3I8br25PXVNE3XkwCqSqgDQV4+OFenf/Cf1Y6fqsF02wMUB+LE+e9Xnf9+PXXN\n",
       "L9Vkb7dOnnpRDYcrXc8C8DwIZDjxvQfq/Pbp6k3O1XA+qWHXgzg01ifnL/z6xL/Vo6deW2dOD+rk\n",
       "qRuq3+93vAw47IQ60LkT3/rbGu1tVTPdLtcxOWhr0+2nf//SR++vqqrxqT/sag7A04Q60JmXPfSJ\n",
       "Or/zVI2n29WfT8r1S7pweag//b1//fM6/+t/2sEagEuEOtCJm77xlzWabNd8tlvDtnWrC51Zm+5c\n",
       "+fv3f7ieuPUjB7wG4BKhDhy4mx/44xrNdqvmk1rtegyH3ursyqFeVXXjlz9UVVWPvPmjBzUH4GlC\n",
       "HThQv/zPf1Cj+bj67dytLkT4SVfUL3fTF+6o777t7gNYA3CJUAcOxGu/eGftzsY1aadeMEqU1dlz\n",
       "+7CjV37+9qqq+s477r2acwCeJtSBq+71n3tfjeZ71bStSCfOyvTn+1TSV993W337tvuu0hqAS4Q6\n",
       "cFX92j+8vcbttAblAYdMz/WK+uVu+cxbqqrqwXd/adlzAJ7meRO4at70qTfVtFxFJ9vKbLTv//YN\n",
       "n3pjfe29X1neGIDLCHVg6d7+d6+r3XZWVSXSibeyjyvql7v13lvq/tsfXNIagEuEOrBU7/zka2pS\n",
       "c4HO88YiV9QveusnX1VVVV98/0MLnwVwkVAHlua37rm52lrOVfSmqtab3hJOgh+3vrZWm5NJTXZ3\n",
       "atq2deP2D+v06nU1bxZ/w9B33XNzffaDDy9hJYBQB5bkPXe/ZGln9arqSNOro02v1qtZ2rlQVdXr\n",
       "9eraa66p1ZWVOr21VcP5rFbGT9TZ3mrt9dcWPv/iz8Kn7/jBwmcBh5tQBxZ2+8dvWNpZ/araqKY2\n",
       "m16dPHq0Br31pZ0Nl9tYX6+V4bDWz52r8+NxrczHtTUf12gJsV514efi3jsfXcpZwOEk1IF9+8DH\n",
       "rl3qecOq2qiqY71eXbexWZvrg2rWjy/1z4DLDQeDOnXiRK3v7FSdO1c1n1V/Nqq9Jf1LzsWfkU/c\n",
       "9eRSzgMOF6EO7Nuw2lrOtcdL+he/ek011S75dLiyo0eO1HAwqOHZszWYTmu0wP97k6oaL28acIgJ\n",
       "dWAh/ao62jTVr6aqqWqX1NbuTOegra6s1ItOnqy1ra3aGu3/nWCmbVvnq63zVf6qCSxEqAML61VT\n",
       "x48cqSNry76+Dger1+vVdceP1+be3r7PmEyn9eS5czWcz2qrqqbLmwccMkIdWEhbVfO2rdl8XoPB\n",
       "oPo9b6nI89/qyv7fZHQwGNSRvb3a292tabW1s8RdwOHiGRUAAAIJdQAACCTUAQAgkFAHAIBAQh0A\n",
       "AAIJdQAACCTUgX1rL/+1bZf3aUcAgPdRB/ZvVlXnqqqttprRqOZtW8OBhxUOt+biV1PV83dXYAGe\n",
       "UYGFtHUh1ifV1mg8quG46XoSxNDpwCKEOrAUo6qaVNVAmnDI+asqsCxCHdi3e+460/UEAPh/y4tJ\n",
       "AQAgkFAHAIBAQh0AAAIJdQAACCTUAQAgkFAHAIBAQh0AAAIJdQAACCTUAQAgkFAHAIBAQh0AAAIJ\n",
       "dQAACCTUAQAgkFAHAIBAQh0AAAIJdQAACCTUAQAgkFAHAIBAQh0AAAIJdQAACCTUAQAgkFAHAIBA\n",
       "Qh0AAAIJdQAACCTUAQAgkFAHAIBAQh0AAAIJdQAACCTUAQAgkFAHAIBAQh0AAAIJdQAACCTUAQAg\n",
       "kFAHAIBAQh0AAAIJdQAACCTUAQAgkFAHAIBAQh0AAAIJdQAACCTUAQAgkFAHAIBAQh0AAAIJdQAA\n",
       "CCTUAQAgkFAHAIBAQh0AAAIJdQAACCTUAQAgkFAHAIBAQh0AAAIJdQAACCTUAQAgkFAHAIBAQh0A\n",
       "AAIJdQAACCTUAQAgUNO2bdcbAACAZ3BFHQAAAgl1AAAIJNQBACCQUAcAgEBCHQAAAgl1AAAIJNQB\n",
       "ACCQUAcAgEBCHQAAAgl1AAAIJNQBACCQUAcAgEBCHQAAAgl1AAAIJNQBACCQUAcAgEBCHQAAAgl1\n",
       "AAAIJNQBACCQUAcAgEBCHQAAAgl1AAAIJNQBACCQUAcAgEBCHQAAAgl1AAAIJNQBACCQUAcAgEBC\n",
       "HQAAAgl1AAAIJNQBACCQUAcAgEBCHQAAAgl1AAAIJNQBACCQUAcAgEBCHQAAAgl1AAAIJNQBACCQ\n",
       "UAcAgEBCHQAAAgl1AAAIJNQBACCQUAcAgEBCHQAAAgl1AAAIJNQBACCQUAcAgEBCHQAAAgl1AAAI\n",
       "JNQBACCQUAcAgEBCHQAAAgl1AAAIJNQBACCQUAcAgEBCHQAAAgl1AAAIJNQBACCQUAcAgEBCHQAA\n",
       "Agl1AAAIJNQBACCQUAcAgEBCHQAAAgl1AAAIJNQBACCQUAcAgEBCHQAAAgl1AAAIJNQBACCQUAcA\n",
       "gEBCHQAAAgl1AAAIJNQBACCQUAcAgEBCHQAAAgl1AAAIJNQBACCQUAcAgEBCHQAAAgl1AAAIJNQB\n",
       "ACCQUAcAgEBCHQAAAgl1AAAIJNQBACCQUAcAgEBCHQAAAgl1AAAIJNQBACCQUAcAgEBCHQAAAgl1\n",
       "AAAIJNQBACCQUAcAgEBCHQAAAgl1AAAIJNQBACCQUAcAgEBCHQAAAgl1AAAIJNQBACCQUAcAgEBC\n",
       "HQAAAgl1AAAIJNQBACCQUAcAgEBCHQAAAgl1AAAIJNQBACCQUAcAgEBCHQAAAgl1AAAIJNQBACCQ\n",
       "UAcAgEBCHQAAAgl1AAAIJNQBACCQUAcAgEBCHQAAAgl1AAAIJNQBACCQUAcAgEBCHQAAAgl1AAAI\n",
       "JNQBACCQUAcAgEBCHQAAAgl1AAAIJNQBACCQUAcAgEBCHQAAAgl1AAAIJNQBACCQUAcAgEBCHQAA\n",
       "Agl1AAAIJNQBACCQUAcAgEBCHQAAAgl1AAAIJNQBACCQUAcAgEBCHQAAAgl1AAAIJNQBACCQUAcA\n",
       "gEBCHQAAAgl1AAAIJNQBACCQUAcAgEBCHQAAAgl1AAAIJNQBACCQUAcAgEBCHQAAAgl1AAAIJNQB\n",
       "ACCQUAcAgEBCHQAAAgl1AAAIJNQBACCQUAcAgEBCHQAAAgl1AAAIJNQBACCQUAcAgEBCHQAAAgl1\n",
       "AAAIJNQBACCQUAcAgEBCHQAAAgl1AAAIJNQBACCQUAcAgEBCHQAAAgl1AAAIJNQBACCQUAcAgEBC\n",
       "HQAAAgl1AAAIJNQBACCQUAcAgEBCHQAAAgl1AAAIJNQBACCQUAcAgEBCHQAAAgl1AAAIJNQBACCQ\n",
       "UAcAgEBCHQAAAgl1AAAIJNQBACCQUAcAgEBCHQAAAgl1AAAIJNQBACCQUAcAgEBCHQAAAgl1AAAI\n",
       "JNQBACCQUAcAgEBCHQAAAgl1AAAIJNQBACCQUAcAgEBCHQAAAgl1AAAIJNQBACCQUAcAgEBCHQAA\n",
       "Agl1AAAIJNQBACCQUAcAgEBCHQAAAgl1AAAIJNQBACCQUAcAgEBCHQAAAgl1AAAIJNQBACCQUAcA\n",
       "gEBCHQAAAgl1AAAIJNQBACCQUAcAgEBCHQAAAgl1AAAIJNQBACCQUAcAgEBCHQAAAgl1AAAIJNQB\n",
       "ACCQUAcAgEBCHQAAAgl1AAAIJNQBACCQUAcAgEBCHQAAAgl1AAAIJNQBACCQUAcAgEBCHQAAAgl1\n",
       "AAAIJNQBACCQUAcAgEBCHQAAAgl1AAAIJNQBACCQUAcAgEBCHQAAAgl1AAAIJNQBACCQUAcAgEBC\n",
       "HQAAAgl1AAAIJNQBACCQUAcAgEBCHQAAAgl1AAAIJNQBACCQUAcAgEBCHQAAAgl1AAAIJNQBACCQ\n",
       "UAcAgEBCHQAAAgl1AAAIJNQBACCQUAcAgEBCHQAAAgl1AAAIJNQBACCQUAcAgEBCHQAAAgl1AAAI\n",
       "JNQBACCQUAcAgEBCHQAAAgl1AAAIJNQBACCQUAcAgEBCHQAAAgl1AAAIJNQBACCQUAcAgEBCHQAA\n",
       "Agl1AAAIJNQBACCQUAcAgEBCHQAAAgl1AAAIJNQBACCQUAcAgEBCHQAAAgl1AAAIJNQBACCQUAcA\n",
       "gEBCHQAAAgl1AAAIJNQBACCQUAcAgEBCHQAAAgl1AAAIJNQBACCQUAcAgEBCHQAAAgl1AAAIJNQB\n",
       "ACCQUAcAgEBCHQAAAgl1AAAIJNQBACCQUAcAgEBCHQAAAgl1AAAIJNQBACCQUAcAgEBCHQAAAgl1\n",
       "AAAIJNQBACCQUAcAgEBCHQAAAgl1AAAIJNQBACCQUAcAgEBCHQAAAgl1AAAIJNQBACCQUAcAgEBC\n",
       "HQAAAgl1AAAIJNQBACCQUAcAgEBCHQAAAgl1AAAIJNQBACCQUAcAgEBCHQAAAgl1AAAIJNQBACCQ\n",
       "UAcAgEBCHQAAAgl1AAAIJNQBACCQUAcAgEBCHQAAAgl1AAAIJNQBACCQUAcAgEBCHQAAAgl1AAAI\n",
       "JNQBACCQUAcAgEBCHQAAAgl1AAAIJNQBACCQUAcAgEBCHQAAAgl1AAAIJNQBACCQUAcAgEBCHQAA\n",
       "Agl1AAAIJNQBACCQUAcAgEBCHQAAAgl1AAAIJNQBACCQUAcAgEBCHQAAAgl1AAAI9H9D4oxxqSxf\n",
       "9QAAAABJRU5ErkJggg==\n",
       "\" transform=\"translate(47, 292)\"/>\n",
       "</g>\n",
       "<defs>\n",
       "  <clipPath id=\"clip733\">\n",
       "    <rect x=\"960\" y=\"292\" width=\"73\" height=\"1016\"/>\n",
       "  </clipPath>\n",
       "</defs>\n",
       "<g clip-path=\"url(#clip733)\">\n",
       "<image width=\"72\" height=\"1015\" xlink:href=\"data:image/png;base64,\n",
       "iVBORw0KGgoAAAANSUhEUgAAAEgAAAP3CAYAAACPmQh6AAAI/ElEQVR4nO3dwXHbQBBFQSw5svOP\n",
       "yIFZIhyB5x3JQ3cEqle/4MWSls6fx9d98V+Pd/8An06gIFCY81ujjTpBoCBQmPNLo406QaAgUJjz\n",
       "9Xz3z/DRLCgIFAQKc0ajjTpBoCBQmMszaKVOECgIFOY8NdqoEwQKAgXPoKBOECgIFOY8z7t/ho9m\n",
       "QUGgIFCYyzlopU4QKAgUvIsFdYJAQaAw56HRRp0gUBAoOAcFdYJAQaAw18Od9MaCgkBBoOBdLKgT\n",
       "BAoCBe9iQZ0gUBAozOUctFInCBQECnPcB60sKAgUBArug4I6QaAgUPAMCuoEgYJAwWfzwYKCQEGg\n",
       "4BwU1AkCBYGCZ1BQJwgUBAo+mw/qBIGCQMFn88GCgkBBoOBdLKgTBAoCBe9iQZ0gUBAozDnexTYW\n",
       "FAQKAgXvYkGdIFDwqhHUCQIFgYKPfYIFBYGCQME5KKgTBAoChTlHo406QaAgUPAuFiwoCBQECt7F\n",
       "gjpBoCBQ8NFzUCcIFAQK7oOCOkGgIFDwK7qCBQWBgkDBu1hQJwgUBApzeRdbqRMECgIFn80HCwoC\n",
       "BYGCz+aDOkGgIFDwuVhQJwgUBArupIM6QaAgUPDZfLCgIFAQKHgXC+oEgYJAwZ10UCcIFAQKPpsP\n",
       "FhQECgIF31EM6gSBgkDB52JBnSBQECg4BwV1gkBBoOA+KFhQECgIFHwuFtQJAgWBgu8HBXWCQEGg\n",
       "4BwU1AkCBYGCP6ceLCgIFAQKzkFBnSBQ8PWXoE4QKAgUfP0lqBMECgIFX38JFhQECgIF56CgThAo\n",
       "CBRcuQZ1gkBBoOBOOqgTBAoCBe9iQZ0gUBAouJMOFhQECgIF56CgThAoCBTcBwV1gkBBoOAcFNQJ\n",
       "AgWBgj+fFSwoCBQECt7FgjpBoCBQ8C4W1AkCBYGC70kHdYJAQaDgV5UGdYJAQaDgHBTUCQIFgcJc\n",
       "flXpyoKCQEGg4HOxoE4QKAgUvIsFdYJAQaDgs/mgThAoCBS8iwV1gkBBoOBOOlhQECgIFNwHBXWC\n",
       "QEGg4DuKQZ0gUBAoOAcFdYJAQaDgc7GgThAoCBScg4I6QaAgUPDZfFAnCBR89BwsKAgUBApeNYI6\n",
       "QaAgUHDlGtQJAgWBguuOoE4QKAgUnIOCOkGgIFBwHxTUCQIFgYJzUFAnCBQECs5BQZ0gUBAozPFn\n",
       "RFcWFAQKAgXvYkGdIFAQKHgXC+oEgYJAwTkoqBMECgIF56CgThAoCBScg4I6QaAgUPB/NYI6QaAg\n",
       "UHAOCuoEgYJAwX1QUCcIFAQKnkFBnSBQECj4PYrBgoJAQaDgHBTUCQIFgYI76aBOECgIFJyDgjpB\n",
       "oCBQcA4K6gSBgkDBOSioEwQKAgXnoKBOECgIFJyDgjpBoCBQcA4K6gSBgkDBOSioEwQK/pkP6gSB\n",
       "gkDBP/NBnSBQECj471DBgoJAQaDgHBTUCQIFgYL7oKBOECgIFDyDgjpBoCBQmNu72EqdIFAQKLiT\n",
       "DhYUBAoCBe9iQZ0gUBAozO0ZtFInCBQECnNd3sU2FhQECgKFud0HrSwoCBQECqPRTp0gUBAoOAcF\n",
       "CwoCBYHC3O6DVhYUBAoCBXfSwYKCQEGg4BwULCgIFAQKc9/v/hE+mwUFgYJAwTkoWFAQKAgUnIOC\n",
       "BQWBgkBh7ts5aGNBQaAgUHAOChYUBAoCBc+gYEFBoCBQ8AwKFhQECgIFz6BgQUGgIFCYl2fQyoKC\n",
       "QEGg4BwULCgIFAQKnkHBgoJAQaAw9+vdP8Jns6AgUPDPfLCgIFAQKLhyDRYUBAoCBa8awYKCQEGg\n",
       "4F0sWFAQKAgUPIOCBQWBgkDBu1iwoCBQECjMy0FoZUFBoCBQ8C4WLCgIFAQK3sWCBQWBgkDBOShY\n",
       "UBAoCBQ8g4IFBYGCQGFe3sVWFhQECgIF56BgQUGgIFCY20NoZUFBoCBQcA4KFhQECgIF90HBgoJA\n",
       "QaDgHBQsKAgUBAqeQcGCgkBBoOB70sGCgkBBoOD3KAYLCgIFgYJ3sWBBQaAgUJjbQWhlQUGgIFBw\n",
       "DgoWFAQKAgX3QcGCgkBBoOBzsWBBQaAgUPAuFiwoCBQECp5BwYKCQEGg4HfaBwsKAgXXHcGCgkBB\n",
       "oOBVI1hQECgIFDyDggUFgYJAwa/HCRYUBAoCBeegYEFBoCBQ8AwKFhQECgIFHz0HCwoCBYGCz+aD\n",
       "BQWBgkDBu1iwoCBQECh4BgULCgIFgYLP5oMFBYGCQME5KFhQECgIFPwp42BBQaAgUPBrAoMFBYGC\n",
       "QMFn88GCgkBBoOA+KFhQECgIFLyLBQsKAgWBgnNQsKAgUBAo+BN+wYKCQEGg4F0sWFAQKAgUvIsF\n",
       "CwoCBYGCc1CwoCBQECj4flCwoCBQECh4FwsWFAQKAgW/RzFYUBAoCBScg4IFBYGCQMF9ULCgIFAQ\n",
       "KPhcLFhQECgIFLyLBQsKAgVXrsGCgkBBoOC6I1hQECgIFFx3BAsKAgWBguuOYEFBoCBQ8AwKFhQE\n",
       "CgIFfz4rWFAQKAgU/OmaYEFBoCBQcCcdLCgIFAQK7oOCBQWBgkDBOShYUBAoCBR8RzFYUBAoCBT8\n",
       "X41gQUGgIFBwHxQsKAgUBArug4IFBYGCQMF3FIMFBYGCQMG7WLCgIFAQKLiTDhYUBAoCBeegYEFB\n",
       "oCBQcCcdLCgIFAQK7qSDBQWBgkDBu1iwoCBQECh4FwsWFAQKAgWfiwULCgIFgYJ3sWBBQaAgUPAu\n",
       "FiwoCBQECj4XCxYUBAoCBe9iwYKCQEGg4E46WFAQKLjuCBYUBAoCBc+gYEFBoCBQcOUaLCgIFAQK\n",
       "zkHBgoJAQaDgz4gGCwoCBYGCc1CwoCBQECh4BgULCgIFgYJnULCgIFAQKMzLQ2hlQUGgIFBwDgoW\n",
       "FAQKAoX58QxaWVAQKAgUnIOCBQWBgkDBMyhYUBAoCBT8t/BgQUGgIFBwHxQsKAgUBAr+z2qwoCBQ\n",
       "ECg4BwULCgIFgYI76WBBQaAgUJgfd9IrCwoCBYGCd7FgQUGgIFDwLhYsKAgUBArOQcGCgkBBoDDf\n",
       "7oNWFhQECgIF56BgQUGgIFCYb99RXFlQECgIFObbOWhlQUGgIFDwDAoWFAQKAoX56056ZUFBoPAP\n",
       "38EfROHdM9kAAAAASUVORK5CYII=\n",
       "\" transform=\"translate(961, 292)\"/>\n",
       "</g>\n",
       "<path clip-path=\"url(#clip730)\" d=\"M1074.38 1209.7 L1090.7 1209.7 L1090.7 1213.64 L1068.76 1213.64 L1068.76 1209.7 Q1071.42 1206.95 1076 1202.32 Q1080.61 1197.67 1081.79 1196.32 Q1084.03 1193.8 1084.91 1192.06 Q1085.82 1190.3 1085.82 1188.61 Q1085.82 1185.86 1083.87 1184.12 Q1081.95 1182.39 1078.85 1182.39 Q1076.65 1182.39 1074.2 1183.15 Q1071.77 1183.92 1068.99 1185.47 L1068.99 1180.74 Q1071.81 1179.61 1074.27 1179.03 Q1076.72 1178.45 1078.76 1178.45 Q1084.13 1178.45 1087.32 1181.14 Q1090.52 1183.82 1090.52 1188.31 Q1090.52 1190.44 1089.7 1192.36 Q1088.92 1194.26 1086.81 1196.86 Q1086.23 1197.53 1083.13 1200.74 Q1080.03 1203.94 1074.38 1209.7 Z\" fill=\"#000000\" fill-rule=\"evenodd\" fill-opacity=\"1\" /><path clip-path=\"url(#clip730)\" d=\"M1100.56 1179.08 L1118.92 1179.08 L1118.92 1183.01 L1104.84 1183.01 L1104.84 1191.49 Q1105.86 1191.14 1106.88 1190.98 Q1107.9 1190.79 1108.92 1190.79 Q1114.7 1190.79 1118.08 1193.96 Q1121.46 1197.13 1121.46 1202.55 Q1121.46 1208.13 1117.99 1211.23 Q1114.52 1214.31 1108.2 1214.31 Q1106.02 1214.31 1103.76 1213.94 Q1101.51 1213.57 1099.1 1212.83 L1099.1 1208.13 Q1101.19 1209.26 1103.41 1209.82 Q1105.63 1210.37 1108.11 1210.37 Q1112.11 1210.37 1114.45 1208.27 Q1116.79 1206.16 1116.79 1202.55 Q1116.79 1198.94 1114.45 1196.83 Q1112.11 1194.73 1108.11 1194.73 Q1106.23 1194.73 1104.36 1195.14 Q1102.51 1195.56 1100.56 1196.44 L1100.56 1179.08 Z\" fill=\"#000000\" fill-rule=\"evenodd\" fill-opacity=\"1\" /><path clip-path=\"url(#clip730)\" d=\"M1140.68 1182.16 Q1137.07 1182.16 1135.24 1185.72 Q1133.43 1189.26 1133.43 1196.39 Q1133.43 1203.5 1135.24 1207.06 Q1137.07 1210.61 1140.68 1210.61 Q1144.31 1210.61 1146.12 1207.06 Q1147.95 1203.5 1147.95 1196.39 Q1147.95 1189.26 1146.12 1185.72 Q1144.31 1182.16 1140.68 1182.16 M1140.68 1178.45 Q1146.49 1178.45 1149.54 1183.06 Q1152.62 1187.64 1152.62 1196.39 Q1152.62 1205.12 1149.54 1209.73 Q1146.49 1214.31 1140.68 1214.31 Q1134.87 1214.31 1131.79 1209.73 Q1128.73 1205.12 1128.73 1196.39 Q1128.73 1187.64 1131.79 1183.06 Q1134.87 1178.45 1140.68 1178.45 Z\" fill=\"#000000\" fill-rule=\"evenodd\" fill-opacity=\"1\" /><path clip-path=\"url(#clip730)\" d=\"M1170.84 1182.16 Q1167.23 1182.16 1165.4 1185.72 Q1163.59 1189.26 1163.59 1196.39 Q1163.59 1203.5 1165.4 1207.06 Q1167.23 1210.61 1170.84 1210.61 Q1174.47 1210.61 1176.28 1207.06 Q1178.11 1203.5 1178.11 1196.39 Q1178.11 1189.26 1176.28 1185.72 Q1174.47 1182.16 1170.84 1182.16 M1170.84 1178.45 Q1176.65 1178.45 1179.7 1183.06 Q1182.78 1187.64 1182.78 1196.39 Q1182.78 1205.12 1179.7 1209.73 Q1176.65 1214.31 1170.84 1214.31 Q1165.03 1214.31 1161.95 1209.73 Q1158.89 1205.12 1158.89 1196.39 Q1158.89 1187.64 1161.95 1183.06 Q1165.03 1178.45 1170.84 1178.45 Z\" fill=\"#000000\" fill-rule=\"evenodd\" fill-opacity=\"1\" /><path clip-path=\"url(#clip730)\" d=\"M1201 1182.16 Q1197.39 1182.16 1195.56 1185.72 Q1193.76 1189.26 1193.76 1196.39 Q1193.76 1203.5 1195.56 1207.06 Q1197.39 1210.61 1201 1210.61 Q1204.63 1210.61 1206.44 1207.06 Q1208.27 1203.5 1208.27 1196.39 Q1208.27 1189.26 1206.44 1185.72 Q1204.63 1182.16 1201 1182.16 M1201 1178.45 Q1206.81 1178.45 1209.87 1183.06 Q1212.94 1187.64 1212.94 1196.39 Q1212.94 1205.12 1209.87 1209.73 Q1206.81 1214.31 1201 1214.31 Q1195.19 1214.31 1192.11 1209.73 Q1189.06 1205.12 1189.06 1196.39 Q1189.06 1187.64 1192.11 1183.06 Q1195.19 1178.45 1201 1178.45 Z\" fill=\"#000000\" fill-rule=\"evenodd\" fill-opacity=\"1\" /><path clip-path=\"url(#clip730)\" d=\"M1070.21 1052.32 L1088.57 1052.32 L1088.57 1056.25 L1074.5 1056.25 L1074.5 1064.72 Q1075.52 1064.38 1076.53 1064.21 Q1077.55 1064.03 1078.57 1064.03 Q1084.36 1064.03 1087.74 1067.2 Q1091.12 1070.37 1091.12 1075.79 Q1091.12 1081.37 1087.64 1084.47 Q1084.17 1087.55 1077.85 1087.55 Q1075.68 1087.55 1073.41 1087.18 Q1071.16 1086.81 1068.76 1086.07 L1068.76 1081.37 Q1070.84 1082.5 1073.06 1083.06 Q1075.28 1083.61 1077.76 1083.61 Q1081.77 1083.61 1084.1 1081.51 Q1086.44 1079.4 1086.44 1075.79 Q1086.44 1072.18 1084.1 1070.07 Q1081.77 1067.96 1077.76 1067.96 Q1075.89 1067.96 1074.01 1068.38 Q1072.16 1068.8 1070.21 1069.68 L1070.21 1052.32 Z\" fill=\"#000000\" fill-rule=\"evenodd\" fill-opacity=\"1\" /><path clip-path=\"url(#clip730)\" d=\"M1110.33 1055.39 Q1106.72 1055.39 1104.89 1058.96 Q1103.08 1062.5 1103.08 1069.63 Q1103.08 1076.74 1104.89 1080.3 Q1106.72 1083.84 1110.33 1083.84 Q1113.96 1083.84 1115.77 1080.3 Q1117.6 1076.74 1117.6 1069.63 Q1117.6 1062.5 1115.77 1058.96 Q1113.96 1055.39 1110.33 1055.39 M1110.33 1051.69 Q1116.14 1051.69 1119.2 1056.3 Q1122.27 1060.88 1122.27 1069.63 Q1122.27 1078.36 1119.2 1082.96 Q1116.14 1087.55 1110.33 1087.55 Q1104.52 1087.55 1101.44 1082.96 Q1098.39 1078.36 1098.39 1069.63 Q1098.39 1060.88 1101.44 1056.3 Q1104.52 1051.69 1110.33 1051.69 Z\" fill=\"#000000\" fill-rule=\"evenodd\" fill-opacity=\"1\" /><path clip-path=\"url(#clip730)\" d=\"M1140.49 1055.39 Q1136.88 1055.39 1135.05 1058.96 Q1133.25 1062.5 1133.25 1069.63 Q1133.25 1076.74 1135.05 1080.3 Q1136.88 1083.84 1140.49 1083.84 Q1144.13 1083.84 1145.93 1080.3 Q1147.76 1076.74 1147.76 1069.63 Q1147.76 1062.5 1145.93 1058.96 Q1144.13 1055.39 1140.49 1055.39 M1140.49 1051.69 Q1146.3 1051.69 1149.36 1056.3 Q1152.44 1060.88 1152.44 1069.63 Q1152.44 1078.36 1149.36 1082.96 Q1146.3 1087.55 1140.49 1087.55 Q1134.68 1087.55 1131.6 1082.96 Q1128.55 1078.36 1128.55 1069.63 Q1128.55 1060.88 1131.6 1056.3 Q1134.68 1051.69 1140.49 1051.69 Z\" fill=\"#000000\" fill-rule=\"evenodd\" fill-opacity=\"1\" /><path clip-path=\"url(#clip730)\" d=\"M1170.65 1055.39 Q1167.04 1055.39 1165.21 1058.96 Q1163.41 1062.5 1163.41 1069.63 Q1163.41 1076.74 1165.21 1080.3 Q1167.04 1083.84 1170.65 1083.84 Q1174.29 1083.84 1176.09 1080.3 Q1177.92 1076.74 1177.92 1069.63 Q1177.92 1062.5 1176.09 1058.96 Q1174.29 1055.39 1170.65 1055.39 M1170.65 1051.69 Q1176.46 1051.69 1179.52 1056.3 Q1182.6 1060.88 1182.6 1069.63 Q1182.6 1078.36 1179.52 1082.96 Q1176.46 1087.55 1170.65 1087.55 Q1164.84 1087.55 1161.76 1082.96 Q1158.71 1078.36 1158.71 1069.63 Q1158.71 1060.88 1161.76 1056.3 Q1164.84 1051.69 1170.65 1051.69 Z\" fill=\"#000000\" fill-rule=\"evenodd\" fill-opacity=\"1\" /><path clip-path=\"url(#clip730)\" d=\"M1200.82 1055.39 Q1197.2 1055.39 1195.38 1058.96 Q1193.57 1062.5 1193.57 1069.63 Q1193.57 1076.74 1195.38 1080.3 Q1197.2 1083.84 1200.82 1083.84 Q1204.45 1083.84 1206.26 1080.3 Q1208.08 1076.74 1208.08 1069.63 Q1208.08 1062.5 1206.26 1058.96 Q1204.45 1055.39 1200.82 1055.39 M1200.82 1051.69 Q1206.63 1051.69 1209.68 1056.3 Q1212.76 1060.88 1212.76 1069.63 Q1212.76 1078.36 1209.68 1082.96 Q1206.63 1087.55 1200.82 1087.55 Q1195.01 1087.55 1191.93 1082.96 Q1188.87 1078.36 1188.87 1069.63 Q1188.87 1060.88 1191.93 1056.3 Q1195.01 1051.69 1200.82 1051.69 Z\" fill=\"#000000\" fill-rule=\"evenodd\" fill-opacity=\"1\" /><path clip-path=\"url(#clip730)\" d=\"M1068.76 925.554 L1090.98 925.554 L1090.98 927.545 L1078.43 960.114 L1073.55 960.114 L1085.35 929.489 L1068.76 929.489 L1068.76 925.554 Z\" fill=\"#000000\" fill-rule=\"evenodd\" fill-opacity=\"1\" /><path clip-path=\"url(#clip730)\" d=\"M1100.14 925.554 L1118.5 925.554 L1118.5 929.489 L1104.43 929.489 L1104.43 937.962 Q1105.45 937.614 1106.46 937.452 Q1107.48 937.267 1108.5 937.267 Q1114.29 937.267 1117.67 940.438 Q1121.05 943.61 1121.05 949.026 Q1121.05 954.605 1117.58 957.707 Q1114.1 960.786 1107.78 960.786 Q1105.61 960.786 1103.34 960.415 Q1101.09 960.045 1098.69 959.304 L1098.69 954.605 Q1100.77 955.739 1102.99 956.295 Q1105.21 956.85 1107.69 956.85 Q1111.7 956.85 1114.03 954.744 Q1116.37 952.637 1116.37 949.026 Q1116.37 945.415 1114.03 943.309 Q1111.7 941.202 1107.69 941.202 Q1105.82 941.202 1103.94 941.619 Q1102.09 942.036 1100.14 942.915 L1100.14 925.554 Z\" fill=\"#000000\" fill-rule=\"evenodd\" fill-opacity=\"1\" /><path clip-path=\"url(#clip730)\" d=\"M1140.26 928.633 Q1136.65 928.633 1134.82 932.198 Q1133.01 935.739 1133.01 942.869 Q1133.01 949.975 1134.82 953.54 Q1136.65 957.082 1140.26 957.082 Q1143.89 957.082 1145.7 953.54 Q1147.53 949.975 1147.53 942.869 Q1147.53 935.739 1145.7 932.198 Q1143.89 928.633 1140.26 928.633 M1140.26 924.929 Q1146.07 924.929 1149.13 929.536 Q1152.2 934.119 1152.2 942.869 Q1152.2 951.596 1149.13 956.202 Q1146.07 960.786 1140.26 960.786 Q1134.45 960.786 1131.37 956.202 Q1128.32 951.596 1128.32 942.869 Q1128.32 934.119 1131.37 929.536 Q1134.45 924.929 1140.26 924.929 Z\" fill=\"#000000\" fill-rule=\"evenodd\" fill-opacity=\"1\" /><path clip-path=\"url(#clip730)\" d=\"M1170.42 928.633 Q1166.81 928.633 1164.98 932.198 Q1163.18 935.739 1163.18 942.869 Q1163.18 949.975 1164.98 953.54 Q1166.81 957.082 1170.42 957.082 Q1174.06 957.082 1175.86 953.54 Q1177.69 949.975 1177.69 942.869 Q1177.69 935.739 1175.86 932.198 Q1174.06 928.633 1170.42 928.633 M1170.42 924.929 Q1176.23 924.929 1179.29 929.536 Q1182.37 934.119 1182.37 942.869 Q1182.37 951.596 1179.29 956.202 Q1176.23 960.786 1170.42 960.786 Q1164.61 960.786 1161.53 956.202 Q1158.48 951.596 1158.48 942.869 Q1158.48 934.119 1161.53 929.536 Q1164.61 924.929 1170.42 924.929 Z\" fill=\"#000000\" fill-rule=\"evenodd\" fill-opacity=\"1\" /><path clip-path=\"url(#clip730)\" d=\"M1200.58 928.633 Q1196.97 928.633 1195.14 932.198 Q1193.34 935.739 1193.34 942.869 Q1193.34 949.975 1195.14 953.54 Q1196.97 957.082 1200.58 957.082 Q1204.22 957.082 1206.02 953.54 Q1207.85 949.975 1207.85 942.869 Q1207.85 935.739 1206.02 932.198 Q1204.22 928.633 1200.58 928.633 M1200.58 924.929 Q1206.39 924.929 1209.45 929.536 Q1212.53 934.119 1212.53 942.869 Q1212.53 951.596 1209.45 956.202 Q1206.39 960.786 1200.58 960.786 Q1194.77 960.786 1191.7 956.202 Q1188.64 951.596 1188.64 942.869 Q1188.64 934.119 1191.7 929.536 Q1194.77 924.929 1200.58 924.929 Z\" fill=\"#000000\" fill-rule=\"evenodd\" fill-opacity=\"1\" /><path clip-path=\"url(#clip730)\" d=\"M1069.43 829.417 L1077.07 829.417 L1077.07 803.052 L1068.76 804.718 L1068.76 800.459 L1077.02 798.792 L1081.7 798.792 L1081.7 829.417 L1089.33 829.417 L1089.33 833.352 L1069.43 833.352 L1069.43 829.417 Z\" fill=\"#000000\" fill-rule=\"evenodd\" fill-opacity=\"1\" /><path clip-path=\"url(#clip730)\" d=\"M1108.78 801.871 Q1105.17 801.871 1103.34 805.436 Q1101.53 808.978 1101.53 816.107 Q1101.53 823.214 1103.34 826.778 Q1105.17 830.32 1108.78 830.32 Q1112.41 830.32 1114.22 826.778 Q1116.05 823.214 1116.05 816.107 Q1116.05 808.978 1114.22 805.436 Q1112.41 801.871 1108.78 801.871 M1108.78 798.167 Q1114.59 798.167 1117.64 802.774 Q1120.72 807.357 1120.72 816.107 Q1120.72 824.834 1117.64 829.44 Q1114.59 834.024 1108.78 834.024 Q1102.97 834.024 1099.89 829.44 Q1096.83 824.834 1096.83 816.107 Q1096.83 807.357 1099.89 802.774 Q1102.97 798.167 1108.78 798.167 Z\" fill=\"#000000\" fill-rule=\"evenodd\" fill-opacity=\"1\" /><path clip-path=\"url(#clip730)\" d=\"M1138.94 801.871 Q1135.33 801.871 1133.5 805.436 Q1131.7 808.978 1131.7 816.107 Q1131.7 823.214 1133.5 826.778 Q1135.33 830.32 1138.94 830.32 Q1142.57 830.32 1144.38 826.778 Q1146.21 823.214 1146.21 816.107 Q1146.21 808.978 1144.38 805.436 Q1142.57 801.871 1138.94 801.871 M1138.94 798.167 Q1144.75 798.167 1147.81 802.774 Q1150.89 807.357 1150.89 816.107 Q1150.89 824.834 1147.81 829.44 Q1144.75 834.024 1138.94 834.024 Q1133.13 834.024 1130.05 829.44 Q1127 824.834 1127 816.107 Q1127 807.357 1130.05 802.774 Q1133.13 798.167 1138.94 798.167 Z\" fill=\"#000000\" fill-rule=\"evenodd\" fill-opacity=\"1\" /><path clip-path=\"url(#clip730)\" d=\"M1169.1 801.871 Q1165.49 801.871 1163.66 805.436 Q1161.86 808.978 1161.86 816.107 Q1161.86 823.214 1163.66 826.778 Q1165.49 830.32 1169.1 830.32 Q1172.74 830.32 1174.54 826.778 Q1176.37 823.214 1176.37 816.107 Q1176.37 808.978 1174.54 805.436 Q1172.74 801.871 1169.1 801.871 M1169.1 798.167 Q1174.91 798.167 1177.97 802.774 Q1181.05 807.357 1181.05 816.107 Q1181.05 824.834 1177.97 829.44 Q1174.91 834.024 1169.1 834.024 Q1163.29 834.024 1160.21 829.44 Q1157.16 824.834 1157.16 816.107 Q1157.16 807.357 1160.21 802.774 Q1163.29 798.167 1169.1 798.167 Z\" fill=\"#000000\" fill-rule=\"evenodd\" fill-opacity=\"1\" /><path clip-path=\"url(#clip730)\" d=\"M1199.26 801.871 Q1195.65 801.871 1193.82 805.436 Q1192.02 808.978 1192.02 816.107 Q1192.02 823.214 1193.82 826.778 Q1195.65 830.32 1199.26 830.32 Q1202.9 830.32 1204.7 826.778 Q1206.53 823.214 1206.53 816.107 Q1206.53 808.978 1204.7 805.436 Q1202.9 801.871 1199.26 801.871 M1199.26 798.167 Q1205.07 798.167 1208.13 802.774 Q1211.21 807.357 1211.21 816.107 Q1211.21 824.834 1208.13 829.44 Q1205.07 834.024 1199.26 834.024 Q1193.45 834.024 1190.38 829.44 Q1187.32 824.834 1187.32 816.107 Q1187.32 807.357 1190.38 802.774 Q1193.45 798.167 1199.26 798.167 Z\" fill=\"#000000\" fill-rule=\"evenodd\" fill-opacity=\"1\" /><path clip-path=\"url(#clip730)\" d=\"M1229.43 801.871 Q1225.82 801.871 1223.99 805.436 Q1222.18 808.978 1222.18 816.107 Q1222.18 823.214 1223.99 826.778 Q1225.82 830.32 1229.43 830.32 Q1233.06 830.32 1234.87 826.778 Q1236.69 823.214 1236.69 816.107 Q1236.69 808.978 1234.87 805.436 Q1233.06 801.871 1229.43 801.871 M1229.43 798.167 Q1235.24 798.167 1238.29 802.774 Q1241.37 807.357 1241.37 816.107 Q1241.37 824.834 1238.29 829.44 Q1235.24 834.024 1229.43 834.024 Q1223.62 834.024 1220.54 829.44 Q1217.48 824.834 1217.48 816.107 Q1217.48 807.357 1220.54 802.774 Q1223.62 798.167 1229.43 798.167 Z\" fill=\"#000000\" fill-rule=\"evenodd\" fill-opacity=\"1\" /><path clip-path=\"url(#clip730)\" d=\"M1069.43 702.656 L1077.07 702.656 L1077.07 676.29 L1068.76 677.957 L1068.76 673.697 L1077.02 672.031 L1081.7 672.031 L1081.7 702.656 L1089.33 702.656 L1089.33 706.591 L1069.43 706.591 L1069.43 702.656 Z\" fill=\"#000000\" fill-rule=\"evenodd\" fill-opacity=\"1\" /><path clip-path=\"url(#clip730)\" d=\"M1102.81 702.656 L1119.13 702.656 L1119.13 706.591 L1097.18 706.591 L1097.18 702.656 Q1099.84 699.901 1104.43 695.271 Q1109.03 690.619 1110.21 689.276 Q1112.46 686.753 1113.34 685.017 Q1114.24 683.258 1114.24 681.568 Q1114.24 678.813 1112.3 677.077 Q1110.38 675.341 1107.27 675.341 Q1105.08 675.341 1102.62 676.105 Q1100.19 676.869 1097.41 678.42 L1097.41 673.697 Q1100.24 672.563 1102.69 671.984 Q1105.14 671.406 1107.18 671.406 Q1112.55 671.406 1115.75 674.091 Q1118.94 676.776 1118.94 681.267 Q1118.94 683.396 1118.13 685.318 Q1117.34 687.216 1115.24 689.808 Q1114.66 690.48 1111.56 693.697 Q1108.45 696.892 1102.81 702.656 Z\" fill=\"#000000\" fill-rule=\"evenodd\" fill-opacity=\"1\" /><path clip-path=\"url(#clip730)\" d=\"M1128.99 672.031 L1147.34 672.031 L1147.34 675.966 L1133.27 675.966 L1133.27 684.438 Q1134.29 684.091 1135.31 683.929 Q1136.32 683.744 1137.34 683.744 Q1143.13 683.744 1146.51 686.915 Q1149.89 690.086 1149.89 695.503 Q1149.89 701.081 1146.42 704.183 Q1142.95 707.262 1136.63 707.262 Q1134.45 707.262 1132.18 706.892 Q1129.94 706.521 1127.53 705.781 L1127.53 701.081 Q1129.61 702.216 1131.83 702.771 Q1134.06 703.327 1136.53 703.327 Q1140.54 703.327 1142.88 701.22 Q1145.21 699.114 1145.21 695.503 Q1145.21 691.892 1142.88 689.785 Q1140.54 687.679 1136.53 687.679 Q1134.66 687.679 1132.78 688.095 Q1130.93 688.512 1128.99 689.392 L1128.99 672.031 Z\" fill=\"#000000\" fill-rule=\"evenodd\" fill-opacity=\"1\" /><path clip-path=\"url(#clip730)\" d=\"M1169.1 675.109 Q1165.49 675.109 1163.66 678.674 Q1161.86 682.216 1161.86 689.345 Q1161.86 696.452 1163.66 700.017 Q1165.49 703.558 1169.1 703.558 Q1172.74 703.558 1174.54 700.017 Q1176.37 696.452 1176.37 689.345 Q1176.37 682.216 1174.54 678.674 Q1172.74 675.109 1169.1 675.109 M1169.1 671.406 Q1174.91 671.406 1177.97 676.012 Q1181.05 680.595 1181.05 689.345 Q1181.05 698.072 1177.97 702.679 Q1174.91 707.262 1169.1 707.262 Q1163.29 707.262 1160.21 702.679 Q1157.16 698.072 1157.16 689.345 Q1157.16 680.595 1160.21 676.012 Q1163.29 671.406 1169.1 671.406 Z\" fill=\"#000000\" fill-rule=\"evenodd\" fill-opacity=\"1\" /><path clip-path=\"url(#clip730)\" d=\"M1199.26 675.109 Q1195.65 675.109 1193.82 678.674 Q1192.02 682.216 1192.02 689.345 Q1192.02 696.452 1193.82 700.017 Q1195.65 703.558 1199.26 703.558 Q1202.9 703.558 1204.7 700.017 Q1206.53 696.452 1206.53 689.345 Q1206.53 682.216 1204.7 678.674 Q1202.9 675.109 1199.26 675.109 M1199.26 671.406 Q1205.07 671.406 1208.13 676.012 Q1211.21 680.595 1211.21 689.345 Q1211.21 698.072 1208.13 702.679 Q1205.07 707.262 1199.26 707.262 Q1193.45 707.262 1190.38 702.679 Q1187.32 698.072 1187.32 689.345 Q1187.32 680.595 1190.38 676.012 Q1193.45 671.406 1199.26 671.406 Z\" fill=\"#000000\" fill-rule=\"evenodd\" fill-opacity=\"1\" /><path clip-path=\"url(#clip730)\" d=\"M1229.43 675.109 Q1225.82 675.109 1223.99 678.674 Q1222.18 682.216 1222.18 689.345 Q1222.18 696.452 1223.99 700.017 Q1225.82 703.558 1229.43 703.558 Q1233.06 703.558 1234.87 700.017 Q1236.69 696.452 1236.69 689.345 Q1236.69 682.216 1234.87 678.674 Q1233.06 675.109 1229.43 675.109 M1229.43 671.406 Q1235.24 671.406 1238.29 676.012 Q1241.37 680.595 1241.37 689.345 Q1241.37 698.072 1238.29 702.679 Q1235.24 707.262 1229.43 707.262 Q1223.62 707.262 1220.54 702.679 Q1217.48 698.072 1217.48 689.345 Q1217.48 680.595 1220.54 676.012 Q1223.62 671.406 1229.43 671.406 Z\" fill=\"#000000\" fill-rule=\"evenodd\" fill-opacity=\"1\" /><path clip-path=\"url(#clip730)\" d=\"M1069.43 575.894 L1077.07 575.894 L1077.07 549.528 L1068.76 551.195 L1068.76 546.936 L1077.02 545.269 L1081.7 545.269 L1081.7 575.894 L1089.33 575.894 L1089.33 579.829 L1069.43 579.829 L1069.43 575.894 Z\" fill=\"#000000\" fill-rule=\"evenodd\" fill-opacity=\"1\" /><path clip-path=\"url(#clip730)\" d=\"M1098.83 545.269 L1117.18 545.269 L1117.18 549.204 L1103.11 549.204 L1103.11 557.676 Q1104.13 557.329 1105.14 557.167 Q1106.16 556.982 1107.18 556.982 Q1112.97 556.982 1116.35 560.153 Q1119.73 563.324 1119.73 568.741 Q1119.73 574.32 1116.26 577.422 Q1112.78 580.5 1106.46 580.5 Q1104.29 580.5 1102.02 580.13 Q1099.77 579.759 1097.37 579.019 L1097.37 574.32 Q1099.45 575.454 1101.67 576.01 Q1103.89 576.565 1106.37 576.565 Q1110.38 576.565 1112.71 574.459 Q1115.05 572.352 1115.05 568.741 Q1115.05 565.13 1112.71 563.023 Q1110.38 560.917 1106.37 560.917 Q1104.5 560.917 1102.62 561.334 Q1100.77 561.75 1098.83 562.63 L1098.83 545.269 Z\" fill=\"#000000\" fill-rule=\"evenodd\" fill-opacity=\"1\" /><path clip-path=\"url(#clip730)\" d=\"M1138.94 548.348 Q1135.33 548.348 1133.5 551.912 Q1131.7 555.454 1131.7 562.584 Q1131.7 569.69 1133.5 573.255 Q1135.33 576.797 1138.94 576.797 Q1142.57 576.797 1144.38 573.255 Q1146.21 569.69 1146.21 562.584 Q1146.21 555.454 1144.38 551.912 Q1142.57 548.348 1138.94 548.348 M1138.94 544.644 Q1144.75 544.644 1147.81 549.25 Q1150.89 553.834 1150.89 562.584 Q1150.89 571.31 1147.81 575.917 Q1144.75 580.5 1138.94 580.5 Q1133.13 580.5 1130.05 575.917 Q1127 571.31 1127 562.584 Q1127 553.834 1130.05 549.25 Q1133.13 544.644 1138.94 544.644 Z\" fill=\"#000000\" fill-rule=\"evenodd\" fill-opacity=\"1\" /><path clip-path=\"url(#clip730)\" d=\"M1169.1 548.348 Q1165.49 548.348 1163.66 551.912 Q1161.86 555.454 1161.86 562.584 Q1161.86 569.69 1163.66 573.255 Q1165.49 576.797 1169.1 576.797 Q1172.74 576.797 1174.54 573.255 Q1176.37 569.69 1176.37 562.584 Q1176.37 555.454 1174.54 551.912 Q1172.74 548.348 1169.1 548.348 M1169.1 544.644 Q1174.91 544.644 1177.97 549.25 Q1181.05 553.834 1181.05 562.584 Q1181.05 571.31 1177.97 575.917 Q1174.91 580.5 1169.1 580.5 Q1163.29 580.5 1160.21 575.917 Q1157.16 571.31 1157.16 562.584 Q1157.16 553.834 1160.21 549.25 Q1163.29 544.644 1169.1 544.644 Z\" fill=\"#000000\" fill-rule=\"evenodd\" fill-opacity=\"1\" /><path clip-path=\"url(#clip730)\" d=\"M1199.26 548.348 Q1195.65 548.348 1193.82 551.912 Q1192.02 555.454 1192.02 562.584 Q1192.02 569.69 1193.82 573.255 Q1195.65 576.797 1199.26 576.797 Q1202.9 576.797 1204.7 573.255 Q1206.53 569.69 1206.53 562.584 Q1206.53 555.454 1204.7 551.912 Q1202.9 548.348 1199.26 548.348 M1199.26 544.644 Q1205.07 544.644 1208.13 549.25 Q1211.21 553.834 1211.21 562.584 Q1211.21 571.31 1208.13 575.917 Q1205.07 580.5 1199.26 580.5 Q1193.45 580.5 1190.38 575.917 Q1187.32 571.31 1187.32 562.584 Q1187.32 553.834 1190.38 549.25 Q1193.45 544.644 1199.26 544.644 Z\" fill=\"#000000\" fill-rule=\"evenodd\" fill-opacity=\"1\" /><path clip-path=\"url(#clip730)\" d=\"M1229.43 548.348 Q1225.82 548.348 1223.99 551.912 Q1222.18 555.454 1222.18 562.584 Q1222.18 569.69 1223.99 573.255 Q1225.82 576.797 1229.43 576.797 Q1233.06 576.797 1234.87 573.255 Q1236.69 569.69 1236.69 562.584 Q1236.69 555.454 1234.87 551.912 Q1233.06 548.348 1229.43 548.348 M1229.43 544.644 Q1235.24 544.644 1238.29 549.25 Q1241.37 553.834 1241.37 562.584 Q1241.37 571.31 1238.29 575.917 Q1235.24 580.5 1229.43 580.5 Q1223.62 580.5 1220.54 575.917 Q1217.48 571.31 1217.48 562.584 Q1217.48 553.834 1220.54 549.25 Q1223.62 544.644 1229.43 544.644 Z\" fill=\"#000000\" fill-rule=\"evenodd\" fill-opacity=\"1\" /><path clip-path=\"url(#clip730)\" d=\"M1069.43 449.132 L1077.07 449.132 L1077.07 422.766 L1068.76 424.433 L1068.76 420.174 L1077.02 418.507 L1081.7 418.507 L1081.7 449.132 L1089.33 449.132 L1089.33 453.067 L1069.43 453.067 L1069.43 449.132 Z\" fill=\"#000000\" fill-rule=\"evenodd\" fill-opacity=\"1\" /><path clip-path=\"url(#clip730)\" d=\"M1097.6 418.507 L1119.82 418.507 L1119.82 420.498 L1107.27 453.067 L1102.39 453.067 L1114.2 422.442 L1097.6 422.442 L1097.6 418.507 Z\" fill=\"#000000\" fill-rule=\"evenodd\" fill-opacity=\"1\" /><path clip-path=\"url(#clip730)\" d=\"M1128.99 418.507 L1147.34 418.507 L1147.34 422.442 L1133.27 422.442 L1133.27 430.915 Q1134.29 430.567 1135.31 430.405 Q1136.32 430.22 1137.34 430.22 Q1143.13 430.22 1146.51 433.391 Q1149.89 436.563 1149.89 441.979 Q1149.89 447.558 1146.42 450.66 Q1142.95 453.738 1136.63 453.738 Q1134.45 453.738 1132.18 453.368 Q1129.94 452.998 1127.53 452.257 L1127.53 447.558 Q1129.61 448.692 1131.83 449.248 Q1134.06 449.803 1136.53 449.803 Q1140.54 449.803 1142.88 447.697 Q1145.21 445.59 1145.21 441.979 Q1145.21 438.368 1142.88 436.262 Q1140.54 434.155 1136.53 434.155 Q1134.66 434.155 1132.78 434.572 Q1130.93 434.989 1128.99 435.868 L1128.99 418.507 Z\" fill=\"#000000\" fill-rule=\"evenodd\" fill-opacity=\"1\" /><path clip-path=\"url(#clip730)\" d=\"M1169.1 421.586 Q1165.49 421.586 1163.66 425.151 Q1161.86 428.692 1161.86 435.822 Q1161.86 442.928 1163.66 446.493 Q1165.49 450.035 1169.1 450.035 Q1172.74 450.035 1174.54 446.493 Q1176.37 442.928 1176.37 435.822 Q1176.37 428.692 1174.54 425.151 Q1172.74 421.586 1169.1 421.586 M1169.1 417.882 Q1174.91 417.882 1177.97 422.489 Q1181.05 427.072 1181.05 435.822 Q1181.05 444.549 1177.97 449.155 Q1174.91 453.738 1169.1 453.738 Q1163.29 453.738 1160.21 449.155 Q1157.16 444.549 1157.16 435.822 Q1157.16 427.072 1160.21 422.489 Q1163.29 417.882 1169.1 417.882 Z\" fill=\"#000000\" fill-rule=\"evenodd\" fill-opacity=\"1\" /><path clip-path=\"url(#clip730)\" d=\"M1199.26 421.586 Q1195.65 421.586 1193.82 425.151 Q1192.02 428.692 1192.02 435.822 Q1192.02 442.928 1193.82 446.493 Q1195.65 450.035 1199.26 450.035 Q1202.9 450.035 1204.7 446.493 Q1206.53 442.928 1206.53 435.822 Q1206.53 428.692 1204.7 425.151 Q1202.9 421.586 1199.26 421.586 M1199.26 417.882 Q1205.07 417.882 1208.13 422.489 Q1211.21 427.072 1211.21 435.822 Q1211.21 444.549 1208.13 449.155 Q1205.07 453.738 1199.26 453.738 Q1193.45 453.738 1190.38 449.155 Q1187.32 444.549 1187.32 435.822 Q1187.32 427.072 1190.38 422.489 Q1193.45 417.882 1199.26 417.882 Z\" fill=\"#000000\" fill-rule=\"evenodd\" fill-opacity=\"1\" /><path clip-path=\"url(#clip730)\" d=\"M1229.43 421.586 Q1225.82 421.586 1223.99 425.151 Q1222.18 428.692 1222.18 435.822 Q1222.18 442.928 1223.99 446.493 Q1225.82 450.035 1229.43 450.035 Q1233.06 450.035 1234.87 446.493 Q1236.69 442.928 1236.69 435.822 Q1236.69 428.692 1234.87 425.151 Q1233.06 421.586 1229.43 421.586 M1229.43 417.882 Q1235.24 417.882 1238.29 422.489 Q1241.37 427.072 1241.37 435.822 Q1241.37 444.549 1238.29 449.155 Q1235.24 453.738 1229.43 453.738 Q1223.62 453.738 1220.54 449.155 Q1217.48 444.549 1217.48 435.822 Q1217.48 427.072 1220.54 422.489 Q1223.62 417.882 1229.43 417.882 Z\" fill=\"#000000\" fill-rule=\"evenodd\" fill-opacity=\"1\" /><path clip-path=\"url(#clip730)\" d=\"M1074.38 322.37 L1090.7 322.37 L1090.7 326.305 L1068.76 326.305 L1068.76 322.37 Q1071.42 319.616 1076 314.986 Q1080.61 310.333 1081.79 308.991 Q1084.03 306.468 1084.91 304.731 Q1085.82 302.972 1085.82 301.282 Q1085.82 298.528 1083.87 296.792 Q1081.95 295.056 1078.85 295.056 Q1076.65 295.056 1074.2 295.819 Q1071.77 296.583 1068.99 298.134 L1068.99 293.412 Q1071.81 292.278 1074.27 291.699 Q1076.72 291.12 1078.76 291.12 Q1084.13 291.12 1087.32 293.806 Q1090.52 296.491 1090.52 300.981 Q1090.52 303.111 1089.7 305.032 Q1088.92 306.93 1086.81 309.523 Q1086.23 310.194 1083.13 313.412 Q1080.03 316.606 1074.38 322.37 Z\" fill=\"#000000\" fill-rule=\"evenodd\" fill-opacity=\"1\" /><path clip-path=\"url(#clip730)\" d=\"M1110.51 294.824 Q1106.9 294.824 1105.08 298.389 Q1103.27 301.931 1103.27 309.06 Q1103.27 316.167 1105.08 319.731 Q1106.9 323.273 1110.51 323.273 Q1114.15 323.273 1115.95 319.731 Q1117.78 316.167 1117.78 309.06 Q1117.78 301.931 1115.95 298.389 Q1114.15 294.824 1110.51 294.824 M1110.51 291.12 Q1116.33 291.12 1119.38 295.727 Q1122.46 300.31 1122.46 309.06 Q1122.46 317.787 1119.38 322.393 Q1116.33 326.977 1110.51 326.977 Q1104.7 326.977 1101.63 322.393 Q1098.57 317.787 1098.57 309.06 Q1098.57 300.31 1101.63 295.727 Q1104.7 291.12 1110.51 291.12 Z\" fill=\"#000000\" fill-rule=\"evenodd\" fill-opacity=\"1\" /><path clip-path=\"url(#clip730)\" d=\"M1140.68 294.824 Q1137.07 294.824 1135.24 298.389 Q1133.43 301.931 1133.43 309.06 Q1133.43 316.167 1135.24 319.731 Q1137.07 323.273 1140.68 323.273 Q1144.31 323.273 1146.12 319.731 Q1147.95 316.167 1147.95 309.06 Q1147.95 301.931 1146.12 298.389 Q1144.31 294.824 1140.68 294.824 M1140.68 291.12 Q1146.49 291.12 1149.54 295.727 Q1152.62 300.31 1152.62 309.06 Q1152.62 317.787 1149.54 322.393 Q1146.49 326.977 1140.68 326.977 Q1134.87 326.977 1131.79 322.393 Q1128.73 317.787 1128.73 309.06 Q1128.73 300.31 1131.79 295.727 Q1134.87 291.12 1140.68 291.12 Z\" fill=\"#000000\" fill-rule=\"evenodd\" fill-opacity=\"1\" /><path clip-path=\"url(#clip730)\" d=\"M1170.84 294.824 Q1167.23 294.824 1165.4 298.389 Q1163.59 301.931 1163.59 309.06 Q1163.59 316.167 1165.4 319.731 Q1167.23 323.273 1170.84 323.273 Q1174.47 323.273 1176.28 319.731 Q1178.11 316.167 1178.11 309.06 Q1178.11 301.931 1176.28 298.389 Q1174.47 294.824 1170.84 294.824 M1170.84 291.12 Q1176.65 291.12 1179.7 295.727 Q1182.78 300.31 1182.78 309.06 Q1182.78 317.787 1179.7 322.393 Q1176.65 326.977 1170.84 326.977 Q1165.03 326.977 1161.95 322.393 Q1158.89 317.787 1158.89 309.06 Q1158.89 300.31 1161.95 295.727 Q1165.03 291.12 1170.84 291.12 Z\" fill=\"#000000\" fill-rule=\"evenodd\" fill-opacity=\"1\" /><path clip-path=\"url(#clip730)\" d=\"M1201 294.824 Q1197.39 294.824 1195.56 298.389 Q1193.76 301.931 1193.76 309.06 Q1193.76 316.167 1195.56 319.731 Q1197.39 323.273 1201 323.273 Q1204.63 323.273 1206.44 319.731 Q1208.27 316.167 1208.27 309.06 Q1208.27 301.931 1206.44 298.389 Q1204.63 294.824 1201 294.824 M1201 291.12 Q1206.81 291.12 1209.87 295.727 Q1212.94 300.31 1212.94 309.06 Q1212.94 317.787 1209.87 322.393 Q1206.81 326.977 1201 326.977 Q1195.19 326.977 1192.11 322.393 Q1189.06 317.787 1189.06 309.06 Q1189.06 300.31 1192.11 295.727 Q1195.19 291.12 1201 291.12 Z\" fill=\"#000000\" fill-rule=\"evenodd\" fill-opacity=\"1\" /><path clip-path=\"url(#clip730)\" d=\"M1231.16 294.824 Q1227.55 294.824 1225.72 298.389 Q1223.92 301.931 1223.92 309.06 Q1223.92 316.167 1225.72 319.731 Q1227.55 323.273 1231.16 323.273 Q1234.8 323.273 1236.6 319.731 Q1238.43 316.167 1238.43 309.06 Q1238.43 301.931 1236.6 298.389 Q1234.8 294.824 1231.16 294.824 M1231.16 291.12 Q1236.97 291.12 1240.03 295.727 Q1243.11 300.31 1243.11 309.06 Q1243.11 317.787 1240.03 322.393 Q1236.97 326.977 1231.16 326.977 Q1225.35 326.977 1222.27 322.393 Q1219.22 317.787 1219.22 309.06 Q1219.22 300.31 1222.27 295.727 Q1225.35 291.12 1231.16 291.12 Z\" fill=\"#000000\" fill-rule=\"evenodd\" fill-opacity=\"1\" /><polyline clip-path=\"url(#clip730)\" style=\"stroke:#000000; stroke-linecap:butt; stroke-linejoin:round; stroke-width:4; stroke-opacity:1; fill:none\" points=\"\n",
       "  1032.76,1307.63 1032.76,1199.99 1056.76,1199.99 1032.76,1199.99 1032.76,1073.22 1056.76,1073.22 1032.76,1073.22 1032.76,946.463 1056.76,946.463 1032.76,946.463 \n",
       "  1032.76,819.701 1056.76,819.701 1032.76,819.701 1032.76,692.94 1056.76,692.94 1032.76,692.94 1032.76,566.178 1056.76,566.178 1032.76,566.178 1032.76,439.416 \n",
       "  1056.76,439.416 1032.76,439.416 1032.76,312.654 1056.76,312.654 1032.76,312.654 1032.76,292.372 \n",
       "  \"/>\n",
       "<defs>\n",
       "  <clipPath id=\"clip734\">\n",
       "    <rect x=\"1247\" y=\"292\" width=\"747\" height=\"1016\"/>\n",
       "  </clipPath>\n",
       "</defs>\n",
       "<path clip-path=\"url(#clip734)\" d=\"\n",
       "M1439.15 932.802 L1375.6 979.464 L1375.6 620.536 L1864.4 620.536 L1800.85 667.198 L1800.85 932.802 L1439.15 932.802  Z\n",
       "  \" fill=\"#ffffff\" fill-rule=\"evenodd\" fill-opacity=\"1\"/>\n",
       "<g clip-path=\"url(#clip734)\">\n",
       "<image width=\"746\" height=\"1015\" xlink:href=\"data:image/png;base64,\n",
       "iVBORw0KGgoAAAANSUhEUgAAAuoAAAP3CAYAAAB6WGtXAAAgAElEQVR4nOzda4ylW37f9d96nr13\n",
       "XbrPbWY8CQ7EyFIYG0cR8isSEjHKC4hfOH4VWdwSK4BizmBrlCDHiEgIKQjbwtJgmEMQF9kIkCwQ\n",
       "0tigIJCigUDCC2ShwCgeAY4DYYgznjm37uqqvZ/nWbzYu/pyzpnTdU5XV/1z+vOZqalL7+pepXlU\n",
       "9d2r1rNW670HAACoZbjtAQAAAO8n1AEAoCChDgAABQl1AAAoSKgDAEBBQh0AAAoS6gAAUJBQBwCA\n",
       "goQ6AAAUJNQBAKAgoQ4AAAUJdQAAKEioAwBAQUIdAAAKEuoAAFCQUAcAgIKEOgAAFCTUAQCgIKEO\n",
       "AAAFCXUAAChIqAMAQEFCHQAAChLqAABQkFAHAICChDoAABQk1AEAoCChDgAABQl1AAAoSKgDAEBB\n",
       "Qh0AAAoS6gAAUJBQBwCAgoQ6AAAUJNQBAKAgoQ4AAAUJdQAAKEioAwBAQUIdAAAKEuoAAFCQUAcA\n",
       "gIKEOgAAFCTUAQCgIKEOAAAFCXUAAChIqAMAQEFCHQAAChLqAABQkFAHAICChDoAABQk1AEAoCCh\n",
       "DgAABQl1AAAoSKgDAEBBQh0AAAoS6gAAUJBQBwCAgoQ6AAAUJNQBAKAgoQ4AAAUJdQAAKEioAwBA\n",
       "QUIdAAAKEuoAAFCQUAcAgIKEOgAAFCTUAQCgIKEOAAAFCXUAAChIqAMAQEFCHQAAChLqAABQkFAH\n",
       "AICChDoAABQk1AEAoCChDgAABQl1AAAoSKgDAEBBQh0AAAoS6gAAUJBQBwCAgoQ6AAAUJNQBAKAg\n",
       "oQ4AAAUJdQAAKEioAwBAQUIdAAAKEuoAAFCQUAcAgIKEOgAAFCTUAQCgIKEOAAAFCXUAAChIqAMA\n",
       "QEFCHQAAChLqAABQkFAHAICChDoAABQk1AEAoCChDgAABQl1AAAoSKgDAEBBQh0AAAoS6gAAUJBQ\n",
       "BwCAgoQ6AAAUJNQBAKAgoQ4AAAUJdQAAKEioAwBAQUIdAAAKEuoAAFCQUAcAgIKEOgAAFCTUAQCg\n",
       "IKEOAAAFCXUAAChIqAMAQEFCHQAAChLqAABQkFAHAICChDoAABQk1AEAoCChDgAABQl1AAAoSKgD\n",
       "AEBBQh0AAAoS6gAAUJBQBwCAgoQ6AAAUJNQBAKAgoQ4AAAUJdQAAKEioAwBAQUIdAAAKEuoAAFCQ\n",
       "UAcAgIKEOgAAFCTUAQCgIKEOAAAFCXUAAChIqAMAQEFCHQAAChLqAABQkFAHAICChDoAABQk1AEA\n",
       "oCChDgAABQl1AAAoSKgDAEBBQh0AAAoS6gAAUJBQBwCAgoQ6AAAUJNQBAKAgoQ4AAAUJdQAAKEio\n",
       "AwBAQUIdAAAKEuoAAFCQUAcAgIKEOgAAFCTUAQCgIKEOAAAFCXUAAChIqAMAQEFCHQAAChLqAABQ\n",
       "kFAHAICChDoAABQk1AEAoCChDgAABQl1AAAoSKgDAEBBQh0AAAoS6gAAUJBQBwCAgoQ6AAAUJNQB\n",
       "AKAgoQ4AAAUJdQAAKEioAwBAQUIdAAAKEuoAAFCQUAcAgIKEOgAAFCTUAQCgIKEOAAAFCXUAAChI\n",
       "qAMAQEFCHQAAChLqAABQkFAHAICChDoAABQk1AEAoCChDgAABQl1AAAoSKgDAEBBQh0AAAoS6gAA\n",
       "UJBQBwCAgoQ6AAAUJNQBAKAgoQ4AAAUJdQAAKEioAwBAQUIdAAAKEuoAAFCQUAcAgIKEOgAAFCTU\n",
       "AQCgIKEOAAAFCXUAAChIqAMAQEFCHQAAChLqAABQkFAHAICChDoAABQk1AEAoCChDgAABQl1AAAo\n",
       "SKgDAEBBQh0AAAoS6gAAUJBQBwCAgoQ6AAAUJNQBAKAgoQ4AAAUJdQAAKEioAwBAQUIdAAAKEuoA\n",
       "AFCQUAcAgIKEOgAAFCTUAQCgIKEOAAAFCXUAAChIqAMAQEFCHQAAChLqAABQkFAHAICChDoAABQk\n",
       "1AEAoCChDgAABQl1AAAoSKgDAEBBQh0AAAoS6gAAUJBQBwCAgoQ6AAAUJNQBAKAgoQ4AAAUJdQAA\n",
       "KEioAwBAQUIdAAAKEuoAAFCQUAcAgIKEOgAAFCTUAQCgIKEOAAAFCXUAAChIqAMAQEFCHQAAChLq\n",
       "AABQkFAHAICChDoAABQk1AEAoCChDgAABQl1AAAoSKgDAEBBQh0AAAoS6gAAUJBQBwCAgoQ6AAAU\n",
       "JNQBAKAgoQ4AAAUJdQAAKEioAwBAQUIdAAAKEuoAAFCQUAcAgIKEOgAAFCTUAQCgIKEOAAAFCXUA\n",
       "AChIqAMAQEFCHQAAChLqAABQkFAHAICChDoAABQk1AEAoCChDgAABQl1AAAoSKgDAEBBQh0AAAoS\n",
       "6gAAUJBQBwCAgoQ6AAAUJNQBAKAgoQ4AAAUJdQAAKEioAwBAQUIdAAAKEuoAAFCQUAcAgIKEOgAA\n",
       "FCTUAQCgIKEOAAAFCXUAAChIqAMAQEFCHQAAChLqAABQkFAHAICChDoAABQk1AEAoCChDgAABQl1\n",
       "AAAoSKgDAEBBQh0AAAoS6gAAUJBQBwCAgoQ6AAAUJNQBAKAgoQ4AAAUJdQAAKEioAwBAQUIdAAAK\n",
       "EuoAAFCQUAcAgIKEOgAAFCTUAQCgIKEOAAAFCXUAAChIqAMAQEFCHQAAChLqAABQkFAHAICChDoA\n",
       "ABQk1AEAoCChDgAABQl1AAAoSKgDAEBBQh0AAAoS6gAAUJBQBwCAgoQ6AAAUJNQBAKAgoQ4AAAUJ\n",
       "dQAAKEioAwBAQUIdAAAKEuoAAFCQUAcAgIKEOgAAFCTUAQCgIKEOAAAFCXUAAChIqAMAQEFCHQAA\n",
       "ChLqAABQkFAHAICChDoAABQk1AEAoCChDgAABQl1AAAoSKgDAEBBQh0AAAoS6gAAUJBQBwCAgoQ6\n",
       "AAAUJNQBAKAgoQ4AAAUJdQAAKEioAwBAQUIdAAAKEuoAAFDQ6rYHALftH/nC/X7bYwDgg/1PX77T\n",
       "bnsMcFvMqAMAQEFCHQAAChLqAABQkFAHAICChDoAABQk1AEAoCChDgAABQl1AAAoSKgDAEBBQh0A\n",
       "AAoS6gAAUJBQBwCAgoQ6AAAUJNQBAKAgoQ4AAAUJdQAAKEioAwBAQUIdAAAKEuoAAFCQUAcAgIKE\n",
       "OgAAFCTUAQCgIKEOAAAFCXUAAChIqAMAQEFCHQAAChLqAABQkFAHAICChDoAABQk1AEAoCChDgAA\n",
       "BQl1AAAoSKgDAEBBQh0AAAoS6gAAUJBQBwCAgoQ6AAAUJNQBAKAgoQ4AAAUJdQAAKEioAwBAQUId\n",
       "AAAKEuoAAFCQUAcAgIKEOgAAFCTUAQCgIKEOAAAFCXUAAChIqAMAQEFCHQAAChLqAABQkFAHAICC\n",
       "hDoAABQk1AEAoCChDgAABQl1AAAoSKgDAEBBQh0AAApa3fYAgE+m1//y9932EOBGvfGHfv22hwB8\n",
       "wgh14Fr9i1/9/sxv37/tYcCN6YfX/8JXfneG73opX/4DX7vV8QCfHEIduDZf+JW/P9Nvv5uWR/HS\n",
       "bnNAcMPmb93P6+98b974I79x20MBPgGEOnAtXv/V70l/9zzrnhz1Q6BfVnr/kE+Ev4vNLdm1/SX+\n",
       "8OVb9/P6r35P3vjhv3nLowP+bifUgWf2ha9+Lsm+y4fsv7GctCHj0NLSntLpT/5pF/XcgieeWD75\n",
       "0Q+19CXnfcmDlsxJljwK9te/+rm88fmvX/NIgReJUAeuRXvsdWvJ0FpePjnNyeb46utfen+Y7V2x\n",
       "c4NaWg7/3V/AVzQvc965fz/jbpuz9GwPn+rqBa6DUAeu1dySqSdTX7KbphxvesZ2uRPshwfQ/mHt\n",
       "0SO/0/oZFcRVfeAs+XsuoH75kf6e9z/M/hHDuMrx5igX05Spz5l7Mn3wvwLwkQl14Jm9N0jOWzL3\n",
       "nuniPA92u4zDhx/ZcNlS4zBkNa7SWtIOs5qnx8dZr1Z5orh60hcZxNO11t4X67tpzoOLi8OFu/8t\n",
       "zm6aMi9Lkid/m3Olq6wny+HvcRM1cJ2EOnAt5jwZJ3NLtr3nwTxlnK/2d4xJxtYytpbh0Ffn0y4v\n",
       "n57m+OjoYbyn9/3a936lqU9IhseuzpZMy5x3z8+T9PSeTL1n7j2Xl+rHuayW7K/7JU4TBK6HUAeu\n",
       "zZxHN4NeZtG2XT1axiRj+v6l79/f7S4y3Z/z0jLn7ulJhmFI+n5hQestfYk7ULmatn/pl5fQkJzP\n",
       "PXN65sPNoHP2S1c+7hXVH/0zAM9MqAPXph2t80GJsjzt8w6vd8uSeVkytpbV5efNPcM8Z7w4zzC0\n",
       "HG02WY+r/Q1/vV++gg+0m6ZH5Ty0tKFlaj3TsGQeW5ahpY/r9PQs/cldWx73kS6xzZg5+yeaAM9C\n",
       "qAPP7I3Pfz1f+B++P/1iSt/Oye5paX7w2C4vl7G+7HaZpnk/85mkjUmblrTdLsvSs7m4yOnRcY43\n",
       "RxnMW/IUvfecnZ9nWuZDqCfLquWi9UzrlqmPyXqVjON+I9F+uXPRx7y2Wks7WqUdrfLlz//1a/1a\n",
       "gBePUAeuxXj3JP14Tt/O6RdzMl8x1g9rhB9u77iss2x3mXbby3v99rvBTD3ztMt2nrKb5kzTlNOj\n",
       "k6wG85Y8Tc/FbpddX5Khpa+HTOuW7WrILslwtMp4tNn/hqYflmp9nFBvLW0Y045XaUeuS+DZCXXg\n",
       "WvzCD/5avvi13/8o1rfT1dcL9P7E+pU2rdO3qyzbbXbzIa6GJb0l827JMu2yLEvmecmdo5P9rjCW\n",
       "v/Detu77GfXlcM/x3Hum7A8pmvqQXWvZjUPWmzHj6dHDUG+tPZxR/yiXVRvGtHFMOx7zpd/3P1/T\n",
       "FwW8yIQ6cG2+9AN/NX/6//xH04/mZJrTP9ISmEOs92TomyzbVdp2leVil+298/Q82k3j4Xbr7XBT\n",
       "YDvsWi3WX2zvnQVvyTTPudhus53n7NKTo01ytEpftfSxZRlXmTerjEfr5LDbUB6G+tVn1Vsb0oYh\n",
       "bbXKz3//f3+tXxbw4hLqwLVanZymL3P6PB9eXz3WL2dAk562W6VdrNPW2yzDmO23382SPNwRZrcs\n",
       "h0g/rFXoh0Xt9ld/obXLJ28HvfVMfcm2708NbUlWd04u9wLNsD5JOxqzHK0yrMd9pKft/6IrdnrL\n",
       "IdKHMW3txypwfXxHAa7Vz/2uv5if/taPpM9zlnnJMs1PHCDzHbW2j+y+X7OeTc+4Oc+wWWXZrNLS\n",
       "Mn/7XubtnCHJqvecb7c5Pjp6tKvHkv1+2fZX53LL/cM2jH1Jdoc/Wt05SoaW7XAn42E9eV8NWVrb\n",
       "T8oP7QMPSvrgf6dlWI0ZxiGtjfmZ7/rK8/l6gBeSUAeu3c98+iv5s2//aPq8pI9z5mlJX64wsz62\n",
       "DMP+IKPee7I6zXr9Tob1Om3cx/rUk/nsYr/eeFkyz/Oj89rb5Zv2bHxRPfH/+uXyqMu3k+xaSz89\n",
       "Th+Stn4p7WiV5bCWqg2H9enDVafSW8ZxyLIa01ZjfvbVX77GrwRAqAPPyc++8sv5M/d+LH3cx/oy\n",
       "LVnmqx1ROm5Wh5n1nvP1aY7W72S1vr8P9W+9a7Kcj+xyb/Tx9Dg5Pc794dMZj1aZW9KXnnaYRW9X\n",
       "PlK0ZVyNWVZD2nrMz730S89v8MALS6gDz83P3/3F/OTZ6+njnD7uQ32/FObDP283J+uj1X52vPc8\n",
       "WJ9ms34n69Wb6fl/kzyaOX3vshoRz+Pee30Mp8fJyVHa5uX9SaTTnLY6zKJ/hC0Zx9WYth6Tcci/\n",
       "dfffu+ZRA+wJdeC5+oXTN5IkP372xfTlaUthHoXStEtWmzHjekx6z/nmNPPmbhKHyPDxtdWYN+/8\n",
       "niy9Z9pOyao9sR3j3oc93TvMpK/HzL3n37/7bz/vIQMvMKEO3Ii/cPql/LNnP50cZR/rhxtNP8xu\n",
       "alm1IZvjzWEZzJ0cvfZycvbNGxo1n0S71Um257u01ebq69GTJC3jer8e/Xya85+88m8+tzECJEId\n",
       "uEH/wcm/kT9+/q8l6ySrnmV8eqxPS7K9GLI5WWcch4zHm1z1zFN4v5az3TpZrT9gJv2D7ZfPPIr0\n",
       "++e7/Bev/ezzHyrwwhPqwI36xc2fyz91/B+l33szbZMsq8MWjh+2/3lPtudDjk7WuXNzQ+WTqCXT\n",
       "eHrlmfTekwz7NelzWh6cbfNfferPf4SjkAA+PqEO3LhfuvfH809+91/K8o3/I21syZgs05zlKVs4\n",
       "7i5aPi2ReEbT+ulP9/bnbvVk2K9Jv5iXPDjf5r977V/JlTeGAXhGQh24Fb/0m38w99/9B/MnP/Pf\n",
       "7k+D3Oy3yXvaUhidzrPaDacf+uf7Rn+03OX++S6/0v6ZrF/a+KEJ3Cjfc4Bb9dZnfm9Oz7+dnL2V\n",
       "DEk7alnmp2/hCB/XdvyQGfXLk3GHJK3l7bNdvnL2j+XOSzc1OoBHhDpwY/b37T25Hd5//tfu5oc/\n",
       "13P66mtpb/3WfsL88J3pSqeZwke0Gz9gRr0/OZM+zUvOznbpf88/kPzm1W46BbhuQh24He3RATO/\n",
       "8r/3/OHvTU6PPpvN9t3sYz5pq/a+A2vgWW3Hu09+4DCLfjmTfn4+5ex8m+nVvy9/5eunWR3lsSeX\n",
       "gh24OUIduEEtwzCk9zHjuKQNY9LG9Dbmf/wbF/mHfueQk/XdnK6TIT0tOZwYedvj5pPkiaUvfT+L\n",
       "3nsyzz1nD7Y5e9CzPf6duTgbkjakDWOGcXz4KSbXgZsi1IEb1VrLOI5JesZxnV1bJW2dniX/12/P\n",
       "+ezpkpNNcnLUDkHUhRHX6q0HT/6WZv9Lm5bt1PLuvTHnOc752ZBv3BsyrFcZx3VWH2HfdYDrItSB\n",
       "G7eP9dUhfsYsbcySVXZpefN8yjsXS062ydH6EEVtP7tuZp3r8Ob5Y6HeW/ar0pPd3PLubp1tjvL2\n",
       "lPS2Stoq42qdcRxFOnDjhDpwK1preeXVT2WzOcrbb60zbe/lnfksU0/WmXJvWrJZ9axX7bHPsV6d\n",
       "Z/fmg8s0P9w82lpa2v4U3H6U1eblrMZVdtO8/7Nm53Tgdgh14FadnN7JenOUd995Kw/uv5l727dz\n",
       "lJ7eW+5PS4a2ZLziKZJwFd9+kOz3eLm0X2Y1LS1tPMo6x3nltc9kMy9paYdYdw0CN0+oA7dutVrl\n",
       "1dc+nXEcc++d5GL7TpI5PUvSl2SyTSPX597u8R99LWmHm0bbkJZVMmzS10e5e7K+tTECJEIdKKK1\n",
       "lpdfeS1Hxyd569t/J8u8S5L0vqR3oc71GY+/6+Hbl1sutjYctnNpacNguQtQglAHSjk6Os53/Y6/\n",
       "93A6ad+/5HKT6yS/eavD4xPgM5/93Q/3WLzcyeVRsCdJy2CpC1CAUAfKGYYhw2BGk+fj6PjktocA\n",
       "cCV+EgIAQEFCHQAAChLqAABQkFAHAICChDoAABQk1AEAoCChDgAABQl1AAAoSKgDAEBBQh0AAAoS\n",
       "6gAAUJBQBwCAgoQ6AAAUJNQBAKAgoQ4AAAUJdQAAKEioAwBAQUIdAAAKEuoAAFCQUAcAgIKEOgAA\n",
       "FCTUAQCgIKEOAAAFCXUAAChIqAMAQEFCHQAAChLqAABQkFAHAICChDoAABQk1AEAoCChDgAABQl1\n",
       "AAAoSKgDAEBBQh0AAAoS6gAAUJBQBwCAgoQ6AAAUJNQBAKAgoQ4AAAUJdQAAKEioAwBAQUIdAAAK\n",
       "EuoAAFCQUAcAgIKEOgAAFCTUAQCgIKEOAAAFCXUAAChIqAMAQEFCHQAAChLqAABQkFAHAICChDoA\n",
       "ABQk1AEAoCChDgAABQl1AAAoSKgDAEBBQh0AAAoS6gAAUJBQBwCAgoQ6AAAUJNQBAKAgoQ4AAAUJ\n",
       "dQAAKEioAwBAQUIdAAAKEuoAAFCQUAcAgIKEOgAAFCTUAQCgIKEOAAAFrW57AABJ0pclS+9JenrP\n",
       "4fWjl/2D+i2OkE+Ki/MH+zdaS0tLa/uXYRwzDOavgDqEOlDC0nveevOb2V48SNKT3tP7kstgh+vy\n",
       "23/n/374dmtDWtvH+TCu8+qnPpujo+PbGhrAE4Q6UELvS/qyZJ7O0qezfaRfvkSoc33m828+eqcN\n",
       "SQ6x3sZ8a7rI3Zc/k5defjWttVsbI0Ai1IFbdP/+vf3MeXpOxiHrZZtkSm/brMbLGfXltofJJ8zd\n",
       "1fTw7XnpWfoh1jPkYttz751knue89PKrWa38mARuj+9AwK3ovWeeptx791vpy5TtaszdYcq6XWRz\n",
       "3LMaDvPoveXRxKaZdZ7dp06T3i8vqpbd1LOd5iQ962xztn0r9+dtLs7v55VXP5OT0zu3OVzgBSbU\n",
       "gVuzX97Ss0xnmeZd+io5aRd56ahlPfb0JC0taZeBbikCz+61k7a/DSJJekvScrHreXCxZO5TVi25\n",
       "v9zL7nybN7+1y3b7qbz8ymuWwgA3TqgDN6hnWR7t5DJPu6RPaX3KZ+7MOe5TjrPLS0frbA7fnfZt\n",
       "JJC4Pq8dP7qeHm4odNzyYJM82PbszqYMvadlTO9zpmmXeZ4yjiuxDtwooQ7cqN575nnKsiyZ532o\n",
       "f99nlxxlyeb83ZyerHN6PGYc90teWms6nWv16sljF1TP4Ylj8vLRkLNd8tJpz//6t3dJhrQ+ZZ53\n",
       "maYpScs4jmIduDFCHbgxj++yuMxz+jInfclnTpes3vrbOT3d5Pi47WfZl8Nsuijimm3m+0+831rL\n",
       "/pbm5GTVsz19KX/wZMhf+o056fvrdJ7nDMOQ1lrGcYhnj8BNEOrADXvsIKMk//jnztL+v9/I6ek6\n",
       "q/Eimc/3B9DsF6jDtdvM9973sfbYQUdHFw9y99XfkT/6e5Nf/Xr2zzDt5Q/cAqEO3Ip+iJ87v/W1\n",
       "nN5ZJ31KZrPoPH/r+ez9Hzxce8M47ufW3/obOT59NX/s97X8l7/+8mMn5O6XybhEgZsg1IFb80/c\n",
       "/a9zfLzOvNsm6Y9m0uE5eu/SlydMybAa04aWfv9BNve+keS7b2xsAI8T6sCN+6F3v5ST403WqyHz\n",
       "xXnGwxSlWUqeu55s+oPD7Ph3sE2GYciwGpMkP/7pr2T47t+T/+wbf/iGBgmwJ9SBG/VH3/rXc3Ky\n",
       "Sct55u2c4XIZwRVm0vtiup1n1XP3aMrFg1368iGn3s5Jm1uG1ZhhGNK/8b/lT9z9W/lPz//kzQ0V\n",
       "eOEJdeDG/LG3/lxOTteZp7PMuznDYbnL0yL94frg/RJheCbHw0XWx0u2D3ZZ5g+J9SUPl8KMqyF5\n",
       "90F+rP/5/MfH/+qNjRV4sQl14Eb802//S9lsxszbi/RDpF9VPxyStDleR6nzLObzbdrFvaxby+ao\n",
       "ZXu+zbRb8qHX1Zy0ecw47pfD/HMP/uX8h6c/c2NjBl5cQh147v75d34ibWhZLub06WmR/vipkYeZ\n",
       "9KVntVllmKbnP1g+0aY338nxg9/KbnU3rbUcjy1znzNt5/c88j3X6Ha/heMw72P9x8++mL9w+qUb\n",
       "GzfwYhLqwHP1E/f+VJa+ZN7uI/3K33R6fziTPq7GtGmbV7bfyIPpvUEFH83xO/9PxuPXsl29nDYk\n",
       "Y2tZr5PdxVOeCC5Jezi7PuYnlj+VNoz5hdM3bmbgwAtHqAPPzZ9+909k3s3JtFxhJv2Rvhxm05ee\n",
       "NrS0bTJfTMlykeXs/IlzkBznzuPee1/y5fXRHvvz6dvvZPXylPHoLBeHWB9ayzi2zLsr/NZmTto4\n",
       "ps1DxtWYP3Pvx/Lzd3/xer8QgAh14Dn5qbd+NPM0Z5jm9HnJ6oonO17OovclSXoy7SP9zu7NZEnm\n",
       "s/Os49BSPrrLa2b61jvp6RlPphwfnWW3ejkZ9lE/tpZlucJdy0vS5mH/shrzZ9/+0fzsK7/8vL8E\n",
       "4AUj1IFr99Pf/JH0PmeY9zPpV4r0/mgWvV++PS2ZL+b08yltuUhbetaXu7/kEF7vaaor7vTIJ1Hv\n",
       "6Zc5frgQxnHMahgyLkvG3rM7u8jUkp6e/uppht0m49GUvj5+uJf/qrVkaMnTrttlv4Vjm8dkHPLT\n",
       "3/qR/Mynv/Lcv0zgxSHUgWv1U3/rhzLvpvRlPuxT/SHb3z2uJ+1wRHvrPctuznIxpV/M2eweJHNP\n",
       "5mSzf+j+BNPl8FqZkxyetPV9ZC9JWjKm5XizyXaeM/WepSXzbsr07f2s+nA6ZdhOGY52aevV/pNa\n",
       "24f+FZZV9STLOKQPY9o45qfOfyg/97v+4vP9OoEXhlAHrtX87ln6NKUvS3q/YqQnSS73St/PmA+9\n",
       "Z7p3P8vFlMzTPtSnnvXh0ZvWsmpDWm9PPBfQ7GTpj0K7t7SerIch694zJxmTDEl279zfP6Hc7dK3\n",
       "mwybzROR3i6j/QraekhW+1gHuC5CHbg2X/xr/3Cm8zl9ntOXq+/OcplCl6E+tMPNfdspy/l52ryk\n",
       "TUuyW9KmnlVr2QxjjjabrMbxUZjBpb7/n4e/cen7QN9k/7xuyP6S2T24yLzdpW+mLJspw+qxH4vt\n",
       "6qGelrTNKm0z5otf+/350g/81Wv9coAXk1AHrsVP/i8/+HA9eV/mp6/v/SD9sML4MKM5bOespyWb\n",
       "JEeXM+hZ9lGU/QqHh7u+mErnvXqyWa8zjMP+sKKLiwzzlGm3pPWkLT1ZDZmmJfPFlLae0jfrtGG4\n",
       "/PRDp18x1sch7WhM24z5yV/7wfzCD/7a8/rKgBeEUAeuxfzug/SLKf1i+niRnuxn05OkJT0t4zxn\n",
       "3C3ZtORoGHNyNGYYDzvCLD2m0bmK1Tjm7umdrFarnF2cZzvNuZinZDlcS8Nh28bteeaLXYb1foHV\n",
       "5VW8b/UrXmvnQ9pmTDvy4xV4dr6TAM/sC1/9XOZ75/vZ9Ped8PidvTd9Hi6BObwzpGWY56zakKNN\n",
       "y52jk2yOx/Rlf1rpe3d8ge9kGIacnpxkvVnnYrvNvQcPDmvT5/SxPbz25t28n11/bFb9o2pHq7Sj\n",
       "Ma9/9XN54/Nfv7avAXjxCHXgWoxJ5u2UnE8fe567Zb92eMije/qGtIxjz2oZsuotq9W4f0DPw1jv\n",
       "i1rng/V+mAw/vLFerTIOQ5alZ16WLNOUTMvD626/udD+P8nTf2fz+O3S/bG32pGbSoFnJ9SBa/F4\n",
       "ZB/1/euP83ck++gf07I67Gt9uQ1j+wi7PeF6OAgAAAsNSURBVEKS/d7qy+W9DPtYHzLkpZPTrIcx\n",
       "75yd5Xy3ffi8b07PfNgd5irmJNuWLO3J2XdPHYHrINSBazNkH9nrlpy0IZthdaVl5I8/5PLm0HEY\n",
       "sl6t8vAA+MuTjMye81EdDtDab7e4v35akpPNUVbDmLPz8/3D+v6wrWmeMi/L5ad+qHlZ8mCZ86D3\n",
       "7NqTq7FcqcCzEurAM3v8prvLlyEtd46Pc+f4+LFHfni1P7nBRnvP+4d/a3n8X4Sr6+/bxrNlNazy\n",
       "8umdfcw/euQV7ofeP2Belrx7dj/vXJznrPecu78ZuEZCHbgWl3uwzC3Z9mTVl5xvL7JZrzIO42OP\n",
       "eoqlX26BnS7IuUGXv835KLu8tOzXva+2Q1Z9ztiT6fkNEXjBCHXg2lxm9a4l99Iz7y5y/vYuQ7vK\n",
       "ivX+vndlOrfh/Y3+naN9vyKrZzksm+m29QeukVAHntkbn/96Xv/V78mSx5aSJ5lact6XjIs7QPmE\n",
       "emxP0cvr/vJqtzUj8KyEOnAt3vjhv5nX/5vvzfKNt5+Yf5wvF63DJ9Tlvv+Xb48vneTLP/ybtzcg\n",
       "4BNDqAPX5o0/8hv5wl/5gSzffPe2hwI35vGDulav3Mm/8/m/fpvDAT5BhDpwrb78B76WJHn9L3/f\n",
       "LY8Ebta/+4d+/baHAHzCCHXguXhDtADAM/k4hwcCAADPmVAHAICChDoAABQk1AEAoCChDgAABQl1\n",
       "AAAoSKgDAEBBQh0AAAoS6gAAUJBQBwCAgoQ6AAAUJNQBAKAgoQ4AAAUJdQAAKEioAwBAQUIdAAAK\n",
       "EuoAAFCQUAcAgIKEOgAAFCTUAQCgIKEOAAAFCXUAAChIqAMAQEFCHQAAChLqAABQkFAHAICChDoA\n",
       "ABQk1AEAoCChDgAABQl1AAAoSKgDAEBBQh0AAAoS6gAAUJBQBwCAgoQ6AAAUJNQBAKAgoQ4AAAUJ\n",
       "dQAAKEioAwBAQUIdAAAKEuoAAFCQUAcAgIKEOgAAFCTUAQCgIKEOAAAFCXUAAChIqAMAQEFCHQAA\n",
       "ChLqAABQkFAHAICChDoAABQk1AEAoCChDgAABQl1AAAoSKgDAEBBQh0AAAoS6gAAUJBQBwCAglrv\n",
       "/bbHAAAAvIcZdQAAKEioAwBAQUIdAAAKEuoAAFCQUAcAgIKEOgAAFCTUAQCgIKEOAAAFCXUAAChI\n",
       "qAMAQEFCHQAAChLqAABQkFAHAICChDoAABQk1AEAoCChDgAABQl1AAAoSKgDAEBBQh0AAAoS6gAA\n",
       "UJBQBwCAgoQ6AAAUJNQBAKAgoQ4AAAUJdQAAKEioAwBAQUIdAAAKEuoAAFCQUAcAgIKEOgAAFCTU\n",
       "AQCgIKEOAAAFCXUAAChIqAMAQEFCHQAAChLqAABQkFAHAICChDoAABQk1AEAoCChDgAABQl1AAAo\n",
       "SKgDAEBBQh0AAAoS6gAAUJBQBwCAgoQ6AAAUJNQBAKAgoQ4AAAUJdQAAKEioAwBAQUIdAAAKEuoA\n",
       "AFCQUAcAgIKEOgAAFCTUAQCgIKEOAAAFCXUAAChIqAMAQEFCHQAAChLqAABQkFAHAICChDoAABQk\n",
       "1AEAoCChDgAABQl1AAAoSKgDAEBBQh0AAAoS6gAAUJBQBwCAgoQ6AAAUJNQBAKAgoQ4AAAUJdQAA\n",
       "KEioAwBAQUIdAAAKEuoAAFCQUAcAgIKEOgAAFCTUAQCgIKEOAAAFCXUAAChIqAMAQEFCHQAAChLq\n",
       "AABQkFAHAICChDoAABQk1AEAoCChDgAABQl1AAAoSKgDAEBBQh0AAAoS6gAAUJBQBwCAgoQ6AAAU\n",
       "JNQBAKAgoQ4AAAUJdQAAKEioAwBAQUIdAAAKEuoAAFCQUAcAgIKEOgAAFCTUAQCgIKEOAAAFCXUA\n",
       "AChIqAMAQEFCHQAAChLqAABQkFAHAICChDoAABQk1AEAoCChDgAABQl1AAAoSKgDAEBBQh0AAAoS\n",
       "6gAAUJBQBwCAgoQ6AAAUJNQBAKAgoQ4AAAUJdQAAKEioAwBAQUIdAAAKEuoAAFCQUAcAgIKEOgAA\n",
       "FCTUAQCgIKEOAAAFCXUAAChIqAMAQEFCHQAAChLqAABQkFAHAICChDoAABQk1AEAoCChDgAABQl1\n",
       "AAAoSKgDAEBBQh0AAAoS6gAAUJBQBwCAgoQ6AAAUJNQBAKAgoQ4AAAUJdQAAKEioAwBAQUIdAAAK\n",
       "EuoAAFCQUAcAgIKEOgAAFCTUAQCgIKEOAAAFCXUAAChIqAMAQEFCHQAAChLqAABQkFAHAICChDoA\n",
       "ABQk1AEAoCChDgAABQl1AAAoSKgDAEBBQh0AAAoS6gAAUJBQBwCAgoQ6AAAUJNQBAKAgoQ4AAAUJ\n",
       "dQAAKEioAwBAQUIdAAAKEuoAAFCQUAcAgIKEOgAAFCTUAQCgIKEOAAAFCXUAAChIqAMAQEFCHQAA\n",
       "ChLqAABQkFAHAICChDoAABQk1AEAoCChDgAABQl1AAAoSKgDAEBBQh0AAAoS6gAAUJBQBwCAgoQ6\n",
       "AAAUJNQBAKAgoQ4AAAUJdQAAKEioAwBAQUIdAAAKEuoAAFCQUAcAgIKEOgAAFCTUAQCgIKEOAAAF\n",
       "CXUAAChIqAMAQEFCHQAAChLqAABQkFAHAICChDoAABQk1AEAoCChDgAABQl1AAAoSKgDAEBBQh0A\n",
       "AAoS6gAAUJBQBwCAgoQ6AAAUJNQBAKAgoQ4AAAUJdQAAKEioAwBAQUIdAAAKEuoAAFCQUAcAgIKE\n",
       "OgAAFCTUAQCgIKEOAAAFCXUAAChIqAMAQEFCHQAAChLqAABQkFAHAICChDoAABQk1AEAoCChDgAA\n",
       "BQl1AAAoSKgDAEBBQh0AAAoS6gAAUJBQBwCAgoQ6AAAUJNQBAKAgoQ4AAAUJdQAAKEioAwBAQUId\n",
       "AAAKEuoAAFCQUAcAgIKEOgAAFCTUAQCgIKEOAAAFCXUAAChIqAMAQEFCHQAAChLqAABQkFAHAICC\n",
       "hDoAABQk1AEAoCChDgAABQl1AAAoSKgDAEBBQh0AAAoS6gAAUJBQBwCAgoQ6AAAUJNQBAKAgoQ4A\n",
       "AAUJdQAAKEioAwBAQUIdAAAKEuoAAFCQUAcAgIKEOgAAFCTUAQCgIKEOAAAFCXUAAChIqAMAQEFC\n",
       "HQAAChLqAABQkFAHAICChDoAABQk1AEAoCChDgAABQl1AAAoSKgDAEBBQh0AAAoS6gAAUJBQBwCA\n",
       "goQ6AAAUJNQBAKAgoQ4AAAUJdQAAKEioAwBAQUIdAAAKEuoAAFCQUAcAgIKEOgAAFCTUAQCgIKEO\n",
       "AMD/324dCwAAAAAM8reexo6iiCFRBwCAIVEHAIAhUQcAgCFRBwCAIVEHAIAhUQcAgCFRBwCAIVEH\n",
       "AIAhUQcAgCFRBwCAIVEHAIAhUQcAgCFRBwCAIVEHAIAhUQcAgCFRBwCAIVEHAIAhUQcAgCFRBwCA\n",
       "IVEHAIAhUQcAgCFRBwCAIVEHAIAhUQcAgCFRBwCAIVEHAIAhUQcAgCFRBwCAIVEHAIAhUQcAgCFR\n",
       "BwCAIVEHAIAhUQcAgCFRBwCAIVEHAIAhUQcAgCFRBwCAIVEHAIAhUQcAgCFRBwCAIVEHAIAhUQcA\n",
       "gCFRBwCAIVEHAIAhUQcAgCFRBwCAIVEHAIAhUQcAgCFRBwCAIVEHAIAhUQcAgCFRBwCAIVEHAIAh\n",
       "UQcAgCFRBwCAIVEHAIAhUQcAgCFRBwCAIVEHAIAhUQcAgCFRBwCAIVEHAIAhUQcAgCFRBwCAIVEH\n",
       "AIAhUQcAgCFRBwCAIVEHAIAhUQcAgCFRBwCAIVEHAIAhUQcAgCFRBwCAIVEHAIAhUQcAgCFRBwCA\n",
       "IVEHAIAhUQcAgKEA+IcIM1MiKzYAAAAASUVORK5CYII=\n",
       "\" transform=\"translate(1247, 292)\"/>\n",
       "</g>\n",
       "<defs>\n",
       "  <clipPath id=\"clip735\">\n",
       "    <rect x=\"2160\" y=\"292\" width=\"73\" height=\"1016\"/>\n",
       "  </clipPath>\n",
       "</defs>\n",
       "<g clip-path=\"url(#clip735)\">\n",
       "<image width=\"72\" height=\"1015\" xlink:href=\"data:image/png;base64,\n",
       "iVBORw0KGgoAAAANSUhEUgAAAEgAAAP3CAYAAACPmQh6AAAI/ElEQVR4nO3dwXHbQBBFQSw5svOP\n",
       "yIFZIhyB5x3JQ3cEqle/4MWSls6fx9d98V+Pd/8An06gIFCY81ujjTpBoCBQmPNLo406QaAgUJjz\n",
       "9Xz3z/DRLCgIFAQKc0ajjTpBoCBQmMszaKVOECgIFOY8NdqoEwQKAgXPoKBOECgIFOY8z7t/ho9m\n",
       "QUGgIFCYyzlopU4QKAgUvIsFdYJAQaAw56HRRp0gUBAoOAcFdYJAQaAw18Od9MaCgkBBoOBdLKgT\n",
       "BAoCBe9iQZ0gUBAozOUctFInCBQECnPcB60sKAgUBArug4I6QaAgUPAMCuoEgYJAwWfzwYKCQEGg\n",
       "4BwU1AkCBYGCZ1BQJwgUBAo+mw/qBIGCQMFn88GCgkBBoOBdLKgTBAoCBe9iQZ0gUBAozDnexTYW\n",
       "FAQKAgXvYkGdIFDwqhHUCQIFgYKPfYIFBYGCQME5KKgTBAoChTlHo406QaAgUPAuFiwoCBQECt7F\n",
       "gjpBoCBQ8NFzUCcIFAQK7oOCOkGgIFDwK7qCBQWBgkDBu1hQJwgUBApzeRdbqRMECgIFn80HCwoC\n",
       "BYGCz+aDOkGgIFDwuVhQJwgUBArupIM6QaAgUPDZfLCgIFAQKHgXC+oEgYJAwZ10UCcIFAQKPpsP\n",
       "FhQECgIF31EM6gSBgkDB52JBnSBQECg4BwV1gkBBoOA+KFhQECgIFHwuFtQJAgWBgu8HBXWCQEGg\n",
       "4BwU1AkCBYGCP6ceLCgIFAQKzkFBnSBQ8PWXoE4QKAgUfP0lqBMECgIFX38JFhQECgIF56CgThAo\n",
       "CBRcuQZ1gkBBoOBOOqgTBAoCBe9iQZ0gUBAouJMOFhQECgIF56CgThAoCBTcBwV1gkBBoOAcFNQJ\n",
       "AgWBgj+fFSwoCBQECt7FgjpBoCBQ8C4W1AkCBYGC70kHdYJAQaDgV5UGdYJAQaDgHBTUCQIFgcJc\n",
       "flXpyoKCQEGg4HOxoE4QKAgUvIsFdYJAQaDgs/mgThAoCBS8iwV1gkBBoOBOOlhQECgIFNwHBXWC\n",
       "QEGg4DuKQZ0gUBAoOAcFdYJAQaDgc7GgThAoCBScg4I6QaAgUPDZfFAnCBR89BwsKAgUBApeNYI6\n",
       "QaAgUHDlGtQJAgWBguuOoE4QKAgUnIOCOkGgIFBwHxTUCQIFgYJzUFAnCBQECs5BQZ0gUBAozPFn\n",
       "RFcWFAQKAgXvYkGdIFAQKHgXC+oEgYJAwTkoqBMECgIF56CgThAoCBScg4I6QaAgUPB/NYI6QaAg\n",
       "UHAOCuoEgYJAwX1QUCcIFAQKnkFBnSBQECj4PYrBgoJAQaDgHBTUCQIFgYI76aBOECgIFJyDgjpB\n",
       "oCBQcA4K6gSBgkDBOSioEwQKAgXnoKBOECgIFJyDgjpBoCBQcA4K6gSBgkDBOSioEwQK/pkP6gSB\n",
       "gkDBP/NBnSBQECj471DBgoJAQaDgHBTUCQIFgYL7oKBOECgIFDyDgjpBoCBQmNu72EqdIFAQKLiT\n",
       "DhYUBAoCBe9iQZ0gUBAozO0ZtFInCBQECnNd3sU2FhQECgKFud0HrSwoCBQECqPRTp0gUBAoOAcF\n",
       "CwoCBYHC3O6DVhYUBAoCBXfSwYKCQEGg4BwULCgIFAQKc9/v/hE+mwUFgYJAwTkoWFAQKAgUnIOC\n",
       "BQWBgkBh7ts5aGNBQaAgUHAOChYUBAoCBc+gYEFBoCBQ8AwKFhQECgIFz6BgQUGgIFCYl2fQyoKC\n",
       "QEGg4BwULCgIFAQKnkHBgoJAQaAw9+vdP8Jns6AgUPDPfLCgIFAQKLhyDRYUBAoCBa8awYKCQEGg\n",
       "4F0sWFAQKAgUPIOCBQWBgkDBu1iwoCBQECjMy0FoZUFBoCBQ8C4WLCgIFAQK3sWCBQWBgkDBOShY\n",
       "UBAoCBQ8g4IFBYGCQGFe3sVWFhQECgIF56BgQUGgIFCY20NoZUFBoCBQcA4KFhQECgIF90HBgoJA\n",
       "QaDgHBQsKAgUBAqeQcGCgkBBoOB70sGCgkBBoOD3KAYLCgIFgYJ3sWBBQaAgUJjbQWhlQUGgIFBw\n",
       "DgoWFAQKAgX3QcGCgkBBoOBzsWBBQaAgUPAuFiwoCBQECp5BwYKCQEGg4HfaBwsKAgXXHcGCgkBB\n",
       "oOBVI1hQECgIFDyDggUFgYJAwa/HCRYUBAoCBeegYEFBoCBQ8AwKFhQECgIFHz0HCwoCBYGCz+aD\n",
       "BQWBgkDBu1iwoCBQECh4BgULCgIFgYLP5oMFBYGCQME5KFhQECgIFPwp42BBQaAgUPBrAoMFBYGC\n",
       "QMFn88GCgkBBoOA+KFhQECgIFLyLBQsKAgWBgnNQsKAgUBAo+BN+wYKCQEGg4F0sWFAQKAgUvIsF\n",
       "CwoCBYGCc1CwoCBQECj4flCwoCBQECh4FwsWFAQKAgW/RzFYUBAoCBScg4IFBYGCQMF9ULCgIFAQ\n",
       "KPhcLFhQECgIFLyLBQsKAgVXrsGCgkBBoOC6I1hQECgIFFx3BAsKAgWBguuOYEFBoCBQ8AwKFhQE\n",
       "CgIFfz4rWFAQKAgU/OmaYEFBoCBQcCcdLCgIFAQK7oOCBQWBgkDBOShYUBAoCBR8RzFYUBAoCBT8\n",
       "X41gQUGgIFBwHxQsKAgUBArug4IFBYGCQMF3FIMFBYGCQMG7WLCgIFAQKLiTDhYUBAoCBeegYEFB\n",
       "oCBQcCcdLCgIFAQK7qSDBQWBgkDBu1iwoCBQECh4FwsWFAQKAgWfiwULCgIFgYJ3sWBBQaAgUPAu\n",
       "FiwoCBQECj4XCxYUBAoCBe9iwYKCQEGg4E46WFAQKLjuCBYUBAoCBc+gYEFBoCBQcOUaLCgIFAQK\n",
       "zkHBgoJAQaDgz4gGCwoCBYGCc1CwoCBQECh4BgULCgIFgYJnULCgIFAQKMzLQ2hlQUGgIFBwDgoW\n",
       "FAQKAoX58QxaWVAQKAgUnIOCBQWBgkDBMyhYUBAoCBT8t/BgQUGgIFBwHxQsKAgUBAr+z2qwoCBQ\n",
       "ECg4BwULCgIFgYI76WBBQaAgUJgfd9IrCwoCBYGCd7FgQUGgIFDwLhYsKAgUBArOQcGCgkBBoDDf\n",
       "7oNWFhQECgIF56BgQUGgIFCYb99RXFlQECgIFObbOWhlQUGgIFDwDAoWFAQKAoX56056ZUFBoPAP\n",
       "38EfROHdM9kAAAAASUVORK5CYII=\n",
       "\" transform=\"translate(2161, 292)\"/>\n",
       "</g>\n",
       "<path clip-path=\"url(#clip730)\" d=\"M2274.38 1209.7 L2290.7 1209.7 L2290.7 1213.64 L2268.76 1213.64 L2268.76 1209.7 Q2271.42 1206.95 2276 1202.32 Q2280.61 1197.67 2281.79 1196.32 Q2284.03 1193.8 2284.91 1192.06 Q2285.82 1190.3 2285.82 1188.61 Q2285.82 1185.86 2283.87 1184.12 Q2281.95 1182.39 2278.85 1182.39 Q2276.65 1182.39 2274.2 1183.15 Q2271.77 1183.92 2268.99 1185.47 L2268.99 1180.74 Q2271.81 1179.61 2274.27 1179.03 Q2276.72 1178.45 2278.76 1178.45 Q2284.13 1178.45 2287.32 1181.14 Q2290.52 1183.82 2290.52 1188.31 Q2290.52 1190.44 2289.7 1192.36 Q2288.92 1194.26 2286.81 1196.86 Q2286.23 1197.53 2283.13 1200.74 Q2280.03 1203.94 2274.38 1209.7 Z\" fill=\"#000000\" fill-rule=\"evenodd\" fill-opacity=\"1\" /><path clip-path=\"url(#clip730)\" d=\"M2300.56 1179.08 L2318.92 1179.08 L2318.92 1183.01 L2304.84 1183.01 L2304.84 1191.49 Q2305.86 1191.14 2306.88 1190.98 Q2307.9 1190.79 2308.92 1190.79 Q2314.7 1190.79 2318.08 1193.96 Q2321.46 1197.13 2321.46 1202.55 Q2321.46 1208.13 2317.99 1211.23 Q2314.52 1214.31 2308.2 1214.31 Q2306.02 1214.31 2303.76 1213.94 Q2301.51 1213.57 2299.1 1212.83 L2299.1 1208.13 Q2301.19 1209.26 2303.41 1209.82 Q2305.63 1210.37 2308.11 1210.37 Q2312.11 1210.37 2314.45 1208.27 Q2316.79 1206.16 2316.79 1202.55 Q2316.79 1198.94 2314.45 1196.83 Q2312.11 1194.73 2308.11 1194.73 Q2306.23 1194.73 2304.36 1195.14 Q2302.51 1195.56 2300.56 1196.44 L2300.56 1179.08 Z\" fill=\"#000000\" fill-rule=\"evenodd\" fill-opacity=\"1\" /><path clip-path=\"url(#clip730)\" d=\"M2340.68 1182.16 Q2337.07 1182.16 2335.24 1185.72 Q2333.43 1189.26 2333.43 1196.39 Q2333.43 1203.5 2335.24 1207.06 Q2337.07 1210.61 2340.68 1210.61 Q2344.31 1210.61 2346.12 1207.06 Q2347.95 1203.5 2347.95 1196.39 Q2347.95 1189.26 2346.12 1185.72 Q2344.31 1182.16 2340.68 1182.16 M2340.68 1178.45 Q2346.49 1178.45 2349.54 1183.06 Q2352.62 1187.64 2352.62 1196.39 Q2352.62 1205.12 2349.54 1209.73 Q2346.49 1214.31 2340.68 1214.31 Q2334.87 1214.31 2331.79 1209.73 Q2328.73 1205.12 2328.73 1196.39 Q2328.73 1187.64 2331.79 1183.06 Q2334.87 1178.45 2340.68 1178.45 Z\" fill=\"#000000\" fill-rule=\"evenodd\" fill-opacity=\"1\" /><path clip-path=\"url(#clip730)\" d=\"M2370.84 1182.16 Q2367.23 1182.16 2365.4 1185.72 Q2363.59 1189.26 2363.59 1196.39 Q2363.59 1203.5 2365.4 1207.06 Q2367.23 1210.61 2370.84 1210.61 Q2374.47 1210.61 2376.28 1207.06 Q2378.11 1203.5 2378.11 1196.39 Q2378.11 1189.26 2376.28 1185.72 Q2374.47 1182.16 2370.84 1182.16 M2370.84 1178.45 Q2376.65 1178.45 2379.7 1183.06 Q2382.78 1187.64 2382.78 1196.39 Q2382.78 1205.12 2379.7 1209.73 Q2376.65 1214.31 2370.84 1214.31 Q2365.03 1214.31 2361.95 1209.73 Q2358.89 1205.12 2358.89 1196.39 Q2358.89 1187.64 2361.95 1183.06 Q2365.03 1178.45 2370.84 1178.45 Z\" fill=\"#000000\" fill-rule=\"evenodd\" fill-opacity=\"1\" /><path clip-path=\"url(#clip730)\" d=\"M2401 1182.16 Q2397.39 1182.16 2395.56 1185.72 Q2393.76 1189.26 2393.76 1196.39 Q2393.76 1203.5 2395.56 1207.06 Q2397.39 1210.61 2401 1210.61 Q2404.63 1210.61 2406.44 1207.06 Q2408.27 1203.5 2408.27 1196.39 Q2408.27 1189.26 2406.44 1185.72 Q2404.63 1182.16 2401 1182.16 M2401 1178.45 Q2406.81 1178.45 2409.87 1183.06 Q2412.94 1187.64 2412.94 1196.39 Q2412.94 1205.12 2409.87 1209.73 Q2406.81 1214.31 2401 1214.31 Q2395.19 1214.31 2392.11 1209.73 Q2389.06 1205.12 2389.06 1196.39 Q2389.06 1187.64 2392.11 1183.06 Q2395.19 1178.45 2401 1178.45 Z\" fill=\"#000000\" fill-rule=\"evenodd\" fill-opacity=\"1\" /><path clip-path=\"url(#clip730)\" d=\"M2270.21 1052.32 L2288.57 1052.32 L2288.57 1056.25 L2274.5 1056.25 L2274.5 1064.72 Q2275.52 1064.38 2276.53 1064.21 Q2277.55 1064.03 2278.57 1064.03 Q2284.36 1064.03 2287.74 1067.2 Q2291.12 1070.37 2291.12 1075.79 Q2291.12 1081.37 2287.64 1084.47 Q2284.17 1087.55 2277.85 1087.55 Q2275.68 1087.55 2273.41 1087.18 Q2271.16 1086.81 2268.76 1086.07 L2268.76 1081.37 Q2270.84 1082.5 2273.06 1083.06 Q2275.28 1083.61 2277.76 1083.61 Q2281.77 1083.61 2284.1 1081.51 Q2286.44 1079.4 2286.44 1075.79 Q2286.44 1072.18 2284.1 1070.07 Q2281.77 1067.96 2277.76 1067.96 Q2275.89 1067.96 2274.01 1068.38 Q2272.16 1068.8 2270.21 1069.68 L2270.21 1052.32 Z\" fill=\"#000000\" fill-rule=\"evenodd\" fill-opacity=\"1\" /><path clip-path=\"url(#clip730)\" d=\"M2310.33 1055.39 Q2306.72 1055.39 2304.89 1058.96 Q2303.08 1062.5 2303.08 1069.63 Q2303.08 1076.74 2304.89 1080.3 Q2306.72 1083.84 2310.33 1083.84 Q2313.96 1083.84 2315.77 1080.3 Q2317.6 1076.74 2317.6 1069.63 Q2317.6 1062.5 2315.77 1058.96 Q2313.96 1055.39 2310.33 1055.39 M2310.33 1051.69 Q2316.14 1051.69 2319.2 1056.3 Q2322.27 1060.88 2322.27 1069.63 Q2322.27 1078.36 2319.2 1082.96 Q2316.14 1087.55 2310.33 1087.55 Q2304.52 1087.55 2301.44 1082.96 Q2298.39 1078.36 2298.39 1069.63 Q2298.39 1060.88 2301.44 1056.3 Q2304.52 1051.69 2310.33 1051.69 Z\" fill=\"#000000\" fill-rule=\"evenodd\" fill-opacity=\"1\" /><path clip-path=\"url(#clip730)\" d=\"M2340.49 1055.39 Q2336.88 1055.39 2335.05 1058.96 Q2333.25 1062.5 2333.25 1069.63 Q2333.25 1076.74 2335.05 1080.3 Q2336.88 1083.84 2340.49 1083.84 Q2344.13 1083.84 2345.93 1080.3 Q2347.76 1076.74 2347.76 1069.63 Q2347.76 1062.5 2345.93 1058.96 Q2344.13 1055.39 2340.49 1055.39 M2340.49 1051.69 Q2346.3 1051.69 2349.36 1056.3 Q2352.44 1060.88 2352.44 1069.63 Q2352.44 1078.36 2349.36 1082.96 Q2346.3 1087.55 2340.49 1087.55 Q2334.68 1087.55 2331.6 1082.96 Q2328.55 1078.36 2328.55 1069.63 Q2328.55 1060.88 2331.6 1056.3 Q2334.68 1051.69 2340.49 1051.69 Z\" fill=\"#000000\" fill-rule=\"evenodd\" fill-opacity=\"1\" /><path clip-path=\"url(#clip730)\" d=\"M2370.65 1055.39 Q2367.04 1055.39 2365.21 1058.96 Q2363.41 1062.5 2363.41 1069.63 Q2363.41 1076.74 2365.21 1080.3 Q2367.04 1083.84 2370.65 1083.84 Q2374.29 1083.84 2376.09 1080.3 Q2377.92 1076.74 2377.92 1069.63 Q2377.92 1062.5 2376.09 1058.96 Q2374.29 1055.39 2370.65 1055.39 M2370.65 1051.69 Q2376.46 1051.69 2379.52 1056.3 Q2382.6 1060.88 2382.6 1069.63 Q2382.6 1078.36 2379.52 1082.96 Q2376.46 1087.55 2370.65 1087.55 Q2364.84 1087.55 2361.76 1082.96 Q2358.71 1078.36 2358.71 1069.63 Q2358.71 1060.88 2361.76 1056.3 Q2364.84 1051.69 2370.65 1051.69 Z\" fill=\"#000000\" fill-rule=\"evenodd\" fill-opacity=\"1\" /><path clip-path=\"url(#clip730)\" d=\"M2400.82 1055.39 Q2397.2 1055.39 2395.38 1058.96 Q2393.57 1062.5 2393.57 1069.63 Q2393.57 1076.74 2395.38 1080.3 Q2397.2 1083.84 2400.82 1083.84 Q2404.45 1083.84 2406.26 1080.3 Q2408.08 1076.74 2408.08 1069.63 Q2408.08 1062.5 2406.26 1058.96 Q2404.45 1055.39 2400.82 1055.39 M2400.82 1051.69 Q2406.63 1051.69 2409.68 1056.3 Q2412.76 1060.88 2412.76 1069.63 Q2412.76 1078.36 2409.68 1082.96 Q2406.63 1087.55 2400.82 1087.55 Q2395.01 1087.55 2391.93 1082.96 Q2388.87 1078.36 2388.87 1069.63 Q2388.87 1060.88 2391.93 1056.3 Q2395.01 1051.69 2400.82 1051.69 Z\" fill=\"#000000\" fill-rule=\"evenodd\" fill-opacity=\"1\" /><path clip-path=\"url(#clip730)\" d=\"M2268.76 925.554 L2290.98 925.554 L2290.98 927.545 L2278.43 960.114 L2273.55 960.114 L2285.35 929.489 L2268.76 929.489 L2268.76 925.554 Z\" fill=\"#000000\" fill-rule=\"evenodd\" fill-opacity=\"1\" /><path clip-path=\"url(#clip730)\" d=\"M2300.14 925.554 L2318.5 925.554 L2318.5 929.489 L2304.43 929.489 L2304.43 937.962 Q2305.45 937.614 2306.46 937.452 Q2307.48 937.267 2308.5 937.267 Q2314.29 937.267 2317.67 940.438 Q2321.05 943.61 2321.05 949.026 Q2321.05 954.605 2317.58 957.707 Q2314.1 960.786 2307.78 960.786 Q2305.61 960.786 2303.34 960.415 Q2301.09 960.045 2298.69 959.304 L2298.69 954.605 Q2300.77 955.739 2302.99 956.295 Q2305.21 956.85 2307.69 956.85 Q2311.7 956.85 2314.03 954.744 Q2316.37 952.637 2316.37 949.026 Q2316.37 945.415 2314.03 943.309 Q2311.7 941.202 2307.69 941.202 Q2305.82 941.202 2303.94 941.619 Q2302.09 942.036 2300.14 942.915 L2300.14 925.554 Z\" fill=\"#000000\" fill-rule=\"evenodd\" fill-opacity=\"1\" /><path clip-path=\"url(#clip730)\" d=\"M2340.26 928.633 Q2336.65 928.633 2334.82 932.198 Q2333.01 935.739 2333.01 942.869 Q2333.01 949.975 2334.82 953.54 Q2336.65 957.082 2340.26 957.082 Q2343.89 957.082 2345.7 953.54 Q2347.53 949.975 2347.53 942.869 Q2347.53 935.739 2345.7 932.198 Q2343.89 928.633 2340.26 928.633 M2340.26 924.929 Q2346.07 924.929 2349.13 929.536 Q2352.2 934.119 2352.2 942.869 Q2352.2 951.596 2349.13 956.202 Q2346.07 960.786 2340.26 960.786 Q2334.45 960.786 2331.37 956.202 Q2328.32 951.596 2328.32 942.869 Q2328.32 934.119 2331.37 929.536 Q2334.45 924.929 2340.26 924.929 Z\" fill=\"#000000\" fill-rule=\"evenodd\" fill-opacity=\"1\" /><path clip-path=\"url(#clip730)\" d=\"M2370.42 928.633 Q2366.81 928.633 2364.98 932.198 Q2363.18 935.739 2363.18 942.869 Q2363.18 949.975 2364.98 953.54 Q2366.81 957.082 2370.42 957.082 Q2374.06 957.082 2375.86 953.54 Q2377.69 949.975 2377.69 942.869 Q2377.69 935.739 2375.86 932.198 Q2374.06 928.633 2370.42 928.633 M2370.42 924.929 Q2376.23 924.929 2379.29 929.536 Q2382.37 934.119 2382.37 942.869 Q2382.37 951.596 2379.29 956.202 Q2376.23 960.786 2370.42 960.786 Q2364.61 960.786 2361.53 956.202 Q2358.48 951.596 2358.48 942.869 Q2358.48 934.119 2361.53 929.536 Q2364.61 924.929 2370.42 924.929 Z\" fill=\"#000000\" fill-rule=\"evenodd\" fill-opacity=\"1\" /><path clip-path=\"url(#clip730)\" d=\"M2400.58 928.633 Q2396.97 928.633 2395.14 932.198 Q2393.34 935.739 2393.34 942.869 Q2393.34 949.975 2395.14 953.54 Q2396.97 957.082 2400.58 957.082 Q2404.22 957.082 2406.02 953.54 Q2407.85 949.975 2407.85 942.869 Q2407.85 935.739 2406.02 932.198 Q2404.22 928.633 2400.58 928.633 M2400.58 924.929 Q2406.39 924.929 2409.45 929.536 Q2412.53 934.119 2412.53 942.869 Q2412.53 951.596 2409.45 956.202 Q2406.39 960.786 2400.58 960.786 Q2394.77 960.786 2391.7 956.202 Q2388.64 951.596 2388.64 942.869 Q2388.64 934.119 2391.7 929.536 Q2394.77 924.929 2400.58 924.929 Z\" fill=\"#000000\" fill-rule=\"evenodd\" fill-opacity=\"1\" /><path clip-path=\"url(#clip730)\" d=\"M2269.43 829.417 L2277.07 829.417 L2277.07 803.052 L2268.76 804.718 L2268.76 800.459 L2277.02 798.792 L2281.7 798.792 L2281.7 829.417 L2289.33 829.417 L2289.33 833.352 L2269.43 833.352 L2269.43 829.417 Z\" fill=\"#000000\" fill-rule=\"evenodd\" fill-opacity=\"1\" /><path clip-path=\"url(#clip730)\" d=\"M2308.78 801.871 Q2305.17 801.871 2303.34 805.436 Q2301.53 808.978 2301.53 816.107 Q2301.53 823.214 2303.34 826.778 Q2305.17 830.32 2308.78 830.32 Q2312.41 830.32 2314.22 826.778 Q2316.05 823.214 2316.05 816.107 Q2316.05 808.978 2314.22 805.436 Q2312.41 801.871 2308.78 801.871 M2308.78 798.167 Q2314.59 798.167 2317.64 802.774 Q2320.72 807.357 2320.72 816.107 Q2320.72 824.834 2317.64 829.44 Q2314.59 834.024 2308.78 834.024 Q2302.97 834.024 2299.89 829.44 Q2296.83 824.834 2296.83 816.107 Q2296.83 807.357 2299.89 802.774 Q2302.97 798.167 2308.78 798.167 Z\" fill=\"#000000\" fill-rule=\"evenodd\" fill-opacity=\"1\" /><path clip-path=\"url(#clip730)\" d=\"M2338.94 801.871 Q2335.33 801.871 2333.5 805.436 Q2331.7 808.978 2331.7 816.107 Q2331.7 823.214 2333.5 826.778 Q2335.33 830.32 2338.94 830.32 Q2342.57 830.32 2344.38 826.778 Q2346.21 823.214 2346.21 816.107 Q2346.21 808.978 2344.38 805.436 Q2342.57 801.871 2338.94 801.871 M2338.94 798.167 Q2344.75 798.167 2347.81 802.774 Q2350.89 807.357 2350.89 816.107 Q2350.89 824.834 2347.81 829.44 Q2344.75 834.024 2338.94 834.024 Q2333.13 834.024 2330.05 829.44 Q2327 824.834 2327 816.107 Q2327 807.357 2330.05 802.774 Q2333.13 798.167 2338.94 798.167 Z\" fill=\"#000000\" fill-rule=\"evenodd\" fill-opacity=\"1\" /><path clip-path=\"url(#clip730)\" d=\"M2369.1 801.871 Q2365.49 801.871 2363.66 805.436 Q2361.86 808.978 2361.86 816.107 Q2361.86 823.214 2363.66 826.778 Q2365.49 830.32 2369.1 830.32 Q2372.74 830.32 2374.54 826.778 Q2376.37 823.214 2376.37 816.107 Q2376.37 808.978 2374.54 805.436 Q2372.74 801.871 2369.1 801.871 M2369.1 798.167 Q2374.91 798.167 2377.97 802.774 Q2381.05 807.357 2381.05 816.107 Q2381.05 824.834 2377.97 829.44 Q2374.91 834.024 2369.1 834.024 Q2363.29 834.024 2360.21 829.44 Q2357.16 824.834 2357.16 816.107 Q2357.16 807.357 2360.21 802.774 Q2363.29 798.167 2369.1 798.167 Z\" fill=\"#000000\" fill-rule=\"evenodd\" fill-opacity=\"1\" /><path clip-path=\"url(#clip730)\" d=\"M2399.26 801.871 Q2395.65 801.871 2393.82 805.436 Q2392.02 808.978 2392.02 816.107 Q2392.02 823.214 2393.82 826.778 Q2395.65 830.32 2399.26 830.32 Q2402.9 830.32 2404.7 826.778 Q2406.53 823.214 2406.53 816.107 Q2406.53 808.978 2404.7 805.436 Q2402.9 801.871 2399.26 801.871 M2399.26 798.167 Q2405.07 798.167 2408.13 802.774 Q2411.21 807.357 2411.21 816.107 Q2411.21 824.834 2408.13 829.44 Q2405.07 834.024 2399.26 834.024 Q2393.45 834.024 2390.38 829.44 Q2387.32 824.834 2387.32 816.107 Q2387.32 807.357 2390.38 802.774 Q2393.45 798.167 2399.26 798.167 Z\" fill=\"#000000\" fill-rule=\"evenodd\" fill-opacity=\"1\" /><path clip-path=\"url(#clip730)\" d=\"M2429.43 801.871 Q2425.82 801.871 2423.99 805.436 Q2422.18 808.978 2422.18 816.107 Q2422.18 823.214 2423.99 826.778 Q2425.82 830.32 2429.43 830.32 Q2433.06 830.32 2434.87 826.778 Q2436.69 823.214 2436.69 816.107 Q2436.69 808.978 2434.87 805.436 Q2433.06 801.871 2429.43 801.871 M2429.43 798.167 Q2435.24 798.167 2438.29 802.774 Q2441.37 807.357 2441.37 816.107 Q2441.37 824.834 2438.29 829.44 Q2435.24 834.024 2429.43 834.024 Q2423.62 834.024 2420.54 829.44 Q2417.48 824.834 2417.48 816.107 Q2417.48 807.357 2420.54 802.774 Q2423.62 798.167 2429.43 798.167 Z\" fill=\"#000000\" fill-rule=\"evenodd\" fill-opacity=\"1\" /><path clip-path=\"url(#clip730)\" d=\"M2269.43 702.656 L2277.07 702.656 L2277.07 676.29 L2268.76 677.957 L2268.76 673.697 L2277.02 672.031 L2281.7 672.031 L2281.7 702.656 L2289.33 702.656 L2289.33 706.591 L2269.43 706.591 L2269.43 702.656 Z\" fill=\"#000000\" fill-rule=\"evenodd\" fill-opacity=\"1\" /><path clip-path=\"url(#clip730)\" d=\"M2302.81 702.656 L2319.13 702.656 L2319.13 706.591 L2297.18 706.591 L2297.18 702.656 Q2299.84 699.901 2304.43 695.271 Q2309.03 690.619 2310.21 689.276 Q2312.46 686.753 2313.34 685.017 Q2314.24 683.258 2314.24 681.568 Q2314.24 678.813 2312.3 677.077 Q2310.38 675.341 2307.27 675.341 Q2305.08 675.341 2302.62 676.105 Q2300.19 676.869 2297.41 678.42 L2297.41 673.697 Q2300.24 672.563 2302.69 671.984 Q2305.14 671.406 2307.18 671.406 Q2312.55 671.406 2315.75 674.091 Q2318.94 676.776 2318.94 681.267 Q2318.94 683.396 2318.13 685.318 Q2317.34 687.216 2315.24 689.808 Q2314.66 690.48 2311.56 693.697 Q2308.45 696.892 2302.81 702.656 Z\" fill=\"#000000\" fill-rule=\"evenodd\" fill-opacity=\"1\" /><path clip-path=\"url(#clip730)\" d=\"M2328.99 672.031 L2347.34 672.031 L2347.34 675.966 L2333.27 675.966 L2333.27 684.438 Q2334.29 684.091 2335.31 683.929 Q2336.32 683.744 2337.34 683.744 Q2343.13 683.744 2346.51 686.915 Q2349.89 690.086 2349.89 695.503 Q2349.89 701.081 2346.42 704.183 Q2342.95 707.262 2336.63 707.262 Q2334.45 707.262 2332.18 706.892 Q2329.94 706.521 2327.53 705.781 L2327.53 701.081 Q2329.61 702.216 2331.83 702.771 Q2334.06 703.327 2336.53 703.327 Q2340.54 703.327 2342.88 701.22 Q2345.21 699.114 2345.21 695.503 Q2345.21 691.892 2342.88 689.785 Q2340.54 687.679 2336.53 687.679 Q2334.66 687.679 2332.78 688.095 Q2330.93 688.512 2328.99 689.392 L2328.99 672.031 Z\" fill=\"#000000\" fill-rule=\"evenodd\" fill-opacity=\"1\" /><path clip-path=\"url(#clip730)\" d=\"M2369.1 675.109 Q2365.49 675.109 2363.66 678.674 Q2361.86 682.216 2361.86 689.345 Q2361.86 696.452 2363.66 700.017 Q2365.49 703.558 2369.1 703.558 Q2372.74 703.558 2374.54 700.017 Q2376.37 696.452 2376.37 689.345 Q2376.37 682.216 2374.54 678.674 Q2372.74 675.109 2369.1 675.109 M2369.1 671.406 Q2374.91 671.406 2377.97 676.012 Q2381.05 680.595 2381.05 689.345 Q2381.05 698.072 2377.97 702.679 Q2374.91 707.262 2369.1 707.262 Q2363.29 707.262 2360.21 702.679 Q2357.16 698.072 2357.16 689.345 Q2357.16 680.595 2360.21 676.012 Q2363.29 671.406 2369.1 671.406 Z\" fill=\"#000000\" fill-rule=\"evenodd\" fill-opacity=\"1\" /><path clip-path=\"url(#clip730)\" d=\"M2399.26 675.109 Q2395.65 675.109 2393.82 678.674 Q2392.02 682.216 2392.02 689.345 Q2392.02 696.452 2393.82 700.017 Q2395.65 703.558 2399.26 703.558 Q2402.9 703.558 2404.7 700.017 Q2406.53 696.452 2406.53 689.345 Q2406.53 682.216 2404.7 678.674 Q2402.9 675.109 2399.26 675.109 M2399.26 671.406 Q2405.07 671.406 2408.13 676.012 Q2411.21 680.595 2411.21 689.345 Q2411.21 698.072 2408.13 702.679 Q2405.07 707.262 2399.26 707.262 Q2393.45 707.262 2390.38 702.679 Q2387.32 698.072 2387.32 689.345 Q2387.32 680.595 2390.38 676.012 Q2393.45 671.406 2399.26 671.406 Z\" fill=\"#000000\" fill-rule=\"evenodd\" fill-opacity=\"1\" /><path clip-path=\"url(#clip730)\" d=\"M2429.43 675.109 Q2425.82 675.109 2423.99 678.674 Q2422.18 682.216 2422.18 689.345 Q2422.18 696.452 2423.99 700.017 Q2425.82 703.558 2429.43 703.558 Q2433.06 703.558 2434.87 700.017 Q2436.69 696.452 2436.69 689.345 Q2436.69 682.216 2434.87 678.674 Q2433.06 675.109 2429.43 675.109 M2429.43 671.406 Q2435.24 671.406 2438.29 676.012 Q2441.37 680.595 2441.37 689.345 Q2441.37 698.072 2438.29 702.679 Q2435.24 707.262 2429.43 707.262 Q2423.62 707.262 2420.54 702.679 Q2417.48 698.072 2417.48 689.345 Q2417.48 680.595 2420.54 676.012 Q2423.62 671.406 2429.43 671.406 Z\" fill=\"#000000\" fill-rule=\"evenodd\" fill-opacity=\"1\" /><path clip-path=\"url(#clip730)\" d=\"M2269.43 575.894 L2277.07 575.894 L2277.07 549.528 L2268.76 551.195 L2268.76 546.936 L2277.02 545.269 L2281.7 545.269 L2281.7 575.894 L2289.33 575.894 L2289.33 579.829 L2269.43 579.829 L2269.43 575.894 Z\" fill=\"#000000\" fill-rule=\"evenodd\" fill-opacity=\"1\" /><path clip-path=\"url(#clip730)\" d=\"M2298.83 545.269 L2317.18 545.269 L2317.18 549.204 L2303.11 549.204 L2303.11 557.676 Q2304.13 557.329 2305.14 557.167 Q2306.16 556.982 2307.18 556.982 Q2312.97 556.982 2316.35 560.153 Q2319.73 563.324 2319.73 568.741 Q2319.73 574.32 2316.26 577.422 Q2312.78 580.5 2306.46 580.5 Q2304.29 580.5 2302.02 580.13 Q2299.77 579.759 2297.37 579.019 L2297.37 574.32 Q2299.45 575.454 2301.67 576.01 Q2303.89 576.565 2306.37 576.565 Q2310.38 576.565 2312.71 574.459 Q2315.05 572.352 2315.05 568.741 Q2315.05 565.13 2312.71 563.023 Q2310.38 560.917 2306.37 560.917 Q2304.5 560.917 2302.62 561.334 Q2300.77 561.75 2298.83 562.63 L2298.83 545.269 Z\" fill=\"#000000\" fill-rule=\"evenodd\" fill-opacity=\"1\" /><path clip-path=\"url(#clip730)\" d=\"M2338.94 548.348 Q2335.33 548.348 2333.5 551.912 Q2331.7 555.454 2331.7 562.584 Q2331.7 569.69 2333.5 573.255 Q2335.33 576.797 2338.94 576.797 Q2342.57 576.797 2344.38 573.255 Q2346.21 569.69 2346.21 562.584 Q2346.21 555.454 2344.38 551.912 Q2342.57 548.348 2338.94 548.348 M2338.94 544.644 Q2344.75 544.644 2347.81 549.25 Q2350.89 553.834 2350.89 562.584 Q2350.89 571.31 2347.81 575.917 Q2344.75 580.5 2338.94 580.5 Q2333.13 580.5 2330.05 575.917 Q2327 571.31 2327 562.584 Q2327 553.834 2330.05 549.25 Q2333.13 544.644 2338.94 544.644 Z\" fill=\"#000000\" fill-rule=\"evenodd\" fill-opacity=\"1\" /><path clip-path=\"url(#clip730)\" d=\"M2369.1 548.348 Q2365.49 548.348 2363.66 551.912 Q2361.86 555.454 2361.86 562.584 Q2361.86 569.69 2363.66 573.255 Q2365.49 576.797 2369.1 576.797 Q2372.74 576.797 2374.54 573.255 Q2376.37 569.69 2376.37 562.584 Q2376.37 555.454 2374.54 551.912 Q2372.74 548.348 2369.1 548.348 M2369.1 544.644 Q2374.91 544.644 2377.97 549.25 Q2381.05 553.834 2381.05 562.584 Q2381.05 571.31 2377.97 575.917 Q2374.91 580.5 2369.1 580.5 Q2363.29 580.5 2360.21 575.917 Q2357.16 571.31 2357.16 562.584 Q2357.16 553.834 2360.21 549.25 Q2363.29 544.644 2369.1 544.644 Z\" fill=\"#000000\" fill-rule=\"evenodd\" fill-opacity=\"1\" /><path clip-path=\"url(#clip730)\" d=\"M2399.26 548.348 Q2395.65 548.348 2393.82 551.912 Q2392.02 555.454 2392.02 562.584 Q2392.02 569.69 2393.82 573.255 Q2395.65 576.797 2399.26 576.797 Q2402.9 576.797 2404.7 573.255 Q2406.53 569.69 2406.53 562.584 Q2406.53 555.454 2404.7 551.912 Q2402.9 548.348 2399.26 548.348 M2399.26 544.644 Q2405.07 544.644 2408.13 549.25 Q2411.21 553.834 2411.21 562.584 Q2411.21 571.31 2408.13 575.917 Q2405.07 580.5 2399.26 580.5 Q2393.45 580.5 2390.38 575.917 Q2387.32 571.31 2387.32 562.584 Q2387.32 553.834 2390.38 549.25 Q2393.45 544.644 2399.26 544.644 Z\" fill=\"#000000\" fill-rule=\"evenodd\" fill-opacity=\"1\" /><path clip-path=\"url(#clip730)\" d=\"M2429.43 548.348 Q2425.82 548.348 2423.99 551.912 Q2422.18 555.454 2422.18 562.584 Q2422.18 569.69 2423.99 573.255 Q2425.82 576.797 2429.43 576.797 Q2433.06 576.797 2434.87 573.255 Q2436.69 569.69 2436.69 562.584 Q2436.69 555.454 2434.87 551.912 Q2433.06 548.348 2429.43 548.348 M2429.43 544.644 Q2435.24 544.644 2438.29 549.25 Q2441.37 553.834 2441.37 562.584 Q2441.37 571.31 2438.29 575.917 Q2435.24 580.5 2429.43 580.5 Q2423.62 580.5 2420.54 575.917 Q2417.48 571.31 2417.48 562.584 Q2417.48 553.834 2420.54 549.25 Q2423.62 544.644 2429.43 544.644 Z\" fill=\"#000000\" fill-rule=\"evenodd\" fill-opacity=\"1\" /><path clip-path=\"url(#clip730)\" d=\"M2269.43 449.132 L2277.07 449.132 L2277.07 422.766 L2268.76 424.433 L2268.76 420.174 L2277.02 418.507 L2281.7 418.507 L2281.7 449.132 L2289.33 449.132 L2289.33 453.067 L2269.43 453.067 L2269.43 449.132 Z\" fill=\"#000000\" fill-rule=\"evenodd\" fill-opacity=\"1\" /><path clip-path=\"url(#clip730)\" d=\"M2297.6 418.507 L2319.82 418.507 L2319.82 420.498 L2307.27 453.067 L2302.39 453.067 L2314.2 422.442 L2297.6 422.442 L2297.6 418.507 Z\" fill=\"#000000\" fill-rule=\"evenodd\" fill-opacity=\"1\" /><path clip-path=\"url(#clip730)\" d=\"M2328.99 418.507 L2347.34 418.507 L2347.34 422.442 L2333.27 422.442 L2333.27 430.915 Q2334.29 430.567 2335.31 430.405 Q2336.32 430.22 2337.34 430.22 Q2343.13 430.22 2346.51 433.391 Q2349.89 436.563 2349.89 441.979 Q2349.89 447.558 2346.42 450.66 Q2342.95 453.738 2336.63 453.738 Q2334.45 453.738 2332.18 453.368 Q2329.94 452.998 2327.53 452.257 L2327.53 447.558 Q2329.61 448.692 2331.83 449.248 Q2334.06 449.803 2336.53 449.803 Q2340.54 449.803 2342.88 447.697 Q2345.21 445.59 2345.21 441.979 Q2345.21 438.368 2342.88 436.262 Q2340.54 434.155 2336.53 434.155 Q2334.66 434.155 2332.78 434.572 Q2330.93 434.989 2328.99 435.868 L2328.99 418.507 Z\" fill=\"#000000\" fill-rule=\"evenodd\" fill-opacity=\"1\" /><path clip-path=\"url(#clip730)\" d=\"M2369.1 421.586 Q2365.49 421.586 2363.66 425.151 Q2361.86 428.692 2361.86 435.822 Q2361.86 442.928 2363.66 446.493 Q2365.49 450.035 2369.1 450.035 Q2372.74 450.035 2374.54 446.493 Q2376.37 442.928 2376.37 435.822 Q2376.37 428.692 2374.54 425.151 Q2372.74 421.586 2369.1 421.586 M2369.1 417.882 Q2374.91 417.882 2377.97 422.489 Q2381.05 427.072 2381.05 435.822 Q2381.05 444.549 2377.97 449.155 Q2374.91 453.738 2369.1 453.738 Q2363.29 453.738 2360.21 449.155 Q2357.16 444.549 2357.16 435.822 Q2357.16 427.072 2360.21 422.489 Q2363.29 417.882 2369.1 417.882 Z\" fill=\"#000000\" fill-rule=\"evenodd\" fill-opacity=\"1\" /><path clip-path=\"url(#clip730)\" d=\"M2399.26 421.586 Q2395.65 421.586 2393.82 425.151 Q2392.02 428.692 2392.02 435.822 Q2392.02 442.928 2393.82 446.493 Q2395.65 450.035 2399.26 450.035 Q2402.9 450.035 2404.7 446.493 Q2406.53 442.928 2406.53 435.822 Q2406.53 428.692 2404.7 425.151 Q2402.9 421.586 2399.26 421.586 M2399.26 417.882 Q2405.07 417.882 2408.13 422.489 Q2411.21 427.072 2411.21 435.822 Q2411.21 444.549 2408.13 449.155 Q2405.07 453.738 2399.26 453.738 Q2393.45 453.738 2390.38 449.155 Q2387.32 444.549 2387.32 435.822 Q2387.32 427.072 2390.38 422.489 Q2393.45 417.882 2399.26 417.882 Z\" fill=\"#000000\" fill-rule=\"evenodd\" fill-opacity=\"1\" /><path clip-path=\"url(#clip730)\" d=\"M2429.43 421.586 Q2425.82 421.586 2423.99 425.151 Q2422.18 428.692 2422.18 435.822 Q2422.18 442.928 2423.99 446.493 Q2425.82 450.035 2429.43 450.035 Q2433.06 450.035 2434.87 446.493 Q2436.69 442.928 2436.69 435.822 Q2436.69 428.692 2434.87 425.151 Q2433.06 421.586 2429.43 421.586 M2429.43 417.882 Q2435.24 417.882 2438.29 422.489 Q2441.37 427.072 2441.37 435.822 Q2441.37 444.549 2438.29 449.155 Q2435.24 453.738 2429.43 453.738 Q2423.62 453.738 2420.54 449.155 Q2417.48 444.549 2417.48 435.822 Q2417.48 427.072 2420.54 422.489 Q2423.62 417.882 2429.43 417.882 Z\" fill=\"#000000\" fill-rule=\"evenodd\" fill-opacity=\"1\" /><path clip-path=\"url(#clip730)\" d=\"M2274.38 322.37 L2290.7 322.37 L2290.7 326.305 L2268.76 326.305 L2268.76 322.37 Q2271.42 319.616 2276 314.986 Q2280.61 310.333 2281.79 308.991 Q2284.03 306.468 2284.91 304.731 Q2285.82 302.972 2285.82 301.282 Q2285.82 298.528 2283.87 296.792 Q2281.95 295.056 2278.85 295.056 Q2276.65 295.056 2274.2 295.819 Q2271.77 296.583 2268.99 298.134 L2268.99 293.412 Q2271.81 292.278 2274.27 291.699 Q2276.72 291.12 2278.76 291.12 Q2284.13 291.12 2287.32 293.806 Q2290.52 296.491 2290.52 300.981 Q2290.52 303.111 2289.7 305.032 Q2288.92 306.93 2286.81 309.523 Q2286.23 310.194 2283.13 313.412 Q2280.03 316.606 2274.38 322.37 Z\" fill=\"#000000\" fill-rule=\"evenodd\" fill-opacity=\"1\" /><path clip-path=\"url(#clip730)\" d=\"M2310.51 294.824 Q2306.9 294.824 2305.08 298.389 Q2303.27 301.931 2303.27 309.06 Q2303.27 316.167 2305.08 319.731 Q2306.9 323.273 2310.51 323.273 Q2314.15 323.273 2315.95 319.731 Q2317.78 316.167 2317.78 309.06 Q2317.78 301.931 2315.95 298.389 Q2314.15 294.824 2310.51 294.824 M2310.51 291.12 Q2316.33 291.12 2319.38 295.727 Q2322.46 300.31 2322.46 309.06 Q2322.46 317.787 2319.38 322.393 Q2316.33 326.977 2310.51 326.977 Q2304.7 326.977 2301.63 322.393 Q2298.57 317.787 2298.57 309.06 Q2298.57 300.31 2301.63 295.727 Q2304.7 291.12 2310.51 291.12 Z\" fill=\"#000000\" fill-rule=\"evenodd\" fill-opacity=\"1\" /><path clip-path=\"url(#clip730)\" d=\"M2340.68 294.824 Q2337.07 294.824 2335.24 298.389 Q2333.43 301.931 2333.43 309.06 Q2333.43 316.167 2335.24 319.731 Q2337.07 323.273 2340.68 323.273 Q2344.31 323.273 2346.12 319.731 Q2347.95 316.167 2347.95 309.06 Q2347.95 301.931 2346.12 298.389 Q2344.31 294.824 2340.68 294.824 M2340.68 291.12 Q2346.49 291.12 2349.54 295.727 Q2352.62 300.31 2352.62 309.06 Q2352.62 317.787 2349.54 322.393 Q2346.49 326.977 2340.68 326.977 Q2334.87 326.977 2331.79 322.393 Q2328.73 317.787 2328.73 309.06 Q2328.73 300.31 2331.79 295.727 Q2334.87 291.12 2340.68 291.12 Z\" fill=\"#000000\" fill-rule=\"evenodd\" fill-opacity=\"1\" /><path clip-path=\"url(#clip730)\" d=\"M2370.84 294.824 Q2367.23 294.824 2365.4 298.389 Q2363.59 301.931 2363.59 309.06 Q2363.59 316.167 2365.4 319.731 Q2367.23 323.273 2370.84 323.273 Q2374.47 323.273 2376.28 319.731 Q2378.11 316.167 2378.11 309.06 Q2378.11 301.931 2376.28 298.389 Q2374.47 294.824 2370.84 294.824 M2370.84 291.12 Q2376.65 291.12 2379.7 295.727 Q2382.78 300.31 2382.78 309.06 Q2382.78 317.787 2379.7 322.393 Q2376.65 326.977 2370.84 326.977 Q2365.03 326.977 2361.95 322.393 Q2358.89 317.787 2358.89 309.06 Q2358.89 300.31 2361.95 295.727 Q2365.03 291.12 2370.84 291.12 Z\" fill=\"#000000\" fill-rule=\"evenodd\" fill-opacity=\"1\" /><path clip-path=\"url(#clip730)\" d=\"M2401 294.824 Q2397.39 294.824 2395.56 298.389 Q2393.76 301.931 2393.76 309.06 Q2393.76 316.167 2395.56 319.731 Q2397.39 323.273 2401 323.273 Q2404.63 323.273 2406.44 319.731 Q2408.27 316.167 2408.27 309.06 Q2408.27 301.931 2406.44 298.389 Q2404.63 294.824 2401 294.824 M2401 291.12 Q2406.81 291.12 2409.87 295.727 Q2412.94 300.31 2412.94 309.06 Q2412.94 317.787 2409.87 322.393 Q2406.81 326.977 2401 326.977 Q2395.19 326.977 2392.11 322.393 Q2389.06 317.787 2389.06 309.06 Q2389.06 300.31 2392.11 295.727 Q2395.19 291.12 2401 291.12 Z\" fill=\"#000000\" fill-rule=\"evenodd\" fill-opacity=\"1\" /><path clip-path=\"url(#clip730)\" d=\"M2431.16 294.824 Q2427.55 294.824 2425.72 298.389 Q2423.92 301.931 2423.92 309.06 Q2423.92 316.167 2425.72 319.731 Q2427.55 323.273 2431.16 323.273 Q2434.8 323.273 2436.6 319.731 Q2438.43 316.167 2438.43 309.06 Q2438.43 301.931 2436.6 298.389 Q2434.8 294.824 2431.16 294.824 M2431.16 291.12 Q2436.97 291.12 2440.03 295.727 Q2443.11 300.31 2443.11 309.06 Q2443.11 317.787 2440.03 322.393 Q2436.97 326.977 2431.16 326.977 Q2425.35 326.977 2422.27 322.393 Q2419.22 317.787 2419.22 309.06 Q2419.22 300.31 2422.27 295.727 Q2425.35 291.12 2431.16 291.12 Z\" fill=\"#000000\" fill-rule=\"evenodd\" fill-opacity=\"1\" /><polyline clip-path=\"url(#clip730)\" style=\"stroke:#000000; stroke-linecap:butt; stroke-linejoin:round; stroke-width:4; stroke-opacity:1; fill:none\" points=\"\n",
       "  2232.76,1307.63 2232.76,1199.99 2256.76,1199.99 2232.76,1199.99 2232.76,1073.22 2256.76,1073.22 2232.76,1073.22 2232.76,946.463 2256.76,946.463 2232.76,946.463 \n",
       "  2232.76,819.701 2256.76,819.701 2232.76,819.701 2232.76,692.94 2256.76,692.94 2232.76,692.94 2232.76,566.178 2256.76,566.178 2232.76,566.178 2232.76,439.416 \n",
       "  2256.76,439.416 2232.76,439.416 2232.76,312.654 2256.76,312.654 2232.76,312.654 2232.76,292.372 \n",
       "  \"/>\n",
       "</svg>\n"
      ]
     },
     "execution_count": 18,
     "metadata": {},
     "output_type": "execute_result"
    }
   ],
   "source": [
    "xs = ys = range(-lₘₓ,lₘₓ, length=100)\n",
    "plot1 = surface(xs, ys, E1discont2, c=:diverging_bwr_40_95_c42_n256, axis = nothing, showaxis =false,aspect_ratio=:equal, camera=(0,90))\n",
    "plot2 = surface(xs, ys, C₁₁, c=:diverging_bwr_40_95_c42_n256, axis = nothing, showaxis =false,aspect_ratio=:equal,camera=(0,90))\n",
    "plot(plot1,plot2)"
   ]
  },
  {
   "cell_type": "code",
   "execution_count": 19,
   "id": "bdcf8edb",
   "metadata": {},
   "outputs": [
    {
     "data": {
      "text/latex": [
       "$68000.0$"
      ],
      "text/plain": [
       "68000.0000000000"
      ]
     },
     "execution_count": 19,
     "metadata": {},
     "output_type": "execute_result"
    }
   ],
   "source": [
    "C₁₂ₘ = λₘ\n",
    "C₁₂ᵢ = λᵢ"
   ]
  },
  {
   "cell_type": "code",
   "execution_count": 20,
   "id": "270d0ebf",
   "metadata": {},
   "outputs": [
    {
     "data": {
      "text/plain": [
       "E2y (generic function with 1 method)"
      ]
     },
     "execution_count": 20,
     "metadata": {},
     "output_type": "execute_result"
    }
   ],
   "source": [
    "E2x(x,ax,bx) = sqrt(C₁₂ᵢ - C₁₂ₘ) * interval(x,ax,bx) \n",
    "E2y(y,ay,by) = sqrt(C₁₂ᵢ - C₁₂ₘ) * interval(y,ay,by) "
   ]
  },
  {
   "cell_type": "code",
   "execution_count": 21,
   "id": "1b7c8211",
   "metadata": {},
   "outputs": [
    {
     "data": {
      "text/latex": [
       "$39.8942280401433 \\left(- 128.508141184698 \\operatorname{sign}{\\left(x₁ - 0.42966892442366 \\right)} + 128.508141184698 \\operatorname{sign}{\\left(x₁ + 0.42966892442366 \\right)}\\right) e^{- 5000.0 \\left(x - x₁\\right)^{2}}$"
      ],
      "text/plain": [
       "                                                                              \n",
       "                                                                              \n",
       "39.8942280401433⋅(-128.508141184698⋅sign(x₁ - 0.42966892442366) + 128.50814118\n",
       "\n",
       "                                                   2\n",
       "                                   -5000.0⋅(x - x₁) \n",
       "4698⋅sign(x₁ + 0.42966892442366))⋅ℯ                 "
      ]
     },
     "execution_count": 21,
     "metadata": {},
     "output_type": "execute_result"
    }
   ],
   "source": [
    "IF2x1 = E2x(x₁,-lₙₓ,lₙₓ)*wₕ(x,x₁)\n",
    "IF2x2 = E2x(x₁,-lₐₓ,lₐₓ)*wₕ(x,x₁)"
   ]
  },
  {
   "cell_type": "code",
   "execution_count": 22,
   "id": "9498d2ae",
   "metadata": {},
   "outputs": [
    {
     "data": {
      "text/latex": [
       "$39.8942280401433 \\left(- 128.508141184698 \\operatorname{sign}{\\left(y₁ - 0.42966892442366 \\right)} + 128.508141184698 \\operatorname{sign}{\\left(y₁ - 0.322251693317745 \\right)}\\right) e^{- 5000.0 \\left(y - y₁\\right)^{2}}$"
      ],
      "text/plain": [
       "                                                                              \n",
       "                                                                              \n",
       "39.8942280401433⋅(-128.508141184698⋅sign(y₁ - 0.42966892442366) + 128.50814118\n",
       "\n",
       "                                                    2\n",
       "                                    -5000.0⋅(y - y₁) \n",
       "4698⋅sign(y₁ - 0.322251693317745))⋅ℯ                 "
      ]
     },
     "execution_count": 22,
     "metadata": {},
     "output_type": "execute_result"
    }
   ],
   "source": [
    "IF2y1 = E2y(y₁,-lₙₓ,lₙₓ)*wₕ(y,y₁)\n",
    "IF2y2 = E2y(y₁,-lₐₓ,-lₙₓ)*wₕ(y,y₁)\n",
    "IF2y3 = E2y(y₁,lₙₓ,lₐₓ)*wₕ(y,y₁)"
   ]
  },
  {
   "cell_type": "code",
   "execution_count": 23,
   "id": "47d09258",
   "metadata": {},
   "outputs": [
    {
     "data": {
      "text/latex": [
       "$\\left(- 72.502954657491 \\sqrt{\\pi} \\operatorname{erf}{\\left(70.7106781186548 x - 30.38218101251 \\right)} + 72.502954657491 \\sqrt{\\pi} \\operatorname{erf}{\\left(70.7106781186548 x + 30.38218101251 \\right)}\\right) \\left(- 72.502954657491 \\sqrt{\\pi} \\operatorname{erf}{\\left(70.7106781186548 y - 30.38218101251 \\right)} + 72.502954657491 \\sqrt{\\pi} \\operatorname{erf}{\\left(70.7106781186548 y - 22.7866357593825 \\right)}\\right)$"
      ],
      "text/plain": [
       "(-72.502954657491⋅√π⋅erf(70.7106781186548⋅x - 30.38218101251) + 72.50295465749\n",
       "1⋅√π⋅erf(70.7106781186548⋅x + 30.38218101251))⋅(-72.502954657491⋅√π⋅erf(70.710\n",
       "6781186548⋅y - 30.38218101251) + 72.502954657491⋅√π⋅erf(70.7106781186548⋅y - 2\n",
       "2.7866357593825))"
      ]
     },
     "execution_count": 23,
     "metadata": {},
     "output_type": "execute_result"
    }
   ],
   "source": [
    "smooth2E1 = integrate(IF2x1,(x₁,-lₘₓ,lₘₓ))*integrate(IF2y1,(y₁,-lₘₓ,lₘₓ))\n",
    "smooth2E2 = integrate(IF2x2,(x₁,-lₘₓ,lₘₓ))*integrate(IF2y2,(y₁,-lₘₓ,lₘₓ))\n",
    "smooth2E3 = integrate(IF2x2,(x₁,-lₘₓ,lₘₓ))*integrate(IF2y3,(y₁,-lₘₓ,lₘₓ))"
   ]
  },
  {
   "cell_type": "code",
   "execution_count": 24,
   "id": "751aa704",
   "metadata": {
    "scrolled": true
   },
   "outputs": [
    {
     "data": {
      "text/latex": [
       "$\\left(- 72.502954657491 \\sqrt{\\pi} \\operatorname{erf}{\\left(70.7106781186548 x - 30.38218101251 \\right)} + 72.502954657491 \\sqrt{\\pi} \\operatorname{erf}{\\left(70.7106781186548 x + 30.38218101251 \\right)}\\right) \\left(- 72.502954657491 \\sqrt{\\pi} \\operatorname{erf}{\\left(70.7106781186548 y - 30.38218101251 \\right)} + 72.502954657491 \\sqrt{\\pi} \\operatorname{erf}{\\left(70.7106781186548 y - 22.7866357593825 \\right)}\\right) + \\left(- 72.502954657491 \\sqrt{\\pi} \\operatorname{erf}{\\left(70.7106781186548 x - 30.38218101251 \\right)} + 72.502954657491 \\sqrt{\\pi} \\operatorname{erf}{\\left(70.7106781186548 x + 30.38218101251 \\right)}\\right) \\left(- 72.502954657491 \\sqrt{\\pi} \\operatorname{erf}{\\left(70.7106781186548 y + 22.7866357593825 \\right)} + 72.502954657491 \\sqrt{\\pi} \\operatorname{erf}{\\left(70.7106781186548 y + 30.38218101251 \\right)}\\right) + \\left(- 72.502954657491 \\sqrt{\\pi} \\operatorname{erf}{\\left(70.7106781186548 x - 22.7866357593825 \\right)} + 72.502954657491 \\sqrt{\\pi} \\operatorname{erf}{\\left(70.7106781186548 x + 22.7866357593825 \\right)}\\right) \\left(- 72.502954657491 \\sqrt{\\pi} \\operatorname{erf}{\\left(70.7106781186548 y - 22.7866357593825 \\right)} + 72.502954657491 \\sqrt{\\pi} \\operatorname{erf}{\\left(70.7106781186548 y + 22.7866357593825 \\right)}\\right) + 1942.63059701493$"
      ],
      "text/plain": [
       "(-72.502954657491⋅√π⋅erf(70.7106781186548⋅x - 30.38218101251) + 72.50295465749\n",
       "1⋅√π⋅erf(70.7106781186548⋅x + 30.38218101251))⋅(-72.502954657491⋅√π⋅erf(70.710\n",
       "6781186548⋅y - 30.38218101251) + 72.502954657491⋅√π⋅erf(70.7106781186548⋅y - 2\n",
       "2.7866357593825)) + (-72.502954657491⋅√π⋅erf(70.7106781186548⋅x - 30.382181012\n",
       "51) + 72.502954657491⋅√π⋅erf(70.7106781186548⋅x + 30.38218101251))⋅(-72.502954\n",
       "657491⋅√π⋅erf(70.7106781186548⋅y + 22.7866357593825) + 72.502954657491⋅√π⋅erf(\n",
       "70.7106781186548⋅y + 30.38218101251)) + (-72.502954657491⋅√π⋅erf(70.7106781186\n",
       "548⋅x - 22.7866357593825) + 72.502954657491⋅√π⋅erf(70.7106781186548⋅x + 22.786\n",
       "6357593825))⋅(-72.502954657491⋅√π⋅erf(70.7106781186548⋅y - 22.7866357593825) +\n",
       " 72.502954657491⋅√π⋅erf(70.7106781186548⋅y + 22.7866357593825)) + 1942.6305970\n",
       "1493"
      ]
     },
     "execution_count": 24,
     "metadata": {},
     "output_type": "execute_result"
    }
   ],
   "source": [
    "C₁₂ = smooth2E1 + smooth2E2 + smooth2E3 + C₁₂ₘ"
   ]
  },
  {
   "cell_type": "code",
   "execution_count": 25,
   "id": "a44f04e8",
   "metadata": {},
   "outputs": [
    {
     "data": {
      "text/latex": [
       "$136000.0$"
      ],
      "text/plain": [
       "136000.000000000"
      ]
     },
     "execution_count": 25,
     "metadata": {},
     "output_type": "execute_result"
    }
   ],
   "source": [
    "C₆₆ₘ = Gₘ\n",
    "C₆₆ᵢ = Gᵢ"
   ]
  },
  {
   "cell_type": "code",
   "execution_count": 26,
   "id": "cd32d9e9",
   "metadata": {},
   "outputs": [
    {
     "data": {
      "text/plain": [
       "E3y (generic function with 1 method)"
      ]
     },
     "execution_count": 26,
     "metadata": {},
     "output_type": "execute_result"
    }
   ],
   "source": [
    "E3x(x,ax,bx) = sqrt(C₆₆ᵢ - C₆₆ₘ) * interval(x,ax,bx) \n",
    "E3y(y,ay,by) = sqrt(C₆₆ᵢ - C₆₆ₘ) * interval(y,ay,by) "
   ]
  },
  {
   "cell_type": "code",
   "execution_count": 27,
   "id": "400387ab",
   "metadata": {},
   "outputs": [
    {
     "data": {
      "text/latex": [
       "$39.8942280401433 \\left(- 183.147237073785 \\operatorname{sign}{\\left(x₁ - 0.42966892442366 \\right)} + 183.147237073785 \\operatorname{sign}{\\left(x₁ + 0.42966892442366 \\right)}\\right) e^{- 5000.0 \\left(x - x₁\\right)^{2}}$"
      ],
      "text/plain": [
       "                                                                              \n",
       "                                                                              \n",
       "39.8942280401433⋅(-183.147237073785⋅sign(x₁ - 0.42966892442366) + 183.14723707\n",
       "\n",
       "                                                   2\n",
       "                                   -5000.0⋅(x - x₁) \n",
       "3785⋅sign(x₁ + 0.42966892442366))⋅ℯ                 "
      ]
     },
     "execution_count": 27,
     "metadata": {},
     "output_type": "execute_result"
    }
   ],
   "source": [
    "IF3x1 = E3x(x₁,-lₙₓ,lₙₓ)*wₕ(x,x₁)\n",
    "IF3x2 = E3x(x₁,-lₐₓ,lₐₓ)*wₕ(x,x₁)"
   ]
  },
  {
   "cell_type": "code",
   "execution_count": 28,
   "id": "15d98972",
   "metadata": {},
   "outputs": [
    {
     "data": {
      "text/latex": [
       "$39.8942280401433 \\left(- 183.147237073785 \\operatorname{sign}{\\left(y₁ - 0.42966892442366 \\right)} + 183.147237073785 \\operatorname{sign}{\\left(y₁ - 0.322251693317745 \\right)}\\right) e^{- 5000.0 \\left(y - y₁\\right)^{2}}$"
      ],
      "text/plain": [
       "                                                                              \n",
       "                                                                              \n",
       "39.8942280401433⋅(-183.147237073785⋅sign(y₁ - 0.42966892442366) + 183.14723707\n",
       "\n",
       "                                                    2\n",
       "                                    -5000.0⋅(y - y₁) \n",
       "3785⋅sign(y₁ - 0.322251693317745))⋅ℯ                 "
      ]
     },
     "execution_count": 28,
     "metadata": {},
     "output_type": "execute_result"
    }
   ],
   "source": [
    "IF3y1 = E3y(y₁,-lₙₓ,lₙₓ)*wₕ(y,y₁)\n",
    "IF3y2 = E3y(y₁,-lₐₓ,-lₙₓ)*wₕ(y,y₁)\n",
    "IF3y3 = E3y(y₁,lₙₓ,lₐₓ)*wₕ(y,y₁)"
   ]
  },
  {
   "cell_type": "code",
   "execution_count": 29,
   "id": "78be1c40",
   "metadata": {},
   "outputs": [
    {
     "data": {
      "text/latex": [
       "$\\left(- 103.329763412581 \\sqrt{\\pi} \\operatorname{erf}{\\left(70.7106781186548 x - 30.38218101251 \\right)} + 103.329763412581 \\sqrt{\\pi} \\operatorname{erf}{\\left(70.7106781186548 x + 30.38218101251 \\right)}\\right) \\left(- 103.329763412581 \\sqrt{\\pi} \\operatorname{erf}{\\left(70.7106781186548 y - 30.38218101251 \\right)} + 103.329763412581 \\sqrt{\\pi} \\operatorname{erf}{\\left(70.7106781186548 y - 22.7866357593825 \\right)}\\right)$"
      ],
      "text/plain": [
       "(-103.329763412581⋅√π⋅erf(70.7106781186548⋅x - 30.38218101251) + 103.329763412\n",
       "581⋅√π⋅erf(70.7106781186548⋅x + 30.38218101251))⋅(-103.329763412581⋅√π⋅erf(70.\n",
       "7106781186548⋅y - 30.38218101251) + 103.329763412581⋅√π⋅erf(70.7106781186548⋅y\n",
       " - 22.7866357593825))"
      ]
     },
     "execution_count": 29,
     "metadata": {},
     "output_type": "execute_result"
    }
   ],
   "source": [
    "smooth3E1 = integrate(IF3x1,(x₁,-lₘₓ,lₘₓ))*integrate(IF3y1,(y₁,-lₘₓ,lₘₓ))\n",
    "smooth3E2 = integrate(IF3x2,(x₁,-lₘₓ,lₘₓ))*integrate(IF3y2,(y₁,-lₘₓ,lₘₓ))\n",
    "smooth3E3 = integrate(IF3x2,(x₁,-lₘₓ,lₘₓ))*integrate(IF3y3,(y₁,-lₘₓ,lₘₓ))"
   ]
  },
  {
   "cell_type": "code",
   "execution_count": 30,
   "id": "91f5f066",
   "metadata": {},
   "outputs": [
    {
     "data": {
      "text/latex": [
       "$\\left(- 103.329763412581 \\sqrt{\\pi} \\operatorname{erf}{\\left(70.7106781186548 x - 30.38218101251 \\right)} + 103.329763412581 \\sqrt{\\pi} \\operatorname{erf}{\\left(70.7106781186548 x + 30.38218101251 \\right)}\\right) \\left(- 103.329763412581 \\sqrt{\\pi} \\operatorname{erf}{\\left(70.7106781186548 y - 30.38218101251 \\right)} + 103.329763412581 \\sqrt{\\pi} \\operatorname{erf}{\\left(70.7106781186548 y - 22.7866357593825 \\right)}\\right) + \\left(- 103.329763412581 \\sqrt{\\pi} \\operatorname{erf}{\\left(70.7106781186548 x - 30.38218101251 \\right)} + 103.329763412581 \\sqrt{\\pi} \\operatorname{erf}{\\left(70.7106781186548 x + 30.38218101251 \\right)}\\right) \\left(- 103.329763412581 \\sqrt{\\pi} \\operatorname{erf}{\\left(70.7106781186548 y + 22.7866357593825 \\right)} + 103.329763412581 \\sqrt{\\pi} \\operatorname{erf}{\\left(70.7106781186548 y + 30.38218101251 \\right)}\\right) + \\left(- 103.329763412581 \\sqrt{\\pi} \\operatorname{erf}{\\left(70.7106781186548 x - 22.7866357593825 \\right)} + 103.329763412581 \\sqrt{\\pi} \\operatorname{erf}{\\left(70.7106781186548 x + 22.7866357593825 \\right)}\\right) \\left(- 103.329763412581 \\sqrt{\\pi} \\operatorname{erf}{\\left(70.7106781186548 y - 22.7866357593825 \\right)} + 103.329763412581 \\sqrt{\\pi} \\operatorname{erf}{\\left(70.7106781186548 y + 22.7866357593825 \\right)}\\right) + 1828.35820895522$"
      ],
      "text/plain": [
       "(-103.329763412581⋅√π⋅erf(70.7106781186548⋅x - 30.38218101251) + 103.329763412\n",
       "581⋅√π⋅erf(70.7106781186548⋅x + 30.38218101251))⋅(-103.329763412581⋅√π⋅erf(70.\n",
       "7106781186548⋅y - 30.38218101251) + 103.329763412581⋅√π⋅erf(70.7106781186548⋅y\n",
       " - 22.7866357593825)) + (-103.329763412581⋅√π⋅erf(70.7106781186548⋅x - 30.3821\n",
       "8101251) + 103.329763412581⋅√π⋅erf(70.7106781186548⋅x + 30.38218101251))⋅(-103\n",
       ".329763412581⋅√π⋅erf(70.7106781186548⋅y + 22.7866357593825) + 103.329763412581\n",
       "⋅√π⋅erf(70.7106781186548⋅y + 30.38218101251)) + (-103.329763412581⋅√π⋅erf(70.7\n",
       "106781186548⋅x - 22.7866357593825) + 103.329763412581⋅√π⋅erf(70.7106781186548⋅\n",
       "x + 22.7866357593825))⋅(-103.329763412581⋅√π⋅erf(70.7106781186548⋅y - 22.78663\n",
       "57593825) + 103.329763412581⋅√π⋅erf(70.7106781186548⋅y + 22.7866357593825)) + \n",
       "1828.35820895522"
      ]
     },
     "execution_count": 30,
     "metadata": {},
     "output_type": "execute_result"
    }
   ],
   "source": [
    "C₆₆ = smooth3E1 + smooth3E2 + smooth3E3 + C₆₆ₘ"
   ]
  },
  {
   "cell_type": "code",
   "execution_count": 31,
   "id": "462ee3e9",
   "metadata": {},
   "outputs": [
    {
     "data": {
      "text/plain": [
       "20"
      ]
     },
     "execution_count": 31,
     "metadata": {},
     "output_type": "execute_result"
    }
   ],
   "source": [
    "e₁₁ₘ = 0\n",
    "e₁₁ᵢ = 20"
   ]
  },
  {
   "cell_type": "code",
   "execution_count": 32,
   "id": "0ea5ed39",
   "metadata": {},
   "outputs": [
    {
     "data": {
      "text/plain": [
       "D1y (generic function with 1 method)"
      ]
     },
     "execution_count": 32,
     "metadata": {},
     "output_type": "execute_result"
    }
   ],
   "source": [
    "D1x(x,ax,bx) = sqrt(e₁₁ᵢ - e₁₁ₘ) * interval(x,ax,bx) \n",
    "D1y(y,ay,by) = sqrt(e₁₁ᵢ - e₁₁ₘ) * interval(y,ay,by) "
   ]
  },
  {
   "cell_type": "code",
   "execution_count": 33,
   "id": "44b5ba7a",
   "metadata": {},
   "outputs": [
    {
     "data": {
      "text/latex": [
       "$39.8942280401433 \\left(- 2.23606797749979 \\operatorname{sign}{\\left(x₁ - 0.42966892442366 \\right)} + 2.23606797749979 \\operatorname{sign}{\\left(x₁ + 0.42966892442366 \\right)}\\right) e^{- 5000.0 \\left(x - x₁\\right)^{2}}$"
      ],
      "text/plain": [
       "                                                                              \n",
       "                                                                              \n",
       "39.8942280401433⋅(-2.23606797749979⋅sign(x₁ - 0.42966892442366) + 2.2360679774\n",
       "\n",
       "                                                   2\n",
       "                                   -5000.0⋅(x - x₁) \n",
       "9979⋅sign(x₁ + 0.42966892442366))⋅ℯ                 "
      ]
     },
     "execution_count": 33,
     "metadata": {},
     "output_type": "execute_result"
    }
   ],
   "source": [
    "ID1x1 = D1x(x₁,-lₙₓ,lₙₓ)*wₕ(x,x₁)\n",
    "ID1x2 = D1x(x₁,-lₐₓ,lₐₓ)*wₕ(x,x₁)"
   ]
  },
  {
   "cell_type": "code",
   "execution_count": 34,
   "id": "11ce7a6a",
   "metadata": {},
   "outputs": [
    {
     "data": {
      "text/latex": [
       "$39.8942280401433 \\left(- 2.23606797749979 \\operatorname{sign}{\\left(y₁ - 0.42966892442366 \\right)} + 2.23606797749979 \\operatorname{sign}{\\left(y₁ - 0.322251693317745 \\right)}\\right) e^{- 5000.0 \\left(y - y₁\\right)^{2}}$"
      ],
      "text/plain": [
       "                                                                              \n",
       "                                                                              \n",
       "39.8942280401433⋅(-2.23606797749979⋅sign(y₁ - 0.42966892442366) + 2.2360679774\n",
       "\n",
       "                                                    2\n",
       "                                    -5000.0⋅(y - y₁) \n",
       "9979⋅sign(y₁ - 0.322251693317745))⋅ℯ                 "
      ]
     },
     "execution_count": 34,
     "metadata": {},
     "output_type": "execute_result"
    }
   ],
   "source": [
    "ID1y1 = D1y(y₁,-lₙₓ,lₙₓ)*wₕ(y,y₁)\n",
    "ID1y2 = D1y(y₁,-lₐₓ,-lₙₓ)*wₕ(y,y₁)\n",
    "ID1y3 = D1y(y₁,lₙₓ,lₐₓ)*wₕ(y,y₁)"
   ]
  },
  {
   "cell_type": "code",
   "execution_count": 35,
   "id": "eed94e10",
   "metadata": {},
   "outputs": [
    {
     "data": {
      "text/latex": [
       "$\\left(- 1.26156626101008 \\sqrt{\\pi} \\operatorname{erf}{\\left(70.7106781186548 x - 30.38218101251 \\right)} + 1.26156626101008 \\sqrt{\\pi} \\operatorname{erf}{\\left(70.7106781186548 x + 30.38218101251 \\right)}\\right) \\left(- 1.26156626101008 \\sqrt{\\pi} \\operatorname{erf}{\\left(70.7106781186548 y - 30.38218101251 \\right)} + 1.26156626101008 \\sqrt{\\pi} \\operatorname{erf}{\\left(70.7106781186548 y - 22.7866357593825 \\right)}\\right)$"
      ],
      "text/plain": [
       "(-1.26156626101008⋅√π⋅erf(70.7106781186548⋅x - 30.38218101251) + 1.26156626101\n",
       "008⋅√π⋅erf(70.7106781186548⋅x + 30.38218101251))⋅(-1.26156626101008⋅√π⋅erf(70.\n",
       "7106781186548⋅y - 30.38218101251) + 1.26156626101008⋅√π⋅erf(70.7106781186548⋅y\n",
       " - 22.7866357593825))"
      ]
     },
     "execution_count": 35,
     "metadata": {},
     "output_type": "execute_result"
    }
   ],
   "source": [
    "smooth1D1 = integrate(ID1x1,(x₁,-lₘₓ,lₘₓ))*integrate(ID1y1,(y₁,-lₘₓ,lₘₓ))\n",
    "smooth1D2 = integrate(ID1x2,(x₁,-lₘₓ,lₘₓ))*integrate(ID1y2,(y₁,-lₘₓ,lₘₓ))\n",
    "smooth1D3 = integrate(ID1x2,(x₁,-lₘₓ,lₘₓ))*integrate(ID1y3,(y₁,-lₘₓ,lₘₓ))"
   ]
  },
  {
   "cell_type": "code",
   "execution_count": 36,
   "id": "e48fde62",
   "metadata": {},
   "outputs": [
    {
     "data": {
      "text/latex": [
       "$\\left(- 1.26156626101008 \\sqrt{\\pi} \\operatorname{erf}{\\left(70.7106781186548 x - 30.38218101251 \\right)} + 1.26156626101008 \\sqrt{\\pi} \\operatorname{erf}{\\left(70.7106781186548 x + 30.38218101251 \\right)}\\right) \\left(- 1.26156626101008 \\sqrt{\\pi} \\operatorname{erf}{\\left(70.7106781186548 y - 30.38218101251 \\right)} + 1.26156626101008 \\sqrt{\\pi} \\operatorname{erf}{\\left(70.7106781186548 y - 22.7866357593825 \\right)}\\right) + \\left(- 1.26156626101008 \\sqrt{\\pi} \\operatorname{erf}{\\left(70.7106781186548 x - 30.38218101251 \\right)} + 1.26156626101008 \\sqrt{\\pi} \\operatorname{erf}{\\left(70.7106781186548 x + 30.38218101251 \\right)}\\right) \\left(- 1.26156626101008 \\sqrt{\\pi} \\operatorname{erf}{\\left(70.7106781186548 y + 22.7866357593825 \\right)} + 1.26156626101008 \\sqrt{\\pi} \\operatorname{erf}{\\left(70.7106781186548 y + 30.38218101251 \\right)}\\right) + \\left(- 1.26156626101008 \\sqrt{\\pi} \\operatorname{erf}{\\left(70.7106781186548 x - 22.7866357593825 \\right)} + 1.26156626101008 \\sqrt{\\pi} \\operatorname{erf}{\\left(70.7106781186548 x + 22.7866357593825 \\right)}\\right) \\left(- 1.26156626101008 \\sqrt{\\pi} \\operatorname{erf}{\\left(70.7106781186548 y - 22.7866357593825 \\right)} + 1.26156626101008 \\sqrt{\\pi} \\operatorname{erf}{\\left(70.7106781186548 y + 22.7866357593825 \\right)}\\right)$"
      ],
      "text/plain": [
       "(-1.26156626101008⋅√π⋅erf(70.7106781186548⋅x - 30.38218101251) + 1.26156626101\n",
       "008⋅√π⋅erf(70.7106781186548⋅x + 30.38218101251))⋅(-1.26156626101008⋅√π⋅erf(70.\n",
       "7106781186548⋅y - 30.38218101251) + 1.26156626101008⋅√π⋅erf(70.7106781186548⋅y\n",
       " - 22.7866357593825)) + (-1.26156626101008⋅√π⋅erf(70.7106781186548⋅x - 30.3821\n",
       "8101251) + 1.26156626101008⋅√π⋅erf(70.7106781186548⋅x + 30.38218101251))⋅(-1.2\n",
       "6156626101008⋅√π⋅erf(70.7106781186548⋅y + 22.7866357593825) + 1.26156626101008\n",
       "⋅√π⋅erf(70.7106781186548⋅y + 30.38218101251)) + (-1.26156626101008⋅√π⋅erf(70.7\n",
       "106781186548⋅x - 22.7866357593825) + 1.26156626101008⋅√π⋅erf(70.7106781186548⋅\n",
       "x + 22.7866357593825))⋅(-1.26156626101008⋅√π⋅erf(70.7106781186548⋅y - 22.78663\n",
       "57593825) + 1.26156626101008⋅√π⋅erf(70.7106781186548⋅y + 22.7866357593825))"
      ]
     },
     "execution_count": 36,
     "metadata": {},
     "output_type": "execute_result"
    }
   ],
   "source": [
    "e₁₁ = smooth1D1 + smooth1D2 + smooth1D3 + e₁₁ₘ"
   ]
  },
  {
   "cell_type": "code",
   "execution_count": 37,
   "id": "b80587f3",
   "metadata": {},
   "outputs": [
    {
     "data": {
      "text/plain": [
       "-0.9"
      ]
     },
     "execution_count": 37,
     "metadata": {},
     "output_type": "execute_result"
    }
   ],
   "source": [
    "e₂₁ₘ = 20\n",
    "e₂₁ᵢ = -0.9"
   ]
  },
  {
   "cell_type": "code",
   "execution_count": 38,
   "id": "de7a6a46",
   "metadata": {},
   "outputs": [
    {
     "data": {
      "text/plain": [
       "D22y (generic function with 1 method)"
      ]
     },
     "execution_count": 38,
     "metadata": {},
     "output_type": "execute_result"
    }
   ],
   "source": [
    "D22x(x,ax,bx) = sqrt(e₂₁ₘ - e₂₁ᵢ) * interval(x,ax,bx) \n",
    "D22y(y,ay,by) = sqrt(e₂₁ₘ - e₂₁ᵢ) * interval(y,ay,by) "
   ]
  },
  {
   "cell_type": "code",
   "execution_count": 39,
   "id": "a7c2ba23",
   "metadata": {},
   "outputs": [
    {
     "data": {
      "text/latex": [
       "$39.8942280401433 \\left(- 2.28582589013249 \\operatorname{sign}{\\left(x₁ - 0.42966892442366 \\right)} + 2.28582589013249 \\operatorname{sign}{\\left(x₁ + 0.42966892442366 \\right)}\\right) e^{- 5000.0 \\left(x - x₁\\right)^{2}}$"
      ],
      "text/plain": [
       "                                                                              \n",
       "                                                                              \n",
       "39.8942280401433⋅(-2.28582589013249⋅sign(x₁ - 0.42966892442366) + 2.2858258901\n",
       "\n",
       "                                                   2\n",
       "                                   -5000.0⋅(x - x₁) \n",
       "3249⋅sign(x₁ + 0.42966892442366))⋅ℯ                 "
      ]
     },
     "execution_count": 39,
     "metadata": {},
     "output_type": "execute_result"
    }
   ],
   "source": [
    "ID22x1 = D22x(x₁,-lₙₓ,lₙₓ)*wₕ(x,x₁)\n",
    "ID22x2 = D22x(x₁,-lₐₓ,lₐₓ)*wₕ(x,x₁)"
   ]
  },
  {
   "cell_type": "code",
   "execution_count": 40,
   "id": "21140740",
   "metadata": {},
   "outputs": [
    {
     "data": {
      "text/latex": [
       "$39.8942280401433 \\left(- 2.28582589013249 \\operatorname{sign}{\\left(y₁ - 0.42966892442366 \\right)} + 2.28582589013249 \\operatorname{sign}{\\left(y₁ - 0.322251693317745 \\right)}\\right) e^{- 5000.0 \\left(y - y₁\\right)^{2}}$"
      ],
      "text/plain": [
       "                                                                              \n",
       "                                                                              \n",
       "39.8942280401433⋅(-2.28582589013249⋅sign(y₁ - 0.42966892442366) + 2.2858258901\n",
       "\n",
       "                                                    2\n",
       "                                    -5000.0⋅(y - y₁) \n",
       "3249⋅sign(y₁ - 0.322251693317745))⋅ℯ                 "
      ]
     },
     "execution_count": 40,
     "metadata": {},
     "output_type": "execute_result"
    }
   ],
   "source": [
    "ID22y1 = D22y(y₁,-lₙₓ,lₙₓ)*wₕ(y,y₁)\n",
    "ID22y2 = D22y(y₁,-lₐₓ,-lₙₓ)*wₕ(y,y₁)\n",
    "ID22y3 = D22y(y₁,lₙₓ,lₐₓ)*wₕ(y,y₁)"
   ]
  },
  {
   "cell_type": "code",
   "execution_count": 41,
   "id": "b679f77e",
   "metadata": {},
   "outputs": [
    {
     "data": {
      "text/latex": [
       "$\\left(1.28963915701653 \\sqrt{\\pi} \\operatorname{erf}{\\left(70.7106781186548 x - 30.38218101251 \\right)} - 1.28963915701653 \\sqrt{\\pi} \\operatorname{erf}{\\left(70.7106781186548 x + 30.38218101251 \\right)}\\right) \\left(- 1.28963915701653 \\sqrt{\\pi} \\operatorname{erf}{\\left(70.7106781186548 y - 30.38218101251 \\right)} + 1.28963915701653 \\sqrt{\\pi} \\operatorname{erf}{\\left(70.7106781186548 y - 22.7866357593825 \\right)}\\right)$"
      ],
      "text/plain": [
       "(1.28963915701653⋅√π⋅erf(70.7106781186548⋅x - 30.38218101251) - 1.289639157016\n",
       "53⋅√π⋅erf(70.7106781186548⋅x + 30.38218101251))⋅(-1.28963915701653⋅√π⋅erf(70.7\n",
       "106781186548⋅y - 30.38218101251) + 1.28963915701653⋅√π⋅erf(70.7106781186548⋅y \n",
       "- 22.7866357593825))"
      ]
     },
     "execution_count": 41,
     "metadata": {},
     "output_type": "execute_result"
    }
   ],
   "source": [
    "smooth22D1 = -integrate(ID22x1,(x₁,-lₘₓ,lₘₓ))*integrate(ID22y1,(y₁,-lₘₓ,lₘₓ))\n",
    "smooth22D2 = -integrate(ID22x2,(x₁,-lₘₓ,lₘₓ))*integrate(ID22y2,(y₁,-lₘₓ,lₘₓ))\n",
    "smooth22D3 = -integrate(ID22x2,(x₁,-lₘₓ,lₘₓ))*integrate(ID22y3,(y₁,-lₘₓ,lₘₓ))"
   ]
  },
  {
   "cell_type": "code",
   "execution_count": 42,
   "id": "0e06deba",
   "metadata": {},
   "outputs": [
    {
     "data": {
      "text/latex": [
       "$\\left(1.28963915701653 \\sqrt{\\pi} \\operatorname{erf}{\\left(70.7106781186548 x - 30.38218101251 \\right)} - 1.28963915701653 \\sqrt{\\pi} \\operatorname{erf}{\\left(70.7106781186548 x + 30.38218101251 \\right)}\\right) \\left(- 1.28963915701653 \\sqrt{\\pi} \\operatorname{erf}{\\left(70.7106781186548 y - 30.38218101251 \\right)} + 1.28963915701653 \\sqrt{\\pi} \\operatorname{erf}{\\left(70.7106781186548 y - 22.7866357593825 \\right)}\\right) + \\left(1.28963915701653 \\sqrt{\\pi} \\operatorname{erf}{\\left(70.7106781186548 x - 30.38218101251 \\right)} - 1.28963915701653 \\sqrt{\\pi} \\operatorname{erf}{\\left(70.7106781186548 x + 30.38218101251 \\right)}\\right) \\left(- 1.28963915701653 \\sqrt{\\pi} \\operatorname{erf}{\\left(70.7106781186548 y + 22.7866357593825 \\right)} + 1.28963915701653 \\sqrt{\\pi} \\operatorname{erf}{\\left(70.7106781186548 y + 30.38218101251 \\right)}\\right) + \\left(1.28963915701653 \\sqrt{\\pi} \\operatorname{erf}{\\left(70.7106781186548 x - 22.7866357593825 \\right)} - 1.28963915701653 \\sqrt{\\pi} \\operatorname{erf}{\\left(70.7106781186548 x + 22.7866357593825 \\right)}\\right) \\left(- 1.28963915701653 \\sqrt{\\pi} \\operatorname{erf}{\\left(70.7106781186548 y - 22.7866357593825 \\right)} + 1.28963915701653 \\sqrt{\\pi} \\operatorname{erf}{\\left(70.7106781186548 y + 22.7866357593825 \\right)}\\right) + 20$"
      ],
      "text/plain": [
       "(1.28963915701653⋅√π⋅erf(70.7106781186548⋅x - 30.38218101251) - 1.289639157016\n",
       "53⋅√π⋅erf(70.7106781186548⋅x + 30.38218101251))⋅(-1.28963915701653⋅√π⋅erf(70.7\n",
       "106781186548⋅y - 30.38218101251) + 1.28963915701653⋅√π⋅erf(70.7106781186548⋅y \n",
       "- 22.7866357593825)) + (1.28963915701653⋅√π⋅erf(70.7106781186548⋅x - 30.382181\n",
       "01251) - 1.28963915701653⋅√π⋅erf(70.7106781186548⋅x + 30.38218101251))⋅(-1.289\n",
       "63915701653⋅√π⋅erf(70.7106781186548⋅y + 22.7866357593825) + 1.28963915701653⋅√\n",
       "π⋅erf(70.7106781186548⋅y + 30.38218101251)) + (1.28963915701653⋅√π⋅erf(70.7106\n",
       "781186548⋅x - 22.7866357593825) - 1.28963915701653⋅√π⋅erf(70.7106781186548⋅x +\n",
       " 22.7866357593825))⋅(-1.28963915701653⋅√π⋅erf(70.7106781186548⋅y - 22.78663575\n",
       "93825) + 1.28963915701653⋅√π⋅erf(70.7106781186548⋅y + 22.7866357593825)) + 20"
      ]
     },
     "execution_count": 42,
     "metadata": {},
     "output_type": "execute_result"
    }
   ],
   "source": [
    "e₂₁ = smooth22D1 + smooth22D2 + smooth22D3 + e₂₁ₘ"
   ]
  },
  {
   "cell_type": "code",
   "execution_count": 43,
   "id": "b04d0b29",
   "metadata": {},
   "outputs": [
    {
     "data": {
      "text/plain": [
       "-0.9"
      ]
     },
     "execution_count": 43,
     "metadata": {},
     "output_type": "execute_result"
    }
   ],
   "source": [
    "e₂₂ₘ = 3\n",
    "e₂₂ᵢ = -0.9"
   ]
  },
  {
   "cell_type": "code",
   "execution_count": 44,
   "id": "72bd6f06",
   "metadata": {},
   "outputs": [
    {
     "data": {
      "text/plain": [
       "D2y (generic function with 1 method)"
      ]
     },
     "execution_count": 44,
     "metadata": {},
     "output_type": "execute_result"
    }
   ],
   "source": [
    "D2x(x,ax,bx) = sqrt(e₂₂ₘ - e₂₂ᵢ) * interval(x,ax,bx) \n",
    "D2y(y,ay,by) = sqrt(e₂₂ₘ - e₂₂ᵢ) * interval(y,ay,by) "
   ]
  },
  {
   "cell_type": "code",
   "execution_count": 45,
   "id": "db98b2f7",
   "metadata": {},
   "outputs": [
    {
     "data": {
      "text/latex": [
       "$39.8942280401433 \\left(- 0.987420882906575 \\operatorname{sign}{\\left(x₁ - 0.42966892442366 \\right)} + 0.987420882906575 \\operatorname{sign}{\\left(x₁ + 0.42966892442366 \\right)}\\right) e^{- 5000.0 \\left(x - x₁\\right)^{2}}$"
      ],
      "text/plain": [
       "                                                                              \n",
       "                                                                              \n",
       "39.8942280401433⋅(-0.987420882906575⋅sign(x₁ - 0.42966892442366) + 0.987420882\n",
       "\n",
       "                                                     2\n",
       "                                     -5000.0⋅(x - x₁) \n",
       "906575⋅sign(x₁ + 0.42966892442366))⋅ℯ                 "
      ]
     },
     "execution_count": 45,
     "metadata": {},
     "output_type": "execute_result"
    }
   ],
   "source": [
    "ID2x1 = D2x(x₁,-lₙₓ,lₙₓ)*wₕ(x,x₁)\n",
    "ID2x2 = D2x(x₁,-lₐₓ,lₐₓ)*wₕ(x,x₁)"
   ]
  },
  {
   "cell_type": "code",
   "execution_count": 46,
   "id": "7ca5bfd9",
   "metadata": {},
   "outputs": [
    {
     "data": {
      "text/latex": [
       "$39.8942280401433 \\left(- 0.987420882906575 \\operatorname{sign}{\\left(y₁ - 0.42966892442366 \\right)} + 0.987420882906575 \\operatorname{sign}{\\left(y₁ - 0.322251693317745 \\right)}\\right) e^{- 5000.0 \\left(y - y₁\\right)^{2}}$"
      ],
      "text/plain": [
       "                                                                              \n",
       "                                                                              \n",
       "39.8942280401433⋅(-0.987420882906575⋅sign(y₁ - 0.42966892442366) + 0.987420882\n",
       "\n",
       "                                                      2\n",
       "                                      -5000.0⋅(y - y₁) \n",
       "906575⋅sign(y₁ - 0.322251693317745))⋅ℯ                 "
      ]
     },
     "execution_count": 46,
     "metadata": {},
     "output_type": "execute_result"
    }
   ],
   "source": [
    "ID2y1 = D2y(y₁,-lₙₓ,lₙₓ)*wₕ(y,y₁)\n",
    "ID2y2 = D2y(y₁,-lₐₓ,-lₙₓ)*wₕ(y,y₁)\n",
    "ID2y3 = D2y(y₁,lₙₓ,lₐₓ)*wₕ(y,y₁)"
   ]
  },
  {
   "cell_type": "code",
   "execution_count": 47,
   "id": "385b42c6",
   "metadata": {},
   "outputs": [
    {
     "data": {
      "text/latex": [
       "$\\left(0.557092576713418 \\sqrt{\\pi} \\operatorname{erf}{\\left(70.7106781186548 x - 30.38218101251 \\right)} - 0.557092576713418 \\sqrt{\\pi} \\operatorname{erf}{\\left(70.7106781186548 x + 30.38218101251 \\right)}\\right) \\left(- 0.557092576713418 \\sqrt{\\pi} \\operatorname{erf}{\\left(70.7106781186548 y - 30.38218101251 \\right)} + 0.557092576713418 \\sqrt{\\pi} \\operatorname{erf}{\\left(70.7106781186548 y - 22.7866357593825 \\right)}\\right)$"
      ],
      "text/plain": [
       "(0.557092576713418⋅√π⋅erf(70.7106781186548⋅x - 30.38218101251) - 0.55709257671\n",
       "3418⋅√π⋅erf(70.7106781186548⋅x + 30.38218101251))⋅(-0.557092576713418⋅√π⋅erf(7\n",
       "0.7106781186548⋅y - 30.38218101251) + 0.557092576713418⋅√π⋅erf(70.710678118654\n",
       "8⋅y - 22.7866357593825))"
      ]
     },
     "execution_count": 47,
     "metadata": {},
     "output_type": "execute_result"
    }
   ],
   "source": [
    "smooth2D1 = -integrate(ID2x1,(x₁,-lₘₓ,lₘₓ))*integrate(ID2y1,(y₁,-lₘₓ,lₘₓ))\n",
    "smooth2D2 = -integrate(ID2x2,(x₁,-lₘₓ,lₘₓ))*integrate(ID2y2,(y₁,-lₘₓ,lₘₓ))\n",
    "smooth2D3 = -integrate(ID2x2,(x₁,-lₘₓ,lₘₓ))*integrate(ID2y3,(y₁,-lₘₓ,lₘₓ))"
   ]
  },
  {
   "cell_type": "code",
   "execution_count": 48,
   "id": "d3919c52",
   "metadata": {},
   "outputs": [
    {
     "data": {
      "text/latex": [
       "$\\left(0.557092576713418 \\sqrt{\\pi} \\operatorname{erf}{\\left(70.7106781186548 x - 30.38218101251 \\right)} - 0.557092576713418 \\sqrt{\\pi} \\operatorname{erf}{\\left(70.7106781186548 x + 30.38218101251 \\right)}\\right) \\left(- 0.557092576713418 \\sqrt{\\pi} \\operatorname{erf}{\\left(70.7106781186548 y - 30.38218101251 \\right)} + 0.557092576713418 \\sqrt{\\pi} \\operatorname{erf}{\\left(70.7106781186548 y - 22.7866357593825 \\right)}\\right) + \\left(0.557092576713418 \\sqrt{\\pi} \\operatorname{erf}{\\left(70.7106781186548 x - 30.38218101251 \\right)} - 0.557092576713418 \\sqrt{\\pi} \\operatorname{erf}{\\left(70.7106781186548 x + 30.38218101251 \\right)}\\right) \\left(- 0.557092576713418 \\sqrt{\\pi} \\operatorname{erf}{\\left(70.7106781186548 y + 22.7866357593825 \\right)} + 0.557092576713418 \\sqrt{\\pi} \\operatorname{erf}{\\left(70.7106781186548 y + 30.38218101251 \\right)}\\right) + \\left(0.557092576713418 \\sqrt{\\pi} \\operatorname{erf}{\\left(70.7106781186548 x - 22.7866357593825 \\right)} - 0.557092576713418 \\sqrt{\\pi} \\operatorname{erf}{\\left(70.7106781186548 x + 22.7866357593825 \\right)}\\right) \\left(- 0.557092576713418 \\sqrt{\\pi} \\operatorname{erf}{\\left(70.7106781186548 y - 22.7866357593825 \\right)} + 0.557092576713418 \\sqrt{\\pi} \\operatorname{erf}{\\left(70.7106781186548 y + 22.7866357593825 \\right)}\\right) + 3$"
      ],
      "text/plain": [
       "(0.557092576713418⋅√π⋅erf(70.7106781186548⋅x - 30.38218101251) - 0.55709257671\n",
       "3418⋅√π⋅erf(70.7106781186548⋅x + 30.38218101251))⋅(-0.557092576713418⋅√π⋅erf(7\n",
       "0.7106781186548⋅y - 30.38218101251) + 0.557092576713418⋅√π⋅erf(70.710678118654\n",
       "8⋅y - 22.7866357593825)) + (0.557092576713418⋅√π⋅erf(70.7106781186548⋅x - 30.3\n",
       "8218101251) - 0.557092576713418⋅√π⋅erf(70.7106781186548⋅x + 30.38218101251))⋅(\n",
       "-0.557092576713418⋅√π⋅erf(70.7106781186548⋅y + 22.7866357593825) + 0.557092576\n",
       "713418⋅√π⋅erf(70.7106781186548⋅y + 30.38218101251)) + (0.557092576713418⋅√π⋅er\n",
       "f(70.7106781186548⋅x - 22.7866357593825) - 0.557092576713418⋅√π⋅erf(70.7106781\n",
       "186548⋅x + 22.7866357593825))⋅(-0.557092576713418⋅√π⋅erf(70.7106781186548⋅y - \n",
       "22.7866357593825) + 0.557092576713418⋅√π⋅erf(70.7106781186548⋅y + 22.786635759\n",
       "3825)) + 3"
      ]
     },
     "execution_count": 48,
     "metadata": {},
     "output_type": "execute_result"
    }
   ],
   "source": [
    "e₂₂ = smooth2D1 + smooth2D2 + smooth2D3 + e₂₂ₘ"
   ]
  },
  {
   "cell_type": "code",
   "execution_count": 49,
   "id": "387693d9",
   "metadata": {},
   "outputs": [
    {
     "data": {
      "text/plain": [
       "6"
      ]
     },
     "execution_count": 49,
     "metadata": {},
     "output_type": "execute_result"
    }
   ],
   "source": [
    "e₂₃ₘ = -46\n",
    "e₂₃ᵢ = 6"
   ]
  },
  {
   "cell_type": "code",
   "execution_count": 50,
   "id": "52d0a4be",
   "metadata": {},
   "outputs": [
    {
     "data": {
      "text/plain": [
       "D3y (generic function with 1 method)"
      ]
     },
     "execution_count": 50,
     "metadata": {},
     "output_type": "execute_result"
    }
   ],
   "source": [
    "D3x(x,ax,bx) = sqrt(e₂₃ᵢ - e₂₃ₘ) * interval(x,ax,bx) \n",
    "D3y(y,ay,by) = sqrt(e₂₃ᵢ - e₂₃ₘ) * interval(y,ay,by) "
   ]
  },
  {
   "cell_type": "code",
   "execution_count": 51,
   "id": "88af640b",
   "metadata": {},
   "outputs": [
    {
     "data": {
      "text/latex": [
       "$39.8942280401433 \\left(- 3.60555127546399 \\operatorname{sign}{\\left(x₁ - 0.42966892442366 \\right)} + 3.60555127546399 \\operatorname{sign}{\\left(x₁ + 0.42966892442366 \\right)}\\right) e^{- 5000.0 \\left(x - x₁\\right)^{2}}$"
      ],
      "text/plain": [
       "                                                                              \n",
       "                                                                              \n",
       "39.8942280401433⋅(-3.60555127546399⋅sign(x₁ - 0.42966892442366) + 3.6055512754\n",
       "\n",
       "                                                   2\n",
       "                                   -5000.0⋅(x - x₁) \n",
       "6399⋅sign(x₁ + 0.42966892442366))⋅ℯ                 "
      ]
     },
     "execution_count": 51,
     "metadata": {},
     "output_type": "execute_result"
    }
   ],
   "source": [
    "ID3x1 = D3x(x₁,-lₙₓ,lₙₓ)*wₕ(x,x₁)\n",
    "ID3x2 = D3x(x₁,-lₐₓ,lₐₓ)*wₕ(x,x₁)"
   ]
  },
  {
   "cell_type": "code",
   "execution_count": 52,
   "id": "cee2fbdb",
   "metadata": {},
   "outputs": [
    {
     "data": {
      "text/latex": [
       "$39.8942280401433 \\left(- 3.60555127546399 \\operatorname{sign}{\\left(y₁ - 0.42966892442366 \\right)} + 3.60555127546399 \\operatorname{sign}{\\left(y₁ - 0.322251693317745 \\right)}\\right) e^{- 5000.0 \\left(y - y₁\\right)^{2}}$"
      ],
      "text/plain": [
       "                                                                              \n",
       "                                                                              \n",
       "39.8942280401433⋅(-3.60555127546399⋅sign(y₁ - 0.42966892442366) + 3.6055512754\n",
       "\n",
       "                                                    2\n",
       "                                    -5000.0⋅(y - y₁) \n",
       "6399⋅sign(y₁ - 0.322251693317745))⋅ℯ                 "
      ]
     },
     "execution_count": 52,
     "metadata": {},
     "output_type": "execute_result"
    }
   ],
   "source": [
    "ID3y1 = D3y(y₁,-lₙₓ,lₙₓ)*wₕ(y,y₁)\n",
    "ID3y2 = D3y(y₁,-lₐₓ,-lₙₓ)*wₕ(y,y₁)\n",
    "ID3y3 = D3y(y₁,lₙₓ,lₐₓ)*wₕ(y,y₁)"
   ]
  },
  {
   "cell_type": "code",
   "execution_count": 53,
   "id": "4e188a59",
   "metadata": {},
   "outputs": [
    {
     "data": {
      "text/latex": [
       "$\\left(- 2.03421447256411 \\sqrt{\\pi} \\operatorname{erf}{\\left(70.7106781186548 x - 30.38218101251 \\right)} + 2.03421447256411 \\sqrt{\\pi} \\operatorname{erf}{\\left(70.7106781186548 x + 30.38218101251 \\right)}\\right) \\left(- 2.03421447256411 \\sqrt{\\pi} \\operatorname{erf}{\\left(70.7106781186548 y - 30.38218101251 \\right)} + 2.03421447256411 \\sqrt{\\pi} \\operatorname{erf}{\\left(70.7106781186548 y - 22.7866357593825 \\right)}\\right)$"
      ],
      "text/plain": [
       "(-2.03421447256411⋅√π⋅erf(70.7106781186548⋅x - 30.38218101251) + 2.03421447256\n",
       "411⋅√π⋅erf(70.7106781186548⋅x + 30.38218101251))⋅(-2.03421447256411⋅√π⋅erf(70.\n",
       "7106781186548⋅y - 30.38218101251) + 2.03421447256411⋅√π⋅erf(70.7106781186548⋅y\n",
       " - 22.7866357593825))"
      ]
     },
     "execution_count": 53,
     "metadata": {},
     "output_type": "execute_result"
    }
   ],
   "source": [
    "smooth3D1 = integrate(ID3x1,(x₁,-lₘₓ,lₘₓ))*integrate(ID3y1,(y₁,-lₘₓ,lₘₓ))\n",
    "smooth3D2 = integrate(ID3x2,(x₁,-lₘₓ,lₘₓ))*integrate(ID3y2,(y₁,-lₘₓ,lₘₓ))\n",
    "smooth3D3 = integrate(ID3x2,(x₁,-lₘₓ,lₘₓ))*integrate(ID3y3,(y₁,-lₘₓ,lₘₓ))"
   ]
  },
  {
   "cell_type": "code",
   "execution_count": 54,
   "id": "2ed62602",
   "metadata": {},
   "outputs": [
    {
     "data": {
      "text/latex": [
       "$\\left(- 2.03421447256411 \\sqrt{\\pi} \\operatorname{erf}{\\left(70.7106781186548 x - 30.38218101251 \\right)} + 2.03421447256411 \\sqrt{\\pi} \\operatorname{erf}{\\left(70.7106781186548 x + 30.38218101251 \\right)}\\right) \\left(- 2.03421447256411 \\sqrt{\\pi} \\operatorname{erf}{\\left(70.7106781186548 y - 30.38218101251 \\right)} + 2.03421447256411 \\sqrt{\\pi} \\operatorname{erf}{\\left(70.7106781186548 y - 22.7866357593825 \\right)}\\right) + \\left(- 2.03421447256411 \\sqrt{\\pi} \\operatorname{erf}{\\left(70.7106781186548 x - 30.38218101251 \\right)} + 2.03421447256411 \\sqrt{\\pi} \\operatorname{erf}{\\left(70.7106781186548 x + 30.38218101251 \\right)}\\right) \\left(- 2.03421447256411 \\sqrt{\\pi} \\operatorname{erf}{\\left(70.7106781186548 y + 22.7866357593825 \\right)} + 2.03421447256411 \\sqrt{\\pi} \\operatorname{erf}{\\left(70.7106781186548 y + 30.38218101251 \\right)}\\right) + \\left(- 2.03421447256411 \\sqrt{\\pi} \\operatorname{erf}{\\left(70.7106781186548 x - 22.7866357593825 \\right)} + 2.03421447256411 \\sqrt{\\pi} \\operatorname{erf}{\\left(70.7106781186548 x + 22.7866357593825 \\right)}\\right) \\left(- 2.03421447256411 \\sqrt{\\pi} \\operatorname{erf}{\\left(70.7106781186548 y - 22.7866357593825 \\right)} + 2.03421447256411 \\sqrt{\\pi} \\operatorname{erf}{\\left(70.7106781186548 y + 22.7866357593825 \\right)}\\right) - 46$"
      ],
      "text/plain": [
       "(-2.03421447256411⋅√π⋅erf(70.7106781186548⋅x - 30.38218101251) + 2.03421447256\n",
       "411⋅√π⋅erf(70.7106781186548⋅x + 30.38218101251))⋅(-2.03421447256411⋅√π⋅erf(70.\n",
       "7106781186548⋅y - 30.38218101251) + 2.03421447256411⋅√π⋅erf(70.7106781186548⋅y\n",
       " - 22.7866357593825)) + (-2.03421447256411⋅√π⋅erf(70.7106781186548⋅x - 30.3821\n",
       "8101251) + 2.03421447256411⋅√π⋅erf(70.7106781186548⋅x + 30.38218101251))⋅(-2.0\n",
       "3421447256411⋅√π⋅erf(70.7106781186548⋅y + 22.7866357593825) + 2.03421447256411\n",
       "⋅√π⋅erf(70.7106781186548⋅y + 30.38218101251)) + (-2.03421447256411⋅√π⋅erf(70.7\n",
       "106781186548⋅x - 22.7866357593825) + 2.03421447256411⋅√π⋅erf(70.7106781186548⋅\n",
       "x + 22.7866357593825))⋅(-2.03421447256411⋅√π⋅erf(70.7106781186548⋅y - 22.78663\n",
       "57593825) + 2.03421447256411⋅√π⋅erf(70.7106781186548⋅y + 22.7866357593825)) - \n",
       "46"
      ]
     },
     "execution_count": 54,
     "metadata": {},
     "output_type": "execute_result"
    }
   ],
   "source": [
    "e₂₃ = smooth3D1 + smooth3D2 + smooth3D3 + e₂₃ₘ"
   ]
  },
  {
   "cell_type": "code",
   "execution_count": 55,
   "id": "8f63bb83",
   "metadata": {},
   "outputs": [
    {
     "data": {
      "text/plain": [
       "384.975"
      ]
     },
     "execution_count": 55,
     "metadata": {},
     "output_type": "execute_result"
    }
   ],
   "source": [
    "k₁₁ₘ = 79.65\n",
    "k₁₁ᵢ = 384.975"
   ]
  },
  {
   "cell_type": "code",
   "execution_count": 56,
   "id": "34a8af58",
   "metadata": {},
   "outputs": [
    {
     "data": {
      "text/plain": [
       "A1y (generic function with 1 method)"
      ]
     },
     "execution_count": 56,
     "metadata": {},
     "output_type": "execute_result"
    }
   ],
   "source": [
    "A1x(x,ax,bx) = sqrt(k₁₁ᵢ - k₁₁ₘ) * interval(x,ax,bx) \n",
    "A1y(y,ay,by) = sqrt(k₁₁ᵢ - k₁₁ₘ) * interval(y,ay,by) "
   ]
  },
  {
   "cell_type": "code",
   "execution_count": 57,
   "id": "80ad1dee",
   "metadata": {},
   "outputs": [
    {
     "data": {
      "text/latex": [
       "$39.8942280401433 \\left(- 8.73677572105408 \\operatorname{sign}{\\left(x₁ - 0.42966892442366 \\right)} + 8.73677572105408 \\operatorname{sign}{\\left(x₁ + 0.42966892442366 \\right)}\\right) e^{- 5000.0 \\left(x - x₁\\right)^{2}}$"
      ],
      "text/plain": [
       "                                                                              \n",
       "                                                                              \n",
       "39.8942280401433⋅(-8.73677572105408⋅sign(x₁ - 0.42966892442366) + 8.7367757210\n",
       "\n",
       "                                                   2\n",
       "                                   -5000.0⋅(x - x₁) \n",
       "5408⋅sign(x₁ + 0.42966892442366))⋅ℯ                 "
      ]
     },
     "execution_count": 57,
     "metadata": {},
     "output_type": "execute_result"
    }
   ],
   "source": [
    "IA1x1 = A1x(x₁,-lₙₓ,lₙₓ)*wₕ(x,x₁)\n",
    "IA1x2 = A1x(x₁,-lₐₓ,lₐₓ)*wₕ(x,x₁)"
   ]
  },
  {
   "cell_type": "code",
   "execution_count": 58,
   "id": "7b0d7779",
   "metadata": {},
   "outputs": [
    {
     "data": {
      "text/latex": [
       "$39.8942280401433 \\left(- 8.73677572105408 \\operatorname{sign}{\\left(y₁ - 0.42966892442366 \\right)} + 8.73677572105408 \\operatorname{sign}{\\left(y₁ - 0.322251693317745 \\right)}\\right) e^{- 5000.0 \\left(y - y₁\\right)^{2}}$"
      ],
      "text/plain": [
       "                                                                              \n",
       "                                                                              \n",
       "39.8942280401433⋅(-8.73677572105408⋅sign(y₁ - 0.42966892442366) + 8.7367757210\n",
       "\n",
       "                                                    2\n",
       "                                    -5000.0⋅(y - y₁) \n",
       "5408⋅sign(y₁ - 0.322251693317745))⋅ℯ                 "
      ]
     },
     "execution_count": 58,
     "metadata": {},
     "output_type": "execute_result"
    }
   ],
   "source": [
    "IA1y1 = A1y(y₁,-lₙₓ,lₙₓ)*wₕ(y,y₁)\n",
    "IA1y2 = A1y(y₁,-lₐₓ,-lₙₓ)*wₕ(y,y₁)\n",
    "IA1y3 = A1y(y₁,lₙₓ,lₐₓ)*wₕ(y,y₁)"
   ]
  },
  {
   "cell_type": "code",
   "execution_count": 59,
   "id": "cda04989",
   "metadata": {},
   "outputs": [
    {
     "data": {
      "text/latex": [
       "$\\left(- 4.92919785561165 \\sqrt{\\pi} \\operatorname{erf}{\\left(70.7106781186548 x - 30.38218101251 \\right)} + 4.92919785561165 \\sqrt{\\pi} \\operatorname{erf}{\\left(70.7106781186548 x + 30.38218101251 \\right)}\\right) \\left(- 4.92919785561165 \\sqrt{\\pi} \\operatorname{erf}{\\left(70.7106781186548 y - 30.38218101251 \\right)} + 4.92919785561165 \\sqrt{\\pi} \\operatorname{erf}{\\left(70.7106781186548 y - 22.7866357593825 \\right)}\\right)$"
      ],
      "text/plain": [
       "(-4.92919785561165⋅√π⋅erf(70.7106781186548⋅x - 30.38218101251) + 4.92919785561\n",
       "165⋅√π⋅erf(70.7106781186548⋅x + 30.38218101251))⋅(-4.92919785561165⋅√π⋅erf(70.\n",
       "7106781186548⋅y - 30.38218101251) + 4.92919785561165⋅√π⋅erf(70.7106781186548⋅y\n",
       " - 22.7866357593825))"
      ]
     },
     "execution_count": 59,
     "metadata": {},
     "output_type": "execute_result"
    }
   ],
   "source": [
    "smooth1A1 = integrate(IA1x1,(x₁,-lₘₓ,lₘₓ))*integrate(IA1y1,(y₁,-lₘₓ,lₘₓ))\n",
    "smooth1A2 = integrate(IA1x2,(x₁,-lₘₓ,lₘₓ))*integrate(IA1y2,(y₁,-lₘₓ,lₘₓ))\n",
    "smooth1A3 = integrate(IA1x2,(x₁,-lₘₓ,lₘₓ))*integrate(IA1y3,(y₁,-lₘₓ,lₘₓ))"
   ]
  },
  {
   "cell_type": "code",
   "execution_count": 60,
   "id": "4ce16830",
   "metadata": {},
   "outputs": [
    {
     "data": {
      "text/latex": [
       "$\\left(- 4.92919785561165 \\sqrt{\\pi} \\operatorname{erf}{\\left(70.7106781186548 x - 30.38218101251 \\right)} + 4.92919785561165 \\sqrt{\\pi} \\operatorname{erf}{\\left(70.7106781186548 x + 30.38218101251 \\right)}\\right) \\left(- 4.92919785561165 \\sqrt{\\pi} \\operatorname{erf}{\\left(70.7106781186548 y - 30.38218101251 \\right)} + 4.92919785561165 \\sqrt{\\pi} \\operatorname{erf}{\\left(70.7106781186548 y - 22.7866357593825 \\right)}\\right) + \\left(- 4.92919785561165 \\sqrt{\\pi} \\operatorname{erf}{\\left(70.7106781186548 x - 30.38218101251 \\right)} + 4.92919785561165 \\sqrt{\\pi} \\operatorname{erf}{\\left(70.7106781186548 x + 30.38218101251 \\right)}\\right) \\left(- 4.92919785561165 \\sqrt{\\pi} \\operatorname{erf}{\\left(70.7106781186548 y + 22.7866357593825 \\right)} + 4.92919785561165 \\sqrt{\\pi} \\operatorname{erf}{\\left(70.7106781186548 y + 30.38218101251 \\right)}\\right) + \\left(- 4.92919785561165 \\sqrt{\\pi} \\operatorname{erf}{\\left(70.7106781186548 x - 22.7866357593825 \\right)} + 4.92919785561165 \\sqrt{\\pi} \\operatorname{erf}{\\left(70.7106781186548 x + 22.7866357593825 \\right)}\\right) \\left(- 4.92919785561165 \\sqrt{\\pi} \\operatorname{erf}{\\left(70.7106781186548 y - 22.7866357593825 \\right)} + 4.92919785561165 \\sqrt{\\pi} \\operatorname{erf}{\\left(70.7106781186548 y + 22.7866357593825 \\right)}\\right) + 79.65$"
      ],
      "text/plain": [
       "(-4.92919785561165⋅√π⋅erf(70.7106781186548⋅x - 30.38218101251) + 4.92919785561\n",
       "165⋅√π⋅erf(70.7106781186548⋅x + 30.38218101251))⋅(-4.92919785561165⋅√π⋅erf(70.\n",
       "7106781186548⋅y - 30.38218101251) + 4.92919785561165⋅√π⋅erf(70.7106781186548⋅y\n",
       " - 22.7866357593825)) + (-4.92919785561165⋅√π⋅erf(70.7106781186548⋅x - 30.3821\n",
       "8101251) + 4.92919785561165⋅√π⋅erf(70.7106781186548⋅x + 30.38218101251))⋅(-4.9\n",
       "2919785561165⋅√π⋅erf(70.7106781186548⋅y + 22.7866357593825) + 4.92919785561165\n",
       "⋅√π⋅erf(70.7106781186548⋅y + 30.38218101251)) + (-4.92919785561165⋅√π⋅erf(70.7\n",
       "106781186548⋅x - 22.7866357593825) + 4.92919785561165⋅√π⋅erf(70.7106781186548⋅\n",
       "x + 22.7866357593825))⋅(-4.92919785561165⋅√π⋅erf(70.7106781186548⋅y - 22.78663\n",
       "57593825) + 4.92919785561165⋅√π⋅erf(70.7106781186548⋅y + 22.7866357593825)) + \n",
       "79.65"
      ]
     },
     "execution_count": 60,
     "metadata": {},
     "output_type": "execute_result"
    }
   ],
   "source": [
    "k₁₁ = smooth1A1 + smooth1A2 + smooth1A3 + k₁₁ₘ"
   ]
  },
  {
   "cell_type": "code",
   "execution_count": 61,
   "id": "bbf5813f",
   "metadata": {},
   "outputs": [
    {
     "data": {
      "text/plain": [
       "265.5"
      ]
     },
     "execution_count": 61,
     "metadata": {},
     "output_type": "execute_result"
    }
   ],
   "source": [
    "k₂₂ₘ = 79.65\n",
    "k₂₂ᵢ = 265.5"
   ]
  },
  {
   "cell_type": "code",
   "execution_count": 62,
   "id": "279e4aef",
   "metadata": {},
   "outputs": [
    {
     "data": {
      "text/plain": [
       "A2y (generic function with 1 method)"
      ]
     },
     "execution_count": 62,
     "metadata": {},
     "output_type": "execute_result"
    }
   ],
   "source": [
    "A2x(x,ax,bx) = sqrt(k₂₂ᵢ - k₂₂ₘ)  * interval(x,ax,bx) \n",
    "A2y(y,ay,by) = sqrt(k₂₂ᵢ - k₂₂ₘ)  * interval(y,ay,by) "
   ]
  },
  {
   "cell_type": "code",
   "execution_count": 63,
   "id": "1cbffdf4",
   "metadata": {},
   "outputs": [
    {
     "data": {
      "text/latex": [
       "$39.8942280401433 \\left(- 6.81634066050106 \\operatorname{sign}{\\left(x₁ - 0.42966892442366 \\right)} + 6.81634066050106 \\operatorname{sign}{\\left(x₁ + 0.42966892442366 \\right)}\\right) e^{- 5000.0 \\left(x - x₁\\right)^{2}}$"
      ],
      "text/plain": [
       "                                                                              \n",
       "                                                                              \n",
       "39.8942280401433⋅(-6.81634066050106⋅sign(x₁ - 0.42966892442366) + 6.8163406605\n",
       "\n",
       "                                                   2\n",
       "                                   -5000.0⋅(x - x₁) \n",
       "0106⋅sign(x₁ + 0.42966892442366))⋅ℯ                 "
      ]
     },
     "execution_count": 63,
     "metadata": {},
     "output_type": "execute_result"
    }
   ],
   "source": [
    "IA2x1 = A2x(x₁,-lₙₓ,lₙₓ)*wₕ(x,x₁)\n",
    "IA2x2 = A2x(x₁,-lₐₓ,lₐₓ)*wₕ(x,x₁)"
   ]
  },
  {
   "cell_type": "code",
   "execution_count": 64,
   "id": "14ab4360",
   "metadata": {},
   "outputs": [
    {
     "data": {
      "text/latex": [
       "$39.8942280401433 \\left(- 6.81634066050106 \\operatorname{sign}{\\left(y₁ - 0.42966892442366 \\right)} + 6.81634066050106 \\operatorname{sign}{\\left(y₁ - 0.322251693317745 \\right)}\\right) e^{- 5000.0 \\left(y - y₁\\right)^{2}}$"
      ],
      "text/plain": [
       "                                                                              \n",
       "                                                                              \n",
       "39.8942280401433⋅(-6.81634066050106⋅sign(y₁ - 0.42966892442366) + 6.8163406605\n",
       "\n",
       "                                                    2\n",
       "                                    -5000.0⋅(y - y₁) \n",
       "0106⋅sign(y₁ - 0.322251693317745))⋅ℯ                 "
      ]
     },
     "execution_count": 64,
     "metadata": {},
     "output_type": "execute_result"
    }
   ],
   "source": [
    "IA2y1 = A2y(y₁,-lₙₓ,lₙₓ)*wₕ(y,y₁)\n",
    "IA2y2 = A2y(y₁,-lₐₓ,-lₙₓ)*wₕ(y,y₁)\n",
    "IA2y3 = A2y(y₁,lₙₓ,lₐₓ)*wₕ(y,y₁)"
   ]
  },
  {
   "cell_type": "code",
   "execution_count": 65,
   "id": "abbe1f94",
   "metadata": {},
   "outputs": [
    {
     "data": {
      "text/latex": [
       "$\\left(- 3.84570839856773 \\sqrt{\\pi} \\operatorname{erf}{\\left(70.7106781186548 x - 30.38218101251 \\right)} + 3.84570839856773 \\sqrt{\\pi} \\operatorname{erf}{\\left(70.7106781186548 x + 30.38218101251 \\right)}\\right) \\left(- 3.84570839856773 \\sqrt{\\pi} \\operatorname{erf}{\\left(70.7106781186548 y - 30.38218101251 \\right)} + 3.84570839856773 \\sqrt{\\pi} \\operatorname{erf}{\\left(70.7106781186548 y - 22.7866357593825 \\right)}\\right)$"
      ],
      "text/plain": [
       "(-3.84570839856773⋅√π⋅erf(70.7106781186548⋅x - 30.38218101251) + 3.84570839856\n",
       "773⋅√π⋅erf(70.7106781186548⋅x + 30.38218101251))⋅(-3.84570839856773⋅√π⋅erf(70.\n",
       "7106781186548⋅y - 30.38218101251) + 3.84570839856773⋅√π⋅erf(70.7106781186548⋅y\n",
       " - 22.7866357593825))"
      ]
     },
     "execution_count": 65,
     "metadata": {},
     "output_type": "execute_result"
    }
   ],
   "source": [
    "smooth2A1 = integrate(IA2x1,(x₁,-lₘₓ,lₘₓ))*integrate(IA2y1,(y₁,-lₘₓ,lₘₓ))\n",
    "smooth2A2 = integrate(IA2x2,(x₁,-lₘₓ,lₘₓ))*integrate(IA2y2,(y₁,-lₘₓ,lₘₓ))\n",
    "smooth2A3 = integrate(IA2x2,(x₁,-lₘₓ,lₘₓ))*integrate(IA2y3,(y₁,-lₘₓ,lₘₓ))"
   ]
  },
  {
   "cell_type": "code",
   "execution_count": 66,
   "id": "686a56c9",
   "metadata": {},
   "outputs": [
    {
     "data": {
      "text/latex": [
       "$\\left(- 3.84570839856773 \\sqrt{\\pi} \\operatorname{erf}{\\left(70.7106781186548 x - 30.38218101251 \\right)} + 3.84570839856773 \\sqrt{\\pi} \\operatorname{erf}{\\left(70.7106781186548 x + 30.38218101251 \\right)}\\right) \\left(- 3.84570839856773 \\sqrt{\\pi} \\operatorname{erf}{\\left(70.7106781186548 y - 30.38218101251 \\right)} + 3.84570839856773 \\sqrt{\\pi} \\operatorname{erf}{\\left(70.7106781186548 y - 22.7866357593825 \\right)}\\right) + \\left(- 3.84570839856773 \\sqrt{\\pi} \\operatorname{erf}{\\left(70.7106781186548 x - 30.38218101251 \\right)} + 3.84570839856773 \\sqrt{\\pi} \\operatorname{erf}{\\left(70.7106781186548 x + 30.38218101251 \\right)}\\right) \\left(- 3.84570839856773 \\sqrt{\\pi} \\operatorname{erf}{\\left(70.7106781186548 y + 22.7866357593825 \\right)} + 3.84570839856773 \\sqrt{\\pi} \\operatorname{erf}{\\left(70.7106781186548 y + 30.38218101251 \\right)}\\right) + \\left(- 3.84570839856773 \\sqrt{\\pi} \\operatorname{erf}{\\left(70.7106781186548 x - 22.7866357593825 \\right)} + 3.84570839856773 \\sqrt{\\pi} \\operatorname{erf}{\\left(70.7106781186548 x + 22.7866357593825 \\right)}\\right) \\left(- 3.84570839856773 \\sqrt{\\pi} \\operatorname{erf}{\\left(70.7106781186548 y - 22.7866357593825 \\right)} + 3.84570839856773 \\sqrt{\\pi} \\operatorname{erf}{\\left(70.7106781186548 y + 22.7866357593825 \\right)}\\right) + 79.65$"
      ],
      "text/plain": [
       "(-3.84570839856773⋅√π⋅erf(70.7106781186548⋅x - 30.38218101251) + 3.84570839856\n",
       "773⋅√π⋅erf(70.7106781186548⋅x + 30.38218101251))⋅(-3.84570839856773⋅√π⋅erf(70.\n",
       "7106781186548⋅y - 30.38218101251) + 3.84570839856773⋅√π⋅erf(70.7106781186548⋅y\n",
       " - 22.7866357593825)) + (-3.84570839856773⋅√π⋅erf(70.7106781186548⋅x - 30.3821\n",
       "8101251) + 3.84570839856773⋅√π⋅erf(70.7106781186548⋅x + 30.38218101251))⋅(-3.8\n",
       "4570839856773⋅√π⋅erf(70.7106781186548⋅y + 22.7866357593825) + 3.84570839856773\n",
       "⋅√π⋅erf(70.7106781186548⋅y + 30.38218101251)) + (-3.84570839856773⋅√π⋅erf(70.7\n",
       "106781186548⋅x - 22.7866357593825) + 3.84570839856773⋅√π⋅erf(70.7106781186548⋅\n",
       "x + 22.7866357593825))⋅(-3.84570839856773⋅√π⋅erf(70.7106781186548⋅y - 22.78663\n",
       "57593825) + 3.84570839856773⋅√π⋅erf(70.7106781186548⋅y + 22.7866357593825)) + \n",
       "79.65"
      ]
     },
     "execution_count": 66,
     "metadata": {},
     "output_type": "execute_result"
    }
   ],
   "source": [
    "k₂₂ = smooth2A1 + smooth2A2 + smooth2A3 + k₂₂ₘ"
   ]
  },
  {
   "cell_type": "code",
   "execution_count": 67,
   "id": "5221e7f4",
   "metadata": {},
   "outputs": [
    {
     "name": "stderr",
     "output_type": "stream",
     "text": [
      "WARNING: using MinFEM.solve in module Main conflicts with an existing identifier.\n",
      "WARNING: using Fields.integrate in module Main conflicts with an existing identifier.\n"
     ]
    }
   ],
   "source": [
    "using Gmsh: gmsh\n",
    "using Gridap\n",
    "using GridapGmsh\n",
    "using SparseArrays\n",
    "using MinFEM\n",
    "using WriteVTK\n",
    "using Gridap.Fields\n",
    "using Gridap.CellData\n",
    "using Gridap.TensorValues\n",
    "using Gridap.ReferenceFEs\n",
    "using Gridap.Geometry"
   ]
  },
  {
   "cell_type": "code",
   "execution_count": 68,
   "id": "88fe83b9",
   "metadata": {
    "scrolled": true
   },
   "outputs": [
    {
     "name": "stdout",
     "output_type": "stream",
     "text": [
      "Info    : Meshing 1D...\n",
      "Info    : [  0%] Meshing curve 1 (Line)\n",
      "Info    : [ 10%] Meshing curve 2 (Line)\n",
      "Info    : [ 20%] Meshing curve 3 (Line)\n",
      "Info    : [ 20%] Meshing curve 4 (Line)\n",
      "Info    : [ 30%] Meshing curve 5 (Line)\n",
      "Info    : [ 40%] Meshing curve 6 (Line)\n",
      "Info    : [ 40%] Meshing curve 7 (Line)\n",
      "Info    : [ 50%] Meshing curve 8 (Line)\n",
      "Info    : [ 50%] Meshing curve 9 (Line)\n",
      "Info    : [ 60%] Meshing curve 10 (Line)\n",
      "Info    : [ 70%] Meshing curve 11 (Line)\n",
      "Info    : [ 70%] Meshing curve 12 (Line)\n",
      "Info    : [ 80%] Meshing curve 13 (Line)\n",
      "Info    : [ 90%] Meshing curve 14 (Line)\n",
      "Info    : [ 90%] Meshing curve 15 (Line)\n",
      "Info    : [100%] Meshing curve 16 (Line)\n",
      "Info    : Done meshing 1D (Wall 0s, CPU 0s)\n",
      "Info    : Meshing 2D...\n",
      "Info    : [  0%] Meshing surface 1 (Plane, Frontal-Delaunay)\n",
      "Info    : [ 50%] Meshing surface 2 (Plane, Frontal-Delaunay)\n",
      "Info    : Done meshing 2D (Wall 0.5497s, CPU 0.546875s)\n",
      "Info    : 12591 nodes 25396 elements\n",
      "Info    : Writing 'PlateWithIShape.msh'...\n",
      "Info    : Done writing 'PlateWithIShape.msh'\n"
     ]
    },
    {
     "name": "stderr",
     "output_type": "stream",
     "text": [
      "Warning : Unknown entity of dimension 2 and tag 1 in physical group 1\n",
      "Warning : Unknown entity of dimension 2 and tag 2 in physical group 2\n",
      "Warning : Unknown entity of dimension 1 and tag 4 in physical group 3\n",
      "Warning : Unknown entity of dimension 1 and tag 2 in physical group 4\n",
      "Warning : Unknown entity of dimension 1 and tag 4 in physical group 5\n",
      "Warning : Unknown entity of dimension 1 and tag 2 in physical group 6\n",
      "Warning : Unknown entity of dimension 1 and tag 1 in physical group 7\n",
      "Warning : Unknown entity of dimension 1 and tag 3 in physical group 8\n",
      "Warning : Unknown entity of dimension 1 and tag 1 in physical group 9\n",
      "Warning : Unknown entity of dimension 1 and tag 3 in physical group 10\n"
     ]
    }
   ],
   "source": [
    "gmsh.initialize()\n",
    "gmsh.option.setNumber(\"General.Terminal\", 1)\n",
    "\n",
    "p = abs(solve(Eq,x)[1])\n",
    "l = (3*p)/4\n",
    "h = 2e-2\n",
    "hf = 2e-2\n",
    "Lₚ = 1.0\n",
    "Hₚ = 1.0\n",
    "\n",
    "p1 = gmsh.model.geo.addPoint(-Lₚ, -Hₚ, 0.0, h)\n",
    "p2 = gmsh.model.geo.addPoint(Lₚ, -Hₚ, 0.0, h)\n",
    "p3 = gmsh.model.geo.addPoint(Lₚ, Hₚ, 0.0, h)\n",
    "p4 = gmsh.model.geo.addPoint(-Lₚ, Hₚ, 0.0, h)\n",
    "\n",
    "l1 = gmsh.model.geo.addLine(p1, p2)\n",
    "l2 = gmsh.model.geo.addLine(p2, p3)\n",
    "l3 = gmsh.model.geo.addLine(p3, p4)\n",
    "l4 = gmsh.model.geo.addLine(p4, p1)\n",
    "\n",
    "c1 = gmsh.model.geo.addCurveLoop([l3,l4,l1,l2])\n",
    "\n",
    "\n",
    "p5 = gmsh.model.geo.addPoint(-l, -l, 0.0, hf)\n",
    "p6 = gmsh.model.geo.addPoint(-p, -l, 0.0, hf)\n",
    "p7 = gmsh.model.geo.addPoint(-p, -p, 0.0, hf)\n",
    "p8 = gmsh.model.geo.addPoint(p, -p, 0.0, hf)\n",
    "p9 = gmsh.model.geo.addPoint(p, -l, 0.0, hf)\n",
    "p10 = gmsh.model.geo.addPoint(l, -l, 0.0, hf)\n",
    "p11 = gmsh.model.geo.addPoint(l, l, 0.0, hf)\n",
    "p12 = gmsh.model.geo.addPoint(p, l, 0.0, hf)\n",
    "p13 = gmsh.model.geo.addPoint(p, p, 0.0, hf)\n",
    "p14 = gmsh.model.geo.addPoint(-p, p, 0.0, hf)\n",
    "p15 = gmsh.model.geo.addPoint(-p, l, 0.0, hf)\n",
    "p16 = gmsh.model.geo.addPoint(-l, l, 0.0, hf)\n",
    "\n",
    "l5 = gmsh.model.geo.addLine(p5, p6)\n",
    "l6 = gmsh.model.geo.addLine(p6, p7)\n",
    "l7 = gmsh.model.geo.addLine(p7, p8)\n",
    "l8 = gmsh.model.geo.addLine(p8, p9)\n",
    "l9 = gmsh.model.geo.addLine(p9, p10)\n",
    "l10 = gmsh.model.geo.addLine(p10, p11)\n",
    "l11 = gmsh.model.geo.addLine(p11, p12)\n",
    "l12 = gmsh.model.geo.addLine(p12, p13)\n",
    "l13 = gmsh.model.geo.addLine(p13, p14)\n",
    "l14 = gmsh.model.geo.addLine(p14, p15)\n",
    "l15 = gmsh.model.geo.addLine(p15, p16)\n",
    "l16 = gmsh.model.geo.addLine(p16, p5)\n",
    "\n",
    "c2 = gmsh.model.geo.addCurveLoop([l5,l6,l7,l8,l9,l10,l11,l12,l13,l14,l15,l16])\n",
    "\n",
    "#=\n",
    "p17 = gmsh.model.geo.addPoint(-(l + hᵢ), -(l - hᵢ), 0.0, hf)\n",
    "p18 = gmsh.model.geo.addPoint(-(p + hᵢ), -(l - hᵢ), 0.0, hf)\n",
    "p19 = gmsh.model.geo.addPoint(-(p + hᵢ), -(p + hᵢ), 0.0, hf)\n",
    "p20 = gmsh.model.geo.addPoint((p + hᵢ), -(p + hᵢ), 0.0, hf)\n",
    "p21 = gmsh.model.geo.addPoint((p + hᵢ), -(l - hᵢ), 0.0, hf)\n",
    "p22 = gmsh.model.geo.addPoint((l + hᵢ), -(l - hᵢ), 0.0, hf)\n",
    "p23 = gmsh.model.geo.addPoint((l + hᵢ), (l - hᵢ), 0.0, hf)\n",
    "p24 = gmsh.model.geo.addPoint((p + hᵢ), (l - hᵢ), 0.0, hf)\n",
    "p25 = gmsh.model.geo.addPoint((p + hᵢ), (p + hᵢ), 0.0, hf)\n",
    "p26 = gmsh.model.geo.addPoint(-(p + hᵢ), (p + hᵢ), 0.0, hf)\n",
    "p27 = gmsh.model.geo.addPoint(-(p + hᵢ), (l - hᵢ), 0.0, hf)\n",
    "p28 = gmsh.model.geo.addPoint(-(l + hᵢ), (l - hᵢ), 0.0, hf)\n",
    "\n",
    "l17 = gmsh.model.geo.addLine(p17, p18)\n",
    "l18 = gmsh.model.geo.addLine(p18, p19)\n",
    "l19 = gmsh.model.geo.addLine(p19, p20)\n",
    "l20 = gmsh.model.geo.addLine(p20, p21)\n",
    "l21 = gmsh.model.geo.addLine(p21, p22)\n",
    "l22 = gmsh.model.geo.addLine(p22, p23)\n",
    "l23 = gmsh.model.geo.addLine(p23, p24)\n",
    "l24 = gmsh.model.geo.addLine(p24, p25)\n",
    "l25 = gmsh.model.geo.addLine(p25, p26)\n",
    "l26 = gmsh.model.geo.addLine(p26, p27)\n",
    "l27 = gmsh.model.geo.addLine(p27, p28)\n",
    "l28 = gmsh.model.geo.addLine(p28, p17)\n",
    "\n",
    "c3 = gmsh.model.geo.addCurveLoop([l17,l18,l19,l20,l21,l22,l23,l24,l25,l26,l27,l28])\n",
    "\n",
    "p29 = gmsh.model.geo.addPoint(-(l - hᵢ), -(l + hᵢ), 0.0, hf)\n",
    "p30 = gmsh.model.geo.addPoint(-(p - hᵢ), -(l + hᵢ), 0.0, hf)\n",
    "p31 = gmsh.model.geo.addPoint(-(p - hᵢ), -(p - hᵢ), 0.0, hf)\n",
    "p32 = gmsh.model.geo.addPoint((p - hᵢ), -(p - hᵢ), 0.0, hf)\n",
    "p33 = gmsh.model.geo.addPoint((p - hᵢ), -(l + hᵢ), 0.0, hf)\n",
    "p34 = gmsh.model.geo.addPoint((l - hᵢ), -(l + hᵢ), 0.0, hf)\n",
    "p35 = gmsh.model.geo.addPoint((l - hᵢ), (l + hᵢ), 0.0, hf)\n",
    "p36 = gmsh.model.geo.addPoint((p - hᵢ), (l + hᵢ), 0.0, hf)\n",
    "p37 = gmsh.model.geo.addPoint((p - hᵢ), (p - hᵢ), 0.0, hf)\n",
    "p38 = gmsh.model.geo.addPoint(-(p - hᵢ), (p - hᵢ), 0.0, hf)\n",
    "p39 = gmsh.model.geo.addPoint(-(p - hᵢ), (l + hᵢ), 0.0, hf)\n",
    "p40 = gmsh.model.geo.addPoint(-(l - hᵢ), (l + hᵢ), 0.0, hf)\n",
    "\n",
    "l29 = gmsh.model.geo.addLine(p29, p30)\n",
    "l30 = gmsh.model.geo.addLine(p30, p31)\n",
    "l31 = gmsh.model.geo.addLine(p31, p32)\n",
    "l32 = gmsh.model.geo.addLine(p32, p33)\n",
    "l33 = gmsh.model.geo.addLine(p33, p34)\n",
    "l34 = gmsh.model.geo.addLine(p34, p35)\n",
    "l35 = gmsh.model.geo.addLine(p35, p36)\n",
    "l36 = gmsh.model.geo.addLine(p36, p37)\n",
    "l37 = gmsh.model.geo.addLine(p37, p38)\n",
    "l38 = gmsh.model.geo.addLine(p38, p39)\n",
    "l39 = gmsh.model.geo.addLine(p39, p40)\n",
    "l40 = gmsh.model.geo.addLine(p40, p29)\n",
    "\n",
    "c4 = gmsh.model.geo.addCurveLoop([l29,l30,l31,l32,l33,l34,l35,l36,l37,l38,l39,l40])\n",
    "=#\n",
    "\n",
    "s1 = gmsh.model.geo.addPlaneSurface([c2])\n",
    "#s2 = gmsh.model.geo.addPlaneSurface([c3,-c4])\n",
    "s3 = gmsh.model.geo.addPlaneSurface([c1,-c2])\n",
    "\n",
    "g1 = gmsh.model.addPhysicalGroup(2, [s1])\n",
    "#g2 = gmsh.model.addPhysicalGroup(2, [s2])\n",
    "g3 = gmsh.model.addPhysicalGroup(2, [s3])\n",
    "\n",
    "\n",
    "g4 = gmsh.model.addPhysicalGroup(1, [l4])\n",
    "g5 = gmsh.model.addPhysicalGroup(1, [l2])\n",
    "g6 = gmsh.model.addPhysicalGroup(1, [l4])\n",
    "g7 = gmsh.model.addPhysicalGroup(1, [l2])\n",
    "\n",
    "g8 = gmsh.model.addPhysicalGroup(1, [l1])\n",
    "g9 = gmsh.model.addPhysicalGroup(1, [l3])\n",
    "g10 = gmsh.model.addPhysicalGroup(1, [l1])\n",
    "g11 = gmsh.model.addPhysicalGroup(1, [l3])\n",
    "\n",
    "gmsh.model.setPhysicalName(1, g4, \"DirichletLeft\")\n",
    "gmsh.model.setPhysicalName(1, g5, \"DirichletRight\")\n",
    "gmsh.model.setPhysicalName(1, g6, \"ElectricPotentialleft\")\n",
    "gmsh.model.setPhysicalName(1, g7, \"ElectricPotentialright\")\n",
    "\n",
    "gmsh.model.setPhysicalName(1, g8, \"DirichletBot\")\n",
    "gmsh.model.setPhysicalName(1, g9, \"DirichletTop\")\n",
    "gmsh.model.setPhysicalName(1, g10, \"ElectricPotentialBot\")\n",
    "gmsh.model.setPhysicalName(1, g11, \"ElectricPotentialTop\")\n",
    "\n",
    "gmsh.model.setPhysicalName(2, g1, \"PiezoMat2\")\n",
    "#gmsh.model.setPhysicalName(2, g2, \"Diffused Layer\")\n",
    "gmsh.model.setPhysicalName(2, g3, \"PiezoMat1\")\n",
    "\n",
    "\n",
    "gmsh.model.geo.synchronize()\n",
    "gmsh.model.mesh.generate(2)\n",
    "gmsh.write(\"PlateWithIShape.msh\")\n",
    "gmsh.finalize()"
   ]
  },
  {
   "cell_type": "code",
   "execution_count": 69,
   "id": "d912addc",
   "metadata": {},
   "outputs": [
    {
     "name": "stdout",
     "output_type": "stream",
     "text": [
      "Info    : Reading 'PlateWithIShape.msh'...\n",
      "Info    : 34 entities\n",
      "Info    : 12591 nodes\n",
      "Info    : 25180 elements\n",
      "Info    : Done reading 'PlateWithIShape.msh'\n"
     ]
    },
    {
     "data": {
      "text/plain": [
       "3-element Vector{Vector{String}}:\n",
       " [\"PlateWithIShape_0.vtu\"]\n",
       " [\"PlateWithIShape_1.vtu\"]\n",
       " [\"PlateWithIShape_2.vtu\"]"
      ]
     },
     "execution_count": 69,
     "metadata": {},
     "output_type": "execute_result"
    }
   ],
   "source": [
    "model = GmshDiscreteModel(\"PlateWithIShape.msh\")\n",
    "writevtk(model,\"PlateWithIShape\")"
   ]
  },
  {
   "cell_type": "markdown",
   "id": "bfcb18c9",
   "metadata": {},
   "source": [
    "## Extracting Cell Points"
   ]
  },
  {
   "cell_type": "code",
   "execution_count": 70,
   "id": "0e851e47",
   "metadata": {},
   "outputs": [
    {
     "data": {
      "text/plain": [
       "Measure()"
      ]
     },
     "execution_count": 70,
     "metadata": {},
     "output_type": "execute_result"
    }
   ],
   "source": [
    "order = 1\n",
    "degree = 2*order\n",
    "Ω = Triangulation(model)\n",
    "dΩ = Measure(Ω,degree)"
   ]
  },
  {
   "cell_type": "markdown",
   "id": "b6c0ce93",
   "metadata": {},
   "source": [
    "## Constitutive Matrices"
   ]
  },
  {
   "cell_type": "markdown",
   "id": "347b6748",
   "metadata": {},
   "source": [
    "### Elastic stiffness Tensor"
   ]
  },
  {
   "cell_type": "code",
   "execution_count": 71,
   "id": "d47d555b",
   "metadata": {},
   "outputs": [],
   "source": [
    "using SpecialFunctions"
   ]
  },
  {
   "cell_type": "code",
   "execution_count": 72,
   "id": "f365ec29",
   "metadata": {},
   "outputs": [
    {
     "data": {
      "text/plain": [
       "CellPoint()"
      ]
     },
     "execution_count": 72,
     "metadata": {},
     "output_type": "execute_result"
    }
   ],
   "source": [
    "p = get_cell_points(Ω)"
   ]
  },
  {
   "cell_type": "code",
   "execution_count": 73,
   "id": "c7ec9943",
   "metadata": {},
   "outputs": [
    {
     "data": {
      "text/plain": [
       "UnconstrainedFESpace()"
      ]
     },
     "execution_count": 73,
     "metadata": {},
     "output_type": "execute_result"
    }
   ],
   "source": [
    "reffe = ReferenceFE(lagrangian,Float64,order)\n",
    "V₁ = FESpace(model, reffe, conformity=:H1)"
   ]
  },
  {
   "cell_type": "code",
   "execution_count": 74,
   "id": "8a6cc696",
   "metadata": {},
   "outputs": [
    {
     "data": {
      "text/plain": [
       "SingleFieldFEFunction():\n",
       " num_cells: 24780\n",
       " DomainStyle: ReferenceDomain()\n",
       " Triangulation: BodyFittedTriangulation()\n",
       " Triangulation id: 6170192617402105323"
      ]
     },
     "execution_count": 74,
     "metadata": {},
     "output_type": "execute_result"
    }
   ],
   "source": [
    "C₁₁ = lambdify(C₁₁)\n",
    "C₁₁l(p) = C₁₁.(p[1],p[2])\n",
    "C₁₁t = interpolate_everywhere(C₁₁l, V₁)"
   ]
  },
  {
   "cell_type": "code",
   "execution_count": 75,
   "id": "909b26f2",
   "metadata": {},
   "outputs": [
    {
     "data": {
      "text/plain": [
       "SingleFieldFEFunction():\n",
       " num_cells: 24780\n",
       " DomainStyle: ReferenceDomain()\n",
       " Triangulation: BodyFittedTriangulation()\n",
       " Triangulation id: 6170192617402105323"
      ]
     },
     "execution_count": 75,
     "metadata": {},
     "output_type": "execute_result"
    }
   ],
   "source": [
    "C₁₂ = lambdify(C₁₂)\n",
    "C₁₂l(p) = C₁₂.(p[1],p[2])\n",
    "C₁₂t = interpolate_everywhere(C₁₂l, V₁)"
   ]
  },
  {
   "cell_type": "code",
   "execution_count": 76,
   "id": "fbf8a6b1",
   "metadata": {},
   "outputs": [
    {
     "data": {
      "text/plain": [
       "SingleFieldFEFunction():\n",
       " num_cells: 24780\n",
       " DomainStyle: ReferenceDomain()\n",
       " Triangulation: BodyFittedTriangulation()\n",
       " Triangulation id: 6170192617402105323"
      ]
     },
     "execution_count": 76,
     "metadata": {},
     "output_type": "execute_result"
    }
   ],
   "source": [
    "C₆₆ = lambdify(C₆₆)\n",
    "C₆₆l(p) = C₆₆.(p[1],p[2])\n",
    "C₆₆t = interpolate_everywhere(C₆₆l, V₁)"
   ]
  },
  {
   "cell_type": "code",
   "execution_count": 77,
   "id": "d7878fda",
   "metadata": {},
   "outputs": [
    {
     "data": {
      "text/plain": [
       "SingleFieldFEFunction():\n",
       " num_cells: 24780\n",
       " DomainStyle: ReferenceDomain()\n",
       " Triangulation: BodyFittedTriangulation()\n",
       " Triangulation id: 6170192617402105323"
      ]
     },
     "execution_count": 77,
     "metadata": {},
     "output_type": "execute_result"
    }
   ],
   "source": [
    "e₁₁ = lambdify(e₁₁)\n",
    "e₁₁l(p) = e₁₁.(p[1],p[2])\n",
    "e₁₁t = interpolate_everywhere(e₁₁l, V₁)"
   ]
  },
  {
   "cell_type": "code",
   "execution_count": 78,
   "id": "ef808d01",
   "metadata": {},
   "outputs": [
    {
     "data": {
      "text/plain": [
       "SingleFieldFEFunction():\n",
       " num_cells: 24780\n",
       " DomainStyle: ReferenceDomain()\n",
       " Triangulation: BodyFittedTriangulation()\n",
       " Triangulation id: 6170192617402105323"
      ]
     },
     "execution_count": 78,
     "metadata": {},
     "output_type": "execute_result"
    }
   ],
   "source": [
    "e₂₁ = lambdify(e₂₁)\n",
    "e₂₁l(p) = e₂₁.(p[1],p[2])\n",
    "e₂₁t = interpolate_everywhere(e₂₁l, V₁)"
   ]
  },
  {
   "cell_type": "code",
   "execution_count": 79,
   "id": "ac3e2327",
   "metadata": {},
   "outputs": [
    {
     "data": {
      "text/plain": [
       "SingleFieldFEFunction():\n",
       " num_cells: 24780\n",
       " DomainStyle: ReferenceDomain()\n",
       " Triangulation: BodyFittedTriangulation()\n",
       " Triangulation id: 6170192617402105323"
      ]
     },
     "execution_count": 79,
     "metadata": {},
     "output_type": "execute_result"
    }
   ],
   "source": [
    "e₂₂ = lambdify(e₂₂)\n",
    "e₂₂l(p) = e₂₂.(p[1],p[2])\n",
    "e₂₂t = interpolate_everywhere(e₂₂l, V₁)"
   ]
  },
  {
   "cell_type": "code",
   "execution_count": 80,
   "id": "2483f41f",
   "metadata": {},
   "outputs": [
    {
     "data": {
      "text/plain": [
       "SingleFieldFEFunction():\n",
       " num_cells: 24780\n",
       " DomainStyle: ReferenceDomain()\n",
       " Triangulation: BodyFittedTriangulation()\n",
       " Triangulation id: 6170192617402105323"
      ]
     },
     "execution_count": 80,
     "metadata": {},
     "output_type": "execute_result"
    }
   ],
   "source": [
    "e₂₃ = lambdify(e₂₃)\n",
    "e₂₃l(p) = e₂₃.(p[1],p[2])\n",
    "e₂₃t = interpolate_everywhere(e₂₃l, V₁)"
   ]
  },
  {
   "cell_type": "code",
   "execution_count": 81,
   "id": "7b8cec80",
   "metadata": {},
   "outputs": [
    {
     "data": {
      "text/plain": [
       "SingleFieldFEFunction():\n",
       " num_cells: 24780\n",
       " DomainStyle: ReferenceDomain()\n",
       " Triangulation: BodyFittedTriangulation()\n",
       " Triangulation id: 6170192617402105323"
      ]
     },
     "execution_count": 81,
     "metadata": {},
     "output_type": "execute_result"
    }
   ],
   "source": [
    "k₁ = lambdify(k₁₁)\n",
    "k₁₁l(p) = k₁.(p[1],p[2])\n",
    "k₁₁t = interpolate_everywhere(k₁₁l, V₁)"
   ]
  },
  {
   "cell_type": "code",
   "execution_count": 82,
   "id": "08114474",
   "metadata": {},
   "outputs": [
    {
     "data": {
      "text/plain": [
       "SingleFieldFEFunction():\n",
       " num_cells: 24780\n",
       " DomainStyle: ReferenceDomain()\n",
       " Triangulation: BodyFittedTriangulation()\n",
       " Triangulation id: 6170192617402105323"
      ]
     },
     "execution_count": 82,
     "metadata": {},
     "output_type": "execute_result"
    }
   ],
   "source": [
    "k₂ = lambdify(k₂₂)\n",
    "k₂₂l(p) = k₂.(p[1],p[2])\n",
    "k₂₂t = interpolate_everywhere(k₂₂l, V₁)"
   ]
  },
  {
   "cell_type": "code",
   "execution_count": 83,
   "id": "065ea6ea",
   "metadata": {},
   "outputs": [
    {
     "data": {
      "text/plain": [
       "([\"Material_Properties.vtu\"],)"
      ]
     },
     "execution_count": 83,
     "metadata": {},
     "output_type": "execute_result"
    }
   ],
   "source": [
    " writevtk(Ω,\"Material_Properties\",cellfields=\n",
    "        [\"C₁₁\"=>C₁₁t,\"C₁₂\"=>C₁₂t, \"C₆₆\"=>C₆₆t, \"e₁₁\"=>e₁₁t,\"e₂₁\"=>e₂₁t, \n",
    "        \"e₂₂\"=>e₂₂t, \"e₂₃\"=>e₂₃t, \"k₁₁\"=>k₁₁t, \"k₂₂\"=>k₂₂t])"
   ]
  },
  {
   "cell_type": "code",
   "execution_count": 84,
   "id": "d858f759",
   "metadata": {},
   "outputs": [
    {
     "data": {
      "text/plain": [
       "ElasFourthOrderConstTensor (generic function with 1 method)"
      ]
     },
     "execution_count": 84,
     "metadata": {},
     "output_type": "execute_result"
    }
   ],
   "source": [
    "function ElasFourthOrderConstTensor(C₁₁,C₁₂,C₆₆)\n",
    "      C1111 = C₁₁\n",
    "      C1122 = C₁₂\n",
    "      C1112 = 0.0\n",
    "      C2222 = C₁₁\n",
    "      C2212 = 0.0\n",
    "      C1212 = C₆₆    \n",
    "      C_ten = SymFourthOrderTensorValue(C1111,C1112,C1122,C1112,C1212,C2212,C1122,C2212,C2222)\n",
    "    return  C_ten\n",
    "end"
   ]
  },
  {
   "cell_type": "markdown",
   "id": "f58281a1",
   "metadata": {},
   "source": [
    "### Third order piezoelectric tensor"
   ]
  },
  {
   "cell_type": "code",
   "execution_count": 85,
   "id": "fdae8ce0",
   "metadata": {},
   "outputs": [
    {
     "data": {
      "text/plain": [
       "PiezoThirdOrderConstTensor (generic function with 1 method)"
      ]
     },
     "execution_count": 85,
     "metadata": {},
     "output_type": "execute_result"
    }
   ],
   "source": [
    "function PiezoThirdOrderConstTensor(e₁₁,e₂₁,e₂₂,e₂₃)\n",
    "    # 1 for Plane Stress and 2 Plane Strain Condition \n",
    "      e111 = e₁₁\n",
    "      e112 = 0.0\n",
    "      e121 = 0.0\n",
    "      e122 = 0.0\n",
    "      e211 = e₂₁\n",
    "      e212 = e₂₃\n",
    "      e221 = e₂₃\n",
    "      e222 = e₂₂   \n",
    "    vals = zeros(2,2,2);\n",
    "    vals[1,:,:] .= [e111 e112\n",
    "                    e121 e122]\n",
    "    vals[2,:,:] .= [e211 e212\n",
    "                    e221 e222]\n",
    "    e_ten = ThirdOrderTensorValue(vals ...)\n",
    "    return  e_ten\n",
    "end"
   ]
  },
  {
   "cell_type": "markdown",
   "id": "b22e4f72",
   "metadata": {},
   "source": [
    "## Stress\n",
    "$\\sigma_{elas}(\\epsilon(\\boldsymbol{u})) =  \\mathbb{C}\\,\\boldsymbol{\\epsilon}$\n",
    "\n",
    "$\\sigma_{piezo}(\\nabla\\phi) =  \\mathbb{e}^T\\,\\boldsymbol{\\nabla}\\phi$"
   ]
  },
  {
   "cell_type": "code",
   "execution_count": 86,
   "id": "80047232",
   "metadata": {},
   "outputs": [
    {
     "data": {
      "text/plain": [
       "σ_piezo (generic function with 1 method)"
      ]
     },
     "execution_count": 86,
     "metadata": {},
     "output_type": "execute_result"
    }
   ],
   "source": [
    "σ_elas(ε,C₁₁t,C₁₂t,C₆₆t) = ElasFourthOrderConstTensor(C₁₁t,C₁₂t,C₆₆t) ⊙ ε\n",
    "\n",
    "σ_piezo(∇,e₁₁t,e₂₁t,e₂₂t,e₂₃t) = ∇ ⋅ PiezoThirdOrderConstTensor(e₁₁t,e₂₁t,e₂₂t,e₂₃t)"
   ]
  },
  {
   "cell_type": "markdown",
   "id": "fe9fbcf4",
   "metadata": {},
   "source": [
    "## Electric Displacement\n",
    "\n",
    "$\\boldsymbol{D}_{piezo}(\\nabla\\phi)  = \\boldsymbol{K}\\boldsymbol{\\nabla} \\phi$"
   ]
  },
  {
   "cell_type": "code",
   "execution_count": 87,
   "id": "3f5fcf90",
   "metadata": {},
   "outputs": [
    {
     "data": {
      "text/plain": [
       "D_piezo (generic function with 1 method)"
      ]
     },
     "execution_count": 87,
     "metadata": {},
     "output_type": "execute_result"
    }
   ],
   "source": [
    "D_elas(ε,e₁₁t,e₂₁t,e₂₂t,e₂₃t) = PiezoThirdOrderConstTensor(e₁₁t,e₂₁t,e₂₂t,e₂₃t) ⋅² ε\n",
    "\n",
    "D_piezo(∇,k₁₁t,k₂₂t) = TensorValue(k₁₁t,0.0,0.0, k₂₂t) ⋅ ∇"
   ]
  },
  {
   "cell_type": "markdown",
   "id": "ce1825e2",
   "metadata": {},
   "source": [
    "## FE formulation"
   ]
  },
  {
   "cell_type": "code",
   "execution_count": 88,
   "id": "af0e101d",
   "metadata": {},
   "outputs": [
    {
     "data": {
      "text/plain": [
       "project (generic function with 1 method)"
      ]
     },
     "execution_count": 88,
     "metadata": {},
     "output_type": "execute_result"
    }
   ],
   "source": [
    "function project(q,model,dΩ,order)\n",
    "  reffe = ReferenceFE(lagrangian,Float64,order)\n",
    "  V = FESpace(model,reffe,conformity=:L2)\n",
    "  a(u,v) = ∫( u*v )*dΩ\n",
    "  l(v) = ∫( v*q )*dΩ\n",
    "  op = AffineFEOperator(a,l,V,V)\n",
    "  qh = Gridap.solve(op)\n",
    "  qh\n",
    "end"
   ]
  },
  {
   "cell_type": "code",
   "execution_count": 89,
   "id": "5452e651",
   "metadata": {},
   "outputs": [
    {
     "data": {
      "text/plain": [
       "SingleFieldFEFunction():\n",
       " num_cells: 24780\n",
       " DomainStyle: ReferenceDomain()\n",
       " Triangulation: BodyFittedTriangulation()\n",
       " Triangulation id: 6170192617402105323"
      ]
     },
     "execution_count": 89,
     "metadata": {},
     "output_type": "execute_result"
    }
   ],
   "source": [
    "reffe_Disp = ReferenceFE(lagrangian,VectorValue{2,Float64},order)\n",
    "        V0_Disp = TestFESpace(model,reffe_Disp;\n",
    "          conformity=:H1,\n",
    "          dirichlet_tags=[\"DirichletBot\",\"DirichletRight\",\"DirichletTop\",\"DirichletLeft\"],\n",
    "          dirichlet_masks=[(true,true), (true,true),(true,true), (true,true)])\n",
    "\n",
    "uh = zero(V0_Disp)"
   ]
  },
  {
   "cell_type": "code",
   "execution_count": 90,
   "id": "27ed9953",
   "metadata": {},
   "outputs": [
    {
     "data": {
      "text/plain": [
       "UnconstrainedFESpace()"
      ]
     },
     "execution_count": 90,
     "metadata": {},
     "output_type": "execute_result"
    }
   ],
   "source": [
    "reffe_ElecPot = ReferenceFE(lagrangian,Float64,order)\n",
    "V0_ElecPot  = TestFESpace(model,reffe_ElecPot;\n",
    "  conformity=:H1,\n",
    "  dirichlet_tags=[\"ElectricPotentialBot\",\"ElectricPotentialright\",\"ElectricPotentialTop\",\"ElectricPotentialleft\"],\n",
    "  dirichlet_masks=[true,true,true,true])"
   ]
  },
  {
   "cell_type": "code",
   "execution_count": 91,
   "id": "ebe0839b",
   "metadata": {},
   "outputs": [
    {
     "data": {
      "text/plain": [
       "MultiFieldFESpace()"
      ]
     },
     "execution_count": 91,
     "metadata": {},
     "output_type": "execute_result"
    }
   ],
   "source": [
    "V0 = MultiFieldFESpace([V0_Disp,V0_ElecPot])"
   ]
  },
  {
   "cell_type": "code",
   "execution_count": 92,
   "id": "f99fb166",
   "metadata": {},
   "outputs": [
    {
     "data": {
      "text/plain": [
       "stepDispElecPot (generic function with 1 method)"
      ]
     },
     "execution_count": 92,
     "metadata": {},
     "output_type": "execute_result"
    }
   ],
   "source": [
    " function   stepDispElecPot(uh_in,phih_in,vApp,phiApp)\n",
    "    \n",
    "        uApp1(x) = VectorValue(0.0,0.0)\n",
    "        uApp2(x) = VectorValue(vApp,0.0)\n",
    "        uApp3(x) = VectorValue(0.0,0.0)\n",
    "        uApp4(x) = VectorValue(0.0,0.0)\n",
    "        U_Disp = TrialFESpace(V0_Disp,[uApp1,uApp2,uApp3,uApp4])\n",
    "    \n",
    "        phiApp1(x) = 0.0\n",
    "        phiApp2(x) = phiApp\n",
    "        phiApp3(x) = 0.0\n",
    "        phiApp4(x) = 0.0\n",
    "        U_ElecPot = TrialFESpace(V0_ElecPot,[phiApp1,phiApp2,phiApp3,phiApp4])\n",
    "    \n",
    "        U = MultiFieldFESpace([U_Disp,U_ElecPot])\n",
    "    \n",
    "        a((u,ϕ),(v,ψ)) = ∫( (ε(v) ⊙ (σ_elas∘(ε(u),C₁₁t,C₁₂t,C₆₆t))) + (∇(v) ⊙ (σ_piezo∘(∇(ϕ),e₁₁t,e₂₁t,e₂₂t,e₂₃t))) - (∇(ψ)⋅(D_piezo∘(∇(ϕ),k₁₁t,k₂₂t))) + (∇(ψ)⋅(D_elas∘(ε(u),e₁₁t,e₂₁t,e₂₂t,e₂₃t))) )*dΩ\n",
    "        b((v,ψ)) = 0.0\n",
    "    \n",
    "        op = AffineFEOperator(a,b,U,V0)\n",
    "        uhPhi = Gridap.solve(op)\n",
    "        uh_out,phih_out = uhPhi\n",
    "    \n",
    "    return uh_out,phih_out\n",
    "end"
   ]
  },
  {
   "cell_type": "code",
   "execution_count": 93,
   "id": "78bf963b",
   "metadata": {},
   "outputs": [
    {
     "data": {
      "text/plain": [
       "(SingleFieldFEFunction(), SingleFieldFEFunction())"
      ]
     },
     "execution_count": 93,
     "metadata": {},
     "output_type": "execute_result"
    }
   ],
   "source": [
    "vApp = 1.0\n",
    "phiApp = 0.0\n",
    "ϕPrev = CellState(0.0,dΩ)\n",
    "ϕh = project(ϕPrev,model,dΩ,order)\n",
    " \n",
    "uh,ϕh = stepDispElecPot(uh,ϕh,vApp,phiApp)"
   ]
  },
  {
   "cell_type": "code",
   "execution_count": 94,
   "id": "87137799",
   "metadata": {},
   "outputs": [
    {
     "data": {
      "text/plain": [
       "([\"results_PlateWithIShaped11.vtu\"],)"
      ]
     },
     "execution_count": 94,
     "metadata": {},
     "output_type": "execute_result"
    }
   ],
   "source": [
    " writevtk(Ω,\"results_PlateWithIShaped11\",cellfields=\n",
    "        [\"uh\"=>uh,\"phi\"=>ϕh, \"epsi\"=>ε(uh), \"ElecF\"=>-∇(ϕh), \"SigmaE\"=>(σ_elas∘(ε(uh),C₁₁t,C₁₂t,C₆₆t)), \n",
    "        \"SigmaD\"=>(σ_piezo∘(∇(ϕh),e₁₁t,e₂₁t,e₂₂t,e₂₃t)), \"Elec\"=>(D_elas∘(ε(uh),e₁₁t,e₂₁t,e₂₂t,e₂₃t)),\n",
    "        \"ElecD\"=>(D_piezo∘(∇(ϕh),k₁₁t,k₂₂t))])"
   ]
  },
  {
   "cell_type": "code",
   "execution_count": 95,
   "id": "c743298d",
   "metadata": {},
   "outputs": [
    {
     "name": "stderr",
     "output_type": "stream",
     "text": [
      "WARNING: using Algebra.solve in module Main conflicts with an existing identifier.\n"
     ]
    }
   ],
   "source": [
    "using Gridap.Helpers\n",
    "using Gridap.MultiField\n",
    "using Gridap.Polynomials\n",
    "using Gridap.Arrays\n",
    "using Gridap.FESpaces\n",
    "using Gridap.Algebra"
   ]
  },
  {
   "cell_type": "code",
   "execution_count": 96,
   "id": "3ec6c46c",
   "metadata": {},
   "outputs": [],
   "source": [
    "Gr = get_grid(model)\n",
    "Nₑ = num_cells(model)\n",
    "elem = get_cell_node_ids(Gr);"
   ]
  },
  {
   "cell_type": "code",
   "execution_count": 97,
   "id": "0a053bbc",
   "metadata": {},
   "outputs": [],
   "source": [
    "nodes = get_node_coordinates(Gr)\n",
    "Nₙ = num_nodes(model)\n",
    "nodeCoordX = [nodes[i][1] for i in 1:Nₙ]\n",
    "nodeCoordY = [nodes[i][2] for i in 1:Nₙ];"
   ]
  },
  {
   "cell_type": "code",
   "execution_count": 98,
   "id": "ba209b5b",
   "metadata": {},
   "outputs": [],
   "source": [
    "dataStrain = get_array(ε(uh))\n",
    "ϵVec = return_value(dataStrain,Point(nodeCoordX[1],nodeCoordY[1]));"
   ]
  },
  {
   "cell_type": "code",
   "execution_count": 99,
   "id": "86b739bb",
   "metadata": {},
   "outputs": [],
   "source": [
    "ϵ11El = [ϵVec[i][1,1] for i in 1:Nₑ] \n",
    "ϵ12El = [ϵVec[i][1,2] for i in 1:Nₑ] \n",
    "ϵ22El = [ϵVec[i][1,3] for i in 1:Nₑ];"
   ]
  },
  {
   "cell_type": "code",
   "execution_count": 100,
   "id": "ca884c71",
   "metadata": {},
   "outputs": [],
   "source": [
    "dataStress = get_data(σ_elas∘(ε(uh),C₁₁t,C₁₂t,C₆₆t))\n",
    "σVec = return_value(dataStress,Point(nodeCoordX[1],nodeCoordY[1]));"
   ]
  },
  {
   "cell_type": "code",
   "execution_count": 101,
   "id": "9730769b",
   "metadata": {},
   "outputs": [],
   "source": [
    "σ11E = [σVec[i][1,1] for i in 1:Nₑ] \n",
    "σ12E = [σVec[i][1,2] for i in 1:Nₑ] \n",
    "σ22E = [σVec[i][1,3] for i in 1:Nₑ];"
   ]
  },
  {
   "cell_type": "code",
   "execution_count": 102,
   "id": "bab804d6",
   "metadata": {},
   "outputs": [],
   "source": [
    "dataStress1 = get_data(σ_piezo∘(-∇(ϕh),e₁₁t,e₂₁t,e₂₂t,e₂₃t))\n",
    "PVec = return_value(dataStress1,Point(nodeCoordX[1],nodeCoordY[1]));"
   ]
  },
  {
   "cell_type": "code",
   "execution_count": 103,
   "id": "81a073b4",
   "metadata": {},
   "outputs": [],
   "source": [
    "P11El = [PVec[i][1] for i in 1:Nₑ] \n",
    "P12El = [PVec[i][2] for i in 1:Nₑ] \n",
    "P21El = [PVec[i][3] for i in 1:Nₑ]\n",
    "P22El = [PVec[i][4] for i in 1:Nₑ];"
   ]
  },
  {
   "cell_type": "code",
   "execution_count": 104,
   "id": "14e0089f",
   "metadata": {},
   "outputs": [],
   "source": [
    "σ11El = σ11E + P11El\n",
    "σ12El = σ12E + P12El\n",
    "σ22El = σ22E + P22El;"
   ]
  },
  {
   "cell_type": "code",
   "execution_count": 105,
   "id": "b948ee71",
   "metadata": {},
   "outputs": [
    {
     "data": {
      "text/plain": [
       "5274.924333630409"
      ]
     },
     "execution_count": 105,
     "metadata": {},
     "output_type": "execute_result"
    }
   ],
   "source": [
    "AreaEl = get_cell_measure(Ω)\n",
    "σ11Avg = sum([σ11El[i]*AreaEl[i] for i in 1:Nₑ])/sum(AreaEl)\n",
    "ϵ11Avg = sum([ϵ11El[i]*AreaEl[i] for i in 1:Nₑ])/sum(AreaEl)\n",
    "C₁₁eff = σ11Avg/ϵ11Avg"
   ]
  },
  {
   "cell_type": "code",
   "execution_count": 106,
   "id": "dcf162e1",
   "metadata": {},
   "outputs": [
    {
     "data": {
      "text/plain": [
       "2017.562948418361"
      ]
     },
     "execution_count": 106,
     "metadata": {},
     "output_type": "execute_result"
    }
   ],
   "source": [
    "AreaEl = get_cell_measure(Ω)\n",
    "σ22Avg = sum([σ22El[i]*AreaEl[i] for i in 1:Nₑ])/sum(AreaEl)\n",
    "ϵ11Avg = sum([ϵ11El[i]*AreaEl[i] for i in 1:Nₑ])/sum(AreaEl)\n",
    "C₁₂eff = σ22Avg/ϵ11Avg"
   ]
  },
  {
   "cell_type": "code",
   "execution_count": 107,
   "id": "fd5f1f6e",
   "metadata": {},
   "outputs": [],
   "source": [
    "dataDisp = get_data(D_elas∘(ε(uh),e₁₁t,e₂₁t,e₂₂t,e₂₃t))\n",
    "DVec = return_value(dataDisp,Point(nodeCoordX[1],nodeCoordY[1]));"
   ]
  },
  {
   "cell_type": "code",
   "execution_count": 108,
   "id": "55a44f6d",
   "metadata": {},
   "outputs": [],
   "source": [
    "D11E = [DVec[i][1] for i in 1:Nₑ] \n",
    "D22E = [DVec[i][2] for i in 1:Nₑ];"
   ]
  },
  {
   "cell_type": "code",
   "execution_count": 109,
   "id": "65f186df",
   "metadata": {},
   "outputs": [],
   "source": [
    "dataDisp1 = get_data(D_piezo∘(∇(-ϕh),k₁₁t,k₂₂t))\n",
    "AVec = return_value(dataDisp1,Point(nodeCoordX[1],nodeCoordY[1]));"
   ]
  },
  {
   "cell_type": "code",
   "execution_count": 110,
   "id": "7d05aa59",
   "metadata": {},
   "outputs": [],
   "source": [
    "a11El = [AVec[i][1] for i in 1:Nₑ] \n",
    "a22El = [AVec[i][2] for i in 1:Nₑ];"
   ]
  },
  {
   "cell_type": "code",
   "execution_count": 111,
   "id": "eac67f95",
   "metadata": {},
   "outputs": [],
   "source": [
    "D11El = D11E + a11El\n",
    "D22El = D22E + a22El;"
   ]
  },
  {
   "cell_type": "code",
   "execution_count": 112,
   "id": "dbc96440",
   "metadata": {},
   "outputs": [
    {
     "data": {
      "text/plain": [
       "0.8158176598047938"
      ]
     },
     "execution_count": 112,
     "metadata": {},
     "output_type": "execute_result"
    }
   ],
   "source": [
    "AreaEl = get_cell_measure(Ω)\n",
    "D11Avg = sum([D11El[i]*AreaEl[i] for i in 1:Nₑ])/sum(AreaEl)\n",
    "ϵ11Avg = sum([ϵ11El[i]*AreaEl[i] for i in 1:Nₑ])/sum(AreaEl)\n",
    "e₁₁eff = D11Avg/ϵ11Avg"
   ]
  },
  {
   "cell_type": "code",
   "execution_count": 113,
   "id": "ab30c871",
   "metadata": {},
   "outputs": [
    {
     "data": {
      "text/plain": [
       "3-element Vector{Float64}:\n",
       " 5274.924333630409\n",
       " 2017.562948418361\n",
       "    0.8158176598047938"
      ]
     },
     "execution_count": 113,
     "metadata": {},
     "output_type": "execute_result"
    }
   ],
   "source": [
    "d = [C₁₁eff;C₁₂eff;e₁₁eff]"
   ]
  }
 ],
 "metadata": {
  "kernelspec": {
   "display_name": "Julia 1.7.3",
   "language": "julia",
   "name": "julia-1.7"
  },
  "language_info": {
   "file_extension": ".jl",
   "mimetype": "application/julia",
   "name": "julia",
   "version": "1.7.3"
  }
 },
 "nbformat": 4,
 "nbformat_minor": 5
}
